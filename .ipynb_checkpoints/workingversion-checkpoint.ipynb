{
 "cells": [
  {
   "cell_type": "code",
   "execution_count": 2,
   "id": "d379d886-50bd-4ef7-8562-6d109efba73f",
   "metadata": {},
   "outputs": [
    {
     "data": {
      "application/javascript": [
       "(function(root) {\n",
       "  function now() {\n",
       "    return new Date();\n",
       "  }\n",
       "\n",
       "  var force = true;\n",
       "  var py_version = '3.2.1'.replace('rc', '-rc.').replace('.dev', '-dev.');\n",
       "  var is_dev = py_version.indexOf(\"+\") !== -1 || py_version.indexOf(\"-\") !== -1;\n",
       "  var reloading = false;\n",
       "  var Bokeh = root.Bokeh;\n",
       "  var bokeh_loaded = Bokeh != null && (Bokeh.version === py_version || (Bokeh.versions !== undefined && Bokeh.versions.has(py_version)));\n",
       "\n",
       "  if (typeof (root._bokeh_timeout) === \"undefined\" || force) {\n",
       "    root._bokeh_timeout = Date.now() + 5000;\n",
       "    root._bokeh_failed_load = false;\n",
       "  }\n",
       "\n",
       "  function run_callbacks() {\n",
       "    try {\n",
       "      root._bokeh_onload_callbacks.forEach(function(callback) {\n",
       "        if (callback != null)\n",
       "          callback();\n",
       "      });\n",
       "    } finally {\n",
       "      delete root._bokeh_onload_callbacks;\n",
       "    }\n",
       "    console.debug(\"Bokeh: all callbacks have finished\");\n",
       "  }\n",
       "\n",
       "  function load_libs(css_urls, js_urls, js_modules, js_exports, callback) {\n",
       "    if (css_urls == null) css_urls = [];\n",
       "    if (js_urls == null) js_urls = [];\n",
       "    if (js_modules == null) js_modules = [];\n",
       "    if (js_exports == null) js_exports = {};\n",
       "\n",
       "    root._bokeh_onload_callbacks.push(callback);\n",
       "\n",
       "    if (root._bokeh_is_loading > 0) {\n",
       "      console.debug(\"Bokeh: BokehJS is being loaded, scheduling callback at\", now());\n",
       "      return null;\n",
       "    }\n",
       "    if (js_urls.length === 0 && js_modules.length === 0 && Object.keys(js_exports).length === 0) {\n",
       "      run_callbacks();\n",
       "      return null;\n",
       "    }\n",
       "    if (!reloading) {\n",
       "      console.debug(\"Bokeh: BokehJS not loaded, scheduling load and callback at\", now());\n",
       "    }\n",
       "\n",
       "    function on_load() {\n",
       "      root._bokeh_is_loading--;\n",
       "      if (root._bokeh_is_loading === 0) {\n",
       "        console.debug(\"Bokeh: all BokehJS libraries/stylesheets loaded\");\n",
       "        run_callbacks()\n",
       "      }\n",
       "    }\n",
       "    window._bokeh_on_load = on_load\n",
       "\n",
       "    function on_error() {\n",
       "      console.error(\"failed to load \" + url);\n",
       "    }\n",
       "\n",
       "    var skip = [];\n",
       "    if (window.requirejs) {\n",
       "      window.requirejs.config({'packages': {}, 'paths': {'tabulator': 'https://cdn.jsdelivr.net/npm/tabulator-tables@5.5.0/dist/js/tabulator', 'moment': 'https://cdn.jsdelivr.net/npm/luxon/build/global/luxon.min', 'jspanel': 'https://cdn.jsdelivr.net/npm/jspanel4@4.12.0/dist/jspanel', 'jspanel-modal': 'https://cdn.jsdelivr.net/npm/jspanel4@4.12.0/dist/extensions/modal/jspanel.modal', 'jspanel-tooltip': 'https://cdn.jsdelivr.net/npm/jspanel4@4.12.0/dist/extensions/tooltip/jspanel.tooltip', 'jspanel-hint': 'https://cdn.jsdelivr.net/npm/jspanel4@4.12.0/dist/extensions/hint/jspanel.hint', 'jspanel-layout': 'https://cdn.jsdelivr.net/npm/jspanel4@4.12.0/dist/extensions/layout/jspanel.layout', 'jspanel-contextmenu': 'https://cdn.jsdelivr.net/npm/jspanel4@4.12.0/dist/extensions/contextmenu/jspanel.contextmenu', 'jspanel-dock': 'https://cdn.jsdelivr.net/npm/jspanel4@4.12.0/dist/extensions/dock/jspanel.dock', 'gridstack': 'https://cdn.jsdelivr.net/npm/gridstack@7.2.3/dist/gridstack-all', 'notyf': 'https://cdn.jsdelivr.net/npm/notyf@3/notyf.min'}, 'shim': {'jspanel': {'exports': 'jsPanel'}, 'gridstack': {'exports': 'GridStack'}}});\n",
       "      require([\"tabulator\"], function(Tabulator) {\n",
       "\twindow.Tabulator = Tabulator\n",
       "\ton_load()\n",
       "      })\n",
       "      require([\"moment\"], function(moment) {\n",
       "\twindow.moment = moment\n",
       "\ton_load()\n",
       "      })\n",
       "      require([\"jspanel\"], function(jsPanel) {\n",
       "\twindow.jsPanel = jsPanel\n",
       "\ton_load()\n",
       "      })\n",
       "      require([\"jspanel-modal\"], function() {\n",
       "\ton_load()\n",
       "      })\n",
       "      require([\"jspanel-tooltip\"], function() {\n",
       "\ton_load()\n",
       "      })\n",
       "      require([\"jspanel-hint\"], function() {\n",
       "\ton_load()\n",
       "      })\n",
       "      require([\"jspanel-layout\"], function() {\n",
       "\ton_load()\n",
       "      })\n",
       "      require([\"jspanel-contextmenu\"], function() {\n",
       "\ton_load()\n",
       "      })\n",
       "      require([\"jspanel-dock\"], function() {\n",
       "\ton_load()\n",
       "      })\n",
       "      require([\"gridstack\"], function(GridStack) {\n",
       "\twindow.GridStack = GridStack\n",
       "\ton_load()\n",
       "      })\n",
       "      require([\"notyf\"], function() {\n",
       "\ton_load()\n",
       "      })\n",
       "      root._bokeh_is_loading = css_urls.length + 11;\n",
       "    } else {\n",
       "      root._bokeh_is_loading = css_urls.length + js_urls.length + js_modules.length + Object.keys(js_exports).length;\n",
       "    }\n",
       "\n",
       "    var existing_stylesheets = []\n",
       "    var links = document.getElementsByTagName('link')\n",
       "    for (var i = 0; i < links.length; i++) {\n",
       "      var link = links[i]\n",
       "      if (link.href != null) {\n",
       "\texisting_stylesheets.push(link.href)\n",
       "      }\n",
       "    }\n",
       "    for (var i = 0; i < css_urls.length; i++) {\n",
       "      var url = css_urls[i];\n",
       "      if (existing_stylesheets.indexOf(url) !== -1) {\n",
       "\ton_load()\n",
       "\tcontinue;\n",
       "      }\n",
       "      const element = document.createElement(\"link\");\n",
       "      element.onload = on_load;\n",
       "      element.onerror = on_error;\n",
       "      element.rel = \"stylesheet\";\n",
       "      element.type = \"text/css\";\n",
       "      element.href = url;\n",
       "      console.debug(\"Bokeh: injecting link tag for BokehJS stylesheet: \", url);\n",
       "      document.body.appendChild(element);\n",
       "    }    if (((window['Tabulator'] !== undefined) && (!(window['Tabulator'] instanceof HTMLElement))) || window.requirejs) {\n",
       "      var urls = ['https://cdn.holoviz.org/panel/1.2.0/dist/bundled/datatabulator/tabulator-tables@5.5.0/dist/js/tabulator.js'];\n",
       "      for (var i = 0; i < urls.length; i++) {\n",
       "        skip.push(urls[i])\n",
       "      }\n",
       "    }    if (((window['moment'] !== undefined) && (!(window['moment'] instanceof HTMLElement))) || window.requirejs) {\n",
       "      var urls = ['https://cdn.holoviz.org/panel/1.2.0/dist/bundled/datatabulator/luxon/build/global/luxon.min.js'];\n",
       "      for (var i = 0; i < urls.length; i++) {\n",
       "        skip.push(urls[i])\n",
       "      }\n",
       "    }    if (((window['jsPanel'] !== undefined) && (!(window['jsPanel'] instanceof HTMLElement))) || window.requirejs) {\n",
       "      var urls = ['https://cdn.holoviz.org/panel/1.2.0/dist/bundled/floatpanel/jspanel4@4.12.0/dist/jspanel.js', 'https://cdn.holoviz.org/panel/1.2.0/dist/bundled/floatpanel/jspanel4@4.12.0/dist/extensions/modal/jspanel.modal.js', 'https://cdn.holoviz.org/panel/1.2.0/dist/bundled/floatpanel/jspanel4@4.12.0/dist/extensions/tooltip/jspanel.tooltip.js', 'https://cdn.holoviz.org/panel/1.2.0/dist/bundled/floatpanel/jspanel4@4.12.0/dist/extensions/hint/jspanel.hint.js', 'https://cdn.holoviz.org/panel/1.2.0/dist/bundled/floatpanel/jspanel4@4.12.0/dist/extensions/layout/jspanel.layout.js', 'https://cdn.holoviz.org/panel/1.2.0/dist/bundled/floatpanel/jspanel4@4.12.0/dist/extensions/contextmenu/jspanel.contextmenu.js', 'https://cdn.holoviz.org/panel/1.2.0/dist/bundled/floatpanel/jspanel4@4.12.0/dist/extensions/dock/jspanel.dock.js'];\n",
       "      for (var i = 0; i < urls.length; i++) {\n",
       "        skip.push(urls[i])\n",
       "      }\n",
       "    }    if (((window['GridStack'] !== undefined) && (!(window['GridStack'] instanceof HTMLElement))) || window.requirejs) {\n",
       "      var urls = ['https://cdn.holoviz.org/panel/1.2.0/dist/bundled/gridstack/gridstack@7.2.3/dist/gridstack-all.js'];\n",
       "      for (var i = 0; i < urls.length; i++) {\n",
       "        skip.push(urls[i])\n",
       "      }\n",
       "    }    if (((window['Notyf'] !== undefined) && (!(window['Notyf'] instanceof HTMLElement))) || window.requirejs) {\n",
       "      var urls = ['https://cdn.holoviz.org/panel/1.2.0/dist/bundled/notificationarea/notyf@3/notyf.min.js'];\n",
       "      for (var i = 0; i < urls.length; i++) {\n",
       "        skip.push(urls[i])\n",
       "      }\n",
       "    }    var existing_scripts = []\n",
       "    var scripts = document.getElementsByTagName('script')\n",
       "    for (var i = 0; i < scripts.length; i++) {\n",
       "      var script = scripts[i]\n",
       "      if (script.src != null) {\n",
       "\texisting_scripts.push(script.src)\n",
       "      }\n",
       "    }\n",
       "    for (var i = 0; i < js_urls.length; i++) {\n",
       "      var url = js_urls[i];\n",
       "      if (skip.indexOf(url) !== -1 || existing_scripts.indexOf(url) !== -1) {\n",
       "\tif (!window.requirejs) {\n",
       "\t  on_load();\n",
       "\t}\n",
       "\tcontinue;\n",
       "      }\n",
       "      var element = document.createElement('script');\n",
       "      element.onload = on_load;\n",
       "      element.onerror = on_error;\n",
       "      element.async = false;\n",
       "      element.src = url;\n",
       "      console.debug(\"Bokeh: injecting script tag for BokehJS library: \", url);\n",
       "      document.head.appendChild(element);\n",
       "    }\n",
       "    for (var i = 0; i < js_modules.length; i++) {\n",
       "      var url = js_modules[i];\n",
       "      if (skip.indexOf(url) !== -1 || existing_scripts.indexOf(url) !== -1) {\n",
       "\tif (!window.requirejs) {\n",
       "\t  on_load();\n",
       "\t}\n",
       "\tcontinue;\n",
       "      }\n",
       "      var element = document.createElement('script');\n",
       "      element.onload = on_load;\n",
       "      element.onerror = on_error;\n",
       "      element.async = false;\n",
       "      element.src = url;\n",
       "      element.type = \"module\";\n",
       "      console.debug(\"Bokeh: injecting script tag for BokehJS library: \", url);\n",
       "      document.head.appendChild(element);\n",
       "    }\n",
       "    for (const name in js_exports) {\n",
       "      var url = js_exports[name];\n",
       "      if (skip.indexOf(url) >= 0 || root[name] != null) {\n",
       "\tif (!window.requirejs) {\n",
       "\t  on_load();\n",
       "\t}\n",
       "\tcontinue;\n",
       "      }\n",
       "      var element = document.createElement('script');\n",
       "      element.onerror = on_error;\n",
       "      element.async = false;\n",
       "      element.type = \"module\";\n",
       "      console.debug(\"Bokeh: injecting script tag for BokehJS library: \", url);\n",
       "      element.textContent = `\n",
       "      import ${name} from \"${url}\"\n",
       "      window.${name} = ${name}\n",
       "      window._bokeh_on_load()\n",
       "      `\n",
       "      document.head.appendChild(element);\n",
       "    }\n",
       "    if (!js_urls.length && !js_modules.length) {\n",
       "      on_load()\n",
       "    }\n",
       "  };\n",
       "\n",
       "  function inject_raw_css(css) {\n",
       "    const element = document.createElement(\"style\");\n",
       "    element.appendChild(document.createTextNode(css));\n",
       "    document.body.appendChild(element);\n",
       "  }\n",
       "\n",
       "  var js_urls = [\"https://cdn.holoviz.org/panel/1.2.0/dist/bundled/datatabulator/tabulator-tables@5.5.0/dist/js/tabulator.js\", \"https://cdn.holoviz.org/panel/1.2.0/dist/bundled/datatabulator/luxon/build/global/luxon.min.js\", \"https://cdn.bokeh.org/bokeh/release/bokeh-3.2.1.min.js\", \"https://cdn.bokeh.org/bokeh/release/bokeh-gl-3.2.1.min.js\", \"https://cdn.bokeh.org/bokeh/release/bokeh-widgets-3.2.1.min.js\", \"https://cdn.bokeh.org/bokeh/release/bokeh-tables-3.2.1.min.js\", \"https://cdn.holoviz.org/panel/1.2.0/dist/panel.min.js\"];\n",
       "  var js_modules = [];\n",
       "  var js_exports = {};\n",
       "  var css_urls = [\"https://cdn.holoviz.org/panel/1.2.0/dist/bundled/datatabulator/tabulator-tables@5.5.0/dist/css/tabulator_simple.min.css\"];\n",
       "  var inline_js = [    function(Bokeh) {\n",
       "      inject_raw_css(\".tabulator{position:relative;border:1px solid #999;font-size:14px;text-align:left;overflow:hidden;-webkit-transform:translateZ(0);-moz-transform:translateZ(0);-ms-transform:translateZ(0);-o-transform:translateZ(0);transform:translateZ(0)}.tabulator[tabulator-layout=fitDataFill] .tabulator-tableholder .tabulator-table{min-width:100%}.tabulator[tabulator-layout=fitDataTable]{display:inline-block}.tabulator.tabulator-block-select{user-select:none}.tabulator .tabulator-header{position:relative;box-sizing:border-box;width:100%;border-bottom:1px solid #999;background-color:#fff;color:#555;font-weight:700;white-space:nowrap;overflow:hidden;-moz-user-select:none;-khtml-user-select:none;-webkit-user-select:none;-o-user-select:none}.tabulator .tabulator-header.tabulator-header-hidden{display:none}.tabulator .tabulator-header .tabulator-header-contents{position:relative;overflow:hidden}.tabulator .tabulator-header .tabulator-header-contents .tabulator-headers{display:inline-block}.tabulator .tabulator-header .tabulator-col{display:inline-flex;position:relative;box-sizing:border-box;flex-direction:column;justify-content:flex-start;border-right:1px solid #ddd;background:#fff;text-align:left;vertical-align:bottom;overflow:hidden}.tabulator .tabulator-header .tabulator-col.tabulator-moving{position:absolute;border:1px solid #999;background:#e6e6e6;pointer-events:none}.tabulator .tabulator-header .tabulator-col .tabulator-col-content{box-sizing:border-box;position:relative;padding:4px}.tabulator .tabulator-header .tabulator-col .tabulator-col-content .tabulator-header-popup-button{padding:0 8px}.tabulator .tabulator-header .tabulator-col .tabulator-col-content .tabulator-header-popup-button:hover{cursor:pointer;opacity:.6}.tabulator .tabulator-header .tabulator-col .tabulator-col-content .tabulator-col-title-holder{position:relative}.tabulator .tabulator-header .tabulator-col .tabulator-col-content .tabulator-col-title{box-sizing:border-box;width:100%;white-space:nowrap;overflow:hidden;text-overflow:ellipsis;vertical-align:bottom}.tabulator .tabulator-header .tabulator-col .tabulator-col-content .tabulator-col-title.tabulator-col-title-wrap{white-space:normal;text-overflow:clip}.tabulator .tabulator-header .tabulator-col .tabulator-col-content .tabulator-col-title .tabulator-title-editor{box-sizing:border-box;width:100%;border:1px solid #999;padding:1px;background:#fff}.tabulator .tabulator-header .tabulator-col .tabulator-col-content .tabulator-col-title .tabulator-header-popup-button+.tabulator-title-editor{width:calc(100% - 22px)}.tabulator .tabulator-header .tabulator-col .tabulator-col-content .tabulator-col-sorter{display:flex;align-items:center;position:absolute;top:0;bottom:0;right:4px}.tabulator .tabulator-header .tabulator-col .tabulator-col-content .tabulator-col-sorter .tabulator-arrow{width:0;height:0;border-left:6px solid transparent;border-right:6px solid transparent;border-bottom:6px solid #bbb}.tabulator .tabulator-header .tabulator-col.tabulator-col-group .tabulator-col-group-cols{position:relative;display:flex;border-top:1px solid #ddd;overflow:hidden;margin-right:-1px}.tabulator .tabulator-header .tabulator-col .tabulator-header-filter{position:relative;box-sizing:border-box;margin-top:2px;width:100%;text-align:center}.tabulator .tabulator-header .tabulator-col .tabulator-header-filter textarea{height:auto!important}.tabulator .tabulator-header .tabulator-col .tabulator-header-filter svg{margin-top:3px}.tabulator .tabulator-header .tabulator-col .tabulator-header-filter input::-ms-clear{width:0;height:0}.tabulator .tabulator-header .tabulator-col.tabulator-sortable .tabulator-col-title{padding-right:25px}@media (hover:hover) and (pointer:fine){.tabulator .tabulator-header .tabulator-col.tabulator-sortable.tabulator-col-sorter-element:hover{cursor:pointer;background-color:#e6e6e6}}.tabulator .tabulator-header .tabulator-col.tabulator-sortable[aria-sort=none] .tabulator-col-content .tabulator-col-sorter{color:#bbb}@media (hover:hover) and (pointer:fine){.tabulator .tabulator-header .tabulator-col.tabulator-sortable[aria-sort=none] .tabulator-col-content .tabulator-col-sorter.tabulator-col-sorter-element .tabulator-arrow:hover{cursor:pointer;border-bottom:6px solid #555}}.tabulator .tabulator-header .tabulator-col.tabulator-sortable[aria-sort=none] .tabulator-col-content .tabulator-col-sorter .tabulator-arrow{border-top:none;border-bottom:6px solid #bbb}.tabulator .tabulator-header .tabulator-col.tabulator-sortable[aria-sort=ascending] .tabulator-col-content .tabulator-col-sorter{color:#666}@media (hover:hover) and (pointer:fine){.tabulator .tabulator-header .tabulator-col.tabulator-sortable[aria-sort=ascending] .tabulator-col-content .tabulator-col-sorter.tabulator-col-sorter-element .tabulator-arrow:hover{cursor:pointer;border-bottom:6px solid #555}}.tabulator .tabulator-header .tabulator-col.tabulator-sortable[aria-sort=ascending] .tabulator-col-content .tabulator-col-sorter .tabulator-arrow{border-top:none;border-bottom:6px solid #666}.tabulator .tabulator-header .tabulator-col.tabulator-sortable[aria-sort=descending] .tabulator-col-content .tabulator-col-sorter{color:#666}@media (hover:hover) and (pointer:fine){.tabulator .tabulator-header .tabulator-col.tabulator-sortable[aria-sort=descending] .tabulator-col-content .tabulator-col-sorter.tabulator-col-sorter-element .tabulator-arrow:hover{cursor:pointer;border-top:6px solid #555}}.tabulator .tabulator-header .tabulator-col.tabulator-sortable[aria-sort=descending] .tabulator-col-content .tabulator-col-sorter .tabulator-arrow{border-bottom:none;border-top:6px solid #666;color:#666}.tabulator .tabulator-header .tabulator-col.tabulator-col-vertical .tabulator-col-content .tabulator-col-title{writing-mode:vertical-rl;text-orientation:mixed;display:flex;align-items:center;justify-content:center}.tabulator .tabulator-header .tabulator-col.tabulator-col-vertical.tabulator-col-vertical-flip .tabulator-col-title{transform:rotate(180deg)}.tabulator .tabulator-header .tabulator-col.tabulator-col-vertical.tabulator-sortable .tabulator-col-title{padding-right:0;padding-top:20px}.tabulator .tabulator-header .tabulator-col.tabulator-col-vertical.tabulator-sortable.tabulator-col-vertical-flip .tabulator-col-title{padding-right:0;padding-bottom:20px}.tabulator .tabulator-header .tabulator-col.tabulator-col-vertical.tabulator-sortable .tabulator-col-sorter{justify-content:center;left:0;right:0;top:4px;bottom:auto}.tabulator .tabulator-header .tabulator-frozen{position:sticky;left:0;z-index:10}.tabulator .tabulator-header .tabulator-frozen.tabulator-frozen-left{border-right:2px solid #ddd}.tabulator .tabulator-header .tabulator-frozen.tabulator-frozen-right{border-left:2px solid #ddd}.tabulator .tabulator-header .tabulator-calcs-holder{box-sizing:border-box;background:#fff!important;border-top:1px solid #ddd;border-bottom:1px solid #ddd}.tabulator .tabulator-header .tabulator-calcs-holder .tabulator-row{background:#fff!important}.tabulator .tabulator-header .tabulator-calcs-holder .tabulator-row .tabulator-col-resize-handle,.tabulator .tabulator-header .tabulator-frozen-rows-holder:empty{display:none}.tabulator .tabulator-tableholder{position:relative;width:100%;white-space:nowrap;overflow:auto;-webkit-overflow-scrolling:touch}.tabulator .tabulator-tableholder:focus{outline:none}.tabulator .tabulator-tableholder .tabulator-placeholder{box-sizing:border-box;display:flex;align-items:center;justify-content:center;width:100%}.tabulator .tabulator-tableholder .tabulator-placeholder[tabulator-render-mode=virtual]{min-height:100%;min-width:100%}.tabulator .tabulator-tableholder .tabulator-placeholder .tabulator-placeholder-contents{display:inline-block;text-align:center;padding:10px;color:#ccc;font-weight:700;font-size:20px;white-space:normal}.tabulator .tabulator-tableholder .tabulator-table{position:relative;display:inline-block;background-color:#fff;white-space:nowrap;overflow:visible;color:#333}.tabulator .tabulator-tableholder .tabulator-table .tabulator-row.tabulator-calcs{font-weight:700;background:#f2f2f2!important}.tabulator .tabulator-tableholder .tabulator-table .tabulator-row.tabulator-calcs.tabulator-calcs-top{border-bottom:2px solid #ddd}.tabulator .tabulator-tableholder .tabulator-table .tabulator-row.tabulator-calcs.tabulator-calcs-bottom{border-top:2px solid #ddd}.tabulator .tabulator-footer{border-top:1px solid #999;background-color:#fff;color:#555;font-weight:700;white-space:nowrap;user-select:none;-moz-user-select:none;-khtml-user-select:none;-webkit-user-select:none;-o-user-select:none}.tabulator .tabulator-footer .tabulator-footer-contents{display:flex;flex-direction:row;align-items:center;justify-content:space-between;padding:5px 10px}.tabulator .tabulator-footer .tabulator-footer-contents:empty{display:none}.tabulator .tabulator-footer .tabulator-calcs-holder{box-sizing:border-box;width:100%;text-align:left;background:#fff!important;border-bottom:1px solid #ddd;border-top:1px solid #ddd;overflow:hidden}.tabulator .tabulator-footer .tabulator-calcs-holder .tabulator-row{display:inline-block;background:#fff!important}.tabulator .tabulator-footer .tabulator-calcs-holder .tabulator-row .tabulator-col-resize-handle{display:none}.tabulator .tabulator-footer .tabulator-calcs-holder:only-child{margin-bottom:-5px;border-bottom:none}.tabulator .tabulator-footer>*+.tabulator-page-counter{margin-left:10px}.tabulator .tabulator-footer .tabulator-page-counter{font-weight:400}.tabulator .tabulator-footer .tabulator-paginator{flex:1;text-align:right;color:#555;font-family:inherit;font-weight:inherit;font-size:inherit}.tabulator .tabulator-footer .tabulator-page-size{display:inline-block;margin:0 5px;padding:2px 5px;border:1px solid #aaa;border-radius:3px}.tabulator .tabulator-footer .tabulator-pages{margin:0 7px}.tabulator .tabulator-footer .tabulator-page{display:inline-block;margin:0 2px;padding:2px 5px;border:1px solid #aaa;border-radius:3px;background:hsla(0,0%,100%,.2)}.tabulator .tabulator-footer .tabulator-page.active{color:#d00}.tabulator .tabulator-footer .tabulator-page:disabled{opacity:.5}@media (hover:hover) and (pointer:fine){.tabulator .tabulator-footer .tabulator-page:not(.disabled):hover{cursor:pointer;background:rgba(0,0,0,.2);color:#fff}}.tabulator .tabulator-col-resize-handle{position:relative;display:inline-block;width:6px;margin-left:-3px;margin-right:-3px;z-index:10;vertical-align:middle}@media (hover:hover) and (pointer:fine){.tabulator .tabulator-col-resize-handle:hover{cursor:ew-resize}}.tabulator .tabulator-col-resize-handle:last-of-type{width:3px;margin-right:0}.tabulator .tabulator-alert{position:absolute;display:flex;align-items:center;top:0;left:0;z-index:100;height:100%;width:100%;background:rgba(0,0,0,.4);text-align:center}.tabulator .tabulator-alert .tabulator-alert-msg{display:inline-block;margin:0 auto;padding:10px 20px;border-radius:10px;background:#fff;font-weight:700;font-size:16px}.tabulator .tabulator-alert .tabulator-alert-msg.tabulator-alert-state-msg{border:4px solid #333;color:#000}.tabulator .tabulator-alert .tabulator-alert-msg.tabulator-alert-state-error{border:4px solid #d00;color:#590000}.tabulator-row{position:relative;box-sizing:border-box;min-height:22px}.tabulator-row,.tabulator-row.tabulator-row-even{background-color:#fff}@media (hover:hover) and (pointer:fine){.tabulator-row.tabulator-selectable:hover{background-color:#bbb;cursor:pointer}}.tabulator-row.tabulator-selected{background-color:#9abcea}@media (hover:hover) and (pointer:fine){.tabulator-row.tabulator-selected:hover{background-color:#769bcc;cursor:pointer}}.tabulator-row.tabulator-row-moving{border:1px solid #000;background:#fff}.tabulator-row.tabulator-moving{position:absolute;border-top:1px solid #ddd;border-bottom:1px solid #ddd;pointer-events:none;z-index:15}.tabulator-row .tabulator-row-resize-handle{position:absolute;right:0;bottom:0;left:0;height:5px}.tabulator-row .tabulator-row-resize-handle.prev{top:0;bottom:auto}@media (hover:hover) and (pointer:fine){.tabulator-row .tabulator-row-resize-handle:hover{cursor:ns-resize}}.tabulator-row .tabulator-responsive-collapse{box-sizing:border-box;padding:5px;border-top:1px solid #ddd;border-bottom:1px solid #ddd}.tabulator-row .tabulator-responsive-collapse:empty{display:none}.tabulator-row .tabulator-responsive-collapse table{font-size:14px}.tabulator-row .tabulator-responsive-collapse table tr td{position:relative}.tabulator-row .tabulator-responsive-collapse table tr td:first-of-type{padding-right:10px}.tabulator-row .tabulator-cell{display:inline-block;position:relative;box-sizing:border-box;padding:4px;border-right:1px solid #ddd;vertical-align:middle;white-space:nowrap;overflow:hidden;text-overflow:ellipsis}.tabulator-row .tabulator-cell.tabulator-frozen{display:inline-block;position:sticky;left:0;background-color:inherit;z-index:10}.tabulator-row .tabulator-cell.tabulator-frozen.tabulator-frozen-left{border-right:2px solid #ddd}.tabulator-row .tabulator-cell.tabulator-frozen.tabulator-frozen-right{border-left:2px solid #ddd}.tabulator-row .tabulator-cell.tabulator-editing{border:1px solid #1d68cd;outline:none;padding:0}.tabulator-row .tabulator-cell.tabulator-editing input,.tabulator-row .tabulator-cell.tabulator-editing select{border:1px;background:transparent;outline:none}.tabulator-row .tabulator-cell.tabulator-validation-fail{border:1px solid #d00}.tabulator-row .tabulator-cell.tabulator-validation-fail input,.tabulator-row .tabulator-cell.tabulator-validation-fail select{border:1px;background:transparent;color:#d00}.tabulator-row .tabulator-cell.tabulator-row-handle{display:inline-flex;align-items:center;justify-content:center;-moz-user-select:none;-khtml-user-select:none;-webkit-user-select:none;-o-user-select:none}.tabulator-row .tabulator-cell.tabulator-row-handle .tabulator-row-handle-box{width:80%}.tabulator-row .tabulator-cell.tabulator-row-handle .tabulator-row-handle-box .tabulator-row-handle-bar{width:100%;height:3px;margin-top:2px;background:#666}.tabulator-row .tabulator-cell .tabulator-data-tree-branch{display:inline-block;vertical-align:middle;height:9px;width:7px;margin-top:-9px;margin-right:5px;border-bottom-left-radius:1px;border-left:2px solid #ddd;border-bottom:2px solid #ddd}.tabulator-row .tabulator-cell .tabulator-data-tree-control{display:inline-flex;justify-content:center;align-items:center;vertical-align:middle;height:11px;width:11px;margin-right:5px;border:1px solid #333;border-radius:2px;background:rgba(0,0,0,.1);overflow:hidden}@media (hover:hover) and (pointer:fine){.tabulator-row .tabulator-cell .tabulator-data-tree-control:hover{cursor:pointer;background:rgba(0,0,0,.2)}}.tabulator-row .tabulator-cell .tabulator-data-tree-control .tabulator-data-tree-control-collapse{display:inline-block;position:relative;height:7px;width:1px;background:transparent}.tabulator-row .tabulator-cell .tabulator-data-tree-control .tabulator-data-tree-control-collapse:after{position:absolute;content:\\\"\\\";left:-3px;top:3px;height:1px;width:7px;background:#333}.tabulator-row .tabulator-cell .tabulator-data-tree-control .tabulator-data-tree-control-expand{display:inline-block;position:relative;height:7px;width:1px;background:#333}.tabulator-row .tabulator-cell .tabulator-data-tree-control .tabulator-data-tree-control-expand:after{position:absolute;content:\\\"\\\";left:-3px;top:3px;height:1px;width:7px;background:#333}.tabulator-row .tabulator-cell .tabulator-responsive-collapse-toggle{display:inline-flex;align-items:center;justify-content:center;-moz-user-select:none;-khtml-user-select:none;-webkit-user-select:none;-o-user-select:none;height:15px;width:15px;border-radius:20px;background:#666;color:#fff;font-weight:700;font-size:1.1em}@media (hover:hover) and (pointer:fine){.tabulator-row .tabulator-cell .tabulator-responsive-collapse-toggle:hover{opacity:.7;cursor:pointer}}.tabulator-row .tabulator-cell .tabulator-responsive-collapse-toggle.open .tabulator-responsive-collapse-toggle-close{display:initial}.tabulator-row .tabulator-cell .tabulator-responsive-collapse-toggle.open .tabulator-responsive-collapse-toggle-open{display:none}.tabulator-row .tabulator-cell .tabulator-responsive-collapse-toggle svg{stroke:#fff}.tabulator-row .tabulator-cell .tabulator-responsive-collapse-toggle .tabulator-responsive-collapse-toggle-close{display:none}.tabulator-row .tabulator-cell .tabulator-traffic-light{display:inline-block;height:14px;width:14px;border-radius:14px}.tabulator-row.tabulator-group{box-sizing:border-box;border-bottom:1px solid #999;border-right:1px solid #ddd;border-top:1px solid #999;padding:5px 5px 5px 10px;background:#ccc;font-weight:700;min-width:100%}@media (hover:hover) and (pointer:fine){.tabulator-row.tabulator-group:hover{cursor:pointer;background-color:rgba(0,0,0,.1)}}.tabulator-row.tabulator-group.tabulator-group-visible .tabulator-arrow{margin-right:10px;border-left:6px solid transparent;border-right:6px solid transparent;border-top:6px solid #666;border-bottom:0}.tabulator-row.tabulator-group.tabulator-group-level-1{padding-left:30px}.tabulator-row.tabulator-group.tabulator-group-level-2{padding-left:50px}.tabulator-row.tabulator-group.tabulator-group-level-3{padding-left:70px}.tabulator-row.tabulator-group.tabulator-group-level-4{padding-left:90px}.tabulator-row.tabulator-group.tabulator-group-level-5{padding-left:110px}.tabulator-row.tabulator-group .tabulator-group-toggle{display:inline-block}.tabulator-row.tabulator-group .tabulator-arrow{display:inline-block;width:0;height:0;margin-right:16px;border-top:6px solid transparent;border-bottom:6px solid transparent;border-right:0;border-left:6px solid #666;vertical-align:middle}.tabulator-row.tabulator-group span{margin-left:10px;color:#d00}.tabulator-popup-container{position:absolute;display:inline-block;box-sizing:border-box;background:#fff;border:1px solid #ddd;box-shadow:0 0 5px 0 rgba(0,0,0,.2);font-size:14px;overflow-y:auto;-webkit-overflow-scrolling:touch;z-index:10000}.tabulator-popup{padding:5px;border-radius:3px}.tabulator-tooltip{max-width:Min(500px,100%);padding:3px 5px;border-radius:2px;box-shadow:none;font-size:12px;pointer-events:none}.tabulator-menu .tabulator-menu-item{position:relative;box-sizing:border-box;padding:5px 10px;user-select:none}.tabulator-menu .tabulator-menu-item.tabulator-menu-item-disabled{opacity:.5}@media (hover:hover) and (pointer:fine){.tabulator-menu .tabulator-menu-item:not(.tabulator-menu-item-disabled):hover{cursor:pointer;background:#fff}}.tabulator-menu .tabulator-menu-item.tabulator-menu-item-submenu{padding-right:25px}.tabulator-menu .tabulator-menu-item.tabulator-menu-item-submenu:after{display:inline-block;position:absolute;top:calc(5px + .4em);right:10px;height:7px;width:7px;content:\\\"\\\";border-color:#ddd;border-style:solid;border-width:1px 1px 0 0;vertical-align:top;transform:rotate(45deg)}.tabulator-menu .tabulator-menu-separator{border-top:1px solid #ddd}.tabulator-edit-list{max-height:200px;font-size:14px;overflow-y:auto;-webkit-overflow-scrolling:touch}.tabulator-edit-list .tabulator-edit-list-item{padding:4px;color:#333;outline:none}.tabulator-edit-list .tabulator-edit-list-item.active{color:#fff;background:#1d68cd}.tabulator-edit-list .tabulator-edit-list-item.active.focused{outline:1px solid hsla(0,0%,100%,.5)}.tabulator-edit-list .tabulator-edit-list-item.focused{outline:1px solid #1d68cd}@media (hover:hover) and (pointer:fine){.tabulator-edit-list .tabulator-edit-list-item:hover{cursor:pointer;color:#fff;background:#1d68cd}}.tabulator-edit-list .tabulator-edit-list-placeholder{padding:4px;color:#333;text-align:center}.tabulator-edit-list .tabulator-edit-list-group{border-bottom:1px solid #ddd;padding:6px 4px 4px;color:#333;font-weight:700}.tabulator-edit-list .tabulator-edit-list-group.tabulator-edit-list-group-level-2,.tabulator-edit-list .tabulator-edit-list-item.tabulator-edit-list-group-level-2{padding-left:12px}.tabulator-edit-list .tabulator-edit-list-group.tabulator-edit-list-group-level-3,.tabulator-edit-list .tabulator-edit-list-item.tabulator-edit-list-group-level-3{padding-left:20px}.tabulator-edit-list .tabulator-edit-list-group.tabulator-edit-list-group-level-4,.tabulator-edit-list .tabulator-edit-list-item.tabulator-edit-list-group-level-4{padding-left:28px}.tabulator-edit-list .tabulator-edit-list-group.tabulator-edit-list-group-level-5,.tabulator-edit-list .tabulator-edit-list-item.tabulator-edit-list-group-level-5{padding-left:36px}.tabulator.tabulator-ltr{direction:ltr}.tabulator.tabulator-rtl{text-align:initial;direction:rtl}.tabulator.tabulator-rtl .tabulator-header .tabulator-col{text-align:initial;border-left:1px solid #ddd;border-right:initial}.tabulator.tabulator-rtl .tabulator-header .tabulator-col.tabulator-col-group .tabulator-col-group-cols{margin-right:0;margin-left:-1px}.tabulator.tabulator-rtl .tabulator-header .tabulator-col.tabulator-sortable .tabulator-col-title{padding-right:0;padding-left:25px}.tabulator.tabulator-rtl .tabulator-header .tabulator-col .tabulator-col-content .tabulator-col-sorter{left:8px;right:auto}.tabulator.tabulator-rtl .tabulator-row .tabulator-cell{border-right:initial;border-left:1px solid #ddd}.tabulator.tabulator-rtl .tabulator-row .tabulator-cell .tabulator-data-tree-branch{margin-right:0;margin-left:5px;border-bottom-left-radius:0;border-bottom-right-radius:1px;border-left:initial;border-right:2px solid #ddd}.tabulator.tabulator-rtl .tabulator-row .tabulator-cell .tabulator-data-tree-control{margin-right:0;margin-left:5px}.tabulator.tabulator-rtl .tabulator-row .tabulator-cell.tabulator-frozen.tabulator-frozen-left{border-left:2px solid #ddd}.tabulator.tabulator-rtl .tabulator-row .tabulator-cell.tabulator-frozen.tabulator-frozen-right{border-right:2px solid #ddd}.tabulator.tabulator-rtl .tabulator-row .tabulator-col-resize-handle:last-of-type{width:3px;margin-left:0;margin-right:-3px}.tabulator.tabulator-rtl .tabulator-footer .tabulator-calcs-holder{text-align:initial}.tabulator-print-fullscreen{position:absolute;top:0;bottom:0;left:0;right:0;z-index:10000}body.tabulator-print-fullscreen-hide>:not(.tabulator-print-fullscreen){display:none!important}.tabulator-print-table{border-collapse:collapse}.tabulator-print-table .tabulator-data-tree-branch{display:inline-block;vertical-align:middle;height:9px;width:7px;margin-top:-9px;margin-right:5px;border-bottom-left-radius:1px;border-left:2px solid #ddd;border-bottom:2px solid #ddd}.tabulator-print-table .tabulator-print-table-group{box-sizing:border-box;border-bottom:1px solid #999;border-right:1px solid #ddd;border-top:1px solid #999;padding:5px 5px 5px 10px;background:#ccc;font-weight:700;min-width:100%}@media (hover:hover) and (pointer:fine){.tabulator-print-table .tabulator-print-table-group:hover{cursor:pointer;background-color:rgba(0,0,0,.1)}}.tabulator-print-table .tabulator-print-table-group.tabulator-group-visible .tabulator-arrow{margin-right:10px;border-left:6px solid transparent;border-right:6px solid transparent;border-top:6px solid #666;border-bottom:0}.tabulator-print-table .tabulator-print-table-group.tabulator-group-level-1 td{padding-left:30px!important}.tabulator-print-table .tabulator-print-table-group.tabulator-group-level-2 td{padding-left:50px!important}.tabulator-print-table .tabulator-print-table-group.tabulator-group-level-3 td{padding-left:70px!important}.tabulator-print-table .tabulator-print-table-group.tabulator-group-level-4 td{padding-left:90px!important}.tabulator-print-table .tabulator-print-table-group.tabulator-group-level-5 td{padding-left:110px!important}.tabulator-print-table .tabulator-print-table-group .tabulator-group-toggle{display:inline-block}.tabulator-print-table .tabulator-print-table-group .tabulator-arrow{display:inline-block;width:0;height:0;margin-right:16px;border-top:6px solid transparent;border-bottom:6px solid transparent;border-right:0;border-left:6px solid #666;vertical-align:middle}.tabulator-print-table .tabulator-print-table-group span{color:#d00}.tabulator-print-table .tabulator-data-tree-control{display:inline-flex;justify-content:center;align-items:center;vertical-align:middle;height:11px;width:11px;margin-right:5px;border:1px solid #333;border-radius:2px;background:rgba(0,0,0,.1);overflow:hidden}@media (hover:hover) and (pointer:fine){.tabulator-print-table .tabulator-data-tree-control:hover{cursor:pointer;background:rgba(0,0,0,.2)}}.tabulator-print-table .tabulator-data-tree-control .tabulator-data-tree-control-collapse{display:inline-block;position:relative;height:7px;width:1px;background:transparent}.tabulator-print-table .tabulator-data-tree-control .tabulator-data-tree-control-collapse:after{position:absolute;content:\\\"\\\";left:-3px;top:3px;height:1px;width:7px;background:#333}.tabulator-print-table .tabulator-data-tree-control .tabulator-data-tree-control-expand{display:inline-block;position:relative;height:7px;width:1px;background:#333}.tabulator-print-table .tabulator-data-tree-control .tabulator-data-tree-control-expand:after{position:absolute;content:\\\"\\\";left:-3px;top:3px;height:1px;width:7px;background:#333}.tabulator{border:none;background-color:#fff}.tabulator .tabulator-header .tabulator-calcs-holder{background:#f2f2f2!important;border-bottom:1px solid #999}.tabulator .tabulator-header .tabulator-calcs-holder .tabulator-row{background:#f2f2f2!important}.tabulator .tabulator-tableholder .tabulator-placeholder span{color:#000}.tabulator .tabulator-footer .tabulator-calcs-holder{background:#f2f2f2!important;border-bottom:1px solid #fff}.tabulator .tabulator-footer .tabulator-calcs-holder .tabulator-row{background:#f2f2f2!important}.tabulator-row{border-bottom:1px solid #ddd}.tabulator-row .tabulator-cell:last-of-type{border-right:none}.tabulator-row.tabulator-group span{color:#666}.tabulator-print-table .tabulator-print-table-group span{margin-left:10px;color:#666}\\n/*# sourceMappingURL=tabulator_simple.min.css.map */\");\n",
       "    },    function(Bokeh) {\n",
       "      Bokeh.set_log_level(\"info\");\n",
       "    },\n",
       "function(Bokeh) {} // ensure no trailing comma for IE\n",
       "  ];\n",
       "\n",
       "  function run_inline_js() {\n",
       "    if ((root.Bokeh !== undefined) || (force === true)) {\n",
       "      for (var i = 0; i < inline_js.length; i++) {\n",
       "        inline_js[i].call(root, root.Bokeh);\n",
       "      }\n",
       "      // Cache old bokeh versions\n",
       "      if (Bokeh != undefined && !reloading) {\n",
       "\tvar NewBokeh = root.Bokeh;\n",
       "\tif (Bokeh.versions === undefined) {\n",
       "\t  Bokeh.versions = new Map();\n",
       "\t}\n",
       "\tif (NewBokeh.version !== Bokeh.version) {\n",
       "\t  Bokeh.versions.set(NewBokeh.version, NewBokeh)\n",
       "\t}\n",
       "\troot.Bokeh = Bokeh;\n",
       "      }} else if (Date.now() < root._bokeh_timeout) {\n",
       "      setTimeout(run_inline_js, 100);\n",
       "    } else if (!root._bokeh_failed_load) {\n",
       "      console.log(\"Bokeh: BokehJS failed to load within specified timeout.\");\n",
       "      root._bokeh_failed_load = true;\n",
       "    }\n",
       "    root._bokeh_is_initializing = false\n",
       "  }\n",
       "\n",
       "  function load_or_wait() {\n",
       "    // Implement a backoff loop that tries to ensure we do not load multiple\n",
       "    // versions of Bokeh and its dependencies at the same time.\n",
       "    // In recent versions we use the root._bokeh_is_initializing flag\n",
       "    // to determine whether there is an ongoing attempt to initialize\n",
       "    // bokeh, however for backward compatibility we also try to ensure\n",
       "    // that we do not start loading a newer (Panel>=1.0 and Bokeh>3) version\n",
       "    // before older versions are fully initialized.\n",
       "    if (root._bokeh_is_initializing && Date.now() > root._bokeh_timeout) {\n",
       "      root._bokeh_is_initializing = false;\n",
       "      root._bokeh_onload_callbacks = undefined;\n",
       "      console.log(\"Bokeh: BokehJS was loaded multiple times but one version failed to initialize.\");\n",
       "      load_or_wait();\n",
       "    } else if (root._bokeh_is_initializing || (typeof root._bokeh_is_initializing === \"undefined\" && root._bokeh_onload_callbacks !== undefined)) {\n",
       "      setTimeout(load_or_wait, 100);\n",
       "    } else {\n",
       "      Bokeh = root.Bokeh;\n",
       "      bokeh_loaded = Bokeh != null && (Bokeh.version === py_version || (Bokeh.versions !== undefined && Bokeh.versions.has(py_version)));\n",
       "      root._bokeh_is_initializing = true\n",
       "      root._bokeh_onload_callbacks = []\n",
       "      if (!reloading && (!bokeh_loaded || is_dev)) {\n",
       "\troot.Bokeh = undefined;\n",
       "      }\n",
       "      load_libs(css_urls, js_urls, js_modules, js_exports, function() {\n",
       "\tconsole.debug(\"Bokeh: BokehJS plotting callback run at\", now());\n",
       "\trun_inline_js();\n",
       "      });\n",
       "    }\n",
       "  }\n",
       "  // Give older versions of the autoload script a head-start to ensure\n",
       "  // they initialize before we start loading newer version.\n",
       "  setTimeout(load_or_wait, 100)\n",
       "}(window));"
      ],
      "application/vnd.holoviews_load.v0+json": "(function(root) {\n  function now() {\n    return new Date();\n  }\n\n  var force = true;\n  var py_version = '3.2.1'.replace('rc', '-rc.').replace('.dev', '-dev.');\n  var is_dev = py_version.indexOf(\"+\") !== -1 || py_version.indexOf(\"-\") !== -1;\n  var reloading = false;\n  var Bokeh = root.Bokeh;\n  var bokeh_loaded = Bokeh != null && (Bokeh.version === py_version || (Bokeh.versions !== undefined && Bokeh.versions.has(py_version)));\n\n  if (typeof (root._bokeh_timeout) === \"undefined\" || force) {\n    root._bokeh_timeout = Date.now() + 5000;\n    root._bokeh_failed_load = false;\n  }\n\n  function run_callbacks() {\n    try {\n      root._bokeh_onload_callbacks.forEach(function(callback) {\n        if (callback != null)\n          callback();\n      });\n    } finally {\n      delete root._bokeh_onload_callbacks;\n    }\n    console.debug(\"Bokeh: all callbacks have finished\");\n  }\n\n  function load_libs(css_urls, js_urls, js_modules, js_exports, callback) {\n    if (css_urls == null) css_urls = [];\n    if (js_urls == null) js_urls = [];\n    if (js_modules == null) js_modules = [];\n    if (js_exports == null) js_exports = {};\n\n    root._bokeh_onload_callbacks.push(callback);\n\n    if (root._bokeh_is_loading > 0) {\n      console.debug(\"Bokeh: BokehJS is being loaded, scheduling callback at\", now());\n      return null;\n    }\n    if (js_urls.length === 0 && js_modules.length === 0 && Object.keys(js_exports).length === 0) {\n      run_callbacks();\n      return null;\n    }\n    if (!reloading) {\n      console.debug(\"Bokeh: BokehJS not loaded, scheduling load and callback at\", now());\n    }\n\n    function on_load() {\n      root._bokeh_is_loading--;\n      if (root._bokeh_is_loading === 0) {\n        console.debug(\"Bokeh: all BokehJS libraries/stylesheets loaded\");\n        run_callbacks()\n      }\n    }\n    window._bokeh_on_load = on_load\n\n    function on_error() {\n      console.error(\"failed to load \" + url);\n    }\n\n    var skip = [];\n    if (window.requirejs) {\n      window.requirejs.config({'packages': {}, 'paths': {'tabulator': 'https://cdn.jsdelivr.net/npm/tabulator-tables@5.5.0/dist/js/tabulator', 'moment': 'https://cdn.jsdelivr.net/npm/luxon/build/global/luxon.min', 'jspanel': 'https://cdn.jsdelivr.net/npm/jspanel4@4.12.0/dist/jspanel', 'jspanel-modal': 'https://cdn.jsdelivr.net/npm/jspanel4@4.12.0/dist/extensions/modal/jspanel.modal', 'jspanel-tooltip': 'https://cdn.jsdelivr.net/npm/jspanel4@4.12.0/dist/extensions/tooltip/jspanel.tooltip', 'jspanel-hint': 'https://cdn.jsdelivr.net/npm/jspanel4@4.12.0/dist/extensions/hint/jspanel.hint', 'jspanel-layout': 'https://cdn.jsdelivr.net/npm/jspanel4@4.12.0/dist/extensions/layout/jspanel.layout', 'jspanel-contextmenu': 'https://cdn.jsdelivr.net/npm/jspanel4@4.12.0/dist/extensions/contextmenu/jspanel.contextmenu', 'jspanel-dock': 'https://cdn.jsdelivr.net/npm/jspanel4@4.12.0/dist/extensions/dock/jspanel.dock', 'gridstack': 'https://cdn.jsdelivr.net/npm/gridstack@7.2.3/dist/gridstack-all', 'notyf': 'https://cdn.jsdelivr.net/npm/notyf@3/notyf.min'}, 'shim': {'jspanel': {'exports': 'jsPanel'}, 'gridstack': {'exports': 'GridStack'}}});\n      require([\"tabulator\"], function(Tabulator) {\n\twindow.Tabulator = Tabulator\n\ton_load()\n      })\n      require([\"moment\"], function(moment) {\n\twindow.moment = moment\n\ton_load()\n      })\n      require([\"jspanel\"], function(jsPanel) {\n\twindow.jsPanel = jsPanel\n\ton_load()\n      })\n      require([\"jspanel-modal\"], function() {\n\ton_load()\n      })\n      require([\"jspanel-tooltip\"], function() {\n\ton_load()\n      })\n      require([\"jspanel-hint\"], function() {\n\ton_load()\n      })\n      require([\"jspanel-layout\"], function() {\n\ton_load()\n      })\n      require([\"jspanel-contextmenu\"], function() {\n\ton_load()\n      })\n      require([\"jspanel-dock\"], function() {\n\ton_load()\n      })\n      require([\"gridstack\"], function(GridStack) {\n\twindow.GridStack = GridStack\n\ton_load()\n      })\n      require([\"notyf\"], function() {\n\ton_load()\n      })\n      root._bokeh_is_loading = css_urls.length + 11;\n    } else {\n      root._bokeh_is_loading = css_urls.length + js_urls.length + js_modules.length + Object.keys(js_exports).length;\n    }\n\n    var existing_stylesheets = []\n    var links = document.getElementsByTagName('link')\n    for (var i = 0; i < links.length; i++) {\n      var link = links[i]\n      if (link.href != null) {\n\texisting_stylesheets.push(link.href)\n      }\n    }\n    for (var i = 0; i < css_urls.length; i++) {\n      var url = css_urls[i];\n      if (existing_stylesheets.indexOf(url) !== -1) {\n\ton_load()\n\tcontinue;\n      }\n      const element = document.createElement(\"link\");\n      element.onload = on_load;\n      element.onerror = on_error;\n      element.rel = \"stylesheet\";\n      element.type = \"text/css\";\n      element.href = url;\n      console.debug(\"Bokeh: injecting link tag for BokehJS stylesheet: \", url);\n      document.body.appendChild(element);\n    }    if (((window['Tabulator'] !== undefined) && (!(window['Tabulator'] instanceof HTMLElement))) || window.requirejs) {\n      var urls = ['https://cdn.holoviz.org/panel/1.2.0/dist/bundled/datatabulator/tabulator-tables@5.5.0/dist/js/tabulator.js'];\n      for (var i = 0; i < urls.length; i++) {\n        skip.push(urls[i])\n      }\n    }    if (((window['moment'] !== undefined) && (!(window['moment'] instanceof HTMLElement))) || window.requirejs) {\n      var urls = ['https://cdn.holoviz.org/panel/1.2.0/dist/bundled/datatabulator/luxon/build/global/luxon.min.js'];\n      for (var i = 0; i < urls.length; i++) {\n        skip.push(urls[i])\n      }\n    }    if (((window['jsPanel'] !== undefined) && (!(window['jsPanel'] instanceof HTMLElement))) || window.requirejs) {\n      var urls = ['https://cdn.holoviz.org/panel/1.2.0/dist/bundled/floatpanel/jspanel4@4.12.0/dist/jspanel.js', 'https://cdn.holoviz.org/panel/1.2.0/dist/bundled/floatpanel/jspanel4@4.12.0/dist/extensions/modal/jspanel.modal.js', 'https://cdn.holoviz.org/panel/1.2.0/dist/bundled/floatpanel/jspanel4@4.12.0/dist/extensions/tooltip/jspanel.tooltip.js', 'https://cdn.holoviz.org/panel/1.2.0/dist/bundled/floatpanel/jspanel4@4.12.0/dist/extensions/hint/jspanel.hint.js', 'https://cdn.holoviz.org/panel/1.2.0/dist/bundled/floatpanel/jspanel4@4.12.0/dist/extensions/layout/jspanel.layout.js', 'https://cdn.holoviz.org/panel/1.2.0/dist/bundled/floatpanel/jspanel4@4.12.0/dist/extensions/contextmenu/jspanel.contextmenu.js', 'https://cdn.holoviz.org/panel/1.2.0/dist/bundled/floatpanel/jspanel4@4.12.0/dist/extensions/dock/jspanel.dock.js'];\n      for (var i = 0; i < urls.length; i++) {\n        skip.push(urls[i])\n      }\n    }    if (((window['GridStack'] !== undefined) && (!(window['GridStack'] instanceof HTMLElement))) || window.requirejs) {\n      var urls = ['https://cdn.holoviz.org/panel/1.2.0/dist/bundled/gridstack/gridstack@7.2.3/dist/gridstack-all.js'];\n      for (var i = 0; i < urls.length; i++) {\n        skip.push(urls[i])\n      }\n    }    if (((window['Notyf'] !== undefined) && (!(window['Notyf'] instanceof HTMLElement))) || window.requirejs) {\n      var urls = ['https://cdn.holoviz.org/panel/1.2.0/dist/bundled/notificationarea/notyf@3/notyf.min.js'];\n      for (var i = 0; i < urls.length; i++) {\n        skip.push(urls[i])\n      }\n    }    var existing_scripts = []\n    var scripts = document.getElementsByTagName('script')\n    for (var i = 0; i < scripts.length; i++) {\n      var script = scripts[i]\n      if (script.src != null) {\n\texisting_scripts.push(script.src)\n      }\n    }\n    for (var i = 0; i < js_urls.length; i++) {\n      var url = js_urls[i];\n      if (skip.indexOf(url) !== -1 || existing_scripts.indexOf(url) !== -1) {\n\tif (!window.requirejs) {\n\t  on_load();\n\t}\n\tcontinue;\n      }\n      var element = document.createElement('script');\n      element.onload = on_load;\n      element.onerror = on_error;\n      element.async = false;\n      element.src = url;\n      console.debug(\"Bokeh: injecting script tag for BokehJS library: \", url);\n      document.head.appendChild(element);\n    }\n    for (var i = 0; i < js_modules.length; i++) {\n      var url = js_modules[i];\n      if (skip.indexOf(url) !== -1 || existing_scripts.indexOf(url) !== -1) {\n\tif (!window.requirejs) {\n\t  on_load();\n\t}\n\tcontinue;\n      }\n      var element = document.createElement('script');\n      element.onload = on_load;\n      element.onerror = on_error;\n      element.async = false;\n      element.src = url;\n      element.type = \"module\";\n      console.debug(\"Bokeh: injecting script tag for BokehJS library: \", url);\n      document.head.appendChild(element);\n    }\n    for (const name in js_exports) {\n      var url = js_exports[name];\n      if (skip.indexOf(url) >= 0 || root[name] != null) {\n\tif (!window.requirejs) {\n\t  on_load();\n\t}\n\tcontinue;\n      }\n      var element = document.createElement('script');\n      element.onerror = on_error;\n      element.async = false;\n      element.type = \"module\";\n      console.debug(\"Bokeh: injecting script tag for BokehJS library: \", url);\n      element.textContent = `\n      import ${name} from \"${url}\"\n      window.${name} = ${name}\n      window._bokeh_on_load()\n      `\n      document.head.appendChild(element);\n    }\n    if (!js_urls.length && !js_modules.length) {\n      on_load()\n    }\n  };\n\n  function inject_raw_css(css) {\n    const element = document.createElement(\"style\");\n    element.appendChild(document.createTextNode(css));\n    document.body.appendChild(element);\n  }\n\n  var js_urls = [\"https://cdn.holoviz.org/panel/1.2.0/dist/bundled/datatabulator/tabulator-tables@5.5.0/dist/js/tabulator.js\", \"https://cdn.holoviz.org/panel/1.2.0/dist/bundled/datatabulator/luxon/build/global/luxon.min.js\", \"https://cdn.bokeh.org/bokeh/release/bokeh-3.2.1.min.js\", \"https://cdn.bokeh.org/bokeh/release/bokeh-gl-3.2.1.min.js\", \"https://cdn.bokeh.org/bokeh/release/bokeh-widgets-3.2.1.min.js\", \"https://cdn.bokeh.org/bokeh/release/bokeh-tables-3.2.1.min.js\", \"https://cdn.holoviz.org/panel/1.2.0/dist/panel.min.js\"];\n  var js_modules = [];\n  var js_exports = {};\n  var css_urls = [\"https://cdn.holoviz.org/panel/1.2.0/dist/bundled/datatabulator/tabulator-tables@5.5.0/dist/css/tabulator_simple.min.css\"];\n  var inline_js = [    function(Bokeh) {\n      inject_raw_css(\".tabulator{position:relative;border:1px solid #999;font-size:14px;text-align:left;overflow:hidden;-webkit-transform:translateZ(0);-moz-transform:translateZ(0);-ms-transform:translateZ(0);-o-transform:translateZ(0);transform:translateZ(0)}.tabulator[tabulator-layout=fitDataFill] .tabulator-tableholder .tabulator-table{min-width:100%}.tabulator[tabulator-layout=fitDataTable]{display:inline-block}.tabulator.tabulator-block-select{user-select:none}.tabulator .tabulator-header{position:relative;box-sizing:border-box;width:100%;border-bottom:1px solid #999;background-color:#fff;color:#555;font-weight:700;white-space:nowrap;overflow:hidden;-moz-user-select:none;-khtml-user-select:none;-webkit-user-select:none;-o-user-select:none}.tabulator .tabulator-header.tabulator-header-hidden{display:none}.tabulator .tabulator-header .tabulator-header-contents{position:relative;overflow:hidden}.tabulator .tabulator-header .tabulator-header-contents .tabulator-headers{display:inline-block}.tabulator .tabulator-header .tabulator-col{display:inline-flex;position:relative;box-sizing:border-box;flex-direction:column;justify-content:flex-start;border-right:1px solid #ddd;background:#fff;text-align:left;vertical-align:bottom;overflow:hidden}.tabulator .tabulator-header .tabulator-col.tabulator-moving{position:absolute;border:1px solid #999;background:#e6e6e6;pointer-events:none}.tabulator .tabulator-header .tabulator-col .tabulator-col-content{box-sizing:border-box;position:relative;padding:4px}.tabulator .tabulator-header .tabulator-col .tabulator-col-content .tabulator-header-popup-button{padding:0 8px}.tabulator .tabulator-header .tabulator-col .tabulator-col-content .tabulator-header-popup-button:hover{cursor:pointer;opacity:.6}.tabulator .tabulator-header .tabulator-col .tabulator-col-content .tabulator-col-title-holder{position:relative}.tabulator .tabulator-header .tabulator-col .tabulator-col-content .tabulator-col-title{box-sizing:border-box;width:100%;white-space:nowrap;overflow:hidden;text-overflow:ellipsis;vertical-align:bottom}.tabulator .tabulator-header .tabulator-col .tabulator-col-content .tabulator-col-title.tabulator-col-title-wrap{white-space:normal;text-overflow:clip}.tabulator .tabulator-header .tabulator-col .tabulator-col-content .tabulator-col-title .tabulator-title-editor{box-sizing:border-box;width:100%;border:1px solid #999;padding:1px;background:#fff}.tabulator .tabulator-header .tabulator-col .tabulator-col-content .tabulator-col-title .tabulator-header-popup-button+.tabulator-title-editor{width:calc(100% - 22px)}.tabulator .tabulator-header .tabulator-col .tabulator-col-content .tabulator-col-sorter{display:flex;align-items:center;position:absolute;top:0;bottom:0;right:4px}.tabulator .tabulator-header .tabulator-col .tabulator-col-content .tabulator-col-sorter .tabulator-arrow{width:0;height:0;border-left:6px solid transparent;border-right:6px solid transparent;border-bottom:6px solid #bbb}.tabulator .tabulator-header .tabulator-col.tabulator-col-group .tabulator-col-group-cols{position:relative;display:flex;border-top:1px solid #ddd;overflow:hidden;margin-right:-1px}.tabulator .tabulator-header .tabulator-col .tabulator-header-filter{position:relative;box-sizing:border-box;margin-top:2px;width:100%;text-align:center}.tabulator .tabulator-header .tabulator-col .tabulator-header-filter textarea{height:auto!important}.tabulator .tabulator-header .tabulator-col .tabulator-header-filter svg{margin-top:3px}.tabulator .tabulator-header .tabulator-col .tabulator-header-filter input::-ms-clear{width:0;height:0}.tabulator .tabulator-header .tabulator-col.tabulator-sortable .tabulator-col-title{padding-right:25px}@media (hover:hover) and (pointer:fine){.tabulator .tabulator-header .tabulator-col.tabulator-sortable.tabulator-col-sorter-element:hover{cursor:pointer;background-color:#e6e6e6}}.tabulator .tabulator-header .tabulator-col.tabulator-sortable[aria-sort=none] .tabulator-col-content .tabulator-col-sorter{color:#bbb}@media (hover:hover) and (pointer:fine){.tabulator .tabulator-header .tabulator-col.tabulator-sortable[aria-sort=none] .tabulator-col-content .tabulator-col-sorter.tabulator-col-sorter-element .tabulator-arrow:hover{cursor:pointer;border-bottom:6px solid #555}}.tabulator .tabulator-header .tabulator-col.tabulator-sortable[aria-sort=none] .tabulator-col-content .tabulator-col-sorter .tabulator-arrow{border-top:none;border-bottom:6px solid #bbb}.tabulator .tabulator-header .tabulator-col.tabulator-sortable[aria-sort=ascending] .tabulator-col-content .tabulator-col-sorter{color:#666}@media (hover:hover) and (pointer:fine){.tabulator .tabulator-header .tabulator-col.tabulator-sortable[aria-sort=ascending] .tabulator-col-content .tabulator-col-sorter.tabulator-col-sorter-element .tabulator-arrow:hover{cursor:pointer;border-bottom:6px solid #555}}.tabulator .tabulator-header .tabulator-col.tabulator-sortable[aria-sort=ascending] .tabulator-col-content .tabulator-col-sorter .tabulator-arrow{border-top:none;border-bottom:6px solid #666}.tabulator .tabulator-header .tabulator-col.tabulator-sortable[aria-sort=descending] .tabulator-col-content .tabulator-col-sorter{color:#666}@media (hover:hover) and (pointer:fine){.tabulator .tabulator-header .tabulator-col.tabulator-sortable[aria-sort=descending] .tabulator-col-content .tabulator-col-sorter.tabulator-col-sorter-element .tabulator-arrow:hover{cursor:pointer;border-top:6px solid #555}}.tabulator .tabulator-header .tabulator-col.tabulator-sortable[aria-sort=descending] .tabulator-col-content .tabulator-col-sorter .tabulator-arrow{border-bottom:none;border-top:6px solid #666;color:#666}.tabulator .tabulator-header .tabulator-col.tabulator-col-vertical .tabulator-col-content .tabulator-col-title{writing-mode:vertical-rl;text-orientation:mixed;display:flex;align-items:center;justify-content:center}.tabulator .tabulator-header .tabulator-col.tabulator-col-vertical.tabulator-col-vertical-flip .tabulator-col-title{transform:rotate(180deg)}.tabulator .tabulator-header .tabulator-col.tabulator-col-vertical.tabulator-sortable .tabulator-col-title{padding-right:0;padding-top:20px}.tabulator .tabulator-header .tabulator-col.tabulator-col-vertical.tabulator-sortable.tabulator-col-vertical-flip .tabulator-col-title{padding-right:0;padding-bottom:20px}.tabulator .tabulator-header .tabulator-col.tabulator-col-vertical.tabulator-sortable .tabulator-col-sorter{justify-content:center;left:0;right:0;top:4px;bottom:auto}.tabulator .tabulator-header .tabulator-frozen{position:sticky;left:0;z-index:10}.tabulator .tabulator-header .tabulator-frozen.tabulator-frozen-left{border-right:2px solid #ddd}.tabulator .tabulator-header .tabulator-frozen.tabulator-frozen-right{border-left:2px solid #ddd}.tabulator .tabulator-header .tabulator-calcs-holder{box-sizing:border-box;background:#fff!important;border-top:1px solid #ddd;border-bottom:1px solid #ddd}.tabulator .tabulator-header .tabulator-calcs-holder .tabulator-row{background:#fff!important}.tabulator .tabulator-header .tabulator-calcs-holder .tabulator-row .tabulator-col-resize-handle,.tabulator .tabulator-header .tabulator-frozen-rows-holder:empty{display:none}.tabulator .tabulator-tableholder{position:relative;width:100%;white-space:nowrap;overflow:auto;-webkit-overflow-scrolling:touch}.tabulator .tabulator-tableholder:focus{outline:none}.tabulator .tabulator-tableholder .tabulator-placeholder{box-sizing:border-box;display:flex;align-items:center;justify-content:center;width:100%}.tabulator .tabulator-tableholder .tabulator-placeholder[tabulator-render-mode=virtual]{min-height:100%;min-width:100%}.tabulator .tabulator-tableholder .tabulator-placeholder .tabulator-placeholder-contents{display:inline-block;text-align:center;padding:10px;color:#ccc;font-weight:700;font-size:20px;white-space:normal}.tabulator .tabulator-tableholder .tabulator-table{position:relative;display:inline-block;background-color:#fff;white-space:nowrap;overflow:visible;color:#333}.tabulator .tabulator-tableholder .tabulator-table .tabulator-row.tabulator-calcs{font-weight:700;background:#f2f2f2!important}.tabulator .tabulator-tableholder .tabulator-table .tabulator-row.tabulator-calcs.tabulator-calcs-top{border-bottom:2px solid #ddd}.tabulator .tabulator-tableholder .tabulator-table .tabulator-row.tabulator-calcs.tabulator-calcs-bottom{border-top:2px solid #ddd}.tabulator .tabulator-footer{border-top:1px solid #999;background-color:#fff;color:#555;font-weight:700;white-space:nowrap;user-select:none;-moz-user-select:none;-khtml-user-select:none;-webkit-user-select:none;-o-user-select:none}.tabulator .tabulator-footer .tabulator-footer-contents{display:flex;flex-direction:row;align-items:center;justify-content:space-between;padding:5px 10px}.tabulator .tabulator-footer .tabulator-footer-contents:empty{display:none}.tabulator .tabulator-footer .tabulator-calcs-holder{box-sizing:border-box;width:100%;text-align:left;background:#fff!important;border-bottom:1px solid #ddd;border-top:1px solid #ddd;overflow:hidden}.tabulator .tabulator-footer .tabulator-calcs-holder .tabulator-row{display:inline-block;background:#fff!important}.tabulator .tabulator-footer .tabulator-calcs-holder .tabulator-row .tabulator-col-resize-handle{display:none}.tabulator .tabulator-footer .tabulator-calcs-holder:only-child{margin-bottom:-5px;border-bottom:none}.tabulator .tabulator-footer>*+.tabulator-page-counter{margin-left:10px}.tabulator .tabulator-footer .tabulator-page-counter{font-weight:400}.tabulator .tabulator-footer .tabulator-paginator{flex:1;text-align:right;color:#555;font-family:inherit;font-weight:inherit;font-size:inherit}.tabulator .tabulator-footer .tabulator-page-size{display:inline-block;margin:0 5px;padding:2px 5px;border:1px solid #aaa;border-radius:3px}.tabulator .tabulator-footer .tabulator-pages{margin:0 7px}.tabulator .tabulator-footer .tabulator-page{display:inline-block;margin:0 2px;padding:2px 5px;border:1px solid #aaa;border-radius:3px;background:hsla(0,0%,100%,.2)}.tabulator .tabulator-footer .tabulator-page.active{color:#d00}.tabulator .tabulator-footer .tabulator-page:disabled{opacity:.5}@media (hover:hover) and (pointer:fine){.tabulator .tabulator-footer .tabulator-page:not(.disabled):hover{cursor:pointer;background:rgba(0,0,0,.2);color:#fff}}.tabulator .tabulator-col-resize-handle{position:relative;display:inline-block;width:6px;margin-left:-3px;margin-right:-3px;z-index:10;vertical-align:middle}@media (hover:hover) and (pointer:fine){.tabulator .tabulator-col-resize-handle:hover{cursor:ew-resize}}.tabulator .tabulator-col-resize-handle:last-of-type{width:3px;margin-right:0}.tabulator .tabulator-alert{position:absolute;display:flex;align-items:center;top:0;left:0;z-index:100;height:100%;width:100%;background:rgba(0,0,0,.4);text-align:center}.tabulator .tabulator-alert .tabulator-alert-msg{display:inline-block;margin:0 auto;padding:10px 20px;border-radius:10px;background:#fff;font-weight:700;font-size:16px}.tabulator .tabulator-alert .tabulator-alert-msg.tabulator-alert-state-msg{border:4px solid #333;color:#000}.tabulator .tabulator-alert .tabulator-alert-msg.tabulator-alert-state-error{border:4px solid #d00;color:#590000}.tabulator-row{position:relative;box-sizing:border-box;min-height:22px}.tabulator-row,.tabulator-row.tabulator-row-even{background-color:#fff}@media (hover:hover) and (pointer:fine){.tabulator-row.tabulator-selectable:hover{background-color:#bbb;cursor:pointer}}.tabulator-row.tabulator-selected{background-color:#9abcea}@media (hover:hover) and (pointer:fine){.tabulator-row.tabulator-selected:hover{background-color:#769bcc;cursor:pointer}}.tabulator-row.tabulator-row-moving{border:1px solid #000;background:#fff}.tabulator-row.tabulator-moving{position:absolute;border-top:1px solid #ddd;border-bottom:1px solid #ddd;pointer-events:none;z-index:15}.tabulator-row .tabulator-row-resize-handle{position:absolute;right:0;bottom:0;left:0;height:5px}.tabulator-row .tabulator-row-resize-handle.prev{top:0;bottom:auto}@media (hover:hover) and (pointer:fine){.tabulator-row .tabulator-row-resize-handle:hover{cursor:ns-resize}}.tabulator-row .tabulator-responsive-collapse{box-sizing:border-box;padding:5px;border-top:1px solid #ddd;border-bottom:1px solid #ddd}.tabulator-row .tabulator-responsive-collapse:empty{display:none}.tabulator-row .tabulator-responsive-collapse table{font-size:14px}.tabulator-row .tabulator-responsive-collapse table tr td{position:relative}.tabulator-row .tabulator-responsive-collapse table tr td:first-of-type{padding-right:10px}.tabulator-row .tabulator-cell{display:inline-block;position:relative;box-sizing:border-box;padding:4px;border-right:1px solid #ddd;vertical-align:middle;white-space:nowrap;overflow:hidden;text-overflow:ellipsis}.tabulator-row .tabulator-cell.tabulator-frozen{display:inline-block;position:sticky;left:0;background-color:inherit;z-index:10}.tabulator-row .tabulator-cell.tabulator-frozen.tabulator-frozen-left{border-right:2px solid #ddd}.tabulator-row .tabulator-cell.tabulator-frozen.tabulator-frozen-right{border-left:2px solid #ddd}.tabulator-row .tabulator-cell.tabulator-editing{border:1px solid #1d68cd;outline:none;padding:0}.tabulator-row .tabulator-cell.tabulator-editing input,.tabulator-row .tabulator-cell.tabulator-editing select{border:1px;background:transparent;outline:none}.tabulator-row .tabulator-cell.tabulator-validation-fail{border:1px solid #d00}.tabulator-row .tabulator-cell.tabulator-validation-fail input,.tabulator-row .tabulator-cell.tabulator-validation-fail select{border:1px;background:transparent;color:#d00}.tabulator-row .tabulator-cell.tabulator-row-handle{display:inline-flex;align-items:center;justify-content:center;-moz-user-select:none;-khtml-user-select:none;-webkit-user-select:none;-o-user-select:none}.tabulator-row .tabulator-cell.tabulator-row-handle .tabulator-row-handle-box{width:80%}.tabulator-row .tabulator-cell.tabulator-row-handle .tabulator-row-handle-box .tabulator-row-handle-bar{width:100%;height:3px;margin-top:2px;background:#666}.tabulator-row .tabulator-cell .tabulator-data-tree-branch{display:inline-block;vertical-align:middle;height:9px;width:7px;margin-top:-9px;margin-right:5px;border-bottom-left-radius:1px;border-left:2px solid #ddd;border-bottom:2px solid #ddd}.tabulator-row .tabulator-cell .tabulator-data-tree-control{display:inline-flex;justify-content:center;align-items:center;vertical-align:middle;height:11px;width:11px;margin-right:5px;border:1px solid #333;border-radius:2px;background:rgba(0,0,0,.1);overflow:hidden}@media (hover:hover) and (pointer:fine){.tabulator-row .tabulator-cell .tabulator-data-tree-control:hover{cursor:pointer;background:rgba(0,0,0,.2)}}.tabulator-row .tabulator-cell .tabulator-data-tree-control .tabulator-data-tree-control-collapse{display:inline-block;position:relative;height:7px;width:1px;background:transparent}.tabulator-row .tabulator-cell .tabulator-data-tree-control .tabulator-data-tree-control-collapse:after{position:absolute;content:\\\"\\\";left:-3px;top:3px;height:1px;width:7px;background:#333}.tabulator-row .tabulator-cell .tabulator-data-tree-control .tabulator-data-tree-control-expand{display:inline-block;position:relative;height:7px;width:1px;background:#333}.tabulator-row .tabulator-cell .tabulator-data-tree-control .tabulator-data-tree-control-expand:after{position:absolute;content:\\\"\\\";left:-3px;top:3px;height:1px;width:7px;background:#333}.tabulator-row .tabulator-cell .tabulator-responsive-collapse-toggle{display:inline-flex;align-items:center;justify-content:center;-moz-user-select:none;-khtml-user-select:none;-webkit-user-select:none;-o-user-select:none;height:15px;width:15px;border-radius:20px;background:#666;color:#fff;font-weight:700;font-size:1.1em}@media (hover:hover) and (pointer:fine){.tabulator-row .tabulator-cell .tabulator-responsive-collapse-toggle:hover{opacity:.7;cursor:pointer}}.tabulator-row .tabulator-cell .tabulator-responsive-collapse-toggle.open .tabulator-responsive-collapse-toggle-close{display:initial}.tabulator-row .tabulator-cell .tabulator-responsive-collapse-toggle.open .tabulator-responsive-collapse-toggle-open{display:none}.tabulator-row .tabulator-cell .tabulator-responsive-collapse-toggle svg{stroke:#fff}.tabulator-row .tabulator-cell .tabulator-responsive-collapse-toggle .tabulator-responsive-collapse-toggle-close{display:none}.tabulator-row .tabulator-cell .tabulator-traffic-light{display:inline-block;height:14px;width:14px;border-radius:14px}.tabulator-row.tabulator-group{box-sizing:border-box;border-bottom:1px solid #999;border-right:1px solid #ddd;border-top:1px solid #999;padding:5px 5px 5px 10px;background:#ccc;font-weight:700;min-width:100%}@media (hover:hover) and (pointer:fine){.tabulator-row.tabulator-group:hover{cursor:pointer;background-color:rgba(0,0,0,.1)}}.tabulator-row.tabulator-group.tabulator-group-visible .tabulator-arrow{margin-right:10px;border-left:6px solid transparent;border-right:6px solid transparent;border-top:6px solid #666;border-bottom:0}.tabulator-row.tabulator-group.tabulator-group-level-1{padding-left:30px}.tabulator-row.tabulator-group.tabulator-group-level-2{padding-left:50px}.tabulator-row.tabulator-group.tabulator-group-level-3{padding-left:70px}.tabulator-row.tabulator-group.tabulator-group-level-4{padding-left:90px}.tabulator-row.tabulator-group.tabulator-group-level-5{padding-left:110px}.tabulator-row.tabulator-group .tabulator-group-toggle{display:inline-block}.tabulator-row.tabulator-group .tabulator-arrow{display:inline-block;width:0;height:0;margin-right:16px;border-top:6px solid transparent;border-bottom:6px solid transparent;border-right:0;border-left:6px solid #666;vertical-align:middle}.tabulator-row.tabulator-group span{margin-left:10px;color:#d00}.tabulator-popup-container{position:absolute;display:inline-block;box-sizing:border-box;background:#fff;border:1px solid #ddd;box-shadow:0 0 5px 0 rgba(0,0,0,.2);font-size:14px;overflow-y:auto;-webkit-overflow-scrolling:touch;z-index:10000}.tabulator-popup{padding:5px;border-radius:3px}.tabulator-tooltip{max-width:Min(500px,100%);padding:3px 5px;border-radius:2px;box-shadow:none;font-size:12px;pointer-events:none}.tabulator-menu .tabulator-menu-item{position:relative;box-sizing:border-box;padding:5px 10px;user-select:none}.tabulator-menu .tabulator-menu-item.tabulator-menu-item-disabled{opacity:.5}@media (hover:hover) and (pointer:fine){.tabulator-menu .tabulator-menu-item:not(.tabulator-menu-item-disabled):hover{cursor:pointer;background:#fff}}.tabulator-menu .tabulator-menu-item.tabulator-menu-item-submenu{padding-right:25px}.tabulator-menu .tabulator-menu-item.tabulator-menu-item-submenu:after{display:inline-block;position:absolute;top:calc(5px + .4em);right:10px;height:7px;width:7px;content:\\\"\\\";border-color:#ddd;border-style:solid;border-width:1px 1px 0 0;vertical-align:top;transform:rotate(45deg)}.tabulator-menu .tabulator-menu-separator{border-top:1px solid #ddd}.tabulator-edit-list{max-height:200px;font-size:14px;overflow-y:auto;-webkit-overflow-scrolling:touch}.tabulator-edit-list .tabulator-edit-list-item{padding:4px;color:#333;outline:none}.tabulator-edit-list .tabulator-edit-list-item.active{color:#fff;background:#1d68cd}.tabulator-edit-list .tabulator-edit-list-item.active.focused{outline:1px solid hsla(0,0%,100%,.5)}.tabulator-edit-list .tabulator-edit-list-item.focused{outline:1px solid #1d68cd}@media (hover:hover) and (pointer:fine){.tabulator-edit-list .tabulator-edit-list-item:hover{cursor:pointer;color:#fff;background:#1d68cd}}.tabulator-edit-list .tabulator-edit-list-placeholder{padding:4px;color:#333;text-align:center}.tabulator-edit-list .tabulator-edit-list-group{border-bottom:1px solid #ddd;padding:6px 4px 4px;color:#333;font-weight:700}.tabulator-edit-list .tabulator-edit-list-group.tabulator-edit-list-group-level-2,.tabulator-edit-list .tabulator-edit-list-item.tabulator-edit-list-group-level-2{padding-left:12px}.tabulator-edit-list .tabulator-edit-list-group.tabulator-edit-list-group-level-3,.tabulator-edit-list .tabulator-edit-list-item.tabulator-edit-list-group-level-3{padding-left:20px}.tabulator-edit-list .tabulator-edit-list-group.tabulator-edit-list-group-level-4,.tabulator-edit-list .tabulator-edit-list-item.tabulator-edit-list-group-level-4{padding-left:28px}.tabulator-edit-list .tabulator-edit-list-group.tabulator-edit-list-group-level-5,.tabulator-edit-list .tabulator-edit-list-item.tabulator-edit-list-group-level-5{padding-left:36px}.tabulator.tabulator-ltr{direction:ltr}.tabulator.tabulator-rtl{text-align:initial;direction:rtl}.tabulator.tabulator-rtl .tabulator-header .tabulator-col{text-align:initial;border-left:1px solid #ddd;border-right:initial}.tabulator.tabulator-rtl .tabulator-header .tabulator-col.tabulator-col-group .tabulator-col-group-cols{margin-right:0;margin-left:-1px}.tabulator.tabulator-rtl .tabulator-header .tabulator-col.tabulator-sortable .tabulator-col-title{padding-right:0;padding-left:25px}.tabulator.tabulator-rtl .tabulator-header .tabulator-col .tabulator-col-content .tabulator-col-sorter{left:8px;right:auto}.tabulator.tabulator-rtl .tabulator-row .tabulator-cell{border-right:initial;border-left:1px solid #ddd}.tabulator.tabulator-rtl .tabulator-row .tabulator-cell .tabulator-data-tree-branch{margin-right:0;margin-left:5px;border-bottom-left-radius:0;border-bottom-right-radius:1px;border-left:initial;border-right:2px solid #ddd}.tabulator.tabulator-rtl .tabulator-row .tabulator-cell .tabulator-data-tree-control{margin-right:0;margin-left:5px}.tabulator.tabulator-rtl .tabulator-row .tabulator-cell.tabulator-frozen.tabulator-frozen-left{border-left:2px solid #ddd}.tabulator.tabulator-rtl .tabulator-row .tabulator-cell.tabulator-frozen.tabulator-frozen-right{border-right:2px solid #ddd}.tabulator.tabulator-rtl .tabulator-row .tabulator-col-resize-handle:last-of-type{width:3px;margin-left:0;margin-right:-3px}.tabulator.tabulator-rtl .tabulator-footer .tabulator-calcs-holder{text-align:initial}.tabulator-print-fullscreen{position:absolute;top:0;bottom:0;left:0;right:0;z-index:10000}body.tabulator-print-fullscreen-hide>:not(.tabulator-print-fullscreen){display:none!important}.tabulator-print-table{border-collapse:collapse}.tabulator-print-table .tabulator-data-tree-branch{display:inline-block;vertical-align:middle;height:9px;width:7px;margin-top:-9px;margin-right:5px;border-bottom-left-radius:1px;border-left:2px solid #ddd;border-bottom:2px solid #ddd}.tabulator-print-table .tabulator-print-table-group{box-sizing:border-box;border-bottom:1px solid #999;border-right:1px solid #ddd;border-top:1px solid #999;padding:5px 5px 5px 10px;background:#ccc;font-weight:700;min-width:100%}@media (hover:hover) and (pointer:fine){.tabulator-print-table .tabulator-print-table-group:hover{cursor:pointer;background-color:rgba(0,0,0,.1)}}.tabulator-print-table .tabulator-print-table-group.tabulator-group-visible .tabulator-arrow{margin-right:10px;border-left:6px solid transparent;border-right:6px solid transparent;border-top:6px solid #666;border-bottom:0}.tabulator-print-table .tabulator-print-table-group.tabulator-group-level-1 td{padding-left:30px!important}.tabulator-print-table .tabulator-print-table-group.tabulator-group-level-2 td{padding-left:50px!important}.tabulator-print-table .tabulator-print-table-group.tabulator-group-level-3 td{padding-left:70px!important}.tabulator-print-table .tabulator-print-table-group.tabulator-group-level-4 td{padding-left:90px!important}.tabulator-print-table .tabulator-print-table-group.tabulator-group-level-5 td{padding-left:110px!important}.tabulator-print-table .tabulator-print-table-group .tabulator-group-toggle{display:inline-block}.tabulator-print-table .tabulator-print-table-group .tabulator-arrow{display:inline-block;width:0;height:0;margin-right:16px;border-top:6px solid transparent;border-bottom:6px solid transparent;border-right:0;border-left:6px solid #666;vertical-align:middle}.tabulator-print-table .tabulator-print-table-group span{color:#d00}.tabulator-print-table .tabulator-data-tree-control{display:inline-flex;justify-content:center;align-items:center;vertical-align:middle;height:11px;width:11px;margin-right:5px;border:1px solid #333;border-radius:2px;background:rgba(0,0,0,.1);overflow:hidden}@media (hover:hover) and (pointer:fine){.tabulator-print-table .tabulator-data-tree-control:hover{cursor:pointer;background:rgba(0,0,0,.2)}}.tabulator-print-table .tabulator-data-tree-control .tabulator-data-tree-control-collapse{display:inline-block;position:relative;height:7px;width:1px;background:transparent}.tabulator-print-table .tabulator-data-tree-control .tabulator-data-tree-control-collapse:after{position:absolute;content:\\\"\\\";left:-3px;top:3px;height:1px;width:7px;background:#333}.tabulator-print-table .tabulator-data-tree-control .tabulator-data-tree-control-expand{display:inline-block;position:relative;height:7px;width:1px;background:#333}.tabulator-print-table .tabulator-data-tree-control .tabulator-data-tree-control-expand:after{position:absolute;content:\\\"\\\";left:-3px;top:3px;height:1px;width:7px;background:#333}.tabulator{border:none;background-color:#fff}.tabulator .tabulator-header .tabulator-calcs-holder{background:#f2f2f2!important;border-bottom:1px solid #999}.tabulator .tabulator-header .tabulator-calcs-holder .tabulator-row{background:#f2f2f2!important}.tabulator .tabulator-tableholder .tabulator-placeholder span{color:#000}.tabulator .tabulator-footer .tabulator-calcs-holder{background:#f2f2f2!important;border-bottom:1px solid #fff}.tabulator .tabulator-footer .tabulator-calcs-holder .tabulator-row{background:#f2f2f2!important}.tabulator-row{border-bottom:1px solid #ddd}.tabulator-row .tabulator-cell:last-of-type{border-right:none}.tabulator-row.tabulator-group span{color:#666}.tabulator-print-table .tabulator-print-table-group span{margin-left:10px;color:#666}\\n/*# sourceMappingURL=tabulator_simple.min.css.map */\");\n    },    function(Bokeh) {\n      Bokeh.set_log_level(\"info\");\n    },\nfunction(Bokeh) {} // ensure no trailing comma for IE\n  ];\n\n  function run_inline_js() {\n    if ((root.Bokeh !== undefined) || (force === true)) {\n      for (var i = 0; i < inline_js.length; i++) {\n        inline_js[i].call(root, root.Bokeh);\n      }\n      // Cache old bokeh versions\n      if (Bokeh != undefined && !reloading) {\n\tvar NewBokeh = root.Bokeh;\n\tif (Bokeh.versions === undefined) {\n\t  Bokeh.versions = new Map();\n\t}\n\tif (NewBokeh.version !== Bokeh.version) {\n\t  Bokeh.versions.set(NewBokeh.version, NewBokeh)\n\t}\n\troot.Bokeh = Bokeh;\n      }} else if (Date.now() < root._bokeh_timeout) {\n      setTimeout(run_inline_js, 100);\n    } else if (!root._bokeh_failed_load) {\n      console.log(\"Bokeh: BokehJS failed to load within specified timeout.\");\n      root._bokeh_failed_load = true;\n    }\n    root._bokeh_is_initializing = false\n  }\n\n  function load_or_wait() {\n    // Implement a backoff loop that tries to ensure we do not load multiple\n    // versions of Bokeh and its dependencies at the same time.\n    // In recent versions we use the root._bokeh_is_initializing flag\n    // to determine whether there is an ongoing attempt to initialize\n    // bokeh, however for backward compatibility we also try to ensure\n    // that we do not start loading a newer (Panel>=1.0 and Bokeh>3) version\n    // before older versions are fully initialized.\n    if (root._bokeh_is_initializing && Date.now() > root._bokeh_timeout) {\n      root._bokeh_is_initializing = false;\n      root._bokeh_onload_callbacks = undefined;\n      console.log(\"Bokeh: BokehJS was loaded multiple times but one version failed to initialize.\");\n      load_or_wait();\n    } else if (root._bokeh_is_initializing || (typeof root._bokeh_is_initializing === \"undefined\" && root._bokeh_onload_callbacks !== undefined)) {\n      setTimeout(load_or_wait, 100);\n    } else {\n      Bokeh = root.Bokeh;\n      bokeh_loaded = Bokeh != null && (Bokeh.version === py_version || (Bokeh.versions !== undefined && Bokeh.versions.has(py_version)));\n      root._bokeh_is_initializing = true\n      root._bokeh_onload_callbacks = []\n      if (!reloading && (!bokeh_loaded || is_dev)) {\n\troot.Bokeh = undefined;\n      }\n      load_libs(css_urls, js_urls, js_modules, js_exports, function() {\n\tconsole.debug(\"Bokeh: BokehJS plotting callback run at\", now());\n\trun_inline_js();\n      });\n    }\n  }\n  // Give older versions of the autoload script a head-start to ensure\n  // they initialize before we start loading newer version.\n  setTimeout(load_or_wait, 100)\n}(window));"
     },
     "metadata": {},
     "output_type": "display_data"
    },
    {
     "data": {
      "application/javascript": [
       "\n",
       "if ((window.PyViz === undefined) || (window.PyViz instanceof HTMLElement)) {\n",
       "  window.PyViz = {comms: {}, comm_status:{}, kernels:{}, receivers: {}, plot_index: []}\n",
       "}\n",
       "\n",
       "\n",
       "    function JupyterCommManager() {\n",
       "    }\n",
       "\n",
       "    JupyterCommManager.prototype.register_target = function(plot_id, comm_id, msg_handler) {\n",
       "      if (window.comm_manager || ((window.Jupyter !== undefined) && (Jupyter.notebook.kernel != null))) {\n",
       "        var comm_manager = window.comm_manager || Jupyter.notebook.kernel.comm_manager;\n",
       "        comm_manager.register_target(comm_id, function(comm) {\n",
       "          comm.on_msg(msg_handler);\n",
       "        });\n",
       "      } else if ((plot_id in window.PyViz.kernels) && (window.PyViz.kernels[plot_id])) {\n",
       "        window.PyViz.kernels[plot_id].registerCommTarget(comm_id, function(comm) {\n",
       "          comm.onMsg = msg_handler;\n",
       "        });\n",
       "      } else if (typeof google != 'undefined' && google.colab.kernel != null) {\n",
       "        google.colab.kernel.comms.registerTarget(comm_id, (comm) => {\n",
       "          var messages = comm.messages[Symbol.asyncIterator]();\n",
       "          function processIteratorResult(result) {\n",
       "            var message = result.value;\n",
       "            console.log(message)\n",
       "            var content = {data: message.data, comm_id};\n",
       "            var buffers = []\n",
       "            for (var buffer of message.buffers || []) {\n",
       "              buffers.push(new DataView(buffer))\n",
       "            }\n",
       "            var metadata = message.metadata || {};\n",
       "            var msg = {content, buffers, metadata}\n",
       "            msg_handler(msg);\n",
       "            return messages.next().then(processIteratorResult);\n",
       "          }\n",
       "          return messages.next().then(processIteratorResult);\n",
       "        })\n",
       "      }\n",
       "    }\n",
       "\n",
       "    JupyterCommManager.prototype.get_client_comm = function(plot_id, comm_id, msg_handler) {\n",
       "      if (comm_id in window.PyViz.comms) {\n",
       "        return window.PyViz.comms[comm_id];\n",
       "      } else if (window.comm_manager || ((window.Jupyter !== undefined) && (Jupyter.notebook.kernel != null))) {\n",
       "        var comm_manager = window.comm_manager || Jupyter.notebook.kernel.comm_manager;\n",
       "        var comm = comm_manager.new_comm(comm_id, {}, {}, {}, comm_id);\n",
       "        if (msg_handler) {\n",
       "          comm.on_msg(msg_handler);\n",
       "        }\n",
       "      } else if ((plot_id in window.PyViz.kernels) && (window.PyViz.kernels[plot_id])) {\n",
       "        var comm = window.PyViz.kernels[plot_id].connectToComm(comm_id);\n",
       "        comm.open();\n",
       "        if (msg_handler) {\n",
       "          comm.onMsg = msg_handler;\n",
       "        }\n",
       "      } else if (typeof google != 'undefined' && google.colab.kernel != null) {\n",
       "        var comm_promise = google.colab.kernel.comms.open(comm_id)\n",
       "        comm_promise.then((comm) => {\n",
       "          window.PyViz.comms[comm_id] = comm;\n",
       "          if (msg_handler) {\n",
       "            var messages = comm.messages[Symbol.asyncIterator]();\n",
       "            function processIteratorResult(result) {\n",
       "              var message = result.value;\n",
       "              var content = {data: message.data};\n",
       "              var metadata = message.metadata || {comm_id};\n",
       "              var msg = {content, metadata}\n",
       "              msg_handler(msg);\n",
       "              return messages.next().then(processIteratorResult);\n",
       "            }\n",
       "            return messages.next().then(processIteratorResult);\n",
       "          }\n",
       "        }) \n",
       "        var sendClosure = (data, metadata, buffers, disposeOnDone) => {\n",
       "          return comm_promise.then((comm) => {\n",
       "            comm.send(data, metadata, buffers, disposeOnDone);\n",
       "          });\n",
       "        };\n",
       "        var comm = {\n",
       "          send: sendClosure\n",
       "        };\n",
       "      }\n",
       "      window.PyViz.comms[comm_id] = comm;\n",
       "      return comm;\n",
       "    }\n",
       "    window.PyViz.comm_manager = new JupyterCommManager();\n",
       "    \n",
       "\n",
       "\n",
       "var JS_MIME_TYPE = 'application/javascript';\n",
       "var HTML_MIME_TYPE = 'text/html';\n",
       "var EXEC_MIME_TYPE = 'application/vnd.holoviews_exec.v0+json';\n",
       "var CLASS_NAME = 'output';\n",
       "\n",
       "/**\n",
       " * Render data to the DOM node\n",
       " */\n",
       "function render(props, node) {\n",
       "  var div = document.createElement(\"div\");\n",
       "  var script = document.createElement(\"script\");\n",
       "  node.appendChild(div);\n",
       "  node.appendChild(script);\n",
       "}\n",
       "\n",
       "/**\n",
       " * Handle when a new output is added\n",
       " */\n",
       "function handle_add_output(event, handle) {\n",
       "  var output_area = handle.output_area;\n",
       "  var output = handle.output;\n",
       "  if ((output.data == undefined) || (!output.data.hasOwnProperty(EXEC_MIME_TYPE))) {\n",
       "    return\n",
       "  }\n",
       "  var id = output.metadata[EXEC_MIME_TYPE][\"id\"];\n",
       "  var toinsert = output_area.element.find(\".\" + CLASS_NAME.split(' ')[0]);\n",
       "  if (id !== undefined) {\n",
       "    var nchildren = toinsert.length;\n",
       "    var html_node = toinsert[nchildren-1].children[0];\n",
       "    html_node.innerHTML = output.data[HTML_MIME_TYPE];\n",
       "    var scripts = [];\n",
       "    var nodelist = html_node.querySelectorAll(\"script\");\n",
       "    for (var i in nodelist) {\n",
       "      if (nodelist.hasOwnProperty(i)) {\n",
       "        scripts.push(nodelist[i])\n",
       "      }\n",
       "    }\n",
       "\n",
       "    scripts.forEach( function (oldScript) {\n",
       "      var newScript = document.createElement(\"script\");\n",
       "      var attrs = [];\n",
       "      var nodemap = oldScript.attributes;\n",
       "      for (var j in nodemap) {\n",
       "        if (nodemap.hasOwnProperty(j)) {\n",
       "          attrs.push(nodemap[j])\n",
       "        }\n",
       "      }\n",
       "      attrs.forEach(function(attr) { newScript.setAttribute(attr.name, attr.value) });\n",
       "      newScript.appendChild(document.createTextNode(oldScript.innerHTML));\n",
       "      oldScript.parentNode.replaceChild(newScript, oldScript);\n",
       "    });\n",
       "    if (JS_MIME_TYPE in output.data) {\n",
       "      toinsert[nchildren-1].children[1].textContent = output.data[JS_MIME_TYPE];\n",
       "    }\n",
       "    output_area._hv_plot_id = id;\n",
       "    if ((window.Bokeh !== undefined) && (id in Bokeh.index)) {\n",
       "      window.PyViz.plot_index[id] = Bokeh.index[id];\n",
       "    } else {\n",
       "      window.PyViz.plot_index[id] = null;\n",
       "    }\n",
       "  } else if (output.metadata[EXEC_MIME_TYPE][\"server_id\"] !== undefined) {\n",
       "    var bk_div = document.createElement(\"div\");\n",
       "    bk_div.innerHTML = output.data[HTML_MIME_TYPE];\n",
       "    var script_attrs = bk_div.children[0].attributes;\n",
       "    for (var i = 0; i < script_attrs.length; i++) {\n",
       "      toinsert[toinsert.length - 1].childNodes[1].setAttribute(script_attrs[i].name, script_attrs[i].value);\n",
       "    }\n",
       "    // store reference to server id on output_area\n",
       "    output_area._bokeh_server_id = output.metadata[EXEC_MIME_TYPE][\"server_id\"];\n",
       "  }\n",
       "}\n",
       "\n",
       "/**\n",
       " * Handle when an output is cleared or removed\n",
       " */\n",
       "function handle_clear_output(event, handle) {\n",
       "  var id = handle.cell.output_area._hv_plot_id;\n",
       "  var server_id = handle.cell.output_area._bokeh_server_id;\n",
       "  if (((id === undefined) || !(id in PyViz.plot_index)) && (server_id !== undefined)) { return; }\n",
       "  var comm = window.PyViz.comm_manager.get_client_comm(\"hv-extension-comm\", \"hv-extension-comm\", function () {});\n",
       "  if (server_id !== null) {\n",
       "    comm.send({event_type: 'server_delete', 'id': server_id});\n",
       "    return;\n",
       "  } else if (comm !== null) {\n",
       "    comm.send({event_type: 'delete', 'id': id});\n",
       "  }\n",
       "  delete PyViz.plot_index[id];\n",
       "  if ((window.Bokeh !== undefined) & (id in window.Bokeh.index)) {\n",
       "    var doc = window.Bokeh.index[id].model.document\n",
       "    doc.clear();\n",
       "    const i = window.Bokeh.documents.indexOf(doc);\n",
       "    if (i > -1) {\n",
       "      window.Bokeh.documents.splice(i, 1);\n",
       "    }\n",
       "  }\n",
       "}\n",
       "\n",
       "/**\n",
       " * Handle kernel restart event\n",
       " */\n",
       "function handle_kernel_cleanup(event, handle) {\n",
       "  delete PyViz.comms[\"hv-extension-comm\"];\n",
       "  window.PyViz.plot_index = {}\n",
       "}\n",
       "\n",
       "/**\n",
       " * Handle update_display_data messages\n",
       " */\n",
       "function handle_update_output(event, handle) {\n",
       "  handle_clear_output(event, {cell: {output_area: handle.output_area}})\n",
       "  handle_add_output(event, handle)\n",
       "}\n",
       "\n",
       "function register_renderer(events, OutputArea) {\n",
       "  function append_mime(data, metadata, element) {\n",
       "    // create a DOM node to render to\n",
       "    var toinsert = this.create_output_subarea(\n",
       "    metadata,\n",
       "    CLASS_NAME,\n",
       "    EXEC_MIME_TYPE\n",
       "    );\n",
       "    this.keyboard_manager.register_events(toinsert);\n",
       "    // Render to node\n",
       "    var props = {data: data, metadata: metadata[EXEC_MIME_TYPE]};\n",
       "    render(props, toinsert[0]);\n",
       "    element.append(toinsert);\n",
       "    return toinsert\n",
       "  }\n",
       "\n",
       "  events.on('output_added.OutputArea', handle_add_output);\n",
       "  events.on('output_updated.OutputArea', handle_update_output);\n",
       "  events.on('clear_output.CodeCell', handle_clear_output);\n",
       "  events.on('delete.Cell', handle_clear_output);\n",
       "  events.on('kernel_ready.Kernel', handle_kernel_cleanup);\n",
       "\n",
       "  OutputArea.prototype.register_mime_type(EXEC_MIME_TYPE, append_mime, {\n",
       "    safe: true,\n",
       "    index: 0\n",
       "  });\n",
       "}\n",
       "\n",
       "if (window.Jupyter !== undefined) {\n",
       "  try {\n",
       "    var events = require('base/js/events');\n",
       "    var OutputArea = require('notebook/js/outputarea').OutputArea;\n",
       "    if (OutputArea.prototype.mime_types().indexOf(EXEC_MIME_TYPE) == -1) {\n",
       "      register_renderer(events, OutputArea);\n",
       "    }\n",
       "  } catch(err) {\n",
       "  }\n",
       "}\n"
      ],
      "application/vnd.holoviews_load.v0+json": "\nif ((window.PyViz === undefined) || (window.PyViz instanceof HTMLElement)) {\n  window.PyViz = {comms: {}, comm_status:{}, kernels:{}, receivers: {}, plot_index: []}\n}\n\n\n    function JupyterCommManager() {\n    }\n\n    JupyterCommManager.prototype.register_target = function(plot_id, comm_id, msg_handler) {\n      if (window.comm_manager || ((window.Jupyter !== undefined) && (Jupyter.notebook.kernel != null))) {\n        var comm_manager = window.comm_manager || Jupyter.notebook.kernel.comm_manager;\n        comm_manager.register_target(comm_id, function(comm) {\n          comm.on_msg(msg_handler);\n        });\n      } else if ((plot_id in window.PyViz.kernels) && (window.PyViz.kernels[plot_id])) {\n        window.PyViz.kernels[plot_id].registerCommTarget(comm_id, function(comm) {\n          comm.onMsg = msg_handler;\n        });\n      } else if (typeof google != 'undefined' && google.colab.kernel != null) {\n        google.colab.kernel.comms.registerTarget(comm_id, (comm) => {\n          var messages = comm.messages[Symbol.asyncIterator]();\n          function processIteratorResult(result) {\n            var message = result.value;\n            console.log(message)\n            var content = {data: message.data, comm_id};\n            var buffers = []\n            for (var buffer of message.buffers || []) {\n              buffers.push(new DataView(buffer))\n            }\n            var metadata = message.metadata || {};\n            var msg = {content, buffers, metadata}\n            msg_handler(msg);\n            return messages.next().then(processIteratorResult);\n          }\n          return messages.next().then(processIteratorResult);\n        })\n      }\n    }\n\n    JupyterCommManager.prototype.get_client_comm = function(plot_id, comm_id, msg_handler) {\n      if (comm_id in window.PyViz.comms) {\n        return window.PyViz.comms[comm_id];\n      } else if (window.comm_manager || ((window.Jupyter !== undefined) && (Jupyter.notebook.kernel != null))) {\n        var comm_manager = window.comm_manager || Jupyter.notebook.kernel.comm_manager;\n        var comm = comm_manager.new_comm(comm_id, {}, {}, {}, comm_id);\n        if (msg_handler) {\n          comm.on_msg(msg_handler);\n        }\n      } else if ((plot_id in window.PyViz.kernels) && (window.PyViz.kernels[plot_id])) {\n        var comm = window.PyViz.kernels[plot_id].connectToComm(comm_id);\n        comm.open();\n        if (msg_handler) {\n          comm.onMsg = msg_handler;\n        }\n      } else if (typeof google != 'undefined' && google.colab.kernel != null) {\n        var comm_promise = google.colab.kernel.comms.open(comm_id)\n        comm_promise.then((comm) => {\n          window.PyViz.comms[comm_id] = comm;\n          if (msg_handler) {\n            var messages = comm.messages[Symbol.asyncIterator]();\n            function processIteratorResult(result) {\n              var message = result.value;\n              var content = {data: message.data};\n              var metadata = message.metadata || {comm_id};\n              var msg = {content, metadata}\n              msg_handler(msg);\n              return messages.next().then(processIteratorResult);\n            }\n            return messages.next().then(processIteratorResult);\n          }\n        }) \n        var sendClosure = (data, metadata, buffers, disposeOnDone) => {\n          return comm_promise.then((comm) => {\n            comm.send(data, metadata, buffers, disposeOnDone);\n          });\n        };\n        var comm = {\n          send: sendClosure\n        };\n      }\n      window.PyViz.comms[comm_id] = comm;\n      return comm;\n    }\n    window.PyViz.comm_manager = new JupyterCommManager();\n    \n\n\nvar JS_MIME_TYPE = 'application/javascript';\nvar HTML_MIME_TYPE = 'text/html';\nvar EXEC_MIME_TYPE = 'application/vnd.holoviews_exec.v0+json';\nvar CLASS_NAME = 'output';\n\n/**\n * Render data to the DOM node\n */\nfunction render(props, node) {\n  var div = document.createElement(\"div\");\n  var script = document.createElement(\"script\");\n  node.appendChild(div);\n  node.appendChild(script);\n}\n\n/**\n * Handle when a new output is added\n */\nfunction handle_add_output(event, handle) {\n  var output_area = handle.output_area;\n  var output = handle.output;\n  if ((output.data == undefined) || (!output.data.hasOwnProperty(EXEC_MIME_TYPE))) {\n    return\n  }\n  var id = output.metadata[EXEC_MIME_TYPE][\"id\"];\n  var toinsert = output_area.element.find(\".\" + CLASS_NAME.split(' ')[0]);\n  if (id !== undefined) {\n    var nchildren = toinsert.length;\n    var html_node = toinsert[nchildren-1].children[0];\n    html_node.innerHTML = output.data[HTML_MIME_TYPE];\n    var scripts = [];\n    var nodelist = html_node.querySelectorAll(\"script\");\n    for (var i in nodelist) {\n      if (nodelist.hasOwnProperty(i)) {\n        scripts.push(nodelist[i])\n      }\n    }\n\n    scripts.forEach( function (oldScript) {\n      var newScript = document.createElement(\"script\");\n      var attrs = [];\n      var nodemap = oldScript.attributes;\n      for (var j in nodemap) {\n        if (nodemap.hasOwnProperty(j)) {\n          attrs.push(nodemap[j])\n        }\n      }\n      attrs.forEach(function(attr) { newScript.setAttribute(attr.name, attr.value) });\n      newScript.appendChild(document.createTextNode(oldScript.innerHTML));\n      oldScript.parentNode.replaceChild(newScript, oldScript);\n    });\n    if (JS_MIME_TYPE in output.data) {\n      toinsert[nchildren-1].children[1].textContent = output.data[JS_MIME_TYPE];\n    }\n    output_area._hv_plot_id = id;\n    if ((window.Bokeh !== undefined) && (id in Bokeh.index)) {\n      window.PyViz.plot_index[id] = Bokeh.index[id];\n    } else {\n      window.PyViz.plot_index[id] = null;\n    }\n  } else if (output.metadata[EXEC_MIME_TYPE][\"server_id\"] !== undefined) {\n    var bk_div = document.createElement(\"div\");\n    bk_div.innerHTML = output.data[HTML_MIME_TYPE];\n    var script_attrs = bk_div.children[0].attributes;\n    for (var i = 0; i < script_attrs.length; i++) {\n      toinsert[toinsert.length - 1].childNodes[1].setAttribute(script_attrs[i].name, script_attrs[i].value);\n    }\n    // store reference to server id on output_area\n    output_area._bokeh_server_id = output.metadata[EXEC_MIME_TYPE][\"server_id\"];\n  }\n}\n\n/**\n * Handle when an output is cleared or removed\n */\nfunction handle_clear_output(event, handle) {\n  var id = handle.cell.output_area._hv_plot_id;\n  var server_id = handle.cell.output_area._bokeh_server_id;\n  if (((id === undefined) || !(id in PyViz.plot_index)) && (server_id !== undefined)) { return; }\n  var comm = window.PyViz.comm_manager.get_client_comm(\"hv-extension-comm\", \"hv-extension-comm\", function () {});\n  if (server_id !== null) {\n    comm.send({event_type: 'server_delete', 'id': server_id});\n    return;\n  } else if (comm !== null) {\n    comm.send({event_type: 'delete', 'id': id});\n  }\n  delete PyViz.plot_index[id];\n  if ((window.Bokeh !== undefined) & (id in window.Bokeh.index)) {\n    var doc = window.Bokeh.index[id].model.document\n    doc.clear();\n    const i = window.Bokeh.documents.indexOf(doc);\n    if (i > -1) {\n      window.Bokeh.documents.splice(i, 1);\n    }\n  }\n}\n\n/**\n * Handle kernel restart event\n */\nfunction handle_kernel_cleanup(event, handle) {\n  delete PyViz.comms[\"hv-extension-comm\"];\n  window.PyViz.plot_index = {}\n}\n\n/**\n * Handle update_display_data messages\n */\nfunction handle_update_output(event, handle) {\n  handle_clear_output(event, {cell: {output_area: handle.output_area}})\n  handle_add_output(event, handle)\n}\n\nfunction register_renderer(events, OutputArea) {\n  function append_mime(data, metadata, element) {\n    // create a DOM node to render to\n    var toinsert = this.create_output_subarea(\n    metadata,\n    CLASS_NAME,\n    EXEC_MIME_TYPE\n    );\n    this.keyboard_manager.register_events(toinsert);\n    // Render to node\n    var props = {data: data, metadata: metadata[EXEC_MIME_TYPE]};\n    render(props, toinsert[0]);\n    element.append(toinsert);\n    return toinsert\n  }\n\n  events.on('output_added.OutputArea', handle_add_output);\n  events.on('output_updated.OutputArea', handle_update_output);\n  events.on('clear_output.CodeCell', handle_clear_output);\n  events.on('delete.Cell', handle_clear_output);\n  events.on('kernel_ready.Kernel', handle_kernel_cleanup);\n\n  OutputArea.prototype.register_mime_type(EXEC_MIME_TYPE, append_mime, {\n    safe: true,\n    index: 0\n  });\n}\n\nif (window.Jupyter !== undefined) {\n  try {\n    var events = require('base/js/events');\n    var OutputArea = require('notebook/js/outputarea').OutputArea;\n    if (OutputArea.prototype.mime_types().indexOf(EXEC_MIME_TYPE) == -1) {\n      register_renderer(events, OutputArea);\n    }\n  } catch(err) {\n  }\n}\n"
     },
     "metadata": {},
     "output_type": "display_data"
    },
    {
     "data": {
      "text/html": [
       "<style>*[data-root-id],\n",
       "*[data-root-id] > * {\n",
       "  box-sizing: border-box;\n",
       "  font-family: var(--jp-ui-font-family);\n",
       "  font-size: var(--jp-ui-font-size1);\n",
       "  color: var(--vscode-editor-foreground, var(--jp-ui-font-color1));\n",
       "}\n",
       "\n",
       "/* Override VSCode background color */\n",
       ".cell-output-ipywidget-background:has(\n",
       "    > .cell-output-ipywidget-background > .lm-Widget > *[data-root-id]\n",
       "  ),\n",
       ".cell-output-ipywidget-background:has(> .lm-Widget > *[data-root-id]) {\n",
       "  background-color: transparent !important;\n",
       "}\n",
       "</style>"
      ]
     },
     "metadata": {},
     "output_type": "display_data"
    },
    {
     "data": {
      "application/vnd.holoviews_exec.v0+json": "",
      "text/html": [
       "<div id='0e84fa4b-e478-46eb-ba50-f73cfc4ea7e0'>\n",
       "  <div id=\"ae487878-bd2a-45e3-ad15-915b7d96d5f1\" data-root-id=\"0e84fa4b-e478-46eb-ba50-f73cfc4ea7e0\" style=\"display: contents;\"></div>\n",
       "</div>\n",
       "<script type=\"application/javascript\">(function(root) {\n",
       "  var docs_json = {\"b6fb8d2d-8b68-45ce-8da6-b95c8c0e3825\":{\"version\":\"3.2.1\",\"title\":\"Bokeh Application\",\"roots\":[{\"type\":\"object\",\"name\":\"panel.models.browser.BrowserInfo\",\"id\":\"0e84fa4b-e478-46eb-ba50-f73cfc4ea7e0\"},{\"type\":\"object\",\"name\":\"panel.models.comm_manager.CommManager\",\"id\":\"72430f07-494e-4a63-bd94-bde59dd7f3f7\",\"attributes\":{\"plot_id\":\"0e84fa4b-e478-46eb-ba50-f73cfc4ea7e0\",\"comm_id\":\"0dc3123cf9da459f8d2d106644b8f0f2\",\"client_comm_id\":\"7e60e7b5f898480488166493147cb371\"}}],\"defs\":[{\"type\":\"model\",\"name\":\"ReactiveHTML1\"},{\"type\":\"model\",\"name\":\"FlexBox1\",\"properties\":[{\"name\":\"align_content\",\"kind\":\"Any\",\"default\":\"flex-start\"},{\"name\":\"align_items\",\"kind\":\"Any\",\"default\":\"flex-start\"},{\"name\":\"flex_direction\",\"kind\":\"Any\",\"default\":\"row\"},{\"name\":\"flex_wrap\",\"kind\":\"Any\",\"default\":\"wrap\"},{\"name\":\"justify_content\",\"kind\":\"Any\",\"default\":\"flex-start\"}]},{\"type\":\"model\",\"name\":\"FloatPanel1\",\"properties\":[{\"name\":\"config\",\"kind\":\"Any\",\"default\":{\"type\":\"map\"}},{\"name\":\"contained\",\"kind\":\"Any\",\"default\":true},{\"name\":\"position\",\"kind\":\"Any\",\"default\":\"right-top\"},{\"name\":\"offsetx\",\"kind\":\"Any\",\"default\":null},{\"name\":\"offsety\",\"kind\":\"Any\",\"default\":null},{\"name\":\"theme\",\"kind\":\"Any\",\"default\":\"primary\"},{\"name\":\"status\",\"kind\":\"Any\",\"default\":\"normalized\"}]},{\"type\":\"model\",\"name\":\"GridStack1\",\"properties\":[{\"name\":\"mode\",\"kind\":\"Any\",\"default\":\"warn\"},{\"name\":\"ncols\",\"kind\":\"Any\",\"default\":null},{\"name\":\"nrows\",\"kind\":\"Any\",\"default\":null},{\"name\":\"allow_resize\",\"kind\":\"Any\",\"default\":true},{\"name\":\"allow_drag\",\"kind\":\"Any\",\"default\":true},{\"name\":\"state\",\"kind\":\"Any\",\"default\":[]}]},{\"type\":\"model\",\"name\":\"drag1\",\"properties\":[{\"name\":\"slider_width\",\"kind\":\"Any\",\"default\":5},{\"name\":\"slider_color\",\"kind\":\"Any\",\"default\":\"black\"},{\"name\":\"value\",\"kind\":\"Any\",\"default\":50}]},{\"type\":\"model\",\"name\":\"click1\",\"properties\":[{\"name\":\"terminal_output\",\"kind\":\"Any\",\"default\":\"\"},{\"name\":\"debug_name\",\"kind\":\"Any\",\"default\":\"\"},{\"name\":\"clears\",\"kind\":\"Any\",\"default\":0}]},{\"type\":\"model\",\"name\":\"FastWrapper1\",\"properties\":[{\"name\":\"object\",\"kind\":\"Any\",\"default\":null},{\"name\":\"style\",\"kind\":\"Any\",\"default\":null}]},{\"type\":\"model\",\"name\":\"NotificationAreaBase1\",\"properties\":[{\"name\":\"position\",\"kind\":\"Any\",\"default\":\"bottom-right\"},{\"name\":\"_clear\",\"kind\":\"Any\",\"default\":0}]},{\"type\":\"model\",\"name\":\"NotificationArea1\",\"properties\":[{\"name\":\"notifications\",\"kind\":\"Any\",\"default\":[]},{\"name\":\"position\",\"kind\":\"Any\",\"default\":\"bottom-right\"},{\"name\":\"_clear\",\"kind\":\"Any\",\"default\":0},{\"name\":\"types\",\"kind\":\"Any\",\"default\":[{\"type\":\"map\",\"entries\":[[\"type\",\"warning\"],[\"background\",\"#ffc107\"],[\"icon\",{\"type\":\"map\",\"entries\":[[\"className\",\"fas fa-exclamation-triangle\"],[\"tagName\",\"i\"],[\"color\",\"white\"]]}]]},{\"type\":\"map\",\"entries\":[[\"type\",\"info\"],[\"background\",\"#007bff\"],[\"icon\",{\"type\":\"map\",\"entries\":[[\"className\",\"fas fa-info-circle\"],[\"tagName\",\"i\"],[\"color\",\"white\"]]}]]}]}]},{\"type\":\"model\",\"name\":\"Notification\",\"properties\":[{\"name\":\"background\",\"kind\":\"Any\",\"default\":null},{\"name\":\"duration\",\"kind\":\"Any\",\"default\":3000},{\"name\":\"icon\",\"kind\":\"Any\",\"default\":null},{\"name\":\"message\",\"kind\":\"Any\",\"default\":\"\"},{\"name\":\"notification_type\",\"kind\":\"Any\",\"default\":null},{\"name\":\"_destroyed\",\"kind\":\"Any\",\"default\":false}]},{\"type\":\"model\",\"name\":\"TemplateActions1\",\"properties\":[{\"name\":\"open_modal\",\"kind\":\"Any\",\"default\":0},{\"name\":\"close_modal\",\"kind\":\"Any\",\"default\":0}]},{\"type\":\"model\",\"name\":\"BootstrapTemplateActions1\",\"properties\":[{\"name\":\"open_modal\",\"kind\":\"Any\",\"default\":0},{\"name\":\"close_modal\",\"kind\":\"Any\",\"default\":0}]},{\"type\":\"model\",\"name\":\"MaterialTemplateActions1\",\"properties\":[{\"name\":\"open_modal\",\"kind\":\"Any\",\"default\":0},{\"name\":\"close_modal\",\"kind\":\"Any\",\"default\":0}]}]}};\n",
       "  var render_items = [{\"docid\":\"b6fb8d2d-8b68-45ce-8da6-b95c8c0e3825\",\"roots\":{\"0e84fa4b-e478-46eb-ba50-f73cfc4ea7e0\":\"ae487878-bd2a-45e3-ad15-915b7d96d5f1\"},\"root_ids\":[\"0e84fa4b-e478-46eb-ba50-f73cfc4ea7e0\"]}];\n",
       "  var docs = Object.values(docs_json)\n",
       "  if (!docs) {\n",
       "    return\n",
       "  }\n",
       "  const py_version = docs[0].version.replace('rc', '-rc.').replace('.dev', '-dev.')\n",
       "  const is_dev = py_version.indexOf(\"+\") !== -1 || py_version.indexOf(\"-\") !== -1\n",
       "  function embed_document(root) {\n",
       "    var Bokeh = get_bokeh(root)\n",
       "    Bokeh.embed.embed_items_notebook(docs_json, render_items);\n",
       "    for (const render_item of render_items) {\n",
       "      for (const root_id of render_item.root_ids) {\n",
       "\tconst id_el = document.getElementById(root_id)\n",
       "\tif (id_el.children.length && (id_el.children[0].className === 'bk-root')) {\n",
       "\t  const root_el = id_el.children[0]\n",
       "\t  root_el.id = root_el.id + '-rendered'\n",
       "\t}\n",
       "      }\n",
       "    }\n",
       "  }\n",
       "  function get_bokeh(root) {\n",
       "    if (root.Bokeh === undefined) {\n",
       "      return null\n",
       "    } else if (root.Bokeh.version !== py_version && !is_dev) {\n",
       "      if (root.Bokeh.versions === undefined || !root.Bokeh.versions.has(py_version)) {\n",
       "\treturn null\n",
       "      }\n",
       "      return root.Bokeh.versions.get(py_version);\n",
       "    } else if (root.Bokeh.version === py_version) {\n",
       "      return root.Bokeh\n",
       "    }\n",
       "    return null\n",
       "  }\n",
       "  function is_loaded(root) {\n",
       "    var Bokeh = get_bokeh(root)\n",
       "    return (Bokeh != null && Bokeh.Panel !== undefined && ( root['Tabulator'] !== undefined) && ( root['Tabulator'] !== undefined))\n",
       "  }\n",
       "  if (is_loaded(root)) {\n",
       "    embed_document(root);\n",
       "  } else {\n",
       "    var attempts = 0;\n",
       "    var timer = setInterval(function(root) {\n",
       "      if (is_loaded(root)) {\n",
       "        clearInterval(timer);\n",
       "        embed_document(root);\n",
       "      } else if (document.readyState == \"complete\") {\n",
       "        attempts++;\n",
       "        if (attempts > 200) {\n",
       "          clearInterval(timer);\n",
       "\t  var Bokeh = get_bokeh(root)\n",
       "\t  if (Bokeh == null || Bokeh.Panel == null) {\n",
       "            console.warn(\"Panel: ERROR: Unable to run Panel code because Bokeh or Panel library is missing\");\n",
       "\t  } else {\n",
       "\t    console.warn(\"Panel: WARNING: Attempting to render but not all required libraries could be resolved.\")\n",
       "\t    embed_document(root)\n",
       "\t  }\n",
       "        }\n",
       "      }\n",
       "    }, 25, root)\n",
       "  }\n",
       "})(window);</script>"
      ]
     },
     "metadata": {
      "application/vnd.holoviews_exec.v0+json": {
       "id": "0e84fa4b-e478-46eb-ba50-f73cfc4ea7e0"
      }
     },
     "output_type": "display_data"
    },
    {
     "name": "stdout",
     "output_type": "stream",
     "text": [
      "%opts magic unavailable (pyparsing cannot be imported)\n",
      "%compositor magic unavailable (pyparsing cannot be imported)\n"
     ]
    },
    {
     "data": {
      "application/javascript": [
       "(function(root) {\n",
       "  function now() {\n",
       "    return new Date();\n",
       "  }\n",
       "\n",
       "  var force = true;\n",
       "  var py_version = '3.2.1'.replace('rc', '-rc.').replace('.dev', '-dev.');\n",
       "  var is_dev = py_version.indexOf(\"+\") !== -1 || py_version.indexOf(\"-\") !== -1;\n",
       "  var reloading = true;\n",
       "  var Bokeh = root.Bokeh;\n",
       "  var bokeh_loaded = Bokeh != null && (Bokeh.version === py_version || (Bokeh.versions !== undefined && Bokeh.versions.has(py_version)));\n",
       "\n",
       "  if (typeof (root._bokeh_timeout) === \"undefined\" || force) {\n",
       "    root._bokeh_timeout = Date.now() + 5000;\n",
       "    root._bokeh_failed_load = false;\n",
       "  }\n",
       "\n",
       "  function run_callbacks() {\n",
       "    try {\n",
       "      root._bokeh_onload_callbacks.forEach(function(callback) {\n",
       "        if (callback != null)\n",
       "          callback();\n",
       "      });\n",
       "    } finally {\n",
       "      delete root._bokeh_onload_callbacks;\n",
       "    }\n",
       "    console.debug(\"Bokeh: all callbacks have finished\");\n",
       "  }\n",
       "\n",
       "  function load_libs(css_urls, js_urls, js_modules, js_exports, callback) {\n",
       "    if (css_urls == null) css_urls = [];\n",
       "    if (js_urls == null) js_urls = [];\n",
       "    if (js_modules == null) js_modules = [];\n",
       "    if (js_exports == null) js_exports = {};\n",
       "\n",
       "    root._bokeh_onload_callbacks.push(callback);\n",
       "\n",
       "    if (root._bokeh_is_loading > 0) {\n",
       "      console.debug(\"Bokeh: BokehJS is being loaded, scheduling callback at\", now());\n",
       "      return null;\n",
       "    }\n",
       "    if (js_urls.length === 0 && js_modules.length === 0 && Object.keys(js_exports).length === 0) {\n",
       "      run_callbacks();\n",
       "      return null;\n",
       "    }\n",
       "    if (!reloading) {\n",
       "      console.debug(\"Bokeh: BokehJS not loaded, scheduling load and callback at\", now());\n",
       "    }\n",
       "\n",
       "    function on_load() {\n",
       "      root._bokeh_is_loading--;\n",
       "      if (root._bokeh_is_loading === 0) {\n",
       "        console.debug(\"Bokeh: all BokehJS libraries/stylesheets loaded\");\n",
       "        run_callbacks()\n",
       "      }\n",
       "    }\n",
       "    window._bokeh_on_load = on_load\n",
       "\n",
       "    function on_error() {\n",
       "      console.error(\"failed to load \" + url);\n",
       "    }\n",
       "\n",
       "    var skip = [];\n",
       "    if (window.requirejs) {\n",
       "      window.requirejs.config({'packages': {}, 'paths': {'tabulator': 'https://cdn.jsdelivr.net/npm/tabulator-tables@5.5.0/dist/js/tabulator', 'moment': 'https://cdn.jsdelivr.net/npm/luxon/build/global/luxon.min', 'jspanel': 'https://cdn.jsdelivr.net/npm/jspanel4@4.12.0/dist/jspanel', 'jspanel-modal': 'https://cdn.jsdelivr.net/npm/jspanel4@4.12.0/dist/extensions/modal/jspanel.modal', 'jspanel-tooltip': 'https://cdn.jsdelivr.net/npm/jspanel4@4.12.0/dist/extensions/tooltip/jspanel.tooltip', 'jspanel-hint': 'https://cdn.jsdelivr.net/npm/jspanel4@4.12.0/dist/extensions/hint/jspanel.hint', 'jspanel-layout': 'https://cdn.jsdelivr.net/npm/jspanel4@4.12.0/dist/extensions/layout/jspanel.layout', 'jspanel-contextmenu': 'https://cdn.jsdelivr.net/npm/jspanel4@4.12.0/dist/extensions/contextmenu/jspanel.contextmenu', 'jspanel-dock': 'https://cdn.jsdelivr.net/npm/jspanel4@4.12.0/dist/extensions/dock/jspanel.dock', 'gridstack': 'https://cdn.jsdelivr.net/npm/gridstack@7.2.3/dist/gridstack-all', 'notyf': 'https://cdn.jsdelivr.net/npm/notyf@3/notyf.min'}, 'shim': {'jspanel': {'exports': 'jsPanel'}, 'gridstack': {'exports': 'GridStack'}}});\n",
       "      require([\"tabulator\"], function(Tabulator) {\n",
       "\twindow.Tabulator = Tabulator\n",
       "\ton_load()\n",
       "      })\n",
       "      require([\"moment\"], function(moment) {\n",
       "\twindow.moment = moment\n",
       "\ton_load()\n",
       "      })\n",
       "      require([\"jspanel\"], function(jsPanel) {\n",
       "\twindow.jsPanel = jsPanel\n",
       "\ton_load()\n",
       "      })\n",
       "      require([\"jspanel-modal\"], function() {\n",
       "\ton_load()\n",
       "      })\n",
       "      require([\"jspanel-tooltip\"], function() {\n",
       "\ton_load()\n",
       "      })\n",
       "      require([\"jspanel-hint\"], function() {\n",
       "\ton_load()\n",
       "      })\n",
       "      require([\"jspanel-layout\"], function() {\n",
       "\ton_load()\n",
       "      })\n",
       "      require([\"jspanel-contextmenu\"], function() {\n",
       "\ton_load()\n",
       "      })\n",
       "      require([\"jspanel-dock\"], function() {\n",
       "\ton_load()\n",
       "      })\n",
       "      require([\"gridstack\"], function(GridStack) {\n",
       "\twindow.GridStack = GridStack\n",
       "\ton_load()\n",
       "      })\n",
       "      require([\"notyf\"], function() {\n",
       "\ton_load()\n",
       "      })\n",
       "      root._bokeh_is_loading = css_urls.length + 11;\n",
       "    } else {\n",
       "      root._bokeh_is_loading = css_urls.length + js_urls.length + js_modules.length + Object.keys(js_exports).length;\n",
       "    }\n",
       "\n",
       "    var existing_stylesheets = []\n",
       "    var links = document.getElementsByTagName('link')\n",
       "    for (var i = 0; i < links.length; i++) {\n",
       "      var link = links[i]\n",
       "      if (link.href != null) {\n",
       "\texisting_stylesheets.push(link.href)\n",
       "      }\n",
       "    }\n",
       "    for (var i = 0; i < css_urls.length; i++) {\n",
       "      var url = css_urls[i];\n",
       "      if (existing_stylesheets.indexOf(url) !== -1) {\n",
       "\ton_load()\n",
       "\tcontinue;\n",
       "      }\n",
       "      const element = document.createElement(\"link\");\n",
       "      element.onload = on_load;\n",
       "      element.onerror = on_error;\n",
       "      element.rel = \"stylesheet\";\n",
       "      element.type = \"text/css\";\n",
       "      element.href = url;\n",
       "      console.debug(\"Bokeh: injecting link tag for BokehJS stylesheet: \", url);\n",
       "      document.body.appendChild(element);\n",
       "    }    if (((window['Tabulator'] !== undefined) && (!(window['Tabulator'] instanceof HTMLElement))) || window.requirejs) {\n",
       "      var urls = ['https://cdn.holoviz.org/panel/1.2.0/dist/bundled/datatabulator/tabulator-tables@5.5.0/dist/js/tabulator.js'];\n",
       "      for (var i = 0; i < urls.length; i++) {\n",
       "        skip.push(urls[i])\n",
       "      }\n",
       "    }    if (((window['moment'] !== undefined) && (!(window['moment'] instanceof HTMLElement))) || window.requirejs) {\n",
       "      var urls = ['https://cdn.holoviz.org/panel/1.2.0/dist/bundled/datatabulator/luxon/build/global/luxon.min.js'];\n",
       "      for (var i = 0; i < urls.length; i++) {\n",
       "        skip.push(urls[i])\n",
       "      }\n",
       "    }    if (((window['jsPanel'] !== undefined) && (!(window['jsPanel'] instanceof HTMLElement))) || window.requirejs) {\n",
       "      var urls = ['https://cdn.holoviz.org/panel/1.2.0/dist/bundled/floatpanel/jspanel4@4.12.0/dist/jspanel.js', 'https://cdn.holoviz.org/panel/1.2.0/dist/bundled/floatpanel/jspanel4@4.12.0/dist/extensions/modal/jspanel.modal.js', 'https://cdn.holoviz.org/panel/1.2.0/dist/bundled/floatpanel/jspanel4@4.12.0/dist/extensions/tooltip/jspanel.tooltip.js', 'https://cdn.holoviz.org/panel/1.2.0/dist/bundled/floatpanel/jspanel4@4.12.0/dist/extensions/hint/jspanel.hint.js', 'https://cdn.holoviz.org/panel/1.2.0/dist/bundled/floatpanel/jspanel4@4.12.0/dist/extensions/layout/jspanel.layout.js', 'https://cdn.holoviz.org/panel/1.2.0/dist/bundled/floatpanel/jspanel4@4.12.0/dist/extensions/contextmenu/jspanel.contextmenu.js', 'https://cdn.holoviz.org/panel/1.2.0/dist/bundled/floatpanel/jspanel4@4.12.0/dist/extensions/dock/jspanel.dock.js'];\n",
       "      for (var i = 0; i < urls.length; i++) {\n",
       "        skip.push(urls[i])\n",
       "      }\n",
       "    }    if (((window['GridStack'] !== undefined) && (!(window['GridStack'] instanceof HTMLElement))) || window.requirejs) {\n",
       "      var urls = ['https://cdn.holoviz.org/panel/1.2.0/dist/bundled/gridstack/gridstack@7.2.3/dist/gridstack-all.js'];\n",
       "      for (var i = 0; i < urls.length; i++) {\n",
       "        skip.push(urls[i])\n",
       "      }\n",
       "    }    if (((window['Notyf'] !== undefined) && (!(window['Notyf'] instanceof HTMLElement))) || window.requirejs) {\n",
       "      var urls = ['https://cdn.holoviz.org/panel/1.2.0/dist/bundled/notificationarea/notyf@3/notyf.min.js'];\n",
       "      for (var i = 0; i < urls.length; i++) {\n",
       "        skip.push(urls[i])\n",
       "      }\n",
       "    }    var existing_scripts = []\n",
       "    var scripts = document.getElementsByTagName('script')\n",
       "    for (var i = 0; i < scripts.length; i++) {\n",
       "      var script = scripts[i]\n",
       "      if (script.src != null) {\n",
       "\texisting_scripts.push(script.src)\n",
       "      }\n",
       "    }\n",
       "    for (var i = 0; i < js_urls.length; i++) {\n",
       "      var url = js_urls[i];\n",
       "      if (skip.indexOf(url) !== -1 || existing_scripts.indexOf(url) !== -1) {\n",
       "\tif (!window.requirejs) {\n",
       "\t  on_load();\n",
       "\t}\n",
       "\tcontinue;\n",
       "      }\n",
       "      var element = document.createElement('script');\n",
       "      element.onload = on_load;\n",
       "      element.onerror = on_error;\n",
       "      element.async = false;\n",
       "      element.src = url;\n",
       "      console.debug(\"Bokeh: injecting script tag for BokehJS library: \", url);\n",
       "      document.head.appendChild(element);\n",
       "    }\n",
       "    for (var i = 0; i < js_modules.length; i++) {\n",
       "      var url = js_modules[i];\n",
       "      if (skip.indexOf(url) !== -1 || existing_scripts.indexOf(url) !== -1) {\n",
       "\tif (!window.requirejs) {\n",
       "\t  on_load();\n",
       "\t}\n",
       "\tcontinue;\n",
       "      }\n",
       "      var element = document.createElement('script');\n",
       "      element.onload = on_load;\n",
       "      element.onerror = on_error;\n",
       "      element.async = false;\n",
       "      element.src = url;\n",
       "      element.type = \"module\";\n",
       "      console.debug(\"Bokeh: injecting script tag for BokehJS library: \", url);\n",
       "      document.head.appendChild(element);\n",
       "    }\n",
       "    for (const name in js_exports) {\n",
       "      var url = js_exports[name];\n",
       "      if (skip.indexOf(url) >= 0 || root[name] != null) {\n",
       "\tif (!window.requirejs) {\n",
       "\t  on_load();\n",
       "\t}\n",
       "\tcontinue;\n",
       "      }\n",
       "      var element = document.createElement('script');\n",
       "      element.onerror = on_error;\n",
       "      element.async = false;\n",
       "      element.type = \"module\";\n",
       "      console.debug(\"Bokeh: injecting script tag for BokehJS library: \", url);\n",
       "      element.textContent = `\n",
       "      import ${name} from \"${url}\"\n",
       "      window.${name} = ${name}\n",
       "      window._bokeh_on_load()\n",
       "      `\n",
       "      document.head.appendChild(element);\n",
       "    }\n",
       "    if (!js_urls.length && !js_modules.length) {\n",
       "      on_load()\n",
       "    }\n",
       "  };\n",
       "\n",
       "  function inject_raw_css(css) {\n",
       "    const element = document.createElement(\"style\");\n",
       "    element.appendChild(document.createTextNode(css));\n",
       "    document.body.appendChild(element);\n",
       "  }\n",
       "\n",
       "  var js_urls = [\"https://cdn.holoviz.org/panel/1.2.0/dist/bundled/datatabulator/tabulator-tables@5.5.0/dist/js/tabulator.js\", \"https://cdn.holoviz.org/panel/1.2.0/dist/bundled/datatabulator/luxon/build/global/luxon.min.js\"];\n",
       "  var js_modules = [];\n",
       "  var js_exports = {};\n",
       "  var css_urls = [\"https://cdn.holoviz.org/panel/1.2.0/dist/bundled/datatabulator/tabulator-tables@5.5.0/dist/css/tabulator_simple.min.css\"];\n",
       "  var inline_js = [    function(Bokeh) {\n",
       "      inject_raw_css(\".tabulator{position:relative;border:1px solid #999;font-size:14px;text-align:left;overflow:hidden;-webkit-transform:translateZ(0);-moz-transform:translateZ(0);-ms-transform:translateZ(0);-o-transform:translateZ(0);transform:translateZ(0)}.tabulator[tabulator-layout=fitDataFill] .tabulator-tableholder .tabulator-table{min-width:100%}.tabulator[tabulator-layout=fitDataTable]{display:inline-block}.tabulator.tabulator-block-select{user-select:none}.tabulator .tabulator-header{position:relative;box-sizing:border-box;width:100%;border-bottom:1px solid #999;background-color:#fff;color:#555;font-weight:700;white-space:nowrap;overflow:hidden;-moz-user-select:none;-khtml-user-select:none;-webkit-user-select:none;-o-user-select:none}.tabulator .tabulator-header.tabulator-header-hidden{display:none}.tabulator .tabulator-header .tabulator-header-contents{position:relative;overflow:hidden}.tabulator .tabulator-header .tabulator-header-contents .tabulator-headers{display:inline-block}.tabulator .tabulator-header .tabulator-col{display:inline-flex;position:relative;box-sizing:border-box;flex-direction:column;justify-content:flex-start;border-right:1px solid #ddd;background:#fff;text-align:left;vertical-align:bottom;overflow:hidden}.tabulator .tabulator-header .tabulator-col.tabulator-moving{position:absolute;border:1px solid #999;background:#e6e6e6;pointer-events:none}.tabulator .tabulator-header .tabulator-col .tabulator-col-content{box-sizing:border-box;position:relative;padding:4px}.tabulator .tabulator-header .tabulator-col .tabulator-col-content .tabulator-header-popup-button{padding:0 8px}.tabulator .tabulator-header .tabulator-col .tabulator-col-content .tabulator-header-popup-button:hover{cursor:pointer;opacity:.6}.tabulator .tabulator-header .tabulator-col .tabulator-col-content .tabulator-col-title-holder{position:relative}.tabulator .tabulator-header .tabulator-col .tabulator-col-content .tabulator-col-title{box-sizing:border-box;width:100%;white-space:nowrap;overflow:hidden;text-overflow:ellipsis;vertical-align:bottom}.tabulator .tabulator-header .tabulator-col .tabulator-col-content .tabulator-col-title.tabulator-col-title-wrap{white-space:normal;text-overflow:clip}.tabulator .tabulator-header .tabulator-col .tabulator-col-content .tabulator-col-title .tabulator-title-editor{box-sizing:border-box;width:100%;border:1px solid #999;padding:1px;background:#fff}.tabulator .tabulator-header .tabulator-col .tabulator-col-content .tabulator-col-title .tabulator-header-popup-button+.tabulator-title-editor{width:calc(100% - 22px)}.tabulator .tabulator-header .tabulator-col .tabulator-col-content .tabulator-col-sorter{display:flex;align-items:center;position:absolute;top:0;bottom:0;right:4px}.tabulator .tabulator-header .tabulator-col .tabulator-col-content .tabulator-col-sorter .tabulator-arrow{width:0;height:0;border-left:6px solid transparent;border-right:6px solid transparent;border-bottom:6px solid #bbb}.tabulator .tabulator-header .tabulator-col.tabulator-col-group .tabulator-col-group-cols{position:relative;display:flex;border-top:1px solid #ddd;overflow:hidden;margin-right:-1px}.tabulator .tabulator-header .tabulator-col .tabulator-header-filter{position:relative;box-sizing:border-box;margin-top:2px;width:100%;text-align:center}.tabulator .tabulator-header .tabulator-col .tabulator-header-filter textarea{height:auto!important}.tabulator .tabulator-header .tabulator-col .tabulator-header-filter svg{margin-top:3px}.tabulator .tabulator-header .tabulator-col .tabulator-header-filter input::-ms-clear{width:0;height:0}.tabulator .tabulator-header .tabulator-col.tabulator-sortable .tabulator-col-title{padding-right:25px}@media (hover:hover) and (pointer:fine){.tabulator .tabulator-header .tabulator-col.tabulator-sortable.tabulator-col-sorter-element:hover{cursor:pointer;background-color:#e6e6e6}}.tabulator .tabulator-header .tabulator-col.tabulator-sortable[aria-sort=none] .tabulator-col-content .tabulator-col-sorter{color:#bbb}@media (hover:hover) and (pointer:fine){.tabulator .tabulator-header .tabulator-col.tabulator-sortable[aria-sort=none] .tabulator-col-content .tabulator-col-sorter.tabulator-col-sorter-element .tabulator-arrow:hover{cursor:pointer;border-bottom:6px solid #555}}.tabulator .tabulator-header .tabulator-col.tabulator-sortable[aria-sort=none] .tabulator-col-content .tabulator-col-sorter .tabulator-arrow{border-top:none;border-bottom:6px solid #bbb}.tabulator .tabulator-header .tabulator-col.tabulator-sortable[aria-sort=ascending] .tabulator-col-content .tabulator-col-sorter{color:#666}@media (hover:hover) and (pointer:fine){.tabulator .tabulator-header .tabulator-col.tabulator-sortable[aria-sort=ascending] .tabulator-col-content .tabulator-col-sorter.tabulator-col-sorter-element .tabulator-arrow:hover{cursor:pointer;border-bottom:6px solid #555}}.tabulator .tabulator-header .tabulator-col.tabulator-sortable[aria-sort=ascending] .tabulator-col-content .tabulator-col-sorter .tabulator-arrow{border-top:none;border-bottom:6px solid #666}.tabulator .tabulator-header .tabulator-col.tabulator-sortable[aria-sort=descending] .tabulator-col-content .tabulator-col-sorter{color:#666}@media (hover:hover) and (pointer:fine){.tabulator .tabulator-header .tabulator-col.tabulator-sortable[aria-sort=descending] .tabulator-col-content .tabulator-col-sorter.tabulator-col-sorter-element .tabulator-arrow:hover{cursor:pointer;border-top:6px solid #555}}.tabulator .tabulator-header .tabulator-col.tabulator-sortable[aria-sort=descending] .tabulator-col-content .tabulator-col-sorter .tabulator-arrow{border-bottom:none;border-top:6px solid #666;color:#666}.tabulator .tabulator-header .tabulator-col.tabulator-col-vertical .tabulator-col-content .tabulator-col-title{writing-mode:vertical-rl;text-orientation:mixed;display:flex;align-items:center;justify-content:center}.tabulator .tabulator-header .tabulator-col.tabulator-col-vertical.tabulator-col-vertical-flip .tabulator-col-title{transform:rotate(180deg)}.tabulator .tabulator-header .tabulator-col.tabulator-col-vertical.tabulator-sortable .tabulator-col-title{padding-right:0;padding-top:20px}.tabulator .tabulator-header .tabulator-col.tabulator-col-vertical.tabulator-sortable.tabulator-col-vertical-flip .tabulator-col-title{padding-right:0;padding-bottom:20px}.tabulator .tabulator-header .tabulator-col.tabulator-col-vertical.tabulator-sortable .tabulator-col-sorter{justify-content:center;left:0;right:0;top:4px;bottom:auto}.tabulator .tabulator-header .tabulator-frozen{position:sticky;left:0;z-index:10}.tabulator .tabulator-header .tabulator-frozen.tabulator-frozen-left{border-right:2px solid #ddd}.tabulator .tabulator-header .tabulator-frozen.tabulator-frozen-right{border-left:2px solid #ddd}.tabulator .tabulator-header .tabulator-calcs-holder{box-sizing:border-box;background:#fff!important;border-top:1px solid #ddd;border-bottom:1px solid #ddd}.tabulator .tabulator-header .tabulator-calcs-holder .tabulator-row{background:#fff!important}.tabulator .tabulator-header .tabulator-calcs-holder .tabulator-row .tabulator-col-resize-handle,.tabulator .tabulator-header .tabulator-frozen-rows-holder:empty{display:none}.tabulator .tabulator-tableholder{position:relative;width:100%;white-space:nowrap;overflow:auto;-webkit-overflow-scrolling:touch}.tabulator .tabulator-tableholder:focus{outline:none}.tabulator .tabulator-tableholder .tabulator-placeholder{box-sizing:border-box;display:flex;align-items:center;justify-content:center;width:100%}.tabulator .tabulator-tableholder .tabulator-placeholder[tabulator-render-mode=virtual]{min-height:100%;min-width:100%}.tabulator .tabulator-tableholder .tabulator-placeholder .tabulator-placeholder-contents{display:inline-block;text-align:center;padding:10px;color:#ccc;font-weight:700;font-size:20px;white-space:normal}.tabulator .tabulator-tableholder .tabulator-table{position:relative;display:inline-block;background-color:#fff;white-space:nowrap;overflow:visible;color:#333}.tabulator .tabulator-tableholder .tabulator-table .tabulator-row.tabulator-calcs{font-weight:700;background:#f2f2f2!important}.tabulator .tabulator-tableholder .tabulator-table .tabulator-row.tabulator-calcs.tabulator-calcs-top{border-bottom:2px solid #ddd}.tabulator .tabulator-tableholder .tabulator-table .tabulator-row.tabulator-calcs.tabulator-calcs-bottom{border-top:2px solid #ddd}.tabulator .tabulator-footer{border-top:1px solid #999;background-color:#fff;color:#555;font-weight:700;white-space:nowrap;user-select:none;-moz-user-select:none;-khtml-user-select:none;-webkit-user-select:none;-o-user-select:none}.tabulator .tabulator-footer .tabulator-footer-contents{display:flex;flex-direction:row;align-items:center;justify-content:space-between;padding:5px 10px}.tabulator .tabulator-footer .tabulator-footer-contents:empty{display:none}.tabulator .tabulator-footer .tabulator-calcs-holder{box-sizing:border-box;width:100%;text-align:left;background:#fff!important;border-bottom:1px solid #ddd;border-top:1px solid #ddd;overflow:hidden}.tabulator .tabulator-footer .tabulator-calcs-holder .tabulator-row{display:inline-block;background:#fff!important}.tabulator .tabulator-footer .tabulator-calcs-holder .tabulator-row .tabulator-col-resize-handle{display:none}.tabulator .tabulator-footer .tabulator-calcs-holder:only-child{margin-bottom:-5px;border-bottom:none}.tabulator .tabulator-footer>*+.tabulator-page-counter{margin-left:10px}.tabulator .tabulator-footer .tabulator-page-counter{font-weight:400}.tabulator .tabulator-footer .tabulator-paginator{flex:1;text-align:right;color:#555;font-family:inherit;font-weight:inherit;font-size:inherit}.tabulator .tabulator-footer .tabulator-page-size{display:inline-block;margin:0 5px;padding:2px 5px;border:1px solid #aaa;border-radius:3px}.tabulator .tabulator-footer .tabulator-pages{margin:0 7px}.tabulator .tabulator-footer .tabulator-page{display:inline-block;margin:0 2px;padding:2px 5px;border:1px solid #aaa;border-radius:3px;background:hsla(0,0%,100%,.2)}.tabulator .tabulator-footer .tabulator-page.active{color:#d00}.tabulator .tabulator-footer .tabulator-page:disabled{opacity:.5}@media (hover:hover) and (pointer:fine){.tabulator .tabulator-footer .tabulator-page:not(.disabled):hover{cursor:pointer;background:rgba(0,0,0,.2);color:#fff}}.tabulator .tabulator-col-resize-handle{position:relative;display:inline-block;width:6px;margin-left:-3px;margin-right:-3px;z-index:10;vertical-align:middle}@media (hover:hover) and (pointer:fine){.tabulator .tabulator-col-resize-handle:hover{cursor:ew-resize}}.tabulator .tabulator-col-resize-handle:last-of-type{width:3px;margin-right:0}.tabulator .tabulator-alert{position:absolute;display:flex;align-items:center;top:0;left:0;z-index:100;height:100%;width:100%;background:rgba(0,0,0,.4);text-align:center}.tabulator .tabulator-alert .tabulator-alert-msg{display:inline-block;margin:0 auto;padding:10px 20px;border-radius:10px;background:#fff;font-weight:700;font-size:16px}.tabulator .tabulator-alert .tabulator-alert-msg.tabulator-alert-state-msg{border:4px solid #333;color:#000}.tabulator .tabulator-alert .tabulator-alert-msg.tabulator-alert-state-error{border:4px solid #d00;color:#590000}.tabulator-row{position:relative;box-sizing:border-box;min-height:22px}.tabulator-row,.tabulator-row.tabulator-row-even{background-color:#fff}@media (hover:hover) and (pointer:fine){.tabulator-row.tabulator-selectable:hover{background-color:#bbb;cursor:pointer}}.tabulator-row.tabulator-selected{background-color:#9abcea}@media (hover:hover) and (pointer:fine){.tabulator-row.tabulator-selected:hover{background-color:#769bcc;cursor:pointer}}.tabulator-row.tabulator-row-moving{border:1px solid #000;background:#fff}.tabulator-row.tabulator-moving{position:absolute;border-top:1px solid #ddd;border-bottom:1px solid #ddd;pointer-events:none;z-index:15}.tabulator-row .tabulator-row-resize-handle{position:absolute;right:0;bottom:0;left:0;height:5px}.tabulator-row .tabulator-row-resize-handle.prev{top:0;bottom:auto}@media (hover:hover) and (pointer:fine){.tabulator-row .tabulator-row-resize-handle:hover{cursor:ns-resize}}.tabulator-row .tabulator-responsive-collapse{box-sizing:border-box;padding:5px;border-top:1px solid #ddd;border-bottom:1px solid #ddd}.tabulator-row .tabulator-responsive-collapse:empty{display:none}.tabulator-row .tabulator-responsive-collapse table{font-size:14px}.tabulator-row .tabulator-responsive-collapse table tr td{position:relative}.tabulator-row .tabulator-responsive-collapse table tr td:first-of-type{padding-right:10px}.tabulator-row .tabulator-cell{display:inline-block;position:relative;box-sizing:border-box;padding:4px;border-right:1px solid #ddd;vertical-align:middle;white-space:nowrap;overflow:hidden;text-overflow:ellipsis}.tabulator-row .tabulator-cell.tabulator-frozen{display:inline-block;position:sticky;left:0;background-color:inherit;z-index:10}.tabulator-row .tabulator-cell.tabulator-frozen.tabulator-frozen-left{border-right:2px solid #ddd}.tabulator-row .tabulator-cell.tabulator-frozen.tabulator-frozen-right{border-left:2px solid #ddd}.tabulator-row .tabulator-cell.tabulator-editing{border:1px solid #1d68cd;outline:none;padding:0}.tabulator-row .tabulator-cell.tabulator-editing input,.tabulator-row .tabulator-cell.tabulator-editing select{border:1px;background:transparent;outline:none}.tabulator-row .tabulator-cell.tabulator-validation-fail{border:1px solid #d00}.tabulator-row .tabulator-cell.tabulator-validation-fail input,.tabulator-row .tabulator-cell.tabulator-validation-fail select{border:1px;background:transparent;color:#d00}.tabulator-row .tabulator-cell.tabulator-row-handle{display:inline-flex;align-items:center;justify-content:center;-moz-user-select:none;-khtml-user-select:none;-webkit-user-select:none;-o-user-select:none}.tabulator-row .tabulator-cell.tabulator-row-handle .tabulator-row-handle-box{width:80%}.tabulator-row .tabulator-cell.tabulator-row-handle .tabulator-row-handle-box .tabulator-row-handle-bar{width:100%;height:3px;margin-top:2px;background:#666}.tabulator-row .tabulator-cell .tabulator-data-tree-branch{display:inline-block;vertical-align:middle;height:9px;width:7px;margin-top:-9px;margin-right:5px;border-bottom-left-radius:1px;border-left:2px solid #ddd;border-bottom:2px solid #ddd}.tabulator-row .tabulator-cell .tabulator-data-tree-control{display:inline-flex;justify-content:center;align-items:center;vertical-align:middle;height:11px;width:11px;margin-right:5px;border:1px solid #333;border-radius:2px;background:rgba(0,0,0,.1);overflow:hidden}@media (hover:hover) and (pointer:fine){.tabulator-row .tabulator-cell .tabulator-data-tree-control:hover{cursor:pointer;background:rgba(0,0,0,.2)}}.tabulator-row .tabulator-cell .tabulator-data-tree-control .tabulator-data-tree-control-collapse{display:inline-block;position:relative;height:7px;width:1px;background:transparent}.tabulator-row .tabulator-cell .tabulator-data-tree-control .tabulator-data-tree-control-collapse:after{position:absolute;content:\\\"\\\";left:-3px;top:3px;height:1px;width:7px;background:#333}.tabulator-row .tabulator-cell .tabulator-data-tree-control .tabulator-data-tree-control-expand{display:inline-block;position:relative;height:7px;width:1px;background:#333}.tabulator-row .tabulator-cell .tabulator-data-tree-control .tabulator-data-tree-control-expand:after{position:absolute;content:\\\"\\\";left:-3px;top:3px;height:1px;width:7px;background:#333}.tabulator-row .tabulator-cell .tabulator-responsive-collapse-toggle{display:inline-flex;align-items:center;justify-content:center;-moz-user-select:none;-khtml-user-select:none;-webkit-user-select:none;-o-user-select:none;height:15px;width:15px;border-radius:20px;background:#666;color:#fff;font-weight:700;font-size:1.1em}@media (hover:hover) and (pointer:fine){.tabulator-row .tabulator-cell .tabulator-responsive-collapse-toggle:hover{opacity:.7;cursor:pointer}}.tabulator-row .tabulator-cell .tabulator-responsive-collapse-toggle.open .tabulator-responsive-collapse-toggle-close{display:initial}.tabulator-row .tabulator-cell .tabulator-responsive-collapse-toggle.open .tabulator-responsive-collapse-toggle-open{display:none}.tabulator-row .tabulator-cell .tabulator-responsive-collapse-toggle svg{stroke:#fff}.tabulator-row .tabulator-cell .tabulator-responsive-collapse-toggle .tabulator-responsive-collapse-toggle-close{display:none}.tabulator-row .tabulator-cell .tabulator-traffic-light{display:inline-block;height:14px;width:14px;border-radius:14px}.tabulator-row.tabulator-group{box-sizing:border-box;border-bottom:1px solid #999;border-right:1px solid #ddd;border-top:1px solid #999;padding:5px 5px 5px 10px;background:#ccc;font-weight:700;min-width:100%}@media (hover:hover) and (pointer:fine){.tabulator-row.tabulator-group:hover{cursor:pointer;background-color:rgba(0,0,0,.1)}}.tabulator-row.tabulator-group.tabulator-group-visible .tabulator-arrow{margin-right:10px;border-left:6px solid transparent;border-right:6px solid transparent;border-top:6px solid #666;border-bottom:0}.tabulator-row.tabulator-group.tabulator-group-level-1{padding-left:30px}.tabulator-row.tabulator-group.tabulator-group-level-2{padding-left:50px}.tabulator-row.tabulator-group.tabulator-group-level-3{padding-left:70px}.tabulator-row.tabulator-group.tabulator-group-level-4{padding-left:90px}.tabulator-row.tabulator-group.tabulator-group-level-5{padding-left:110px}.tabulator-row.tabulator-group .tabulator-group-toggle{display:inline-block}.tabulator-row.tabulator-group .tabulator-arrow{display:inline-block;width:0;height:0;margin-right:16px;border-top:6px solid transparent;border-bottom:6px solid transparent;border-right:0;border-left:6px solid #666;vertical-align:middle}.tabulator-row.tabulator-group span{margin-left:10px;color:#d00}.tabulator-popup-container{position:absolute;display:inline-block;box-sizing:border-box;background:#fff;border:1px solid #ddd;box-shadow:0 0 5px 0 rgba(0,0,0,.2);font-size:14px;overflow-y:auto;-webkit-overflow-scrolling:touch;z-index:10000}.tabulator-popup{padding:5px;border-radius:3px}.tabulator-tooltip{max-width:Min(500px,100%);padding:3px 5px;border-radius:2px;box-shadow:none;font-size:12px;pointer-events:none}.tabulator-menu .tabulator-menu-item{position:relative;box-sizing:border-box;padding:5px 10px;user-select:none}.tabulator-menu .tabulator-menu-item.tabulator-menu-item-disabled{opacity:.5}@media (hover:hover) and (pointer:fine){.tabulator-menu .tabulator-menu-item:not(.tabulator-menu-item-disabled):hover{cursor:pointer;background:#fff}}.tabulator-menu .tabulator-menu-item.tabulator-menu-item-submenu{padding-right:25px}.tabulator-menu .tabulator-menu-item.tabulator-menu-item-submenu:after{display:inline-block;position:absolute;top:calc(5px + .4em);right:10px;height:7px;width:7px;content:\\\"\\\";border-color:#ddd;border-style:solid;border-width:1px 1px 0 0;vertical-align:top;transform:rotate(45deg)}.tabulator-menu .tabulator-menu-separator{border-top:1px solid #ddd}.tabulator-edit-list{max-height:200px;font-size:14px;overflow-y:auto;-webkit-overflow-scrolling:touch}.tabulator-edit-list .tabulator-edit-list-item{padding:4px;color:#333;outline:none}.tabulator-edit-list .tabulator-edit-list-item.active{color:#fff;background:#1d68cd}.tabulator-edit-list .tabulator-edit-list-item.active.focused{outline:1px solid hsla(0,0%,100%,.5)}.tabulator-edit-list .tabulator-edit-list-item.focused{outline:1px solid #1d68cd}@media (hover:hover) and (pointer:fine){.tabulator-edit-list .tabulator-edit-list-item:hover{cursor:pointer;color:#fff;background:#1d68cd}}.tabulator-edit-list .tabulator-edit-list-placeholder{padding:4px;color:#333;text-align:center}.tabulator-edit-list .tabulator-edit-list-group{border-bottom:1px solid #ddd;padding:6px 4px 4px;color:#333;font-weight:700}.tabulator-edit-list .tabulator-edit-list-group.tabulator-edit-list-group-level-2,.tabulator-edit-list .tabulator-edit-list-item.tabulator-edit-list-group-level-2{padding-left:12px}.tabulator-edit-list .tabulator-edit-list-group.tabulator-edit-list-group-level-3,.tabulator-edit-list .tabulator-edit-list-item.tabulator-edit-list-group-level-3{padding-left:20px}.tabulator-edit-list .tabulator-edit-list-group.tabulator-edit-list-group-level-4,.tabulator-edit-list .tabulator-edit-list-item.tabulator-edit-list-group-level-4{padding-left:28px}.tabulator-edit-list .tabulator-edit-list-group.tabulator-edit-list-group-level-5,.tabulator-edit-list .tabulator-edit-list-item.tabulator-edit-list-group-level-5{padding-left:36px}.tabulator.tabulator-ltr{direction:ltr}.tabulator.tabulator-rtl{text-align:initial;direction:rtl}.tabulator.tabulator-rtl .tabulator-header .tabulator-col{text-align:initial;border-left:1px solid #ddd;border-right:initial}.tabulator.tabulator-rtl .tabulator-header .tabulator-col.tabulator-col-group .tabulator-col-group-cols{margin-right:0;margin-left:-1px}.tabulator.tabulator-rtl .tabulator-header .tabulator-col.tabulator-sortable .tabulator-col-title{padding-right:0;padding-left:25px}.tabulator.tabulator-rtl .tabulator-header .tabulator-col .tabulator-col-content .tabulator-col-sorter{left:8px;right:auto}.tabulator.tabulator-rtl .tabulator-row .tabulator-cell{border-right:initial;border-left:1px solid #ddd}.tabulator.tabulator-rtl .tabulator-row .tabulator-cell .tabulator-data-tree-branch{margin-right:0;margin-left:5px;border-bottom-left-radius:0;border-bottom-right-radius:1px;border-left:initial;border-right:2px solid #ddd}.tabulator.tabulator-rtl .tabulator-row .tabulator-cell .tabulator-data-tree-control{margin-right:0;margin-left:5px}.tabulator.tabulator-rtl .tabulator-row .tabulator-cell.tabulator-frozen.tabulator-frozen-left{border-left:2px solid #ddd}.tabulator.tabulator-rtl .tabulator-row .tabulator-cell.tabulator-frozen.tabulator-frozen-right{border-right:2px solid #ddd}.tabulator.tabulator-rtl .tabulator-row .tabulator-col-resize-handle:last-of-type{width:3px;margin-left:0;margin-right:-3px}.tabulator.tabulator-rtl .tabulator-footer .tabulator-calcs-holder{text-align:initial}.tabulator-print-fullscreen{position:absolute;top:0;bottom:0;left:0;right:0;z-index:10000}body.tabulator-print-fullscreen-hide>:not(.tabulator-print-fullscreen){display:none!important}.tabulator-print-table{border-collapse:collapse}.tabulator-print-table .tabulator-data-tree-branch{display:inline-block;vertical-align:middle;height:9px;width:7px;margin-top:-9px;margin-right:5px;border-bottom-left-radius:1px;border-left:2px solid #ddd;border-bottom:2px solid #ddd}.tabulator-print-table .tabulator-print-table-group{box-sizing:border-box;border-bottom:1px solid #999;border-right:1px solid #ddd;border-top:1px solid #999;padding:5px 5px 5px 10px;background:#ccc;font-weight:700;min-width:100%}@media (hover:hover) and (pointer:fine){.tabulator-print-table .tabulator-print-table-group:hover{cursor:pointer;background-color:rgba(0,0,0,.1)}}.tabulator-print-table .tabulator-print-table-group.tabulator-group-visible .tabulator-arrow{margin-right:10px;border-left:6px solid transparent;border-right:6px solid transparent;border-top:6px solid #666;border-bottom:0}.tabulator-print-table .tabulator-print-table-group.tabulator-group-level-1 td{padding-left:30px!important}.tabulator-print-table .tabulator-print-table-group.tabulator-group-level-2 td{padding-left:50px!important}.tabulator-print-table .tabulator-print-table-group.tabulator-group-level-3 td{padding-left:70px!important}.tabulator-print-table .tabulator-print-table-group.tabulator-group-level-4 td{padding-left:90px!important}.tabulator-print-table .tabulator-print-table-group.tabulator-group-level-5 td{padding-left:110px!important}.tabulator-print-table .tabulator-print-table-group .tabulator-group-toggle{display:inline-block}.tabulator-print-table .tabulator-print-table-group .tabulator-arrow{display:inline-block;width:0;height:0;margin-right:16px;border-top:6px solid transparent;border-bottom:6px solid transparent;border-right:0;border-left:6px solid #666;vertical-align:middle}.tabulator-print-table .tabulator-print-table-group span{color:#d00}.tabulator-print-table .tabulator-data-tree-control{display:inline-flex;justify-content:center;align-items:center;vertical-align:middle;height:11px;width:11px;margin-right:5px;border:1px solid #333;border-radius:2px;background:rgba(0,0,0,.1);overflow:hidden}@media (hover:hover) and (pointer:fine){.tabulator-print-table .tabulator-data-tree-control:hover{cursor:pointer;background:rgba(0,0,0,.2)}}.tabulator-print-table .tabulator-data-tree-control .tabulator-data-tree-control-collapse{display:inline-block;position:relative;height:7px;width:1px;background:transparent}.tabulator-print-table .tabulator-data-tree-control .tabulator-data-tree-control-collapse:after{position:absolute;content:\\\"\\\";left:-3px;top:3px;height:1px;width:7px;background:#333}.tabulator-print-table .tabulator-data-tree-control .tabulator-data-tree-control-expand{display:inline-block;position:relative;height:7px;width:1px;background:#333}.tabulator-print-table .tabulator-data-tree-control .tabulator-data-tree-control-expand:after{position:absolute;content:\\\"\\\";left:-3px;top:3px;height:1px;width:7px;background:#333}.tabulator{border:none;background-color:#fff}.tabulator .tabulator-header .tabulator-calcs-holder{background:#f2f2f2!important;border-bottom:1px solid #999}.tabulator .tabulator-header .tabulator-calcs-holder .tabulator-row{background:#f2f2f2!important}.tabulator .tabulator-tableholder .tabulator-placeholder span{color:#000}.tabulator .tabulator-footer .tabulator-calcs-holder{background:#f2f2f2!important;border-bottom:1px solid #fff}.tabulator .tabulator-footer .tabulator-calcs-holder .tabulator-row{background:#f2f2f2!important}.tabulator-row{border-bottom:1px solid #ddd}.tabulator-row .tabulator-cell:last-of-type{border-right:none}.tabulator-row.tabulator-group span{color:#666}.tabulator-print-table .tabulator-print-table-group span{margin-left:10px;color:#666}\\n/*# sourceMappingURL=tabulator_simple.min.css.map */\");\n",
       "    },    function(Bokeh) {\n",
       "      Bokeh.set_log_level(\"info\");\n",
       "    },\n",
       "function(Bokeh) {} // ensure no trailing comma for IE\n",
       "  ];\n",
       "\n",
       "  function run_inline_js() {\n",
       "    if ((root.Bokeh !== undefined) || (force === true)) {\n",
       "      for (var i = 0; i < inline_js.length; i++) {\n",
       "        inline_js[i].call(root, root.Bokeh);\n",
       "      }\n",
       "      // Cache old bokeh versions\n",
       "      if (Bokeh != undefined && !reloading) {\n",
       "\tvar NewBokeh = root.Bokeh;\n",
       "\tif (Bokeh.versions === undefined) {\n",
       "\t  Bokeh.versions = new Map();\n",
       "\t}\n",
       "\tif (NewBokeh.version !== Bokeh.version) {\n",
       "\t  Bokeh.versions.set(NewBokeh.version, NewBokeh)\n",
       "\t}\n",
       "\troot.Bokeh = Bokeh;\n",
       "      }} else if (Date.now() < root._bokeh_timeout) {\n",
       "      setTimeout(run_inline_js, 100);\n",
       "    } else if (!root._bokeh_failed_load) {\n",
       "      console.log(\"Bokeh: BokehJS failed to load within specified timeout.\");\n",
       "      root._bokeh_failed_load = true;\n",
       "    }\n",
       "    root._bokeh_is_initializing = false\n",
       "  }\n",
       "\n",
       "  function load_or_wait() {\n",
       "    // Implement a backoff loop that tries to ensure we do not load multiple\n",
       "    // versions of Bokeh and its dependencies at the same time.\n",
       "    // In recent versions we use the root._bokeh_is_initializing flag\n",
       "    // to determine whether there is an ongoing attempt to initialize\n",
       "    // bokeh, however for backward compatibility we also try to ensure\n",
       "    // that we do not start loading a newer (Panel>=1.0 and Bokeh>3) version\n",
       "    // before older versions are fully initialized.\n",
       "    if (root._bokeh_is_initializing && Date.now() > root._bokeh_timeout) {\n",
       "      root._bokeh_is_initializing = false;\n",
       "      root._bokeh_onload_callbacks = undefined;\n",
       "      console.log(\"Bokeh: BokehJS was loaded multiple times but one version failed to initialize.\");\n",
       "      load_or_wait();\n",
       "    } else if (root._bokeh_is_initializing || (typeof root._bokeh_is_initializing === \"undefined\" && root._bokeh_onload_callbacks !== undefined)) {\n",
       "      setTimeout(load_or_wait, 100);\n",
       "    } else {\n",
       "      Bokeh = root.Bokeh;\n",
       "      bokeh_loaded = Bokeh != null && (Bokeh.version === py_version || (Bokeh.versions !== undefined && Bokeh.versions.has(py_version)));\n",
       "      root._bokeh_is_initializing = true\n",
       "      root._bokeh_onload_callbacks = []\n",
       "      if (!reloading && (!bokeh_loaded || is_dev)) {\n",
       "\troot.Bokeh = undefined;\n",
       "      }\n",
       "      load_libs(css_urls, js_urls, js_modules, js_exports, function() {\n",
       "\tconsole.debug(\"Bokeh: BokehJS plotting callback run at\", now());\n",
       "\trun_inline_js();\n",
       "      });\n",
       "    }\n",
       "  }\n",
       "  // Give older versions of the autoload script a head-start to ensure\n",
       "  // they initialize before we start loading newer version.\n",
       "  setTimeout(load_or_wait, 100)\n",
       "}(window));"
      ],
      "application/vnd.holoviews_load.v0+json": "(function(root) {\n  function now() {\n    return new Date();\n  }\n\n  var force = true;\n  var py_version = '3.2.1'.replace('rc', '-rc.').replace('.dev', '-dev.');\n  var is_dev = py_version.indexOf(\"+\") !== -1 || py_version.indexOf(\"-\") !== -1;\n  var reloading = true;\n  var Bokeh = root.Bokeh;\n  var bokeh_loaded = Bokeh != null && (Bokeh.version === py_version || (Bokeh.versions !== undefined && Bokeh.versions.has(py_version)));\n\n  if (typeof (root._bokeh_timeout) === \"undefined\" || force) {\n    root._bokeh_timeout = Date.now() + 5000;\n    root._bokeh_failed_load = false;\n  }\n\n  function run_callbacks() {\n    try {\n      root._bokeh_onload_callbacks.forEach(function(callback) {\n        if (callback != null)\n          callback();\n      });\n    } finally {\n      delete root._bokeh_onload_callbacks;\n    }\n    console.debug(\"Bokeh: all callbacks have finished\");\n  }\n\n  function load_libs(css_urls, js_urls, js_modules, js_exports, callback) {\n    if (css_urls == null) css_urls = [];\n    if (js_urls == null) js_urls = [];\n    if (js_modules == null) js_modules = [];\n    if (js_exports == null) js_exports = {};\n\n    root._bokeh_onload_callbacks.push(callback);\n\n    if (root._bokeh_is_loading > 0) {\n      console.debug(\"Bokeh: BokehJS is being loaded, scheduling callback at\", now());\n      return null;\n    }\n    if (js_urls.length === 0 && js_modules.length === 0 && Object.keys(js_exports).length === 0) {\n      run_callbacks();\n      return null;\n    }\n    if (!reloading) {\n      console.debug(\"Bokeh: BokehJS not loaded, scheduling load and callback at\", now());\n    }\n\n    function on_load() {\n      root._bokeh_is_loading--;\n      if (root._bokeh_is_loading === 0) {\n        console.debug(\"Bokeh: all BokehJS libraries/stylesheets loaded\");\n        run_callbacks()\n      }\n    }\n    window._bokeh_on_load = on_load\n\n    function on_error() {\n      console.error(\"failed to load \" + url);\n    }\n\n    var skip = [];\n    if (window.requirejs) {\n      window.requirejs.config({'packages': {}, 'paths': {'tabulator': 'https://cdn.jsdelivr.net/npm/tabulator-tables@5.5.0/dist/js/tabulator', 'moment': 'https://cdn.jsdelivr.net/npm/luxon/build/global/luxon.min', 'jspanel': 'https://cdn.jsdelivr.net/npm/jspanel4@4.12.0/dist/jspanel', 'jspanel-modal': 'https://cdn.jsdelivr.net/npm/jspanel4@4.12.0/dist/extensions/modal/jspanel.modal', 'jspanel-tooltip': 'https://cdn.jsdelivr.net/npm/jspanel4@4.12.0/dist/extensions/tooltip/jspanel.tooltip', 'jspanel-hint': 'https://cdn.jsdelivr.net/npm/jspanel4@4.12.0/dist/extensions/hint/jspanel.hint', 'jspanel-layout': 'https://cdn.jsdelivr.net/npm/jspanel4@4.12.0/dist/extensions/layout/jspanel.layout', 'jspanel-contextmenu': 'https://cdn.jsdelivr.net/npm/jspanel4@4.12.0/dist/extensions/contextmenu/jspanel.contextmenu', 'jspanel-dock': 'https://cdn.jsdelivr.net/npm/jspanel4@4.12.0/dist/extensions/dock/jspanel.dock', 'gridstack': 'https://cdn.jsdelivr.net/npm/gridstack@7.2.3/dist/gridstack-all', 'notyf': 'https://cdn.jsdelivr.net/npm/notyf@3/notyf.min'}, 'shim': {'jspanel': {'exports': 'jsPanel'}, 'gridstack': {'exports': 'GridStack'}}});\n      require([\"tabulator\"], function(Tabulator) {\n\twindow.Tabulator = Tabulator\n\ton_load()\n      })\n      require([\"moment\"], function(moment) {\n\twindow.moment = moment\n\ton_load()\n      })\n      require([\"jspanel\"], function(jsPanel) {\n\twindow.jsPanel = jsPanel\n\ton_load()\n      })\n      require([\"jspanel-modal\"], function() {\n\ton_load()\n      })\n      require([\"jspanel-tooltip\"], function() {\n\ton_load()\n      })\n      require([\"jspanel-hint\"], function() {\n\ton_load()\n      })\n      require([\"jspanel-layout\"], function() {\n\ton_load()\n      })\n      require([\"jspanel-contextmenu\"], function() {\n\ton_load()\n      })\n      require([\"jspanel-dock\"], function() {\n\ton_load()\n      })\n      require([\"gridstack\"], function(GridStack) {\n\twindow.GridStack = GridStack\n\ton_load()\n      })\n      require([\"notyf\"], function() {\n\ton_load()\n      })\n      root._bokeh_is_loading = css_urls.length + 11;\n    } else {\n      root._bokeh_is_loading = css_urls.length + js_urls.length + js_modules.length + Object.keys(js_exports).length;\n    }\n\n    var existing_stylesheets = []\n    var links = document.getElementsByTagName('link')\n    for (var i = 0; i < links.length; i++) {\n      var link = links[i]\n      if (link.href != null) {\n\texisting_stylesheets.push(link.href)\n      }\n    }\n    for (var i = 0; i < css_urls.length; i++) {\n      var url = css_urls[i];\n      if (existing_stylesheets.indexOf(url) !== -1) {\n\ton_load()\n\tcontinue;\n      }\n      const element = document.createElement(\"link\");\n      element.onload = on_load;\n      element.onerror = on_error;\n      element.rel = \"stylesheet\";\n      element.type = \"text/css\";\n      element.href = url;\n      console.debug(\"Bokeh: injecting link tag for BokehJS stylesheet: \", url);\n      document.body.appendChild(element);\n    }    if (((window['Tabulator'] !== undefined) && (!(window['Tabulator'] instanceof HTMLElement))) || window.requirejs) {\n      var urls = ['https://cdn.holoviz.org/panel/1.2.0/dist/bundled/datatabulator/tabulator-tables@5.5.0/dist/js/tabulator.js'];\n      for (var i = 0; i < urls.length; i++) {\n        skip.push(urls[i])\n      }\n    }    if (((window['moment'] !== undefined) && (!(window['moment'] instanceof HTMLElement))) || window.requirejs) {\n      var urls = ['https://cdn.holoviz.org/panel/1.2.0/dist/bundled/datatabulator/luxon/build/global/luxon.min.js'];\n      for (var i = 0; i < urls.length; i++) {\n        skip.push(urls[i])\n      }\n    }    if (((window['jsPanel'] !== undefined) && (!(window['jsPanel'] instanceof HTMLElement))) || window.requirejs) {\n      var urls = ['https://cdn.holoviz.org/panel/1.2.0/dist/bundled/floatpanel/jspanel4@4.12.0/dist/jspanel.js', 'https://cdn.holoviz.org/panel/1.2.0/dist/bundled/floatpanel/jspanel4@4.12.0/dist/extensions/modal/jspanel.modal.js', 'https://cdn.holoviz.org/panel/1.2.0/dist/bundled/floatpanel/jspanel4@4.12.0/dist/extensions/tooltip/jspanel.tooltip.js', 'https://cdn.holoviz.org/panel/1.2.0/dist/bundled/floatpanel/jspanel4@4.12.0/dist/extensions/hint/jspanel.hint.js', 'https://cdn.holoviz.org/panel/1.2.0/dist/bundled/floatpanel/jspanel4@4.12.0/dist/extensions/layout/jspanel.layout.js', 'https://cdn.holoviz.org/panel/1.2.0/dist/bundled/floatpanel/jspanel4@4.12.0/dist/extensions/contextmenu/jspanel.contextmenu.js', 'https://cdn.holoviz.org/panel/1.2.0/dist/bundled/floatpanel/jspanel4@4.12.0/dist/extensions/dock/jspanel.dock.js'];\n      for (var i = 0; i < urls.length; i++) {\n        skip.push(urls[i])\n      }\n    }    if (((window['GridStack'] !== undefined) && (!(window['GridStack'] instanceof HTMLElement))) || window.requirejs) {\n      var urls = ['https://cdn.holoviz.org/panel/1.2.0/dist/bundled/gridstack/gridstack@7.2.3/dist/gridstack-all.js'];\n      for (var i = 0; i < urls.length; i++) {\n        skip.push(urls[i])\n      }\n    }    if (((window['Notyf'] !== undefined) && (!(window['Notyf'] instanceof HTMLElement))) || window.requirejs) {\n      var urls = ['https://cdn.holoviz.org/panel/1.2.0/dist/bundled/notificationarea/notyf@3/notyf.min.js'];\n      for (var i = 0; i < urls.length; i++) {\n        skip.push(urls[i])\n      }\n    }    var existing_scripts = []\n    var scripts = document.getElementsByTagName('script')\n    for (var i = 0; i < scripts.length; i++) {\n      var script = scripts[i]\n      if (script.src != null) {\n\texisting_scripts.push(script.src)\n      }\n    }\n    for (var i = 0; i < js_urls.length; i++) {\n      var url = js_urls[i];\n      if (skip.indexOf(url) !== -1 || existing_scripts.indexOf(url) !== -1) {\n\tif (!window.requirejs) {\n\t  on_load();\n\t}\n\tcontinue;\n      }\n      var element = document.createElement('script');\n      element.onload = on_load;\n      element.onerror = on_error;\n      element.async = false;\n      element.src = url;\n      console.debug(\"Bokeh: injecting script tag for BokehJS library: \", url);\n      document.head.appendChild(element);\n    }\n    for (var i = 0; i < js_modules.length; i++) {\n      var url = js_modules[i];\n      if (skip.indexOf(url) !== -1 || existing_scripts.indexOf(url) !== -1) {\n\tif (!window.requirejs) {\n\t  on_load();\n\t}\n\tcontinue;\n      }\n      var element = document.createElement('script');\n      element.onload = on_load;\n      element.onerror = on_error;\n      element.async = false;\n      element.src = url;\n      element.type = \"module\";\n      console.debug(\"Bokeh: injecting script tag for BokehJS library: \", url);\n      document.head.appendChild(element);\n    }\n    for (const name in js_exports) {\n      var url = js_exports[name];\n      if (skip.indexOf(url) >= 0 || root[name] != null) {\n\tif (!window.requirejs) {\n\t  on_load();\n\t}\n\tcontinue;\n      }\n      var element = document.createElement('script');\n      element.onerror = on_error;\n      element.async = false;\n      element.type = \"module\";\n      console.debug(\"Bokeh: injecting script tag for BokehJS library: \", url);\n      element.textContent = `\n      import ${name} from \"${url}\"\n      window.${name} = ${name}\n      window._bokeh_on_load()\n      `\n      document.head.appendChild(element);\n    }\n    if (!js_urls.length && !js_modules.length) {\n      on_load()\n    }\n  };\n\n  function inject_raw_css(css) {\n    const element = document.createElement(\"style\");\n    element.appendChild(document.createTextNode(css));\n    document.body.appendChild(element);\n  }\n\n  var js_urls = [\"https://cdn.holoviz.org/panel/1.2.0/dist/bundled/datatabulator/tabulator-tables@5.5.0/dist/js/tabulator.js\", \"https://cdn.holoviz.org/panel/1.2.0/dist/bundled/datatabulator/luxon/build/global/luxon.min.js\"];\n  var js_modules = [];\n  var js_exports = {};\n  var css_urls = [\"https://cdn.holoviz.org/panel/1.2.0/dist/bundled/datatabulator/tabulator-tables@5.5.0/dist/css/tabulator_simple.min.css\"];\n  var inline_js = [    function(Bokeh) {\n      inject_raw_css(\".tabulator{position:relative;border:1px solid #999;font-size:14px;text-align:left;overflow:hidden;-webkit-transform:translateZ(0);-moz-transform:translateZ(0);-ms-transform:translateZ(0);-o-transform:translateZ(0);transform:translateZ(0)}.tabulator[tabulator-layout=fitDataFill] .tabulator-tableholder .tabulator-table{min-width:100%}.tabulator[tabulator-layout=fitDataTable]{display:inline-block}.tabulator.tabulator-block-select{user-select:none}.tabulator .tabulator-header{position:relative;box-sizing:border-box;width:100%;border-bottom:1px solid #999;background-color:#fff;color:#555;font-weight:700;white-space:nowrap;overflow:hidden;-moz-user-select:none;-khtml-user-select:none;-webkit-user-select:none;-o-user-select:none}.tabulator .tabulator-header.tabulator-header-hidden{display:none}.tabulator .tabulator-header .tabulator-header-contents{position:relative;overflow:hidden}.tabulator .tabulator-header .tabulator-header-contents .tabulator-headers{display:inline-block}.tabulator .tabulator-header .tabulator-col{display:inline-flex;position:relative;box-sizing:border-box;flex-direction:column;justify-content:flex-start;border-right:1px solid #ddd;background:#fff;text-align:left;vertical-align:bottom;overflow:hidden}.tabulator .tabulator-header .tabulator-col.tabulator-moving{position:absolute;border:1px solid #999;background:#e6e6e6;pointer-events:none}.tabulator .tabulator-header .tabulator-col .tabulator-col-content{box-sizing:border-box;position:relative;padding:4px}.tabulator .tabulator-header .tabulator-col .tabulator-col-content .tabulator-header-popup-button{padding:0 8px}.tabulator .tabulator-header .tabulator-col .tabulator-col-content .tabulator-header-popup-button:hover{cursor:pointer;opacity:.6}.tabulator .tabulator-header .tabulator-col .tabulator-col-content .tabulator-col-title-holder{position:relative}.tabulator .tabulator-header .tabulator-col .tabulator-col-content .tabulator-col-title{box-sizing:border-box;width:100%;white-space:nowrap;overflow:hidden;text-overflow:ellipsis;vertical-align:bottom}.tabulator .tabulator-header .tabulator-col .tabulator-col-content .tabulator-col-title.tabulator-col-title-wrap{white-space:normal;text-overflow:clip}.tabulator .tabulator-header .tabulator-col .tabulator-col-content .tabulator-col-title .tabulator-title-editor{box-sizing:border-box;width:100%;border:1px solid #999;padding:1px;background:#fff}.tabulator .tabulator-header .tabulator-col .tabulator-col-content .tabulator-col-title .tabulator-header-popup-button+.tabulator-title-editor{width:calc(100% - 22px)}.tabulator .tabulator-header .tabulator-col .tabulator-col-content .tabulator-col-sorter{display:flex;align-items:center;position:absolute;top:0;bottom:0;right:4px}.tabulator .tabulator-header .tabulator-col .tabulator-col-content .tabulator-col-sorter .tabulator-arrow{width:0;height:0;border-left:6px solid transparent;border-right:6px solid transparent;border-bottom:6px solid #bbb}.tabulator .tabulator-header .tabulator-col.tabulator-col-group .tabulator-col-group-cols{position:relative;display:flex;border-top:1px solid #ddd;overflow:hidden;margin-right:-1px}.tabulator .tabulator-header .tabulator-col .tabulator-header-filter{position:relative;box-sizing:border-box;margin-top:2px;width:100%;text-align:center}.tabulator .tabulator-header .tabulator-col .tabulator-header-filter textarea{height:auto!important}.tabulator .tabulator-header .tabulator-col .tabulator-header-filter svg{margin-top:3px}.tabulator .tabulator-header .tabulator-col .tabulator-header-filter input::-ms-clear{width:0;height:0}.tabulator .tabulator-header .tabulator-col.tabulator-sortable .tabulator-col-title{padding-right:25px}@media (hover:hover) and (pointer:fine){.tabulator .tabulator-header .tabulator-col.tabulator-sortable.tabulator-col-sorter-element:hover{cursor:pointer;background-color:#e6e6e6}}.tabulator .tabulator-header .tabulator-col.tabulator-sortable[aria-sort=none] .tabulator-col-content .tabulator-col-sorter{color:#bbb}@media (hover:hover) and (pointer:fine){.tabulator .tabulator-header .tabulator-col.tabulator-sortable[aria-sort=none] .tabulator-col-content .tabulator-col-sorter.tabulator-col-sorter-element .tabulator-arrow:hover{cursor:pointer;border-bottom:6px solid #555}}.tabulator .tabulator-header .tabulator-col.tabulator-sortable[aria-sort=none] .tabulator-col-content .tabulator-col-sorter .tabulator-arrow{border-top:none;border-bottom:6px solid #bbb}.tabulator .tabulator-header .tabulator-col.tabulator-sortable[aria-sort=ascending] .tabulator-col-content .tabulator-col-sorter{color:#666}@media (hover:hover) and (pointer:fine){.tabulator .tabulator-header .tabulator-col.tabulator-sortable[aria-sort=ascending] .tabulator-col-content .tabulator-col-sorter.tabulator-col-sorter-element .tabulator-arrow:hover{cursor:pointer;border-bottom:6px solid #555}}.tabulator .tabulator-header .tabulator-col.tabulator-sortable[aria-sort=ascending] .tabulator-col-content .tabulator-col-sorter .tabulator-arrow{border-top:none;border-bottom:6px solid #666}.tabulator .tabulator-header .tabulator-col.tabulator-sortable[aria-sort=descending] .tabulator-col-content .tabulator-col-sorter{color:#666}@media (hover:hover) and (pointer:fine){.tabulator .tabulator-header .tabulator-col.tabulator-sortable[aria-sort=descending] .tabulator-col-content .tabulator-col-sorter.tabulator-col-sorter-element .tabulator-arrow:hover{cursor:pointer;border-top:6px solid #555}}.tabulator .tabulator-header .tabulator-col.tabulator-sortable[aria-sort=descending] .tabulator-col-content .tabulator-col-sorter .tabulator-arrow{border-bottom:none;border-top:6px solid #666;color:#666}.tabulator .tabulator-header .tabulator-col.tabulator-col-vertical .tabulator-col-content .tabulator-col-title{writing-mode:vertical-rl;text-orientation:mixed;display:flex;align-items:center;justify-content:center}.tabulator .tabulator-header .tabulator-col.tabulator-col-vertical.tabulator-col-vertical-flip .tabulator-col-title{transform:rotate(180deg)}.tabulator .tabulator-header .tabulator-col.tabulator-col-vertical.tabulator-sortable .tabulator-col-title{padding-right:0;padding-top:20px}.tabulator .tabulator-header .tabulator-col.tabulator-col-vertical.tabulator-sortable.tabulator-col-vertical-flip .tabulator-col-title{padding-right:0;padding-bottom:20px}.tabulator .tabulator-header .tabulator-col.tabulator-col-vertical.tabulator-sortable .tabulator-col-sorter{justify-content:center;left:0;right:0;top:4px;bottom:auto}.tabulator .tabulator-header .tabulator-frozen{position:sticky;left:0;z-index:10}.tabulator .tabulator-header .tabulator-frozen.tabulator-frozen-left{border-right:2px solid #ddd}.tabulator .tabulator-header .tabulator-frozen.tabulator-frozen-right{border-left:2px solid #ddd}.tabulator .tabulator-header .tabulator-calcs-holder{box-sizing:border-box;background:#fff!important;border-top:1px solid #ddd;border-bottom:1px solid #ddd}.tabulator .tabulator-header .tabulator-calcs-holder .tabulator-row{background:#fff!important}.tabulator .tabulator-header .tabulator-calcs-holder .tabulator-row .tabulator-col-resize-handle,.tabulator .tabulator-header .tabulator-frozen-rows-holder:empty{display:none}.tabulator .tabulator-tableholder{position:relative;width:100%;white-space:nowrap;overflow:auto;-webkit-overflow-scrolling:touch}.tabulator .tabulator-tableholder:focus{outline:none}.tabulator .tabulator-tableholder .tabulator-placeholder{box-sizing:border-box;display:flex;align-items:center;justify-content:center;width:100%}.tabulator .tabulator-tableholder .tabulator-placeholder[tabulator-render-mode=virtual]{min-height:100%;min-width:100%}.tabulator .tabulator-tableholder .tabulator-placeholder .tabulator-placeholder-contents{display:inline-block;text-align:center;padding:10px;color:#ccc;font-weight:700;font-size:20px;white-space:normal}.tabulator .tabulator-tableholder .tabulator-table{position:relative;display:inline-block;background-color:#fff;white-space:nowrap;overflow:visible;color:#333}.tabulator .tabulator-tableholder .tabulator-table .tabulator-row.tabulator-calcs{font-weight:700;background:#f2f2f2!important}.tabulator .tabulator-tableholder .tabulator-table .tabulator-row.tabulator-calcs.tabulator-calcs-top{border-bottom:2px solid #ddd}.tabulator .tabulator-tableholder .tabulator-table .tabulator-row.tabulator-calcs.tabulator-calcs-bottom{border-top:2px solid #ddd}.tabulator .tabulator-footer{border-top:1px solid #999;background-color:#fff;color:#555;font-weight:700;white-space:nowrap;user-select:none;-moz-user-select:none;-khtml-user-select:none;-webkit-user-select:none;-o-user-select:none}.tabulator .tabulator-footer .tabulator-footer-contents{display:flex;flex-direction:row;align-items:center;justify-content:space-between;padding:5px 10px}.tabulator .tabulator-footer .tabulator-footer-contents:empty{display:none}.tabulator .tabulator-footer .tabulator-calcs-holder{box-sizing:border-box;width:100%;text-align:left;background:#fff!important;border-bottom:1px solid #ddd;border-top:1px solid #ddd;overflow:hidden}.tabulator .tabulator-footer .tabulator-calcs-holder .tabulator-row{display:inline-block;background:#fff!important}.tabulator .tabulator-footer .tabulator-calcs-holder .tabulator-row .tabulator-col-resize-handle{display:none}.tabulator .tabulator-footer .tabulator-calcs-holder:only-child{margin-bottom:-5px;border-bottom:none}.tabulator .tabulator-footer>*+.tabulator-page-counter{margin-left:10px}.tabulator .tabulator-footer .tabulator-page-counter{font-weight:400}.tabulator .tabulator-footer .tabulator-paginator{flex:1;text-align:right;color:#555;font-family:inherit;font-weight:inherit;font-size:inherit}.tabulator .tabulator-footer .tabulator-page-size{display:inline-block;margin:0 5px;padding:2px 5px;border:1px solid #aaa;border-radius:3px}.tabulator .tabulator-footer .tabulator-pages{margin:0 7px}.tabulator .tabulator-footer .tabulator-page{display:inline-block;margin:0 2px;padding:2px 5px;border:1px solid #aaa;border-radius:3px;background:hsla(0,0%,100%,.2)}.tabulator .tabulator-footer .tabulator-page.active{color:#d00}.tabulator .tabulator-footer .tabulator-page:disabled{opacity:.5}@media (hover:hover) and (pointer:fine){.tabulator .tabulator-footer .tabulator-page:not(.disabled):hover{cursor:pointer;background:rgba(0,0,0,.2);color:#fff}}.tabulator .tabulator-col-resize-handle{position:relative;display:inline-block;width:6px;margin-left:-3px;margin-right:-3px;z-index:10;vertical-align:middle}@media (hover:hover) and (pointer:fine){.tabulator .tabulator-col-resize-handle:hover{cursor:ew-resize}}.tabulator .tabulator-col-resize-handle:last-of-type{width:3px;margin-right:0}.tabulator .tabulator-alert{position:absolute;display:flex;align-items:center;top:0;left:0;z-index:100;height:100%;width:100%;background:rgba(0,0,0,.4);text-align:center}.tabulator .tabulator-alert .tabulator-alert-msg{display:inline-block;margin:0 auto;padding:10px 20px;border-radius:10px;background:#fff;font-weight:700;font-size:16px}.tabulator .tabulator-alert .tabulator-alert-msg.tabulator-alert-state-msg{border:4px solid #333;color:#000}.tabulator .tabulator-alert .tabulator-alert-msg.tabulator-alert-state-error{border:4px solid #d00;color:#590000}.tabulator-row{position:relative;box-sizing:border-box;min-height:22px}.tabulator-row,.tabulator-row.tabulator-row-even{background-color:#fff}@media (hover:hover) and (pointer:fine){.tabulator-row.tabulator-selectable:hover{background-color:#bbb;cursor:pointer}}.tabulator-row.tabulator-selected{background-color:#9abcea}@media (hover:hover) and (pointer:fine){.tabulator-row.tabulator-selected:hover{background-color:#769bcc;cursor:pointer}}.tabulator-row.tabulator-row-moving{border:1px solid #000;background:#fff}.tabulator-row.tabulator-moving{position:absolute;border-top:1px solid #ddd;border-bottom:1px solid #ddd;pointer-events:none;z-index:15}.tabulator-row .tabulator-row-resize-handle{position:absolute;right:0;bottom:0;left:0;height:5px}.tabulator-row .tabulator-row-resize-handle.prev{top:0;bottom:auto}@media (hover:hover) and (pointer:fine){.tabulator-row .tabulator-row-resize-handle:hover{cursor:ns-resize}}.tabulator-row .tabulator-responsive-collapse{box-sizing:border-box;padding:5px;border-top:1px solid #ddd;border-bottom:1px solid #ddd}.tabulator-row .tabulator-responsive-collapse:empty{display:none}.tabulator-row .tabulator-responsive-collapse table{font-size:14px}.tabulator-row .tabulator-responsive-collapse table tr td{position:relative}.tabulator-row .tabulator-responsive-collapse table tr td:first-of-type{padding-right:10px}.tabulator-row .tabulator-cell{display:inline-block;position:relative;box-sizing:border-box;padding:4px;border-right:1px solid #ddd;vertical-align:middle;white-space:nowrap;overflow:hidden;text-overflow:ellipsis}.tabulator-row .tabulator-cell.tabulator-frozen{display:inline-block;position:sticky;left:0;background-color:inherit;z-index:10}.tabulator-row .tabulator-cell.tabulator-frozen.tabulator-frozen-left{border-right:2px solid #ddd}.tabulator-row .tabulator-cell.tabulator-frozen.tabulator-frozen-right{border-left:2px solid #ddd}.tabulator-row .tabulator-cell.tabulator-editing{border:1px solid #1d68cd;outline:none;padding:0}.tabulator-row .tabulator-cell.tabulator-editing input,.tabulator-row .tabulator-cell.tabulator-editing select{border:1px;background:transparent;outline:none}.tabulator-row .tabulator-cell.tabulator-validation-fail{border:1px solid #d00}.tabulator-row .tabulator-cell.tabulator-validation-fail input,.tabulator-row .tabulator-cell.tabulator-validation-fail select{border:1px;background:transparent;color:#d00}.tabulator-row .tabulator-cell.tabulator-row-handle{display:inline-flex;align-items:center;justify-content:center;-moz-user-select:none;-khtml-user-select:none;-webkit-user-select:none;-o-user-select:none}.tabulator-row .tabulator-cell.tabulator-row-handle .tabulator-row-handle-box{width:80%}.tabulator-row .tabulator-cell.tabulator-row-handle .tabulator-row-handle-box .tabulator-row-handle-bar{width:100%;height:3px;margin-top:2px;background:#666}.tabulator-row .tabulator-cell .tabulator-data-tree-branch{display:inline-block;vertical-align:middle;height:9px;width:7px;margin-top:-9px;margin-right:5px;border-bottom-left-radius:1px;border-left:2px solid #ddd;border-bottom:2px solid #ddd}.tabulator-row .tabulator-cell .tabulator-data-tree-control{display:inline-flex;justify-content:center;align-items:center;vertical-align:middle;height:11px;width:11px;margin-right:5px;border:1px solid #333;border-radius:2px;background:rgba(0,0,0,.1);overflow:hidden}@media (hover:hover) and (pointer:fine){.tabulator-row .tabulator-cell .tabulator-data-tree-control:hover{cursor:pointer;background:rgba(0,0,0,.2)}}.tabulator-row .tabulator-cell .tabulator-data-tree-control .tabulator-data-tree-control-collapse{display:inline-block;position:relative;height:7px;width:1px;background:transparent}.tabulator-row .tabulator-cell .tabulator-data-tree-control .tabulator-data-tree-control-collapse:after{position:absolute;content:\\\"\\\";left:-3px;top:3px;height:1px;width:7px;background:#333}.tabulator-row .tabulator-cell .tabulator-data-tree-control .tabulator-data-tree-control-expand{display:inline-block;position:relative;height:7px;width:1px;background:#333}.tabulator-row .tabulator-cell .tabulator-data-tree-control .tabulator-data-tree-control-expand:after{position:absolute;content:\\\"\\\";left:-3px;top:3px;height:1px;width:7px;background:#333}.tabulator-row .tabulator-cell .tabulator-responsive-collapse-toggle{display:inline-flex;align-items:center;justify-content:center;-moz-user-select:none;-khtml-user-select:none;-webkit-user-select:none;-o-user-select:none;height:15px;width:15px;border-radius:20px;background:#666;color:#fff;font-weight:700;font-size:1.1em}@media (hover:hover) and (pointer:fine){.tabulator-row .tabulator-cell .tabulator-responsive-collapse-toggle:hover{opacity:.7;cursor:pointer}}.tabulator-row .tabulator-cell .tabulator-responsive-collapse-toggle.open .tabulator-responsive-collapse-toggle-close{display:initial}.tabulator-row .tabulator-cell .tabulator-responsive-collapse-toggle.open .tabulator-responsive-collapse-toggle-open{display:none}.tabulator-row .tabulator-cell .tabulator-responsive-collapse-toggle svg{stroke:#fff}.tabulator-row .tabulator-cell .tabulator-responsive-collapse-toggle .tabulator-responsive-collapse-toggle-close{display:none}.tabulator-row .tabulator-cell .tabulator-traffic-light{display:inline-block;height:14px;width:14px;border-radius:14px}.tabulator-row.tabulator-group{box-sizing:border-box;border-bottom:1px solid #999;border-right:1px solid #ddd;border-top:1px solid #999;padding:5px 5px 5px 10px;background:#ccc;font-weight:700;min-width:100%}@media (hover:hover) and (pointer:fine){.tabulator-row.tabulator-group:hover{cursor:pointer;background-color:rgba(0,0,0,.1)}}.tabulator-row.tabulator-group.tabulator-group-visible .tabulator-arrow{margin-right:10px;border-left:6px solid transparent;border-right:6px solid transparent;border-top:6px solid #666;border-bottom:0}.tabulator-row.tabulator-group.tabulator-group-level-1{padding-left:30px}.tabulator-row.tabulator-group.tabulator-group-level-2{padding-left:50px}.tabulator-row.tabulator-group.tabulator-group-level-3{padding-left:70px}.tabulator-row.tabulator-group.tabulator-group-level-4{padding-left:90px}.tabulator-row.tabulator-group.tabulator-group-level-5{padding-left:110px}.tabulator-row.tabulator-group .tabulator-group-toggle{display:inline-block}.tabulator-row.tabulator-group .tabulator-arrow{display:inline-block;width:0;height:0;margin-right:16px;border-top:6px solid transparent;border-bottom:6px solid transparent;border-right:0;border-left:6px solid #666;vertical-align:middle}.tabulator-row.tabulator-group span{margin-left:10px;color:#d00}.tabulator-popup-container{position:absolute;display:inline-block;box-sizing:border-box;background:#fff;border:1px solid #ddd;box-shadow:0 0 5px 0 rgba(0,0,0,.2);font-size:14px;overflow-y:auto;-webkit-overflow-scrolling:touch;z-index:10000}.tabulator-popup{padding:5px;border-radius:3px}.tabulator-tooltip{max-width:Min(500px,100%);padding:3px 5px;border-radius:2px;box-shadow:none;font-size:12px;pointer-events:none}.tabulator-menu .tabulator-menu-item{position:relative;box-sizing:border-box;padding:5px 10px;user-select:none}.tabulator-menu .tabulator-menu-item.tabulator-menu-item-disabled{opacity:.5}@media (hover:hover) and (pointer:fine){.tabulator-menu .tabulator-menu-item:not(.tabulator-menu-item-disabled):hover{cursor:pointer;background:#fff}}.tabulator-menu .tabulator-menu-item.tabulator-menu-item-submenu{padding-right:25px}.tabulator-menu .tabulator-menu-item.tabulator-menu-item-submenu:after{display:inline-block;position:absolute;top:calc(5px + .4em);right:10px;height:7px;width:7px;content:\\\"\\\";border-color:#ddd;border-style:solid;border-width:1px 1px 0 0;vertical-align:top;transform:rotate(45deg)}.tabulator-menu .tabulator-menu-separator{border-top:1px solid #ddd}.tabulator-edit-list{max-height:200px;font-size:14px;overflow-y:auto;-webkit-overflow-scrolling:touch}.tabulator-edit-list .tabulator-edit-list-item{padding:4px;color:#333;outline:none}.tabulator-edit-list .tabulator-edit-list-item.active{color:#fff;background:#1d68cd}.tabulator-edit-list .tabulator-edit-list-item.active.focused{outline:1px solid hsla(0,0%,100%,.5)}.tabulator-edit-list .tabulator-edit-list-item.focused{outline:1px solid #1d68cd}@media (hover:hover) and (pointer:fine){.tabulator-edit-list .tabulator-edit-list-item:hover{cursor:pointer;color:#fff;background:#1d68cd}}.tabulator-edit-list .tabulator-edit-list-placeholder{padding:4px;color:#333;text-align:center}.tabulator-edit-list .tabulator-edit-list-group{border-bottom:1px solid #ddd;padding:6px 4px 4px;color:#333;font-weight:700}.tabulator-edit-list .tabulator-edit-list-group.tabulator-edit-list-group-level-2,.tabulator-edit-list .tabulator-edit-list-item.tabulator-edit-list-group-level-2{padding-left:12px}.tabulator-edit-list .tabulator-edit-list-group.tabulator-edit-list-group-level-3,.tabulator-edit-list .tabulator-edit-list-item.tabulator-edit-list-group-level-3{padding-left:20px}.tabulator-edit-list .tabulator-edit-list-group.tabulator-edit-list-group-level-4,.tabulator-edit-list .tabulator-edit-list-item.tabulator-edit-list-group-level-4{padding-left:28px}.tabulator-edit-list .tabulator-edit-list-group.tabulator-edit-list-group-level-5,.tabulator-edit-list .tabulator-edit-list-item.tabulator-edit-list-group-level-5{padding-left:36px}.tabulator.tabulator-ltr{direction:ltr}.tabulator.tabulator-rtl{text-align:initial;direction:rtl}.tabulator.tabulator-rtl .tabulator-header .tabulator-col{text-align:initial;border-left:1px solid #ddd;border-right:initial}.tabulator.tabulator-rtl .tabulator-header .tabulator-col.tabulator-col-group .tabulator-col-group-cols{margin-right:0;margin-left:-1px}.tabulator.tabulator-rtl .tabulator-header .tabulator-col.tabulator-sortable .tabulator-col-title{padding-right:0;padding-left:25px}.tabulator.tabulator-rtl .tabulator-header .tabulator-col .tabulator-col-content .tabulator-col-sorter{left:8px;right:auto}.tabulator.tabulator-rtl .tabulator-row .tabulator-cell{border-right:initial;border-left:1px solid #ddd}.tabulator.tabulator-rtl .tabulator-row .tabulator-cell .tabulator-data-tree-branch{margin-right:0;margin-left:5px;border-bottom-left-radius:0;border-bottom-right-radius:1px;border-left:initial;border-right:2px solid #ddd}.tabulator.tabulator-rtl .tabulator-row .tabulator-cell .tabulator-data-tree-control{margin-right:0;margin-left:5px}.tabulator.tabulator-rtl .tabulator-row .tabulator-cell.tabulator-frozen.tabulator-frozen-left{border-left:2px solid #ddd}.tabulator.tabulator-rtl .tabulator-row .tabulator-cell.tabulator-frozen.tabulator-frozen-right{border-right:2px solid #ddd}.tabulator.tabulator-rtl .tabulator-row .tabulator-col-resize-handle:last-of-type{width:3px;margin-left:0;margin-right:-3px}.tabulator.tabulator-rtl .tabulator-footer .tabulator-calcs-holder{text-align:initial}.tabulator-print-fullscreen{position:absolute;top:0;bottom:0;left:0;right:0;z-index:10000}body.tabulator-print-fullscreen-hide>:not(.tabulator-print-fullscreen){display:none!important}.tabulator-print-table{border-collapse:collapse}.tabulator-print-table .tabulator-data-tree-branch{display:inline-block;vertical-align:middle;height:9px;width:7px;margin-top:-9px;margin-right:5px;border-bottom-left-radius:1px;border-left:2px solid #ddd;border-bottom:2px solid #ddd}.tabulator-print-table .tabulator-print-table-group{box-sizing:border-box;border-bottom:1px solid #999;border-right:1px solid #ddd;border-top:1px solid #999;padding:5px 5px 5px 10px;background:#ccc;font-weight:700;min-width:100%}@media (hover:hover) and (pointer:fine){.tabulator-print-table .tabulator-print-table-group:hover{cursor:pointer;background-color:rgba(0,0,0,.1)}}.tabulator-print-table .tabulator-print-table-group.tabulator-group-visible .tabulator-arrow{margin-right:10px;border-left:6px solid transparent;border-right:6px solid transparent;border-top:6px solid #666;border-bottom:0}.tabulator-print-table .tabulator-print-table-group.tabulator-group-level-1 td{padding-left:30px!important}.tabulator-print-table .tabulator-print-table-group.tabulator-group-level-2 td{padding-left:50px!important}.tabulator-print-table .tabulator-print-table-group.tabulator-group-level-3 td{padding-left:70px!important}.tabulator-print-table .tabulator-print-table-group.tabulator-group-level-4 td{padding-left:90px!important}.tabulator-print-table .tabulator-print-table-group.tabulator-group-level-5 td{padding-left:110px!important}.tabulator-print-table .tabulator-print-table-group .tabulator-group-toggle{display:inline-block}.tabulator-print-table .tabulator-print-table-group .tabulator-arrow{display:inline-block;width:0;height:0;margin-right:16px;border-top:6px solid transparent;border-bottom:6px solid transparent;border-right:0;border-left:6px solid #666;vertical-align:middle}.tabulator-print-table .tabulator-print-table-group span{color:#d00}.tabulator-print-table .tabulator-data-tree-control{display:inline-flex;justify-content:center;align-items:center;vertical-align:middle;height:11px;width:11px;margin-right:5px;border:1px solid #333;border-radius:2px;background:rgba(0,0,0,.1);overflow:hidden}@media (hover:hover) and (pointer:fine){.tabulator-print-table .tabulator-data-tree-control:hover{cursor:pointer;background:rgba(0,0,0,.2)}}.tabulator-print-table .tabulator-data-tree-control .tabulator-data-tree-control-collapse{display:inline-block;position:relative;height:7px;width:1px;background:transparent}.tabulator-print-table .tabulator-data-tree-control .tabulator-data-tree-control-collapse:after{position:absolute;content:\\\"\\\";left:-3px;top:3px;height:1px;width:7px;background:#333}.tabulator-print-table .tabulator-data-tree-control .tabulator-data-tree-control-expand{display:inline-block;position:relative;height:7px;width:1px;background:#333}.tabulator-print-table .tabulator-data-tree-control .tabulator-data-tree-control-expand:after{position:absolute;content:\\\"\\\";left:-3px;top:3px;height:1px;width:7px;background:#333}.tabulator{border:none;background-color:#fff}.tabulator .tabulator-header .tabulator-calcs-holder{background:#f2f2f2!important;border-bottom:1px solid #999}.tabulator .tabulator-header .tabulator-calcs-holder .tabulator-row{background:#f2f2f2!important}.tabulator .tabulator-tableholder .tabulator-placeholder span{color:#000}.tabulator .tabulator-footer .tabulator-calcs-holder{background:#f2f2f2!important;border-bottom:1px solid #fff}.tabulator .tabulator-footer .tabulator-calcs-holder .tabulator-row{background:#f2f2f2!important}.tabulator-row{border-bottom:1px solid #ddd}.tabulator-row .tabulator-cell:last-of-type{border-right:none}.tabulator-row.tabulator-group span{color:#666}.tabulator-print-table .tabulator-print-table-group span{margin-left:10px;color:#666}\\n/*# sourceMappingURL=tabulator_simple.min.css.map */\");\n    },    function(Bokeh) {\n      Bokeh.set_log_level(\"info\");\n    },\nfunction(Bokeh) {} // ensure no trailing comma for IE\n  ];\n\n  function run_inline_js() {\n    if ((root.Bokeh !== undefined) || (force === true)) {\n      for (var i = 0; i < inline_js.length; i++) {\n        inline_js[i].call(root, root.Bokeh);\n      }\n      // Cache old bokeh versions\n      if (Bokeh != undefined && !reloading) {\n\tvar NewBokeh = root.Bokeh;\n\tif (Bokeh.versions === undefined) {\n\t  Bokeh.versions = new Map();\n\t}\n\tif (NewBokeh.version !== Bokeh.version) {\n\t  Bokeh.versions.set(NewBokeh.version, NewBokeh)\n\t}\n\troot.Bokeh = Bokeh;\n      }} else if (Date.now() < root._bokeh_timeout) {\n      setTimeout(run_inline_js, 100);\n    } else if (!root._bokeh_failed_load) {\n      console.log(\"Bokeh: BokehJS failed to load within specified timeout.\");\n      root._bokeh_failed_load = true;\n    }\n    root._bokeh_is_initializing = false\n  }\n\n  function load_or_wait() {\n    // Implement a backoff loop that tries to ensure we do not load multiple\n    // versions of Bokeh and its dependencies at the same time.\n    // In recent versions we use the root._bokeh_is_initializing flag\n    // to determine whether there is an ongoing attempt to initialize\n    // bokeh, however for backward compatibility we also try to ensure\n    // that we do not start loading a newer (Panel>=1.0 and Bokeh>3) version\n    // before older versions are fully initialized.\n    if (root._bokeh_is_initializing && Date.now() > root._bokeh_timeout) {\n      root._bokeh_is_initializing = false;\n      root._bokeh_onload_callbacks = undefined;\n      console.log(\"Bokeh: BokehJS was loaded multiple times but one version failed to initialize.\");\n      load_or_wait();\n    } else if (root._bokeh_is_initializing || (typeof root._bokeh_is_initializing === \"undefined\" && root._bokeh_onload_callbacks !== undefined)) {\n      setTimeout(load_or_wait, 100);\n    } else {\n      Bokeh = root.Bokeh;\n      bokeh_loaded = Bokeh != null && (Bokeh.version === py_version || (Bokeh.versions !== undefined && Bokeh.versions.has(py_version)));\n      root._bokeh_is_initializing = true\n      root._bokeh_onload_callbacks = []\n      if (!reloading && (!bokeh_loaded || is_dev)) {\n\troot.Bokeh = undefined;\n      }\n      load_libs(css_urls, js_urls, js_modules, js_exports, function() {\n\tconsole.debug(\"Bokeh: BokehJS plotting callback run at\", now());\n\trun_inline_js();\n      });\n    }\n  }\n  // Give older versions of the autoload script a head-start to ensure\n  // they initialize before we start loading newer version.\n  setTimeout(load_or_wait, 100)\n}(window));"
     },
     "metadata": {},
     "output_type": "display_data"
    },
    {
     "data": {
      "application/javascript": [
       "\n",
       "if ((window.PyViz === undefined) || (window.PyViz instanceof HTMLElement)) {\n",
       "  window.PyViz = {comms: {}, comm_status:{}, kernels:{}, receivers: {}, plot_index: []}\n",
       "}\n",
       "\n",
       "\n",
       "    function JupyterCommManager() {\n",
       "    }\n",
       "\n",
       "    JupyterCommManager.prototype.register_target = function(plot_id, comm_id, msg_handler) {\n",
       "      if (window.comm_manager || ((window.Jupyter !== undefined) && (Jupyter.notebook.kernel != null))) {\n",
       "        var comm_manager = window.comm_manager || Jupyter.notebook.kernel.comm_manager;\n",
       "        comm_manager.register_target(comm_id, function(comm) {\n",
       "          comm.on_msg(msg_handler);\n",
       "        });\n",
       "      } else if ((plot_id in window.PyViz.kernels) && (window.PyViz.kernels[plot_id])) {\n",
       "        window.PyViz.kernels[plot_id].registerCommTarget(comm_id, function(comm) {\n",
       "          comm.onMsg = msg_handler;\n",
       "        });\n",
       "      } else if (typeof google != 'undefined' && google.colab.kernel != null) {\n",
       "        google.colab.kernel.comms.registerTarget(comm_id, (comm) => {\n",
       "          var messages = comm.messages[Symbol.asyncIterator]();\n",
       "          function processIteratorResult(result) {\n",
       "            var message = result.value;\n",
       "            console.log(message)\n",
       "            var content = {data: message.data, comm_id};\n",
       "            var buffers = []\n",
       "            for (var buffer of message.buffers || []) {\n",
       "              buffers.push(new DataView(buffer))\n",
       "            }\n",
       "            var metadata = message.metadata || {};\n",
       "            var msg = {content, buffers, metadata}\n",
       "            msg_handler(msg);\n",
       "            return messages.next().then(processIteratorResult);\n",
       "          }\n",
       "          return messages.next().then(processIteratorResult);\n",
       "        })\n",
       "      }\n",
       "    }\n",
       "\n",
       "    JupyterCommManager.prototype.get_client_comm = function(plot_id, comm_id, msg_handler) {\n",
       "      if (comm_id in window.PyViz.comms) {\n",
       "        return window.PyViz.comms[comm_id];\n",
       "      } else if (window.comm_manager || ((window.Jupyter !== undefined) && (Jupyter.notebook.kernel != null))) {\n",
       "        var comm_manager = window.comm_manager || Jupyter.notebook.kernel.comm_manager;\n",
       "        var comm = comm_manager.new_comm(comm_id, {}, {}, {}, comm_id);\n",
       "        if (msg_handler) {\n",
       "          comm.on_msg(msg_handler);\n",
       "        }\n",
       "      } else if ((plot_id in window.PyViz.kernels) && (window.PyViz.kernels[plot_id])) {\n",
       "        var comm = window.PyViz.kernels[plot_id].connectToComm(comm_id);\n",
       "        comm.open();\n",
       "        if (msg_handler) {\n",
       "          comm.onMsg = msg_handler;\n",
       "        }\n",
       "      } else if (typeof google != 'undefined' && google.colab.kernel != null) {\n",
       "        var comm_promise = google.colab.kernel.comms.open(comm_id)\n",
       "        comm_promise.then((comm) => {\n",
       "          window.PyViz.comms[comm_id] = comm;\n",
       "          if (msg_handler) {\n",
       "            var messages = comm.messages[Symbol.asyncIterator]();\n",
       "            function processIteratorResult(result) {\n",
       "              var message = result.value;\n",
       "              var content = {data: message.data};\n",
       "              var metadata = message.metadata || {comm_id};\n",
       "              var msg = {content, metadata}\n",
       "              msg_handler(msg);\n",
       "              return messages.next().then(processIteratorResult);\n",
       "            }\n",
       "            return messages.next().then(processIteratorResult);\n",
       "          }\n",
       "        }) \n",
       "        var sendClosure = (data, metadata, buffers, disposeOnDone) => {\n",
       "          return comm_promise.then((comm) => {\n",
       "            comm.send(data, metadata, buffers, disposeOnDone);\n",
       "          });\n",
       "        };\n",
       "        var comm = {\n",
       "          send: sendClosure\n",
       "        };\n",
       "      }\n",
       "      window.PyViz.comms[comm_id] = comm;\n",
       "      return comm;\n",
       "    }\n",
       "    window.PyViz.comm_manager = new JupyterCommManager();\n",
       "    \n",
       "\n",
       "\n",
       "var JS_MIME_TYPE = 'application/javascript';\n",
       "var HTML_MIME_TYPE = 'text/html';\n",
       "var EXEC_MIME_TYPE = 'application/vnd.holoviews_exec.v0+json';\n",
       "var CLASS_NAME = 'output';\n",
       "\n",
       "/**\n",
       " * Render data to the DOM node\n",
       " */\n",
       "function render(props, node) {\n",
       "  var div = document.createElement(\"div\");\n",
       "  var script = document.createElement(\"script\");\n",
       "  node.appendChild(div);\n",
       "  node.appendChild(script);\n",
       "}\n",
       "\n",
       "/**\n",
       " * Handle when a new output is added\n",
       " */\n",
       "function handle_add_output(event, handle) {\n",
       "  var output_area = handle.output_area;\n",
       "  var output = handle.output;\n",
       "  if ((output.data == undefined) || (!output.data.hasOwnProperty(EXEC_MIME_TYPE))) {\n",
       "    return\n",
       "  }\n",
       "  var id = output.metadata[EXEC_MIME_TYPE][\"id\"];\n",
       "  var toinsert = output_area.element.find(\".\" + CLASS_NAME.split(' ')[0]);\n",
       "  if (id !== undefined) {\n",
       "    var nchildren = toinsert.length;\n",
       "    var html_node = toinsert[nchildren-1].children[0];\n",
       "    html_node.innerHTML = output.data[HTML_MIME_TYPE];\n",
       "    var scripts = [];\n",
       "    var nodelist = html_node.querySelectorAll(\"script\");\n",
       "    for (var i in nodelist) {\n",
       "      if (nodelist.hasOwnProperty(i)) {\n",
       "        scripts.push(nodelist[i])\n",
       "      }\n",
       "    }\n",
       "\n",
       "    scripts.forEach( function (oldScript) {\n",
       "      var newScript = document.createElement(\"script\");\n",
       "      var attrs = [];\n",
       "      var nodemap = oldScript.attributes;\n",
       "      for (var j in nodemap) {\n",
       "        if (nodemap.hasOwnProperty(j)) {\n",
       "          attrs.push(nodemap[j])\n",
       "        }\n",
       "      }\n",
       "      attrs.forEach(function(attr) { newScript.setAttribute(attr.name, attr.value) });\n",
       "      newScript.appendChild(document.createTextNode(oldScript.innerHTML));\n",
       "      oldScript.parentNode.replaceChild(newScript, oldScript);\n",
       "    });\n",
       "    if (JS_MIME_TYPE in output.data) {\n",
       "      toinsert[nchildren-1].children[1].textContent = output.data[JS_MIME_TYPE];\n",
       "    }\n",
       "    output_area._hv_plot_id = id;\n",
       "    if ((window.Bokeh !== undefined) && (id in Bokeh.index)) {\n",
       "      window.PyViz.plot_index[id] = Bokeh.index[id];\n",
       "    } else {\n",
       "      window.PyViz.plot_index[id] = null;\n",
       "    }\n",
       "  } else if (output.metadata[EXEC_MIME_TYPE][\"server_id\"] !== undefined) {\n",
       "    var bk_div = document.createElement(\"div\");\n",
       "    bk_div.innerHTML = output.data[HTML_MIME_TYPE];\n",
       "    var script_attrs = bk_div.children[0].attributes;\n",
       "    for (var i = 0; i < script_attrs.length; i++) {\n",
       "      toinsert[toinsert.length - 1].childNodes[1].setAttribute(script_attrs[i].name, script_attrs[i].value);\n",
       "    }\n",
       "    // store reference to server id on output_area\n",
       "    output_area._bokeh_server_id = output.metadata[EXEC_MIME_TYPE][\"server_id\"];\n",
       "  }\n",
       "}\n",
       "\n",
       "/**\n",
       " * Handle when an output is cleared or removed\n",
       " */\n",
       "function handle_clear_output(event, handle) {\n",
       "  var id = handle.cell.output_area._hv_plot_id;\n",
       "  var server_id = handle.cell.output_area._bokeh_server_id;\n",
       "  if (((id === undefined) || !(id in PyViz.plot_index)) && (server_id !== undefined)) { return; }\n",
       "  var comm = window.PyViz.comm_manager.get_client_comm(\"hv-extension-comm\", \"hv-extension-comm\", function () {});\n",
       "  if (server_id !== null) {\n",
       "    comm.send({event_type: 'server_delete', 'id': server_id});\n",
       "    return;\n",
       "  } else if (comm !== null) {\n",
       "    comm.send({event_type: 'delete', 'id': id});\n",
       "  }\n",
       "  delete PyViz.plot_index[id];\n",
       "  if ((window.Bokeh !== undefined) & (id in window.Bokeh.index)) {\n",
       "    var doc = window.Bokeh.index[id].model.document\n",
       "    doc.clear();\n",
       "    const i = window.Bokeh.documents.indexOf(doc);\n",
       "    if (i > -1) {\n",
       "      window.Bokeh.documents.splice(i, 1);\n",
       "    }\n",
       "  }\n",
       "}\n",
       "\n",
       "/**\n",
       " * Handle kernel restart event\n",
       " */\n",
       "function handle_kernel_cleanup(event, handle) {\n",
       "  delete PyViz.comms[\"hv-extension-comm\"];\n",
       "  window.PyViz.plot_index = {}\n",
       "}\n",
       "\n",
       "/**\n",
       " * Handle update_display_data messages\n",
       " */\n",
       "function handle_update_output(event, handle) {\n",
       "  handle_clear_output(event, {cell: {output_area: handle.output_area}})\n",
       "  handle_add_output(event, handle)\n",
       "}\n",
       "\n",
       "function register_renderer(events, OutputArea) {\n",
       "  function append_mime(data, metadata, element) {\n",
       "    // create a DOM node to render to\n",
       "    var toinsert = this.create_output_subarea(\n",
       "    metadata,\n",
       "    CLASS_NAME,\n",
       "    EXEC_MIME_TYPE\n",
       "    );\n",
       "    this.keyboard_manager.register_events(toinsert);\n",
       "    // Render to node\n",
       "    var props = {data: data, metadata: metadata[EXEC_MIME_TYPE]};\n",
       "    render(props, toinsert[0]);\n",
       "    element.append(toinsert);\n",
       "    return toinsert\n",
       "  }\n",
       "\n",
       "  events.on('output_added.OutputArea', handle_add_output);\n",
       "  events.on('output_updated.OutputArea', handle_update_output);\n",
       "  events.on('clear_output.CodeCell', handle_clear_output);\n",
       "  events.on('delete.Cell', handle_clear_output);\n",
       "  events.on('kernel_ready.Kernel', handle_kernel_cleanup);\n",
       "\n",
       "  OutputArea.prototype.register_mime_type(EXEC_MIME_TYPE, append_mime, {\n",
       "    safe: true,\n",
       "    index: 0\n",
       "  });\n",
       "}\n",
       "\n",
       "if (window.Jupyter !== undefined) {\n",
       "  try {\n",
       "    var events = require('base/js/events');\n",
       "    var OutputArea = require('notebook/js/outputarea').OutputArea;\n",
       "    if (OutputArea.prototype.mime_types().indexOf(EXEC_MIME_TYPE) == -1) {\n",
       "      register_renderer(events, OutputArea);\n",
       "    }\n",
       "  } catch(err) {\n",
       "  }\n",
       "}\n"
      ],
      "application/vnd.holoviews_load.v0+json": "\nif ((window.PyViz === undefined) || (window.PyViz instanceof HTMLElement)) {\n  window.PyViz = {comms: {}, comm_status:{}, kernels:{}, receivers: {}, plot_index: []}\n}\n\n\n    function JupyterCommManager() {\n    }\n\n    JupyterCommManager.prototype.register_target = function(plot_id, comm_id, msg_handler) {\n      if (window.comm_manager || ((window.Jupyter !== undefined) && (Jupyter.notebook.kernel != null))) {\n        var comm_manager = window.comm_manager || Jupyter.notebook.kernel.comm_manager;\n        comm_manager.register_target(comm_id, function(comm) {\n          comm.on_msg(msg_handler);\n        });\n      } else if ((plot_id in window.PyViz.kernels) && (window.PyViz.kernels[plot_id])) {\n        window.PyViz.kernels[plot_id].registerCommTarget(comm_id, function(comm) {\n          comm.onMsg = msg_handler;\n        });\n      } else if (typeof google != 'undefined' && google.colab.kernel != null) {\n        google.colab.kernel.comms.registerTarget(comm_id, (comm) => {\n          var messages = comm.messages[Symbol.asyncIterator]();\n          function processIteratorResult(result) {\n            var message = result.value;\n            console.log(message)\n            var content = {data: message.data, comm_id};\n            var buffers = []\n            for (var buffer of message.buffers || []) {\n              buffers.push(new DataView(buffer))\n            }\n            var metadata = message.metadata || {};\n            var msg = {content, buffers, metadata}\n            msg_handler(msg);\n            return messages.next().then(processIteratorResult);\n          }\n          return messages.next().then(processIteratorResult);\n        })\n      }\n    }\n\n    JupyterCommManager.prototype.get_client_comm = function(plot_id, comm_id, msg_handler) {\n      if (comm_id in window.PyViz.comms) {\n        return window.PyViz.comms[comm_id];\n      } else if (window.comm_manager || ((window.Jupyter !== undefined) && (Jupyter.notebook.kernel != null))) {\n        var comm_manager = window.comm_manager || Jupyter.notebook.kernel.comm_manager;\n        var comm = comm_manager.new_comm(comm_id, {}, {}, {}, comm_id);\n        if (msg_handler) {\n          comm.on_msg(msg_handler);\n        }\n      } else if ((plot_id in window.PyViz.kernels) && (window.PyViz.kernels[plot_id])) {\n        var comm = window.PyViz.kernels[plot_id].connectToComm(comm_id);\n        comm.open();\n        if (msg_handler) {\n          comm.onMsg = msg_handler;\n        }\n      } else if (typeof google != 'undefined' && google.colab.kernel != null) {\n        var comm_promise = google.colab.kernel.comms.open(comm_id)\n        comm_promise.then((comm) => {\n          window.PyViz.comms[comm_id] = comm;\n          if (msg_handler) {\n            var messages = comm.messages[Symbol.asyncIterator]();\n            function processIteratorResult(result) {\n              var message = result.value;\n              var content = {data: message.data};\n              var metadata = message.metadata || {comm_id};\n              var msg = {content, metadata}\n              msg_handler(msg);\n              return messages.next().then(processIteratorResult);\n            }\n            return messages.next().then(processIteratorResult);\n          }\n        }) \n        var sendClosure = (data, metadata, buffers, disposeOnDone) => {\n          return comm_promise.then((comm) => {\n            comm.send(data, metadata, buffers, disposeOnDone);\n          });\n        };\n        var comm = {\n          send: sendClosure\n        };\n      }\n      window.PyViz.comms[comm_id] = comm;\n      return comm;\n    }\n    window.PyViz.comm_manager = new JupyterCommManager();\n    \n\n\nvar JS_MIME_TYPE = 'application/javascript';\nvar HTML_MIME_TYPE = 'text/html';\nvar EXEC_MIME_TYPE = 'application/vnd.holoviews_exec.v0+json';\nvar CLASS_NAME = 'output';\n\n/**\n * Render data to the DOM node\n */\nfunction render(props, node) {\n  var div = document.createElement(\"div\");\n  var script = document.createElement(\"script\");\n  node.appendChild(div);\n  node.appendChild(script);\n}\n\n/**\n * Handle when a new output is added\n */\nfunction handle_add_output(event, handle) {\n  var output_area = handle.output_area;\n  var output = handle.output;\n  if ((output.data == undefined) || (!output.data.hasOwnProperty(EXEC_MIME_TYPE))) {\n    return\n  }\n  var id = output.metadata[EXEC_MIME_TYPE][\"id\"];\n  var toinsert = output_area.element.find(\".\" + CLASS_NAME.split(' ')[0]);\n  if (id !== undefined) {\n    var nchildren = toinsert.length;\n    var html_node = toinsert[nchildren-1].children[0];\n    html_node.innerHTML = output.data[HTML_MIME_TYPE];\n    var scripts = [];\n    var nodelist = html_node.querySelectorAll(\"script\");\n    for (var i in nodelist) {\n      if (nodelist.hasOwnProperty(i)) {\n        scripts.push(nodelist[i])\n      }\n    }\n\n    scripts.forEach( function (oldScript) {\n      var newScript = document.createElement(\"script\");\n      var attrs = [];\n      var nodemap = oldScript.attributes;\n      for (var j in nodemap) {\n        if (nodemap.hasOwnProperty(j)) {\n          attrs.push(nodemap[j])\n        }\n      }\n      attrs.forEach(function(attr) { newScript.setAttribute(attr.name, attr.value) });\n      newScript.appendChild(document.createTextNode(oldScript.innerHTML));\n      oldScript.parentNode.replaceChild(newScript, oldScript);\n    });\n    if (JS_MIME_TYPE in output.data) {\n      toinsert[nchildren-1].children[1].textContent = output.data[JS_MIME_TYPE];\n    }\n    output_area._hv_plot_id = id;\n    if ((window.Bokeh !== undefined) && (id in Bokeh.index)) {\n      window.PyViz.plot_index[id] = Bokeh.index[id];\n    } else {\n      window.PyViz.plot_index[id] = null;\n    }\n  } else if (output.metadata[EXEC_MIME_TYPE][\"server_id\"] !== undefined) {\n    var bk_div = document.createElement(\"div\");\n    bk_div.innerHTML = output.data[HTML_MIME_TYPE];\n    var script_attrs = bk_div.children[0].attributes;\n    for (var i = 0; i < script_attrs.length; i++) {\n      toinsert[toinsert.length - 1].childNodes[1].setAttribute(script_attrs[i].name, script_attrs[i].value);\n    }\n    // store reference to server id on output_area\n    output_area._bokeh_server_id = output.metadata[EXEC_MIME_TYPE][\"server_id\"];\n  }\n}\n\n/**\n * Handle when an output is cleared or removed\n */\nfunction handle_clear_output(event, handle) {\n  var id = handle.cell.output_area._hv_plot_id;\n  var server_id = handle.cell.output_area._bokeh_server_id;\n  if (((id === undefined) || !(id in PyViz.plot_index)) && (server_id !== undefined)) { return; }\n  var comm = window.PyViz.comm_manager.get_client_comm(\"hv-extension-comm\", \"hv-extension-comm\", function () {});\n  if (server_id !== null) {\n    comm.send({event_type: 'server_delete', 'id': server_id});\n    return;\n  } else if (comm !== null) {\n    comm.send({event_type: 'delete', 'id': id});\n  }\n  delete PyViz.plot_index[id];\n  if ((window.Bokeh !== undefined) & (id in window.Bokeh.index)) {\n    var doc = window.Bokeh.index[id].model.document\n    doc.clear();\n    const i = window.Bokeh.documents.indexOf(doc);\n    if (i > -1) {\n      window.Bokeh.documents.splice(i, 1);\n    }\n  }\n}\n\n/**\n * Handle kernel restart event\n */\nfunction handle_kernel_cleanup(event, handle) {\n  delete PyViz.comms[\"hv-extension-comm\"];\n  window.PyViz.plot_index = {}\n}\n\n/**\n * Handle update_display_data messages\n */\nfunction handle_update_output(event, handle) {\n  handle_clear_output(event, {cell: {output_area: handle.output_area}})\n  handle_add_output(event, handle)\n}\n\nfunction register_renderer(events, OutputArea) {\n  function append_mime(data, metadata, element) {\n    // create a DOM node to render to\n    var toinsert = this.create_output_subarea(\n    metadata,\n    CLASS_NAME,\n    EXEC_MIME_TYPE\n    );\n    this.keyboard_manager.register_events(toinsert);\n    // Render to node\n    var props = {data: data, metadata: metadata[EXEC_MIME_TYPE]};\n    render(props, toinsert[0]);\n    element.append(toinsert);\n    return toinsert\n  }\n\n  events.on('output_added.OutputArea', handle_add_output);\n  events.on('output_updated.OutputArea', handle_update_output);\n  events.on('clear_output.CodeCell', handle_clear_output);\n  events.on('delete.Cell', handle_clear_output);\n  events.on('kernel_ready.Kernel', handle_kernel_cleanup);\n\n  OutputArea.prototype.register_mime_type(EXEC_MIME_TYPE, append_mime, {\n    safe: true,\n    index: 0\n  });\n}\n\nif (window.Jupyter !== undefined) {\n  try {\n    var events = require('base/js/events');\n    var OutputArea = require('notebook/js/outputarea').OutputArea;\n    if (OutputArea.prototype.mime_types().indexOf(EXEC_MIME_TYPE) == -1) {\n      register_renderer(events, OutputArea);\n    }\n  } catch(err) {\n  }\n}\n"
     },
     "metadata": {},
     "output_type": "display_data"
    },
    {
     "data": {
      "text/html": [
       "<style>*[data-root-id],\n",
       "*[data-root-id] > * {\n",
       "  box-sizing: border-box;\n",
       "  font-family: var(--jp-ui-font-family);\n",
       "  font-size: var(--jp-ui-font-size1);\n",
       "  color: var(--vscode-editor-foreground, var(--jp-ui-font-color1));\n",
       "}\n",
       "\n",
       "/* Override VSCode background color */\n",
       ".cell-output-ipywidget-background:has(\n",
       "    > .cell-output-ipywidget-background > .lm-Widget > *[data-root-id]\n",
       "  ),\n",
       ".cell-output-ipywidget-background:has(> .lm-Widget > *[data-root-id]) {\n",
       "  background-color: transparent !important;\n",
       "}\n",
       "</style>"
      ]
     },
     "metadata": {},
     "output_type": "display_data"
    }
   ],
   "source": [
    "import pandas as pd\n",
    "import numpy as np\n",
    "import panel as pn\n",
    "import plotly.express as px\n",
    "pn.extension('tabulator')\n",
    "from dash import Dash, dcc, html, Input, Output\n",
    "import plotly.graph_objects as go\n",
    "import panel.widgets as pnw\n",
    "import hvplot.pandas\n"
   ]
  },
  {
   "cell_type": "code",
   "execution_count": 3,
   "id": "20d992cd-3a9e-4c98-9cba-15405ad646ab",
   "metadata": {},
   "outputs": [],
   "source": [
    "#df = pd.read_csv('C:\\\\Users\\\\Kaja\\\\Desktop\\\\infoviz\\\\data\\\\olympic_medals.csv')\n",
    "df = pd.read_csv('C:\\\\Users\\\\Kaja\\\\Desktop\\\\infoviz\\\\data\\\\olympic_results.csv')"
   ]
  },
  {
   "cell_type": "code",
   "execution_count": 4,
   "id": "be7cec4b-5b33-4eca-84c4-4d4c2126e310",
   "metadata": {},
   "outputs": [],
   "source": [
    "df = df.fillna(0)"
   ]
  },
  {
   "cell_type": "code",
   "execution_count": 5,
   "id": "2e584b2c-a101-40b6-9cf5-c61c9ee2c851",
   "metadata": {},
   "outputs": [],
   "source": [
    "idf = df.interactive()"
   ]
  },
  {
   "cell_type": "code",
   "execution_count": 6,
   "id": "ac0f937f-8265-4a16-a408-190454b4160e",
   "metadata": {},
   "outputs": [],
   "source": [
    "#getting a date from slug_game\n",
    "df['date'] = df['slug_game'].str.split('-').str[-1]\n",
    "df['date'] = df['date'].str.strip()\n",
    "#df\n"
   ]
  },
  {
   "cell_type": "code",
   "execution_count": 7,
   "id": "86947c23-c804-4c14-acab-f279c4a84d77",
   "metadata": {},
   "outputs": [
    {
     "name": "stderr",
     "output_type": "stream",
     "text": [
      "C:\\Users\\Kaja\\AppData\\Local\\Temp\\ipykernel_20644\\3518785205.py:21: SettingWithCopyWarning: \n",
      "A value is trying to be set on a copy of a slice from a DataFrame.\n",
      "Try using .loc[row_indexer,col_indexer] = value instead\n",
      "\n",
      "See the caveats in the documentation: https://pandas.pydata.org/pandas-docs/stable/user_guide/indexing.html#returning-a-view-versus-a-copy\n",
      "  slovenia_df.loc[slovenia_df['medal_type'] == 'GOLD', 'gold_medal'] = slovenia_df['counts']\n",
      "C:\\Users\\Kaja\\AppData\\Local\\Temp\\ipykernel_20644\\3518785205.py:22: SettingWithCopyWarning: \n",
      "A value is trying to be set on a copy of a slice from a DataFrame\n",
      "\n",
      "See the caveats in the documentation: https://pandas.pydata.org/pandas-docs/stable/user_guide/indexing.html#returning-a-view-versus-a-copy\n",
      "  slovenia_df['gold_medal'].fillna(0, inplace=True)\n",
      "C:\\Users\\Kaja\\AppData\\Local\\Temp\\ipykernel_20644\\3518785205.py:23: SettingWithCopyWarning: \n",
      "A value is trying to be set on a copy of a slice from a DataFrame.\n",
      "Try using .loc[row_indexer,col_indexer] = value instead\n",
      "\n",
      "See the caveats in the documentation: https://pandas.pydata.org/pandas-docs/stable/user_guide/indexing.html#returning-a-view-versus-a-copy\n",
      "  slovenia_df.loc[slovenia_df['medal_type'] == 'SILVER', 'silver_medal'] = slovenia_df['counts']\n",
      "C:\\Users\\Kaja\\AppData\\Local\\Temp\\ipykernel_20644\\3518785205.py:24: SettingWithCopyWarning: \n",
      "A value is trying to be set on a copy of a slice from a DataFrame\n",
      "\n",
      "See the caveats in the documentation: https://pandas.pydata.org/pandas-docs/stable/user_guide/indexing.html#returning-a-view-versus-a-copy\n",
      "  slovenia_df['silver_medal'].fillna(0, inplace=True)\n",
      "C:\\Users\\Kaja\\AppData\\Local\\Temp\\ipykernel_20644\\3518785205.py:25: SettingWithCopyWarning: \n",
      "A value is trying to be set on a copy of a slice from a DataFrame.\n",
      "Try using .loc[row_indexer,col_indexer] = value instead\n",
      "\n",
      "See the caveats in the documentation: https://pandas.pydata.org/pandas-docs/stable/user_guide/indexing.html#returning-a-view-versus-a-copy\n",
      "  slovenia_df.loc[slovenia_df['medal_type'] == 'BRONZE', 'bronze_medal'] = slovenia_df['counts']\n",
      "C:\\Users\\Kaja\\AppData\\Local\\Temp\\ipykernel_20644\\3518785205.py:26: SettingWithCopyWarning: \n",
      "A value is trying to be set on a copy of a slice from a DataFrame\n",
      "\n",
      "See the caveats in the documentation: https://pandas.pydata.org/pandas-docs/stable/user_guide/indexing.html#returning-a-view-versus-a-copy\n",
      "  slovenia_df['bronze_medal'].fillna(0, inplace=True)\n"
     ]
    },
    {
     "data": {
      "text/html": [
       "<div>\n",
       "<style scoped>\n",
       "    .dataframe tbody tr th:only-of-type {\n",
       "        vertical-align: middle;\n",
       "    }\n",
       "\n",
       "    .dataframe tbody tr th {\n",
       "        vertical-align: top;\n",
       "    }\n",
       "\n",
       "    .dataframe thead th {\n",
       "        text-align: right;\n",
       "    }\n",
       "</style>\n",
       "<table border=\"1\" class=\"dataframe\">\n",
       "  <thead>\n",
       "    <tr style=\"text-align: right;\">\n",
       "      <th></th>\n",
       "      <th>date</th>\n",
       "      <th>country_name</th>\n",
       "      <th>medal_type</th>\n",
       "      <th>counts</th>\n",
       "      <th>gold_medal</th>\n",
       "      <th>silver_medal</th>\n",
       "      <th>bronze_medal</th>\n",
       "    </tr>\n",
       "  </thead>\n",
       "  <tbody>\n",
       "    <tr>\n",
       "      <th>3259</th>\n",
       "      <td>1992</td>\n",
       "      <td>Slovenia</td>\n",
       "      <td>BRONZE</td>\n",
       "      <td>2</td>\n",
       "      <td>0.0</td>\n",
       "      <td>0.0</td>\n",
       "      <td>2.0</td>\n",
       "    </tr>\n",
       "    <tr>\n",
       "      <th>3404</th>\n",
       "      <td>1994</td>\n",
       "      <td>Slovenia</td>\n",
       "      <td>BRONZE</td>\n",
       "      <td>3</td>\n",
       "      <td>0.0</td>\n",
       "      <td>0.0</td>\n",
       "      <td>3.0</td>\n",
       "    </tr>\n",
       "    <tr>\n",
       "      <th>3717</th>\n",
       "      <td>1996</td>\n",
       "      <td>Slovenia</td>\n",
       "      <td>SILVER</td>\n",
       "      <td>2</td>\n",
       "      <td>0.0</td>\n",
       "      <td>2.0</td>\n",
       "      <td>0.0</td>\n",
       "    </tr>\n",
       "    <tr>\n",
       "      <th>4204</th>\n",
       "      <td>2000</td>\n",
       "      <td>Slovenia</td>\n",
       "      <td>GOLD</td>\n",
       "      <td>2</td>\n",
       "      <td>2.0</td>\n",
       "      <td>0.0</td>\n",
       "      <td>0.0</td>\n",
       "    </tr>\n",
       "    <tr>\n",
       "      <th>4378</th>\n",
       "      <td>2002</td>\n",
       "      <td>Slovenia</td>\n",
       "      <td>BRONZE</td>\n",
       "      <td>1</td>\n",
       "      <td>0.0</td>\n",
       "      <td>0.0</td>\n",
       "      <td>1.0</td>\n",
       "    </tr>\n",
       "    <tr>\n",
       "      <th>4698</th>\n",
       "      <td>2004</td>\n",
       "      <td>Slovenia</td>\n",
       "      <td>BRONZE</td>\n",
       "      <td>3</td>\n",
       "      <td>0.0</td>\n",
       "      <td>0.0</td>\n",
       "      <td>3.0</td>\n",
       "    </tr>\n",
       "    <tr>\n",
       "      <th>4699</th>\n",
       "      <td>2004</td>\n",
       "      <td>Slovenia</td>\n",
       "      <td>SILVER</td>\n",
       "      <td>1</td>\n",
       "      <td>0.0</td>\n",
       "      <td>1.0</td>\n",
       "      <td>0.0</td>\n",
       "    </tr>\n",
       "    <tr>\n",
       "      <th>5220</th>\n",
       "      <td>2008</td>\n",
       "      <td>Slovenia</td>\n",
       "      <td>BRONZE</td>\n",
       "      <td>2</td>\n",
       "      <td>0.0</td>\n",
       "      <td>0.0</td>\n",
       "      <td>2.0</td>\n",
       "    </tr>\n",
       "    <tr>\n",
       "      <th>5221</th>\n",
       "      <td>2008</td>\n",
       "      <td>Slovenia</td>\n",
       "      <td>GOLD</td>\n",
       "      <td>1</td>\n",
       "      <td>1.0</td>\n",
       "      <td>0.0</td>\n",
       "      <td>0.0</td>\n",
       "    </tr>\n",
       "    <tr>\n",
       "      <th>5222</th>\n",
       "      <td>2008</td>\n",
       "      <td>Slovenia</td>\n",
       "      <td>SILVER</td>\n",
       "      <td>2</td>\n",
       "      <td>0.0</td>\n",
       "      <td>2.0</td>\n",
       "      <td>0.0</td>\n",
       "    </tr>\n",
       "    <tr>\n",
       "      <th>5416</th>\n",
       "      <td>2010</td>\n",
       "      <td>Slovenia</td>\n",
       "      <td>BRONZE</td>\n",
       "      <td>1</td>\n",
       "      <td>0.0</td>\n",
       "      <td>0.0</td>\n",
       "      <td>1.0</td>\n",
       "    </tr>\n",
       "    <tr>\n",
       "      <th>5417</th>\n",
       "      <td>2010</td>\n",
       "      <td>Slovenia</td>\n",
       "      <td>SILVER</td>\n",
       "      <td>2</td>\n",
       "      <td>0.0</td>\n",
       "      <td>2.0</td>\n",
       "      <td>0.0</td>\n",
       "    </tr>\n",
       "    <tr>\n",
       "      <th>5754</th>\n",
       "      <td>2012</td>\n",
       "      <td>Slovenia</td>\n",
       "      <td>BRONZE</td>\n",
       "      <td>2</td>\n",
       "      <td>0.0</td>\n",
       "      <td>0.0</td>\n",
       "      <td>2.0</td>\n",
       "    </tr>\n",
       "    <tr>\n",
       "      <th>5755</th>\n",
       "      <td>2012</td>\n",
       "      <td>Slovenia</td>\n",
       "      <td>GOLD</td>\n",
       "      <td>1</td>\n",
       "      <td>1.0</td>\n",
       "      <td>0.0</td>\n",
       "      <td>0.0</td>\n",
       "    </tr>\n",
       "    <tr>\n",
       "      <th>5756</th>\n",
       "      <td>2012</td>\n",
       "      <td>Slovenia</td>\n",
       "      <td>SILVER</td>\n",
       "      <td>1</td>\n",
       "      <td>0.0</td>\n",
       "      <td>1.0</td>\n",
       "      <td>0.0</td>\n",
       "    </tr>\n",
       "    <tr>\n",
       "      <th>5950</th>\n",
       "      <td>2014</td>\n",
       "      <td>Slovenia</td>\n",
       "      <td>BRONZE</td>\n",
       "      <td>4</td>\n",
       "      <td>0.0</td>\n",
       "      <td>0.0</td>\n",
       "      <td>4.0</td>\n",
       "    </tr>\n",
       "    <tr>\n",
       "      <th>5951</th>\n",
       "      <td>2014</td>\n",
       "      <td>Slovenia</td>\n",
       "      <td>GOLD</td>\n",
       "      <td>2</td>\n",
       "      <td>2.0</td>\n",
       "      <td>0.0</td>\n",
       "      <td>0.0</td>\n",
       "    </tr>\n",
       "    <tr>\n",
       "      <th>5952</th>\n",
       "      <td>2014</td>\n",
       "      <td>Slovenia</td>\n",
       "      <td>SILVER</td>\n",
       "      <td>2</td>\n",
       "      <td>0.0</td>\n",
       "      <td>2.0</td>\n",
       "      <td>0.0</td>\n",
       "    </tr>\n",
       "    <tr>\n",
       "      <th>6296</th>\n",
       "      <td>2016</td>\n",
       "      <td>Slovenia</td>\n",
       "      <td>BRONZE</td>\n",
       "      <td>1</td>\n",
       "      <td>0.0</td>\n",
       "      <td>0.0</td>\n",
       "      <td>1.0</td>\n",
       "    </tr>\n",
       "    <tr>\n",
       "      <th>6297</th>\n",
       "      <td>2016</td>\n",
       "      <td>Slovenia</td>\n",
       "      <td>GOLD</td>\n",
       "      <td>1</td>\n",
       "      <td>1.0</td>\n",
       "      <td>0.0</td>\n",
       "      <td>0.0</td>\n",
       "    </tr>\n",
       "    <tr>\n",
       "      <th>6298</th>\n",
       "      <td>2016</td>\n",
       "      <td>Slovenia</td>\n",
       "      <td>SILVER</td>\n",
       "      <td>2</td>\n",
       "      <td>0.0</td>\n",
       "      <td>2.0</td>\n",
       "      <td>0.0</td>\n",
       "    </tr>\n",
       "    <tr>\n",
       "      <th>6503</th>\n",
       "      <td>2018</td>\n",
       "      <td>Slovenia</td>\n",
       "      <td>BRONZE</td>\n",
       "      <td>1</td>\n",
       "      <td>0.0</td>\n",
       "      <td>0.0</td>\n",
       "      <td>1.0</td>\n",
       "    </tr>\n",
       "    <tr>\n",
       "      <th>6504</th>\n",
       "      <td>2018</td>\n",
       "      <td>Slovenia</td>\n",
       "      <td>SILVER</td>\n",
       "      <td>1</td>\n",
       "      <td>0.0</td>\n",
       "      <td>1.0</td>\n",
       "      <td>0.0</td>\n",
       "    </tr>\n",
       "    <tr>\n",
       "      <th>6860</th>\n",
       "      <td>2020</td>\n",
       "      <td>Slovenia</td>\n",
       "      <td>BRONZE</td>\n",
       "      <td>1</td>\n",
       "      <td>0.0</td>\n",
       "      <td>0.0</td>\n",
       "      <td>1.0</td>\n",
       "    </tr>\n",
       "    <tr>\n",
       "      <th>6861</th>\n",
       "      <td>2020</td>\n",
       "      <td>Slovenia</td>\n",
       "      <td>GOLD</td>\n",
       "      <td>3</td>\n",
       "      <td>3.0</td>\n",
       "      <td>0.0</td>\n",
       "      <td>0.0</td>\n",
       "    </tr>\n",
       "    <tr>\n",
       "      <th>6862</th>\n",
       "      <td>2020</td>\n",
       "      <td>Slovenia</td>\n",
       "      <td>SILVER</td>\n",
       "      <td>1</td>\n",
       "      <td>0.0</td>\n",
       "      <td>1.0</td>\n",
       "      <td>0.0</td>\n",
       "    </tr>\n",
       "    <tr>\n",
       "      <th>7064</th>\n",
       "      <td>2022</td>\n",
       "      <td>Slovenia</td>\n",
       "      <td>BRONZE</td>\n",
       "      <td>2</td>\n",
       "      <td>0.0</td>\n",
       "      <td>0.0</td>\n",
       "      <td>2.0</td>\n",
       "    </tr>\n",
       "    <tr>\n",
       "      <th>7065</th>\n",
       "      <td>2022</td>\n",
       "      <td>Slovenia</td>\n",
       "      <td>GOLD</td>\n",
       "      <td>2</td>\n",
       "      <td>2.0</td>\n",
       "      <td>0.0</td>\n",
       "      <td>0.0</td>\n",
       "    </tr>\n",
       "    <tr>\n",
       "      <th>7066</th>\n",
       "      <td>2022</td>\n",
       "      <td>Slovenia</td>\n",
       "      <td>SILVER</td>\n",
       "      <td>3</td>\n",
       "      <td>0.0</td>\n",
       "      <td>3.0</td>\n",
       "      <td>0.0</td>\n",
       "    </tr>\n",
       "  </tbody>\n",
       "</table>\n",
       "</div>"
      ],
      "text/plain": [
       "      date country_name medal_type  counts  gold_medal  silver_medal  \\\n",
       "3259  1992     Slovenia     BRONZE       2         0.0           0.0   \n",
       "3404  1994     Slovenia     BRONZE       3         0.0           0.0   \n",
       "3717  1996     Slovenia     SILVER       2         0.0           2.0   \n",
       "4204  2000     Slovenia       GOLD       2         2.0           0.0   \n",
       "4378  2002     Slovenia     BRONZE       1         0.0           0.0   \n",
       "4698  2004     Slovenia     BRONZE       3         0.0           0.0   \n",
       "4699  2004     Slovenia     SILVER       1         0.0           1.0   \n",
       "5220  2008     Slovenia     BRONZE       2         0.0           0.0   \n",
       "5221  2008     Slovenia       GOLD       1         1.0           0.0   \n",
       "5222  2008     Slovenia     SILVER       2         0.0           2.0   \n",
       "5416  2010     Slovenia     BRONZE       1         0.0           0.0   \n",
       "5417  2010     Slovenia     SILVER       2         0.0           2.0   \n",
       "5754  2012     Slovenia     BRONZE       2         0.0           0.0   \n",
       "5755  2012     Slovenia       GOLD       1         1.0           0.0   \n",
       "5756  2012     Slovenia     SILVER       1         0.0           1.0   \n",
       "5950  2014     Slovenia     BRONZE       4         0.0           0.0   \n",
       "5951  2014     Slovenia       GOLD       2         2.0           0.0   \n",
       "5952  2014     Slovenia     SILVER       2         0.0           2.0   \n",
       "6296  2016     Slovenia     BRONZE       1         0.0           0.0   \n",
       "6297  2016     Slovenia       GOLD       1         1.0           0.0   \n",
       "6298  2016     Slovenia     SILVER       2         0.0           2.0   \n",
       "6503  2018     Slovenia     BRONZE       1         0.0           0.0   \n",
       "6504  2018     Slovenia     SILVER       1         0.0           1.0   \n",
       "6860  2020     Slovenia     BRONZE       1         0.0           0.0   \n",
       "6861  2020     Slovenia       GOLD       3         3.0           0.0   \n",
       "6862  2020     Slovenia     SILVER       1         0.0           1.0   \n",
       "7064  2022     Slovenia     BRONZE       2         0.0           0.0   \n",
       "7065  2022     Slovenia       GOLD       2         2.0           0.0   \n",
       "7066  2022     Slovenia     SILVER       3         0.0           3.0   \n",
       "\n",
       "      bronze_medal  \n",
       "3259           2.0  \n",
       "3404           3.0  \n",
       "3717           0.0  \n",
       "4204           0.0  \n",
       "4378           1.0  \n",
       "4698           3.0  \n",
       "4699           0.0  \n",
       "5220           2.0  \n",
       "5221           0.0  \n",
       "5222           0.0  \n",
       "5416           1.0  \n",
       "5417           0.0  \n",
       "5754           2.0  \n",
       "5755           0.0  \n",
       "5756           0.0  \n",
       "5950           4.0  \n",
       "5951           0.0  \n",
       "5952           0.0  \n",
       "6296           1.0  \n",
       "6297           0.0  \n",
       "6298           0.0  \n",
       "6503           1.0  \n",
       "6504           0.0  \n",
       "6860           1.0  \n",
       "6861           0.0  \n",
       "6862           0.0  \n",
       "7064           2.0  \n",
       "7065           0.0  \n",
       "7066           0.0  "
      ]
     },
     "execution_count": 7,
     "metadata": {},
     "output_type": "execute_result"
    }
   ],
   "source": [
    "\n",
    "#group by types of medals per year\n",
    "\n",
    "worldmap1 = df.groupby(['date','country_name', 'medal_type']).size().reset_index(name='counts')\n",
    "worldmap1 = worldmap1[worldmap1['medal_type'] != 0] \n",
    "#vis3 dataframe\n",
    "disc_df = df.groupby(['date', 'discipline_title','country_name', 'medal_type']).size().reset_index(name='counts')\n",
    "disc_dfx = disc_df[disc_df['medal_type'] != 0] \n",
    "#worldmap.head\n",
    "worldmapx = worldmap1[worldmap1['medal_type'] != 0]\n",
    "# df with sum of all medals by country and date\n",
    "worldmap = worldmap1.groupby(['date','country_name']).size().reset_index(name='sum_of_medals')\n",
    "#worldmap['gold'] = worldmap1['medal_type'] == 'GOLD'\n",
    "\n",
    "worldmap\n",
    "\n",
    "#df for slovenia\n",
    "slovenia_df = worldmapx[worldmapx['country_name'] == 'Slovenia']\n",
    "slovenia_df\n",
    "\n",
    "#slovenia_df['gold_medals'] = slovenia_df['counts'].where(['medal_type']=='GOLD', slovenia_df['medal_type'])\n",
    "slovenia_df.loc[slovenia_df['medal_type'] == 'GOLD', 'gold_medal'] = slovenia_df['counts']\n",
    "slovenia_df['gold_medal'].fillna(0, inplace=True)\n",
    "slovenia_df.loc[slovenia_df['medal_type'] == 'SILVER', 'silver_medal'] = slovenia_df['counts']\n",
    "slovenia_df['silver_medal'].fillna(0, inplace=True)\n",
    "slovenia_df.loc[slovenia_df['medal_type'] == 'BRONZE', 'bronze_medal'] = slovenia_df['counts']\n",
    "slovenia_df['bronze_medal'].fillna(0, inplace=True)\n",
    "\n",
    "slovenia_df"
   ]
  },
  {
   "cell_type": "code",
   "execution_count": 22,
   "id": "22e1574d-851c-46b5-a904-da138c8ac8cf",
   "metadata": {},
   "outputs": [
    {
     "data": {
      "application/vnd.plotly.v1+json": {
       "config": {
        "plotlyServerURL": "https://plot.ly"
       },
       "data": [
        {
         "coloraxis": "coloraxis",
         "customdata": [
          [
           1
          ],
          [
           3
          ],
          [
           3
          ],
          [
           3
          ],
          [
           3
          ],
          [
           3
          ],
          [
           3
          ],
          [
           3
          ],
          [
           2
          ],
          [
           2
          ],
          [
           3
          ]
         ],
         "geo": "geo",
         "hovertemplate": "date=1896<br>country_name=%{location}<br>sum_of_medals=%{z}<extra></extra>",
         "locationmode": "country names",
         "locations": [
          "Australia",
          "Austria",
          "Denmark",
          "France",
          "Germany",
          "Great Britain",
          "Greece",
          "Hungary",
          "MIX",
          "Switzerland",
          "United States of America"
         ],
         "name": "",
         "type": "choropleth",
         "z": [
          1,
          3,
          3,
          3,
          3,
          3,
          3,
          3,
          2,
          2,
          3
         ]
        }
       ],
       "frames": [
        {
         "data": [
          {
           "coloraxis": "coloraxis",
           "customdata": [
            [
             1
            ],
            [
             3
            ],
            [
             3
            ],
            [
             3
            ],
            [
             3
            ],
            [
             3
            ],
            [
             3
            ],
            [
             3
            ],
            [
             2
            ],
            [
             2
            ],
            [
             3
            ]
           ],
           "geo": "geo",
           "hovertemplate": "date=1896<br>country_name=%{location}<br>sum_of_medals=%{z}<extra></extra>",
           "locationmode": "country names",
           "locations": [
            "Australia",
            "Austria",
            "Denmark",
            "France",
            "Germany",
            "Great Britain",
            "Greece",
            "Hungary",
            "MIX",
            "Switzerland",
            "United States of America"
           ],
           "name": "",
           "type": "choropleth",
           "z": [
            1,
            3,
            3,
            3,
            3,
            3,
            3,
            3,
            2,
            2,
            3
           ]
          }
         ],
         "name": "1896"
        },
        {
         "data": [
          {
           "coloraxis": "coloraxis",
           "customdata": [
            [
             2
            ],
            [
             2
            ],
            [
             3
            ],
            [
             2
            ],
            [
             2
            ],
            [
             2
            ],
            [
             3
            ],
            [
             3
            ],
            [
             3
            ],
            [
             3
            ],
            [
             3
            ],
            [
             1
            ],
            [
             2
            ],
            [
             1
            ],
            [
             3
            ],
            [
             2
            ],
            [
             2
            ],
            [
             1
            ],
            [
             1
            ],
            [
             3
            ],
            [
             3
            ]
           ],
           "geo": "geo",
           "hovertemplate": "date=1900<br>country_name=%{location}<br>sum_of_medals=%{z}<extra></extra>",
           "locationmode": "country names",
           "locations": [
            "Australia",
            "Austria",
            "Belgium",
            "Bohemia",
            "Canada",
            "Cuba",
            "Denmark",
            "France",
            "Germany",
            "Great Britain",
            "Hungary",
            "India",
            "Italy",
            "Luxembourg",
            "MIX",
            "Netherlands",
            "Norway",
            "Spain",
            "Sweden",
            "Switzerland",
            "United States of America"
           ],
           "name": "",
           "type": "choropleth",
           "z": [
            2,
            2,
            3,
            2,
            2,
            2,
            3,
            3,
            3,
            3,
            3,
            1,
            2,
            1,
            3,
            2,
            2,
            1,
            1,
            3,
            3
           ]
          }
         ],
         "name": "1900"
        },
        {
         "data": [
          {
           "coloraxis": "coloraxis",
           "customdata": [
            [
             2
            ],
            [
             3
            ],
            [
             3
            ],
            [
             1
            ],
            [
             1
            ],
            [
             3
            ],
            [
             2
            ],
            [
             2
            ],
            [
             3
            ],
            [
             3
            ],
            [
             1
            ],
            [
             2
            ],
            [
             3
            ]
           ],
           "geo": "geo",
           "hovertemplate": "date=1904<br>country_name=%{location}<br>sum_of_medals=%{z}<extra></extra>",
           "locationmode": "country names",
           "locations": [
            "Australia",
            "Austria",
            "Canada",
            "Cuba",
            "France",
            "Germany",
            "Great Britain",
            "Greece",
            "Hungary",
            "MIX",
            "Norway",
            "Switzerland",
            "United States of America"
           ],
           "name": "",
           "type": "choropleth",
           "z": [
            2,
            3,
            3,
            1,
            1,
            3,
            2,
            2,
            3,
            3,
            1,
            2,
            3
           ]
          }
         ],
         "name": "1904"
        },
        {
         "data": [
          {
           "coloraxis": "coloraxis",
           "customdata": [
            [
             3
            ],
            [
             1
            ],
            [
             3
            ],
            [
             1
            ],
            [
             3
            ],
            [
             2
            ],
            [
             3
            ],
            [
             3
            ],
            [
             3
            ],
            [
             3
            ],
            [
             2
            ],
            [
             3
            ],
            [
             2
            ],
            [
             1
            ],
            [
             3
            ],
            [
             2
            ],
            [
             2
            ],
            [
             3
            ],
            [
             3
            ]
           ],
           "geo": "geo",
           "hovertemplate": "date=1908<br>country_name=%{location}<br>sum_of_medals=%{z}<extra></extra>",
           "locationmode": "country names",
           "locations": [
            "Australasia",
            "Austria",
            "Belgium",
            "Bohemia",
            "Canada",
            "Denmark",
            "Finland",
            "France",
            "Germany",
            "Great Britain",
            "Greece",
            "Hungary",
            "Italy",
            "Netherlands",
            "Norway",
            "Russian Federation",
            "South Africa",
            "Sweden",
            "United States of America"
           ],
           "name": "",
           "type": "choropleth",
           "z": [
            3,
            1,
            3,
            1,
            3,
            2,
            3,
            3,
            3,
            3,
            2,
            3,
            2,
            1,
            3,
            2,
            2,
            3,
            3
           ]
          }
         ],
         "name": "1908"
        },
        {
         "data": [
          {
           "coloraxis": "coloraxis",
           "customdata": [
            [
             3
            ],
            [
             2
            ],
            [
             3
            ],
            [
             3
            ],
            [
             3
            ],
            [
             3
            ],
            [
             3
            ],
            [
             3
            ],
            [
             3
            ],
            [
             2
            ],
            [
             3
            ],
            [
             3
            ],
            [
             1
            ],
            [
             3
            ],
            [
             2
            ],
            [
             2
            ],
            [
             3
            ],
            [
             3
            ]
           ],
           "geo": "geo",
           "hovertemplate": "date=1912<br>country_name=%{location}<br>sum_of_medals=%{z}<extra></extra>",
           "locationmode": "country names",
           "locations": [
            "Australasia",
            "Austria",
            "Belgium",
            "Canada",
            "Denmark",
            "Finland",
            "France",
            "Germany",
            "Great Britain",
            "Greece",
            "Hungary",
            "Italy",
            "Netherlands",
            "Norway",
            "Russian Federation",
            "South Africa",
            "Sweden",
            "United States of America"
           ],
           "name": "",
           "type": "choropleth",
           "z": [
            3,
            2,
            3,
            3,
            3,
            3,
            3,
            3,
            3,
            2,
            3,
            3,
            1,
            3,
            2,
            2,
            3,
            3
           ]
          }
         ],
         "name": "1912"
        },
        {
         "data": [
          {
           "coloraxis": "coloraxis",
           "customdata": [
            [
             2
            ],
            [
             3
            ],
            [
             3
            ],
            [
             3
            ],
            [
             1
            ],
            [
             3
            ],
            [
             2
            ],
            [
             3
            ],
            [
             3
            ],
            [
             3
            ],
            [
             1
            ],
            [
             3
            ],
            [
             1
            ],
            [
             1
            ],
            [
             3
            ],
            [
             1
            ],
            [
             3
            ],
            [
             3
            ],
            [
             1
            ],
            [
             3
            ],
            [
             3
            ],
            [
             3
            ]
           ],
           "geo": "geo",
           "hovertemplate": "date=1920<br>country_name=%{location}<br>sum_of_medals=%{z}<extra></extra>",
           "locationmode": "country names",
           "locations": [
            "Australia",
            "Belgium",
            "Brazil",
            "Canada",
            "Czechoslovakia",
            "Denmark",
            "Estonia",
            "Finland",
            "France",
            "Great Britain",
            "Greece",
            "Italy",
            "Japan",
            "Luxembourg",
            "Netherlands",
            "New Zealand",
            "Norway",
            "South Africa",
            "Spain",
            "Sweden",
            "Switzerland",
            "United States of America"
           ],
           "name": "",
           "type": "choropleth",
           "z": [
            2,
            3,
            3,
            3,
            1,
            3,
            2,
            3,
            3,
            3,
            1,
            3,
            1,
            1,
            3,
            1,
            3,
            3,
            1,
            3,
            3,
            3
           ]
          }
         ],
         "name": "1920"
        },
        {
         "data": [
          {
           "coloraxis": "coloraxis",
           "customdata": [
            [
             3
            ],
            [
             3
            ],
            [
             3
            ],
            [
             3
            ],
            [
             3
            ],
            [
             3
            ],
            [
             3
            ],
            [
             3
            ],
            [
             3
            ],
            [
             3
            ],
            [
             3
            ],
            [
             1
            ],
            [
             3
            ],
            [
             3
            ],
            [
             1
            ],
            [
             3
            ],
            [
             1
            ],
            [
             3
            ],
            [
             2
            ],
            [
             1
            ],
            [
             1
            ],
            [
             3
            ],
            [
             3
            ],
            [
             3
            ],
            [
             3
            ],
            [
             1
            ],
            [
             1
            ]
           ],
           "geo": "geo",
           "hovertemplate": "date=1924<br>country_name=%{location}<br>sum_of_medals=%{z}<extra></extra>",
           "locationmode": "country names",
           "locations": [
            "Argentina",
            "Australia",
            "Austria",
            "Belgium",
            "Canada",
            "Czechoslovakia",
            "Denmark",
            "Estonia",
            "Finland",
            "France",
            "Great Britain",
            "Haiti",
            "Hungary",
            "Italy",
            "Japan",
            "Netherlands",
            "New Zealand",
            "Norway",
            "Poland",
            "Portugal",
            "Romania",
            "South Africa",
            "Sweden",
            "Switzerland",
            "United States of America",
            "Uruguay",
            "Yugoslavia"
           ],
           "name": "",
           "type": "choropleth",
           "z": [
            3,
            3,
            3,
            3,
            3,
            3,
            3,
            3,
            3,
            3,
            3,
            1,
            3,
            3,
            1,
            3,
            1,
            3,
            2,
            1,
            1,
            3,
            3,
            3,
            3,
            1,
            1
           ]
          }
         ],
         "name": "1924"
        },
        {
         "data": [
          {
           "coloraxis": "coloraxis",
           "customdata": [
            [
             3
            ],
            [
             3
            ],
            [
             3
            ],
            [
             2
            ],
            [
             3
            ],
            [
             1
            ],
            [
             3
            ],
            [
             3
            ],
            [
             3
            ],
            [
             3
            ],
            [
             3
            ],
            [
             3
            ],
            [
             3
            ],
            [
             3
            ],
            [
             1
            ],
            [
             2
            ],
            [
             1
            ],
            [
             1
            ],
            [
             3
            ],
            [
             3
            ],
            [
             3
            ],
            [
             1
            ],
            [
             3
            ],
            [
             1
            ],
            [
             3
            ],
            [
             1
            ],
            [
             2
            ],
            [
             1
            ],
            [
             3
            ],
            [
             3
            ],
            [
             3
            ],
            [
             1
            ],
            [
             3
            ]
           ],
           "geo": "geo",
           "hovertemplate": "date=1928<br>country_name=%{location}<br>sum_of_medals=%{z}<extra></extra>",
           "locationmode": "country names",
           "locations": [
            "Argentina",
            "Australia",
            "Austria",
            "Belgium",
            "Canada",
            "Chile",
            "Czechoslovakia",
            "Denmark",
            "Egypt",
            "Estonia",
            "Finland",
            "France",
            "Germany",
            "Great Britain",
            "Haiti",
            "Hungary",
            "India",
            "Ireland",
            "Italy",
            "Japan",
            "Netherlands",
            "New Zealand",
            "Norway",
            "Philippines",
            "Poland",
            "Portugal",
            "South Africa",
            "Spain",
            "Sweden",
            "Switzerland",
            "United States of America",
            "Uruguay",
            "Yugoslavia"
           ],
           "name": "",
           "type": "choropleth",
           "z": [
            3,
            3,
            3,
            2,
            3,
            1,
            3,
            3,
            3,
            3,
            3,
            3,
            3,
            3,
            1,
            2,
            1,
            1,
            3,
            3,
            3,
            1,
            3,
            1,
            3,
            1,
            2,
            1,
            3,
            3,
            3,
            1,
            3
           ]
          }
         ],
         "name": "1928"
        },
        {
         "data": [
          {
           "coloraxis": "coloraxis",
           "customdata": [
            [
             2
            ],
            [
             3
            ],
            [
             3
            ],
            [
             3
            ],
            [
             3
            ],
            [
             2
            ],
            [
             3
            ],
            [
             3
            ],
            [
             3
            ],
            [
             3
            ],
            [
             3
            ],
            [
             1
            ],
            [
             1
            ],
            [
             3
            ],
            [
             3
            ],
            [
             1
            ],
            [
             1
            ],
            [
             2
            ],
            [
             1
            ],
            [
             3
            ],
            [
             1
            ],
            [
             3
            ],
            [
             2
            ],
            [
             1
            ],
            [
             3
            ],
            [
             1
            ],
            [
             3
            ],
            [
             1
            ]
           ],
           "geo": "geo",
           "hovertemplate": "date=1932<br>country_name=%{location}<br>sum_of_medals=%{z}<extra></extra>",
           "locationmode": "country names",
           "locations": [
            "Argentina",
            "Australia",
            "Austria",
            "Canada",
            "Czechoslovakia",
            "Denmark",
            "Finland",
            "France",
            "Germany",
            "Great Britain",
            "Hungary",
            "India",
            "Ireland",
            "Italy",
            "Japan",
            "Latvia",
            "Mexico",
            "Netherlands",
            "New Zealand",
            "Norway",
            "Philippines",
            "Poland",
            "South Africa",
            "Spain",
            "Sweden",
            "Switzerland",
            "United States of America",
            "Uruguay"
           ],
           "name": "",
           "type": "choropleth",
           "z": [
            2,
            3,
            3,
            3,
            3,
            2,
            3,
            3,
            3,
            3,
            3,
            1,
            1,
            3,
            3,
            1,
            1,
            2,
            1,
            3,
            1,
            3,
            2,
            1,
            3,
            1,
            3,
            1
           ]
          }
         ],
         "name": "1932"
        },
        {
         "data": [
          {
           "coloraxis": "coloraxis",
           "customdata": [
            [
             3
            ],
            [
             1
            ],
            [
             3
            ],
            [
             1
            ],
            [
             3
            ],
            [
             2
            ],
            [
             2
            ],
            [
             3
            ],
            [
             3
            ],
            [
             3
            ],
            [
             3
            ],
            [
             3
            ],
            [
             3
            ],
            [
             3
            ],
            [
             1
            ],
            [
             3
            ],
            [
             3
            ],
            [
             2
            ],
            [
             1
            ],
            [
             3
            ],
            [
             1
            ],
            [
             3
            ],
            [
             1
            ],
            [
             2
            ],
            [
             1
            ],
            [
             1
            ],
            [
             1
            ],
            [
             3
            ],
            [
             3
            ],
            [
             2
            ],
            [
             3
            ],
            [
             1
            ]
           ],
           "geo": "geo",
           "hovertemplate": "date=1936<br>country_name=%{location}<br>sum_of_medals=%{z}<extra></extra>",
           "locationmode": "country names",
           "locations": [
            "Argentina",
            "Australia",
            "Austria",
            "Belgium",
            "Canada",
            "Czechoslovakia",
            "Denmark",
            "Egypt",
            "Estonia",
            "Finland",
            "France",
            "Germany",
            "Great Britain",
            "Hungary",
            "India",
            "Italy",
            "Japan",
            "Latvia",
            "Mexico",
            "Netherlands",
            "New Zealand",
            "Norway",
            "Philippines",
            "Poland",
            "Portugal",
            "Romania",
            "South Africa",
            "Sweden",
            "Switzerland",
            "Turkey",
            "United States of America",
            "Yugoslavia"
           ],
           "name": "",
           "type": "choropleth",
           "z": [
            3,
            1,
            3,
            1,
            3,
            2,
            2,
            3,
            3,
            3,
            3,
            3,
            3,
            3,
            1,
            3,
            3,
            2,
            1,
            3,
            1,
            3,
            1,
            2,
            1,
            1,
            1,
            3,
            3,
            2,
            3,
            1
           ]
          }
         ],
         "name": "1936"
        },
        {
         "data": [
          {
           "coloraxis": "coloraxis",
           "customdata": [
            [
             3
            ],
            [
             3
            ],
            [
             3
            ],
            [
             3
            ],
            [
             1
            ],
            [
             3
            ],
            [
             1
            ],
            [
             3
            ],
            [
             3
            ],
            [
             3
            ],
            [
             3
            ],
            [
             3
            ],
            [
             3
            ],
            [
             3
            ],
            [
             1
            ],
            [
             1
            ],
            [
             3
            ],
            [
             2
            ],
            [
             3
            ],
            [
             3
            ],
            [
             3
            ],
            [
             1
            ],
            [
             1
            ],
            [
             1
            ],
            [
             2
            ],
            [
             1
            ],
            [
             1
            ],
            [
             3
            ],
            [
             1
            ],
            [
             1
            ],
            [
             3
            ],
            [
             3
            ],
            [
             1
            ],
            [
             3
            ],
            [
             3
            ],
            [
             2
            ],
            [
             1
            ]
           ],
           "geo": "geo",
           "hovertemplate": "date=1948<br>country_name=%{location}<br>sum_of_medals=%{z}<extra></extra>",
           "locationmode": "country names",
           "locations": [
            "Argentina",
            "Australia",
            "Austria",
            "Belgium",
            "Brazil",
            "Canada",
            "Cuba",
            "Czechoslovakia",
            "Denmark",
            "Egypt",
            "Finland",
            "France",
            "Great Britain",
            "Hungary",
            "India",
            "Islamic Republic of Iran",
            "Italy",
            "Jamaica",
            "Mexico",
            "Netherlands",
            "Norway",
            "Panama",
            "Peru",
            "Poland",
            "Portugal",
            "Puerto Rico",
            "Republic of Korea",
            "South Africa",
            "Spain",
            "Sri Lanka",
            "Sweden",
            "Switzerland",
            "Trinidad and Tobago",
            "Turkey",
            "United States of America",
            "Uruguay",
            "Yugoslavia"
           ],
           "name": "",
           "type": "choropleth",
           "z": [
            3,
            3,
            3,
            3,
            1,
            3,
            1,
            3,
            3,
            3,
            3,
            3,
            3,
            3,
            1,
            1,
            3,
            2,
            3,
            3,
            3,
            1,
            1,
            1,
            2,
            1,
            1,
            3,
            1,
            1,
            3,
            3,
            1,
            3,
            3,
            2,
            1
           ]
          }
         ],
         "name": "1948"
        },
        {
         "data": [
          {
           "coloraxis": "coloraxis",
           "customdata": [
            [
             3
            ],
            [
             3
            ],
            [
             3
            ],
            [
             2
            ],
            [
             2
            ],
            [
             1
            ],
            [
             3
            ],
            [
             1
            ],
            [
             3
            ],
            [
             3
            ],
            [
             1
            ],
            [
             3
            ],
            [
             3
            ],
            [
             3
            ],
            [
             3
            ],
            [
             3
            ],
            [
             2
            ],
            [
             1
            ],
            [
             2
            ],
            [
             3
            ],
            [
             2
            ],
            [
             3
            ],
            [
             2
            ],
            [
             1
            ],
            [
             1
            ],
            [
             1
            ],
            [
             2
            ],
            [
             3
            ],
            [
             3
            ],
            [
             1
            ],
            [
             1
            ],
            [
             3
            ],
            [
             3
            ],
            [
             3
            ],
            [
             1
            ],
            [
             3
            ],
            [
             3
            ],
            [
             1
            ],
            [
             2
            ],
            [
             3
            ],
            [
             1
            ],
            [
             1
            ],
            [
             2
            ]
           ],
           "geo": "geo",
           "hovertemplate": "date=1952<br>country_name=%{location}<br>sum_of_medals=%{z}<extra></extra>",
           "locationmode": "country names",
           "locations": [
            "Argentina",
            "Australia",
            "Austria",
            "Belgium",
            "Brazil",
            "Bulgaria",
            "Canada",
            "Chile",
            "Czechoslovakia",
            "Denmark",
            "Egypt",
            "Finland",
            "France",
            "Germany",
            "Great Britain",
            "Hungary",
            "India",
            "Ireland",
            "Islamic Republic of Iran",
            "Italy",
            "Jamaica",
            "Japan",
            "Lebanon",
            "Luxembourg",
            "Mexico",
            "Netherlands",
            "New Zealand",
            "Norway",
            "Poland",
            "Portugal",
            "Republic of Korea",
            "Romania",
            "South Africa",
            "Soviet Union",
            "Spain",
            "Sweden",
            "Switzerland",
            "Trinidad and Tobago",
            "Turkey",
            "United States of America",
            "Uruguay",
            "Venezuela",
            "Yugoslavia"
           ],
           "name": "",
           "type": "choropleth",
           "z": [
            3,
            3,
            3,
            2,
            2,
            1,
            3,
            1,
            3,
            3,
            1,
            3,
            3,
            3,
            3,
            3,
            2,
            1,
            2,
            3,
            2,
            3,
            2,
            1,
            1,
            1,
            2,
            3,
            3,
            1,
            1,
            3,
            3,
            3,
            1,
            3,
            3,
            1,
            2,
            3,
            1,
            1,
            2
           ]
          }
         ],
         "name": "1952"
        },
        {
         "data": [
          {
           "coloraxis": "coloraxis",
           "customdata": [
            [
             2
            ],
            [
             3
            ],
            [
             3
            ],
            [
             1
            ],
            [
             1
            ],
            [
             1
            ],
            [
             3
            ],
            [
             3
            ],
            [
             2
            ],
            [
             3
            ],
            [
             3
            ],
            [
             3
            ],
            [
             3
            ],
            [
             3
            ],
            [
             3
            ],
            [
             1
            ],
            [
             3
            ],
            [
             1
            ],
            [
             1
            ],
            [
             3
            ],
            [
             3
            ],
            [
             3
            ],
            [
             3
            ],
            [
             2
            ],
            [
             1
            ],
            [
             3
            ],
            [
             1
            ],
            [
             3
            ],
            [
             2
            ],
            [
             3
            ],
            [
             1
            ],
            [
             3
            ],
            [
             3
            ],
            [
             3
            ],
            [
             3
            ],
            [
             3
            ],
            [
             1
            ],
            [
             1
            ]
           ],
           "geo": "geo",
           "hovertemplate": "date=1956<br>country_name=%{location}<br>sum_of_medals=%{z}<extra></extra>",
           "locationmode": "country names",
           "locations": [
            "Argentina",
            "Australia",
            "Austria",
            "Bahamas",
            "Belgium",
            "Brazil",
            "Bulgaria",
            "Canada",
            "Chile",
            "Czechoslovakia",
            "Denmark",
            "Finland",
            "France",
            "Germany",
            "Great Britain",
            "Greece",
            "Hungary",
            "Iceland",
            "India",
            "Ireland",
            "Islamic Republic of Iran",
            "Italy",
            "Japan",
            "Mexico",
            "New Zealand",
            "Norway",
            "Pakistan",
            "Poland",
            "Republic of Korea",
            "Romania",
            "South Africa",
            "Soviet Union",
            "Sweden",
            "Switzerland",
            "Turkey",
            "United States of America",
            "Uruguay",
            "Yugoslavia"
           ],
           "name": "",
           "type": "choropleth",
           "z": [
            2,
            3,
            3,
            1,
            1,
            1,
            3,
            3,
            2,
            3,
            3,
            3,
            3,
            3,
            3,
            1,
            3,
            1,
            1,
            3,
            3,
            3,
            3,
            2,
            1,
            3,
            1,
            3,
            2,
            3,
            1,
            3,
            3,
            3,
            3,
            3,
            1,
            1
           ]
          }
         ],
         "name": "1956"
        },
        {
         "data": [
          {
           "coloraxis": "coloraxis",
           "customdata": [
            [
             2
            ],
            [
             3
            ],
            [
             3
            ],
            [
             2
            ],
            [
             1
            ],
            [
             3
            ],
            [
             3
            ],
            [
             1
            ],
            [
             3
            ],
            [
             3
            ],
            [
             1
            ],
            [
             3
            ],
            [
             3
            ],
            [
             3
            ],
            [
             1
            ],
            [
             3
            ],
            [
             1
            ],
            [
             3
            ],
            [
             1
            ],
            [
             1
            ],
            [
             2
            ],
            [
             3
            ],
            [
             3
            ],
            [
             1
            ],
            [
             1
            ],
            [
             2
            ],
            [
             2
            ],
            [
             2
            ],
            [
             2
            ],
            [
             3
            ],
            [
             1
            ],
            [
             3
            ],
            [
             1
            ],
            [
             2
            ],
            [
             3
            ],
            [
             1
            ],
            [
             3
            ],
            [
             3
            ],
            [
             2
            ],
            [
             2
            ],
            [
             3
            ],
            [
             1
            ],
            [
             1
            ],
            [
             2
            ]
           ],
           "geo": "geo",
           "hovertemplate": "date=1960<br>country_name=%{location}<br>sum_of_medals=%{z}<extra></extra>",
           "locationmode": "country names",
           "locations": [
            "Argentina",
            "Australia",
            "Austria",
            "Belgium",
            "Brazil",
            "Bulgaria",
            "Canada",
            "Chinese Taipei",
            "Czechoslovakia",
            "Denmark",
            "Ethiopia",
            "Finland",
            "France",
            "Germany",
            "Ghana",
            "Great Britain",
            "Greece",
            "Hungary",
            "India",
            "Iraq",
            "Islamic Republic of Iran",
            "Italy",
            "Japan",
            "Mexico",
            "Morocco",
            "Netherlands",
            "New Zealand",
            "Norway",
            "Pakistan",
            "Poland",
            "Portugal",
            "Romania",
            "Singapore",
            "South Africa",
            "Soviet Union",
            "Spain",
            "Sweden",
            "Switzerland",
            "Turkey",
            "United Arab Republic",
            "United States of America",
            "Venezuela",
            "West Indies Federation",
            "Yugoslavia"
           ],
           "name": "",
           "type": "choropleth",
           "z": [
            2,
            3,
            3,
            2,
            1,
            3,
            3,
            1,
            3,
            3,
            1,
            3,
            3,
            3,
            1,
            3,
            1,
            3,
            1,
            1,
            2,
            3,
            3,
            1,
            1,
            2,
            2,
            2,
            2,
            3,
            1,
            3,
            1,
            2,
            3,
            1,
            3,
            3,
            2,
            2,
            3,
            1,
            1,
            2
           ]
          }
         ],
         "name": "1960"
        },
        {
         "data": [
          {
           "coloraxis": "coloraxis",
           "customdata": [
            [
             1
            ],
            [
             3
            ],
            [
             3
            ],
            [
             1
            ],
            [
             2
            ],
            [
             1
            ],
            [
             3
            ],
            [
             3
            ],
            [
             1
            ],
            [
             3
            ],
            [
             1
            ],
            [
             3
            ],
            [
             1
            ],
            [
             3
            ],
            [
             3
            ],
            [
             3
            ],
            [
             1
            ],
            [
             3
            ],
            [
             3
            ],
            [
             1
            ],
            [
             1
            ],
            [
             1
            ],
            [
             3
            ],
            [
             3
            ],
            [
             1
            ],
            [
             1
            ],
            [
             3
            ],
            [
             2
            ],
            [
             1
            ],
            [
             3
            ],
            [
             1
            ],
            [
             1
            ],
            [
             3
            ],
            [
             2
            ],
            [
             3
            ],
            [
             3
            ],
            [
             3
            ],
            [
             3
            ],
            [
             2
            ],
            [
             2
            ],
            [
             3
            ],
            [
             3
            ],
            [
             1
            ],
            [
             3
            ]
           ],
           "geo": "geo",
           "hovertemplate": "date=1964<br>country_name=%{location}<br>sum_of_medals=%{z}<extra></extra>",
           "locationmode": "country names",
           "locations": [
            "Argentina",
            "Australia",
            "Austria",
            "Bahamas",
            "Belgium",
            "Brazil",
            "Bulgaria",
            "Canada",
            "Cuba",
            "Czechoslovakia",
            "Democratic People's Republic of Korea",
            "Denmark",
            "Ethiopia",
            "Finland",
            "France",
            "Germany",
            "Ghana",
            "Great Britain",
            "Hungary",
            "India",
            "Ireland",
            "Islamic Republic of Iran",
            "Italy",
            "Japan",
            "Kenya",
            "Mexico",
            "Netherlands",
            "New Zealand",
            "Nigeria",
            "Norway",
            "Pakistan",
            "Philippines",
            "Poland",
            "Republic of Korea",
            "Romania",
            "Soviet Union",
            "Sweden",
            "Switzerland",
            "Trinidad and Tobago",
            "Tunisia",
            "Turkey",
            "United States of America",
            "Uruguay",
            "Yugoslavia"
           ],
           "name": "",
           "type": "choropleth",
           "z": [
            1,
            3,
            3,
            1,
            2,
            1,
            3,
            3,
            1,
            3,
            1,
            3,
            1,
            3,
            3,
            3,
            1,
            3,
            3,
            1,
            1,
            1,
            3,
            3,
            1,
            1,
            3,
            2,
            1,
            3,
            1,
            1,
            3,
            2,
            3,
            3,
            3,
            3,
            2,
            2,
            3,
            3,
            1,
            3
           ]
          }
         ],
         "name": "1964"
        },
        {
         "data": [
          {
           "coloraxis": "coloraxis",
           "customdata": [
            [
             1
            ],
            [
             3
            ],
            [
             3
            ],
            [
             2
            ],
            [
             2
            ],
            [
             3
            ],
            [
             1
            ],
            [
             3
            ],
            [
             1
            ],
            [
             1
            ],
            [
             3
            ],
            [
             3
            ],
            [
             2
            ],
            [
             3
            ],
            [
             3
            ],
            [
             3
            ],
            [
             3
            ],
            [
             3
            ],
            [
             1
            ],
            [
             3
            ],
            [
             1
            ],
            [
             3
            ],
            [
             3
            ],
            [
             1
            ],
            [
             3
            ],
            [
             3
            ],
            [
             3
            ],
            [
             2
            ],
            [
             3
            ],
            [
             2
            ],
            [
             3
            ],
            [
             1
            ],
            [
             3
            ],
            [
             2
            ],
            [
             3
            ],
            [
             3
            ],
            [
             3
            ],
            [
             2
            ],
            [
             2
            ],
            [
             1
            ],
            [
             2
            ],
            [
             3
            ],
            [
             1
            ],
            [
             3
            ]
           ],
           "geo": "geo",
           "hovertemplate": "date=1968<br>country_name=%{location}<br>sum_of_medals=%{z}<extra></extra>",
           "locationmode": "country names",
           "locations": [
            "Argentina",
            "Australia",
            "Austria",
            "Belgium",
            "Brazil",
            "Bulgaria",
            "Cameroon",
            "Canada",
            "Chinese Taipei",
            "Cuba",
            "Czechoslovakia",
            "Denmark",
            "Ethiopia",
            "Federal Republic of Germany",
            "Finland",
            "France",
            "German Democratic Republic (Germany)",
            "Great Britain",
            "Greece",
            "Hungary",
            "India",
            "Islamic Republic of Iran",
            "Italy",
            "Jamaica",
            "Japan",
            "Kenya",
            "Mexico",
            "Mongolia",
            "Netherlands",
            "New Zealand",
            "Norway",
            "Pakistan",
            "Poland",
            "Republic of Korea",
            "Romania",
            "Soviet Union",
            "Sweden",
            "Switzerland",
            "Tunisia",
            "Turkey",
            "Uganda",
            "United States of America",
            "Venezuela",
            "Yugoslavia"
           ],
           "name": "",
           "type": "choropleth",
           "z": [
            1,
            3,
            3,
            2,
            2,
            3,
            1,
            3,
            1,
            1,
            3,
            3,
            2,
            3,
            3,
            3,
            3,
            3,
            1,
            3,
            1,
            3,
            3,
            1,
            3,
            3,
            3,
            2,
            3,
            2,
            3,
            1,
            3,
            2,
            3,
            3,
            3,
            2,
            2,
            1,
            2,
            3,
            1,
            3
           ]
          }
         ],
         "name": "1968"
        },
        {
         "data": [
          {
           "coloraxis": "coloraxis",
           "customdata": [
            [
             1
            ],
            [
             3
            ],
            [
             3
            ],
            [
             1
            ],
            [
             1
            ],
            [
             3
            ],
            [
             2
            ],
            [
             2
            ],
            [
             3
            ],
            [
             3
            ],
            [
             3
            ],
            [
             1
            ],
            [
             1
            ],
            [
             3
            ],
            [
             3
            ],
            [
             3
            ],
            [
             3
            ],
            [
             1
            ],
            [
             3
            ],
            [
             1
            ],
            [
             3
            ],
            [
             1
            ],
            [
             2
            ],
            [
             3
            ],
            [
             1
            ],
            [
             3
            ],
            [
             3
            ],
            [
             1
            ],
            [
             1
            ],
            [
             1
            ],
            [
             3
            ],
            [
             3
            ],
            [
             1
            ],
            [
             1
            ],
            [
             3
            ],
            [
             1
            ],
            [
             3
            ],
            [
             1
            ],
            [
             3
            ],
            [
             3
            ],
            [
             2
            ],
            [
             3
            ],
            [
             3
            ],
            [
             1
            ],
            [
             1
            ],
            [
             2
            ],
            [
             3
            ],
            [
             3
            ]
           ],
           "geo": "geo",
           "hovertemplate": "date=1972<br>country_name=%{location}<br>sum_of_medals=%{z}<extra></extra>",
           "locationmode": "country names",
           "locations": [
            "Argentina",
            "Australia",
            "Austria",
            "Belgium",
            "Brazil",
            "Bulgaria",
            "Canada",
            "Colombia",
            "Cuba",
            "Czechoslovakia",
            "Democratic People's Republic of Korea",
            "Denmark",
            "Ethiopia",
            "Federal Republic of Germany",
            "Finland",
            "France",
            "German Democratic Republic (Germany)",
            "Ghana",
            "Great Britain",
            "Greece",
            "Hungary",
            "India",
            "Islamic Republic of Iran",
            "Italy",
            "Jamaica",
            "Japan",
            "Kenya",
            "Lebanon",
            "Mexico",
            "Mongolia",
            "Netherlands",
            "New Zealand",
            "Niger",
            "Nigeria",
            "Norway",
            "Pakistan",
            "Poland",
            "Republic of Korea",
            "Romania",
            "Soviet Union",
            "Spain",
            "Sweden",
            "Switzerland",
            "Tunisia",
            "Turkey",
            "Uganda",
            "United States of America",
            "Yugoslavia"
           ],
           "name": "",
           "type": "choropleth",
           "z": [
            1,
            3,
            3,
            1,
            1,
            3,
            2,
            2,
            3,
            3,
            3,
            1,
            1,
            3,
            3,
            3,
            3,
            1,
            3,
            1,
            3,
            1,
            2,
            3,
            1,
            3,
            3,
            1,
            1,
            1,
            3,
            3,
            1,
            1,
            3,
            1,
            3,
            1,
            3,
            3,
            2,
            3,
            3,
            1,
            1,
            2,
            3,
            3
           ]
          }
         ],
         "name": "1972"
        },
        {
         "data": [
          {
           "coloraxis": "coloraxis",
           "customdata": [
            [
             2
            ],
            [
             3
            ],
            [
             2
            ],
            [
             1
            ],
            [
             1
            ],
            [
             3
            ],
            [
             3
            ],
            [
             3
            ],
            [
             3
            ],
            [
             2
            ],
            [
             2
            ],
            [
             3
            ],
            [
             3
            ],
            [
             3
            ],
            [
             3
            ],
            [
             3
            ],
            [
             3
            ],
            [
             2
            ],
            [
             3
            ],
            [
             2
            ],
            [
             3
            ],
            [
             1
            ],
            [
             2
            ],
            [
             1
            ],
            [
             3
            ],
            [
             3
            ],
            [
             3
            ],
            [
             1
            ],
            [
             3
            ],
            [
             1
            ],
            [
             1
            ],
            [
             3
            ],
            [
             3
            ],
            [
             3
            ],
            [
             1
            ],
            [
             3
            ],
            [
             3
            ],
            [
             1
            ],
            [
             1
            ],
            [
             3
            ],
            [
             1
            ],
            [
             3
            ]
           ],
           "geo": "geo",
           "hovertemplate": "date=1976<br>country_name=%{location}<br>sum_of_medals=%{z}<extra></extra>",
           "locationmode": "country names",
           "locations": [
            "Australia",
            "Austria",
            "Belgium",
            "Bermuda",
            "Brazil",
            "Bulgaria",
            "Canada",
            "Cuba",
            "Czechoslovakia",
            "Democratic People's Republic of Korea",
            "Denmark",
            "Federal Republic of Germany",
            "Finland",
            "France",
            "German Democratic Republic (Germany)",
            "Great Britain",
            "Hungary",
            "Islamic Republic of Iran",
            "Italy",
            "Jamaica",
            "Japan",
            "Liechtenstein",
            "Mexico",
            "Mongolia",
            "Netherlands",
            "New Zealand",
            "Norway",
            "Pakistan",
            "Poland",
            "Portugal",
            "Puerto Rico",
            "Republic of Korea",
            "Romania",
            "Soviet Union",
            "Spain",
            "Sweden",
            "Switzerland",
            "Thailand",
            "Trinidad and Tobago",
            "United States of America",
            "Venezuela",
            "Yugoslavia"
           ],
           "name": "",
           "type": "choropleth",
           "z": [
            2,
            3,
            2,
            1,
            1,
            3,
            3,
            3,
            3,
            2,
            2,
            3,
            3,
            3,
            3,
            3,
            3,
            2,
            3,
            2,
            3,
            1,
            2,
            1,
            3,
            3,
            3,
            1,
            3,
            1,
            1,
            3,
            3,
            3,
            1,
            3,
            3,
            1,
            1,
            3,
            1,
            3
           ]
          }
         ],
         "name": "1976"
        },
        {
         "data": [
          {
           "coloraxis": "coloraxis",
           "customdata": [
            [
             3
            ],
            [
             3
            ],
            [
             1
            ],
            [
             2
            ],
            [
             3
            ],
            [
             2
            ],
            [
             3
            ],
            [
             3
            ],
            [
             2
            ],
            [
             3
            ],
            [
             2
            ],
            [
             2
            ],
            [
             3
            ],
            [
             3
            ],
            [
             3
            ],
            [
             3
            ],
            [
             2
            ],
            [
             1
            ],
            [
             3
            ],
            [
             1
            ],
            [
             2
            ],
            [
             3
            ],
            [
             1
            ],
            [
             1
            ],
            [
             1
            ],
            [
             2
            ],
            [
             2
            ],
            [
             2
            ],
            [
             3
            ],
            [
             3
            ],
            [
             3
            ],
            [
             3
            ],
            [
             3
            ],
            [
             3
            ],
            [
             3
            ],
            [
             3
            ],
            [
             1
            ],
            [
             1
            ],
            [
             3
            ],
            [
             1
            ],
            [
             3
            ],
            [
             1
            ]
           ],
           "geo": "geo",
           "hovertemplate": "date=1980<br>country_name=%{location}<br>sum_of_medals=%{z}<extra></extra>",
           "locationmode": "country names",
           "locations": [
            "Australia",
            "Austria",
            "Belgium",
            "Brazil",
            "Bulgaria",
            "Canada",
            "Cuba",
            "Czechoslovakia",
            "Democratic People's Republic of Korea",
            "Denmark",
            "Ethiopia",
            "Federal Republic of Germany",
            "Finland",
            "France",
            "German Democratic Republic (Germany)",
            "Great Britain",
            "Greece",
            "Guyana",
            "Hungary",
            "India",
            "Ireland",
            "Italy",
            "Jamaica",
            "Japan",
            "Lebanon",
            "Liechtenstein",
            "Mexico",
            "Mongolia",
            "Netherlands",
            "Norway",
            "Poland",
            "Romania",
            "Soviet Union",
            "Spain",
            "Sweden",
            "Switzerland",
            "Uganda",
            "United Republic of Tanzania",
            "United States of America",
            "Venezuela",
            "Yugoslavia",
            "Zimbabwe"
           ],
           "name": "",
           "type": "choropleth",
           "z": [
            3,
            3,
            1,
            2,
            3,
            2,
            3,
            3,
            2,
            3,
            2,
            2,
            3,
            3,
            3,
            3,
            2,
            1,
            3,
            1,
            2,
            3,
            1,
            1,
            1,
            2,
            2,
            2,
            3,
            3,
            3,
            3,
            3,
            3,
            3,
            3,
            1,
            1,
            3,
            1,
            3,
            1
           ]
          }
         ],
         "name": "1980"
        },
        {
         "data": [
          {
           "coloraxis": "coloraxis",
           "customdata": [
            [
             1
            ],
            [
             3
            ],
            [
             3
            ],
            [
             3
            ],
            [
             3
            ],
            [
             1
            ],
            [
             3
            ],
            [
             1
            ],
            [
             1
            ],
            [
             2
            ],
            [
             2
            ],
            [
             1
            ],
            [
             1
            ],
            [
             3
            ],
            [
             3
            ],
            [
             3
            ],
            [
             3
            ],
            [
             3
            ],
            [
             2
            ],
            [
             1
            ],
            [
             1
            ],
            [
             3
            ],
            [
             1
            ],
            [
             2
            ],
            [
             3
            ],
            [
             2
            ],
            [
             1
            ],
            [
             3
            ],
            [
             1
            ],
            [
             3
            ],
            [
             3
            ],
            [
             2
            ],
            [
             3
            ],
            [
             1
            ],
            [
             3
            ],
            [
             1
            ],
            [
             2
            ],
            [
             2
            ],
            [
             3
            ],
            [
             3
            ],
            [
             3
            ],
            [
             3
            ],
            [
             3
            ],
            [
             3
            ],
            [
             1
            ],
            [
             1
            ],
            [
             1
            ],
            [
             3
            ],
            [
             1
            ],
            [
             3
            ],
            [
             1
            ]
           ],
           "geo": "geo",
           "hovertemplate": "date=1984<br>country_name=%{location}<br>sum_of_medals=%{z}<extra></extra>",
           "locationmode": "country names",
           "locations": [
            "Algeria",
            "Australia",
            "Austria",
            "Belgium",
            "Brazil",
            "Cameroon",
            "Canada",
            "Chinese Taipei",
            "Colombia",
            "Czechoslovakia",
            "Denmark",
            "Dominican Republic",
            "Egypt",
            "Federal Republic of Germany",
            "Finland",
            "France",
            "German Democratic Republic (Germany)",
            "Great Britain",
            "Greece",
            "Iceland",
            "Ireland",
            "Italy",
            "Ivory Coast",
            "Jamaica",
            "Japan",
            "Kenya",
            "Liechtenstein",
            "Mexico",
            "Morocco",
            "Netherlands",
            "New Zealand",
            "Nigeria",
            "Norway",
            "Pakistan",
            "People's Republic of China",
            "Peru",
            "Portugal",
            "Puerto Rico",
            "Republic of Korea",
            "Romania",
            "Soviet Union",
            "Spain",
            "Sweden",
            "Switzerland",
            "Syrian Arab Republic",
            "Thailand",
            "Turkey",
            "United States of America",
            "Venezuela",
            "Yugoslavia",
            "Zambia"
           ],
           "name": "",
           "type": "choropleth",
           "z": [
            1,
            3,
            3,
            3,
            3,
            1,
            3,
            1,
            1,
            2,
            2,
            1,
            1,
            3,
            3,
            3,
            3,
            3,
            2,
            1,
            1,
            3,
            1,
            2,
            3,
            2,
            1,
            3,
            1,
            3,
            3,
            2,
            3,
            1,
            3,
            1,
            2,
            2,
            3,
            3,
            3,
            3,
            3,
            3,
            1,
            1,
            1,
            3,
            1,
            3,
            1
           ]
          }
         ],
         "name": "1984"
        },
        {
         "data": [
          {
           "coloraxis": "coloraxis",
           "customdata": [
            [
             2
            ],
            [
             3
            ],
            [
             3
            ],
            [
             1
            ],
            [
             3
            ],
            [
             3
            ],
            [
             3
            ],
            [
             1
            ],
            [
             1
            ],
            [
             1
            ],
            [
             3
            ],
            [
             3
            ],
            [
             1
            ],
            [
             3
            ],
            [
             3
            ],
            [
             3
            ],
            [
             3
            ],
            [
             3
            ],
            [
             1
            ],
            [
             3
            ],
            [
             1
            ],
            [
             1
            ],
            [
             3
            ],
            [
             1
            ],
            [
             3
            ],
            [
             3
            ],
            [
             1
            ],
            [
             1
            ],
            [
             1
            ],
            [
             2
            ],
            [
             3
            ],
            [
             1
            ],
            [
             3
            ],
            [
             3
            ],
            [
             1
            ],
            [
             3
            ],
            [
             1
            ],
            [
             1
            ],
            [
             3
            ],
            [
             1
            ],
            [
             3
            ],
            [
             3
            ],
            [
             1
            ],
            [
             3
            ],
            [
             3
            ],
            [
             1
            ],
            [
             3
            ],
            [
             3
            ],
            [
             1
            ],
            [
             2
            ],
            [
             1
            ],
            [
             3
            ],
            [
             3
            ]
           ],
           "geo": "geo",
           "hovertemplate": "date=1988<br>country_name=%{location}<br>sum_of_medals=%{z}<extra></extra>",
           "locationmode": "country names",
           "locations": [
            "Argentina",
            "Australia",
            "Austria",
            "Belgium",
            "Brazil",
            "Bulgaria",
            "Canada",
            "Chile",
            "Colombia",
            "Costa Rica",
            "Czechoslovakia",
            "Denmark",
            "Djibouti",
            "Federal Republic of Germany",
            "Finland",
            "France",
            "German Democratic Republic (Germany)",
            "Great Britain",
            "Greece",
            "Hungary",
            "Indonesia",
            "Islamic Republic of Iran",
            "Italy",
            "Jamaica",
            "Japan",
            "Kenya",
            "Liechtenstein",
            "Mexico",
            "Mongolia",
            "Morocco",
            "Netherlands",
            "Netherlands Antilles",
            "New Zealand",
            "Norway",
            "Pakistan",
            "People's Republic of China",
            "Peru",
            "Philippines",
            "Poland",
            "Portugal",
            "Republic of Korea",
            "Romania",
            "Senegal",
            "Soviet Union",
            "Spain",
            "Suriname",
            "Sweden",
            "Switzerland",
            "Thailand",
            "Turkey",
            "US Virgin Islands",
            "United States of America",
            "Yugoslavia"
           ],
           "name": "",
           "type": "choropleth",
           "z": [
            2,
            3,
            3,
            1,
            3,
            3,
            3,
            1,
            1,
            1,
            3,
            3,
            1,
            3,
            3,
            3,
            3,
            3,
            1,
            3,
            1,
            1,
            3,
            1,
            3,
            3,
            1,
            1,
            1,
            2,
            3,
            1,
            3,
            3,
            1,
            3,
            1,
            1,
            3,
            1,
            3,
            3,
            1,
            3,
            3,
            1,
            3,
            3,
            1,
            2,
            1,
            3,
            3
           ]
          }
         ],
         "name": "1988"
        },
        {
         "data": [
          {
           "coloraxis": "coloraxis",
           "customdata": [
            [
             2
            ],
            [
             1
            ],
            [
             3
            ],
            [
             3
            ],
            [
             1
            ],
            [
             2
            ],
            [
             2
            ],
            [
             3
            ],
            [
             3
            ],
            [
             1
            ],
            [
             1
            ],
            [
             2
            ],
            [
             3
            ],
            [
             3
            ],
            [
             2
            ],
            [
             3
            ],
            [
             2
            ],
            [
             2
            ],
            [
             3
            ],
            [
             3
            ],
            [
             3
            ],
            [
             1
            ],
            [
             3
            ],
            [
             1
            ],
            [
             3
            ],
            [
             2
            ],
            [
             3
            ],
            [
             2
            ],
            [
             2
            ],
            [
             2
            ],
            [
             3
            ],
            [
             2
            ],
            [
             3
            ],
            [
             3
            ],
            [
             2
            ],
            [
             2
            ],
            [
             1
            ],
            [
             1
            ],
            [
             1
            ],
            [
             1
            ],
            [
             3
            ],
            [
             1
            ],
            [
             3
            ],
            [
             3
            ],
            [
             2
            ],
            [
             3
            ],
            [
             1
            ],
            [
             3
            ],
            [
             1
            ],
            [
             1
            ],
            [
             3
            ],
            [
             1
            ],
            [
             1
            ],
            [
             3
            ],
            [
             3
            ],
            [
             1
            ],
            [
             1
            ],
            [
             3
            ],
            [
             1
            ],
            [
             3
            ],
            [
             2
            ],
            [
             1
            ],
            [
             3
            ],
            [
             3
            ],
            [
             3
            ]
           ],
           "geo": "geo",
           "hovertemplate": "date=1992<br>country_name=%{location}<br>sum_of_medals=%{z}<extra></extra>",
           "locationmode": "country names",
           "locations": [
            "Algeria",
            "Argentina",
            "Australia",
            "Austria",
            "Bahamas",
            "Belgium",
            "Brazil",
            "Bulgaria",
            "Canada",
            "Chinese Taipei",
            "Colombia",
            "Croatia",
            "Cuba",
            "Czechoslovakia",
            "Democratic People's Republic of Korea",
            "Denmark",
            "Estonia",
            "Ethiopia",
            "Finland",
            "France",
            "Germany",
            "Ghana",
            "Great Britain",
            "Greece",
            "Hungary",
            "Independent Olympic Athletes",
            "Indonesia",
            "Ireland",
            "Islamic Republic of Iran",
            "Israel",
            "Italy",
            "Jamaica",
            "Japan",
            "Kenya",
            "Latvia",
            "Lithuania",
            "Luxembourg",
            "Malaysia",
            "Mexico",
            "Mongolia",
            "Morocco",
            "Namibia",
            "Netherlands",
            "New Zealand",
            "Nigeria",
            "Norway",
            "Pakistan",
            "People's Republic of China",
            "Peru",
            "Philippines",
            "Poland",
            "Puerto Rico",
            "Qatar",
            "Republic of Korea",
            "Romania",
            "Slovenia",
            "South Africa",
            "Spain",
            "Suriname",
            "Sweden",
            "Switzerland",
            "Thailand",
            "Turkey",
            "Unified Team",
            "United States of America"
           ],
           "name": "",
           "type": "choropleth",
           "z": [
            2,
            1,
            3,
            3,
            1,
            2,
            2,
            3,
            3,
            1,
            1,
            2,
            3,
            3,
            2,
            3,
            2,
            2,
            3,
            3,
            3,
            1,
            3,
            1,
            3,
            2,
            3,
            2,
            2,
            2,
            3,
            2,
            3,
            3,
            2,
            2,
            1,
            1,
            1,
            1,
            3,
            1,
            3,
            3,
            2,
            3,
            1,
            3,
            1,
            1,
            3,
            1,
            1,
            3,
            3,
            1,
            1,
            3,
            1,
            3,
            2,
            1,
            3,
            3,
            3
           ]
          }
         ],
         "name": "1992"
        },
        {
         "data": [
          {
           "coloraxis": "coloraxis",
           "customdata": [
            [
             1
            ],
            [
             3
            ],
            [
             1
            ],
            [
             3
            ],
            [
             2
            ],
            [
             2
            ],
            [
             3
            ],
            [
             1
            ],
            [
             3
            ],
            [
             3
            ],
            [
             2
            ],
            [
             2
            ],
            [
             3
            ],
            [
             2
            ],
            [
             3
            ],
            [
             3
            ],
            [
             1
            ],
            [
             2
            ],
            [
             3
            ],
            [
             2
            ],
            [
             3
            ],
            [
             1
            ]
           ],
           "geo": "geo",
           "hovertemplate": "date=1994<br>country_name=%{location}<br>sum_of_medals=%{z}<extra></extra>",
           "locationmode": "country names",
           "locations": [
            "Australia",
            "Austria",
            "Belarus",
            "Canada",
            "Finland",
            "France",
            "Germany",
            "Great Britain",
            "Italy",
            "Japan",
            "Kazakhstan",
            "Netherlands",
            "Norway",
            "People's Republic of China",
            "Republic of Korea",
            "Russian Federation",
            "Slovenia",
            "Sweden",
            "Switzerland",
            "Ukraine",
            "United States of America",
            "Uzbekistan"
           ],
           "name": "",
           "type": "choropleth",
           "z": [
            1,
            3,
            1,
            3,
            2,
            2,
            3,
            1,
            3,
            3,
            2,
            2,
            3,
            2,
            3,
            3,
            1,
            2,
            3,
            2,
            3,
            1
           ]
          }
         ],
         "name": "1994"
        },
        {
         "data": [
          {
           "coloraxis": "coloraxis",
           "customdata": [
            [
             2
            ],
            [
             2
            ],
            [
             2
            ],
            [
             3
            ],
            [
             2
            ],
            [
             1
            ],
            [
             1
            ],
            [
             3
            ],
            [
             3
            ],
            [
             3
            ],
            [
             3
            ],
            [
             1
            ],
            [
             3
            ],
            [
             1
            ],
            [
             1
            ],
            [
             2
            ],
            [
             3
            ],
            [
             3
            ],
            [
             3
            ],
            [
             3
            ],
            [
             1
            ],
            [
             2
            ],
            [
             3
            ],
            [
             3
            ],
            [
             1
            ],
            [
             3
            ],
            [
             3
            ],
            [
             2
            ],
            [
             1
            ],
            [
             3
            ],
            [
             1
            ],
            [
             3
            ],
            [
             2
            ],
            [
             3
            ],
            [
             1
            ],
            [
             3
            ],
            [
             3
            ],
            [
             3
            ],
            [
             3
            ],
            [
             3
            ],
            [
             1
            ],
            [
             1
            ],
            [
             2
            ],
            [
             1
            ],
            [
             1
            ],
            [
             1
            ],
            [
             1
            ],
            [
             1
            ],
            [
             3
            ],
            [
             3
            ],
            [
             3
            ],
            [
             3
            ],
            [
             3
            ],
            [
             1
            ],
            [
             3
            ],
            [
             2
            ],
            [
             1
            ],
            [
             3
            ],
            [
             2
            ],
            [
             3
            ],
            [
             3
            ],
            [
             3
            ],
            [
             3
            ],
            [
             1
            ],
            [
             3
            ],
            [
             3
            ],
            [
             3
            ],
            [
             2
            ],
            [
             1
            ],
            [
             2
            ],
            [
             1
            ],
            [
             1
            ],
            [
             1
            ],
            [
             3
            ],
            [
             1
            ],
            [
             3
            ],
            [
             3
            ],
            [
             2
            ],
            [
             1
            ]
           ],
           "geo": "geo",
           "hovertemplate": "date=1996<br>country_name=%{location}<br>sum_of_medals=%{z}<extra></extra>",
           "locationmode": "country names",
           "locations": [
            "Algeria",
            "Argentina",
            "Armenia",
            "Australia",
            "Austria",
            "Azerbaijan",
            "Bahamas",
            "Belarus",
            "Belgium",
            "Brazil",
            "Bulgaria",
            "Burundi",
            "Canada",
            "Chinese Taipei",
            "Costa Rica",
            "Croatia",
            "Cuba",
            "Czech Republic",
            "Democratic People's Republic of Korea",
            "Denmark",
            "Ecuador",
            "Ethiopia",
            "Finland",
            "France",
            "Georgia",
            "Germany",
            "Great Britain",
            "Greece",
            "Hong Kong, China",
            "Hungary",
            "India",
            "Indonesia",
            "Ireland",
            "Islamic Republic of Iran",
            "Israel",
            "Italy",
            "Jamaica",
            "Japan",
            "Kazakhstan",
            "Kenya",
            "Latvia",
            "Lithuania",
            "Malaysia",
            "Mexico",
            "Mongolia",
            "Morocco",
            "Mozambique",
            "Namibia",
            "Netherlands",
            "New Zealand",
            "Nigeria",
            "Norway",
            "People's Republic of China",
            "Philippines",
            "Poland",
            "Portugal",
            "Puerto Rico",
            "Republic of Korea",
            "Republic of Moldova",
            "Romania",
            "Russian Federation",
            "Serbia and Montenegro",
            "Slovakia",
            "Slovenia",
            "South Africa",
            "Spain",
            "Sweden",
            "Switzerland",
            "Syrian Arab Republic",
            "Thailand",
            "Tonga",
            "Trinidad and Tobago",
            "Tunisia",
            "Turkey",
            "Uganda",
            "Ukraine",
            "United States of America",
            "Uzbekistan",
            "Zambia"
           ],
           "name": "",
           "type": "choropleth",
           "z": [
            2,
            2,
            2,
            3,
            2,
            1,
            1,
            3,
            3,
            3,
            3,
            1,
            3,
            1,
            1,
            2,
            3,
            3,
            3,
            3,
            1,
            2,
            3,
            3,
            1,
            3,
            3,
            2,
            1,
            3,
            1,
            3,
            2,
            3,
            1,
            3,
            3,
            3,
            3,
            3,
            1,
            1,
            2,
            1,
            1,
            1,
            1,
            1,
            3,
            3,
            3,
            3,
            3,
            1,
            3,
            2,
            1,
            3,
            2,
            3,
            3,
            3,
            3,
            1,
            3,
            3,
            3,
            2,
            1,
            2,
            1,
            1,
            1,
            3,
            1,
            3,
            3,
            2,
            1
           ]
          }
         ],
         "name": "1996"
        },
        {
         "data": [
          {
           "coloraxis": "coloraxis",
           "customdata": [
            [
             1
            ],
            [
             3
            ],
            [
             1
            ],
            [
             1
            ],
            [
             1
            ],
            [
             3
            ],
            [
             3
            ],
            [
             1
            ],
            [
             3
            ],
            [
             3
            ],
            [
             3
            ],
            [
             1
            ],
            [
             3
            ],
            [
             3
            ],
            [
             1
            ],
            [
             3
            ],
            [
             3
            ],
            [
             2
            ],
            [
             3
            ],
            [
             3
            ],
            [
             2
            ],
            [
             3
            ],
            [
             1
            ],
            [
             3
            ]
           ],
           "geo": "geo",
           "hovertemplate": "date=1998<br>country_name=%{location}<br>sum_of_medals=%{z}<extra></extra>",
           "locationmode": "country names",
           "locations": [
            "Australia",
            "Austria",
            "Belarus",
            "Belgium",
            "Bulgaria",
            "Canada",
            "Czech Republic",
            "Denmark",
            "Finland",
            "France",
            "Germany",
            "Great Britain",
            "Italy",
            "Japan",
            "Kazakhstan",
            "Netherlands",
            "Norway",
            "People's Republic of China",
            "Republic of Korea",
            "Russian Federation",
            "Sweden",
            "Switzerland",
            "Ukraine",
            "United States of America"
           ],
           "name": "",
           "type": "choropleth",
           "z": [
            1,
            3,
            1,
            1,
            1,
            3,
            3,
            1,
            3,
            3,
            3,
            1,
            3,
            3,
            1,
            3,
            3,
            2,
            3,
            3,
            2,
            3,
            1,
            3
           ]
          }
         ],
         "name": "1998"
        },
        {
         "data": [
          {
           "coloraxis": "coloraxis",
           "customdata": [
            [
             3
            ],
            [
             2
            ],
            [
             1
            ],
            [
             3
            ],
            [
             2
            ],
            [
             2
            ],
            [
             2
            ],
            [
             1
            ],
            [
             3
            ],
            [
             2
            ],
            [
             2
            ],
            [
             3
            ],
            [
             1
            ],
            [
             3
            ],
            [
             1
            ],
            [
             2
            ],
            [
             1
            ],
            [
             1
            ],
            [
             2
            ],
            [
             3
            ],
            [
             3
            ],
            [
             2
            ],
            [
             3
            ],
            [
             2
            ],
            [
             3
            ],
            [
             3
            ],
            [
             3
            ],
            [
             1
            ],
            [
             3
            ],
            [
             3
            ],
            [
             3
            ],
            [
             3
            ],
            [
             1
            ],
            [
             1
            ],
            [
             3
            ],
            [
             1
            ],
            [
             2
            ],
            [
             1
            ],
            [
             3
            ],
            [
             2
            ],
            [
             3
            ],
            [
             2
            ],
            [
             3
            ],
            [
             1
            ],
            [
             1
            ],
            [
             3
            ],
            [
             2
            ],
            [
             3
            ],
            [
             2
            ],
            [
             1
            ],
            [
             3
            ],
            [
             2
            ],
            [
             2
            ],
            [
             3
            ],
            [
             3
            ],
            [
             3
            ],
            [
             1
            ],
            [
             1
            ],
            [
             3
            ],
            [
             2
            ],
            [
             3
            ],
            [
             3
            ],
            [
             2
            ],
            [
             3
            ],
            [
             3
            ],
            [
             1
            ],
            [
             2
            ],
            [
             3
            ],
            [
             1
            ],
            [
             3
            ],
            [
             3
            ],
            [
             2
            ],
            [
             1
            ],
            [
             2
            ],
            [
             2
            ],
            [
             3
            ],
            [
             3
            ],
            [
             1
            ],
            [
             3
            ],
            [
             1
            ]
           ],
           "geo": "geo",
           "hovertemplate": "date=2000<br>country_name=%{location}<br>sum_of_medals=%{z}<extra></extra>",
           "locationmode": "country names",
           "locations": [
            "Algeria",
            "Argentina",
            "Armenia",
            "Australia",
            "Austria",
            "Azerbaijan",
            "Bahamas",
            "Barbados",
            "Belarus",
            "Belgium",
            "Brazil",
            "Bulgaria",
            "Cameroon",
            "Canada",
            "Chile",
            "Chinese Taipei",
            "Colombia",
            "Costa Rica",
            "Croatia",
            "Cuba",
            "Czech Republic",
            "Democratic People's Republic of Korea",
            "Denmark",
            "Estonia",
            "Ethiopia",
            "Finland",
            "France",
            "Georgia",
            "Germany",
            "Great Britain",
            "Greece",
            "Hungary",
            "Iceland",
            "India",
            "Indonesia",
            "Ireland",
            "Islamic Republic of Iran",
            "Israel",
            "Italy",
            "Jamaica",
            "Japan",
            "Kazakhstan",
            "Kenya",
            "Kuwait",
            "Kyrgyzstan",
            "Latvia",
            "Lithuania",
            "Mexico",
            "Morocco",
            "Mozambique",
            "Netherlands",
            "New Zealand",
            "Nigeria",
            "Norway",
            "People's Republic of China",
            "Poland",
            "Portugal",
            "Qatar",
            "Republic of Korea",
            "Republic of Moldova",
            "Romania",
            "Russian Federation",
            "Saudi Arabia",
            "Serbia and Montenegro",
            "Slovakia",
            "Slovenia",
            "South Africa",
            "Spain",
            "Sri Lanka",
            "Sweden",
            "Switzerland",
            "Thailand",
            "The Former Yugoslav Republic of Macedonia",
            "Trinidad and Tobago",
            "Turkey",
            "Ukraine",
            "United States of America",
            "Uruguay",
            "Uzbekistan",
            "Vietnam"
           ],
           "name": "",
           "type": "choropleth",
           "z": [
            3,
            2,
            1,
            3,
            2,
            2,
            2,
            1,
            3,
            2,
            2,
            3,
            1,
            3,
            1,
            2,
            1,
            1,
            2,
            3,
            3,
            2,
            3,
            2,
            3,
            3,
            3,
            1,
            3,
            3,
            3,
            3,
            1,
            1,
            3,
            1,
            2,
            1,
            3,
            2,
            3,
            2,
            3,
            1,
            1,
            3,
            2,
            3,
            2,
            1,
            3,
            2,
            2,
            3,
            3,
            3,
            1,
            1,
            3,
            2,
            3,
            3,
            2,
            3,
            3,
            1,
            2,
            3,
            1,
            3,
            3,
            2,
            1,
            2,
            2,
            3,
            3,
            1,
            3,
            1
           ]
          }
         ],
         "name": "2000"
        },
        {
         "data": [
          {
           "coloraxis": "coloraxis",
           "customdata": [
            [
             1
            ],
            [
             3
            ],
            [
             1
            ],
            [
             2
            ],
            [
             3
            ],
            [
             2
            ],
            [
             2
            ],
            [
             3
            ],
            [
             3
            ],
            [
             3
            ],
            [
             3
            ],
            [
             2
            ],
            [
             3
            ],
            [
             2
            ],
            [
             2
            ],
            [
             3
            ],
            [
             3
            ],
            [
             2
            ],
            [
             2
            ],
            [
             3
            ],
            [
             1
            ],
            [
             2
            ],
            [
             3
            ],
            [
             3
            ]
           ],
           "geo": "geo",
           "hovertemplate": "date=2002<br>country_name=%{location}<br>sum_of_medals=%{z}<extra></extra>",
           "locationmode": "country names",
           "locations": [
            "Australia",
            "Austria",
            "Belarus",
            "Bulgaria",
            "Canada",
            "Croatia",
            "Czech Republic",
            "Estonia",
            "Finland",
            "France",
            "Germany",
            "Great Britain",
            "Italy",
            "Japan",
            "Netherlands",
            "Norway",
            "People's Republic of China",
            "Poland",
            "Republic of Korea",
            "Russian Federation",
            "Slovenia",
            "Sweden",
            "Switzerland",
            "United States of America"
           ],
           "name": "",
           "type": "choropleth",
           "z": [
            1,
            3,
            1,
            2,
            3,
            2,
            2,
            3,
            3,
            3,
            3,
            2,
            3,
            2,
            2,
            3,
            3,
            2,
            2,
            3,
            1,
            2,
            3,
            3
           ]
          }
         ],
         "name": "2002"
        },
        {
         "data": [
          {
           "coloraxis": "coloraxis",
           "customdata": [
            [
             2
            ],
            [
             3
            ],
            [
             3
            ],
            [
             2
            ],
            [
             2
            ],
            [
             3
            ],
            [
             2
            ],
            [
             3
            ],
            [
             3
            ],
            [
             1
            ],
            [
             3
            ],
            [
             2
            ],
            [
             3
            ],
            [
             1
            ],
            [
             3
            ],
            [
             3
            ],
            [
             3
            ],
            [
             2
            ],
            [
             3
            ],
            [
             1
            ],
            [
             3
            ],
            [
             1
            ],
            [
             2
            ],
            [
             3
            ],
            [
             1
            ],
            [
             3
            ],
            [
             2
            ],
            [
             3
            ],
            [
             3
            ],
            [
             3
            ],
            [
             1
            ],
            [
             3
            ],
            [
             1
            ],
            [
             3
            ],
            [
             3
            ],
            [
             2
            ],
            [
             3
            ],
            [
             3
            ],
            [
             3
            ],
            [
             3
            ],
            [
             3
            ],
            [
             1
            ],
            [
             2
            ],
            [
             2
            ],
            [
             1
            ],
            [
             2
            ],
            [
             3
            ],
            [
             2
            ],
            [
             1
            ],
            [
             2
            ],
            [
             1
            ],
            [
             3
            ],
            [
             3
            ],
            [
             2
            ],
            [
             3
            ],
            [
             3
            ],
            [
             3
            ],
            [
             1
            ],
            [
             3
            ],
            [
             2
            ],
            [
             3
            ],
            [
             3
            ],
            [
             3
            ],
            [
             3
            ],
            [
             1
            ],
            [
             3
            ],
            [
             1
            ],
            [
             3
            ],
            [
             3
            ],
            [
             1
            ],
            [
             3
            ],
            [
             3
            ],
            [
             1
            ],
            [
             3
            ]
           ],
           "geo": "geo",
           "hovertemplate": "date=2004<br>country_name=%{location}<br>sum_of_medals=%{z}<extra></extra>",
           "locationmode": "country names",
           "locations": [
            "Argentina",
            "Australia",
            "Austria",
            "Azerbaijan",
            "Bahamas",
            "Belarus",
            "Belgium",
            "Brazil",
            "Bulgaria",
            "Cameroon",
            "Canada",
            "Chile",
            "Chinese Taipei",
            "Colombia",
            "Croatia",
            "Cuba",
            "Czech Republic",
            "Democratic People's Republic of Korea",
            "Denmark",
            "Dominican Republic",
            "Egypt",
            "Eritrea",
            "Estonia",
            "Ethiopia",
            "Finland",
            "France",
            "Georgia",
            "Germany",
            "Great Britain",
            "Greece",
            "Hong Kong, China",
            "Hungary",
            "India",
            "Indonesia",
            "Islamic Republic of Iran",
            "Israel",
            "Italy",
            "Jamaica",
            "Japan",
            "Kazakhstan",
            "Kenya",
            "Latvia",
            "Lithuania",
            "Mexico",
            "Mongolia",
            "Morocco",
            "Netherlands",
            "New Zealand",
            "Nigeria",
            "Norway",
            "Paraguay",
            "People's Republic of China",
            "Poland",
            "Portugal",
            "Republic of Korea",
            "Romania",
            "Russian Federation",
            "Serbia and Montenegro",
            "Slovakia",
            "Slovenia",
            "South Africa",
            "Spain",
            "Sweden",
            "Switzerland",
            "Syrian Arab Republic",
            "Thailand",
            "Trinidad and Tobago",
            "Turkey",
            "Ukraine",
            "United Arab Emirates",
            "United States of America",
            "Uzbekistan",
            "Venezuela",
            "Zimbabwe"
           ],
           "name": "",
           "type": "choropleth",
           "z": [
            2,
            3,
            3,
            2,
            2,
            3,
            2,
            3,
            3,
            1,
            3,
            2,
            3,
            1,
            3,
            3,
            3,
            2,
            3,
            1,
            3,
            1,
            2,
            3,
            1,
            3,
            2,
            3,
            3,
            3,
            1,
            3,
            1,
            3,
            3,
            2,
            3,
            3,
            3,
            3,
            3,
            1,
            2,
            2,
            1,
            2,
            3,
            2,
            1,
            2,
            1,
            3,
            3,
            2,
            3,
            3,
            3,
            1,
            3,
            2,
            3,
            3,
            3,
            3,
            1,
            3,
            1,
            3,
            3,
            1,
            3,
            3,
            1,
            3
           ]
          }
         ],
         "name": "2004"
        },
        {
         "data": [
          {
           "coloraxis": "coloraxis",
           "customdata": [
            [
             2
            ],
            [
             3
            ],
            [
             1
            ],
            [
             1
            ],
            [
             3
            ],
            [
             2
            ],
            [
             3
            ],
            [
             1
            ],
            [
             2
            ],
            [
             3
            ],
            [
             3
            ],
            [
             1
            ],
            [
             2
            ],
            [
             1
            ],
            [
             1
            ],
            [
             3
            ],
            [
             3
            ],
            [
             3
            ],
            [
             2
            ],
            [
             3
            ],
            [
             3
            ],
            [
             1
            ],
            [
             3
            ],
            [
             3
            ],
            [
             1
            ],
            [
             3
            ]
           ],
           "geo": "geo",
           "hovertemplate": "date=2006<br>country_name=%{location}<br>sum_of_medals=%{z}<extra></extra>",
           "locationmode": "country names",
           "locations": [
            "Australia",
            "Austria",
            "Belarus",
            "Bulgaria",
            "Canada",
            "Croatia",
            "Czech Republic",
            "Estonia",
            "Finland",
            "France",
            "Germany",
            "Great Britain",
            "Italy",
            "Japan",
            "Latvia",
            "Netherlands",
            "Norway",
            "People's Republic of China",
            "Poland",
            "Republic of Korea",
            "Russian Federation",
            "Slovakia",
            "Sweden",
            "Switzerland",
            "Ukraine",
            "United States of America"
           ],
           "name": "",
           "type": "choropleth",
           "z": [
            2,
            3,
            1,
            1,
            3,
            2,
            3,
            1,
            2,
            3,
            3,
            1,
            2,
            1,
            1,
            3,
            3,
            3,
            2,
            3,
            3,
            1,
            3,
            3,
            1,
            3
           ]
          }
         ],
         "name": "2006"
        },
        {
         "data": [
          {
           "coloraxis": "coloraxis",
           "customdata": [
            [
             1
            ],
            [
             2
            ],
            [
             2
            ],
            [
             2
            ],
            [
             3
            ],
            [
             2
            ],
            [
             3
            ],
            [
             2
            ],
            [
             3
            ],
            [
             1
            ],
            [
             3
            ],
            [
             3
            ],
            [
             1
            ],
            [
             3
            ],
            [
             1
            ],
            [
             3
            ],
            [
             2
            ],
            [
             2
            ],
            [
             3
            ],
            [
             3
            ],
            [
             3
            ],
            [
             3
            ],
            [
             2
            ],
            [
             1
            ],
            [
             1
            ],
            [
             2
            ],
            [
             3
            ],
            [
             3
            ],
            [
             3
            ],
            [
             3
            ],
            [
             3
            ],
            [
             3
            ],
            [
             2
            ],
            [
             3
            ],
            [
             1
            ],
            [
             2
            ],
            [
             3
            ],
            [
             2
            ],
            [
             2
            ],
            [
             1
            ],
            [
             3
            ],
            [
             3
            ],
            [
             3
            ],
            [
             3
            ],
            [
             3
            ],
            [
             2
            ],
            [
             3
            ],
            [
             2
            ],
            [
             1
            ],
            [
             1
            ],
            [
             2
            ],
            [
             2
            ],
            [
             2
            ],
            [
             3
            ],
            [
             3
            ],
            [
             2
            ],
            [
             3
            ],
            [
             1
            ],
            [
             3
            ],
            [
             3
            ],
            [
             2
            ],
            [
             3
            ],
            [
             1
            ],
            [
             3
            ],
            [
             3
            ],
            [
             1
            ],
            [
             2
            ],
            [
             1
            ],
            [
             2
            ],
            [
             3
            ],
            [
             1
            ],
            [
             3
            ],
            [
             1
            ],
            [
             2
            ],
            [
             3
            ],
            [
             2
            ],
            [
             3
            ],
            [
             1
            ],
            [
             2
            ],
            [
             1
            ],
            [
             3
            ],
            [
             3
            ],
            [
             3
            ],
            [
             2
            ],
            [
             1
            ],
            [
             1
            ],
            [
             2
            ]
           ],
           "geo": "geo",
           "hovertemplate": "date=2008<br>country_name=%{location}<br>sum_of_medals=%{z}<extra></extra>",
           "locationmode": "country names",
           "locations": [
            "Afghanistan",
            "Algeria",
            "Argentina",
            "Armenia",
            "Australia",
            "Austria",
            "Azerbaijan",
            "Bahamas",
            "Belarus",
            "Belgium",
            "Brazil",
            "Bulgaria",
            "Cameroon",
            "Canada",
            "Chile",
            "Chinese Taipei",
            "Colombia",
            "Croatia",
            "Cuba",
            "Czech Republic",
            "Democratic People's Republic of Korea",
            "Denmark",
            "Dominican Republic",
            "Ecuador",
            "Egypt",
            "Estonia",
            "Ethiopia",
            "Finland",
            "France",
            "Georgia",
            "Germany",
            "Great Britain",
            "Greece",
            "Hungary",
            "Iceland",
            "India",
            "Indonesia",
            "Ireland",
            "Islamic Republic of Iran",
            "Israel",
            "Italy",
            "Jamaica",
            "Japan",
            "Kazakhstan",
            "Kenya",
            "Kyrgyzstan",
            "Latvia",
            "Lithuania",
            "Malaysia",
            "Mauritius",
            "Mexico",
            "Mongolia",
            "Morocco",
            "Netherlands",
            "New Zealand",
            "Nigeria",
            "Norway",
            "Panama",
            "People's Republic of China",
            "Poland",
            "Portugal",
            "Republic of Korea",
            "Republic of Moldova",
            "Romania",
            "Russian Federation",
            "Samoa",
            "Serbia",
            "Singapore",
            "Slovakia",
            "Slovenia",
            "South Africa",
            "Spain",
            "Sudan",
            "Sweden",
            "Switzerland",
            "Tajikistan",
            "Thailand",
            "Togo",
            "Trinidad and Tobago",
            "Tunisia",
            "Turkey",
            "Ukraine",
            "United States of America",
            "Uzbekistan",
            "Venezuela",
            "Vietnam",
            "Zimbabwe"
           ],
           "name": "",
           "type": "choropleth",
           "z": [
            1,
            2,
            2,
            2,
            3,
            2,
            3,
            2,
            3,
            1,
            3,
            3,
            1,
            3,
            1,
            3,
            2,
            2,
            3,
            3,
            3,
            3,
            2,
            1,
            1,
            2,
            3,
            3,
            3,
            3,
            3,
            3,
            2,
            3,
            1,
            2,
            3,
            2,
            2,
            1,
            3,
            3,
            3,
            3,
            3,
            2,
            3,
            2,
            1,
            1,
            2,
            2,
            2,
            3,
            3,
            2,
            3,
            1,
            3,
            3,
            2,
            3,
            1,
            3,
            3,
            1,
            2,
            1,
            2,
            3,
            1,
            3,
            1,
            2,
            3,
            2,
            3,
            1,
            2,
            1,
            3,
            3,
            3,
            2,
            1,
            1,
            2
           ]
          }
         ],
         "name": "2008"
        },
        {
         "data": [
          {
           "coloraxis": "coloraxis",
           "customdata": [
            [
             2
            ],
            [
             3
            ],
            [
             3
            ],
            [
             3
            ],
            [
             2
            ],
            [
             2
            ],
            [
             1
            ],
            [
             2
            ],
            [
             3
            ],
            [
             3
            ],
            [
             1
            ],
            [
             3
            ],
            [
             2
            ],
            [
             1
            ],
            [
             1
            ],
            [
             3
            ],
            [
             3
            ],
            [
             3
            ],
            [
             3
            ],
            [
             3
            ],
            [
             3
            ],
            [
             3
            ],
            [
             2
            ],
            [
             3
            ],
            [
             2
            ],
            [
             3
            ]
           ],
           "geo": "geo",
           "hovertemplate": "date=2010<br>country_name=%{location}<br>sum_of_medals=%{z}<extra></extra>",
           "locationmode": "country names",
           "locations": [
            "Australia",
            "Austria",
            "Belarus",
            "Canada",
            "Croatia",
            "Czech Republic",
            "Estonia",
            "Finland",
            "France",
            "Germany",
            "Great Britain",
            "Italy",
            "Japan",
            "Kazakhstan",
            "Latvia",
            "Netherlands",
            "Norway",
            "People's Republic of China",
            "Poland",
            "Republic of Korea",
            "Russian Federation",
            "Slovakia",
            "Slovenia",
            "Sweden",
            "Switzerland",
            "United States of America"
           ],
           "name": "",
           "type": "choropleth",
           "z": [
            2,
            3,
            3,
            3,
            2,
            2,
            1,
            2,
            3,
            3,
            1,
            3,
            2,
            1,
            1,
            3,
            3,
            3,
            3,
            3,
            3,
            3,
            2,
            3,
            2,
            3
           ]
          }
         ],
         "name": "2010"
        },
        {
         "data": [
          {
           "coloraxis": "coloraxis",
           "customdata": [
            [
             1
            ],
            [
             1
            ],
            [
             3
            ],
            [
             2
            ],
            [
             3
            ],
            [
             3
            ],
            [
             1
            ],
            [
             1
            ],
            [
             3
            ],
            [
             2
            ],
            [
             1
            ],
            [
             3
            ],
            [
             2
            ],
            [
             1
            ],
            [
             3
            ],
            [
             2
            ],
            [
             3
            ],
            [
             3
            ],
            [
             3
            ],
            [
             1
            ],
            [
             3
            ],
            [
             2
            ],
            [
             3
            ],
            [
             2
            ],
            [
             2
            ],
            [
             2
            ],
            [
             3
            ],
            [
             2
            ],
            [
             3
            ],
            [
             1
            ],
            [
             3
            ],
            [
             3
            ],
            [
             3
            ],
            [
             1
            ],
            [
             1
            ],
            [
             1
            ],
            [
             1
            ],
            [
             3
            ],
            [
             2
            ],
            [
             2
            ],
            [
             3
            ],
            [
             3
            ],
            [
             3
            ],
            [
             3
            ],
            [
             3
            ],
            [
             3
            ],
            [
             3
            ],
            [
             1
            ],
            [
             2
            ],
            [
             2
            ],
            [
             2
            ],
            [
             3
            ],
            [
             2
            ],
            [
             1
            ],
            [
             1
            ],
            [
             3
            ],
            [
             3
            ],
            [
             3
            ],
            [
             3
            ],
            [
             3
            ],
            [
             1
            ],
            [
             2
            ],
            [
             1
            ],
            [
             3
            ],
            [
             3
            ],
            [
             3
            ],
            [
             1
            ],
            [
             3
            ],
            [
             1
            ],
            [
             2
            ],
            [
             3
            ],
            [
             3
            ],
            [
             3
            ],
            [
             3
            ],
            [
             2
            ],
            [
             1
            ],
            [
             2
            ],
            [
             3
            ],
            [
             2
            ],
            [
             3
            ],
            [
             1
            ],
            [
             3
            ],
            [
             3
            ],
            [
             1
            ],
            [
             1
            ]
           ],
           "geo": "geo",
           "hovertemplate": "date=2012<br>country_name=%{location}<br>sum_of_medals=%{z}<extra></extra>",
           "locationmode": "country names",
           "locations": [
            "Afghanistan",
            "Algeria",
            "Argentina",
            "Armenia",
            "Australia",
            "Azerbaijan",
            "Bahamas",
            "Bahrain",
            "Belarus",
            "Belgium",
            "Botswana",
            "Brazil",
            "Bulgaria",
            "Cameroon",
            "Canada",
            "Chinese Taipei",
            "Colombia",
            "Croatia",
            "Cuba",
            "Cyprus",
            "Czech Republic",
            "Democratic People's Republic of Korea",
            "Denmark",
            "Dominican Republic",
            "Egypt",
            "Estonia",
            "Ethiopia",
            "Finland",
            "France",
            "Gabon",
            "Georgia",
            "Germany",
            "Great Britain",
            "Greece",
            "Grenada",
            "Guatemala",
            "Hong Kong, China",
            "Hungary",
            "India",
            "Indonesia",
            "Ireland",
            "Islamic Republic of Iran",
            "Italy",
            "Jamaica",
            "Japan",
            "Kazakhstan",
            "Kenya",
            "Kuwait",
            "Latvia",
            "Lithuania",
            "Malaysia",
            "Mexico",
            "Mongolia",
            "Montenegro",
            "Morocco",
            "Netherlands",
            "New Zealand",
            "Norway",
            "People's Republic of China",
            "Poland",
            "Portugal",
            "Puerto Rico",
            "Qatar",
            "Republic of Korea",
            "Romania",
            "Russian Federation",
            "Saudi Arabia",
            "Serbia",
            "Singapore",
            "Slovakia",
            "Slovenia",
            "South Africa",
            "Spain",
            "Sweden",
            "Switzerland",
            "Tajikistan",
            "Thailand",
            "Trinidad and Tobago",
            "Tunisia",
            "Turkey",
            "Uganda",
            "Ukraine",
            "United States of America",
            "Uzbekistan",
            "Venezuela"
           ],
           "name": "",
           "type": "choropleth",
           "z": [
            1,
            1,
            3,
            2,
            3,
            3,
            1,
            1,
            3,
            2,
            1,
            3,
            2,
            1,
            3,
            2,
            3,
            3,
            3,
            1,
            3,
            2,
            3,
            2,
            2,
            2,
            3,
            2,
            3,
            1,
            3,
            3,
            3,
            1,
            1,
            1,
            1,
            3,
            2,
            2,
            3,
            3,
            3,
            3,
            3,
            3,
            3,
            1,
            2,
            2,
            2,
            3,
            2,
            1,
            1,
            3,
            3,
            3,
            3,
            3,
            1,
            2,
            1,
            3,
            3,
            3,
            1,
            3,
            1,
            2,
            3,
            3,
            3,
            3,
            2,
            1,
            2,
            3,
            2,
            3,
            1,
            3,
            3,
            1,
            1
           ]
          }
         ],
         "name": "2012"
        },
        {
         "data": [
          {
           "coloraxis": "coloraxis",
           "customdata": [
            [
             2
            ],
            [
             3
            ],
            [
             2
            ],
            [
             3
            ],
            [
             1
            ],
            [
             3
            ],
            [
             3
            ],
            [
             3
            ],
            [
             3
            ],
            [
             3
            ],
            [
             2
            ],
            [
             3
            ],
            [
             1
            ],
            [
             3
            ],
            [
             3
            ],
            [
             3
            ],
            [
             3
            ],
            [
             3
            ],
            [
             3
            ],
            [
             3
            ],
            [
             1
            ],
            [
             3
            ],
            [
             3
            ],
            [
             3
            ],
            [
             2
            ],
            [
             3
            ]
           ],
           "geo": "geo",
           "hovertemplate": "date=2014<br>country_name=%{location}<br>sum_of_medals=%{z}<extra></extra>",
           "locationmode": "country names",
           "locations": [
            "Australia",
            "Austria",
            "Belarus",
            "Canada",
            "Croatia",
            "Czech Republic",
            "Finland",
            "France",
            "Germany",
            "Great Britain",
            "Italy",
            "Japan",
            "Kazakhstan",
            "Latvia",
            "Netherlands",
            "Norway",
            "People's Republic of China",
            "Poland",
            "Republic of Korea",
            "Russian Federation",
            "Slovakia",
            "Slovenia",
            "Sweden",
            "Switzerland",
            "Ukraine",
            "United States of America"
           ],
           "name": "",
           "type": "choropleth",
           "z": [
            2,
            3,
            2,
            3,
            1,
            3,
            3,
            3,
            3,
            3,
            2,
            3,
            1,
            3,
            3,
            3,
            3,
            3,
            3,
            3,
            1,
            3,
            3,
            3,
            2,
            3
           ]
          }
         ],
         "name": "2014"
        },
        {
         "data": [
          {
           "coloraxis": "coloraxis",
           "customdata": [
            [
             1
            ],
            [
             2
            ],
            [
             2
            ],
            [
             3
            ],
            [
             1
            ],
            [
             3
            ],
            [
             2
            ],
            [
             2
            ],
            [
             3
            ],
            [
             3
            ],
            [
             3
            ],
            [
             2
            ],
            [
             1
            ],
            [
             3
            ],
            [
             2
            ],
            [
             3
            ],
            [
             3
            ],
            [
             3
            ],
            [
             3
            ],
            [
             3
            ],
            [
             3
            ],
            [
             1
            ],
            [
             1
            ],
            [
             1
            ],
            [
             3
            ],
            [
             1
            ],
            [
             1
            ],
            [
             3
            ],
            [
             3
            ],
            [
             3
            ],
            [
             3
            ],
            [
             3
            ],
            [
             1
            ],
            [
             3
            ],
            [
             2
            ],
            [
             2
            ],
            [
             2
            ],
            [
             1
            ],
            [
             3
            ],
            [
             1
            ],
            [
             3
            ],
            [
             2
            ],
            [
             3
            ],
            [
             3
            ],
            [
             1
            ],
            [
             3
            ],
            [
             3
            ],
            [
             1
            ],
            [
             2
            ],
            [
             2
            ],
            [
             2
            ],
            [
             2
            ],
            [
             1
            ],
            [
             3
            ],
            [
             3
            ],
            [
             1
            ],
            [
             1
            ],
            [
             1
            ],
            [
             3
            ],
            [
             1
            ],
            [
             3
            ],
            [
             1
            ],
            [
             1
            ],
            [
             1
            ],
            [
             3
            ],
            [
             3
            ],
            [
             3
            ],
            [
             3
            ],
            [
             1
            ],
            [
             2
            ],
            [
             3
            ],
            [
             3
            ],
            [
             3
            ],
            [
             3
            ],
            [
             3
            ],
            [
             1
            ],
            [
             3
            ],
            [
             1
            ],
            [
             1
            ],
            [
             3
            ],
            [
             3
            ],
            [
             1
            ],
            [
             3
            ],
            [
             3
            ],
            [
             2
            ],
            [
             2
            ]
           ],
           "geo": "geo",
           "hovertemplate": "date=2016<br>country_name=%{location}<br>sum_of_medals=%{z}<extra></extra>",
           "locationmode": "country names",
           "locations": [
            "Algeria",
            "Argentina",
            "Armenia",
            "Australia",
            "Austria",
            "Azerbaijan",
            "Bahamas",
            "Bahrain",
            "Belarus",
            "Belgium",
            "Brazil",
            "Bulgaria",
            "Burundi",
            "Canada",
            "Chinese Taipei",
            "Colombia",
            "Croatia",
            "Cuba",
            "Czech Republic",
            "Democratic People's Republic of Korea",
            "Denmark",
            "Dominican Republic",
            "Egypt",
            "Estonia",
            "Ethiopia",
            "Fiji",
            "Finland",
            "France",
            "Georgia",
            "Germany",
            "Great Britain",
            "Greece",
            "Grenada",
            "Hungary",
            "Independent Olympic Athletes",
            "India",
            "Indonesia",
            "Ireland",
            "Islamic Republic of Iran",
            "Israel",
            "Italy",
            "Ivory Coast",
            "Jamaica",
            "Japan",
            "Jordan",
            "Kazakhstan",
            "Kenya",
            "Kosovo",
            "Lithuania",
            "Malaysia",
            "Mexico",
            "Mongolia",
            "Morocco",
            "Netherlands",
            "New Zealand",
            "Niger",
            "Nigeria",
            "Norway",
            "People's Republic of China",
            "Philippines",
            "Poland",
            "Portugal",
            "Puerto Rico",
            "Qatar",
            "Republic of Korea",
            "Romania",
            "Russian Federation",
            "Serbia",
            "Singapore",
            "Slovakia",
            "Slovenia",
            "South Africa",
            "Spain",
            "Sweden",
            "Switzerland",
            "Tajikistan",
            "Thailand",
            "Trinidad and Tobago",
            "Tunisia",
            "Turkey",
            "Ukraine",
            "United Arab Emirates",
            "United States of America",
            "Uzbekistan",
            "Venezuela",
            "Vietnam"
           ],
           "name": "",
           "type": "choropleth",
           "z": [
            1,
            2,
            2,
            3,
            1,
            3,
            2,
            2,
            3,
            3,
            3,
            2,
            1,
            3,
            2,
            3,
            3,
            3,
            3,
            3,
            3,
            1,
            1,
            1,
            3,
            1,
            1,
            3,
            3,
            3,
            3,
            3,
            1,
            3,
            2,
            2,
            2,
            1,
            3,
            1,
            3,
            2,
            3,
            3,
            1,
            3,
            3,
            1,
            2,
            2,
            2,
            2,
            1,
            3,
            3,
            1,
            1,
            1,
            3,
            1,
            3,
            1,
            1,
            1,
            3,
            3,
            3,
            3,
            1,
            2,
            3,
            3,
            3,
            3,
            3,
            1,
            3,
            1,
            1,
            3,
            3,
            1,
            3,
            3,
            2,
            2
           ]
          }
         ],
         "name": "2016"
        },
        {
         "data": [
          {
           "coloraxis": "coloraxis",
           "customdata": [
            [
             2
            ],
            [
             3
            ],
            [
             2
            ],
            [
             1
            ],
            [
             3
            ],
            [
             3
            ],
            [
             3
            ],
            [
             3
            ],
            [
             3
            ],
            [
             2
            ],
            [
             1
            ],
            [
             3
            ],
            [
             3
            ],
            [
             1
            ],
            [
             1
            ],
            [
             1
            ],
            [
             3
            ],
            [
             1
            ],
            [
             3
            ],
            [
             3
            ],
            [
             3
            ],
            [
             2
            ],
            [
             3
            ],
            [
             2
            ],
            [
             2
            ],
            [
             1
            ],
            [
             3
            ],
            [
             3
            ],
            [
             1
            ],
            [
             3
            ]
           ],
           "geo": "geo",
           "hovertemplate": "date=2018<br>country_name=%{location}<br>sum_of_medals=%{z}<extra></extra>",
           "locationmode": "country names",
           "locations": [
            "Australia",
            "Austria",
            "Belarus",
            "Belgium",
            "Canada",
            "Czech Republic",
            "Finland",
            "France",
            "Germany",
            "Great Britain",
            "Hungary",
            "Italy",
            "Japan",
            "Kazakhstan",
            "Latvia",
            "Liechtenstein",
            "Netherlands",
            "New Zealand",
            "Norway",
            "Olympic Athletes from Russia",
            "People's Republic of China",
            "Poland",
            "Republic of Korea",
            "Slovakia",
            "Slovenia",
            "Spain",
            "Sweden",
            "Switzerland",
            "Ukraine",
            "United States of America"
           ],
           "name": "",
           "type": "choropleth",
           "z": [
            2,
            3,
            2,
            1,
            3,
            3,
            3,
            3,
            3,
            2,
            1,
            3,
            3,
            1,
            1,
            1,
            3,
            1,
            3,
            3,
            3,
            2,
            3,
            2,
            2,
            1,
            3,
            3,
            1,
            3
           ]
          }
         ],
         "name": "2018"
        },
        {
         "data": [
          {
           "coloraxis": "coloraxis",
           "customdata": [
            [
             2
            ],
            [
             2
            ],
            [
             3
            ],
            [
             3
            ],
            [
             2
            ],
            [
             1
            ],
            [
             1
            ],
            [
             3
            ],
            [
             3
            ],
            [
             1
            ],
            [
             1
            ],
            [
             3
            ],
            [
             3
            ],
            [
             1
            ],
            [
             3
            ],
            [
             3
            ],
            [
             2
            ],
            [
             3
            ],
            [
             3
            ],
            [
             3
            ],
            [
             1
            ],
            [
             3
            ],
            [
             2
            ],
            [
             2
            ],
            [
             3
            ],
            [
             2
            ],
            [
             3
            ],
            [
             2
            ],
            [
             1
            ],
            [
             3
            ],
            [
             3
            ],
            [
             3
            ],
            [
             1
            ],
            [
             3
            ],
            [
             3
            ],
            [
             1
            ],
            [
             3
            ],
            [
             3
            ],
            [
             3
            ],
            [
             3
            ],
            [
             2
            ],
            [
             3
            ],
            [
             2
            ],
            [
             3
            ],
            [
             3
            ],
            [
             3
            ],
            [
             2
            ],
            [
             1
            ],
            [
             3
            ],
            [
             1
            ],
            [
             1
            ],
            [
             2
            ],
            [
             2
            ],
            [
             1
            ],
            [
             2
            ],
            [
             1
            ],
            [
             2
            ],
            [
             1
            ],
            [
             1
            ],
            [
             3
            ],
            [
             3
            ],
            [
             2
            ],
            [
             1
            ],
            [
             3
            ],
            [
             3
            ],
            [
             3
            ],
            [
             3
            ],
            [
             3
            ],
            [
             1
            ],
            [
             2
            ],
            [
             3
            ],
            [
             3
            ],
            [
             1
            ],
            [
             2
            ],
            [
             2
            ],
            [
             1
            ],
            [
             3
            ],
            [
             3
            ],
            [
             3
            ],
            [
             2
            ],
            [
             3
            ],
            [
             2
            ],
            [
             3
            ],
            [
             1
            ],
            [
             2
            ],
            [
             2
            ],
            [
             3
            ],
            [
             1
            ],
            [
             3
            ],
            [
             3
            ],
            [
             3
            ],
            [
             2
            ],
            [
             2
            ]
           ],
           "geo": "geo",
           "hovertemplate": "date=2020<br>country_name=%{location}<br>sum_of_medals=%{z}<extra></extra>",
           "locationmode": "country names",
           "locations": [
            "Argentina",
            "Armenia",
            "Australia",
            "Austria",
            "Azerbaijan",
            "Bahamas",
            "Bahrain",
            "Belarus",
            "Belgium",
            "Bermuda",
            "Botswana",
            "Brazil",
            "Bulgaria",
            "Burkina Faso",
            "Canada",
            "Chinese Taipei",
            "Colombia",
            "Croatia",
            "Cuba",
            "Czech Republic",
            "Côte d'Ivoire",
            "Denmark",
            "Dominican Republic",
            "Ecuador",
            "Egypt",
            "Estonia",
            "Ethiopia",
            "Fiji",
            "Finland",
            "France",
            "Georgia",
            "Germany",
            "Ghana",
            "Great Britain",
            "Greece",
            "Grenada",
            "Hong Kong, China",
            "Hungary",
            "India",
            "Indonesia",
            "Ireland",
            "Islamic Republic of Iran",
            "Israel",
            "Italy",
            "Jamaica",
            "Japan",
            "Jordan",
            "Kazakhstan",
            "Kenya",
            "Kosovo",
            "Kuwait",
            "Kyrgyzstan",
            "Latvia",
            "Lithuania",
            "Malaysia",
            "Mexico",
            "Mongolia",
            "Morocco",
            "Namibia",
            "Netherlands",
            "New Zealand",
            "Nigeria",
            "North Macedonia",
            "Norway",
            "People's Republic of China",
            "Philippines",
            "Poland",
            "Portugal",
            "Puerto Rico",
            "Qatar",
            "ROC",
            "Republic of Korea",
            "Republic of Moldova",
            "Romania",
            "San Marino",
            "Saudi Arabia",
            "Serbia",
            "Slovakia",
            "Slovenia",
            "South Africa",
            "Spain",
            "Sweden",
            "Switzerland",
            "Syrian Arab Republic",
            "Thailand",
            "Tunisia",
            "Turkey",
            "Turkmenistan",
            "Uganda",
            "Ukraine",
            "United States of America",
            "Uzbekistan",
            "Venezuela"
           ],
           "name": "",
           "type": "choropleth",
           "z": [
            2,
            2,
            3,
            3,
            2,
            1,
            1,
            3,
            3,
            1,
            1,
            3,
            3,
            1,
            3,
            3,
            2,
            3,
            3,
            3,
            1,
            3,
            2,
            2,
            3,
            2,
            3,
            2,
            1,
            3,
            3,
            3,
            1,
            3,
            3,
            1,
            3,
            3,
            3,
            3,
            2,
            3,
            2,
            3,
            3,
            3,
            2,
            1,
            3,
            1,
            1,
            2,
            2,
            1,
            2,
            1,
            2,
            1,
            1,
            3,
            3,
            2,
            1,
            3,
            3,
            3,
            3,
            3,
            1,
            2,
            3,
            3,
            1,
            2,
            2,
            1,
            3,
            3,
            3,
            2,
            3,
            2,
            3,
            1,
            2,
            2,
            3,
            1,
            3,
            3,
            3,
            2,
            2
           ]
          }
         ],
         "name": "2020"
        },
        {
         "data": [
          {
           "coloraxis": "coloraxis",
           "customdata": [
            [
             3
            ],
            [
             3
            ],
            [
             1
            ],
            [
             2
            ],
            [
             3
            ],
            [
             2
            ],
            [
             1
            ],
            [
             3
            ],
            [
             3
            ],
            [
             3
            ],
            [
             2
            ],
            [
             2
            ],
            [
             3
            ],
            [
             3
            ],
            [
             1
            ],
            [
             3
            ],
            [
             2
            ],
            [
             3
            ],
            [
             3
            ],
            [
             1
            ],
            [
             3
            ],
            [
             3
            ],
            [
             2
            ],
            [
             3
            ],
            [
             1
            ],
            [
             3
            ],
            [
             3
            ],
            [
             1
            ],
            [
             3
            ]
           ],
           "geo": "geo",
           "hovertemplate": "date=2022<br>country_name=%{location}<br>sum_of_medals=%{z}<extra></extra>",
           "locationmode": "country names",
           "locations": [
            "Australia",
            "Austria",
            "Belarus",
            "Belgium",
            "Canada",
            "Czech Republic",
            "Estonia",
            "Finland",
            "France",
            "Germany",
            "Great Britain",
            "Hungary",
            "Italy",
            "Japan",
            "Latvia",
            "Netherlands",
            "New Zealand",
            "Norway",
            "People's Republic of China",
            "Poland",
            "ROC",
            "Republic of Korea",
            "Slovakia",
            "Slovenia",
            "Spain",
            "Sweden",
            "Switzerland",
            "Ukraine",
            "United States of America"
           ],
           "name": "",
           "type": "choropleth",
           "z": [
            3,
            3,
            1,
            2,
            3,
            2,
            1,
            3,
            3,
            3,
            2,
            2,
            3,
            3,
            1,
            3,
            2,
            3,
            3,
            1,
            3,
            3,
            2,
            3,
            1,
            3,
            3,
            1,
            3
           ]
          }
         ],
         "name": "2022"
        }
       ],
       "layout": {
        "coloraxis": {
         "colorbar": {
          "title": {
           "text": "sum_of_medals"
          }
         },
         "colorscale": [
          [
           0,
           "rgb(210, 251, 212)"
          ],
          [
           0.16666666666666666,
           "rgb(165, 219, 194)"
          ],
          [
           0.3333333333333333,
           "rgb(123, 188, 176)"
          ],
          [
           0.5,
           "rgb(85, 156, 158)"
          ],
          [
           0.6666666666666666,
           "rgb(58, 124, 137)"
          ],
          [
           0.8333333333333334,
           "rgb(35, 93, 114)"
          ],
          [
           1,
           "rgb(18, 63, 90)"
          ]
         ]
        },
        "geo": {
         "center": {},
         "domain": {
          "x": [
           0,
           1
          ],
          "y": [
           0,
           1
          ]
         }
        },
        "height": 1200,
        "legend": {
         "tracegroupgap": 0
        },
        "sliders": [
         {
          "active": 0,
          "currentvalue": {
           "prefix": "date="
          },
          "len": 0.9,
          "pad": {
           "b": 10,
           "t": 60
          },
          "steps": [
           {
            "args": [
             [
              "1896"
             ],
             {
              "frame": {
               "duration": 0,
               "redraw": true
              },
              "fromcurrent": true,
              "mode": "immediate",
              "transition": {
               "duration": 0,
               "easing": "linear"
              }
             }
            ],
            "label": "1896",
            "method": "animate"
           },
           {
            "args": [
             [
              "1900"
             ],
             {
              "frame": {
               "duration": 0,
               "redraw": true
              },
              "fromcurrent": true,
              "mode": "immediate",
              "transition": {
               "duration": 0,
               "easing": "linear"
              }
             }
            ],
            "label": "1900",
            "method": "animate"
           },
           {
            "args": [
             [
              "1904"
             ],
             {
              "frame": {
               "duration": 0,
               "redraw": true
              },
              "fromcurrent": true,
              "mode": "immediate",
              "transition": {
               "duration": 0,
               "easing": "linear"
              }
             }
            ],
            "label": "1904",
            "method": "animate"
           },
           {
            "args": [
             [
              "1908"
             ],
             {
              "frame": {
               "duration": 0,
               "redraw": true
              },
              "fromcurrent": true,
              "mode": "immediate",
              "transition": {
               "duration": 0,
               "easing": "linear"
              }
             }
            ],
            "label": "1908",
            "method": "animate"
           },
           {
            "args": [
             [
              "1912"
             ],
             {
              "frame": {
               "duration": 0,
               "redraw": true
              },
              "fromcurrent": true,
              "mode": "immediate",
              "transition": {
               "duration": 0,
               "easing": "linear"
              }
             }
            ],
            "label": "1912",
            "method": "animate"
           },
           {
            "args": [
             [
              "1920"
             ],
             {
              "frame": {
               "duration": 0,
               "redraw": true
              },
              "fromcurrent": true,
              "mode": "immediate",
              "transition": {
               "duration": 0,
               "easing": "linear"
              }
             }
            ],
            "label": "1920",
            "method": "animate"
           },
           {
            "args": [
             [
              "1924"
             ],
             {
              "frame": {
               "duration": 0,
               "redraw": true
              },
              "fromcurrent": true,
              "mode": "immediate",
              "transition": {
               "duration": 0,
               "easing": "linear"
              }
             }
            ],
            "label": "1924",
            "method": "animate"
           },
           {
            "args": [
             [
              "1928"
             ],
             {
              "frame": {
               "duration": 0,
               "redraw": true
              },
              "fromcurrent": true,
              "mode": "immediate",
              "transition": {
               "duration": 0,
               "easing": "linear"
              }
             }
            ],
            "label": "1928",
            "method": "animate"
           },
           {
            "args": [
             [
              "1932"
             ],
             {
              "frame": {
               "duration": 0,
               "redraw": true
              },
              "fromcurrent": true,
              "mode": "immediate",
              "transition": {
               "duration": 0,
               "easing": "linear"
              }
             }
            ],
            "label": "1932",
            "method": "animate"
           },
           {
            "args": [
             [
              "1936"
             ],
             {
              "frame": {
               "duration": 0,
               "redraw": true
              },
              "fromcurrent": true,
              "mode": "immediate",
              "transition": {
               "duration": 0,
               "easing": "linear"
              }
             }
            ],
            "label": "1936",
            "method": "animate"
           },
           {
            "args": [
             [
              "1948"
             ],
             {
              "frame": {
               "duration": 0,
               "redraw": true
              },
              "fromcurrent": true,
              "mode": "immediate",
              "transition": {
               "duration": 0,
               "easing": "linear"
              }
             }
            ],
            "label": "1948",
            "method": "animate"
           },
           {
            "args": [
             [
              "1952"
             ],
             {
              "frame": {
               "duration": 0,
               "redraw": true
              },
              "fromcurrent": true,
              "mode": "immediate",
              "transition": {
               "duration": 0,
               "easing": "linear"
              }
             }
            ],
            "label": "1952",
            "method": "animate"
           },
           {
            "args": [
             [
              "1956"
             ],
             {
              "frame": {
               "duration": 0,
               "redraw": true
              },
              "fromcurrent": true,
              "mode": "immediate",
              "transition": {
               "duration": 0,
               "easing": "linear"
              }
             }
            ],
            "label": "1956",
            "method": "animate"
           },
           {
            "args": [
             [
              "1960"
             ],
             {
              "frame": {
               "duration": 0,
               "redraw": true
              },
              "fromcurrent": true,
              "mode": "immediate",
              "transition": {
               "duration": 0,
               "easing": "linear"
              }
             }
            ],
            "label": "1960",
            "method": "animate"
           },
           {
            "args": [
             [
              "1964"
             ],
             {
              "frame": {
               "duration": 0,
               "redraw": true
              },
              "fromcurrent": true,
              "mode": "immediate",
              "transition": {
               "duration": 0,
               "easing": "linear"
              }
             }
            ],
            "label": "1964",
            "method": "animate"
           },
           {
            "args": [
             [
              "1968"
             ],
             {
              "frame": {
               "duration": 0,
               "redraw": true
              },
              "fromcurrent": true,
              "mode": "immediate",
              "transition": {
               "duration": 0,
               "easing": "linear"
              }
             }
            ],
            "label": "1968",
            "method": "animate"
           },
           {
            "args": [
             [
              "1972"
             ],
             {
              "frame": {
               "duration": 0,
               "redraw": true
              },
              "fromcurrent": true,
              "mode": "immediate",
              "transition": {
               "duration": 0,
               "easing": "linear"
              }
             }
            ],
            "label": "1972",
            "method": "animate"
           },
           {
            "args": [
             [
              "1976"
             ],
             {
              "frame": {
               "duration": 0,
               "redraw": true
              },
              "fromcurrent": true,
              "mode": "immediate",
              "transition": {
               "duration": 0,
               "easing": "linear"
              }
             }
            ],
            "label": "1976",
            "method": "animate"
           },
           {
            "args": [
             [
              "1980"
             ],
             {
              "frame": {
               "duration": 0,
               "redraw": true
              },
              "fromcurrent": true,
              "mode": "immediate",
              "transition": {
               "duration": 0,
               "easing": "linear"
              }
             }
            ],
            "label": "1980",
            "method": "animate"
           },
           {
            "args": [
             [
              "1984"
             ],
             {
              "frame": {
               "duration": 0,
               "redraw": true
              },
              "fromcurrent": true,
              "mode": "immediate",
              "transition": {
               "duration": 0,
               "easing": "linear"
              }
             }
            ],
            "label": "1984",
            "method": "animate"
           },
           {
            "args": [
             [
              "1988"
             ],
             {
              "frame": {
               "duration": 0,
               "redraw": true
              },
              "fromcurrent": true,
              "mode": "immediate",
              "transition": {
               "duration": 0,
               "easing": "linear"
              }
             }
            ],
            "label": "1988",
            "method": "animate"
           },
           {
            "args": [
             [
              "1992"
             ],
             {
              "frame": {
               "duration": 0,
               "redraw": true
              },
              "fromcurrent": true,
              "mode": "immediate",
              "transition": {
               "duration": 0,
               "easing": "linear"
              }
             }
            ],
            "label": "1992",
            "method": "animate"
           },
           {
            "args": [
             [
              "1994"
             ],
             {
              "frame": {
               "duration": 0,
               "redraw": true
              },
              "fromcurrent": true,
              "mode": "immediate",
              "transition": {
               "duration": 0,
               "easing": "linear"
              }
             }
            ],
            "label": "1994",
            "method": "animate"
           },
           {
            "args": [
             [
              "1996"
             ],
             {
              "frame": {
               "duration": 0,
               "redraw": true
              },
              "fromcurrent": true,
              "mode": "immediate",
              "transition": {
               "duration": 0,
               "easing": "linear"
              }
             }
            ],
            "label": "1996",
            "method": "animate"
           },
           {
            "args": [
             [
              "1998"
             ],
             {
              "frame": {
               "duration": 0,
               "redraw": true
              },
              "fromcurrent": true,
              "mode": "immediate",
              "transition": {
               "duration": 0,
               "easing": "linear"
              }
             }
            ],
            "label": "1998",
            "method": "animate"
           },
           {
            "args": [
             [
              "2000"
             ],
             {
              "frame": {
               "duration": 0,
               "redraw": true
              },
              "fromcurrent": true,
              "mode": "immediate",
              "transition": {
               "duration": 0,
               "easing": "linear"
              }
             }
            ],
            "label": "2000",
            "method": "animate"
           },
           {
            "args": [
             [
              "2002"
             ],
             {
              "frame": {
               "duration": 0,
               "redraw": true
              },
              "fromcurrent": true,
              "mode": "immediate",
              "transition": {
               "duration": 0,
               "easing": "linear"
              }
             }
            ],
            "label": "2002",
            "method": "animate"
           },
           {
            "args": [
             [
              "2004"
             ],
             {
              "frame": {
               "duration": 0,
               "redraw": true
              },
              "fromcurrent": true,
              "mode": "immediate",
              "transition": {
               "duration": 0,
               "easing": "linear"
              }
             }
            ],
            "label": "2004",
            "method": "animate"
           },
           {
            "args": [
             [
              "2006"
             ],
             {
              "frame": {
               "duration": 0,
               "redraw": true
              },
              "fromcurrent": true,
              "mode": "immediate",
              "transition": {
               "duration": 0,
               "easing": "linear"
              }
             }
            ],
            "label": "2006",
            "method": "animate"
           },
           {
            "args": [
             [
              "2008"
             ],
             {
              "frame": {
               "duration": 0,
               "redraw": true
              },
              "fromcurrent": true,
              "mode": "immediate",
              "transition": {
               "duration": 0,
               "easing": "linear"
              }
             }
            ],
            "label": "2008",
            "method": "animate"
           },
           {
            "args": [
             [
              "2010"
             ],
             {
              "frame": {
               "duration": 0,
               "redraw": true
              },
              "fromcurrent": true,
              "mode": "immediate",
              "transition": {
               "duration": 0,
               "easing": "linear"
              }
             }
            ],
            "label": "2010",
            "method": "animate"
           },
           {
            "args": [
             [
              "2012"
             ],
             {
              "frame": {
               "duration": 0,
               "redraw": true
              },
              "fromcurrent": true,
              "mode": "immediate",
              "transition": {
               "duration": 0,
               "easing": "linear"
              }
             }
            ],
            "label": "2012",
            "method": "animate"
           },
           {
            "args": [
             [
              "2014"
             ],
             {
              "frame": {
               "duration": 0,
               "redraw": true
              },
              "fromcurrent": true,
              "mode": "immediate",
              "transition": {
               "duration": 0,
               "easing": "linear"
              }
             }
            ],
            "label": "2014",
            "method": "animate"
           },
           {
            "args": [
             [
              "2016"
             ],
             {
              "frame": {
               "duration": 0,
               "redraw": true
              },
              "fromcurrent": true,
              "mode": "immediate",
              "transition": {
               "duration": 0,
               "easing": "linear"
              }
             }
            ],
            "label": "2016",
            "method": "animate"
           },
           {
            "args": [
             [
              "2018"
             ],
             {
              "frame": {
               "duration": 0,
               "redraw": true
              },
              "fromcurrent": true,
              "mode": "immediate",
              "transition": {
               "duration": 0,
               "easing": "linear"
              }
             }
            ],
            "label": "2018",
            "method": "animate"
           },
           {
            "args": [
             [
              "2020"
             ],
             {
              "frame": {
               "duration": 0,
               "redraw": true
              },
              "fromcurrent": true,
              "mode": "immediate",
              "transition": {
               "duration": 0,
               "easing": "linear"
              }
             }
            ],
            "label": "2020",
            "method": "animate"
           },
           {
            "args": [
             [
              "2022"
             ],
             {
              "frame": {
               "duration": 0,
               "redraw": true
              },
              "fromcurrent": true,
              "mode": "immediate",
              "transition": {
               "duration": 0,
               "easing": "linear"
              }
             }
            ],
            "label": "2022",
            "method": "animate"
           }
          ],
          "x": 0.1,
          "xanchor": "left",
          "y": 0,
          "yanchor": "top"
         }
        ],
        "template": {
         "data": {
          "bar": [
           {
            "error_x": {
             "color": "#2a3f5f"
            },
            "error_y": {
             "color": "#2a3f5f"
            },
            "marker": {
             "line": {
              "color": "#E5ECF6",
              "width": 0.5
             },
             "pattern": {
              "fillmode": "overlay",
              "size": 10,
              "solidity": 0.2
             }
            },
            "type": "bar"
           }
          ],
          "barpolar": [
           {
            "marker": {
             "line": {
              "color": "#E5ECF6",
              "width": 0.5
             },
             "pattern": {
              "fillmode": "overlay",
              "size": 10,
              "solidity": 0.2
             }
            },
            "type": "barpolar"
           }
          ],
          "carpet": [
           {
            "aaxis": {
             "endlinecolor": "#2a3f5f",
             "gridcolor": "white",
             "linecolor": "white",
             "minorgridcolor": "white",
             "startlinecolor": "#2a3f5f"
            },
            "baxis": {
             "endlinecolor": "#2a3f5f",
             "gridcolor": "white",
             "linecolor": "white",
             "minorgridcolor": "white",
             "startlinecolor": "#2a3f5f"
            },
            "type": "carpet"
           }
          ],
          "choropleth": [
           {
            "colorbar": {
             "outlinewidth": 0,
             "ticks": ""
            },
            "type": "choropleth"
           }
          ],
          "contour": [
           {
            "colorbar": {
             "outlinewidth": 0,
             "ticks": ""
            },
            "colorscale": [
             [
              0,
              "#0d0887"
             ],
             [
              0.1111111111111111,
              "#46039f"
             ],
             [
              0.2222222222222222,
              "#7201a8"
             ],
             [
              0.3333333333333333,
              "#9c179e"
             ],
             [
              0.4444444444444444,
              "#bd3786"
             ],
             [
              0.5555555555555556,
              "#d8576b"
             ],
             [
              0.6666666666666666,
              "#ed7953"
             ],
             [
              0.7777777777777778,
              "#fb9f3a"
             ],
             [
              0.8888888888888888,
              "#fdca26"
             ],
             [
              1,
              "#f0f921"
             ]
            ],
            "type": "contour"
           }
          ],
          "contourcarpet": [
           {
            "colorbar": {
             "outlinewidth": 0,
             "ticks": ""
            },
            "type": "contourcarpet"
           }
          ],
          "heatmap": [
           {
            "colorbar": {
             "outlinewidth": 0,
             "ticks": ""
            },
            "colorscale": [
             [
              0,
              "#0d0887"
             ],
             [
              0.1111111111111111,
              "#46039f"
             ],
             [
              0.2222222222222222,
              "#7201a8"
             ],
             [
              0.3333333333333333,
              "#9c179e"
             ],
             [
              0.4444444444444444,
              "#bd3786"
             ],
             [
              0.5555555555555556,
              "#d8576b"
             ],
             [
              0.6666666666666666,
              "#ed7953"
             ],
             [
              0.7777777777777778,
              "#fb9f3a"
             ],
             [
              0.8888888888888888,
              "#fdca26"
             ],
             [
              1,
              "#f0f921"
             ]
            ],
            "type": "heatmap"
           }
          ],
          "heatmapgl": [
           {
            "colorbar": {
             "outlinewidth": 0,
             "ticks": ""
            },
            "colorscale": [
             [
              0,
              "#0d0887"
             ],
             [
              0.1111111111111111,
              "#46039f"
             ],
             [
              0.2222222222222222,
              "#7201a8"
             ],
             [
              0.3333333333333333,
              "#9c179e"
             ],
             [
              0.4444444444444444,
              "#bd3786"
             ],
             [
              0.5555555555555556,
              "#d8576b"
             ],
             [
              0.6666666666666666,
              "#ed7953"
             ],
             [
              0.7777777777777778,
              "#fb9f3a"
             ],
             [
              0.8888888888888888,
              "#fdca26"
             ],
             [
              1,
              "#f0f921"
             ]
            ],
            "type": "heatmapgl"
           }
          ],
          "histogram": [
           {
            "marker": {
             "pattern": {
              "fillmode": "overlay",
              "size": 10,
              "solidity": 0.2
             }
            },
            "type": "histogram"
           }
          ],
          "histogram2d": [
           {
            "colorbar": {
             "outlinewidth": 0,
             "ticks": ""
            },
            "colorscale": [
             [
              0,
              "#0d0887"
             ],
             [
              0.1111111111111111,
              "#46039f"
             ],
             [
              0.2222222222222222,
              "#7201a8"
             ],
             [
              0.3333333333333333,
              "#9c179e"
             ],
             [
              0.4444444444444444,
              "#bd3786"
             ],
             [
              0.5555555555555556,
              "#d8576b"
             ],
             [
              0.6666666666666666,
              "#ed7953"
             ],
             [
              0.7777777777777778,
              "#fb9f3a"
             ],
             [
              0.8888888888888888,
              "#fdca26"
             ],
             [
              1,
              "#f0f921"
             ]
            ],
            "type": "histogram2d"
           }
          ],
          "histogram2dcontour": [
           {
            "colorbar": {
             "outlinewidth": 0,
             "ticks": ""
            },
            "colorscale": [
             [
              0,
              "#0d0887"
             ],
             [
              0.1111111111111111,
              "#46039f"
             ],
             [
              0.2222222222222222,
              "#7201a8"
             ],
             [
              0.3333333333333333,
              "#9c179e"
             ],
             [
              0.4444444444444444,
              "#bd3786"
             ],
             [
              0.5555555555555556,
              "#d8576b"
             ],
             [
              0.6666666666666666,
              "#ed7953"
             ],
             [
              0.7777777777777778,
              "#fb9f3a"
             ],
             [
              0.8888888888888888,
              "#fdca26"
             ],
             [
              1,
              "#f0f921"
             ]
            ],
            "type": "histogram2dcontour"
           }
          ],
          "mesh3d": [
           {
            "colorbar": {
             "outlinewidth": 0,
             "ticks": ""
            },
            "type": "mesh3d"
           }
          ],
          "parcoords": [
           {
            "line": {
             "colorbar": {
              "outlinewidth": 0,
              "ticks": ""
             }
            },
            "type": "parcoords"
           }
          ],
          "pie": [
           {
            "automargin": true,
            "type": "pie"
           }
          ],
          "scatter": [
           {
            "fillpattern": {
             "fillmode": "overlay",
             "size": 10,
             "solidity": 0.2
            },
            "type": "scatter"
           }
          ],
          "scatter3d": [
           {
            "line": {
             "colorbar": {
              "outlinewidth": 0,
              "ticks": ""
             }
            },
            "marker": {
             "colorbar": {
              "outlinewidth": 0,
              "ticks": ""
             }
            },
            "type": "scatter3d"
           }
          ],
          "scattercarpet": [
           {
            "marker": {
             "colorbar": {
              "outlinewidth": 0,
              "ticks": ""
             }
            },
            "type": "scattercarpet"
           }
          ],
          "scattergeo": [
           {
            "marker": {
             "colorbar": {
              "outlinewidth": 0,
              "ticks": ""
             }
            },
            "type": "scattergeo"
           }
          ],
          "scattergl": [
           {
            "marker": {
             "colorbar": {
              "outlinewidth": 0,
              "ticks": ""
             }
            },
            "type": "scattergl"
           }
          ],
          "scattermapbox": [
           {
            "marker": {
             "colorbar": {
              "outlinewidth": 0,
              "ticks": ""
             }
            },
            "type": "scattermapbox"
           }
          ],
          "scatterpolar": [
           {
            "marker": {
             "colorbar": {
              "outlinewidth": 0,
              "ticks": ""
             }
            },
            "type": "scatterpolar"
           }
          ],
          "scatterpolargl": [
           {
            "marker": {
             "colorbar": {
              "outlinewidth": 0,
              "ticks": ""
             }
            },
            "type": "scatterpolargl"
           }
          ],
          "scatterternary": [
           {
            "marker": {
             "colorbar": {
              "outlinewidth": 0,
              "ticks": ""
             }
            },
            "type": "scatterternary"
           }
          ],
          "surface": [
           {
            "colorbar": {
             "outlinewidth": 0,
             "ticks": ""
            },
            "colorscale": [
             [
              0,
              "#0d0887"
             ],
             [
              0.1111111111111111,
              "#46039f"
             ],
             [
              0.2222222222222222,
              "#7201a8"
             ],
             [
              0.3333333333333333,
              "#9c179e"
             ],
             [
              0.4444444444444444,
              "#bd3786"
             ],
             [
              0.5555555555555556,
              "#d8576b"
             ],
             [
              0.6666666666666666,
              "#ed7953"
             ],
             [
              0.7777777777777778,
              "#fb9f3a"
             ],
             [
              0.8888888888888888,
              "#fdca26"
             ],
             [
              1,
              "#f0f921"
             ]
            ],
            "type": "surface"
           }
          ],
          "table": [
           {
            "cells": {
             "fill": {
              "color": "#EBF0F8"
             },
             "line": {
              "color": "white"
             }
            },
            "header": {
             "fill": {
              "color": "#C8D4E3"
             },
             "line": {
              "color": "white"
             }
            },
            "type": "table"
           }
          ]
         },
         "layout": {
          "annotationdefaults": {
           "arrowcolor": "#2a3f5f",
           "arrowhead": 0,
           "arrowwidth": 1
          },
          "autotypenumbers": "strict",
          "coloraxis": {
           "colorbar": {
            "outlinewidth": 0,
            "ticks": ""
           }
          },
          "colorscale": {
           "diverging": [
            [
             0,
             "#8e0152"
            ],
            [
             0.1,
             "#c51b7d"
            ],
            [
             0.2,
             "#de77ae"
            ],
            [
             0.3,
             "#f1b6da"
            ],
            [
             0.4,
             "#fde0ef"
            ],
            [
             0.5,
             "#f7f7f7"
            ],
            [
             0.6,
             "#e6f5d0"
            ],
            [
             0.7,
             "#b8e186"
            ],
            [
             0.8,
             "#7fbc41"
            ],
            [
             0.9,
             "#4d9221"
            ],
            [
             1,
             "#276419"
            ]
           ],
           "sequential": [
            [
             0,
             "#0d0887"
            ],
            [
             0.1111111111111111,
             "#46039f"
            ],
            [
             0.2222222222222222,
             "#7201a8"
            ],
            [
             0.3333333333333333,
             "#9c179e"
            ],
            [
             0.4444444444444444,
             "#bd3786"
            ],
            [
             0.5555555555555556,
             "#d8576b"
            ],
            [
             0.6666666666666666,
             "#ed7953"
            ],
            [
             0.7777777777777778,
             "#fb9f3a"
            ],
            [
             0.8888888888888888,
             "#fdca26"
            ],
            [
             1,
             "#f0f921"
            ]
           ],
           "sequentialminus": [
            [
             0,
             "#0d0887"
            ],
            [
             0.1111111111111111,
             "#46039f"
            ],
            [
             0.2222222222222222,
             "#7201a8"
            ],
            [
             0.3333333333333333,
             "#9c179e"
            ],
            [
             0.4444444444444444,
             "#bd3786"
            ],
            [
             0.5555555555555556,
             "#d8576b"
            ],
            [
             0.6666666666666666,
             "#ed7953"
            ],
            [
             0.7777777777777778,
             "#fb9f3a"
            ],
            [
             0.8888888888888888,
             "#fdca26"
            ],
            [
             1,
             "#f0f921"
            ]
           ]
          },
          "colorway": [
           "#636efa",
           "#EF553B",
           "#00cc96",
           "#ab63fa",
           "#FFA15A",
           "#19d3f3",
           "#FF6692",
           "#B6E880",
           "#FF97FF",
           "#FECB52"
          ],
          "font": {
           "color": "#2a3f5f"
          },
          "geo": {
           "bgcolor": "white",
           "lakecolor": "white",
           "landcolor": "#E5ECF6",
           "showlakes": true,
           "showland": true,
           "subunitcolor": "white"
          },
          "hoverlabel": {
           "align": "left"
          },
          "hovermode": "closest",
          "mapbox": {
           "style": "light"
          },
          "paper_bgcolor": "white",
          "plot_bgcolor": "#E5ECF6",
          "polar": {
           "angularaxis": {
            "gridcolor": "white",
            "linecolor": "white",
            "ticks": ""
           },
           "bgcolor": "#E5ECF6",
           "radialaxis": {
            "gridcolor": "white",
            "linecolor": "white",
            "ticks": ""
           }
          },
          "scene": {
           "xaxis": {
            "backgroundcolor": "#E5ECF6",
            "gridcolor": "white",
            "gridwidth": 2,
            "linecolor": "white",
            "showbackground": true,
            "ticks": "",
            "zerolinecolor": "white"
           },
           "yaxis": {
            "backgroundcolor": "#E5ECF6",
            "gridcolor": "white",
            "gridwidth": 2,
            "linecolor": "white",
            "showbackground": true,
            "ticks": "",
            "zerolinecolor": "white"
           },
           "zaxis": {
            "backgroundcolor": "#E5ECF6",
            "gridcolor": "white",
            "gridwidth": 2,
            "linecolor": "white",
            "showbackground": true,
            "ticks": "",
            "zerolinecolor": "white"
           }
          },
          "shapedefaults": {
           "line": {
            "color": "#2a3f5f"
           }
          },
          "ternary": {
           "aaxis": {
            "gridcolor": "white",
            "linecolor": "white",
            "ticks": ""
           },
           "baxis": {
            "gridcolor": "white",
            "linecolor": "white",
            "ticks": ""
           },
           "bgcolor": "#E5ECF6",
           "caxis": {
            "gridcolor": "white",
            "linecolor": "white",
            "ticks": ""
           }
          },
          "title": {
           "x": 0.05
          },
          "xaxis": {
           "automargin": true,
           "gridcolor": "white",
           "linecolor": "white",
           "ticks": "",
           "title": {
            "standoff": 15
           },
           "zerolinecolor": "white",
           "zerolinewidth": 2
          },
          "yaxis": {
           "automargin": true,
           "gridcolor": "white",
           "linecolor": "white",
           "ticks": "",
           "title": {
            "standoff": 15
           },
           "zerolinecolor": "white",
           "zerolinewidth": 2
          }
         }
        },
        "title": {
         "text": "Olympics Medal timelapse"
        },
        "updatemenus": [
         {
          "buttons": [
           {
            "args": [
             null,
             {
              "frame": {
               "duration": 500,
               "redraw": true
              },
              "fromcurrent": true,
              "mode": "immediate",
              "transition": {
               "duration": 500,
               "easing": "linear"
              }
             }
            ],
            "label": "&#9654;",
            "method": "animate"
           },
           {
            "args": [
             [
              null
             ],
             {
              "frame": {
               "duration": 0,
               "redraw": true
              },
              "fromcurrent": true,
              "mode": "immediate",
              "transition": {
               "duration": 0,
               "easing": "linear"
              }
             }
            ],
            "label": "&#9724;",
            "method": "animate"
           }
          ],
          "direction": "left",
          "pad": {
           "r": 10,
           "t": 70
          },
          "showactive": false,
          "type": "buttons",
          "x": 0.1,
          "xanchor": "right",
          "y": 0,
          "yanchor": "top"
         }
        ],
        "width": 1500
       }
      },
      "text/html": [
       "<div>                            <div id=\"efbaab81-6875-441c-8bbe-3d902f05ed94\" class=\"plotly-graph-div\" style=\"height:1200px; width:1500px;\"></div>            <script type=\"text/javascript\">                require([\"plotly\"], function(Plotly) {                    window.PLOTLYENV=window.PLOTLYENV || {};                                    if (document.getElementById(\"efbaab81-6875-441c-8bbe-3d902f05ed94\")) {                    Plotly.newPlot(                        \"efbaab81-6875-441c-8bbe-3d902f05ed94\",                        [{\"coloraxis\":\"coloraxis\",\"customdata\":[[1],[3],[3],[3],[3],[3],[3],[3],[2],[2],[3]],\"geo\":\"geo\",\"hovertemplate\":\"date=1896\\u003cbr\\u003ecountry_name=%{location}\\u003cbr\\u003esum_of_medals=%{z}\\u003cextra\\u003e\\u003c\\u002fextra\\u003e\",\"locationmode\":\"country names\",\"locations\":[\"Australia\",\"Austria\",\"Denmark\",\"France\",\"Germany\",\"Great Britain\",\"Greece\",\"Hungary\",\"MIX\",\"Switzerland\",\"United States of America\"],\"name\":\"\",\"z\":[1,3,3,3,3,3,3,3,2,2,3],\"type\":\"choropleth\"}],                        {\"template\":{\"data\":{\"histogram2dcontour\":[{\"type\":\"histogram2dcontour\",\"colorbar\":{\"outlinewidth\":0,\"ticks\":\"\"},\"colorscale\":[[0.0,\"#0d0887\"],[0.1111111111111111,\"#46039f\"],[0.2222222222222222,\"#7201a8\"],[0.3333333333333333,\"#9c179e\"],[0.4444444444444444,\"#bd3786\"],[0.5555555555555556,\"#d8576b\"],[0.6666666666666666,\"#ed7953\"],[0.7777777777777778,\"#fb9f3a\"],[0.8888888888888888,\"#fdca26\"],[1.0,\"#f0f921\"]]}],\"choropleth\":[{\"type\":\"choropleth\",\"colorbar\":{\"outlinewidth\":0,\"ticks\":\"\"}}],\"histogram2d\":[{\"type\":\"histogram2d\",\"colorbar\":{\"outlinewidth\":0,\"ticks\":\"\"},\"colorscale\":[[0.0,\"#0d0887\"],[0.1111111111111111,\"#46039f\"],[0.2222222222222222,\"#7201a8\"],[0.3333333333333333,\"#9c179e\"],[0.4444444444444444,\"#bd3786\"],[0.5555555555555556,\"#d8576b\"],[0.6666666666666666,\"#ed7953\"],[0.7777777777777778,\"#fb9f3a\"],[0.8888888888888888,\"#fdca26\"],[1.0,\"#f0f921\"]]}],\"heatmap\":[{\"type\":\"heatmap\",\"colorbar\":{\"outlinewidth\":0,\"ticks\":\"\"},\"colorscale\":[[0.0,\"#0d0887\"],[0.1111111111111111,\"#46039f\"],[0.2222222222222222,\"#7201a8\"],[0.3333333333333333,\"#9c179e\"],[0.4444444444444444,\"#bd3786\"],[0.5555555555555556,\"#d8576b\"],[0.6666666666666666,\"#ed7953\"],[0.7777777777777778,\"#fb9f3a\"],[0.8888888888888888,\"#fdca26\"],[1.0,\"#f0f921\"]]}],\"heatmapgl\":[{\"type\":\"heatmapgl\",\"colorbar\":{\"outlinewidth\":0,\"ticks\":\"\"},\"colorscale\":[[0.0,\"#0d0887\"],[0.1111111111111111,\"#46039f\"],[0.2222222222222222,\"#7201a8\"],[0.3333333333333333,\"#9c179e\"],[0.4444444444444444,\"#bd3786\"],[0.5555555555555556,\"#d8576b\"],[0.6666666666666666,\"#ed7953\"],[0.7777777777777778,\"#fb9f3a\"],[0.8888888888888888,\"#fdca26\"],[1.0,\"#f0f921\"]]}],\"contourcarpet\":[{\"type\":\"contourcarpet\",\"colorbar\":{\"outlinewidth\":0,\"ticks\":\"\"}}],\"contour\":[{\"type\":\"contour\",\"colorbar\":{\"outlinewidth\":0,\"ticks\":\"\"},\"colorscale\":[[0.0,\"#0d0887\"],[0.1111111111111111,\"#46039f\"],[0.2222222222222222,\"#7201a8\"],[0.3333333333333333,\"#9c179e\"],[0.4444444444444444,\"#bd3786\"],[0.5555555555555556,\"#d8576b\"],[0.6666666666666666,\"#ed7953\"],[0.7777777777777778,\"#fb9f3a\"],[0.8888888888888888,\"#fdca26\"],[1.0,\"#f0f921\"]]}],\"surface\":[{\"type\":\"surface\",\"colorbar\":{\"outlinewidth\":0,\"ticks\":\"\"},\"colorscale\":[[0.0,\"#0d0887\"],[0.1111111111111111,\"#46039f\"],[0.2222222222222222,\"#7201a8\"],[0.3333333333333333,\"#9c179e\"],[0.4444444444444444,\"#bd3786\"],[0.5555555555555556,\"#d8576b\"],[0.6666666666666666,\"#ed7953\"],[0.7777777777777778,\"#fb9f3a\"],[0.8888888888888888,\"#fdca26\"],[1.0,\"#f0f921\"]]}],\"mesh3d\":[{\"type\":\"mesh3d\",\"colorbar\":{\"outlinewidth\":0,\"ticks\":\"\"}}],\"scatter\":[{\"fillpattern\":{\"fillmode\":\"overlay\",\"size\":10,\"solidity\":0.2},\"type\":\"scatter\"}],\"parcoords\":[{\"type\":\"parcoords\",\"line\":{\"colorbar\":{\"outlinewidth\":0,\"ticks\":\"\"}}}],\"scatterpolargl\":[{\"type\":\"scatterpolargl\",\"marker\":{\"colorbar\":{\"outlinewidth\":0,\"ticks\":\"\"}}}],\"bar\":[{\"error_x\":{\"color\":\"#2a3f5f\"},\"error_y\":{\"color\":\"#2a3f5f\"},\"marker\":{\"line\":{\"color\":\"#E5ECF6\",\"width\":0.5},\"pattern\":{\"fillmode\":\"overlay\",\"size\":10,\"solidity\":0.2}},\"type\":\"bar\"}],\"scattergeo\":[{\"type\":\"scattergeo\",\"marker\":{\"colorbar\":{\"outlinewidth\":0,\"ticks\":\"\"}}}],\"scatterpolar\":[{\"type\":\"scatterpolar\",\"marker\":{\"colorbar\":{\"outlinewidth\":0,\"ticks\":\"\"}}}],\"histogram\":[{\"marker\":{\"pattern\":{\"fillmode\":\"overlay\",\"size\":10,\"solidity\":0.2}},\"type\":\"histogram\"}],\"scattergl\":[{\"type\":\"scattergl\",\"marker\":{\"colorbar\":{\"outlinewidth\":0,\"ticks\":\"\"}}}],\"scatter3d\":[{\"type\":\"scatter3d\",\"line\":{\"colorbar\":{\"outlinewidth\":0,\"ticks\":\"\"}},\"marker\":{\"colorbar\":{\"outlinewidth\":0,\"ticks\":\"\"}}}],\"scattermapbox\":[{\"type\":\"scattermapbox\",\"marker\":{\"colorbar\":{\"outlinewidth\":0,\"ticks\":\"\"}}}],\"scatterternary\":[{\"type\":\"scatterternary\",\"marker\":{\"colorbar\":{\"outlinewidth\":0,\"ticks\":\"\"}}}],\"scattercarpet\":[{\"type\":\"scattercarpet\",\"marker\":{\"colorbar\":{\"outlinewidth\":0,\"ticks\":\"\"}}}],\"carpet\":[{\"aaxis\":{\"endlinecolor\":\"#2a3f5f\",\"gridcolor\":\"white\",\"linecolor\":\"white\",\"minorgridcolor\":\"white\",\"startlinecolor\":\"#2a3f5f\"},\"baxis\":{\"endlinecolor\":\"#2a3f5f\",\"gridcolor\":\"white\",\"linecolor\":\"white\",\"minorgridcolor\":\"white\",\"startlinecolor\":\"#2a3f5f\"},\"type\":\"carpet\"}],\"table\":[{\"cells\":{\"fill\":{\"color\":\"#EBF0F8\"},\"line\":{\"color\":\"white\"}},\"header\":{\"fill\":{\"color\":\"#C8D4E3\"},\"line\":{\"color\":\"white\"}},\"type\":\"table\"}],\"barpolar\":[{\"marker\":{\"line\":{\"color\":\"#E5ECF6\",\"width\":0.5},\"pattern\":{\"fillmode\":\"overlay\",\"size\":10,\"solidity\":0.2}},\"type\":\"barpolar\"}],\"pie\":[{\"automargin\":true,\"type\":\"pie\"}]},\"layout\":{\"autotypenumbers\":\"strict\",\"colorway\":[\"#636efa\",\"#EF553B\",\"#00cc96\",\"#ab63fa\",\"#FFA15A\",\"#19d3f3\",\"#FF6692\",\"#B6E880\",\"#FF97FF\",\"#FECB52\"],\"font\":{\"color\":\"#2a3f5f\"},\"hovermode\":\"closest\",\"hoverlabel\":{\"align\":\"left\"},\"paper_bgcolor\":\"white\",\"plot_bgcolor\":\"#E5ECF6\",\"polar\":{\"bgcolor\":\"#E5ECF6\",\"angularaxis\":{\"gridcolor\":\"white\",\"linecolor\":\"white\",\"ticks\":\"\"},\"radialaxis\":{\"gridcolor\":\"white\",\"linecolor\":\"white\",\"ticks\":\"\"}},\"ternary\":{\"bgcolor\":\"#E5ECF6\",\"aaxis\":{\"gridcolor\":\"white\",\"linecolor\":\"white\",\"ticks\":\"\"},\"baxis\":{\"gridcolor\":\"white\",\"linecolor\":\"white\",\"ticks\":\"\"},\"caxis\":{\"gridcolor\":\"white\",\"linecolor\":\"white\",\"ticks\":\"\"}},\"coloraxis\":{\"colorbar\":{\"outlinewidth\":0,\"ticks\":\"\"}},\"colorscale\":{\"sequential\":[[0.0,\"#0d0887\"],[0.1111111111111111,\"#46039f\"],[0.2222222222222222,\"#7201a8\"],[0.3333333333333333,\"#9c179e\"],[0.4444444444444444,\"#bd3786\"],[0.5555555555555556,\"#d8576b\"],[0.6666666666666666,\"#ed7953\"],[0.7777777777777778,\"#fb9f3a\"],[0.8888888888888888,\"#fdca26\"],[1.0,\"#f0f921\"]],\"sequentialminus\":[[0.0,\"#0d0887\"],[0.1111111111111111,\"#46039f\"],[0.2222222222222222,\"#7201a8\"],[0.3333333333333333,\"#9c179e\"],[0.4444444444444444,\"#bd3786\"],[0.5555555555555556,\"#d8576b\"],[0.6666666666666666,\"#ed7953\"],[0.7777777777777778,\"#fb9f3a\"],[0.8888888888888888,\"#fdca26\"],[1.0,\"#f0f921\"]],\"diverging\":[[0,\"#8e0152\"],[0.1,\"#c51b7d\"],[0.2,\"#de77ae\"],[0.3,\"#f1b6da\"],[0.4,\"#fde0ef\"],[0.5,\"#f7f7f7\"],[0.6,\"#e6f5d0\"],[0.7,\"#b8e186\"],[0.8,\"#7fbc41\"],[0.9,\"#4d9221\"],[1,\"#276419\"]]},\"xaxis\":{\"gridcolor\":\"white\",\"linecolor\":\"white\",\"ticks\":\"\",\"title\":{\"standoff\":15},\"zerolinecolor\":\"white\",\"automargin\":true,\"zerolinewidth\":2},\"yaxis\":{\"gridcolor\":\"white\",\"linecolor\":\"white\",\"ticks\":\"\",\"title\":{\"standoff\":15},\"zerolinecolor\":\"white\",\"automargin\":true,\"zerolinewidth\":2},\"scene\":{\"xaxis\":{\"backgroundcolor\":\"#E5ECF6\",\"gridcolor\":\"white\",\"linecolor\":\"white\",\"showbackground\":true,\"ticks\":\"\",\"zerolinecolor\":\"white\",\"gridwidth\":2},\"yaxis\":{\"backgroundcolor\":\"#E5ECF6\",\"gridcolor\":\"white\",\"linecolor\":\"white\",\"showbackground\":true,\"ticks\":\"\",\"zerolinecolor\":\"white\",\"gridwidth\":2},\"zaxis\":{\"backgroundcolor\":\"#E5ECF6\",\"gridcolor\":\"white\",\"linecolor\":\"white\",\"showbackground\":true,\"ticks\":\"\",\"zerolinecolor\":\"white\",\"gridwidth\":2}},\"shapedefaults\":{\"line\":{\"color\":\"#2a3f5f\"}},\"annotationdefaults\":{\"arrowcolor\":\"#2a3f5f\",\"arrowhead\":0,\"arrowwidth\":1},\"geo\":{\"bgcolor\":\"white\",\"landcolor\":\"#E5ECF6\",\"subunitcolor\":\"white\",\"showland\":true,\"showlakes\":true,\"lakecolor\":\"white\"},\"title\":{\"x\":0.05},\"mapbox\":{\"style\":\"light\"}}},\"geo\":{\"domain\":{\"x\":[0.0,1.0],\"y\":[0.0,1.0]},\"center\":{}},\"coloraxis\":{\"colorbar\":{\"title\":{\"text\":\"sum_of_medals\"}},\"colorscale\":[[0.0,\"rgb(210, 251, 212)\"],[0.16666666666666666,\"rgb(165, 219, 194)\"],[0.3333333333333333,\"rgb(123, 188, 176)\"],[0.5,\"rgb(85, 156, 158)\"],[0.6666666666666666,\"rgb(58, 124, 137)\"],[0.8333333333333334,\"rgb(35, 93, 114)\"],[1.0,\"rgb(18, 63, 90)\"]]},\"legend\":{\"tracegroupgap\":0},\"title\":{\"text\":\"Olympics Medal timelapse\"},\"height\":1200,\"width\":1500,\"updatemenus\":[{\"buttons\":[{\"args\":[null,{\"frame\":{\"duration\":500,\"redraw\":true},\"mode\":\"immediate\",\"fromcurrent\":true,\"transition\":{\"duration\":500,\"easing\":\"linear\"}}],\"label\":\"&#9654;\",\"method\":\"animate\"},{\"args\":[[null],{\"frame\":{\"duration\":0,\"redraw\":true},\"mode\":\"immediate\",\"fromcurrent\":true,\"transition\":{\"duration\":0,\"easing\":\"linear\"}}],\"label\":\"&#9724;\",\"method\":\"animate\"}],\"direction\":\"left\",\"pad\":{\"r\":10,\"t\":70},\"showactive\":false,\"type\":\"buttons\",\"x\":0.1,\"xanchor\":\"right\",\"y\":0,\"yanchor\":\"top\"}],\"sliders\":[{\"active\":0,\"currentvalue\":{\"prefix\":\"date=\"},\"len\":0.9,\"pad\":{\"b\":10,\"t\":60},\"steps\":[{\"args\":[[\"1896\"],{\"frame\":{\"duration\":0,\"redraw\":true},\"mode\":\"immediate\",\"fromcurrent\":true,\"transition\":{\"duration\":0,\"easing\":\"linear\"}}],\"label\":\"1896\",\"method\":\"animate\"},{\"args\":[[\"1900\"],{\"frame\":{\"duration\":0,\"redraw\":true},\"mode\":\"immediate\",\"fromcurrent\":true,\"transition\":{\"duration\":0,\"easing\":\"linear\"}}],\"label\":\"1900\",\"method\":\"animate\"},{\"args\":[[\"1904\"],{\"frame\":{\"duration\":0,\"redraw\":true},\"mode\":\"immediate\",\"fromcurrent\":true,\"transition\":{\"duration\":0,\"easing\":\"linear\"}}],\"label\":\"1904\",\"method\":\"animate\"},{\"args\":[[\"1908\"],{\"frame\":{\"duration\":0,\"redraw\":true},\"mode\":\"immediate\",\"fromcurrent\":true,\"transition\":{\"duration\":0,\"easing\":\"linear\"}}],\"label\":\"1908\",\"method\":\"animate\"},{\"args\":[[\"1912\"],{\"frame\":{\"duration\":0,\"redraw\":true},\"mode\":\"immediate\",\"fromcurrent\":true,\"transition\":{\"duration\":0,\"easing\":\"linear\"}}],\"label\":\"1912\",\"method\":\"animate\"},{\"args\":[[\"1920\"],{\"frame\":{\"duration\":0,\"redraw\":true},\"mode\":\"immediate\",\"fromcurrent\":true,\"transition\":{\"duration\":0,\"easing\":\"linear\"}}],\"label\":\"1920\",\"method\":\"animate\"},{\"args\":[[\"1924\"],{\"frame\":{\"duration\":0,\"redraw\":true},\"mode\":\"immediate\",\"fromcurrent\":true,\"transition\":{\"duration\":0,\"easing\":\"linear\"}}],\"label\":\"1924\",\"method\":\"animate\"},{\"args\":[[\"1928\"],{\"frame\":{\"duration\":0,\"redraw\":true},\"mode\":\"immediate\",\"fromcurrent\":true,\"transition\":{\"duration\":0,\"easing\":\"linear\"}}],\"label\":\"1928\",\"method\":\"animate\"},{\"args\":[[\"1932\"],{\"frame\":{\"duration\":0,\"redraw\":true},\"mode\":\"immediate\",\"fromcurrent\":true,\"transition\":{\"duration\":0,\"easing\":\"linear\"}}],\"label\":\"1932\",\"method\":\"animate\"},{\"args\":[[\"1936\"],{\"frame\":{\"duration\":0,\"redraw\":true},\"mode\":\"immediate\",\"fromcurrent\":true,\"transition\":{\"duration\":0,\"easing\":\"linear\"}}],\"label\":\"1936\",\"method\":\"animate\"},{\"args\":[[\"1948\"],{\"frame\":{\"duration\":0,\"redraw\":true},\"mode\":\"immediate\",\"fromcurrent\":true,\"transition\":{\"duration\":0,\"easing\":\"linear\"}}],\"label\":\"1948\",\"method\":\"animate\"},{\"args\":[[\"1952\"],{\"frame\":{\"duration\":0,\"redraw\":true},\"mode\":\"immediate\",\"fromcurrent\":true,\"transition\":{\"duration\":0,\"easing\":\"linear\"}}],\"label\":\"1952\",\"method\":\"animate\"},{\"args\":[[\"1956\"],{\"frame\":{\"duration\":0,\"redraw\":true},\"mode\":\"immediate\",\"fromcurrent\":true,\"transition\":{\"duration\":0,\"easing\":\"linear\"}}],\"label\":\"1956\",\"method\":\"animate\"},{\"args\":[[\"1960\"],{\"frame\":{\"duration\":0,\"redraw\":true},\"mode\":\"immediate\",\"fromcurrent\":true,\"transition\":{\"duration\":0,\"easing\":\"linear\"}}],\"label\":\"1960\",\"method\":\"animate\"},{\"args\":[[\"1964\"],{\"frame\":{\"duration\":0,\"redraw\":true},\"mode\":\"immediate\",\"fromcurrent\":true,\"transition\":{\"duration\":0,\"easing\":\"linear\"}}],\"label\":\"1964\",\"method\":\"animate\"},{\"args\":[[\"1968\"],{\"frame\":{\"duration\":0,\"redraw\":true},\"mode\":\"immediate\",\"fromcurrent\":true,\"transition\":{\"duration\":0,\"easing\":\"linear\"}}],\"label\":\"1968\",\"method\":\"animate\"},{\"args\":[[\"1972\"],{\"frame\":{\"duration\":0,\"redraw\":true},\"mode\":\"immediate\",\"fromcurrent\":true,\"transition\":{\"duration\":0,\"easing\":\"linear\"}}],\"label\":\"1972\",\"method\":\"animate\"},{\"args\":[[\"1976\"],{\"frame\":{\"duration\":0,\"redraw\":true},\"mode\":\"immediate\",\"fromcurrent\":true,\"transition\":{\"duration\":0,\"easing\":\"linear\"}}],\"label\":\"1976\",\"method\":\"animate\"},{\"args\":[[\"1980\"],{\"frame\":{\"duration\":0,\"redraw\":true},\"mode\":\"immediate\",\"fromcurrent\":true,\"transition\":{\"duration\":0,\"easing\":\"linear\"}}],\"label\":\"1980\",\"method\":\"animate\"},{\"args\":[[\"1984\"],{\"frame\":{\"duration\":0,\"redraw\":true},\"mode\":\"immediate\",\"fromcurrent\":true,\"transition\":{\"duration\":0,\"easing\":\"linear\"}}],\"label\":\"1984\",\"method\":\"animate\"},{\"args\":[[\"1988\"],{\"frame\":{\"duration\":0,\"redraw\":true},\"mode\":\"immediate\",\"fromcurrent\":true,\"transition\":{\"duration\":0,\"easing\":\"linear\"}}],\"label\":\"1988\",\"method\":\"animate\"},{\"args\":[[\"1992\"],{\"frame\":{\"duration\":0,\"redraw\":true},\"mode\":\"immediate\",\"fromcurrent\":true,\"transition\":{\"duration\":0,\"easing\":\"linear\"}}],\"label\":\"1992\",\"method\":\"animate\"},{\"args\":[[\"1994\"],{\"frame\":{\"duration\":0,\"redraw\":true},\"mode\":\"immediate\",\"fromcurrent\":true,\"transition\":{\"duration\":0,\"easing\":\"linear\"}}],\"label\":\"1994\",\"method\":\"animate\"},{\"args\":[[\"1996\"],{\"frame\":{\"duration\":0,\"redraw\":true},\"mode\":\"immediate\",\"fromcurrent\":true,\"transition\":{\"duration\":0,\"easing\":\"linear\"}}],\"label\":\"1996\",\"method\":\"animate\"},{\"args\":[[\"1998\"],{\"frame\":{\"duration\":0,\"redraw\":true},\"mode\":\"immediate\",\"fromcurrent\":true,\"transition\":{\"duration\":0,\"easing\":\"linear\"}}],\"label\":\"1998\",\"method\":\"animate\"},{\"args\":[[\"2000\"],{\"frame\":{\"duration\":0,\"redraw\":true},\"mode\":\"immediate\",\"fromcurrent\":true,\"transition\":{\"duration\":0,\"easing\":\"linear\"}}],\"label\":\"2000\",\"method\":\"animate\"},{\"args\":[[\"2002\"],{\"frame\":{\"duration\":0,\"redraw\":true},\"mode\":\"immediate\",\"fromcurrent\":true,\"transition\":{\"duration\":0,\"easing\":\"linear\"}}],\"label\":\"2002\",\"method\":\"animate\"},{\"args\":[[\"2004\"],{\"frame\":{\"duration\":0,\"redraw\":true},\"mode\":\"immediate\",\"fromcurrent\":true,\"transition\":{\"duration\":0,\"easing\":\"linear\"}}],\"label\":\"2004\",\"method\":\"animate\"},{\"args\":[[\"2006\"],{\"frame\":{\"duration\":0,\"redraw\":true},\"mode\":\"immediate\",\"fromcurrent\":true,\"transition\":{\"duration\":0,\"easing\":\"linear\"}}],\"label\":\"2006\",\"method\":\"animate\"},{\"args\":[[\"2008\"],{\"frame\":{\"duration\":0,\"redraw\":true},\"mode\":\"immediate\",\"fromcurrent\":true,\"transition\":{\"duration\":0,\"easing\":\"linear\"}}],\"label\":\"2008\",\"method\":\"animate\"},{\"args\":[[\"2010\"],{\"frame\":{\"duration\":0,\"redraw\":true},\"mode\":\"immediate\",\"fromcurrent\":true,\"transition\":{\"duration\":0,\"easing\":\"linear\"}}],\"label\":\"2010\",\"method\":\"animate\"},{\"args\":[[\"2012\"],{\"frame\":{\"duration\":0,\"redraw\":true},\"mode\":\"immediate\",\"fromcurrent\":true,\"transition\":{\"duration\":0,\"easing\":\"linear\"}}],\"label\":\"2012\",\"method\":\"animate\"},{\"args\":[[\"2014\"],{\"frame\":{\"duration\":0,\"redraw\":true},\"mode\":\"immediate\",\"fromcurrent\":true,\"transition\":{\"duration\":0,\"easing\":\"linear\"}}],\"label\":\"2014\",\"method\":\"animate\"},{\"args\":[[\"2016\"],{\"frame\":{\"duration\":0,\"redraw\":true},\"mode\":\"immediate\",\"fromcurrent\":true,\"transition\":{\"duration\":0,\"easing\":\"linear\"}}],\"label\":\"2016\",\"method\":\"animate\"},{\"args\":[[\"2018\"],{\"frame\":{\"duration\":0,\"redraw\":true},\"mode\":\"immediate\",\"fromcurrent\":true,\"transition\":{\"duration\":0,\"easing\":\"linear\"}}],\"label\":\"2018\",\"method\":\"animate\"},{\"args\":[[\"2020\"],{\"frame\":{\"duration\":0,\"redraw\":true},\"mode\":\"immediate\",\"fromcurrent\":true,\"transition\":{\"duration\":0,\"easing\":\"linear\"}}],\"label\":\"2020\",\"method\":\"animate\"},{\"args\":[[\"2022\"],{\"frame\":{\"duration\":0,\"redraw\":true},\"mode\":\"immediate\",\"fromcurrent\":true,\"transition\":{\"duration\":0,\"easing\":\"linear\"}}],\"label\":\"2022\",\"method\":\"animate\"}],\"x\":0.1,\"xanchor\":\"left\",\"y\":0,\"yanchor\":\"top\"}]},                        {\"responsive\": true}                    ).then(function(){\n",
       "                            Plotly.addFrames('efbaab81-6875-441c-8bbe-3d902f05ed94', [{\"data\":[{\"coloraxis\":\"coloraxis\",\"customdata\":[[1],[3],[3],[3],[3],[3],[3],[3],[2],[2],[3]],\"geo\":\"geo\",\"hovertemplate\":\"date=1896\\u003cbr\\u003ecountry_name=%{location}\\u003cbr\\u003esum_of_medals=%{z}\\u003cextra\\u003e\\u003c\\u002fextra\\u003e\",\"locationmode\":\"country names\",\"locations\":[\"Australia\",\"Austria\",\"Denmark\",\"France\",\"Germany\",\"Great Britain\",\"Greece\",\"Hungary\",\"MIX\",\"Switzerland\",\"United States of America\"],\"name\":\"\",\"z\":[1,3,3,3,3,3,3,3,2,2,3],\"type\":\"choropleth\"}],\"name\":\"1896\"},{\"data\":[{\"coloraxis\":\"coloraxis\",\"customdata\":[[2],[2],[3],[2],[2],[2],[3],[3],[3],[3],[3],[1],[2],[1],[3],[2],[2],[1],[1],[3],[3]],\"geo\":\"geo\",\"hovertemplate\":\"date=1900\\u003cbr\\u003ecountry_name=%{location}\\u003cbr\\u003esum_of_medals=%{z}\\u003cextra\\u003e\\u003c\\u002fextra\\u003e\",\"locationmode\":\"country names\",\"locations\":[\"Australia\",\"Austria\",\"Belgium\",\"Bohemia\",\"Canada\",\"Cuba\",\"Denmark\",\"France\",\"Germany\",\"Great Britain\",\"Hungary\",\"India\",\"Italy\",\"Luxembourg\",\"MIX\",\"Netherlands\",\"Norway\",\"Spain\",\"Sweden\",\"Switzerland\",\"United States of America\"],\"name\":\"\",\"z\":[2,2,3,2,2,2,3,3,3,3,3,1,2,1,3,2,2,1,1,3,3],\"type\":\"choropleth\"}],\"name\":\"1900\"},{\"data\":[{\"coloraxis\":\"coloraxis\",\"customdata\":[[2],[3],[3],[1],[1],[3],[2],[2],[3],[3],[1],[2],[3]],\"geo\":\"geo\",\"hovertemplate\":\"date=1904\\u003cbr\\u003ecountry_name=%{location}\\u003cbr\\u003esum_of_medals=%{z}\\u003cextra\\u003e\\u003c\\u002fextra\\u003e\",\"locationmode\":\"country names\",\"locations\":[\"Australia\",\"Austria\",\"Canada\",\"Cuba\",\"France\",\"Germany\",\"Great Britain\",\"Greece\",\"Hungary\",\"MIX\",\"Norway\",\"Switzerland\",\"United States of America\"],\"name\":\"\",\"z\":[2,3,3,1,1,3,2,2,3,3,1,2,3],\"type\":\"choropleth\"}],\"name\":\"1904\"},{\"data\":[{\"coloraxis\":\"coloraxis\",\"customdata\":[[3],[1],[3],[1],[3],[2],[3],[3],[3],[3],[2],[3],[2],[1],[3],[2],[2],[3],[3]],\"geo\":\"geo\",\"hovertemplate\":\"date=1908\\u003cbr\\u003ecountry_name=%{location}\\u003cbr\\u003esum_of_medals=%{z}\\u003cextra\\u003e\\u003c\\u002fextra\\u003e\",\"locationmode\":\"country names\",\"locations\":[\"Australasia\",\"Austria\",\"Belgium\",\"Bohemia\",\"Canada\",\"Denmark\",\"Finland\",\"France\",\"Germany\",\"Great Britain\",\"Greece\",\"Hungary\",\"Italy\",\"Netherlands\",\"Norway\",\"Russian Federation\",\"South Africa\",\"Sweden\",\"United States of America\"],\"name\":\"\",\"z\":[3,1,3,1,3,2,3,3,3,3,2,3,2,1,3,2,2,3,3],\"type\":\"choropleth\"}],\"name\":\"1908\"},{\"data\":[{\"coloraxis\":\"coloraxis\",\"customdata\":[[3],[2],[3],[3],[3],[3],[3],[3],[3],[2],[3],[3],[1],[3],[2],[2],[3],[3]],\"geo\":\"geo\",\"hovertemplate\":\"date=1912\\u003cbr\\u003ecountry_name=%{location}\\u003cbr\\u003esum_of_medals=%{z}\\u003cextra\\u003e\\u003c\\u002fextra\\u003e\",\"locationmode\":\"country names\",\"locations\":[\"Australasia\",\"Austria\",\"Belgium\",\"Canada\",\"Denmark\",\"Finland\",\"France\",\"Germany\",\"Great Britain\",\"Greece\",\"Hungary\",\"Italy\",\"Netherlands\",\"Norway\",\"Russian Federation\",\"South Africa\",\"Sweden\",\"United States of America\"],\"name\":\"\",\"z\":[3,2,3,3,3,3,3,3,3,2,3,3,1,3,2,2,3,3],\"type\":\"choropleth\"}],\"name\":\"1912\"},{\"data\":[{\"coloraxis\":\"coloraxis\",\"customdata\":[[2],[3],[3],[3],[1],[3],[2],[3],[3],[3],[1],[3],[1],[1],[3],[1],[3],[3],[1],[3],[3],[3]],\"geo\":\"geo\",\"hovertemplate\":\"date=1920\\u003cbr\\u003ecountry_name=%{location}\\u003cbr\\u003esum_of_medals=%{z}\\u003cextra\\u003e\\u003c\\u002fextra\\u003e\",\"locationmode\":\"country names\",\"locations\":[\"Australia\",\"Belgium\",\"Brazil\",\"Canada\",\"Czechoslovakia\",\"Denmark\",\"Estonia\",\"Finland\",\"France\",\"Great Britain\",\"Greece\",\"Italy\",\"Japan\",\"Luxembourg\",\"Netherlands\",\"New Zealand\",\"Norway\",\"South Africa\",\"Spain\",\"Sweden\",\"Switzerland\",\"United States of America\"],\"name\":\"\",\"z\":[2,3,3,3,1,3,2,3,3,3,1,3,1,1,3,1,3,3,1,3,3,3],\"type\":\"choropleth\"}],\"name\":\"1920\"},{\"data\":[{\"coloraxis\":\"coloraxis\",\"customdata\":[[3],[3],[3],[3],[3],[3],[3],[3],[3],[3],[3],[1],[3],[3],[1],[3],[1],[3],[2],[1],[1],[3],[3],[3],[3],[1],[1]],\"geo\":\"geo\",\"hovertemplate\":\"date=1924\\u003cbr\\u003ecountry_name=%{location}\\u003cbr\\u003esum_of_medals=%{z}\\u003cextra\\u003e\\u003c\\u002fextra\\u003e\",\"locationmode\":\"country names\",\"locations\":[\"Argentina\",\"Australia\",\"Austria\",\"Belgium\",\"Canada\",\"Czechoslovakia\",\"Denmark\",\"Estonia\",\"Finland\",\"France\",\"Great Britain\",\"Haiti\",\"Hungary\",\"Italy\",\"Japan\",\"Netherlands\",\"New Zealand\",\"Norway\",\"Poland\",\"Portugal\",\"Romania\",\"South Africa\",\"Sweden\",\"Switzerland\",\"United States of America\",\"Uruguay\",\"Yugoslavia\"],\"name\":\"\",\"z\":[3,3,3,3,3,3,3,3,3,3,3,1,3,3,1,3,1,3,2,1,1,3,3,3,3,1,1],\"type\":\"choropleth\"}],\"name\":\"1924\"},{\"data\":[{\"coloraxis\":\"coloraxis\",\"customdata\":[[3],[3],[3],[2],[3],[1],[3],[3],[3],[3],[3],[3],[3],[3],[1],[2],[1],[1],[3],[3],[3],[1],[3],[1],[3],[1],[2],[1],[3],[3],[3],[1],[3]],\"geo\":\"geo\",\"hovertemplate\":\"date=1928\\u003cbr\\u003ecountry_name=%{location}\\u003cbr\\u003esum_of_medals=%{z}\\u003cextra\\u003e\\u003c\\u002fextra\\u003e\",\"locationmode\":\"country names\",\"locations\":[\"Argentina\",\"Australia\",\"Austria\",\"Belgium\",\"Canada\",\"Chile\",\"Czechoslovakia\",\"Denmark\",\"Egypt\",\"Estonia\",\"Finland\",\"France\",\"Germany\",\"Great Britain\",\"Haiti\",\"Hungary\",\"India\",\"Ireland\",\"Italy\",\"Japan\",\"Netherlands\",\"New Zealand\",\"Norway\",\"Philippines\",\"Poland\",\"Portugal\",\"South Africa\",\"Spain\",\"Sweden\",\"Switzerland\",\"United States of America\",\"Uruguay\",\"Yugoslavia\"],\"name\":\"\",\"z\":[3,3,3,2,3,1,3,3,3,3,3,3,3,3,1,2,1,1,3,3,3,1,3,1,3,1,2,1,3,3,3,1,3],\"type\":\"choropleth\"}],\"name\":\"1928\"},{\"data\":[{\"coloraxis\":\"coloraxis\",\"customdata\":[[2],[3],[3],[3],[3],[2],[3],[3],[3],[3],[3],[1],[1],[3],[3],[1],[1],[2],[1],[3],[1],[3],[2],[1],[3],[1],[3],[1]],\"geo\":\"geo\",\"hovertemplate\":\"date=1932\\u003cbr\\u003ecountry_name=%{location}\\u003cbr\\u003esum_of_medals=%{z}\\u003cextra\\u003e\\u003c\\u002fextra\\u003e\",\"locationmode\":\"country names\",\"locations\":[\"Argentina\",\"Australia\",\"Austria\",\"Canada\",\"Czechoslovakia\",\"Denmark\",\"Finland\",\"France\",\"Germany\",\"Great Britain\",\"Hungary\",\"India\",\"Ireland\",\"Italy\",\"Japan\",\"Latvia\",\"Mexico\",\"Netherlands\",\"New Zealand\",\"Norway\",\"Philippines\",\"Poland\",\"South Africa\",\"Spain\",\"Sweden\",\"Switzerland\",\"United States of America\",\"Uruguay\"],\"name\":\"\",\"z\":[2,3,3,3,3,2,3,3,3,3,3,1,1,3,3,1,1,2,1,3,1,3,2,1,3,1,3,1],\"type\":\"choropleth\"}],\"name\":\"1932\"},{\"data\":[{\"coloraxis\":\"coloraxis\",\"customdata\":[[3],[1],[3],[1],[3],[2],[2],[3],[3],[3],[3],[3],[3],[3],[1],[3],[3],[2],[1],[3],[1],[3],[1],[2],[1],[1],[1],[3],[3],[2],[3],[1]],\"geo\":\"geo\",\"hovertemplate\":\"date=1936\\u003cbr\\u003ecountry_name=%{location}\\u003cbr\\u003esum_of_medals=%{z}\\u003cextra\\u003e\\u003c\\u002fextra\\u003e\",\"locationmode\":\"country names\",\"locations\":[\"Argentina\",\"Australia\",\"Austria\",\"Belgium\",\"Canada\",\"Czechoslovakia\",\"Denmark\",\"Egypt\",\"Estonia\",\"Finland\",\"France\",\"Germany\",\"Great Britain\",\"Hungary\",\"India\",\"Italy\",\"Japan\",\"Latvia\",\"Mexico\",\"Netherlands\",\"New Zealand\",\"Norway\",\"Philippines\",\"Poland\",\"Portugal\",\"Romania\",\"South Africa\",\"Sweden\",\"Switzerland\",\"Turkey\",\"United States of America\",\"Yugoslavia\"],\"name\":\"\",\"z\":[3,1,3,1,3,2,2,3,3,3,3,3,3,3,1,3,3,2,1,3,1,3,1,2,1,1,1,3,3,2,3,1],\"type\":\"choropleth\"}],\"name\":\"1936\"},{\"data\":[{\"coloraxis\":\"coloraxis\",\"customdata\":[[3],[3],[3],[3],[1],[3],[1],[3],[3],[3],[3],[3],[3],[3],[1],[1],[3],[2],[3],[3],[3],[1],[1],[1],[2],[1],[1],[3],[1],[1],[3],[3],[1],[3],[3],[2],[1]],\"geo\":\"geo\",\"hovertemplate\":\"date=1948\\u003cbr\\u003ecountry_name=%{location}\\u003cbr\\u003esum_of_medals=%{z}\\u003cextra\\u003e\\u003c\\u002fextra\\u003e\",\"locationmode\":\"country names\",\"locations\":[\"Argentina\",\"Australia\",\"Austria\",\"Belgium\",\"Brazil\",\"Canada\",\"Cuba\",\"Czechoslovakia\",\"Denmark\",\"Egypt\",\"Finland\",\"France\",\"Great Britain\",\"Hungary\",\"India\",\"Islamic Republic of Iran\",\"Italy\",\"Jamaica\",\"Mexico\",\"Netherlands\",\"Norway\",\"Panama\",\"Peru\",\"Poland\",\"Portugal\",\"Puerto Rico\",\"Republic of Korea\",\"South Africa\",\"Spain\",\"Sri Lanka\",\"Sweden\",\"Switzerland\",\"Trinidad and Tobago\",\"Turkey\",\"United States of America\",\"Uruguay\",\"Yugoslavia\"],\"name\":\"\",\"z\":[3,3,3,3,1,3,1,3,3,3,3,3,3,3,1,1,3,2,3,3,3,1,1,1,2,1,1,3,1,1,3,3,1,3,3,2,1],\"type\":\"choropleth\"}],\"name\":\"1948\"},{\"data\":[{\"coloraxis\":\"coloraxis\",\"customdata\":[[3],[3],[3],[2],[2],[1],[3],[1],[3],[3],[1],[3],[3],[3],[3],[3],[2],[1],[2],[3],[2],[3],[2],[1],[1],[1],[2],[3],[3],[1],[1],[3],[3],[3],[1],[3],[3],[1],[2],[3],[1],[1],[2]],\"geo\":\"geo\",\"hovertemplate\":\"date=1952\\u003cbr\\u003ecountry_name=%{location}\\u003cbr\\u003esum_of_medals=%{z}\\u003cextra\\u003e\\u003c\\u002fextra\\u003e\",\"locationmode\":\"country names\",\"locations\":[\"Argentina\",\"Australia\",\"Austria\",\"Belgium\",\"Brazil\",\"Bulgaria\",\"Canada\",\"Chile\",\"Czechoslovakia\",\"Denmark\",\"Egypt\",\"Finland\",\"France\",\"Germany\",\"Great Britain\",\"Hungary\",\"India\",\"Ireland\",\"Islamic Republic of Iran\",\"Italy\",\"Jamaica\",\"Japan\",\"Lebanon\",\"Luxembourg\",\"Mexico\",\"Netherlands\",\"New Zealand\",\"Norway\",\"Poland\",\"Portugal\",\"Republic of Korea\",\"Romania\",\"South Africa\",\"Soviet Union\",\"Spain\",\"Sweden\",\"Switzerland\",\"Trinidad and Tobago\",\"Turkey\",\"United States of America\",\"Uruguay\",\"Venezuela\",\"Yugoslavia\"],\"name\":\"\",\"z\":[3,3,3,2,2,1,3,1,3,3,1,3,3,3,3,3,2,1,2,3,2,3,2,1,1,1,2,3,3,1,1,3,3,3,1,3,3,1,2,3,1,1,2],\"type\":\"choropleth\"}],\"name\":\"1952\"},{\"data\":[{\"coloraxis\":\"coloraxis\",\"customdata\":[[2],[3],[3],[1],[1],[1],[3],[3],[2],[3],[3],[3],[3],[3],[3],[1],[3],[1],[1],[3],[3],[3],[3],[2],[1],[3],[1],[3],[2],[3],[1],[3],[3],[3],[3],[3],[1],[1]],\"geo\":\"geo\",\"hovertemplate\":\"date=1956\\u003cbr\\u003ecountry_name=%{location}\\u003cbr\\u003esum_of_medals=%{z}\\u003cextra\\u003e\\u003c\\u002fextra\\u003e\",\"locationmode\":\"country names\",\"locations\":[\"Argentina\",\"Australia\",\"Austria\",\"Bahamas\",\"Belgium\",\"Brazil\",\"Bulgaria\",\"Canada\",\"Chile\",\"Czechoslovakia\",\"Denmark\",\"Finland\",\"France\",\"Germany\",\"Great Britain\",\"Greece\",\"Hungary\",\"Iceland\",\"India\",\"Ireland\",\"Islamic Republic of Iran\",\"Italy\",\"Japan\",\"Mexico\",\"New Zealand\",\"Norway\",\"Pakistan\",\"Poland\",\"Republic of Korea\",\"Romania\",\"South Africa\",\"Soviet Union\",\"Sweden\",\"Switzerland\",\"Turkey\",\"United States of America\",\"Uruguay\",\"Yugoslavia\"],\"name\":\"\",\"z\":[2,3,3,1,1,1,3,3,2,3,3,3,3,3,3,1,3,1,1,3,3,3,3,2,1,3,1,3,2,3,1,3,3,3,3,3,1,1],\"type\":\"choropleth\"}],\"name\":\"1956\"},{\"data\":[{\"coloraxis\":\"coloraxis\",\"customdata\":[[2],[3],[3],[2],[1],[3],[3],[1],[3],[3],[1],[3],[3],[3],[1],[3],[1],[3],[1],[1],[2],[3],[3],[1],[1],[2],[2],[2],[2],[3],[1],[3],[1],[2],[3],[1],[3],[3],[2],[2],[3],[1],[1],[2]],\"geo\":\"geo\",\"hovertemplate\":\"date=1960\\u003cbr\\u003ecountry_name=%{location}\\u003cbr\\u003esum_of_medals=%{z}\\u003cextra\\u003e\\u003c\\u002fextra\\u003e\",\"locationmode\":\"country names\",\"locations\":[\"Argentina\",\"Australia\",\"Austria\",\"Belgium\",\"Brazil\",\"Bulgaria\",\"Canada\",\"Chinese Taipei\",\"Czechoslovakia\",\"Denmark\",\"Ethiopia\",\"Finland\",\"France\",\"Germany\",\"Ghana\",\"Great Britain\",\"Greece\",\"Hungary\",\"India\",\"Iraq\",\"Islamic Republic of Iran\",\"Italy\",\"Japan\",\"Mexico\",\"Morocco\",\"Netherlands\",\"New Zealand\",\"Norway\",\"Pakistan\",\"Poland\",\"Portugal\",\"Romania\",\"Singapore\",\"South Africa\",\"Soviet Union\",\"Spain\",\"Sweden\",\"Switzerland\",\"Turkey\",\"United Arab Republic\",\"United States of America\",\"Venezuela\",\"West Indies Federation\",\"Yugoslavia\"],\"name\":\"\",\"z\":[2,3,3,2,1,3,3,1,3,3,1,3,3,3,1,3,1,3,1,1,2,3,3,1,1,2,2,2,2,3,1,3,1,2,3,1,3,3,2,2,3,1,1,2],\"type\":\"choropleth\"}],\"name\":\"1960\"},{\"data\":[{\"coloraxis\":\"coloraxis\",\"customdata\":[[1],[3],[3],[1],[2],[1],[3],[3],[1],[3],[1],[3],[1],[3],[3],[3],[1],[3],[3],[1],[1],[1],[3],[3],[1],[1],[3],[2],[1],[3],[1],[1],[3],[2],[3],[3],[3],[3],[2],[2],[3],[3],[1],[3]],\"geo\":\"geo\",\"hovertemplate\":\"date=1964\\u003cbr\\u003ecountry_name=%{location}\\u003cbr\\u003esum_of_medals=%{z}\\u003cextra\\u003e\\u003c\\u002fextra\\u003e\",\"locationmode\":\"country names\",\"locations\":[\"Argentina\",\"Australia\",\"Austria\",\"Bahamas\",\"Belgium\",\"Brazil\",\"Bulgaria\",\"Canada\",\"Cuba\",\"Czechoslovakia\",\"Democratic People's Republic of Korea\",\"Denmark\",\"Ethiopia\",\"Finland\",\"France\",\"Germany\",\"Ghana\",\"Great Britain\",\"Hungary\",\"India\",\"Ireland\",\"Islamic Republic of Iran\",\"Italy\",\"Japan\",\"Kenya\",\"Mexico\",\"Netherlands\",\"New Zealand\",\"Nigeria\",\"Norway\",\"Pakistan\",\"Philippines\",\"Poland\",\"Republic of Korea\",\"Romania\",\"Soviet Union\",\"Sweden\",\"Switzerland\",\"Trinidad and Tobago\",\"Tunisia\",\"Turkey\",\"United States of America\",\"Uruguay\",\"Yugoslavia\"],\"name\":\"\",\"z\":[1,3,3,1,2,1,3,3,1,3,1,3,1,3,3,3,1,3,3,1,1,1,3,3,1,1,3,2,1,3,1,1,3,2,3,3,3,3,2,2,3,3,1,3],\"type\":\"choropleth\"}],\"name\":\"1964\"},{\"data\":[{\"coloraxis\":\"coloraxis\",\"customdata\":[[1],[3],[3],[2],[2],[3],[1],[3],[1],[1],[3],[3],[2],[3],[3],[3],[3],[3],[1],[3],[1],[3],[3],[1],[3],[3],[3],[2],[3],[2],[3],[1],[3],[2],[3],[3],[3],[2],[2],[1],[2],[3],[1],[3]],\"geo\":\"geo\",\"hovertemplate\":\"date=1968\\u003cbr\\u003ecountry_name=%{location}\\u003cbr\\u003esum_of_medals=%{z}\\u003cextra\\u003e\\u003c\\u002fextra\\u003e\",\"locationmode\":\"country names\",\"locations\":[\"Argentina\",\"Australia\",\"Austria\",\"Belgium\",\"Brazil\",\"Bulgaria\",\"Cameroon\",\"Canada\",\"Chinese Taipei\",\"Cuba\",\"Czechoslovakia\",\"Denmark\",\"Ethiopia\",\"Federal Republic of Germany\",\"Finland\",\"France\",\"German Democratic Republic (Germany)\",\"Great Britain\",\"Greece\",\"Hungary\",\"India\",\"Islamic Republic of Iran\",\"Italy\",\"Jamaica\",\"Japan\",\"Kenya\",\"Mexico\",\"Mongolia\",\"Netherlands\",\"New Zealand\",\"Norway\",\"Pakistan\",\"Poland\",\"Republic of Korea\",\"Romania\",\"Soviet Union\",\"Sweden\",\"Switzerland\",\"Tunisia\",\"Turkey\",\"Uganda\",\"United States of America\",\"Venezuela\",\"Yugoslavia\"],\"name\":\"\",\"z\":[1,3,3,2,2,3,1,3,1,1,3,3,2,3,3,3,3,3,1,3,1,3,3,1,3,3,3,2,3,2,3,1,3,2,3,3,3,2,2,1,2,3,1,3],\"type\":\"choropleth\"}],\"name\":\"1968\"},{\"data\":[{\"coloraxis\":\"coloraxis\",\"customdata\":[[1],[3],[3],[1],[1],[3],[2],[2],[3],[3],[3],[1],[1],[3],[3],[3],[3],[1],[3],[1],[3],[1],[2],[3],[1],[3],[3],[1],[1],[1],[3],[3],[1],[1],[3],[1],[3],[1],[3],[3],[2],[3],[3],[1],[1],[2],[3],[3]],\"geo\":\"geo\",\"hovertemplate\":\"date=1972\\u003cbr\\u003ecountry_name=%{location}\\u003cbr\\u003esum_of_medals=%{z}\\u003cextra\\u003e\\u003c\\u002fextra\\u003e\",\"locationmode\":\"country names\",\"locations\":[\"Argentina\",\"Australia\",\"Austria\",\"Belgium\",\"Brazil\",\"Bulgaria\",\"Canada\",\"Colombia\",\"Cuba\",\"Czechoslovakia\",\"Democratic People's Republic of Korea\",\"Denmark\",\"Ethiopia\",\"Federal Republic of Germany\",\"Finland\",\"France\",\"German Democratic Republic (Germany)\",\"Ghana\",\"Great Britain\",\"Greece\",\"Hungary\",\"India\",\"Islamic Republic of Iran\",\"Italy\",\"Jamaica\",\"Japan\",\"Kenya\",\"Lebanon\",\"Mexico\",\"Mongolia\",\"Netherlands\",\"New Zealand\",\"Niger\",\"Nigeria\",\"Norway\",\"Pakistan\",\"Poland\",\"Republic of Korea\",\"Romania\",\"Soviet Union\",\"Spain\",\"Sweden\",\"Switzerland\",\"Tunisia\",\"Turkey\",\"Uganda\",\"United States of America\",\"Yugoslavia\"],\"name\":\"\",\"z\":[1,3,3,1,1,3,2,2,3,3,3,1,1,3,3,3,3,1,3,1,3,1,2,3,1,3,3,1,1,1,3,3,1,1,3,1,3,1,3,3,2,3,3,1,1,2,3,3],\"type\":\"choropleth\"}],\"name\":\"1972\"},{\"data\":[{\"coloraxis\":\"coloraxis\",\"customdata\":[[2],[3],[2],[1],[1],[3],[3],[3],[3],[2],[2],[3],[3],[3],[3],[3],[3],[2],[3],[2],[3],[1],[2],[1],[3],[3],[3],[1],[3],[1],[1],[3],[3],[3],[1],[3],[3],[1],[1],[3],[1],[3]],\"geo\":\"geo\",\"hovertemplate\":\"date=1976\\u003cbr\\u003ecountry_name=%{location}\\u003cbr\\u003esum_of_medals=%{z}\\u003cextra\\u003e\\u003c\\u002fextra\\u003e\",\"locationmode\":\"country names\",\"locations\":[\"Australia\",\"Austria\",\"Belgium\",\"Bermuda\",\"Brazil\",\"Bulgaria\",\"Canada\",\"Cuba\",\"Czechoslovakia\",\"Democratic People's Republic of Korea\",\"Denmark\",\"Federal Republic of Germany\",\"Finland\",\"France\",\"German Democratic Republic (Germany)\",\"Great Britain\",\"Hungary\",\"Islamic Republic of Iran\",\"Italy\",\"Jamaica\",\"Japan\",\"Liechtenstein\",\"Mexico\",\"Mongolia\",\"Netherlands\",\"New Zealand\",\"Norway\",\"Pakistan\",\"Poland\",\"Portugal\",\"Puerto Rico\",\"Republic of Korea\",\"Romania\",\"Soviet Union\",\"Spain\",\"Sweden\",\"Switzerland\",\"Thailand\",\"Trinidad and Tobago\",\"United States of America\",\"Venezuela\",\"Yugoslavia\"],\"name\":\"\",\"z\":[2,3,2,1,1,3,3,3,3,2,2,3,3,3,3,3,3,2,3,2,3,1,2,1,3,3,3,1,3,1,1,3,3,3,1,3,3,1,1,3,1,3],\"type\":\"choropleth\"}],\"name\":\"1976\"},{\"data\":[{\"coloraxis\":\"coloraxis\",\"customdata\":[[3],[3],[1],[2],[3],[2],[3],[3],[2],[3],[2],[2],[3],[3],[3],[3],[2],[1],[3],[1],[2],[3],[1],[1],[1],[2],[2],[2],[3],[3],[3],[3],[3],[3],[3],[3],[1],[1],[3],[1],[3],[1]],\"geo\":\"geo\",\"hovertemplate\":\"date=1980\\u003cbr\\u003ecountry_name=%{location}\\u003cbr\\u003esum_of_medals=%{z}\\u003cextra\\u003e\\u003c\\u002fextra\\u003e\",\"locationmode\":\"country names\",\"locations\":[\"Australia\",\"Austria\",\"Belgium\",\"Brazil\",\"Bulgaria\",\"Canada\",\"Cuba\",\"Czechoslovakia\",\"Democratic People's Republic of Korea\",\"Denmark\",\"Ethiopia\",\"Federal Republic of Germany\",\"Finland\",\"France\",\"German Democratic Republic (Germany)\",\"Great Britain\",\"Greece\",\"Guyana\",\"Hungary\",\"India\",\"Ireland\",\"Italy\",\"Jamaica\",\"Japan\",\"Lebanon\",\"Liechtenstein\",\"Mexico\",\"Mongolia\",\"Netherlands\",\"Norway\",\"Poland\",\"Romania\",\"Soviet Union\",\"Spain\",\"Sweden\",\"Switzerland\",\"Uganda\",\"United Republic of Tanzania\",\"United States of America\",\"Venezuela\",\"Yugoslavia\",\"Zimbabwe\"],\"name\":\"\",\"z\":[3,3,1,2,3,2,3,3,2,3,2,2,3,3,3,3,2,1,3,1,2,3,1,1,1,2,2,2,3,3,3,3,3,3,3,3,1,1,3,1,3,1],\"type\":\"choropleth\"}],\"name\":\"1980\"},{\"data\":[{\"coloraxis\":\"coloraxis\",\"customdata\":[[1],[3],[3],[3],[3],[1],[3],[1],[1],[2],[2],[1],[1],[3],[3],[3],[3],[3],[2],[1],[1],[3],[1],[2],[3],[2],[1],[3],[1],[3],[3],[2],[3],[1],[3],[1],[2],[2],[3],[3],[3],[3],[3],[3],[1],[1],[1],[3],[1],[3],[1]],\"geo\":\"geo\",\"hovertemplate\":\"date=1984\\u003cbr\\u003ecountry_name=%{location}\\u003cbr\\u003esum_of_medals=%{z}\\u003cextra\\u003e\\u003c\\u002fextra\\u003e\",\"locationmode\":\"country names\",\"locations\":[\"Algeria\",\"Australia\",\"Austria\",\"Belgium\",\"Brazil\",\"Cameroon\",\"Canada\",\"Chinese Taipei\",\"Colombia\",\"Czechoslovakia\",\"Denmark\",\"Dominican Republic\",\"Egypt\",\"Federal Republic of Germany\",\"Finland\",\"France\",\"German Democratic Republic (Germany)\",\"Great Britain\",\"Greece\",\"Iceland\",\"Ireland\",\"Italy\",\"Ivory Coast\",\"Jamaica\",\"Japan\",\"Kenya\",\"Liechtenstein\",\"Mexico\",\"Morocco\",\"Netherlands\",\"New Zealand\",\"Nigeria\",\"Norway\",\"Pakistan\",\"People's Republic of China\",\"Peru\",\"Portugal\",\"Puerto Rico\",\"Republic of Korea\",\"Romania\",\"Soviet Union\",\"Spain\",\"Sweden\",\"Switzerland\",\"Syrian Arab Republic\",\"Thailand\",\"Turkey\",\"United States of America\",\"Venezuela\",\"Yugoslavia\",\"Zambia\"],\"name\":\"\",\"z\":[1,3,3,3,3,1,3,1,1,2,2,1,1,3,3,3,3,3,2,1,1,3,1,2,3,2,1,3,1,3,3,2,3,1,3,1,2,2,3,3,3,3,3,3,1,1,1,3,1,3,1],\"type\":\"choropleth\"}],\"name\":\"1984\"},{\"data\":[{\"coloraxis\":\"coloraxis\",\"customdata\":[[2],[3],[3],[1],[3],[3],[3],[1],[1],[1],[3],[3],[1],[3],[3],[3],[3],[3],[1],[3],[1],[1],[3],[1],[3],[3],[1],[1],[1],[2],[3],[1],[3],[3],[1],[3],[1],[1],[3],[1],[3],[3],[1],[3],[3],[1],[3],[3],[1],[2],[1],[3],[3]],\"geo\":\"geo\",\"hovertemplate\":\"date=1988\\u003cbr\\u003ecountry_name=%{location}\\u003cbr\\u003esum_of_medals=%{z}\\u003cextra\\u003e\\u003c\\u002fextra\\u003e\",\"locationmode\":\"country names\",\"locations\":[\"Argentina\",\"Australia\",\"Austria\",\"Belgium\",\"Brazil\",\"Bulgaria\",\"Canada\",\"Chile\",\"Colombia\",\"Costa Rica\",\"Czechoslovakia\",\"Denmark\",\"Djibouti\",\"Federal Republic of Germany\",\"Finland\",\"France\",\"German Democratic Republic (Germany)\",\"Great Britain\",\"Greece\",\"Hungary\",\"Indonesia\",\"Islamic Republic of Iran\",\"Italy\",\"Jamaica\",\"Japan\",\"Kenya\",\"Liechtenstein\",\"Mexico\",\"Mongolia\",\"Morocco\",\"Netherlands\",\"Netherlands Antilles\",\"New Zealand\",\"Norway\",\"Pakistan\",\"People's Republic of China\",\"Peru\",\"Philippines\",\"Poland\",\"Portugal\",\"Republic of Korea\",\"Romania\",\"Senegal\",\"Soviet Union\",\"Spain\",\"Suriname\",\"Sweden\",\"Switzerland\",\"Thailand\",\"Turkey\",\"US Virgin Islands\",\"United States of America\",\"Yugoslavia\"],\"name\":\"\",\"z\":[2,3,3,1,3,3,3,1,1,1,3,3,1,3,3,3,3,3,1,3,1,1,3,1,3,3,1,1,1,2,3,1,3,3,1,3,1,1,3,1,3,3,1,3,3,1,3,3,1,2,1,3,3],\"type\":\"choropleth\"}],\"name\":\"1988\"},{\"data\":[{\"coloraxis\":\"coloraxis\",\"customdata\":[[2],[1],[3],[3],[1],[2],[2],[3],[3],[1],[1],[2],[3],[3],[2],[3],[2],[2],[3],[3],[3],[1],[3],[1],[3],[2],[3],[2],[2],[2],[3],[2],[3],[3],[2],[2],[1],[1],[1],[1],[3],[1],[3],[3],[2],[3],[1],[3],[1],[1],[3],[1],[1],[3],[3],[1],[1],[3],[1],[3],[2],[1],[3],[3],[3]],\"geo\":\"geo\",\"hovertemplate\":\"date=1992\\u003cbr\\u003ecountry_name=%{location}\\u003cbr\\u003esum_of_medals=%{z}\\u003cextra\\u003e\\u003c\\u002fextra\\u003e\",\"locationmode\":\"country names\",\"locations\":[\"Algeria\",\"Argentina\",\"Australia\",\"Austria\",\"Bahamas\",\"Belgium\",\"Brazil\",\"Bulgaria\",\"Canada\",\"Chinese Taipei\",\"Colombia\",\"Croatia\",\"Cuba\",\"Czechoslovakia\",\"Democratic People's Republic of Korea\",\"Denmark\",\"Estonia\",\"Ethiopia\",\"Finland\",\"France\",\"Germany\",\"Ghana\",\"Great Britain\",\"Greece\",\"Hungary\",\"Independent Olympic Athletes\",\"Indonesia\",\"Ireland\",\"Islamic Republic of Iran\",\"Israel\",\"Italy\",\"Jamaica\",\"Japan\",\"Kenya\",\"Latvia\",\"Lithuania\",\"Luxembourg\",\"Malaysia\",\"Mexico\",\"Mongolia\",\"Morocco\",\"Namibia\",\"Netherlands\",\"New Zealand\",\"Nigeria\",\"Norway\",\"Pakistan\",\"People's Republic of China\",\"Peru\",\"Philippines\",\"Poland\",\"Puerto Rico\",\"Qatar\",\"Republic of Korea\",\"Romania\",\"Slovenia\",\"South Africa\",\"Spain\",\"Suriname\",\"Sweden\",\"Switzerland\",\"Thailand\",\"Turkey\",\"Unified Team\",\"United States of America\"],\"name\":\"\",\"z\":[2,1,3,3,1,2,2,3,3,1,1,2,3,3,2,3,2,2,3,3,3,1,3,1,3,2,3,2,2,2,3,2,3,3,2,2,1,1,1,1,3,1,3,3,2,3,1,3,1,1,3,1,1,3,3,1,1,3,1,3,2,1,3,3,3],\"type\":\"choropleth\"}],\"name\":\"1992\"},{\"data\":[{\"coloraxis\":\"coloraxis\",\"customdata\":[[1],[3],[1],[3],[2],[2],[3],[1],[3],[3],[2],[2],[3],[2],[3],[3],[1],[2],[3],[2],[3],[1]],\"geo\":\"geo\",\"hovertemplate\":\"date=1994\\u003cbr\\u003ecountry_name=%{location}\\u003cbr\\u003esum_of_medals=%{z}\\u003cextra\\u003e\\u003c\\u002fextra\\u003e\",\"locationmode\":\"country names\",\"locations\":[\"Australia\",\"Austria\",\"Belarus\",\"Canada\",\"Finland\",\"France\",\"Germany\",\"Great Britain\",\"Italy\",\"Japan\",\"Kazakhstan\",\"Netherlands\",\"Norway\",\"People's Republic of China\",\"Republic of Korea\",\"Russian Federation\",\"Slovenia\",\"Sweden\",\"Switzerland\",\"Ukraine\",\"United States of America\",\"Uzbekistan\"],\"name\":\"\",\"z\":[1,3,1,3,2,2,3,1,3,3,2,2,3,2,3,3,1,2,3,2,3,1],\"type\":\"choropleth\"}],\"name\":\"1994\"},{\"data\":[{\"coloraxis\":\"coloraxis\",\"customdata\":[[2],[2],[2],[3],[2],[1],[1],[3],[3],[3],[3],[1],[3],[1],[1],[2],[3],[3],[3],[3],[1],[2],[3],[3],[1],[3],[3],[2],[1],[3],[1],[3],[2],[3],[1],[3],[3],[3],[3],[3],[1],[1],[2],[1],[1],[1],[1],[1],[3],[3],[3],[3],[3],[1],[3],[2],[1],[3],[2],[3],[3],[3],[3],[1],[3],[3],[3],[2],[1],[2],[1],[1],[1],[3],[1],[3],[3],[2],[1]],\"geo\":\"geo\",\"hovertemplate\":\"date=1996\\u003cbr\\u003ecountry_name=%{location}\\u003cbr\\u003esum_of_medals=%{z}\\u003cextra\\u003e\\u003c\\u002fextra\\u003e\",\"locationmode\":\"country names\",\"locations\":[\"Algeria\",\"Argentina\",\"Armenia\",\"Australia\",\"Austria\",\"Azerbaijan\",\"Bahamas\",\"Belarus\",\"Belgium\",\"Brazil\",\"Bulgaria\",\"Burundi\",\"Canada\",\"Chinese Taipei\",\"Costa Rica\",\"Croatia\",\"Cuba\",\"Czech Republic\",\"Democratic People's Republic of Korea\",\"Denmark\",\"Ecuador\",\"Ethiopia\",\"Finland\",\"France\",\"Georgia\",\"Germany\",\"Great Britain\",\"Greece\",\"Hong Kong, China\",\"Hungary\",\"India\",\"Indonesia\",\"Ireland\",\"Islamic Republic of Iran\",\"Israel\",\"Italy\",\"Jamaica\",\"Japan\",\"Kazakhstan\",\"Kenya\",\"Latvia\",\"Lithuania\",\"Malaysia\",\"Mexico\",\"Mongolia\",\"Morocco\",\"Mozambique\",\"Namibia\",\"Netherlands\",\"New Zealand\",\"Nigeria\",\"Norway\",\"People's Republic of China\",\"Philippines\",\"Poland\",\"Portugal\",\"Puerto Rico\",\"Republic of Korea\",\"Republic of Moldova\",\"Romania\",\"Russian Federation\",\"Serbia and Montenegro\",\"Slovakia\",\"Slovenia\",\"South Africa\",\"Spain\",\"Sweden\",\"Switzerland\",\"Syrian Arab Republic\",\"Thailand\",\"Tonga\",\"Trinidad and Tobago\",\"Tunisia\",\"Turkey\",\"Uganda\",\"Ukraine\",\"United States of America\",\"Uzbekistan\",\"Zambia\"],\"name\":\"\",\"z\":[2,2,2,3,2,1,1,3,3,3,3,1,3,1,1,2,3,3,3,3,1,2,3,3,1,3,3,2,1,3,1,3,2,3,1,3,3,3,3,3,1,1,2,1,1,1,1,1,3,3,3,3,3,1,3,2,1,3,2,3,3,3,3,1,3,3,3,2,1,2,1,1,1,3,1,3,3,2,1],\"type\":\"choropleth\"}],\"name\":\"1996\"},{\"data\":[{\"coloraxis\":\"coloraxis\",\"customdata\":[[1],[3],[1],[1],[1],[3],[3],[1],[3],[3],[3],[1],[3],[3],[1],[3],[3],[2],[3],[3],[2],[3],[1],[3]],\"geo\":\"geo\",\"hovertemplate\":\"date=1998\\u003cbr\\u003ecountry_name=%{location}\\u003cbr\\u003esum_of_medals=%{z}\\u003cextra\\u003e\\u003c\\u002fextra\\u003e\",\"locationmode\":\"country names\",\"locations\":[\"Australia\",\"Austria\",\"Belarus\",\"Belgium\",\"Bulgaria\",\"Canada\",\"Czech Republic\",\"Denmark\",\"Finland\",\"France\",\"Germany\",\"Great Britain\",\"Italy\",\"Japan\",\"Kazakhstan\",\"Netherlands\",\"Norway\",\"People's Republic of China\",\"Republic of Korea\",\"Russian Federation\",\"Sweden\",\"Switzerland\",\"Ukraine\",\"United States of America\"],\"name\":\"\",\"z\":[1,3,1,1,1,3,3,1,3,3,3,1,3,3,1,3,3,2,3,3,2,3,1,3],\"type\":\"choropleth\"}],\"name\":\"1998\"},{\"data\":[{\"coloraxis\":\"coloraxis\",\"customdata\":[[3],[2],[1],[3],[2],[2],[2],[1],[3],[2],[2],[3],[1],[3],[1],[2],[1],[1],[2],[3],[3],[2],[3],[2],[3],[3],[3],[1],[3],[3],[3],[3],[1],[1],[3],[1],[2],[1],[3],[2],[3],[2],[3],[1],[1],[3],[2],[3],[2],[1],[3],[2],[2],[3],[3],[3],[1],[1],[3],[2],[3],[3],[2],[3],[3],[1],[2],[3],[1],[3],[3],[2],[1],[2],[2],[3],[3],[1],[3],[1]],\"geo\":\"geo\",\"hovertemplate\":\"date=2000\\u003cbr\\u003ecountry_name=%{location}\\u003cbr\\u003esum_of_medals=%{z}\\u003cextra\\u003e\\u003c\\u002fextra\\u003e\",\"locationmode\":\"country names\",\"locations\":[\"Algeria\",\"Argentina\",\"Armenia\",\"Australia\",\"Austria\",\"Azerbaijan\",\"Bahamas\",\"Barbados\",\"Belarus\",\"Belgium\",\"Brazil\",\"Bulgaria\",\"Cameroon\",\"Canada\",\"Chile\",\"Chinese Taipei\",\"Colombia\",\"Costa Rica\",\"Croatia\",\"Cuba\",\"Czech Republic\",\"Democratic People's Republic of Korea\",\"Denmark\",\"Estonia\",\"Ethiopia\",\"Finland\",\"France\",\"Georgia\",\"Germany\",\"Great Britain\",\"Greece\",\"Hungary\",\"Iceland\",\"India\",\"Indonesia\",\"Ireland\",\"Islamic Republic of Iran\",\"Israel\",\"Italy\",\"Jamaica\",\"Japan\",\"Kazakhstan\",\"Kenya\",\"Kuwait\",\"Kyrgyzstan\",\"Latvia\",\"Lithuania\",\"Mexico\",\"Morocco\",\"Mozambique\",\"Netherlands\",\"New Zealand\",\"Nigeria\",\"Norway\",\"People's Republic of China\",\"Poland\",\"Portugal\",\"Qatar\",\"Republic of Korea\",\"Republic of Moldova\",\"Romania\",\"Russian Federation\",\"Saudi Arabia\",\"Serbia and Montenegro\",\"Slovakia\",\"Slovenia\",\"South Africa\",\"Spain\",\"Sri Lanka\",\"Sweden\",\"Switzerland\",\"Thailand\",\"The Former Yugoslav Republic of Macedonia\",\"Trinidad and Tobago\",\"Turkey\",\"Ukraine\",\"United States of America\",\"Uruguay\",\"Uzbekistan\",\"Vietnam\"],\"name\":\"\",\"z\":[3,2,1,3,2,2,2,1,3,2,2,3,1,3,1,2,1,1,2,3,3,2,3,2,3,3,3,1,3,3,3,3,1,1,3,1,2,1,3,2,3,2,3,1,1,3,2,3,2,1,3,2,2,3,3,3,1,1,3,2,3,3,2,3,3,1,2,3,1,3,3,2,1,2,2,3,3,1,3,1],\"type\":\"choropleth\"}],\"name\":\"2000\"},{\"data\":[{\"coloraxis\":\"coloraxis\",\"customdata\":[[1],[3],[1],[2],[3],[2],[2],[3],[3],[3],[3],[2],[3],[2],[2],[3],[3],[2],[2],[3],[1],[2],[3],[3]],\"geo\":\"geo\",\"hovertemplate\":\"date=2002\\u003cbr\\u003ecountry_name=%{location}\\u003cbr\\u003esum_of_medals=%{z}\\u003cextra\\u003e\\u003c\\u002fextra\\u003e\",\"locationmode\":\"country names\",\"locations\":[\"Australia\",\"Austria\",\"Belarus\",\"Bulgaria\",\"Canada\",\"Croatia\",\"Czech Republic\",\"Estonia\",\"Finland\",\"France\",\"Germany\",\"Great Britain\",\"Italy\",\"Japan\",\"Netherlands\",\"Norway\",\"People's Republic of China\",\"Poland\",\"Republic of Korea\",\"Russian Federation\",\"Slovenia\",\"Sweden\",\"Switzerland\",\"United States of America\"],\"name\":\"\",\"z\":[1,3,1,2,3,2,2,3,3,3,3,2,3,2,2,3,3,2,2,3,1,2,3,3],\"type\":\"choropleth\"}],\"name\":\"2002\"},{\"data\":[{\"coloraxis\":\"coloraxis\",\"customdata\":[[2],[3],[3],[2],[2],[3],[2],[3],[3],[1],[3],[2],[3],[1],[3],[3],[3],[2],[3],[1],[3],[1],[2],[3],[1],[3],[2],[3],[3],[3],[1],[3],[1],[3],[3],[2],[3],[3],[3],[3],[3],[1],[2],[2],[1],[2],[3],[2],[1],[2],[1],[3],[3],[2],[3],[3],[3],[1],[3],[2],[3],[3],[3],[3],[1],[3],[1],[3],[3],[1],[3],[3],[1],[3]],\"geo\":\"geo\",\"hovertemplate\":\"date=2004\\u003cbr\\u003ecountry_name=%{location}\\u003cbr\\u003esum_of_medals=%{z}\\u003cextra\\u003e\\u003c\\u002fextra\\u003e\",\"locationmode\":\"country names\",\"locations\":[\"Argentina\",\"Australia\",\"Austria\",\"Azerbaijan\",\"Bahamas\",\"Belarus\",\"Belgium\",\"Brazil\",\"Bulgaria\",\"Cameroon\",\"Canada\",\"Chile\",\"Chinese Taipei\",\"Colombia\",\"Croatia\",\"Cuba\",\"Czech Republic\",\"Democratic People's Republic of Korea\",\"Denmark\",\"Dominican Republic\",\"Egypt\",\"Eritrea\",\"Estonia\",\"Ethiopia\",\"Finland\",\"France\",\"Georgia\",\"Germany\",\"Great Britain\",\"Greece\",\"Hong Kong, China\",\"Hungary\",\"India\",\"Indonesia\",\"Islamic Republic of Iran\",\"Israel\",\"Italy\",\"Jamaica\",\"Japan\",\"Kazakhstan\",\"Kenya\",\"Latvia\",\"Lithuania\",\"Mexico\",\"Mongolia\",\"Morocco\",\"Netherlands\",\"New Zealand\",\"Nigeria\",\"Norway\",\"Paraguay\",\"People's Republic of China\",\"Poland\",\"Portugal\",\"Republic of Korea\",\"Romania\",\"Russian Federation\",\"Serbia and Montenegro\",\"Slovakia\",\"Slovenia\",\"South Africa\",\"Spain\",\"Sweden\",\"Switzerland\",\"Syrian Arab Republic\",\"Thailand\",\"Trinidad and Tobago\",\"Turkey\",\"Ukraine\",\"United Arab Emirates\",\"United States of America\",\"Uzbekistan\",\"Venezuela\",\"Zimbabwe\"],\"name\":\"\",\"z\":[2,3,3,2,2,3,2,3,3,1,3,2,3,1,3,3,3,2,3,1,3,1,2,3,1,3,2,3,3,3,1,3,1,3,3,2,3,3,3,3,3,1,2,2,1,2,3,2,1,2,1,3,3,2,3,3,3,1,3,2,3,3,3,3,1,3,1,3,3,1,3,3,1,3],\"type\":\"choropleth\"}],\"name\":\"2004\"},{\"data\":[{\"coloraxis\":\"coloraxis\",\"customdata\":[[2],[3],[1],[1],[3],[2],[3],[1],[2],[3],[3],[1],[2],[1],[1],[3],[3],[3],[2],[3],[3],[1],[3],[3],[1],[3]],\"geo\":\"geo\",\"hovertemplate\":\"date=2006\\u003cbr\\u003ecountry_name=%{location}\\u003cbr\\u003esum_of_medals=%{z}\\u003cextra\\u003e\\u003c\\u002fextra\\u003e\",\"locationmode\":\"country names\",\"locations\":[\"Australia\",\"Austria\",\"Belarus\",\"Bulgaria\",\"Canada\",\"Croatia\",\"Czech Republic\",\"Estonia\",\"Finland\",\"France\",\"Germany\",\"Great Britain\",\"Italy\",\"Japan\",\"Latvia\",\"Netherlands\",\"Norway\",\"People's Republic of China\",\"Poland\",\"Republic of Korea\",\"Russian Federation\",\"Slovakia\",\"Sweden\",\"Switzerland\",\"Ukraine\",\"United States of America\"],\"name\":\"\",\"z\":[2,3,1,1,3,2,3,1,2,3,3,1,2,1,1,3,3,3,2,3,3,1,3,3,1,3],\"type\":\"choropleth\"}],\"name\":\"2006\"},{\"data\":[{\"coloraxis\":\"coloraxis\",\"customdata\":[[1],[2],[2],[2],[3],[2],[3],[2],[3],[1],[3],[3],[1],[3],[1],[3],[2],[2],[3],[3],[3],[3],[2],[1],[1],[2],[3],[3],[3],[3],[3],[3],[2],[3],[1],[2],[3],[2],[2],[1],[3],[3],[3],[3],[3],[2],[3],[2],[1],[1],[2],[2],[2],[3],[3],[2],[3],[1],[3],[3],[2],[3],[1],[3],[3],[1],[2],[1],[2],[3],[1],[3],[1],[2],[3],[2],[3],[1],[2],[1],[3],[3],[3],[2],[1],[1],[2]],\"geo\":\"geo\",\"hovertemplate\":\"date=2008\\u003cbr\\u003ecountry_name=%{location}\\u003cbr\\u003esum_of_medals=%{z}\\u003cextra\\u003e\\u003c\\u002fextra\\u003e\",\"locationmode\":\"country names\",\"locations\":[\"Afghanistan\",\"Algeria\",\"Argentina\",\"Armenia\",\"Australia\",\"Austria\",\"Azerbaijan\",\"Bahamas\",\"Belarus\",\"Belgium\",\"Brazil\",\"Bulgaria\",\"Cameroon\",\"Canada\",\"Chile\",\"Chinese Taipei\",\"Colombia\",\"Croatia\",\"Cuba\",\"Czech Republic\",\"Democratic People's Republic of Korea\",\"Denmark\",\"Dominican Republic\",\"Ecuador\",\"Egypt\",\"Estonia\",\"Ethiopia\",\"Finland\",\"France\",\"Georgia\",\"Germany\",\"Great Britain\",\"Greece\",\"Hungary\",\"Iceland\",\"India\",\"Indonesia\",\"Ireland\",\"Islamic Republic of Iran\",\"Israel\",\"Italy\",\"Jamaica\",\"Japan\",\"Kazakhstan\",\"Kenya\",\"Kyrgyzstan\",\"Latvia\",\"Lithuania\",\"Malaysia\",\"Mauritius\",\"Mexico\",\"Mongolia\",\"Morocco\",\"Netherlands\",\"New Zealand\",\"Nigeria\",\"Norway\",\"Panama\",\"People's Republic of China\",\"Poland\",\"Portugal\",\"Republic of Korea\",\"Republic of Moldova\",\"Romania\",\"Russian Federation\",\"Samoa\",\"Serbia\",\"Singapore\",\"Slovakia\",\"Slovenia\",\"South Africa\",\"Spain\",\"Sudan\",\"Sweden\",\"Switzerland\",\"Tajikistan\",\"Thailand\",\"Togo\",\"Trinidad and Tobago\",\"Tunisia\",\"Turkey\",\"Ukraine\",\"United States of America\",\"Uzbekistan\",\"Venezuela\",\"Vietnam\",\"Zimbabwe\"],\"name\":\"\",\"z\":[1,2,2,2,3,2,3,2,3,1,3,3,1,3,1,3,2,2,3,3,3,3,2,1,1,2,3,3,3,3,3,3,2,3,1,2,3,2,2,1,3,3,3,3,3,2,3,2,1,1,2,2,2,3,3,2,3,1,3,3,2,3,1,3,3,1,2,1,2,3,1,3,1,2,3,2,3,1,2,1,3,3,3,2,1,1,2],\"type\":\"choropleth\"}],\"name\":\"2008\"},{\"data\":[{\"coloraxis\":\"coloraxis\",\"customdata\":[[2],[3],[3],[3],[2],[2],[1],[2],[3],[3],[1],[3],[2],[1],[1],[3],[3],[3],[3],[3],[3],[3],[2],[3],[2],[3]],\"geo\":\"geo\",\"hovertemplate\":\"date=2010\\u003cbr\\u003ecountry_name=%{location}\\u003cbr\\u003esum_of_medals=%{z}\\u003cextra\\u003e\\u003c\\u002fextra\\u003e\",\"locationmode\":\"country names\",\"locations\":[\"Australia\",\"Austria\",\"Belarus\",\"Canada\",\"Croatia\",\"Czech Republic\",\"Estonia\",\"Finland\",\"France\",\"Germany\",\"Great Britain\",\"Italy\",\"Japan\",\"Kazakhstan\",\"Latvia\",\"Netherlands\",\"Norway\",\"People's Republic of China\",\"Poland\",\"Republic of Korea\",\"Russian Federation\",\"Slovakia\",\"Slovenia\",\"Sweden\",\"Switzerland\",\"United States of America\"],\"name\":\"\",\"z\":[2,3,3,3,2,2,1,2,3,3,1,3,2,1,1,3,3,3,3,3,3,3,2,3,2,3],\"type\":\"choropleth\"}],\"name\":\"2010\"},{\"data\":[{\"coloraxis\":\"coloraxis\",\"customdata\":[[1],[1],[3],[2],[3],[3],[1],[1],[3],[2],[1],[3],[2],[1],[3],[2],[3],[3],[3],[1],[3],[2],[3],[2],[2],[2],[3],[2],[3],[1],[3],[3],[3],[1],[1],[1],[1],[3],[2],[2],[3],[3],[3],[3],[3],[3],[3],[1],[2],[2],[2],[3],[2],[1],[1],[3],[3],[3],[3],[3],[1],[2],[1],[3],[3],[3],[1],[3],[1],[2],[3],[3],[3],[3],[2],[1],[2],[3],[2],[3],[1],[3],[3],[1],[1]],\"geo\":\"geo\",\"hovertemplate\":\"date=2012\\u003cbr\\u003ecountry_name=%{location}\\u003cbr\\u003esum_of_medals=%{z}\\u003cextra\\u003e\\u003c\\u002fextra\\u003e\",\"locationmode\":\"country names\",\"locations\":[\"Afghanistan\",\"Algeria\",\"Argentina\",\"Armenia\",\"Australia\",\"Azerbaijan\",\"Bahamas\",\"Bahrain\",\"Belarus\",\"Belgium\",\"Botswana\",\"Brazil\",\"Bulgaria\",\"Cameroon\",\"Canada\",\"Chinese Taipei\",\"Colombia\",\"Croatia\",\"Cuba\",\"Cyprus\",\"Czech Republic\",\"Democratic People's Republic of Korea\",\"Denmark\",\"Dominican Republic\",\"Egypt\",\"Estonia\",\"Ethiopia\",\"Finland\",\"France\",\"Gabon\",\"Georgia\",\"Germany\",\"Great Britain\",\"Greece\",\"Grenada\",\"Guatemala\",\"Hong Kong, China\",\"Hungary\",\"India\",\"Indonesia\",\"Ireland\",\"Islamic Republic of Iran\",\"Italy\",\"Jamaica\",\"Japan\",\"Kazakhstan\",\"Kenya\",\"Kuwait\",\"Latvia\",\"Lithuania\",\"Malaysia\",\"Mexico\",\"Mongolia\",\"Montenegro\",\"Morocco\",\"Netherlands\",\"New Zealand\",\"Norway\",\"People's Republic of China\",\"Poland\",\"Portugal\",\"Puerto Rico\",\"Qatar\",\"Republic of Korea\",\"Romania\",\"Russian Federation\",\"Saudi Arabia\",\"Serbia\",\"Singapore\",\"Slovakia\",\"Slovenia\",\"South Africa\",\"Spain\",\"Sweden\",\"Switzerland\",\"Tajikistan\",\"Thailand\",\"Trinidad and Tobago\",\"Tunisia\",\"Turkey\",\"Uganda\",\"Ukraine\",\"United States of America\",\"Uzbekistan\",\"Venezuela\"],\"name\":\"\",\"z\":[1,1,3,2,3,3,1,1,3,2,1,3,2,1,3,2,3,3,3,1,3,2,3,2,2,2,3,2,3,1,3,3,3,1,1,1,1,3,2,2,3,3,3,3,3,3,3,1,2,2,2,3,2,1,1,3,3,3,3,3,1,2,1,3,3,3,1,3,1,2,3,3,3,3,2,1,2,3,2,3,1,3,3,1,1],\"type\":\"choropleth\"}],\"name\":\"2012\"},{\"data\":[{\"coloraxis\":\"coloraxis\",\"customdata\":[[2],[3],[2],[3],[1],[3],[3],[3],[3],[3],[2],[3],[1],[3],[3],[3],[3],[3],[3],[3],[1],[3],[3],[3],[2],[3]],\"geo\":\"geo\",\"hovertemplate\":\"date=2014\\u003cbr\\u003ecountry_name=%{location}\\u003cbr\\u003esum_of_medals=%{z}\\u003cextra\\u003e\\u003c\\u002fextra\\u003e\",\"locationmode\":\"country names\",\"locations\":[\"Australia\",\"Austria\",\"Belarus\",\"Canada\",\"Croatia\",\"Czech Republic\",\"Finland\",\"France\",\"Germany\",\"Great Britain\",\"Italy\",\"Japan\",\"Kazakhstan\",\"Latvia\",\"Netherlands\",\"Norway\",\"People's Republic of China\",\"Poland\",\"Republic of Korea\",\"Russian Federation\",\"Slovakia\",\"Slovenia\",\"Sweden\",\"Switzerland\",\"Ukraine\",\"United States of America\"],\"name\":\"\",\"z\":[2,3,2,3,1,3,3,3,3,3,2,3,1,3,3,3,3,3,3,3,1,3,3,3,2,3],\"type\":\"choropleth\"}],\"name\":\"2014\"},{\"data\":[{\"coloraxis\":\"coloraxis\",\"customdata\":[[1],[2],[2],[3],[1],[3],[2],[2],[3],[3],[3],[2],[1],[3],[2],[3],[3],[3],[3],[3],[3],[1],[1],[1],[3],[1],[1],[3],[3],[3],[3],[3],[1],[3],[2],[2],[2],[1],[3],[1],[3],[2],[3],[3],[1],[3],[3],[1],[2],[2],[2],[2],[1],[3],[3],[1],[1],[1],[3],[1],[3],[1],[1],[1],[3],[3],[3],[3],[1],[2],[3],[3],[3],[3],[3],[1],[3],[1],[1],[3],[3],[1],[3],[3],[2],[2]],\"geo\":\"geo\",\"hovertemplate\":\"date=2016\\u003cbr\\u003ecountry_name=%{location}\\u003cbr\\u003esum_of_medals=%{z}\\u003cextra\\u003e\\u003c\\u002fextra\\u003e\",\"locationmode\":\"country names\",\"locations\":[\"Algeria\",\"Argentina\",\"Armenia\",\"Australia\",\"Austria\",\"Azerbaijan\",\"Bahamas\",\"Bahrain\",\"Belarus\",\"Belgium\",\"Brazil\",\"Bulgaria\",\"Burundi\",\"Canada\",\"Chinese Taipei\",\"Colombia\",\"Croatia\",\"Cuba\",\"Czech Republic\",\"Democratic People's Republic of Korea\",\"Denmark\",\"Dominican Republic\",\"Egypt\",\"Estonia\",\"Ethiopia\",\"Fiji\",\"Finland\",\"France\",\"Georgia\",\"Germany\",\"Great Britain\",\"Greece\",\"Grenada\",\"Hungary\",\"Independent Olympic Athletes\",\"India\",\"Indonesia\",\"Ireland\",\"Islamic Republic of Iran\",\"Israel\",\"Italy\",\"Ivory Coast\",\"Jamaica\",\"Japan\",\"Jordan\",\"Kazakhstan\",\"Kenya\",\"Kosovo\",\"Lithuania\",\"Malaysia\",\"Mexico\",\"Mongolia\",\"Morocco\",\"Netherlands\",\"New Zealand\",\"Niger\",\"Nigeria\",\"Norway\",\"People's Republic of China\",\"Philippines\",\"Poland\",\"Portugal\",\"Puerto Rico\",\"Qatar\",\"Republic of Korea\",\"Romania\",\"Russian Federation\",\"Serbia\",\"Singapore\",\"Slovakia\",\"Slovenia\",\"South Africa\",\"Spain\",\"Sweden\",\"Switzerland\",\"Tajikistan\",\"Thailand\",\"Trinidad and Tobago\",\"Tunisia\",\"Turkey\",\"Ukraine\",\"United Arab Emirates\",\"United States of America\",\"Uzbekistan\",\"Venezuela\",\"Vietnam\"],\"name\":\"\",\"z\":[1,2,2,3,1,3,2,2,3,3,3,2,1,3,2,3,3,3,3,3,3,1,1,1,3,1,1,3,3,3,3,3,1,3,2,2,2,1,3,1,3,2,3,3,1,3,3,1,2,2,2,2,1,3,3,1,1,1,3,1,3,1,1,1,3,3,3,3,1,2,3,3,3,3,3,1,3,1,1,3,3,1,3,3,2,2],\"type\":\"choropleth\"}],\"name\":\"2016\"},{\"data\":[{\"coloraxis\":\"coloraxis\",\"customdata\":[[2],[3],[2],[1],[3],[3],[3],[3],[3],[2],[1],[3],[3],[1],[1],[1],[3],[1],[3],[3],[3],[2],[3],[2],[2],[1],[3],[3],[1],[3]],\"geo\":\"geo\",\"hovertemplate\":\"date=2018\\u003cbr\\u003ecountry_name=%{location}\\u003cbr\\u003esum_of_medals=%{z}\\u003cextra\\u003e\\u003c\\u002fextra\\u003e\",\"locationmode\":\"country names\",\"locations\":[\"Australia\",\"Austria\",\"Belarus\",\"Belgium\",\"Canada\",\"Czech Republic\",\"Finland\",\"France\",\"Germany\",\"Great Britain\",\"Hungary\",\"Italy\",\"Japan\",\"Kazakhstan\",\"Latvia\",\"Liechtenstein\",\"Netherlands\",\"New Zealand\",\"Norway\",\"Olympic Athletes from Russia\",\"People's Republic of China\",\"Poland\",\"Republic of Korea\",\"Slovakia\",\"Slovenia\",\"Spain\",\"Sweden\",\"Switzerland\",\"Ukraine\",\"United States of America\"],\"name\":\"\",\"z\":[2,3,2,1,3,3,3,3,3,2,1,3,3,1,1,1,3,1,3,3,3,2,3,2,2,1,3,3,1,3],\"type\":\"choropleth\"}],\"name\":\"2018\"},{\"data\":[{\"coloraxis\":\"coloraxis\",\"customdata\":[[2],[2],[3],[3],[2],[1],[1],[3],[3],[1],[1],[3],[3],[1],[3],[3],[2],[3],[3],[3],[1],[3],[2],[2],[3],[2],[3],[2],[1],[3],[3],[3],[1],[3],[3],[1],[3],[3],[3],[3],[2],[3],[2],[3],[3],[3],[2],[1],[3],[1],[1],[2],[2],[1],[2],[1],[2],[1],[1],[3],[3],[2],[1],[3],[3],[3],[3],[3],[1],[2],[3],[3],[1],[2],[2],[1],[3],[3],[3],[2],[3],[2],[3],[1],[2],[2],[3],[1],[3],[3],[3],[2],[2]],\"geo\":\"geo\",\"hovertemplate\":\"date=2020\\u003cbr\\u003ecountry_name=%{location}\\u003cbr\\u003esum_of_medals=%{z}\\u003cextra\\u003e\\u003c\\u002fextra\\u003e\",\"locationmode\":\"country names\",\"locations\":[\"Argentina\",\"Armenia\",\"Australia\",\"Austria\",\"Azerbaijan\",\"Bahamas\",\"Bahrain\",\"Belarus\",\"Belgium\",\"Bermuda\",\"Botswana\",\"Brazil\",\"Bulgaria\",\"Burkina Faso\",\"Canada\",\"Chinese Taipei\",\"Colombia\",\"Croatia\",\"Cuba\",\"Czech Republic\",\"C\\u00f4te d'Ivoire\",\"Denmark\",\"Dominican Republic\",\"Ecuador\",\"Egypt\",\"Estonia\",\"Ethiopia\",\"Fiji\",\"Finland\",\"France\",\"Georgia\",\"Germany\",\"Ghana\",\"Great Britain\",\"Greece\",\"Grenada\",\"Hong Kong, China\",\"Hungary\",\"India\",\"Indonesia\",\"Ireland\",\"Islamic Republic of Iran\",\"Israel\",\"Italy\",\"Jamaica\",\"Japan\",\"Jordan\",\"Kazakhstan\",\"Kenya\",\"Kosovo\",\"Kuwait\",\"Kyrgyzstan\",\"Latvia\",\"Lithuania\",\"Malaysia\",\"Mexico\",\"Mongolia\",\"Morocco\",\"Namibia\",\"Netherlands\",\"New Zealand\",\"Nigeria\",\"North Macedonia\",\"Norway\",\"People's Republic of China\",\"Philippines\",\"Poland\",\"Portugal\",\"Puerto Rico\",\"Qatar\",\"ROC\",\"Republic of Korea\",\"Republic of Moldova\",\"Romania\",\"San Marino\",\"Saudi Arabia\",\"Serbia\",\"Slovakia\",\"Slovenia\",\"South Africa\",\"Spain\",\"Sweden\",\"Switzerland\",\"Syrian Arab Republic\",\"Thailand\",\"Tunisia\",\"Turkey\",\"Turkmenistan\",\"Uganda\",\"Ukraine\",\"United States of America\",\"Uzbekistan\",\"Venezuela\"],\"name\":\"\",\"z\":[2,2,3,3,2,1,1,3,3,1,1,3,3,1,3,3,2,3,3,3,1,3,2,2,3,2,3,2,1,3,3,3,1,3,3,1,3,3,3,3,2,3,2,3,3,3,2,1,3,1,1,2,2,1,2,1,2,1,1,3,3,2,1,3,3,3,3,3,1,2,3,3,1,2,2,1,3,3,3,2,3,2,3,1,2,2,3,1,3,3,3,2,2],\"type\":\"choropleth\"}],\"name\":\"2020\"},{\"data\":[{\"coloraxis\":\"coloraxis\",\"customdata\":[[3],[3],[1],[2],[3],[2],[1],[3],[3],[3],[2],[2],[3],[3],[1],[3],[2],[3],[3],[1],[3],[3],[2],[3],[1],[3],[3],[1],[3]],\"geo\":\"geo\",\"hovertemplate\":\"date=2022\\u003cbr\\u003ecountry_name=%{location}\\u003cbr\\u003esum_of_medals=%{z}\\u003cextra\\u003e\\u003c\\u002fextra\\u003e\",\"locationmode\":\"country names\",\"locations\":[\"Australia\",\"Austria\",\"Belarus\",\"Belgium\",\"Canada\",\"Czech Republic\",\"Estonia\",\"Finland\",\"France\",\"Germany\",\"Great Britain\",\"Hungary\",\"Italy\",\"Japan\",\"Latvia\",\"Netherlands\",\"New Zealand\",\"Norway\",\"People's Republic of China\",\"Poland\",\"ROC\",\"Republic of Korea\",\"Slovakia\",\"Slovenia\",\"Spain\",\"Sweden\",\"Switzerland\",\"Ukraine\",\"United States of America\"],\"name\":\"\",\"z\":[3,3,1,2,3,2,1,3,3,3,2,2,3,3,1,3,2,3,3,1,3,3,2,3,1,3,3,1,3],\"type\":\"choropleth\"}],\"name\":\"2022\"}]);\n",
       "                        }).then(function(){\n",
       "                            \n",
       "var gd = document.getElementById('efbaab81-6875-441c-8bbe-3d902f05ed94');\n",
       "var x = new MutationObserver(function (mutations, observer) {{\n",
       "        var display = window.getComputedStyle(gd).display;\n",
       "        if (!display || display === 'none') {{\n",
       "            console.log([gd, 'removed!']);\n",
       "            Plotly.purge(gd);\n",
       "            observer.disconnect();\n",
       "        }}\n",
       "}});\n",
       "\n",
       "// Listen for the removal of the full notebook cells\n",
       "var notebookContainer = gd.closest('#notebook-container');\n",
       "if (notebookContainer) {{\n",
       "    x.observe(notebookContainer, {childList: true});\n",
       "}}\n",
       "\n",
       "// Listen for the clearing of the current output cell\n",
       "var outputEl = gd.closest('.output');\n",
       "if (outputEl) {{\n",
       "    x.observe(outputEl, {childList: true});\n",
       "}}\n",
       "\n",
       "                        })                };                });            </script>        </div>"
      ]
     },
     "metadata": {},
     "output_type": "display_data"
    }
   ],
   "source": [
    "#drop = pn.widgets.Select(name='Drop down', width=200)\n",
    "\n",
    "fig= px.choropleth(\n",
    "    worldmap,\n",
    "    locations=\"country_name\",\n",
    "    locationmode='country names',\n",
    "    color='sum_of_medals',\n",
    "    hover_data='sum_of_medals', \n",
    "    animation_frame='date',\n",
    "    title=\"Olympics Medal timelapse\",\n",
    "    color_continuous_scale=px.colors.sequential.Darkmint,\n",
    "    width = 1500,\n",
    "    height = 1200)\n",
    "fig.show() \n"
   ]
  },
  {
   "cell_type": "code",
   "execution_count": 24,
   "id": "22d1064a-ff0f-463a-9d4b-5eeda0add7c6",
   "metadata": {},
   "outputs": [
    {
     "data": {},
     "metadata": {},
     "output_type": "display_data"
    },
    {
     "data": {
      "application/vnd.holoviews_exec.v0+json": "",
      "text/html": [
       "<div id='fbd1ead4-ce12-41d1-92e3-60cf4bcddb64'>\n",
       "  <div id=\"f1ae02a0-9843-4cc6-b90e-b8eafa62915f\" data-root-id=\"fbd1ead4-ce12-41d1-92e3-60cf4bcddb64\" style=\"display: contents;\"></div>\n",
       "</div>\n",
       "<script type=\"application/javascript\">(function(root) {\n",
       "  var docs_json = {\"1b3f5eb2-43e9-44ba-b417-b23288aa055a\":{\"version\":\"3.2.1\",\"title\":\"Bokeh Application\",\"roots\":[{\"type\":\"object\",\"name\":\"Column\",\"id\":\"fbd1ead4-ce12-41d1-92e3-60cf4bcddb64\",\"attributes\":{\"name\":\"Column02406\",\"stylesheets\":[\"\\n:host(.pn-loading.pn-arc):before, .pn-loading.pn-arc:before {\\n  background-image: url(\\\"data:image/svg+xml;base64,PHN2ZyB4bWxucz0iaHR0cDovL3d3dy53My5vcmcvMjAwMC9zdmciIHN0eWxlPSJtYXJnaW46IGF1dG87IGJhY2tncm91bmQ6IG5vbmU7IGRpc3BsYXk6IGJsb2NrOyBzaGFwZS1yZW5kZXJpbmc6IGF1dG87IiB2aWV3Qm94PSIwIDAgMTAwIDEwMCIgcHJlc2VydmVBc3BlY3RSYXRpbz0ieE1pZFlNaWQiPiAgPGNpcmNsZSBjeD0iNTAiIGN5PSI1MCIgZmlsbD0ibm9uZSIgc3Ryb2tlPSIjYzNjM2MzIiBzdHJva2Utd2lkdGg9IjEwIiByPSIzNSIgc3Ryb2tlLWRhc2hhcnJheT0iMTY0LjkzMzYxNDMxMzQ2NDE1IDU2Ljk3Nzg3MTQzNzgyMTM4Ij4gICAgPGFuaW1hdGVUcmFuc2Zvcm0gYXR0cmlidXRlTmFtZT0idHJhbnNmb3JtIiB0eXBlPSJyb3RhdGUiIHJlcGVhdENvdW50PSJpbmRlZmluaXRlIiBkdXI9IjFzIiB2YWx1ZXM9IjAgNTAgNTA7MzYwIDUwIDUwIiBrZXlUaW1lcz0iMDsxIj48L2FuaW1hdGVUcmFuc2Zvcm0+ICA8L2NpcmNsZT48L3N2Zz4=\\\");\\n  background-size: auto calc(min(50%, 400px));\\n}\",{\"type\":\"object\",\"name\":\"ImportedStyleSheet\",\"id\":\"de2c5908-7115-443d-9f54-424d1a68f501\",\"attributes\":{\"url\":\"https://cdn.holoviz.org/panel/1.2.0/dist/css/loading.css\"}},{\"type\":\"object\",\"name\":\"ImportedStyleSheet\",\"id\":\"8027d076-c49f-46db-88e1-d34af26b079a\",\"attributes\":{\"url\":\"https://cdn.holoviz.org/panel/1.2.0/dist/css/listpanel.css\"}},{\"type\":\"object\",\"name\":\"ImportedStyleSheet\",\"id\":\"57ace011-0890-4629-92fa-04f1700ac97c\",\"attributes\":{\"url\":\"https://cdn.holoviz.org/panel/1.2.0/dist/bundled/theme/default.css\"}},{\"type\":\"object\",\"name\":\"ImportedStyleSheet\",\"id\":\"17ed1a08-da2c-4706-ae68-bf9054b89ba7\",\"attributes\":{\"url\":\"https://cdn.holoviz.org/panel/1.2.0/dist/bundled/theme/native.css\"}}],\"margin\":0,\"align\":\"start\",\"children\":[{\"type\":\"object\",\"name\":\"Column\",\"id\":\"838d08cd-0def-4e9a-a668-b2aeb3f8b28a\",\"attributes\":{\"name\":\"Column02419\",\"stylesheets\":[\"\\n:host(.pn-loading.pn-arc):before, .pn-loading.pn-arc:before {\\n  background-image: url(\\\"data:image/svg+xml;base64,PHN2ZyB4bWxucz0iaHR0cDovL3d3dy53My5vcmcvMjAwMC9zdmciIHN0eWxlPSJtYXJnaW46IGF1dG87IGJhY2tncm91bmQ6IG5vbmU7IGRpc3BsYXk6IGJsb2NrOyBzaGFwZS1yZW5kZXJpbmc6IGF1dG87IiB2aWV3Qm94PSIwIDAgMTAwIDEwMCIgcHJlc2VydmVBc3BlY3RSYXRpbz0ieE1pZFlNaWQiPiAgPGNpcmNsZSBjeD0iNTAiIGN5PSI1MCIgZmlsbD0ibm9uZSIgc3Ryb2tlPSIjYzNjM2MzIiBzdHJva2Utd2lkdGg9IjEwIiByPSIzNSIgc3Ryb2tlLWRhc2hhcnJheT0iMTY0LjkzMzYxNDMxMzQ2NDE1IDU2Ljk3Nzg3MTQzNzgyMTM4Ij4gICAgPGFuaW1hdGVUcmFuc2Zvcm0gYXR0cmlidXRlTmFtZT0idHJhbnNmb3JtIiB0eXBlPSJyb3RhdGUiIHJlcGVhdENvdW50PSJpbmRlZmluaXRlIiBkdXI9IjFzIiB2YWx1ZXM9IjAgNTAgNTA7MzYwIDUwIDUwIiBrZXlUaW1lcz0iMDsxIj48L2FuaW1hdGVUcmFuc2Zvcm0+ICA8L2NpcmNsZT48L3N2Zz4=\\\");\\n  background-size: auto calc(min(50%, 400px));\\n}\",{\"id\":\"de2c5908-7115-443d-9f54-424d1a68f501\"},{\"id\":\"8027d076-c49f-46db-88e1-d34af26b079a\"},{\"id\":\"57ace011-0890-4629-92fa-04f1700ac97c\"},{\"id\":\"17ed1a08-da2c-4706-ae68-bf9054b89ba7\"}],\"margin\":0,\"align\":\"start\",\"children\":[{\"type\":\"object\",\"name\":\"panel.models.widgets.CustomSelect\",\"id\":\"117fe5a3-01d6-4a70-8b83-a4f2bcc1774d\",\"attributes\":{\"stylesheets\":[\"\\n:host(.pn-loading.pn-arc):before, .pn-loading.pn-arc:before {\\n  background-image: url(\\\"data:image/svg+xml;base64,PHN2ZyB4bWxucz0iaHR0cDovL3d3dy53My5vcmcvMjAwMC9zdmciIHN0eWxlPSJtYXJnaW46IGF1dG87IGJhY2tncm91bmQ6IG5vbmU7IGRpc3BsYXk6IGJsb2NrOyBzaGFwZS1yZW5kZXJpbmc6IGF1dG87IiB2aWV3Qm94PSIwIDAgMTAwIDEwMCIgcHJlc2VydmVBc3BlY3RSYXRpbz0ieE1pZFlNaWQiPiAgPGNpcmNsZSBjeD0iNTAiIGN5PSI1MCIgZmlsbD0ibm9uZSIgc3Ryb2tlPSIjYzNjM2MzIiBzdHJva2Utd2lkdGg9IjEwIiByPSIzNSIgc3Ryb2tlLWRhc2hhcnJheT0iMTY0LjkzMzYxNDMxMzQ2NDE1IDU2Ljk3Nzg3MTQzNzgyMTM4Ij4gICAgPGFuaW1hdGVUcmFuc2Zvcm0gYXR0cmlidXRlTmFtZT0idHJhbnNmb3JtIiB0eXBlPSJyb3RhdGUiIHJlcGVhdENvdW50PSJpbmRlZmluaXRlIiBkdXI9IjFzIiB2YWx1ZXM9IjAgNTAgNTA7MzYwIDUwIDUwIiBrZXlUaW1lcz0iMDsxIj48L2FuaW1hdGVUcmFuc2Zvcm0+ICA8L2NpcmNsZT48L3N2Zz4=\\\");\\n  background-size: auto calc(min(50%, 400px));\\n}\",{\"id\":\"de2c5908-7115-443d-9f54-424d1a68f501\"},{\"type\":\"object\",\"name\":\"ImportedStyleSheet\",\"id\":\"360b858a-dc5f-4526-b15b-322a5e25f7d3\",\"attributes\":{\"url\":\"https://cdn.holoviz.org/panel/1.2.0/dist/css/select.css\"}},{\"id\":\"57ace011-0890-4629-92fa-04f1700ac97c\"},{\"id\":\"17ed1a08-da2c-4706-ae68-bf9054b89ba7\"}],\"width\":300,\"min_width\":300,\"margin\":[5,10],\"align\":\"start\",\"title\":\"Select Country\",\"options\":[\"Italy\",\"Norway\",\"Sweden\",\"Great Britain\",\"Canada\",\"Czech Republic\",\"Switzerland\",\"United States of America\",\"People's Republic of China\",\"Australia\",\"Japan\",\"Republic of Korea\",\"Denmark\",\"ROC\",\"Finland\",\"Kazakhstan\",\"France\",\"New Zealand\",\"Ireland\",\"Austria\",\"Spain\",\"Germany\",\"Estonia\",\"Chile\",\"Brazil\",\"Belarus\",\"Ukraine\",\"Netherlands\",\"Hungary\",\"Croatia\",\"Poland\",\"Belgium\",\"Latvia\",\"Hong Kong, China\",\"Israel\",\"Turkey\",\"Malta\",\"Andorra\",\"Slovenia\",\"Bulgaria\",\"Slovakia\",\"Romania\",\"Georgia\",\"Armenia\",\"Lithuania\",\"Azerbaijan\",\"Mexico\",\"Bosnia and Herzegovina\",\"Republic of Moldova\",\"Argentina\",\"Chinese Taipei\",\"Puerto Rico\",\"Kyrgyzstan\",\"Colombia\",\"India\",\"Portugal\",\"San Marino\",\"Philippines\",\"Lebanon\",\"Uzbekistan\",\"Albania\",\"Montenegro\",\"Greece\",\"Kosovo\",\"Luxembourg\",\"Madagascar\",\"Cyprus\",\"Malaysia\",\"Haiti\",\"Thailand\",\"Pakistan\",\"Democratic Republic of Timor-Leste\",\"Iceland\",\"Monaco\",\"Serbia\",\"Liechtenstein\",\"Bolivia\",\"Morocco\",\"Ghana\",\"Jamaica\",\"Eritrea\",\"Saudi Arabia\",\"Peru\",\"Ecuador\",\"Islamic Republic of Iran\",\"Virgin Islands, US\",\"American Samoa\",\"Mongolia\",\"North Macedonia\",\"Nigeria\",\"Trinidad and Tobago\",\"Egypt\",\"Indonesia\",\"Cuba\",\"Oman\",\"Venezuela\",\"Bangladesh\",\"Afghanistan\",\"Singapore\",\"Bhutan\",\"Algeria\",\"Sri Lanka\",\"Nepal\",\"Refugee Olympic Team\",\"Qatar\",\"Kuwait\",\"Bahrain\",\"Senegal\",\"Guatemala\",\"Iraq\",\"Jordan\",\"Yemen\",\"Tunisia\",\"Aruba\",\"Myanmar\",\"Vietnam\",\"Nicaragua\",\"United Arab Emirates\",\"Dominican Republic\",\"South Africa\",\"Sao Tome and Principe\",\"Samoa\",\"Cook Islands\",\"Mozambique\",\"Belize\",\"Ethiopia\",\"Costa Rica\",\"Paraguay\",\"Namibia\",\"Rwanda\",\"Burkina Faso\",\"Panama\",\"Zambia\",\"C\\u00f4te d'Ivoire\",\"Honduras\",\"Mauritius\",\"Eswatini\",\"Uganda\",\"Cameroon\",\"Democratic Republic of the Congo\",\"Tajikistan\",\"Kenya\",\"Guyana\",\"Burundi\",\"Botswana\",\"Cape Verde\",\"Somalia\",\"El Salvador\",\"Antigua and Barbuda\",\"Papua New Guinea\",\"Angola\",\"Fiji\",\"Bermuda\",\"Syrian Arab Republic\",\"Vanuatu\",\"Togo\",\"Mali\",\"Gabon\",\"Niger\",\"Tonga\",\"Suriname\",\"Maldives\",\"Guinea-Bissau\",\"Guam\",\"Guinea\",\"Zimbabwe\",\"Chad\",\"Kiribati\",\"Comoros\",\"Uruguay\",\"Sierra Leone\",\"Palestine\",\"Sudan\",\"Djibouti\",\"Gambia\",\"Malawi\",\"Libya\",\"Benin\",\"Seychelles\",\"Lao People's Democratic Republic\",\"Turkmenistan\",\"Solomon Islands\",\"Nauru\",\"Virgin Islands, British\",\"Lesotho\",\"United Republic of Tanzania\",\"Liberia\",\"Bahamas\",\"Dominica\",\"Grenada\",\"Saint Lucia\",\"Olympic Athletes from Russia\",\"Democratic People's Republic of Korea\",\"The Former Yugoslav Republic of Macedonia\",\"Korea Team\",\"Russian Federation\",\"Ivory Coast\",\"Independent Olympic Athletes\",\"Barbados\",\"Cambodia\",\"Equatorial Guinea\",\"Congo\",\"South Sudan\",\"Refugee Olympic Athletes\",\"Marshall Islands\",\"Palau\",\"US Virgin Islands\",\"Federated States of Micronesia\",\"Central African Republic\",\"Cayman Islands\",\"Brunei\",\"Saint Vincent and the Grenadines\",\"British Virgin Islands\",\"Swaziland\",\"Saint Kitts and Nevis\",\"Tuvalu\",\"Netherlands Antilles\",\"Serbia and Montenegro\",\"Unified Team\",\"Czechoslovakia\",\"Mauritania\",\"Yugoslavia\",\"Soviet Union\",\"Federal Republic of Germany\",\"German Democratic Republic (Germany)\",\"Yemen Arab Republic\",\"Yemen Democratic Republic\",\"South Vietnam\",\"Rhodesia\",\"United Arab Republic\",\"Malaya\",\"West Indies Federation\",\"North Borneo\",\"Saar\",\"MIX\",\"Australasia\",\"Bohemia\",\"Newfoundland\"],\"value\":\"Italy\"}}]}},{\"type\":\"object\",\"name\":\"Row\",\"id\":\"103a87a6-ce1c-43a2-867f-e165e6126c8d\",\"attributes\":{\"name\":\"Row02416\",\"stylesheets\":[\"\\n:host(.pn-loading.pn-arc):before, .pn-loading.pn-arc:before {\\n  background-image: url(\\\"data:image/svg+xml;base64,PHN2ZyB4bWxucz0iaHR0cDovL3d3dy53My5vcmcvMjAwMC9zdmciIHN0eWxlPSJtYXJnaW46IGF1dG87IGJhY2tncm91bmQ6IG5vbmU7IGRpc3BsYXk6IGJsb2NrOyBzaGFwZS1yZW5kZXJpbmc6IGF1dG87IiB2aWV3Qm94PSIwIDAgMTAwIDEwMCIgcHJlc2VydmVBc3BlY3RSYXRpbz0ieE1pZFlNaWQiPiAgPGNpcmNsZSBjeD0iNTAiIGN5PSI1MCIgZmlsbD0ibm9uZSIgc3Ryb2tlPSIjYzNjM2MzIiBzdHJva2Utd2lkdGg9IjEwIiByPSIzNSIgc3Ryb2tlLWRhc2hhcnJheT0iMTY0LjkzMzYxNDMxMzQ2NDE1IDU2Ljk3Nzg3MTQzNzgyMTM4Ij4gICAgPGFuaW1hdGVUcmFuc2Zvcm0gYXR0cmlidXRlTmFtZT0idHJhbnNmb3JtIiB0eXBlPSJyb3RhdGUiIHJlcGVhdENvdW50PSJpbmRlZmluaXRlIiBkdXI9IjFzIiB2YWx1ZXM9IjAgNTAgNTA7MzYwIDUwIDUwIiBrZXlUaW1lcz0iMDsxIj48L2FuaW1hdGVUcmFuc2Zvcm0+ICA8L2NpcmNsZT48L3N2Zz4=\\\");\\n  background-size: auto calc(min(50%, 400px));\\n}\",{\"id\":\"de2c5908-7115-443d-9f54-424d1a68f501\"},{\"id\":\"8027d076-c49f-46db-88e1-d34af26b079a\"},{\"id\":\"57ace011-0890-4629-92fa-04f1700ac97c\"},{\"id\":\"17ed1a08-da2c-4706-ae68-bf9054b89ba7\"}],\"margin\":0,\"align\":\"start\",\"children\":[{\"type\":\"object\",\"name\":\"panel.models.plotly.PlotlyPlot\",\"id\":\"f96ea4f5-0ac6-4597-bf17-335eb608294c\",\"attributes\":{\"name\":\"interactive02403\",\"stylesheets\":[\"\\n:host(.pn-loading.pn-arc):before, .pn-loading.pn-arc:before {\\n  background-image: url(\\\"data:image/svg+xml;base64,PHN2ZyB4bWxucz0iaHR0cDovL3d3dy53My5vcmcvMjAwMC9zdmciIHN0eWxlPSJtYXJnaW46IGF1dG87IGJhY2tncm91bmQ6IG5vbmU7IGRpc3BsYXk6IGJsb2NrOyBzaGFwZS1yZW5kZXJpbmc6IGF1dG87IiB2aWV3Qm94PSIwIDAgMTAwIDEwMCIgcHJlc2VydmVBc3BlY3RSYXRpbz0ieE1pZFlNaWQiPiAgPGNpcmNsZSBjeD0iNTAiIGN5PSI1MCIgZmlsbD0ibm9uZSIgc3Ryb2tlPSIjYzNjM2MzIiBzdHJva2Utd2lkdGg9IjEwIiByPSIzNSIgc3Ryb2tlLWRhc2hhcnJheT0iMTY0LjkzMzYxNDMxMzQ2NDE1IDU2Ljk3Nzg3MTQzNzgyMTM4Ij4gICAgPGFuaW1hdGVUcmFuc2Zvcm0gYXR0cmlidXRlTmFtZT0idHJhbnNmb3JtIiB0eXBlPSJyb3RhdGUiIHJlcGVhdENvdW50PSJpbmRlZmluaXRlIiBkdXI9IjFzIiB2YWx1ZXM9IjAgNTAgNTA7MzYwIDUwIDUwIiBrZXlUaW1lcz0iMDsxIj48L2FuaW1hdGVUcmFuc2Zvcm0+ICA8L2NpcmNsZT48L3N2Zz4=\\\");\\n  background-size: auto calc(min(50%, 400px));\\n}\",{\"id\":\"de2c5908-7115-443d-9f54-424d1a68f501\"},{\"type\":\"object\",\"name\":\"ImportedStyleSheet\",\"id\":\"9a9b0b9c-0e95-4480-bca8-bf24281af925\",\"attributes\":{\"url\":\"https://cdn.holoviz.org/panel/1.2.0/dist/css/plotly.css\"}},{\"id\":\"57ace011-0890-4629-92fa-04f1700ac97c\"},{\"id\":\"17ed1a08-da2c-4706-ae68-bf9054b89ba7\"},\":host { --plotly-icon-color: gray; --plotly-active-icon-color: #2a3f5f; }\"],\"margin\":[5,10],\"align\":\"start\",\"data\":[{\"type\":\"map\",\"entries\":[[\"alignmentgroup\",\"True\"],[\"bingroup\",\"x\"],[\"histfunc\",\"sum\"],[\"hovertemplate\",\"medal_type=GOLD<br>date=%{x}<br>sum of counts=%{y}<extra></extra>\"],[\"legendgroup\",\"GOLD\"],[\"marker\",{\"type\":\"map\",\"entries\":[[\"color\",\"#636efa\"],[\"pattern\",{\"type\":\"map\",\"entries\":[[\"shape\",\"\"]]}]]}],[\"name\",\"GOLD\"],[\"offsetgroup\",\"GOLD\"],[\"orientation\",\"v\"],[\"showlegend\",true],[\"xaxis\",\"x\"],[\"yaxis\",\"y\"],[\"type\",\"histogram\"]]},{\"type\":\"map\",\"entries\":[[\"alignmentgroup\",\"True\"],[\"bingroup\",\"x\"],[\"histfunc\",\"sum\"],[\"hovertemplate\",\"medal_type=SILVER<br>date=%{x}<br>sum of counts=%{y}<extra></extra>\"],[\"legendgroup\",\"SILVER\"],[\"marker\",{\"type\":\"map\",\"entries\":[[\"color\",\"#EF553B\"],[\"pattern\",{\"type\":\"map\",\"entries\":[[\"shape\",\"\"]]}]]}],[\"name\",\"SILVER\"],[\"offsetgroup\",\"SILVER\"],[\"orientation\",\"v\"],[\"showlegend\",true],[\"xaxis\",\"x\"],[\"yaxis\",\"y\"],[\"type\",\"histogram\"]]},{\"type\":\"map\",\"entries\":[[\"alignmentgroup\",\"True\"],[\"bingroup\",\"x\"],[\"histfunc\",\"sum\"],[\"hovertemplate\",\"medal_type=BRONZE<br>date=%{x}<br>sum of counts=%{y}<extra></extra>\"],[\"legendgroup\",\"BRONZE\"],[\"marker\",{\"type\":\"map\",\"entries\":[[\"color\",\"#00cc96\"],[\"pattern\",{\"type\":\"map\",\"entries\":[[\"shape\",\"\"]]}]]}],[\"name\",\"BRONZE\"],[\"offsetgroup\",\"BRONZE\"],[\"orientation\",\"v\"],[\"showlegend\",true],[\"xaxis\",\"x\"],[\"yaxis\",\"y\"],[\"type\",\"histogram\"]]}],\"layout\":{\"type\":\"map\",\"entries\":[[\"template\",{\"type\":\"map\",\"entries\":[[\"data\",{\"type\":\"map\",\"entries\":[[\"histogram2dcontour\",[{\"type\":\"map\",\"entries\":[[\"type\",\"histogram2dcontour\"],[\"colorbar\",{\"type\":\"map\",\"entries\":[[\"outlinewidth\",0],[\"ticks\",\"\"]]}],[\"colorscale\",[[0.0,\"#0d0887\"],[0.1111111111111111,\"#46039f\"],[0.2222222222222222,\"#7201a8\"],[0.3333333333333333,\"#9c179e\"],[0.4444444444444444,\"#bd3786\"],[0.5555555555555556,\"#d8576b\"],[0.6666666666666666,\"#ed7953\"],[0.7777777777777778,\"#fb9f3a\"],[0.8888888888888888,\"#fdca26\"],[1.0,\"#f0f921\"]]]]}]],[\"choropleth\",[{\"type\":\"map\",\"entries\":[[\"type\",\"choropleth\"],[\"colorbar\",{\"type\":\"map\",\"entries\":[[\"outlinewidth\",0],[\"ticks\",\"\"]]}]]}]],[\"histogram2d\",[{\"type\":\"map\",\"entries\":[[\"type\",\"histogram2d\"],[\"colorbar\",{\"type\":\"map\",\"entries\":[[\"outlinewidth\",0],[\"ticks\",\"\"]]}],[\"colorscale\",[[0.0,\"#0d0887\"],[0.1111111111111111,\"#46039f\"],[0.2222222222222222,\"#7201a8\"],[0.3333333333333333,\"#9c179e\"],[0.4444444444444444,\"#bd3786\"],[0.5555555555555556,\"#d8576b\"],[0.6666666666666666,\"#ed7953\"],[0.7777777777777778,\"#fb9f3a\"],[0.8888888888888888,\"#fdca26\"],[1.0,\"#f0f921\"]]]]}]],[\"heatmap\",[{\"type\":\"map\",\"entries\":[[\"type\",\"heatmap\"],[\"colorbar\",{\"type\":\"map\",\"entries\":[[\"outlinewidth\",0],[\"ticks\",\"\"]]}],[\"colorscale\",[[0.0,\"#0d0887\"],[0.1111111111111111,\"#46039f\"],[0.2222222222222222,\"#7201a8\"],[0.3333333333333333,\"#9c179e\"],[0.4444444444444444,\"#bd3786\"],[0.5555555555555556,\"#d8576b\"],[0.6666666666666666,\"#ed7953\"],[0.7777777777777778,\"#fb9f3a\"],[0.8888888888888888,\"#fdca26\"],[1.0,\"#f0f921\"]]]]}]],[\"heatmapgl\",[{\"type\":\"map\",\"entries\":[[\"type\",\"heatmapgl\"],[\"colorbar\",{\"type\":\"map\",\"entries\":[[\"outlinewidth\",0],[\"ticks\",\"\"]]}],[\"colorscale\",[[0.0,\"#0d0887\"],[0.1111111111111111,\"#46039f\"],[0.2222222222222222,\"#7201a8\"],[0.3333333333333333,\"#9c179e\"],[0.4444444444444444,\"#bd3786\"],[0.5555555555555556,\"#d8576b\"],[0.6666666666666666,\"#ed7953\"],[0.7777777777777778,\"#fb9f3a\"],[0.8888888888888888,\"#fdca26\"],[1.0,\"#f0f921\"]]]]}]],[\"contourcarpet\",[{\"type\":\"map\",\"entries\":[[\"type\",\"contourcarpet\"],[\"colorbar\",{\"type\":\"map\",\"entries\":[[\"outlinewidth\",0],[\"ticks\",\"\"]]}]]}]],[\"contour\",[{\"type\":\"map\",\"entries\":[[\"type\",\"contour\"],[\"colorbar\",{\"type\":\"map\",\"entries\":[[\"outlinewidth\",0],[\"ticks\",\"\"]]}],[\"colorscale\",[[0.0,\"#0d0887\"],[0.1111111111111111,\"#46039f\"],[0.2222222222222222,\"#7201a8\"],[0.3333333333333333,\"#9c179e\"],[0.4444444444444444,\"#bd3786\"],[0.5555555555555556,\"#d8576b\"],[0.6666666666666666,\"#ed7953\"],[0.7777777777777778,\"#fb9f3a\"],[0.8888888888888888,\"#fdca26\"],[1.0,\"#f0f921\"]]]]}]],[\"surface\",[{\"type\":\"map\",\"entries\":[[\"type\",\"surface\"],[\"colorbar\",{\"type\":\"map\",\"entries\":[[\"outlinewidth\",0],[\"ticks\",\"\"]]}],[\"colorscale\",[[0.0,\"#0d0887\"],[0.1111111111111111,\"#46039f\"],[0.2222222222222222,\"#7201a8\"],[0.3333333333333333,\"#9c179e\"],[0.4444444444444444,\"#bd3786\"],[0.5555555555555556,\"#d8576b\"],[0.6666666666666666,\"#ed7953\"],[0.7777777777777778,\"#fb9f3a\"],[0.8888888888888888,\"#fdca26\"],[1.0,\"#f0f921\"]]]]}]],[\"mesh3d\",[{\"type\":\"map\",\"entries\":[[\"type\",\"mesh3d\"],[\"colorbar\",{\"type\":\"map\",\"entries\":[[\"outlinewidth\",0],[\"ticks\",\"\"]]}]]}]],[\"scatter\",[{\"type\":\"map\",\"entries\":[[\"fillpattern\",{\"type\":\"map\",\"entries\":[[\"fillmode\",\"overlay\"],[\"size\",10],[\"solidity\",0.2]]}],[\"type\",\"scatter\"]]}]],[\"parcoords\",[{\"type\":\"map\",\"entries\":[[\"type\",\"parcoords\"],[\"line\",{\"type\":\"map\",\"entries\":[[\"colorbar\",{\"type\":\"map\",\"entries\":[[\"outlinewidth\",0],[\"ticks\",\"\"]]}]]}]]}]],[\"scatterpolargl\",[{\"type\":\"map\",\"entries\":[[\"type\",\"scatterpolargl\"],[\"marker\",{\"type\":\"map\",\"entries\":[[\"colorbar\",{\"type\":\"map\",\"entries\":[[\"outlinewidth\",0],[\"ticks\",\"\"]]}]]}]]}]],[\"bar\",[{\"type\":\"map\",\"entries\":[[\"error_x\",{\"type\":\"map\",\"entries\":[[\"color\",\"#2a3f5f\"]]}],[\"error_y\",{\"type\":\"map\",\"entries\":[[\"color\",\"#2a3f5f\"]]}],[\"marker\",{\"type\":\"map\",\"entries\":[[\"line\",{\"type\":\"map\",\"entries\":[[\"color\",\"#E5ECF6\"],[\"width\",0.5]]}],[\"pattern\",{\"type\":\"map\",\"entries\":[[\"fillmode\",\"overlay\"],[\"size\",10],[\"solidity\",0.2]]}]]}],[\"type\",\"bar\"]]}]],[\"scattergeo\",[{\"type\":\"map\",\"entries\":[[\"type\",\"scattergeo\"],[\"marker\",{\"type\":\"map\",\"entries\":[[\"colorbar\",{\"type\":\"map\",\"entries\":[[\"outlinewidth\",0],[\"ticks\",\"\"]]}]]}]]}]],[\"scatterpolar\",[{\"type\":\"map\",\"entries\":[[\"type\",\"scatterpolar\"],[\"marker\",{\"type\":\"map\",\"entries\":[[\"colorbar\",{\"type\":\"map\",\"entries\":[[\"outlinewidth\",0],[\"ticks\",\"\"]]}]]}]]}]],[\"histogram\",[{\"type\":\"map\",\"entries\":[[\"marker\",{\"type\":\"map\",\"entries\":[[\"pattern\",{\"type\":\"map\",\"entries\":[[\"fillmode\",\"overlay\"],[\"size\",10],[\"solidity\",0.2]]}]]}],[\"type\",\"histogram\"]]}]],[\"scattergl\",[{\"type\":\"map\",\"entries\":[[\"type\",\"scattergl\"],[\"marker\",{\"type\":\"map\",\"entries\":[[\"colorbar\",{\"type\":\"map\",\"entries\":[[\"outlinewidth\",0],[\"ticks\",\"\"]]}]]}]]}]],[\"scatter3d\",[{\"type\":\"map\",\"entries\":[[\"type\",\"scatter3d\"],[\"line\",{\"type\":\"map\",\"entries\":[[\"colorbar\",{\"type\":\"map\",\"entries\":[[\"outlinewidth\",0],[\"ticks\",\"\"]]}]]}],[\"marker\",{\"type\":\"map\",\"entries\":[[\"colorbar\",{\"type\":\"map\",\"entries\":[[\"outlinewidth\",0],[\"ticks\",\"\"]]}]]}]]}]],[\"scattermapbox\",[{\"type\":\"map\",\"entries\":[[\"type\",\"scattermapbox\"],[\"marker\",{\"type\":\"map\",\"entries\":[[\"colorbar\",{\"type\":\"map\",\"entries\":[[\"outlinewidth\",0],[\"ticks\",\"\"]]}]]}]]}]],[\"scatterternary\",[{\"type\":\"map\",\"entries\":[[\"type\",\"scatterternary\"],[\"marker\",{\"type\":\"map\",\"entries\":[[\"colorbar\",{\"type\":\"map\",\"entries\":[[\"outlinewidth\",0],[\"ticks\",\"\"]]}]]}]]}]],[\"scattercarpet\",[{\"type\":\"map\",\"entries\":[[\"type\",\"scattercarpet\"],[\"marker\",{\"type\":\"map\",\"entries\":[[\"colorbar\",{\"type\":\"map\",\"entries\":[[\"outlinewidth\",0],[\"ticks\",\"\"]]}]]}]]}]],[\"carpet\",[{\"type\":\"map\",\"entries\":[[\"aaxis\",{\"type\":\"map\",\"entries\":[[\"endlinecolor\",\"#2a3f5f\"],[\"gridcolor\",\"white\"],[\"linecolor\",\"white\"],[\"minorgridcolor\",\"white\"],[\"startlinecolor\",\"#2a3f5f\"]]}],[\"baxis\",{\"type\":\"map\",\"entries\":[[\"endlinecolor\",\"#2a3f5f\"],[\"gridcolor\",\"white\"],[\"linecolor\",\"white\"],[\"minorgridcolor\",\"white\"],[\"startlinecolor\",\"#2a3f5f\"]]}],[\"type\",\"carpet\"]]}]],[\"table\",[{\"type\":\"map\",\"entries\":[[\"cells\",{\"type\":\"map\",\"entries\":[[\"fill\",{\"type\":\"map\",\"entries\":[[\"color\",\"#EBF0F8\"]]}],[\"line\",{\"type\":\"map\",\"entries\":[[\"color\",\"white\"]]}]]}],[\"header\",{\"type\":\"map\",\"entries\":[[\"fill\",{\"type\":\"map\",\"entries\":[[\"color\",\"#C8D4E3\"]]}],[\"line\",{\"type\":\"map\",\"entries\":[[\"color\",\"white\"]]}]]}],[\"type\",\"table\"]]}]],[\"barpolar\",[{\"type\":\"map\",\"entries\":[[\"marker\",{\"type\":\"map\",\"entries\":[[\"line\",{\"type\":\"map\",\"entries\":[[\"color\",\"#E5ECF6\"],[\"width\",0.5]]}],[\"pattern\",{\"type\":\"map\",\"entries\":[[\"fillmode\",\"overlay\"],[\"size\",10],[\"solidity\",0.2]]}]]}],[\"type\",\"barpolar\"]]}]],[\"pie\",[{\"type\":\"map\",\"entries\":[[\"automargin\",true],[\"type\",\"pie\"]]}]]]}],[\"layout\",{\"type\":\"map\",\"entries\":[[\"autotypenumbers\",\"strict\"],[\"colorway\",[\"#636efa\",\"#EF553B\",\"#00cc96\",\"#ab63fa\",\"#FFA15A\",\"#19d3f3\",\"#FF6692\",\"#B6E880\",\"#FF97FF\",\"#FECB52\"]],[\"font\",{\"type\":\"map\",\"entries\":[[\"color\",\"#2a3f5f\"]]}],[\"hovermode\",\"closest\"],[\"hoverlabel\",{\"type\":\"map\",\"entries\":[[\"align\",\"left\"]]}],[\"paper_bgcolor\",\"white\"],[\"plot_bgcolor\",\"#E5ECF6\"],[\"polar\",{\"type\":\"map\",\"entries\":[[\"bgcolor\",\"#E5ECF6\"],[\"angularaxis\",{\"type\":\"map\",\"entries\":[[\"gridcolor\",\"white\"],[\"linecolor\",\"white\"],[\"ticks\",\"\"]]}],[\"radialaxis\",{\"type\":\"map\",\"entries\":[[\"gridcolor\",\"white\"],[\"linecolor\",\"white\"],[\"ticks\",\"\"]]}]]}],[\"ternary\",{\"type\":\"map\",\"entries\":[[\"bgcolor\",\"#E5ECF6\"],[\"aaxis\",{\"type\":\"map\",\"entries\":[[\"gridcolor\",\"white\"],[\"linecolor\",\"white\"],[\"ticks\",\"\"]]}],[\"baxis\",{\"type\":\"map\",\"entries\":[[\"gridcolor\",\"white\"],[\"linecolor\",\"white\"],[\"ticks\",\"\"]]}],[\"caxis\",{\"type\":\"map\",\"entries\":[[\"gridcolor\",\"white\"],[\"linecolor\",\"white\"],[\"ticks\",\"\"]]}]]}],[\"coloraxis\",{\"type\":\"map\",\"entries\":[[\"colorbar\",{\"type\":\"map\",\"entries\":[[\"outlinewidth\",0],[\"ticks\",\"\"]]}]]}],[\"colorscale\",{\"type\":\"map\",\"entries\":[[\"sequential\",[[0.0,\"#0d0887\"],[0.1111111111111111,\"#46039f\"],[0.2222222222222222,\"#7201a8\"],[0.3333333333333333,\"#9c179e\"],[0.4444444444444444,\"#bd3786\"],[0.5555555555555556,\"#d8576b\"],[0.6666666666666666,\"#ed7953\"],[0.7777777777777778,\"#fb9f3a\"],[0.8888888888888888,\"#fdca26\"],[1.0,\"#f0f921\"]]],[\"sequentialminus\",[[0.0,\"#0d0887\"],[0.1111111111111111,\"#46039f\"],[0.2222222222222222,\"#7201a8\"],[0.3333333333333333,\"#9c179e\"],[0.4444444444444444,\"#bd3786\"],[0.5555555555555556,\"#d8576b\"],[0.6666666666666666,\"#ed7953\"],[0.7777777777777778,\"#fb9f3a\"],[0.8888888888888888,\"#fdca26\"],[1.0,\"#f0f921\"]]],[\"diverging\",[[0,\"#8e0152\"],[0.1,\"#c51b7d\"],[0.2,\"#de77ae\"],[0.3,\"#f1b6da\"],[0.4,\"#fde0ef\"],[0.5,\"#f7f7f7\"],[0.6,\"#e6f5d0\"],[0.7,\"#b8e186\"],[0.8,\"#7fbc41\"],[0.9,\"#4d9221\"],[1,\"#276419\"]]]]}],[\"xaxis\",{\"type\":\"map\",\"entries\":[[\"gridcolor\",\"white\"],[\"linecolor\",\"white\"],[\"ticks\",\"\"],[\"title\",{\"type\":\"map\",\"entries\":[[\"standoff\",15]]}],[\"zerolinecolor\",\"white\"],[\"automargin\",true],[\"zerolinewidth\",2]]}],[\"yaxis\",{\"type\":\"map\",\"entries\":[[\"gridcolor\",\"white\"],[\"linecolor\",\"white\"],[\"ticks\",\"\"],[\"title\",{\"type\":\"map\",\"entries\":[[\"standoff\",15]]}],[\"zerolinecolor\",\"white\"],[\"automargin\",true],[\"zerolinewidth\",2]]}],[\"scene\",{\"type\":\"map\",\"entries\":[[\"xaxis\",{\"type\":\"map\",\"entries\":[[\"backgroundcolor\",\"#E5ECF6\"],[\"gridcolor\",\"white\"],[\"linecolor\",\"white\"],[\"showbackground\",true],[\"ticks\",\"\"],[\"zerolinecolor\",\"white\"],[\"gridwidth\",2]]}],[\"yaxis\",{\"type\":\"map\",\"entries\":[[\"backgroundcolor\",\"#E5ECF6\"],[\"gridcolor\",\"white\"],[\"linecolor\",\"white\"],[\"showbackground\",true],[\"ticks\",\"\"],[\"zerolinecolor\",\"white\"],[\"gridwidth\",2]]}],[\"zaxis\",{\"type\":\"map\",\"entries\":[[\"backgroundcolor\",\"#E5ECF6\"],[\"gridcolor\",\"white\"],[\"linecolor\",\"white\"],[\"showbackground\",true],[\"ticks\",\"\"],[\"zerolinecolor\",\"white\"],[\"gridwidth\",2]]}]]}],[\"shapedefaults\",{\"type\":\"map\",\"entries\":[[\"line\",{\"type\":\"map\",\"entries\":[[\"color\",\"#2a3f5f\"]]}]]}],[\"annotationdefaults\",{\"type\":\"map\",\"entries\":[[\"arrowcolor\",\"#2a3f5f\"],[\"arrowhead\",0],[\"arrowwidth\",1]]}],[\"geo\",{\"type\":\"map\",\"entries\":[[\"bgcolor\",\"white\"],[\"landcolor\",\"#E5ECF6\"],[\"subunitcolor\",\"white\"],[\"showland\",true],[\"showlakes\",true],[\"lakecolor\",\"white\"]]}],[\"title\",{\"type\":\"map\",\"entries\":[[\"x\",0.05]]}],[\"mapbox\",{\"type\":\"map\",\"entries\":[[\"style\",\"light\"]]}]]}]]}],[\"xaxis\",{\"type\":\"map\",\"entries\":[[\"anchor\",\"y\"],[\"domain\",[0.0,1.0]],[\"title\",{\"type\":\"map\",\"entries\":[[\"text\",\"date\"]]}],[\"categoryorder\",\"category ascending\"]]}],[\"yaxis\",{\"type\":\"map\",\"entries\":[[\"anchor\",\"x\"],[\"domain\",[0.0,1.0]],[\"title\",{\"type\":\"map\",\"entries\":[[\"text\",\"sum of counts\"]]}]]}],[\"legend\",{\"type\":\"map\",\"entries\":[[\"title\",{\"type\":\"map\",\"entries\":[[\"text\",\"medal_type\"]]}],[\"tracegroupgap\",0]]}],[\"margin\",{\"type\":\"map\",\"entries\":[[\"t\",60]]}],[\"barmode\",\"relative\"]]},\"data_sources\":[{\"type\":\"object\",\"name\":\"ColumnDataSource\",\"id\":\"42a77dae-f18d-40fe-8c8b-5081f8ffd840\",\"attributes\":{\"selected\":{\"type\":\"object\",\"name\":\"Selection\",\"id\":\"f64df749-3df1-4ed0-92d5-7cd02e84e323\",\"attributes\":{\"indices\":[],\"line_indices\":[]}},\"selection_policy\":{\"type\":\"object\",\"name\":\"UnionRenderers\",\"id\":\"e3f9ba4c-dfbe-46f6-a392-eb04d5957b0d\"},\"data\":{\"type\":\"map\",\"entries\":[[\"x\",[{\"type\":\"ndarray\",\"array\":[\"1900\",\"1908\",\"1912\",\"1920\",\"1924\",\"1928\",\"1932\",\"1936\",\"1948\",\"1952\",\"1956\",\"1960\",\"1964\",\"1968\",\"1972\",\"1976\",\"1980\",\"1984\",\"1988\",\"1992\",\"1994\",\"1996\",\"1998\",\"2000\",\"2002\",\"2004\",\"2006\",\"2008\",\"2010\",\"2012\",\"2016\",\"2018\",\"2020\",\"2022\"],\"shape\":[34],\"dtype\":\"object\",\"order\":\"little\"}]],[\"y\",[{\"type\":\"ndarray\",\"array\":{\"type\":\"bytes\",\"data\":\"AgAAAAIAAAADAAAADQAAAAgAAAAHAAAADAAAAAgAAAAJAAAACQAAAAkAAAANAAAACgAAAAcAAAAHAAAAAwAAAAgAAAAQAAAACAAAAAoAAAAHAAAADQAAAAIAAAANAAAABAAAAAoAAAAFAAAACAAAAAEAAAAIAAAACAAAAAMAAAAKAAAAAgAAAA==\"},\"shape\":[34],\"dtype\":\"int32\",\"order\":\"little\"}]]]}}},{\"type\":\"object\",\"name\":\"ColumnDataSource\",\"id\":\"fa36a061-e11b-4e4f-aef6-fc7af6980fe0\",\"attributes\":{\"selected\":{\"type\":\"object\",\"name\":\"Selection\",\"id\":\"a37602f9-eded-44da-8e96-0da4ae533817\",\"attributes\":{\"indices\":[],\"line_indices\":[]}},\"selection_policy\":{\"type\":\"object\",\"name\":\"UnionRenderers\",\"id\":\"063d1fcb-2902-4741-aea8-8994b0dc22f0\"},\"data\":{\"type\":\"map\",\"entries\":[[\"x\",[{\"type\":\"ndarray\",\"array\":[\"1900\",\"1908\",\"1912\",\"1920\",\"1924\",\"1928\",\"1932\",\"1936\",\"1948\",\"1952\",\"1956\",\"1960\",\"1964\",\"1968\",\"1972\",\"1976\",\"1980\",\"1984\",\"1988\",\"1992\",\"1994\",\"1996\",\"1998\",\"2000\",\"2002\",\"2004\",\"2008\",\"2010\",\"2012\",\"2014\",\"2016\",\"2018\",\"2020\",\"2022\"],\"shape\":[34],\"dtype\":\"object\",\"order\":\"little\"}]],[\"y\",[{\"type\":\"ndarray\",\"array\":{\"type\":\"bytes\",\"data\":\"AgAAAAIAAAABAAAABQAAAAMAAAAFAAAADAAAAAkAAAALAAAACQAAAAgAAAAKAAAACwAAAAQAAAAFAAAACQAAAAUAAAAGAAAABQAAAAsAAAAFAAAACgAAAAYAAAAIAAAABAAAAAsAAAAJAAAAAQAAAAkAAAACAAAADAAAAAIAAAAKAAAABwAAAA==\"},\"shape\":[34],\"dtype\":\"int32\",\"order\":\"little\"}]]]}}},{\"type\":\"object\",\"name\":\"ColumnDataSource\",\"id\":\"50bdfcb7-d161-4e6e-a857-7d259a6cde62\",\"attributes\":{\"selected\":{\"type\":\"object\",\"name\":\"Selection\",\"id\":\"d20ad05f-9338-40f8-a9b9-ed6191d5f25e\",\"attributes\":{\"indices\":[],\"line_indices\":[]}},\"selection_policy\":{\"type\":\"object\",\"name\":\"UnionRenderers\",\"id\":\"008b6c75-92bf-467c-a646-56827e798a33\"},\"data\":{\"type\":\"map\",\"entries\":[[\"x\",[{\"type\":\"ndarray\",\"array\":[\"1912\",\"1920\",\"1924\",\"1928\",\"1932\",\"1936\",\"1948\",\"1952\",\"1956\",\"1960\",\"1964\",\"1968\",\"1972\",\"1976\",\"1980\",\"1984\",\"1988\",\"1992\",\"1994\",\"1996\",\"1998\",\"2000\",\"2002\",\"2004\",\"2006\",\"2008\",\"2010\",\"2012\",\"2014\",\"2016\",\"2018\",\"2020\",\"2022\"],\"shape\":[33],\"dtype\":\"object\",\"order\":\"little\"}]],[\"y\",[{\"type\":\"ndarray\",\"array\":{\"type\":\"bytes\",\"data\":\"AgAAAAUAAAAFAAAABwAAAAwAAAAFAAAACAAAAAUAAAAIAAAADgAAAAoAAAAJAAAACwAAAAUAAAAEAAAADAAAAAYAAAAMAAAACAAAAAwAAAACAAAADQAAAAUAAAALAAAABgAAAAoAAAADAAAACwAAAAYAAAAIAAAABQAAABQAAAAIAAAA\"},\"shape\":[33],\"dtype\":\"int32\",\"order\":\"little\"}]]]}}}],\"relayout\":null,\"restyle\":null,\"viewport_update_throttle\":200}}]}}]}},{\"type\":\"object\",\"name\":\"panel.models.comm_manager.CommManager\",\"id\":\"472bc476-c583-44e8-8f56-391937ece790\",\"attributes\":{\"plot_id\":\"fbd1ead4-ce12-41d1-92e3-60cf4bcddb64\",\"comm_id\":\"4d0bc06e5aaa4af18749e7141e873ab5\",\"client_comm_id\":\"eaa21a929af841c0ad1eb88986a31581\"}}],\"defs\":[{\"type\":\"model\",\"name\":\"ReactiveHTML1\"},{\"type\":\"model\",\"name\":\"FlexBox1\",\"properties\":[{\"name\":\"align_content\",\"kind\":\"Any\",\"default\":\"flex-start\"},{\"name\":\"align_items\",\"kind\":\"Any\",\"default\":\"flex-start\"},{\"name\":\"flex_direction\",\"kind\":\"Any\",\"default\":\"row\"},{\"name\":\"flex_wrap\",\"kind\":\"Any\",\"default\":\"wrap\"},{\"name\":\"justify_content\",\"kind\":\"Any\",\"default\":\"flex-start\"}]},{\"type\":\"model\",\"name\":\"FloatPanel1\",\"properties\":[{\"name\":\"config\",\"kind\":\"Any\",\"default\":{\"type\":\"map\"}},{\"name\":\"contained\",\"kind\":\"Any\",\"default\":true},{\"name\":\"position\",\"kind\":\"Any\",\"default\":\"right-top\"},{\"name\":\"offsetx\",\"kind\":\"Any\",\"default\":null},{\"name\":\"offsety\",\"kind\":\"Any\",\"default\":null},{\"name\":\"theme\",\"kind\":\"Any\",\"default\":\"primary\"},{\"name\":\"status\",\"kind\":\"Any\",\"default\":\"normalized\"}]},{\"type\":\"model\",\"name\":\"GridStack1\",\"properties\":[{\"name\":\"mode\",\"kind\":\"Any\",\"default\":\"warn\"},{\"name\":\"ncols\",\"kind\":\"Any\",\"default\":null},{\"name\":\"nrows\",\"kind\":\"Any\",\"default\":null},{\"name\":\"allow_resize\",\"kind\":\"Any\",\"default\":true},{\"name\":\"allow_drag\",\"kind\":\"Any\",\"default\":true},{\"name\":\"state\",\"kind\":\"Any\",\"default\":[]}]},{\"type\":\"model\",\"name\":\"drag1\",\"properties\":[{\"name\":\"slider_width\",\"kind\":\"Any\",\"default\":5},{\"name\":\"slider_color\",\"kind\":\"Any\",\"default\":\"black\"},{\"name\":\"value\",\"kind\":\"Any\",\"default\":50}]},{\"type\":\"model\",\"name\":\"click1\",\"properties\":[{\"name\":\"terminal_output\",\"kind\":\"Any\",\"default\":\"\"},{\"name\":\"debug_name\",\"kind\":\"Any\",\"default\":\"\"},{\"name\":\"clears\",\"kind\":\"Any\",\"default\":0}]},{\"type\":\"model\",\"name\":\"FastWrapper1\",\"properties\":[{\"name\":\"object\",\"kind\":\"Any\",\"default\":null},{\"name\":\"style\",\"kind\":\"Any\",\"default\":null}]},{\"type\":\"model\",\"name\":\"NotificationAreaBase1\",\"properties\":[{\"name\":\"position\",\"kind\":\"Any\",\"default\":\"bottom-right\"},{\"name\":\"_clear\",\"kind\":\"Any\",\"default\":0}]},{\"type\":\"model\",\"name\":\"NotificationArea1\",\"properties\":[{\"name\":\"notifications\",\"kind\":\"Any\",\"default\":[]},{\"name\":\"position\",\"kind\":\"Any\",\"default\":\"bottom-right\"},{\"name\":\"_clear\",\"kind\":\"Any\",\"default\":0},{\"name\":\"types\",\"kind\":\"Any\",\"default\":[{\"type\":\"map\",\"entries\":[[\"type\",\"warning\"],[\"background\",\"#ffc107\"],[\"icon\",{\"type\":\"map\",\"entries\":[[\"className\",\"fas fa-exclamation-triangle\"],[\"tagName\",\"i\"],[\"color\",\"white\"]]}]]},{\"type\":\"map\",\"entries\":[[\"type\",\"info\"],[\"background\",\"#007bff\"],[\"icon\",{\"type\":\"map\",\"entries\":[[\"className\",\"fas fa-info-circle\"],[\"tagName\",\"i\"],[\"color\",\"white\"]]}]]}]}]},{\"type\":\"model\",\"name\":\"Notification\",\"properties\":[{\"name\":\"background\",\"kind\":\"Any\",\"default\":null},{\"name\":\"duration\",\"kind\":\"Any\",\"default\":3000},{\"name\":\"icon\",\"kind\":\"Any\",\"default\":null},{\"name\":\"message\",\"kind\":\"Any\",\"default\":\"\"},{\"name\":\"notification_type\",\"kind\":\"Any\",\"default\":null},{\"name\":\"_destroyed\",\"kind\":\"Any\",\"default\":false}]},{\"type\":\"model\",\"name\":\"TemplateActions1\",\"properties\":[{\"name\":\"open_modal\",\"kind\":\"Any\",\"default\":0},{\"name\":\"close_modal\",\"kind\":\"Any\",\"default\":0}]},{\"type\":\"model\",\"name\":\"BootstrapTemplateActions1\",\"properties\":[{\"name\":\"open_modal\",\"kind\":\"Any\",\"default\":0},{\"name\":\"close_modal\",\"kind\":\"Any\",\"default\":0}]},{\"type\":\"model\",\"name\":\"MaterialTemplateActions1\",\"properties\":[{\"name\":\"open_modal\",\"kind\":\"Any\",\"default\":0},{\"name\":\"close_modal\",\"kind\":\"Any\",\"default\":0}]}]}};\n",
       "  var render_items = [{\"docid\":\"1b3f5eb2-43e9-44ba-b417-b23288aa055a\",\"roots\":{\"fbd1ead4-ce12-41d1-92e3-60cf4bcddb64\":\"f1ae02a0-9843-4cc6-b90e-b8eafa62915f\"},\"root_ids\":[\"fbd1ead4-ce12-41d1-92e3-60cf4bcddb64\"]}];\n",
       "  var docs = Object.values(docs_json)\n",
       "  if (!docs) {\n",
       "    return\n",
       "  }\n",
       "  const py_version = docs[0].version.replace('rc', '-rc.').replace('.dev', '-dev.')\n",
       "  const is_dev = py_version.indexOf(\"+\") !== -1 || py_version.indexOf(\"-\") !== -1\n",
       "  function embed_document(root) {\n",
       "    var Bokeh = get_bokeh(root)\n",
       "    Bokeh.embed.embed_items_notebook(docs_json, render_items);\n",
       "    for (const render_item of render_items) {\n",
       "      for (const root_id of render_item.root_ids) {\n",
       "\tconst id_el = document.getElementById(root_id)\n",
       "\tif (id_el.children.length && (id_el.children[0].className === 'bk-root')) {\n",
       "\t  const root_el = id_el.children[0]\n",
       "\t  root_el.id = root_el.id + '-rendered'\n",
       "\t}\n",
       "      }\n",
       "    }\n",
       "  }\n",
       "  function get_bokeh(root) {\n",
       "    if (root.Bokeh === undefined) {\n",
       "      return null\n",
       "    } else if (root.Bokeh.version !== py_version && !is_dev) {\n",
       "      if (root.Bokeh.versions === undefined || !root.Bokeh.versions.has(py_version)) {\n",
       "\treturn null\n",
       "      }\n",
       "      return root.Bokeh.versions.get(py_version);\n",
       "    } else if (root.Bokeh.version === py_version) {\n",
       "      return root.Bokeh\n",
       "    }\n",
       "    return null\n",
       "  }\n",
       "  function is_loaded(root) {\n",
       "    var Bokeh = get_bokeh(root)\n",
       "    return (Bokeh != null && Bokeh.Panel !== undefined && ( root['Tabulator'] !== undefined) && ( root['Tabulator'] !== undefined) && ( root['Plotly'] !== undefined) && ( root['Plotly'] !== undefined))\n",
       "  }\n",
       "  if (is_loaded(root)) {\n",
       "    embed_document(root);\n",
       "  } else {\n",
       "    var attempts = 0;\n",
       "    var timer = setInterval(function(root) {\n",
       "      if (is_loaded(root)) {\n",
       "        clearInterval(timer);\n",
       "        embed_document(root);\n",
       "      } else if (document.readyState == \"complete\") {\n",
       "        attempts++;\n",
       "        if (attempts > 200) {\n",
       "          clearInterval(timer);\n",
       "\t  var Bokeh = get_bokeh(root)\n",
       "\t  if (Bokeh == null || Bokeh.Panel == null) {\n",
       "            console.warn(\"Panel: ERROR: Unable to run Panel code because Bokeh or Panel library is missing\");\n",
       "\t  } else {\n",
       "\t    console.warn(\"Panel: WARNING: Attempting to render but not all required libraries could be resolved.\")\n",
       "\t    embed_document(root)\n",
       "\t  }\n",
       "        }\n",
       "      }\n",
       "    }, 25, root)\n",
       "  }\n",
       "})(window);</script>"
      ],
      "text/plain": [
       "Column\n",
       "    [0] Column\n",
       "        [0] Select(options=['Italy', 'Norway', ...], value='Italy')\n",
       "    [1] Row\n",
       "        [0] Plotly(Figure, name='interactive02403')"
      ]
     },
     "execution_count": 24,
     "metadata": {
      "application/vnd.holoviews_exec.v0+json": {
       "id": "fbd1ead4-ce12-41d1-92e3-60cf4bcddb64"
      }
     },
     "output_type": "execute_result"
    }
   ],
   "source": [
    "country = list(df.country_name.unique())\n",
    "#select = country.interactive()\n",
    "select = pn.widgets.Select(name='Select Country', options=country)\n",
    "\n",
    "filtered_data = worldmap1.interactive()\n",
    "filtered_data = worldmap1[worldmap1['country_name'] == select]\n",
    "filtered_data.head()\n",
    "#select\n",
    "#fig = px.line(slovenia_df, x='date', y='gold_medal')\n",
    "\n",
    "#select='Slovenia'\n",
    "# create function\n",
    "def create_plot(select):\n",
    "    filtered_data = worldmap1[worldmap1['country_name'] == select]\n",
    "#histogram = filtered_data.hvplot(kind='bar', \n",
    "#                                                     x='date', \n",
    "#                                                     y=\"counts\", \n",
    "#                                                     title='medalje v drzavi')\n",
    "    fig = px.histogram(filtered_data, x=\"date\", y=\"counts\", color=\"medal_type\").update_xaxes(categoryorder=\"category ascending\")\n",
    "    #fig.show()\n",
    "    return fig\n",
    "#create_plot\n",
    "#fig2.show()\n",
    "\n",
    "\n",
    "# create interaction between widget and function\n",
    "#select\n",
    "pn.interact(create_plot, select=select)"
   ]
  },
  {
   "cell_type": "code",
   "execution_count": 25,
   "id": "e20e951d-0192-409d-abc1-0f200eb1eed7",
   "metadata": {},
   "outputs": [],
   "source": [
    "#TODO: choose year and country\n",
    "#fig = px.histogram(disc_df, x=\"discipline_title\", y=\"counts\", color=\"medal_type\")\n",
    "\n",
    "#fig.show()\n",
    "\n",
    "\n",
    "country = list(df.country_name.unique())\n",
    "#discipline = list(df.discipline_title.unique())\n",
    "\n",
    "country_widget = pn.widgets.Select(name=\"country_name\", options=country)\n",
    "#discipline_widget = pn.widgets.Select(name=\"discipline_title\", options=discipline)\n",
    "\n",
    "idf = disc_dfx.interactive()\n",
    "idf = idf[(idf[\"country_name\"] == country_widget)] #& (idf[\"discipline_title\"] == discipline_widget)\n",
    "idf.head()\n",
    "second = idf.hvplot(kind=\"bar\", x=\"discipline_title\", y=\"counts\", color = \"medal_type\", cmap=['blue', 'orange', 'red'])"
   ]
  },
  {
   "cell_type": "code",
   "execution_count": 26,
   "id": "492ccc29-c1bb-452d-8ad1-5056b6eb4226",
   "metadata": {},
   "outputs": [],
   "source": [
    "\n",
    "#country = list(df.country_name.unique())\n",
    "\n",
    "#country_widget = pn.widgets.Select(name=\"country_name\", options=country)\n",
    "discipline = list(df.discipline_title.unique())\n",
    "discipline_widget = pn.widgets.Select(name=\"discipline_title\", options=discipline)\n",
    "#idf = worldmapx.interactive()\n",
    "idf = idf[(idf[\"country_name\"] == country_widget) & (idf[\"discipline_title\"] == discipline_widget)]\n",
    "#idf =(idf[\"discipline_title\"] == discipline_widget)\n",
    "idf.head()\n",
    "third = idf.hvplot(kind=\"bar\", x=\"date\", y=\"counts\", color = \"medal_type\", cmap=['blue', 'orange', 'red'])"
   ]
  },
  {
   "cell_type": "code",
   "execution_count": 30,
   "id": "5788157c-9d04-4112-8d50-33c2dc85353d",
   "metadata": {},
   "outputs": [],
   "source": [
    "#radio_group = pn.widgets.RadioBoxGroup(name='Olympic medals over time on a world map', options=['1', '2', '3'], inline=True)\n",
    "radio_group = pn.widgets.RadioBoxGroup(name='Olympic medals visualization', options=['By Country', 'By Discipline'], inline=True)\n",
    "#radio_group"
   ]
  },
  {
   "cell_type": "code",
   "execution_count": 39,
   "id": "7c3a1a5e-5eaa-47fb-8e9f-6ac80df3fed7",
   "metadata": {},
   "outputs": [],
   "source": [
    "# Create the interaction between widget and functions using param.depends\n",
    "@pn.depends(radio_group.param.value)\n",
    "def update_plots(selected_option):\n",
    "    if selected_option == 'By Country':\n",
    "        country = list(df.country_name.unique())\n",
    "        #discipline = list(df.discipline_title.unique())\n",
    "        \n",
    "        country_widget = pn.widgets.Select(name=\"country_name\", options=country)\n",
    "        #discipline_widget = pn.widgets.Select(name=\"discipline_title\", options=discipline)\n",
    "        \n",
    "        idf = disc_dfx.interactive()\n",
    "        idf = idf[(idf[\"country_name\"] == country_widget)] #& (idf[\"discipline_title\"] == discipline_widget)\n",
    "        idf.head()\n",
    "        second = idf.hvplot(kind=\"bar\", x=\"discipline_title\", y=\"counts\", color = \"medal_type\", cmap=['blue', 'orange', 'red'])\n",
    "        return second\n",
    "    elif selected_option == 'By Discipline':\n",
    "        #country = list(df.country_name.unique())\n",
    "\n",
    "        #country_widget = pn.widgets.Select(name=\"country_name\", options=country)\n",
    "        discipline = list(df.discipline_title.unique())\n",
    "        discipline_widget = pn.widgets.Select(name=\"discipline_title\", options=discipline)\n",
    "        #idf = worldmapx.interactive()\n",
    "        idf = idf[(idf[\"country_name\"] == country_widget) & (idf[\"discipline_title\"] == discipline_widget)]\n",
    "        #idf =(idf[\"discipline_title\"] == discipline_widget)\n",
    "        idf.head()\n",
    "        third = idf.hvplot(kind=\"bar\", x=\"date\", y=\"counts\", color = \"medal_type\", cmap=['blue', 'orange', 'red'])\n",
    "        return third"
   ]
  },
  {
   "cell_type": "code",
   "execution_count": 11,
   "id": "86d1961b-83bc-45c3-ad4e-c2881b7cf7ce",
   "metadata": {},
   "outputs": [],
   "source": [
    "#template = pn.template.SlidesTemplate(\n",
    "#    title='Olympics', logo='https://raw.githubusercontent.com/holoviz/panel/main/doc/_static/logo_stacked.png'\n",
    "#)\n",
    "\n",
    "#template.main.extend([   \n",
    "#    pn.pane.Markdown('Olympics', styles={'font-size': '3em'}, align='center'),\n",
    "#    pn.Card(second),\n",
    "#])\n",
    "\n",
    "\n",
    "\n",
    "#template.servable();"
   ]
  },
  {
   "cell_type": "code",
   "execution_count": null,
   "id": "45e4966a-452a-4525-b24b-8182976ff86f",
   "metadata": {},
   "outputs": [],
   "source": []
  },
  {
   "cell_type": "code",
   "execution_count": 41,
   "id": "43d39b3b-fe5f-4e07-9886-4ea4c6cc769b",
   "metadata": {},
   "outputs": [],
   "source": [
    "## Instantiate the template with widgets displayed in the sidebar\n",
    "template = pn.template.BootstrapTemplate(\n",
    "    title='Olympics',\n",
    "    sidebar=[radio_group],\n",
    ")\n",
    "# Append a layout to the main area, to demonstrate the list-like API\n",
    "template.main.append(\n",
    "    update_plots\n",
    ")\n",
    "\n",
    "template.servable();"
   ]
  },
  {
   "cell_type": "code",
   "execution_count": null,
   "id": "fe39bd44-8354-40f6-a564-62527fc4c6af",
   "metadata": {},
   "outputs": [],
   "source": []
  }
 ],
 "metadata": {
  "kernelspec": {
   "display_name": "Python 3 (ipykernel)",
   "language": "python",
   "name": "python3"
  },
  "language_info": {
   "codemirror_mode": {
    "name": "ipython",
    "version": 3
   },
   "file_extension": ".py",
   "mimetype": "text/x-python",
   "name": "python",
   "nbconvert_exporter": "python",
   "pygments_lexer": "ipython3",
   "version": "3.11.0"
  },
  "widgets": {
   "application/vnd.jupyter.widget-state+json": {
    "state": {},
    "version_major": 2,
    "version_minor": 0
   }
  }
 },
 "nbformat": 4,
 "nbformat_minor": 5
}
