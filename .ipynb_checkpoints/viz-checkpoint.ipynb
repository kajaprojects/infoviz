{
 "cells": [
  {
   "cell_type": "code",
   "execution_count": 223,
   "id": "9a8e6325-76e8-4679-8e54-df92be1b5555",
   "metadata": {},
   "outputs": [
    {
     "data": {
      "application/javascript": [
       "(function(root) {\n",
       "  function now() {\n",
       "    return new Date();\n",
       "  }\n",
       "\n",
       "  var force = true;\n",
       "  var py_version = '3.2.1'.replace('rc', '-rc.').replace('.dev', '-dev.');\n",
       "  var is_dev = py_version.indexOf(\"+\") !== -1 || py_version.indexOf(\"-\") !== -1;\n",
       "  var reloading = true;\n",
       "  var Bokeh = root.Bokeh;\n",
       "  var bokeh_loaded = Bokeh != null && (Bokeh.version === py_version || (Bokeh.versions !== undefined && Bokeh.versions.has(py_version)));\n",
       "\n",
       "  if (typeof (root._bokeh_timeout) === \"undefined\" || force) {\n",
       "    root._bokeh_timeout = Date.now() + 5000;\n",
       "    root._bokeh_failed_load = false;\n",
       "  }\n",
       "\n",
       "  function run_callbacks() {\n",
       "    try {\n",
       "      root._bokeh_onload_callbacks.forEach(function(callback) {\n",
       "        if (callback != null)\n",
       "          callback();\n",
       "      });\n",
       "    } finally {\n",
       "      delete root._bokeh_onload_callbacks;\n",
       "    }\n",
       "    console.debug(\"Bokeh: all callbacks have finished\");\n",
       "  }\n",
       "\n",
       "  function load_libs(css_urls, js_urls, js_modules, js_exports, callback) {\n",
       "    if (css_urls == null) css_urls = [];\n",
       "    if (js_urls == null) js_urls = [];\n",
       "    if (js_modules == null) js_modules = [];\n",
       "    if (js_exports == null) js_exports = {};\n",
       "\n",
       "    root._bokeh_onload_callbacks.push(callback);\n",
       "\n",
       "    if (root._bokeh_is_loading > 0) {\n",
       "      console.debug(\"Bokeh: BokehJS is being loaded, scheduling callback at\", now());\n",
       "      return null;\n",
       "    }\n",
       "    if (js_urls.length === 0 && js_modules.length === 0 && Object.keys(js_exports).length === 0) {\n",
       "      run_callbacks();\n",
       "      return null;\n",
       "    }\n",
       "    if (!reloading) {\n",
       "      console.debug(\"Bokeh: BokehJS not loaded, scheduling load and callback at\", now());\n",
       "    }\n",
       "\n",
       "    function on_load() {\n",
       "      root._bokeh_is_loading--;\n",
       "      if (root._bokeh_is_loading === 0) {\n",
       "        console.debug(\"Bokeh: all BokehJS libraries/stylesheets loaded\");\n",
       "        run_callbacks()\n",
       "      }\n",
       "    }\n",
       "    window._bokeh_on_load = on_load\n",
       "\n",
       "    function on_error() {\n",
       "      console.error(\"failed to load \" + url);\n",
       "    }\n",
       "\n",
       "    var skip = [];\n",
       "    if (window.requirejs) {\n",
       "      window.requirejs.config({'packages': {}, 'paths': {'tabulator': 'https://cdn.jsdelivr.net/npm/tabulator-tables@5.5.0/dist/js/tabulator', 'moment': 'https://cdn.jsdelivr.net/npm/luxon/build/global/luxon.min', 'plotly': 'https://cdn.plot.ly/plotly-2.18.0.min', 'jspanel': 'https://cdn.jsdelivr.net/npm/jspanel4@4.12.0/dist/jspanel', 'jspanel-modal': 'https://cdn.jsdelivr.net/npm/jspanel4@4.12.0/dist/extensions/modal/jspanel.modal', 'jspanel-tooltip': 'https://cdn.jsdelivr.net/npm/jspanel4@4.12.0/dist/extensions/tooltip/jspanel.tooltip', 'jspanel-hint': 'https://cdn.jsdelivr.net/npm/jspanel4@4.12.0/dist/extensions/hint/jspanel.hint', 'jspanel-layout': 'https://cdn.jsdelivr.net/npm/jspanel4@4.12.0/dist/extensions/layout/jspanel.layout', 'jspanel-contextmenu': 'https://cdn.jsdelivr.net/npm/jspanel4@4.12.0/dist/extensions/contextmenu/jspanel.contextmenu', 'jspanel-dock': 'https://cdn.jsdelivr.net/npm/jspanel4@4.12.0/dist/extensions/dock/jspanel.dock', 'gridstack': 'https://cdn.jsdelivr.net/npm/gridstack@7.2.3/dist/gridstack-all', 'notyf': 'https://cdn.jsdelivr.net/npm/notyf@3/notyf.min'}, 'shim': {'jspanel': {'exports': 'jsPanel'}, 'gridstack': {'exports': 'GridStack'}}});\n",
       "      require([\"tabulator\"], function(Tabulator) {\n",
       "\twindow.Tabulator = Tabulator\n",
       "\ton_load()\n",
       "      })\n",
       "      require([\"moment\"], function(moment) {\n",
       "\twindow.moment = moment\n",
       "\ton_load()\n",
       "      })\n",
       "      require([\"plotly\"], function(Plotly) {\n",
       "\twindow.Plotly = Plotly\n",
       "\ton_load()\n",
       "      })\n",
       "      require([\"jspanel\"], function(jsPanel) {\n",
       "\twindow.jsPanel = jsPanel\n",
       "\ton_load()\n",
       "      })\n",
       "      require([\"jspanel-modal\"], function() {\n",
       "\ton_load()\n",
       "      })\n",
       "      require([\"jspanel-tooltip\"], function() {\n",
       "\ton_load()\n",
       "      })\n",
       "      require([\"jspanel-hint\"], function() {\n",
       "\ton_load()\n",
       "      })\n",
       "      require([\"jspanel-layout\"], function() {\n",
       "\ton_load()\n",
       "      })\n",
       "      require([\"jspanel-contextmenu\"], function() {\n",
       "\ton_load()\n",
       "      })\n",
       "      require([\"jspanel-dock\"], function() {\n",
       "\ton_load()\n",
       "      })\n",
       "      require([\"gridstack\"], function(GridStack) {\n",
       "\twindow.GridStack = GridStack\n",
       "\ton_load()\n",
       "      })\n",
       "      require([\"notyf\"], function() {\n",
       "\ton_load()\n",
       "      })\n",
       "      root._bokeh_is_loading = css_urls.length + 12;\n",
       "    } else {\n",
       "      root._bokeh_is_loading = css_urls.length + js_urls.length + js_modules.length + Object.keys(js_exports).length;\n",
       "    }\n",
       "\n",
       "    var existing_stylesheets = []\n",
       "    var links = document.getElementsByTagName('link')\n",
       "    for (var i = 0; i < links.length; i++) {\n",
       "      var link = links[i]\n",
       "      if (link.href != null) {\n",
       "\texisting_stylesheets.push(link.href)\n",
       "      }\n",
       "    }\n",
       "    for (var i = 0; i < css_urls.length; i++) {\n",
       "      var url = css_urls[i];\n",
       "      if (existing_stylesheets.indexOf(url) !== -1) {\n",
       "\ton_load()\n",
       "\tcontinue;\n",
       "      }\n",
       "      const element = document.createElement(\"link\");\n",
       "      element.onload = on_load;\n",
       "      element.onerror = on_error;\n",
       "      element.rel = \"stylesheet\";\n",
       "      element.type = \"text/css\";\n",
       "      element.href = url;\n",
       "      console.debug(\"Bokeh: injecting link tag for BokehJS stylesheet: \", url);\n",
       "      document.body.appendChild(element);\n",
       "    }    if (((window['Tabulator'] !== undefined) && (!(window['Tabulator'] instanceof HTMLElement))) || window.requirejs) {\n",
       "      var urls = ['https://cdn.holoviz.org/panel/1.2.0/dist/bundled/datatabulator/tabulator-tables@5.5.0/dist/js/tabulator.js'];\n",
       "      for (var i = 0; i < urls.length; i++) {\n",
       "        skip.push(urls[i])\n",
       "      }\n",
       "    }    if (((window['moment'] !== undefined) && (!(window['moment'] instanceof HTMLElement))) || window.requirejs) {\n",
       "      var urls = ['https://cdn.holoviz.org/panel/1.2.0/dist/bundled/datatabulator/luxon/build/global/luxon.min.js'];\n",
       "      for (var i = 0; i < urls.length; i++) {\n",
       "        skip.push(urls[i])\n",
       "      }\n",
       "    }    if (((window['Plotly'] !== undefined) && (!(window['Plotly'] instanceof HTMLElement))) || window.requirejs) {\n",
       "      var urls = ['https://cdn.holoviz.org/panel/1.2.0/dist/bundled/plotlyplot/plotly-2.18.0.min.js'];\n",
       "      for (var i = 0; i < urls.length; i++) {\n",
       "        skip.push(urls[i])\n",
       "      }\n",
       "    }    if (((window['jsPanel'] !== undefined) && (!(window['jsPanel'] instanceof HTMLElement))) || window.requirejs) {\n",
       "      var urls = ['https://cdn.holoviz.org/panel/1.2.0/dist/bundled/floatpanel/jspanel4@4.12.0/dist/jspanel.js', 'https://cdn.holoviz.org/panel/1.2.0/dist/bundled/floatpanel/jspanel4@4.12.0/dist/extensions/modal/jspanel.modal.js', 'https://cdn.holoviz.org/panel/1.2.0/dist/bundled/floatpanel/jspanel4@4.12.0/dist/extensions/tooltip/jspanel.tooltip.js', 'https://cdn.holoviz.org/panel/1.2.0/dist/bundled/floatpanel/jspanel4@4.12.0/dist/extensions/hint/jspanel.hint.js', 'https://cdn.holoviz.org/panel/1.2.0/dist/bundled/floatpanel/jspanel4@4.12.0/dist/extensions/layout/jspanel.layout.js', 'https://cdn.holoviz.org/panel/1.2.0/dist/bundled/floatpanel/jspanel4@4.12.0/dist/extensions/contextmenu/jspanel.contextmenu.js', 'https://cdn.holoviz.org/panel/1.2.0/dist/bundled/floatpanel/jspanel4@4.12.0/dist/extensions/dock/jspanel.dock.js'];\n",
       "      for (var i = 0; i < urls.length; i++) {\n",
       "        skip.push(urls[i])\n",
       "      }\n",
       "    }    if (((window['GridStack'] !== undefined) && (!(window['GridStack'] instanceof HTMLElement))) || window.requirejs) {\n",
       "      var urls = ['https://cdn.holoviz.org/panel/1.2.0/dist/bundled/gridstack/gridstack@7.2.3/dist/gridstack-all.js'];\n",
       "      for (var i = 0; i < urls.length; i++) {\n",
       "        skip.push(urls[i])\n",
       "      }\n",
       "    }    if (((window['Notyf'] !== undefined) && (!(window['Notyf'] instanceof HTMLElement))) || window.requirejs) {\n",
       "      var urls = ['https://cdn.holoviz.org/panel/1.2.0/dist/bundled/notificationarea/notyf@3/notyf.min.js'];\n",
       "      for (var i = 0; i < urls.length; i++) {\n",
       "        skip.push(urls[i])\n",
       "      }\n",
       "    }    var existing_scripts = []\n",
       "    var scripts = document.getElementsByTagName('script')\n",
       "    for (var i = 0; i < scripts.length; i++) {\n",
       "      var script = scripts[i]\n",
       "      if (script.src != null) {\n",
       "\texisting_scripts.push(script.src)\n",
       "      }\n",
       "    }\n",
       "    for (var i = 0; i < js_urls.length; i++) {\n",
       "      var url = js_urls[i];\n",
       "      if (skip.indexOf(url) !== -1 || existing_scripts.indexOf(url) !== -1) {\n",
       "\tif (!window.requirejs) {\n",
       "\t  on_load();\n",
       "\t}\n",
       "\tcontinue;\n",
       "      }\n",
       "      var element = document.createElement('script');\n",
       "      element.onload = on_load;\n",
       "      element.onerror = on_error;\n",
       "      element.async = false;\n",
       "      element.src = url;\n",
       "      console.debug(\"Bokeh: injecting script tag for BokehJS library: \", url);\n",
       "      document.head.appendChild(element);\n",
       "    }\n",
       "    for (var i = 0; i < js_modules.length; i++) {\n",
       "      var url = js_modules[i];\n",
       "      if (skip.indexOf(url) !== -1 || existing_scripts.indexOf(url) !== -1) {\n",
       "\tif (!window.requirejs) {\n",
       "\t  on_load();\n",
       "\t}\n",
       "\tcontinue;\n",
       "      }\n",
       "      var element = document.createElement('script');\n",
       "      element.onload = on_load;\n",
       "      element.onerror = on_error;\n",
       "      element.async = false;\n",
       "      element.src = url;\n",
       "      element.type = \"module\";\n",
       "      console.debug(\"Bokeh: injecting script tag for BokehJS library: \", url);\n",
       "      document.head.appendChild(element);\n",
       "    }\n",
       "    for (const name in js_exports) {\n",
       "      var url = js_exports[name];\n",
       "      if (skip.indexOf(url) >= 0 || root[name] != null) {\n",
       "\tif (!window.requirejs) {\n",
       "\t  on_load();\n",
       "\t}\n",
       "\tcontinue;\n",
       "      }\n",
       "      var element = document.createElement('script');\n",
       "      element.onerror = on_error;\n",
       "      element.async = false;\n",
       "      element.type = \"module\";\n",
       "      console.debug(\"Bokeh: injecting script tag for BokehJS library: \", url);\n",
       "      element.textContent = `\n",
       "      import ${name} from \"${url}\"\n",
       "      window.${name} = ${name}\n",
       "      window._bokeh_on_load()\n",
       "      `\n",
       "      document.head.appendChild(element);\n",
       "    }\n",
       "    if (!js_urls.length && !js_modules.length) {\n",
       "      on_load()\n",
       "    }\n",
       "  };\n",
       "\n",
       "  function inject_raw_css(css) {\n",
       "    const element = document.createElement(\"style\");\n",
       "    element.appendChild(document.createTextNode(css));\n",
       "    document.body.appendChild(element);\n",
       "  }\n",
       "\n",
       "  var js_urls = [\"https://cdn.holoviz.org/panel/1.2.0/dist/bundled/jquery/jquery.slim.min.js\", \"https://cdn.holoviz.org/panel/1.2.0/dist/bundled/plotlyplot/plotly-2.18.0.min.js\", \"https://cdn.holoviz.org/panel/1.2.0/dist/bundled/datatabulator/tabulator-tables@5.5.0/dist/js/tabulator.js\", \"https://cdn.holoviz.org/panel/1.2.0/dist/bundled/datatabulator/luxon/build/global/luxon.min.js\"];\n",
       "  var js_modules = [];\n",
       "  var js_exports = {};\n",
       "  var css_urls = [\"https://cdn.holoviz.org/panel/1.2.0/dist/bundled/datatabulator/tabulator-tables@5.5.0/dist/css/tabulator_simple.min.css\"];\n",
       "  var inline_js = [    function(Bokeh) {\n",
       "      inject_raw_css(\".tabulator{position:relative;border:1px solid #999;font-size:14px;text-align:left;overflow:hidden;-webkit-transform:translateZ(0);-moz-transform:translateZ(0);-ms-transform:translateZ(0);-o-transform:translateZ(0);transform:translateZ(0)}.tabulator[tabulator-layout=fitDataFill] .tabulator-tableholder .tabulator-table{min-width:100%}.tabulator[tabulator-layout=fitDataTable]{display:inline-block}.tabulator.tabulator-block-select{user-select:none}.tabulator .tabulator-header{position:relative;box-sizing:border-box;width:100%;border-bottom:1px solid #999;background-color:#fff;color:#555;font-weight:700;white-space:nowrap;overflow:hidden;-moz-user-select:none;-khtml-user-select:none;-webkit-user-select:none;-o-user-select:none}.tabulator .tabulator-header.tabulator-header-hidden{display:none}.tabulator .tabulator-header .tabulator-header-contents{position:relative;overflow:hidden}.tabulator .tabulator-header .tabulator-header-contents .tabulator-headers{display:inline-block}.tabulator .tabulator-header .tabulator-col{display:inline-flex;position:relative;box-sizing:border-box;flex-direction:column;justify-content:flex-start;border-right:1px solid #ddd;background:#fff;text-align:left;vertical-align:bottom;overflow:hidden}.tabulator .tabulator-header .tabulator-col.tabulator-moving{position:absolute;border:1px solid #999;background:#e6e6e6;pointer-events:none}.tabulator .tabulator-header .tabulator-col .tabulator-col-content{box-sizing:border-box;position:relative;padding:4px}.tabulator .tabulator-header .tabulator-col .tabulator-col-content .tabulator-header-popup-button{padding:0 8px}.tabulator .tabulator-header .tabulator-col .tabulator-col-content .tabulator-header-popup-button:hover{cursor:pointer;opacity:.6}.tabulator .tabulator-header .tabulator-col .tabulator-col-content .tabulator-col-title-holder{position:relative}.tabulator .tabulator-header .tabulator-col .tabulator-col-content .tabulator-col-title{box-sizing:border-box;width:100%;white-space:nowrap;overflow:hidden;text-overflow:ellipsis;vertical-align:bottom}.tabulator .tabulator-header .tabulator-col .tabulator-col-content .tabulator-col-title.tabulator-col-title-wrap{white-space:normal;text-overflow:clip}.tabulator .tabulator-header .tabulator-col .tabulator-col-content .tabulator-col-title .tabulator-title-editor{box-sizing:border-box;width:100%;border:1px solid #999;padding:1px;background:#fff}.tabulator .tabulator-header .tabulator-col .tabulator-col-content .tabulator-col-title .tabulator-header-popup-button+.tabulator-title-editor{width:calc(100% - 22px)}.tabulator .tabulator-header .tabulator-col .tabulator-col-content .tabulator-col-sorter{display:flex;align-items:center;position:absolute;top:0;bottom:0;right:4px}.tabulator .tabulator-header .tabulator-col .tabulator-col-content .tabulator-col-sorter .tabulator-arrow{width:0;height:0;border-left:6px solid transparent;border-right:6px solid transparent;border-bottom:6px solid #bbb}.tabulator .tabulator-header .tabulator-col.tabulator-col-group .tabulator-col-group-cols{position:relative;display:flex;border-top:1px solid #ddd;overflow:hidden;margin-right:-1px}.tabulator .tabulator-header .tabulator-col .tabulator-header-filter{position:relative;box-sizing:border-box;margin-top:2px;width:100%;text-align:center}.tabulator .tabulator-header .tabulator-col .tabulator-header-filter textarea{height:auto!important}.tabulator .tabulator-header .tabulator-col .tabulator-header-filter svg{margin-top:3px}.tabulator .tabulator-header .tabulator-col .tabulator-header-filter input::-ms-clear{width:0;height:0}.tabulator .tabulator-header .tabulator-col.tabulator-sortable .tabulator-col-title{padding-right:25px}@media (hover:hover) and (pointer:fine){.tabulator .tabulator-header .tabulator-col.tabulator-sortable.tabulator-col-sorter-element:hover{cursor:pointer;background-color:#e6e6e6}}.tabulator .tabulator-header .tabulator-col.tabulator-sortable[aria-sort=none] .tabulator-col-content .tabulator-col-sorter{color:#bbb}@media (hover:hover) and (pointer:fine){.tabulator .tabulator-header .tabulator-col.tabulator-sortable[aria-sort=none] .tabulator-col-content .tabulator-col-sorter.tabulator-col-sorter-element .tabulator-arrow:hover{cursor:pointer;border-bottom:6px solid #555}}.tabulator .tabulator-header .tabulator-col.tabulator-sortable[aria-sort=none] .tabulator-col-content .tabulator-col-sorter .tabulator-arrow{border-top:none;border-bottom:6px solid #bbb}.tabulator .tabulator-header .tabulator-col.tabulator-sortable[aria-sort=ascending] .tabulator-col-content .tabulator-col-sorter{color:#666}@media (hover:hover) and (pointer:fine){.tabulator .tabulator-header .tabulator-col.tabulator-sortable[aria-sort=ascending] .tabulator-col-content .tabulator-col-sorter.tabulator-col-sorter-element .tabulator-arrow:hover{cursor:pointer;border-bottom:6px solid #555}}.tabulator .tabulator-header .tabulator-col.tabulator-sortable[aria-sort=ascending] .tabulator-col-content .tabulator-col-sorter .tabulator-arrow{border-top:none;border-bottom:6px solid #666}.tabulator .tabulator-header .tabulator-col.tabulator-sortable[aria-sort=descending] .tabulator-col-content .tabulator-col-sorter{color:#666}@media (hover:hover) and (pointer:fine){.tabulator .tabulator-header .tabulator-col.tabulator-sortable[aria-sort=descending] .tabulator-col-content .tabulator-col-sorter.tabulator-col-sorter-element .tabulator-arrow:hover{cursor:pointer;border-top:6px solid #555}}.tabulator .tabulator-header .tabulator-col.tabulator-sortable[aria-sort=descending] .tabulator-col-content .tabulator-col-sorter .tabulator-arrow{border-bottom:none;border-top:6px solid #666;color:#666}.tabulator .tabulator-header .tabulator-col.tabulator-col-vertical .tabulator-col-content .tabulator-col-title{writing-mode:vertical-rl;text-orientation:mixed;display:flex;align-items:center;justify-content:center}.tabulator .tabulator-header .tabulator-col.tabulator-col-vertical.tabulator-col-vertical-flip .tabulator-col-title{transform:rotate(180deg)}.tabulator .tabulator-header .tabulator-col.tabulator-col-vertical.tabulator-sortable .tabulator-col-title{padding-right:0;padding-top:20px}.tabulator .tabulator-header .tabulator-col.tabulator-col-vertical.tabulator-sortable.tabulator-col-vertical-flip .tabulator-col-title{padding-right:0;padding-bottom:20px}.tabulator .tabulator-header .tabulator-col.tabulator-col-vertical.tabulator-sortable .tabulator-col-sorter{justify-content:center;left:0;right:0;top:4px;bottom:auto}.tabulator .tabulator-header .tabulator-frozen{position:sticky;left:0;z-index:10}.tabulator .tabulator-header .tabulator-frozen.tabulator-frozen-left{border-right:2px solid #ddd}.tabulator .tabulator-header .tabulator-frozen.tabulator-frozen-right{border-left:2px solid #ddd}.tabulator .tabulator-header .tabulator-calcs-holder{box-sizing:border-box;background:#fff!important;border-top:1px solid #ddd;border-bottom:1px solid #ddd}.tabulator .tabulator-header .tabulator-calcs-holder .tabulator-row{background:#fff!important}.tabulator .tabulator-header .tabulator-calcs-holder .tabulator-row .tabulator-col-resize-handle,.tabulator .tabulator-header .tabulator-frozen-rows-holder:empty{display:none}.tabulator .tabulator-tableholder{position:relative;width:100%;white-space:nowrap;overflow:auto;-webkit-overflow-scrolling:touch}.tabulator .tabulator-tableholder:focus{outline:none}.tabulator .tabulator-tableholder .tabulator-placeholder{box-sizing:border-box;display:flex;align-items:center;justify-content:center;width:100%}.tabulator .tabulator-tableholder .tabulator-placeholder[tabulator-render-mode=virtual]{min-height:100%;min-width:100%}.tabulator .tabulator-tableholder .tabulator-placeholder .tabulator-placeholder-contents{display:inline-block;text-align:center;padding:10px;color:#ccc;font-weight:700;font-size:20px;white-space:normal}.tabulator .tabulator-tableholder .tabulator-table{position:relative;display:inline-block;background-color:#fff;white-space:nowrap;overflow:visible;color:#333}.tabulator .tabulator-tableholder .tabulator-table .tabulator-row.tabulator-calcs{font-weight:700;background:#f2f2f2!important}.tabulator .tabulator-tableholder .tabulator-table .tabulator-row.tabulator-calcs.tabulator-calcs-top{border-bottom:2px solid #ddd}.tabulator .tabulator-tableholder .tabulator-table .tabulator-row.tabulator-calcs.tabulator-calcs-bottom{border-top:2px solid #ddd}.tabulator .tabulator-footer{border-top:1px solid #999;background-color:#fff;color:#555;font-weight:700;white-space:nowrap;user-select:none;-moz-user-select:none;-khtml-user-select:none;-webkit-user-select:none;-o-user-select:none}.tabulator .tabulator-footer .tabulator-footer-contents{display:flex;flex-direction:row;align-items:center;justify-content:space-between;padding:5px 10px}.tabulator .tabulator-footer .tabulator-footer-contents:empty{display:none}.tabulator .tabulator-footer .tabulator-calcs-holder{box-sizing:border-box;width:100%;text-align:left;background:#fff!important;border-bottom:1px solid #ddd;border-top:1px solid #ddd;overflow:hidden}.tabulator .tabulator-footer .tabulator-calcs-holder .tabulator-row{display:inline-block;background:#fff!important}.tabulator .tabulator-footer .tabulator-calcs-holder .tabulator-row .tabulator-col-resize-handle{display:none}.tabulator .tabulator-footer .tabulator-calcs-holder:only-child{margin-bottom:-5px;border-bottom:none}.tabulator .tabulator-footer>*+.tabulator-page-counter{margin-left:10px}.tabulator .tabulator-footer .tabulator-page-counter{font-weight:400}.tabulator .tabulator-footer .tabulator-paginator{flex:1;text-align:right;color:#555;font-family:inherit;font-weight:inherit;font-size:inherit}.tabulator .tabulator-footer .tabulator-page-size{display:inline-block;margin:0 5px;padding:2px 5px;border:1px solid #aaa;border-radius:3px}.tabulator .tabulator-footer .tabulator-pages{margin:0 7px}.tabulator .tabulator-footer .tabulator-page{display:inline-block;margin:0 2px;padding:2px 5px;border:1px solid #aaa;border-radius:3px;background:hsla(0,0%,100%,.2)}.tabulator .tabulator-footer .tabulator-page.active{color:#d00}.tabulator .tabulator-footer .tabulator-page:disabled{opacity:.5}@media (hover:hover) and (pointer:fine){.tabulator .tabulator-footer .tabulator-page:not(.disabled):hover{cursor:pointer;background:rgba(0,0,0,.2);color:#fff}}.tabulator .tabulator-col-resize-handle{position:relative;display:inline-block;width:6px;margin-left:-3px;margin-right:-3px;z-index:10;vertical-align:middle}@media (hover:hover) and (pointer:fine){.tabulator .tabulator-col-resize-handle:hover{cursor:ew-resize}}.tabulator .tabulator-col-resize-handle:last-of-type{width:3px;margin-right:0}.tabulator .tabulator-alert{position:absolute;display:flex;align-items:center;top:0;left:0;z-index:100;height:100%;width:100%;background:rgba(0,0,0,.4);text-align:center}.tabulator .tabulator-alert .tabulator-alert-msg{display:inline-block;margin:0 auto;padding:10px 20px;border-radius:10px;background:#fff;font-weight:700;font-size:16px}.tabulator .tabulator-alert .tabulator-alert-msg.tabulator-alert-state-msg{border:4px solid #333;color:#000}.tabulator .tabulator-alert .tabulator-alert-msg.tabulator-alert-state-error{border:4px solid #d00;color:#590000}.tabulator-row{position:relative;box-sizing:border-box;min-height:22px}.tabulator-row,.tabulator-row.tabulator-row-even{background-color:#fff}@media (hover:hover) and (pointer:fine){.tabulator-row.tabulator-selectable:hover{background-color:#bbb;cursor:pointer}}.tabulator-row.tabulator-selected{background-color:#9abcea}@media (hover:hover) and (pointer:fine){.tabulator-row.tabulator-selected:hover{background-color:#769bcc;cursor:pointer}}.tabulator-row.tabulator-row-moving{border:1px solid #000;background:#fff}.tabulator-row.tabulator-moving{position:absolute;border-top:1px solid #ddd;border-bottom:1px solid #ddd;pointer-events:none;z-index:15}.tabulator-row .tabulator-row-resize-handle{position:absolute;right:0;bottom:0;left:0;height:5px}.tabulator-row .tabulator-row-resize-handle.prev{top:0;bottom:auto}@media (hover:hover) and (pointer:fine){.tabulator-row .tabulator-row-resize-handle:hover{cursor:ns-resize}}.tabulator-row .tabulator-responsive-collapse{box-sizing:border-box;padding:5px;border-top:1px solid #ddd;border-bottom:1px solid #ddd}.tabulator-row .tabulator-responsive-collapse:empty{display:none}.tabulator-row .tabulator-responsive-collapse table{font-size:14px}.tabulator-row .tabulator-responsive-collapse table tr td{position:relative}.tabulator-row .tabulator-responsive-collapse table tr td:first-of-type{padding-right:10px}.tabulator-row .tabulator-cell{display:inline-block;position:relative;box-sizing:border-box;padding:4px;border-right:1px solid #ddd;vertical-align:middle;white-space:nowrap;overflow:hidden;text-overflow:ellipsis}.tabulator-row .tabulator-cell.tabulator-frozen{display:inline-block;position:sticky;left:0;background-color:inherit;z-index:10}.tabulator-row .tabulator-cell.tabulator-frozen.tabulator-frozen-left{border-right:2px solid #ddd}.tabulator-row .tabulator-cell.tabulator-frozen.tabulator-frozen-right{border-left:2px solid #ddd}.tabulator-row .tabulator-cell.tabulator-editing{border:1px solid #1d68cd;outline:none;padding:0}.tabulator-row .tabulator-cell.tabulator-editing input,.tabulator-row .tabulator-cell.tabulator-editing select{border:1px;background:transparent;outline:none}.tabulator-row .tabulator-cell.tabulator-validation-fail{border:1px solid #d00}.tabulator-row .tabulator-cell.tabulator-validation-fail input,.tabulator-row .tabulator-cell.tabulator-validation-fail select{border:1px;background:transparent;color:#d00}.tabulator-row .tabulator-cell.tabulator-row-handle{display:inline-flex;align-items:center;justify-content:center;-moz-user-select:none;-khtml-user-select:none;-webkit-user-select:none;-o-user-select:none}.tabulator-row .tabulator-cell.tabulator-row-handle .tabulator-row-handle-box{width:80%}.tabulator-row .tabulator-cell.tabulator-row-handle .tabulator-row-handle-box .tabulator-row-handle-bar{width:100%;height:3px;margin-top:2px;background:#666}.tabulator-row .tabulator-cell .tabulator-data-tree-branch{display:inline-block;vertical-align:middle;height:9px;width:7px;margin-top:-9px;margin-right:5px;border-bottom-left-radius:1px;border-left:2px solid #ddd;border-bottom:2px solid #ddd}.tabulator-row .tabulator-cell .tabulator-data-tree-control{display:inline-flex;justify-content:center;align-items:center;vertical-align:middle;height:11px;width:11px;margin-right:5px;border:1px solid #333;border-radius:2px;background:rgba(0,0,0,.1);overflow:hidden}@media (hover:hover) and (pointer:fine){.tabulator-row .tabulator-cell .tabulator-data-tree-control:hover{cursor:pointer;background:rgba(0,0,0,.2)}}.tabulator-row .tabulator-cell .tabulator-data-tree-control .tabulator-data-tree-control-collapse{display:inline-block;position:relative;height:7px;width:1px;background:transparent}.tabulator-row .tabulator-cell .tabulator-data-tree-control .tabulator-data-tree-control-collapse:after{position:absolute;content:\\\"\\\";left:-3px;top:3px;height:1px;width:7px;background:#333}.tabulator-row .tabulator-cell .tabulator-data-tree-control .tabulator-data-tree-control-expand{display:inline-block;position:relative;height:7px;width:1px;background:#333}.tabulator-row .tabulator-cell .tabulator-data-tree-control .tabulator-data-tree-control-expand:after{position:absolute;content:\\\"\\\";left:-3px;top:3px;height:1px;width:7px;background:#333}.tabulator-row .tabulator-cell .tabulator-responsive-collapse-toggle{display:inline-flex;align-items:center;justify-content:center;-moz-user-select:none;-khtml-user-select:none;-webkit-user-select:none;-o-user-select:none;height:15px;width:15px;border-radius:20px;background:#666;color:#fff;font-weight:700;font-size:1.1em}@media (hover:hover) and (pointer:fine){.tabulator-row .tabulator-cell .tabulator-responsive-collapse-toggle:hover{opacity:.7;cursor:pointer}}.tabulator-row .tabulator-cell .tabulator-responsive-collapse-toggle.open .tabulator-responsive-collapse-toggle-close{display:initial}.tabulator-row .tabulator-cell .tabulator-responsive-collapse-toggle.open .tabulator-responsive-collapse-toggle-open{display:none}.tabulator-row .tabulator-cell .tabulator-responsive-collapse-toggle svg{stroke:#fff}.tabulator-row .tabulator-cell .tabulator-responsive-collapse-toggle .tabulator-responsive-collapse-toggle-close{display:none}.tabulator-row .tabulator-cell .tabulator-traffic-light{display:inline-block;height:14px;width:14px;border-radius:14px}.tabulator-row.tabulator-group{box-sizing:border-box;border-bottom:1px solid #999;border-right:1px solid #ddd;border-top:1px solid #999;padding:5px 5px 5px 10px;background:#ccc;font-weight:700;min-width:100%}@media (hover:hover) and (pointer:fine){.tabulator-row.tabulator-group:hover{cursor:pointer;background-color:rgba(0,0,0,.1)}}.tabulator-row.tabulator-group.tabulator-group-visible .tabulator-arrow{margin-right:10px;border-left:6px solid transparent;border-right:6px solid transparent;border-top:6px solid #666;border-bottom:0}.tabulator-row.tabulator-group.tabulator-group-level-1{padding-left:30px}.tabulator-row.tabulator-group.tabulator-group-level-2{padding-left:50px}.tabulator-row.tabulator-group.tabulator-group-level-3{padding-left:70px}.tabulator-row.tabulator-group.tabulator-group-level-4{padding-left:90px}.tabulator-row.tabulator-group.tabulator-group-level-5{padding-left:110px}.tabulator-row.tabulator-group .tabulator-group-toggle{display:inline-block}.tabulator-row.tabulator-group .tabulator-arrow{display:inline-block;width:0;height:0;margin-right:16px;border-top:6px solid transparent;border-bottom:6px solid transparent;border-right:0;border-left:6px solid #666;vertical-align:middle}.tabulator-row.tabulator-group span{margin-left:10px;color:#d00}.tabulator-popup-container{position:absolute;display:inline-block;box-sizing:border-box;background:#fff;border:1px solid #ddd;box-shadow:0 0 5px 0 rgba(0,0,0,.2);font-size:14px;overflow-y:auto;-webkit-overflow-scrolling:touch;z-index:10000}.tabulator-popup{padding:5px;border-radius:3px}.tabulator-tooltip{max-width:Min(500px,100%);padding:3px 5px;border-radius:2px;box-shadow:none;font-size:12px;pointer-events:none}.tabulator-menu .tabulator-menu-item{position:relative;box-sizing:border-box;padding:5px 10px;user-select:none}.tabulator-menu .tabulator-menu-item.tabulator-menu-item-disabled{opacity:.5}@media (hover:hover) and (pointer:fine){.tabulator-menu .tabulator-menu-item:not(.tabulator-menu-item-disabled):hover{cursor:pointer;background:#fff}}.tabulator-menu .tabulator-menu-item.tabulator-menu-item-submenu{padding-right:25px}.tabulator-menu .tabulator-menu-item.tabulator-menu-item-submenu:after{display:inline-block;position:absolute;top:calc(5px + .4em);right:10px;height:7px;width:7px;content:\\\"\\\";border-color:#ddd;border-style:solid;border-width:1px 1px 0 0;vertical-align:top;transform:rotate(45deg)}.tabulator-menu .tabulator-menu-separator{border-top:1px solid #ddd}.tabulator-edit-list{max-height:200px;font-size:14px;overflow-y:auto;-webkit-overflow-scrolling:touch}.tabulator-edit-list .tabulator-edit-list-item{padding:4px;color:#333;outline:none}.tabulator-edit-list .tabulator-edit-list-item.active{color:#fff;background:#1d68cd}.tabulator-edit-list .tabulator-edit-list-item.active.focused{outline:1px solid hsla(0,0%,100%,.5)}.tabulator-edit-list .tabulator-edit-list-item.focused{outline:1px solid #1d68cd}@media (hover:hover) and (pointer:fine){.tabulator-edit-list .tabulator-edit-list-item:hover{cursor:pointer;color:#fff;background:#1d68cd}}.tabulator-edit-list .tabulator-edit-list-placeholder{padding:4px;color:#333;text-align:center}.tabulator-edit-list .tabulator-edit-list-group{border-bottom:1px solid #ddd;padding:6px 4px 4px;color:#333;font-weight:700}.tabulator-edit-list .tabulator-edit-list-group.tabulator-edit-list-group-level-2,.tabulator-edit-list .tabulator-edit-list-item.tabulator-edit-list-group-level-2{padding-left:12px}.tabulator-edit-list .tabulator-edit-list-group.tabulator-edit-list-group-level-3,.tabulator-edit-list .tabulator-edit-list-item.tabulator-edit-list-group-level-3{padding-left:20px}.tabulator-edit-list .tabulator-edit-list-group.tabulator-edit-list-group-level-4,.tabulator-edit-list .tabulator-edit-list-item.tabulator-edit-list-group-level-4{padding-left:28px}.tabulator-edit-list .tabulator-edit-list-group.tabulator-edit-list-group-level-5,.tabulator-edit-list .tabulator-edit-list-item.tabulator-edit-list-group-level-5{padding-left:36px}.tabulator.tabulator-ltr{direction:ltr}.tabulator.tabulator-rtl{text-align:initial;direction:rtl}.tabulator.tabulator-rtl .tabulator-header .tabulator-col{text-align:initial;border-left:1px solid #ddd;border-right:initial}.tabulator.tabulator-rtl .tabulator-header .tabulator-col.tabulator-col-group .tabulator-col-group-cols{margin-right:0;margin-left:-1px}.tabulator.tabulator-rtl .tabulator-header .tabulator-col.tabulator-sortable .tabulator-col-title{padding-right:0;padding-left:25px}.tabulator.tabulator-rtl .tabulator-header .tabulator-col .tabulator-col-content .tabulator-col-sorter{left:8px;right:auto}.tabulator.tabulator-rtl .tabulator-row .tabulator-cell{border-right:initial;border-left:1px solid #ddd}.tabulator.tabulator-rtl .tabulator-row .tabulator-cell .tabulator-data-tree-branch{margin-right:0;margin-left:5px;border-bottom-left-radius:0;border-bottom-right-radius:1px;border-left:initial;border-right:2px solid #ddd}.tabulator.tabulator-rtl .tabulator-row .tabulator-cell .tabulator-data-tree-control{margin-right:0;margin-left:5px}.tabulator.tabulator-rtl .tabulator-row .tabulator-cell.tabulator-frozen.tabulator-frozen-left{border-left:2px solid #ddd}.tabulator.tabulator-rtl .tabulator-row .tabulator-cell.tabulator-frozen.tabulator-frozen-right{border-right:2px solid #ddd}.tabulator.tabulator-rtl .tabulator-row .tabulator-col-resize-handle:last-of-type{width:3px;margin-left:0;margin-right:-3px}.tabulator.tabulator-rtl .tabulator-footer .tabulator-calcs-holder{text-align:initial}.tabulator-print-fullscreen{position:absolute;top:0;bottom:0;left:0;right:0;z-index:10000}body.tabulator-print-fullscreen-hide>:not(.tabulator-print-fullscreen){display:none!important}.tabulator-print-table{border-collapse:collapse}.tabulator-print-table .tabulator-data-tree-branch{display:inline-block;vertical-align:middle;height:9px;width:7px;margin-top:-9px;margin-right:5px;border-bottom-left-radius:1px;border-left:2px solid #ddd;border-bottom:2px solid #ddd}.tabulator-print-table .tabulator-print-table-group{box-sizing:border-box;border-bottom:1px solid #999;border-right:1px solid #ddd;border-top:1px solid #999;padding:5px 5px 5px 10px;background:#ccc;font-weight:700;min-width:100%}@media (hover:hover) and (pointer:fine){.tabulator-print-table .tabulator-print-table-group:hover{cursor:pointer;background-color:rgba(0,0,0,.1)}}.tabulator-print-table .tabulator-print-table-group.tabulator-group-visible .tabulator-arrow{margin-right:10px;border-left:6px solid transparent;border-right:6px solid transparent;border-top:6px solid #666;border-bottom:0}.tabulator-print-table .tabulator-print-table-group.tabulator-group-level-1 td{padding-left:30px!important}.tabulator-print-table .tabulator-print-table-group.tabulator-group-level-2 td{padding-left:50px!important}.tabulator-print-table .tabulator-print-table-group.tabulator-group-level-3 td{padding-left:70px!important}.tabulator-print-table .tabulator-print-table-group.tabulator-group-level-4 td{padding-left:90px!important}.tabulator-print-table .tabulator-print-table-group.tabulator-group-level-5 td{padding-left:110px!important}.tabulator-print-table .tabulator-print-table-group .tabulator-group-toggle{display:inline-block}.tabulator-print-table .tabulator-print-table-group .tabulator-arrow{display:inline-block;width:0;height:0;margin-right:16px;border-top:6px solid transparent;border-bottom:6px solid transparent;border-right:0;border-left:6px solid #666;vertical-align:middle}.tabulator-print-table .tabulator-print-table-group span{color:#d00}.tabulator-print-table .tabulator-data-tree-control{display:inline-flex;justify-content:center;align-items:center;vertical-align:middle;height:11px;width:11px;margin-right:5px;border:1px solid #333;border-radius:2px;background:rgba(0,0,0,.1);overflow:hidden}@media (hover:hover) and (pointer:fine){.tabulator-print-table .tabulator-data-tree-control:hover{cursor:pointer;background:rgba(0,0,0,.2)}}.tabulator-print-table .tabulator-data-tree-control .tabulator-data-tree-control-collapse{display:inline-block;position:relative;height:7px;width:1px;background:transparent}.tabulator-print-table .tabulator-data-tree-control .tabulator-data-tree-control-collapse:after{position:absolute;content:\\\"\\\";left:-3px;top:3px;height:1px;width:7px;background:#333}.tabulator-print-table .tabulator-data-tree-control .tabulator-data-tree-control-expand{display:inline-block;position:relative;height:7px;width:1px;background:#333}.tabulator-print-table .tabulator-data-tree-control .tabulator-data-tree-control-expand:after{position:absolute;content:\\\"\\\";left:-3px;top:3px;height:1px;width:7px;background:#333}.tabulator{border:none;background-color:#fff}.tabulator .tabulator-header .tabulator-calcs-holder{background:#f2f2f2!important;border-bottom:1px solid #999}.tabulator .tabulator-header .tabulator-calcs-holder .tabulator-row{background:#f2f2f2!important}.tabulator .tabulator-tableholder .tabulator-placeholder span{color:#000}.tabulator .tabulator-footer .tabulator-calcs-holder{background:#f2f2f2!important;border-bottom:1px solid #fff}.tabulator .tabulator-footer .tabulator-calcs-holder .tabulator-row{background:#f2f2f2!important}.tabulator-row{border-bottom:1px solid #ddd}.tabulator-row .tabulator-cell:last-of-type{border-right:none}.tabulator-row.tabulator-group span{color:#666}.tabulator-print-table .tabulator-print-table-group span{margin-left:10px;color:#666}\\n/*# sourceMappingURL=tabulator_simple.min.css.map */\");\n",
       "    },    function(Bokeh) {\n",
       "      Bokeh.set_log_level(\"info\");\n",
       "    },\n",
       "function(Bokeh) {} // ensure no trailing comma for IE\n",
       "  ];\n",
       "\n",
       "  function run_inline_js() {\n",
       "    if ((root.Bokeh !== undefined) || (force === true)) {\n",
       "      for (var i = 0; i < inline_js.length; i++) {\n",
       "        inline_js[i].call(root, root.Bokeh);\n",
       "      }\n",
       "      // Cache old bokeh versions\n",
       "      if (Bokeh != undefined && !reloading) {\n",
       "\tvar NewBokeh = root.Bokeh;\n",
       "\tif (Bokeh.versions === undefined) {\n",
       "\t  Bokeh.versions = new Map();\n",
       "\t}\n",
       "\tif (NewBokeh.version !== Bokeh.version) {\n",
       "\t  Bokeh.versions.set(NewBokeh.version, NewBokeh)\n",
       "\t}\n",
       "\troot.Bokeh = Bokeh;\n",
       "      }} else if (Date.now() < root._bokeh_timeout) {\n",
       "      setTimeout(run_inline_js, 100);\n",
       "    } else if (!root._bokeh_failed_load) {\n",
       "      console.log(\"Bokeh: BokehJS failed to load within specified timeout.\");\n",
       "      root._bokeh_failed_load = true;\n",
       "    }\n",
       "    root._bokeh_is_initializing = false\n",
       "  }\n",
       "\n",
       "  function load_or_wait() {\n",
       "    // Implement a backoff loop that tries to ensure we do not load multiple\n",
       "    // versions of Bokeh and its dependencies at the same time.\n",
       "    // In recent versions we use the root._bokeh_is_initializing flag\n",
       "    // to determine whether there is an ongoing attempt to initialize\n",
       "    // bokeh, however for backward compatibility we also try to ensure\n",
       "    // that we do not start loading a newer (Panel>=1.0 and Bokeh>3) version\n",
       "    // before older versions are fully initialized.\n",
       "    if (root._bokeh_is_initializing && Date.now() > root._bokeh_timeout) {\n",
       "      root._bokeh_is_initializing = false;\n",
       "      root._bokeh_onload_callbacks = undefined;\n",
       "      console.log(\"Bokeh: BokehJS was loaded multiple times but one version failed to initialize.\");\n",
       "      load_or_wait();\n",
       "    } else if (root._bokeh_is_initializing || (typeof root._bokeh_is_initializing === \"undefined\" && root._bokeh_onload_callbacks !== undefined)) {\n",
       "      setTimeout(load_or_wait, 100);\n",
       "    } else {\n",
       "      Bokeh = root.Bokeh;\n",
       "      bokeh_loaded = Bokeh != null && (Bokeh.version === py_version || (Bokeh.versions !== undefined && Bokeh.versions.has(py_version)));\n",
       "      root._bokeh_is_initializing = true\n",
       "      root._bokeh_onload_callbacks = []\n",
       "      if (!reloading && (!bokeh_loaded || is_dev)) {\n",
       "\troot.Bokeh = undefined;\n",
       "      }\n",
       "      load_libs(css_urls, js_urls, js_modules, js_exports, function() {\n",
       "\tconsole.debug(\"Bokeh: BokehJS plotting callback run at\", now());\n",
       "\trun_inline_js();\n",
       "      });\n",
       "    }\n",
       "  }\n",
       "  // Give older versions of the autoload script a head-start to ensure\n",
       "  // they initialize before we start loading newer version.\n",
       "  setTimeout(load_or_wait, 100)\n",
       "}(window));"
      ],
      "application/vnd.holoviews_load.v0+json": "(function(root) {\n  function now() {\n    return new Date();\n  }\n\n  var force = true;\n  var py_version = '3.2.1'.replace('rc', '-rc.').replace('.dev', '-dev.');\n  var is_dev = py_version.indexOf(\"+\") !== -1 || py_version.indexOf(\"-\") !== -1;\n  var reloading = true;\n  var Bokeh = root.Bokeh;\n  var bokeh_loaded = Bokeh != null && (Bokeh.version === py_version || (Bokeh.versions !== undefined && Bokeh.versions.has(py_version)));\n\n  if (typeof (root._bokeh_timeout) === \"undefined\" || force) {\n    root._bokeh_timeout = Date.now() + 5000;\n    root._bokeh_failed_load = false;\n  }\n\n  function run_callbacks() {\n    try {\n      root._bokeh_onload_callbacks.forEach(function(callback) {\n        if (callback != null)\n          callback();\n      });\n    } finally {\n      delete root._bokeh_onload_callbacks;\n    }\n    console.debug(\"Bokeh: all callbacks have finished\");\n  }\n\n  function load_libs(css_urls, js_urls, js_modules, js_exports, callback) {\n    if (css_urls == null) css_urls = [];\n    if (js_urls == null) js_urls = [];\n    if (js_modules == null) js_modules = [];\n    if (js_exports == null) js_exports = {};\n\n    root._bokeh_onload_callbacks.push(callback);\n\n    if (root._bokeh_is_loading > 0) {\n      console.debug(\"Bokeh: BokehJS is being loaded, scheduling callback at\", now());\n      return null;\n    }\n    if (js_urls.length === 0 && js_modules.length === 0 && Object.keys(js_exports).length === 0) {\n      run_callbacks();\n      return null;\n    }\n    if (!reloading) {\n      console.debug(\"Bokeh: BokehJS not loaded, scheduling load and callback at\", now());\n    }\n\n    function on_load() {\n      root._bokeh_is_loading--;\n      if (root._bokeh_is_loading === 0) {\n        console.debug(\"Bokeh: all BokehJS libraries/stylesheets loaded\");\n        run_callbacks()\n      }\n    }\n    window._bokeh_on_load = on_load\n\n    function on_error() {\n      console.error(\"failed to load \" + url);\n    }\n\n    var skip = [];\n    if (window.requirejs) {\n      window.requirejs.config({'packages': {}, 'paths': {'tabulator': 'https://cdn.jsdelivr.net/npm/tabulator-tables@5.5.0/dist/js/tabulator', 'moment': 'https://cdn.jsdelivr.net/npm/luxon/build/global/luxon.min', 'plotly': 'https://cdn.plot.ly/plotly-2.18.0.min', 'jspanel': 'https://cdn.jsdelivr.net/npm/jspanel4@4.12.0/dist/jspanel', 'jspanel-modal': 'https://cdn.jsdelivr.net/npm/jspanel4@4.12.0/dist/extensions/modal/jspanel.modal', 'jspanel-tooltip': 'https://cdn.jsdelivr.net/npm/jspanel4@4.12.0/dist/extensions/tooltip/jspanel.tooltip', 'jspanel-hint': 'https://cdn.jsdelivr.net/npm/jspanel4@4.12.0/dist/extensions/hint/jspanel.hint', 'jspanel-layout': 'https://cdn.jsdelivr.net/npm/jspanel4@4.12.0/dist/extensions/layout/jspanel.layout', 'jspanel-contextmenu': 'https://cdn.jsdelivr.net/npm/jspanel4@4.12.0/dist/extensions/contextmenu/jspanel.contextmenu', 'jspanel-dock': 'https://cdn.jsdelivr.net/npm/jspanel4@4.12.0/dist/extensions/dock/jspanel.dock', 'gridstack': 'https://cdn.jsdelivr.net/npm/gridstack@7.2.3/dist/gridstack-all', 'notyf': 'https://cdn.jsdelivr.net/npm/notyf@3/notyf.min'}, 'shim': {'jspanel': {'exports': 'jsPanel'}, 'gridstack': {'exports': 'GridStack'}}});\n      require([\"tabulator\"], function(Tabulator) {\n\twindow.Tabulator = Tabulator\n\ton_load()\n      })\n      require([\"moment\"], function(moment) {\n\twindow.moment = moment\n\ton_load()\n      })\n      require([\"plotly\"], function(Plotly) {\n\twindow.Plotly = Plotly\n\ton_load()\n      })\n      require([\"jspanel\"], function(jsPanel) {\n\twindow.jsPanel = jsPanel\n\ton_load()\n      })\n      require([\"jspanel-modal\"], function() {\n\ton_load()\n      })\n      require([\"jspanel-tooltip\"], function() {\n\ton_load()\n      })\n      require([\"jspanel-hint\"], function() {\n\ton_load()\n      })\n      require([\"jspanel-layout\"], function() {\n\ton_load()\n      })\n      require([\"jspanel-contextmenu\"], function() {\n\ton_load()\n      })\n      require([\"jspanel-dock\"], function() {\n\ton_load()\n      })\n      require([\"gridstack\"], function(GridStack) {\n\twindow.GridStack = GridStack\n\ton_load()\n      })\n      require([\"notyf\"], function() {\n\ton_load()\n      })\n      root._bokeh_is_loading = css_urls.length + 12;\n    } else {\n      root._bokeh_is_loading = css_urls.length + js_urls.length + js_modules.length + Object.keys(js_exports).length;\n    }\n\n    var existing_stylesheets = []\n    var links = document.getElementsByTagName('link')\n    for (var i = 0; i < links.length; i++) {\n      var link = links[i]\n      if (link.href != null) {\n\texisting_stylesheets.push(link.href)\n      }\n    }\n    for (var i = 0; i < css_urls.length; i++) {\n      var url = css_urls[i];\n      if (existing_stylesheets.indexOf(url) !== -1) {\n\ton_load()\n\tcontinue;\n      }\n      const element = document.createElement(\"link\");\n      element.onload = on_load;\n      element.onerror = on_error;\n      element.rel = \"stylesheet\";\n      element.type = \"text/css\";\n      element.href = url;\n      console.debug(\"Bokeh: injecting link tag for BokehJS stylesheet: \", url);\n      document.body.appendChild(element);\n    }    if (((window['Tabulator'] !== undefined) && (!(window['Tabulator'] instanceof HTMLElement))) || window.requirejs) {\n      var urls = ['https://cdn.holoviz.org/panel/1.2.0/dist/bundled/datatabulator/tabulator-tables@5.5.0/dist/js/tabulator.js'];\n      for (var i = 0; i < urls.length; i++) {\n        skip.push(urls[i])\n      }\n    }    if (((window['moment'] !== undefined) && (!(window['moment'] instanceof HTMLElement))) || window.requirejs) {\n      var urls = ['https://cdn.holoviz.org/panel/1.2.0/dist/bundled/datatabulator/luxon/build/global/luxon.min.js'];\n      for (var i = 0; i < urls.length; i++) {\n        skip.push(urls[i])\n      }\n    }    if (((window['Plotly'] !== undefined) && (!(window['Plotly'] instanceof HTMLElement))) || window.requirejs) {\n      var urls = ['https://cdn.holoviz.org/panel/1.2.0/dist/bundled/plotlyplot/plotly-2.18.0.min.js'];\n      for (var i = 0; i < urls.length; i++) {\n        skip.push(urls[i])\n      }\n    }    if (((window['jsPanel'] !== undefined) && (!(window['jsPanel'] instanceof HTMLElement))) || window.requirejs) {\n      var urls = ['https://cdn.holoviz.org/panel/1.2.0/dist/bundled/floatpanel/jspanel4@4.12.0/dist/jspanel.js', 'https://cdn.holoviz.org/panel/1.2.0/dist/bundled/floatpanel/jspanel4@4.12.0/dist/extensions/modal/jspanel.modal.js', 'https://cdn.holoviz.org/panel/1.2.0/dist/bundled/floatpanel/jspanel4@4.12.0/dist/extensions/tooltip/jspanel.tooltip.js', 'https://cdn.holoviz.org/panel/1.2.0/dist/bundled/floatpanel/jspanel4@4.12.0/dist/extensions/hint/jspanel.hint.js', 'https://cdn.holoviz.org/panel/1.2.0/dist/bundled/floatpanel/jspanel4@4.12.0/dist/extensions/layout/jspanel.layout.js', 'https://cdn.holoviz.org/panel/1.2.0/dist/bundled/floatpanel/jspanel4@4.12.0/dist/extensions/contextmenu/jspanel.contextmenu.js', 'https://cdn.holoviz.org/panel/1.2.0/dist/bundled/floatpanel/jspanel4@4.12.0/dist/extensions/dock/jspanel.dock.js'];\n      for (var i = 0; i < urls.length; i++) {\n        skip.push(urls[i])\n      }\n    }    if (((window['GridStack'] !== undefined) && (!(window['GridStack'] instanceof HTMLElement))) || window.requirejs) {\n      var urls = ['https://cdn.holoviz.org/panel/1.2.0/dist/bundled/gridstack/gridstack@7.2.3/dist/gridstack-all.js'];\n      for (var i = 0; i < urls.length; i++) {\n        skip.push(urls[i])\n      }\n    }    if (((window['Notyf'] !== undefined) && (!(window['Notyf'] instanceof HTMLElement))) || window.requirejs) {\n      var urls = ['https://cdn.holoviz.org/panel/1.2.0/dist/bundled/notificationarea/notyf@3/notyf.min.js'];\n      for (var i = 0; i < urls.length; i++) {\n        skip.push(urls[i])\n      }\n    }    var existing_scripts = []\n    var scripts = document.getElementsByTagName('script')\n    for (var i = 0; i < scripts.length; i++) {\n      var script = scripts[i]\n      if (script.src != null) {\n\texisting_scripts.push(script.src)\n      }\n    }\n    for (var i = 0; i < js_urls.length; i++) {\n      var url = js_urls[i];\n      if (skip.indexOf(url) !== -1 || existing_scripts.indexOf(url) !== -1) {\n\tif (!window.requirejs) {\n\t  on_load();\n\t}\n\tcontinue;\n      }\n      var element = document.createElement('script');\n      element.onload = on_load;\n      element.onerror = on_error;\n      element.async = false;\n      element.src = url;\n      console.debug(\"Bokeh: injecting script tag for BokehJS library: \", url);\n      document.head.appendChild(element);\n    }\n    for (var i = 0; i < js_modules.length; i++) {\n      var url = js_modules[i];\n      if (skip.indexOf(url) !== -1 || existing_scripts.indexOf(url) !== -1) {\n\tif (!window.requirejs) {\n\t  on_load();\n\t}\n\tcontinue;\n      }\n      var element = document.createElement('script');\n      element.onload = on_load;\n      element.onerror = on_error;\n      element.async = false;\n      element.src = url;\n      element.type = \"module\";\n      console.debug(\"Bokeh: injecting script tag for BokehJS library: \", url);\n      document.head.appendChild(element);\n    }\n    for (const name in js_exports) {\n      var url = js_exports[name];\n      if (skip.indexOf(url) >= 0 || root[name] != null) {\n\tif (!window.requirejs) {\n\t  on_load();\n\t}\n\tcontinue;\n      }\n      var element = document.createElement('script');\n      element.onerror = on_error;\n      element.async = false;\n      element.type = \"module\";\n      console.debug(\"Bokeh: injecting script tag for BokehJS library: \", url);\n      element.textContent = `\n      import ${name} from \"${url}\"\n      window.${name} = ${name}\n      window._bokeh_on_load()\n      `\n      document.head.appendChild(element);\n    }\n    if (!js_urls.length && !js_modules.length) {\n      on_load()\n    }\n  };\n\n  function inject_raw_css(css) {\n    const element = document.createElement(\"style\");\n    element.appendChild(document.createTextNode(css));\n    document.body.appendChild(element);\n  }\n\n  var js_urls = [\"https://cdn.holoviz.org/panel/1.2.0/dist/bundled/jquery/jquery.slim.min.js\", \"https://cdn.holoviz.org/panel/1.2.0/dist/bundled/plotlyplot/plotly-2.18.0.min.js\", \"https://cdn.holoviz.org/panel/1.2.0/dist/bundled/datatabulator/tabulator-tables@5.5.0/dist/js/tabulator.js\", \"https://cdn.holoviz.org/panel/1.2.0/dist/bundled/datatabulator/luxon/build/global/luxon.min.js\"];\n  var js_modules = [];\n  var js_exports = {};\n  var css_urls = [\"https://cdn.holoviz.org/panel/1.2.0/dist/bundled/datatabulator/tabulator-tables@5.5.0/dist/css/tabulator_simple.min.css\"];\n  var inline_js = [    function(Bokeh) {\n      inject_raw_css(\".tabulator{position:relative;border:1px solid #999;font-size:14px;text-align:left;overflow:hidden;-webkit-transform:translateZ(0);-moz-transform:translateZ(0);-ms-transform:translateZ(0);-o-transform:translateZ(0);transform:translateZ(0)}.tabulator[tabulator-layout=fitDataFill] .tabulator-tableholder .tabulator-table{min-width:100%}.tabulator[tabulator-layout=fitDataTable]{display:inline-block}.tabulator.tabulator-block-select{user-select:none}.tabulator .tabulator-header{position:relative;box-sizing:border-box;width:100%;border-bottom:1px solid #999;background-color:#fff;color:#555;font-weight:700;white-space:nowrap;overflow:hidden;-moz-user-select:none;-khtml-user-select:none;-webkit-user-select:none;-o-user-select:none}.tabulator .tabulator-header.tabulator-header-hidden{display:none}.tabulator .tabulator-header .tabulator-header-contents{position:relative;overflow:hidden}.tabulator .tabulator-header .tabulator-header-contents .tabulator-headers{display:inline-block}.tabulator .tabulator-header .tabulator-col{display:inline-flex;position:relative;box-sizing:border-box;flex-direction:column;justify-content:flex-start;border-right:1px solid #ddd;background:#fff;text-align:left;vertical-align:bottom;overflow:hidden}.tabulator .tabulator-header .tabulator-col.tabulator-moving{position:absolute;border:1px solid #999;background:#e6e6e6;pointer-events:none}.tabulator .tabulator-header .tabulator-col .tabulator-col-content{box-sizing:border-box;position:relative;padding:4px}.tabulator .tabulator-header .tabulator-col .tabulator-col-content .tabulator-header-popup-button{padding:0 8px}.tabulator .tabulator-header .tabulator-col .tabulator-col-content .tabulator-header-popup-button:hover{cursor:pointer;opacity:.6}.tabulator .tabulator-header .tabulator-col .tabulator-col-content .tabulator-col-title-holder{position:relative}.tabulator .tabulator-header .tabulator-col .tabulator-col-content .tabulator-col-title{box-sizing:border-box;width:100%;white-space:nowrap;overflow:hidden;text-overflow:ellipsis;vertical-align:bottom}.tabulator .tabulator-header .tabulator-col .tabulator-col-content .tabulator-col-title.tabulator-col-title-wrap{white-space:normal;text-overflow:clip}.tabulator .tabulator-header .tabulator-col .tabulator-col-content .tabulator-col-title .tabulator-title-editor{box-sizing:border-box;width:100%;border:1px solid #999;padding:1px;background:#fff}.tabulator .tabulator-header .tabulator-col .tabulator-col-content .tabulator-col-title .tabulator-header-popup-button+.tabulator-title-editor{width:calc(100% - 22px)}.tabulator .tabulator-header .tabulator-col .tabulator-col-content .tabulator-col-sorter{display:flex;align-items:center;position:absolute;top:0;bottom:0;right:4px}.tabulator .tabulator-header .tabulator-col .tabulator-col-content .tabulator-col-sorter .tabulator-arrow{width:0;height:0;border-left:6px solid transparent;border-right:6px solid transparent;border-bottom:6px solid #bbb}.tabulator .tabulator-header .tabulator-col.tabulator-col-group .tabulator-col-group-cols{position:relative;display:flex;border-top:1px solid #ddd;overflow:hidden;margin-right:-1px}.tabulator .tabulator-header .tabulator-col .tabulator-header-filter{position:relative;box-sizing:border-box;margin-top:2px;width:100%;text-align:center}.tabulator .tabulator-header .tabulator-col .tabulator-header-filter textarea{height:auto!important}.tabulator .tabulator-header .tabulator-col .tabulator-header-filter svg{margin-top:3px}.tabulator .tabulator-header .tabulator-col .tabulator-header-filter input::-ms-clear{width:0;height:0}.tabulator .tabulator-header .tabulator-col.tabulator-sortable .tabulator-col-title{padding-right:25px}@media (hover:hover) and (pointer:fine){.tabulator .tabulator-header .tabulator-col.tabulator-sortable.tabulator-col-sorter-element:hover{cursor:pointer;background-color:#e6e6e6}}.tabulator .tabulator-header .tabulator-col.tabulator-sortable[aria-sort=none] .tabulator-col-content .tabulator-col-sorter{color:#bbb}@media (hover:hover) and (pointer:fine){.tabulator .tabulator-header .tabulator-col.tabulator-sortable[aria-sort=none] .tabulator-col-content .tabulator-col-sorter.tabulator-col-sorter-element .tabulator-arrow:hover{cursor:pointer;border-bottom:6px solid #555}}.tabulator .tabulator-header .tabulator-col.tabulator-sortable[aria-sort=none] .tabulator-col-content .tabulator-col-sorter .tabulator-arrow{border-top:none;border-bottom:6px solid #bbb}.tabulator .tabulator-header .tabulator-col.tabulator-sortable[aria-sort=ascending] .tabulator-col-content .tabulator-col-sorter{color:#666}@media (hover:hover) and (pointer:fine){.tabulator .tabulator-header .tabulator-col.tabulator-sortable[aria-sort=ascending] .tabulator-col-content .tabulator-col-sorter.tabulator-col-sorter-element .tabulator-arrow:hover{cursor:pointer;border-bottom:6px solid #555}}.tabulator .tabulator-header .tabulator-col.tabulator-sortable[aria-sort=ascending] .tabulator-col-content .tabulator-col-sorter .tabulator-arrow{border-top:none;border-bottom:6px solid #666}.tabulator .tabulator-header .tabulator-col.tabulator-sortable[aria-sort=descending] .tabulator-col-content .tabulator-col-sorter{color:#666}@media (hover:hover) and (pointer:fine){.tabulator .tabulator-header .tabulator-col.tabulator-sortable[aria-sort=descending] .tabulator-col-content .tabulator-col-sorter.tabulator-col-sorter-element .tabulator-arrow:hover{cursor:pointer;border-top:6px solid #555}}.tabulator .tabulator-header .tabulator-col.tabulator-sortable[aria-sort=descending] .tabulator-col-content .tabulator-col-sorter .tabulator-arrow{border-bottom:none;border-top:6px solid #666;color:#666}.tabulator .tabulator-header .tabulator-col.tabulator-col-vertical .tabulator-col-content .tabulator-col-title{writing-mode:vertical-rl;text-orientation:mixed;display:flex;align-items:center;justify-content:center}.tabulator .tabulator-header .tabulator-col.tabulator-col-vertical.tabulator-col-vertical-flip .tabulator-col-title{transform:rotate(180deg)}.tabulator .tabulator-header .tabulator-col.tabulator-col-vertical.tabulator-sortable .tabulator-col-title{padding-right:0;padding-top:20px}.tabulator .tabulator-header .tabulator-col.tabulator-col-vertical.tabulator-sortable.tabulator-col-vertical-flip .tabulator-col-title{padding-right:0;padding-bottom:20px}.tabulator .tabulator-header .tabulator-col.tabulator-col-vertical.tabulator-sortable .tabulator-col-sorter{justify-content:center;left:0;right:0;top:4px;bottom:auto}.tabulator .tabulator-header .tabulator-frozen{position:sticky;left:0;z-index:10}.tabulator .tabulator-header .tabulator-frozen.tabulator-frozen-left{border-right:2px solid #ddd}.tabulator .tabulator-header .tabulator-frozen.tabulator-frozen-right{border-left:2px solid #ddd}.tabulator .tabulator-header .tabulator-calcs-holder{box-sizing:border-box;background:#fff!important;border-top:1px solid #ddd;border-bottom:1px solid #ddd}.tabulator .tabulator-header .tabulator-calcs-holder .tabulator-row{background:#fff!important}.tabulator .tabulator-header .tabulator-calcs-holder .tabulator-row .tabulator-col-resize-handle,.tabulator .tabulator-header .tabulator-frozen-rows-holder:empty{display:none}.tabulator .tabulator-tableholder{position:relative;width:100%;white-space:nowrap;overflow:auto;-webkit-overflow-scrolling:touch}.tabulator .tabulator-tableholder:focus{outline:none}.tabulator .tabulator-tableholder .tabulator-placeholder{box-sizing:border-box;display:flex;align-items:center;justify-content:center;width:100%}.tabulator .tabulator-tableholder .tabulator-placeholder[tabulator-render-mode=virtual]{min-height:100%;min-width:100%}.tabulator .tabulator-tableholder .tabulator-placeholder .tabulator-placeholder-contents{display:inline-block;text-align:center;padding:10px;color:#ccc;font-weight:700;font-size:20px;white-space:normal}.tabulator .tabulator-tableholder .tabulator-table{position:relative;display:inline-block;background-color:#fff;white-space:nowrap;overflow:visible;color:#333}.tabulator .tabulator-tableholder .tabulator-table .tabulator-row.tabulator-calcs{font-weight:700;background:#f2f2f2!important}.tabulator .tabulator-tableholder .tabulator-table .tabulator-row.tabulator-calcs.tabulator-calcs-top{border-bottom:2px solid #ddd}.tabulator .tabulator-tableholder .tabulator-table .tabulator-row.tabulator-calcs.tabulator-calcs-bottom{border-top:2px solid #ddd}.tabulator .tabulator-footer{border-top:1px solid #999;background-color:#fff;color:#555;font-weight:700;white-space:nowrap;user-select:none;-moz-user-select:none;-khtml-user-select:none;-webkit-user-select:none;-o-user-select:none}.tabulator .tabulator-footer .tabulator-footer-contents{display:flex;flex-direction:row;align-items:center;justify-content:space-between;padding:5px 10px}.tabulator .tabulator-footer .tabulator-footer-contents:empty{display:none}.tabulator .tabulator-footer .tabulator-calcs-holder{box-sizing:border-box;width:100%;text-align:left;background:#fff!important;border-bottom:1px solid #ddd;border-top:1px solid #ddd;overflow:hidden}.tabulator .tabulator-footer .tabulator-calcs-holder .tabulator-row{display:inline-block;background:#fff!important}.tabulator .tabulator-footer .tabulator-calcs-holder .tabulator-row .tabulator-col-resize-handle{display:none}.tabulator .tabulator-footer .tabulator-calcs-holder:only-child{margin-bottom:-5px;border-bottom:none}.tabulator .tabulator-footer>*+.tabulator-page-counter{margin-left:10px}.tabulator .tabulator-footer .tabulator-page-counter{font-weight:400}.tabulator .tabulator-footer .tabulator-paginator{flex:1;text-align:right;color:#555;font-family:inherit;font-weight:inherit;font-size:inherit}.tabulator .tabulator-footer .tabulator-page-size{display:inline-block;margin:0 5px;padding:2px 5px;border:1px solid #aaa;border-radius:3px}.tabulator .tabulator-footer .tabulator-pages{margin:0 7px}.tabulator .tabulator-footer .tabulator-page{display:inline-block;margin:0 2px;padding:2px 5px;border:1px solid #aaa;border-radius:3px;background:hsla(0,0%,100%,.2)}.tabulator .tabulator-footer .tabulator-page.active{color:#d00}.tabulator .tabulator-footer .tabulator-page:disabled{opacity:.5}@media (hover:hover) and (pointer:fine){.tabulator .tabulator-footer .tabulator-page:not(.disabled):hover{cursor:pointer;background:rgba(0,0,0,.2);color:#fff}}.tabulator .tabulator-col-resize-handle{position:relative;display:inline-block;width:6px;margin-left:-3px;margin-right:-3px;z-index:10;vertical-align:middle}@media (hover:hover) and (pointer:fine){.tabulator .tabulator-col-resize-handle:hover{cursor:ew-resize}}.tabulator .tabulator-col-resize-handle:last-of-type{width:3px;margin-right:0}.tabulator .tabulator-alert{position:absolute;display:flex;align-items:center;top:0;left:0;z-index:100;height:100%;width:100%;background:rgba(0,0,0,.4);text-align:center}.tabulator .tabulator-alert .tabulator-alert-msg{display:inline-block;margin:0 auto;padding:10px 20px;border-radius:10px;background:#fff;font-weight:700;font-size:16px}.tabulator .tabulator-alert .tabulator-alert-msg.tabulator-alert-state-msg{border:4px solid #333;color:#000}.tabulator .tabulator-alert .tabulator-alert-msg.tabulator-alert-state-error{border:4px solid #d00;color:#590000}.tabulator-row{position:relative;box-sizing:border-box;min-height:22px}.tabulator-row,.tabulator-row.tabulator-row-even{background-color:#fff}@media (hover:hover) and (pointer:fine){.tabulator-row.tabulator-selectable:hover{background-color:#bbb;cursor:pointer}}.tabulator-row.tabulator-selected{background-color:#9abcea}@media (hover:hover) and (pointer:fine){.tabulator-row.tabulator-selected:hover{background-color:#769bcc;cursor:pointer}}.tabulator-row.tabulator-row-moving{border:1px solid #000;background:#fff}.tabulator-row.tabulator-moving{position:absolute;border-top:1px solid #ddd;border-bottom:1px solid #ddd;pointer-events:none;z-index:15}.tabulator-row .tabulator-row-resize-handle{position:absolute;right:0;bottom:0;left:0;height:5px}.tabulator-row .tabulator-row-resize-handle.prev{top:0;bottom:auto}@media (hover:hover) and (pointer:fine){.tabulator-row .tabulator-row-resize-handle:hover{cursor:ns-resize}}.tabulator-row .tabulator-responsive-collapse{box-sizing:border-box;padding:5px;border-top:1px solid #ddd;border-bottom:1px solid #ddd}.tabulator-row .tabulator-responsive-collapse:empty{display:none}.tabulator-row .tabulator-responsive-collapse table{font-size:14px}.tabulator-row .tabulator-responsive-collapse table tr td{position:relative}.tabulator-row .tabulator-responsive-collapse table tr td:first-of-type{padding-right:10px}.tabulator-row .tabulator-cell{display:inline-block;position:relative;box-sizing:border-box;padding:4px;border-right:1px solid #ddd;vertical-align:middle;white-space:nowrap;overflow:hidden;text-overflow:ellipsis}.tabulator-row .tabulator-cell.tabulator-frozen{display:inline-block;position:sticky;left:0;background-color:inherit;z-index:10}.tabulator-row .tabulator-cell.tabulator-frozen.tabulator-frozen-left{border-right:2px solid #ddd}.tabulator-row .tabulator-cell.tabulator-frozen.tabulator-frozen-right{border-left:2px solid #ddd}.tabulator-row .tabulator-cell.tabulator-editing{border:1px solid #1d68cd;outline:none;padding:0}.tabulator-row .tabulator-cell.tabulator-editing input,.tabulator-row .tabulator-cell.tabulator-editing select{border:1px;background:transparent;outline:none}.tabulator-row .tabulator-cell.tabulator-validation-fail{border:1px solid #d00}.tabulator-row .tabulator-cell.tabulator-validation-fail input,.tabulator-row .tabulator-cell.tabulator-validation-fail select{border:1px;background:transparent;color:#d00}.tabulator-row .tabulator-cell.tabulator-row-handle{display:inline-flex;align-items:center;justify-content:center;-moz-user-select:none;-khtml-user-select:none;-webkit-user-select:none;-o-user-select:none}.tabulator-row .tabulator-cell.tabulator-row-handle .tabulator-row-handle-box{width:80%}.tabulator-row .tabulator-cell.tabulator-row-handle .tabulator-row-handle-box .tabulator-row-handle-bar{width:100%;height:3px;margin-top:2px;background:#666}.tabulator-row .tabulator-cell .tabulator-data-tree-branch{display:inline-block;vertical-align:middle;height:9px;width:7px;margin-top:-9px;margin-right:5px;border-bottom-left-radius:1px;border-left:2px solid #ddd;border-bottom:2px solid #ddd}.tabulator-row .tabulator-cell .tabulator-data-tree-control{display:inline-flex;justify-content:center;align-items:center;vertical-align:middle;height:11px;width:11px;margin-right:5px;border:1px solid #333;border-radius:2px;background:rgba(0,0,0,.1);overflow:hidden}@media (hover:hover) and (pointer:fine){.tabulator-row .tabulator-cell .tabulator-data-tree-control:hover{cursor:pointer;background:rgba(0,0,0,.2)}}.tabulator-row .tabulator-cell .tabulator-data-tree-control .tabulator-data-tree-control-collapse{display:inline-block;position:relative;height:7px;width:1px;background:transparent}.tabulator-row .tabulator-cell .tabulator-data-tree-control .tabulator-data-tree-control-collapse:after{position:absolute;content:\\\"\\\";left:-3px;top:3px;height:1px;width:7px;background:#333}.tabulator-row .tabulator-cell .tabulator-data-tree-control .tabulator-data-tree-control-expand{display:inline-block;position:relative;height:7px;width:1px;background:#333}.tabulator-row .tabulator-cell .tabulator-data-tree-control .tabulator-data-tree-control-expand:after{position:absolute;content:\\\"\\\";left:-3px;top:3px;height:1px;width:7px;background:#333}.tabulator-row .tabulator-cell .tabulator-responsive-collapse-toggle{display:inline-flex;align-items:center;justify-content:center;-moz-user-select:none;-khtml-user-select:none;-webkit-user-select:none;-o-user-select:none;height:15px;width:15px;border-radius:20px;background:#666;color:#fff;font-weight:700;font-size:1.1em}@media (hover:hover) and (pointer:fine){.tabulator-row .tabulator-cell .tabulator-responsive-collapse-toggle:hover{opacity:.7;cursor:pointer}}.tabulator-row .tabulator-cell .tabulator-responsive-collapse-toggle.open .tabulator-responsive-collapse-toggle-close{display:initial}.tabulator-row .tabulator-cell .tabulator-responsive-collapse-toggle.open .tabulator-responsive-collapse-toggle-open{display:none}.tabulator-row .tabulator-cell .tabulator-responsive-collapse-toggle svg{stroke:#fff}.tabulator-row .tabulator-cell .tabulator-responsive-collapse-toggle .tabulator-responsive-collapse-toggle-close{display:none}.tabulator-row .tabulator-cell .tabulator-traffic-light{display:inline-block;height:14px;width:14px;border-radius:14px}.tabulator-row.tabulator-group{box-sizing:border-box;border-bottom:1px solid #999;border-right:1px solid #ddd;border-top:1px solid #999;padding:5px 5px 5px 10px;background:#ccc;font-weight:700;min-width:100%}@media (hover:hover) and (pointer:fine){.tabulator-row.tabulator-group:hover{cursor:pointer;background-color:rgba(0,0,0,.1)}}.tabulator-row.tabulator-group.tabulator-group-visible .tabulator-arrow{margin-right:10px;border-left:6px solid transparent;border-right:6px solid transparent;border-top:6px solid #666;border-bottom:0}.tabulator-row.tabulator-group.tabulator-group-level-1{padding-left:30px}.tabulator-row.tabulator-group.tabulator-group-level-2{padding-left:50px}.tabulator-row.tabulator-group.tabulator-group-level-3{padding-left:70px}.tabulator-row.tabulator-group.tabulator-group-level-4{padding-left:90px}.tabulator-row.tabulator-group.tabulator-group-level-5{padding-left:110px}.tabulator-row.tabulator-group .tabulator-group-toggle{display:inline-block}.tabulator-row.tabulator-group .tabulator-arrow{display:inline-block;width:0;height:0;margin-right:16px;border-top:6px solid transparent;border-bottom:6px solid transparent;border-right:0;border-left:6px solid #666;vertical-align:middle}.tabulator-row.tabulator-group span{margin-left:10px;color:#d00}.tabulator-popup-container{position:absolute;display:inline-block;box-sizing:border-box;background:#fff;border:1px solid #ddd;box-shadow:0 0 5px 0 rgba(0,0,0,.2);font-size:14px;overflow-y:auto;-webkit-overflow-scrolling:touch;z-index:10000}.tabulator-popup{padding:5px;border-radius:3px}.tabulator-tooltip{max-width:Min(500px,100%);padding:3px 5px;border-radius:2px;box-shadow:none;font-size:12px;pointer-events:none}.tabulator-menu .tabulator-menu-item{position:relative;box-sizing:border-box;padding:5px 10px;user-select:none}.tabulator-menu .tabulator-menu-item.tabulator-menu-item-disabled{opacity:.5}@media (hover:hover) and (pointer:fine){.tabulator-menu .tabulator-menu-item:not(.tabulator-menu-item-disabled):hover{cursor:pointer;background:#fff}}.tabulator-menu .tabulator-menu-item.tabulator-menu-item-submenu{padding-right:25px}.tabulator-menu .tabulator-menu-item.tabulator-menu-item-submenu:after{display:inline-block;position:absolute;top:calc(5px + .4em);right:10px;height:7px;width:7px;content:\\\"\\\";border-color:#ddd;border-style:solid;border-width:1px 1px 0 0;vertical-align:top;transform:rotate(45deg)}.tabulator-menu .tabulator-menu-separator{border-top:1px solid #ddd}.tabulator-edit-list{max-height:200px;font-size:14px;overflow-y:auto;-webkit-overflow-scrolling:touch}.tabulator-edit-list .tabulator-edit-list-item{padding:4px;color:#333;outline:none}.tabulator-edit-list .tabulator-edit-list-item.active{color:#fff;background:#1d68cd}.tabulator-edit-list .tabulator-edit-list-item.active.focused{outline:1px solid hsla(0,0%,100%,.5)}.tabulator-edit-list .tabulator-edit-list-item.focused{outline:1px solid #1d68cd}@media (hover:hover) and (pointer:fine){.tabulator-edit-list .tabulator-edit-list-item:hover{cursor:pointer;color:#fff;background:#1d68cd}}.tabulator-edit-list .tabulator-edit-list-placeholder{padding:4px;color:#333;text-align:center}.tabulator-edit-list .tabulator-edit-list-group{border-bottom:1px solid #ddd;padding:6px 4px 4px;color:#333;font-weight:700}.tabulator-edit-list .tabulator-edit-list-group.tabulator-edit-list-group-level-2,.tabulator-edit-list .tabulator-edit-list-item.tabulator-edit-list-group-level-2{padding-left:12px}.tabulator-edit-list .tabulator-edit-list-group.tabulator-edit-list-group-level-3,.tabulator-edit-list .tabulator-edit-list-item.tabulator-edit-list-group-level-3{padding-left:20px}.tabulator-edit-list .tabulator-edit-list-group.tabulator-edit-list-group-level-4,.tabulator-edit-list .tabulator-edit-list-item.tabulator-edit-list-group-level-4{padding-left:28px}.tabulator-edit-list .tabulator-edit-list-group.tabulator-edit-list-group-level-5,.tabulator-edit-list .tabulator-edit-list-item.tabulator-edit-list-group-level-5{padding-left:36px}.tabulator.tabulator-ltr{direction:ltr}.tabulator.tabulator-rtl{text-align:initial;direction:rtl}.tabulator.tabulator-rtl .tabulator-header .tabulator-col{text-align:initial;border-left:1px solid #ddd;border-right:initial}.tabulator.tabulator-rtl .tabulator-header .tabulator-col.tabulator-col-group .tabulator-col-group-cols{margin-right:0;margin-left:-1px}.tabulator.tabulator-rtl .tabulator-header .tabulator-col.tabulator-sortable .tabulator-col-title{padding-right:0;padding-left:25px}.tabulator.tabulator-rtl .tabulator-header .tabulator-col .tabulator-col-content .tabulator-col-sorter{left:8px;right:auto}.tabulator.tabulator-rtl .tabulator-row .tabulator-cell{border-right:initial;border-left:1px solid #ddd}.tabulator.tabulator-rtl .tabulator-row .tabulator-cell .tabulator-data-tree-branch{margin-right:0;margin-left:5px;border-bottom-left-radius:0;border-bottom-right-radius:1px;border-left:initial;border-right:2px solid #ddd}.tabulator.tabulator-rtl .tabulator-row .tabulator-cell .tabulator-data-tree-control{margin-right:0;margin-left:5px}.tabulator.tabulator-rtl .tabulator-row .tabulator-cell.tabulator-frozen.tabulator-frozen-left{border-left:2px solid #ddd}.tabulator.tabulator-rtl .tabulator-row .tabulator-cell.tabulator-frozen.tabulator-frozen-right{border-right:2px solid #ddd}.tabulator.tabulator-rtl .tabulator-row .tabulator-col-resize-handle:last-of-type{width:3px;margin-left:0;margin-right:-3px}.tabulator.tabulator-rtl .tabulator-footer .tabulator-calcs-holder{text-align:initial}.tabulator-print-fullscreen{position:absolute;top:0;bottom:0;left:0;right:0;z-index:10000}body.tabulator-print-fullscreen-hide>:not(.tabulator-print-fullscreen){display:none!important}.tabulator-print-table{border-collapse:collapse}.tabulator-print-table .tabulator-data-tree-branch{display:inline-block;vertical-align:middle;height:9px;width:7px;margin-top:-9px;margin-right:5px;border-bottom-left-radius:1px;border-left:2px solid #ddd;border-bottom:2px solid #ddd}.tabulator-print-table .tabulator-print-table-group{box-sizing:border-box;border-bottom:1px solid #999;border-right:1px solid #ddd;border-top:1px solid #999;padding:5px 5px 5px 10px;background:#ccc;font-weight:700;min-width:100%}@media (hover:hover) and (pointer:fine){.tabulator-print-table .tabulator-print-table-group:hover{cursor:pointer;background-color:rgba(0,0,0,.1)}}.tabulator-print-table .tabulator-print-table-group.tabulator-group-visible .tabulator-arrow{margin-right:10px;border-left:6px solid transparent;border-right:6px solid transparent;border-top:6px solid #666;border-bottom:0}.tabulator-print-table .tabulator-print-table-group.tabulator-group-level-1 td{padding-left:30px!important}.tabulator-print-table .tabulator-print-table-group.tabulator-group-level-2 td{padding-left:50px!important}.tabulator-print-table .tabulator-print-table-group.tabulator-group-level-3 td{padding-left:70px!important}.tabulator-print-table .tabulator-print-table-group.tabulator-group-level-4 td{padding-left:90px!important}.tabulator-print-table .tabulator-print-table-group.tabulator-group-level-5 td{padding-left:110px!important}.tabulator-print-table .tabulator-print-table-group .tabulator-group-toggle{display:inline-block}.tabulator-print-table .tabulator-print-table-group .tabulator-arrow{display:inline-block;width:0;height:0;margin-right:16px;border-top:6px solid transparent;border-bottom:6px solid transparent;border-right:0;border-left:6px solid #666;vertical-align:middle}.tabulator-print-table .tabulator-print-table-group span{color:#d00}.tabulator-print-table .tabulator-data-tree-control{display:inline-flex;justify-content:center;align-items:center;vertical-align:middle;height:11px;width:11px;margin-right:5px;border:1px solid #333;border-radius:2px;background:rgba(0,0,0,.1);overflow:hidden}@media (hover:hover) and (pointer:fine){.tabulator-print-table .tabulator-data-tree-control:hover{cursor:pointer;background:rgba(0,0,0,.2)}}.tabulator-print-table .tabulator-data-tree-control .tabulator-data-tree-control-collapse{display:inline-block;position:relative;height:7px;width:1px;background:transparent}.tabulator-print-table .tabulator-data-tree-control .tabulator-data-tree-control-collapse:after{position:absolute;content:\\\"\\\";left:-3px;top:3px;height:1px;width:7px;background:#333}.tabulator-print-table .tabulator-data-tree-control .tabulator-data-tree-control-expand{display:inline-block;position:relative;height:7px;width:1px;background:#333}.tabulator-print-table .tabulator-data-tree-control .tabulator-data-tree-control-expand:after{position:absolute;content:\\\"\\\";left:-3px;top:3px;height:1px;width:7px;background:#333}.tabulator{border:none;background-color:#fff}.tabulator .tabulator-header .tabulator-calcs-holder{background:#f2f2f2!important;border-bottom:1px solid #999}.tabulator .tabulator-header .tabulator-calcs-holder .tabulator-row{background:#f2f2f2!important}.tabulator .tabulator-tableholder .tabulator-placeholder span{color:#000}.tabulator .tabulator-footer .tabulator-calcs-holder{background:#f2f2f2!important;border-bottom:1px solid #fff}.tabulator .tabulator-footer .tabulator-calcs-holder .tabulator-row{background:#f2f2f2!important}.tabulator-row{border-bottom:1px solid #ddd}.tabulator-row .tabulator-cell:last-of-type{border-right:none}.tabulator-row.tabulator-group span{color:#666}.tabulator-print-table .tabulator-print-table-group span{margin-left:10px;color:#666}\\n/*# sourceMappingURL=tabulator_simple.min.css.map */\");\n    },    function(Bokeh) {\n      Bokeh.set_log_level(\"info\");\n    },\nfunction(Bokeh) {} // ensure no trailing comma for IE\n  ];\n\n  function run_inline_js() {\n    if ((root.Bokeh !== undefined) || (force === true)) {\n      for (var i = 0; i < inline_js.length; i++) {\n        inline_js[i].call(root, root.Bokeh);\n      }\n      // Cache old bokeh versions\n      if (Bokeh != undefined && !reloading) {\n\tvar NewBokeh = root.Bokeh;\n\tif (Bokeh.versions === undefined) {\n\t  Bokeh.versions = new Map();\n\t}\n\tif (NewBokeh.version !== Bokeh.version) {\n\t  Bokeh.versions.set(NewBokeh.version, NewBokeh)\n\t}\n\troot.Bokeh = Bokeh;\n      }} else if (Date.now() < root._bokeh_timeout) {\n      setTimeout(run_inline_js, 100);\n    } else if (!root._bokeh_failed_load) {\n      console.log(\"Bokeh: BokehJS failed to load within specified timeout.\");\n      root._bokeh_failed_load = true;\n    }\n    root._bokeh_is_initializing = false\n  }\n\n  function load_or_wait() {\n    // Implement a backoff loop that tries to ensure we do not load multiple\n    // versions of Bokeh and its dependencies at the same time.\n    // In recent versions we use the root._bokeh_is_initializing flag\n    // to determine whether there is an ongoing attempt to initialize\n    // bokeh, however for backward compatibility we also try to ensure\n    // that we do not start loading a newer (Panel>=1.0 and Bokeh>3) version\n    // before older versions are fully initialized.\n    if (root._bokeh_is_initializing && Date.now() > root._bokeh_timeout) {\n      root._bokeh_is_initializing = false;\n      root._bokeh_onload_callbacks = undefined;\n      console.log(\"Bokeh: BokehJS was loaded multiple times but one version failed to initialize.\");\n      load_or_wait();\n    } else if (root._bokeh_is_initializing || (typeof root._bokeh_is_initializing === \"undefined\" && root._bokeh_onload_callbacks !== undefined)) {\n      setTimeout(load_or_wait, 100);\n    } else {\n      Bokeh = root.Bokeh;\n      bokeh_loaded = Bokeh != null && (Bokeh.version === py_version || (Bokeh.versions !== undefined && Bokeh.versions.has(py_version)));\n      root._bokeh_is_initializing = true\n      root._bokeh_onload_callbacks = []\n      if (!reloading && (!bokeh_loaded || is_dev)) {\n\troot.Bokeh = undefined;\n      }\n      load_libs(css_urls, js_urls, js_modules, js_exports, function() {\n\tconsole.debug(\"Bokeh: BokehJS plotting callback run at\", now());\n\trun_inline_js();\n      });\n    }\n  }\n  // Give older versions of the autoload script a head-start to ensure\n  // they initialize before we start loading newer version.\n  setTimeout(load_or_wait, 100)\n}(window));"
     },
     "metadata": {},
     "output_type": "display_data"
    },
    {
     "data": {
      "application/javascript": [
       "\n",
       "if ((window.PyViz === undefined) || (window.PyViz instanceof HTMLElement)) {\n",
       "  window.PyViz = {comms: {}, comm_status:{}, kernels:{}, receivers: {}, plot_index: []}\n",
       "}\n",
       "\n",
       "\n",
       "    function JupyterCommManager() {\n",
       "    }\n",
       "\n",
       "    JupyterCommManager.prototype.register_target = function(plot_id, comm_id, msg_handler) {\n",
       "      if (window.comm_manager || ((window.Jupyter !== undefined) && (Jupyter.notebook.kernel != null))) {\n",
       "        var comm_manager = window.comm_manager || Jupyter.notebook.kernel.comm_manager;\n",
       "        comm_manager.register_target(comm_id, function(comm) {\n",
       "          comm.on_msg(msg_handler);\n",
       "        });\n",
       "      } else if ((plot_id in window.PyViz.kernels) && (window.PyViz.kernels[plot_id])) {\n",
       "        window.PyViz.kernels[plot_id].registerCommTarget(comm_id, function(comm) {\n",
       "          comm.onMsg = msg_handler;\n",
       "        });\n",
       "      } else if (typeof google != 'undefined' && google.colab.kernel != null) {\n",
       "        google.colab.kernel.comms.registerTarget(comm_id, (comm) => {\n",
       "          var messages = comm.messages[Symbol.asyncIterator]();\n",
       "          function processIteratorResult(result) {\n",
       "            var message = result.value;\n",
       "            console.log(message)\n",
       "            var content = {data: message.data, comm_id};\n",
       "            var buffers = []\n",
       "            for (var buffer of message.buffers || []) {\n",
       "              buffers.push(new DataView(buffer))\n",
       "            }\n",
       "            var metadata = message.metadata || {};\n",
       "            var msg = {content, buffers, metadata}\n",
       "            msg_handler(msg);\n",
       "            return messages.next().then(processIteratorResult);\n",
       "          }\n",
       "          return messages.next().then(processIteratorResult);\n",
       "        })\n",
       "      }\n",
       "    }\n",
       "\n",
       "    JupyterCommManager.prototype.get_client_comm = function(plot_id, comm_id, msg_handler) {\n",
       "      if (comm_id in window.PyViz.comms) {\n",
       "        return window.PyViz.comms[comm_id];\n",
       "      } else if (window.comm_manager || ((window.Jupyter !== undefined) && (Jupyter.notebook.kernel != null))) {\n",
       "        var comm_manager = window.comm_manager || Jupyter.notebook.kernel.comm_manager;\n",
       "        var comm = comm_manager.new_comm(comm_id, {}, {}, {}, comm_id);\n",
       "        if (msg_handler) {\n",
       "          comm.on_msg(msg_handler);\n",
       "        }\n",
       "      } else if ((plot_id in window.PyViz.kernels) && (window.PyViz.kernels[plot_id])) {\n",
       "        var comm = window.PyViz.kernels[plot_id].connectToComm(comm_id);\n",
       "        comm.open();\n",
       "        if (msg_handler) {\n",
       "          comm.onMsg = msg_handler;\n",
       "        }\n",
       "      } else if (typeof google != 'undefined' && google.colab.kernel != null) {\n",
       "        var comm_promise = google.colab.kernel.comms.open(comm_id)\n",
       "        comm_promise.then((comm) => {\n",
       "          window.PyViz.comms[comm_id] = comm;\n",
       "          if (msg_handler) {\n",
       "            var messages = comm.messages[Symbol.asyncIterator]();\n",
       "            function processIteratorResult(result) {\n",
       "              var message = result.value;\n",
       "              var content = {data: message.data};\n",
       "              var metadata = message.metadata || {comm_id};\n",
       "              var msg = {content, metadata}\n",
       "              msg_handler(msg);\n",
       "              return messages.next().then(processIteratorResult);\n",
       "            }\n",
       "            return messages.next().then(processIteratorResult);\n",
       "          }\n",
       "        }) \n",
       "        var sendClosure = (data, metadata, buffers, disposeOnDone) => {\n",
       "          return comm_promise.then((comm) => {\n",
       "            comm.send(data, metadata, buffers, disposeOnDone);\n",
       "          });\n",
       "        };\n",
       "        var comm = {\n",
       "          send: sendClosure\n",
       "        };\n",
       "      }\n",
       "      window.PyViz.comms[comm_id] = comm;\n",
       "      return comm;\n",
       "    }\n",
       "    window.PyViz.comm_manager = new JupyterCommManager();\n",
       "    \n",
       "\n",
       "\n",
       "var JS_MIME_TYPE = 'application/javascript';\n",
       "var HTML_MIME_TYPE = 'text/html';\n",
       "var EXEC_MIME_TYPE = 'application/vnd.holoviews_exec.v0+json';\n",
       "var CLASS_NAME = 'output';\n",
       "\n",
       "/**\n",
       " * Render data to the DOM node\n",
       " */\n",
       "function render(props, node) {\n",
       "  var div = document.createElement(\"div\");\n",
       "  var script = document.createElement(\"script\");\n",
       "  node.appendChild(div);\n",
       "  node.appendChild(script);\n",
       "}\n",
       "\n",
       "/**\n",
       " * Handle when a new output is added\n",
       " */\n",
       "function handle_add_output(event, handle) {\n",
       "  var output_area = handle.output_area;\n",
       "  var output = handle.output;\n",
       "  if ((output.data == undefined) || (!output.data.hasOwnProperty(EXEC_MIME_TYPE))) {\n",
       "    return\n",
       "  }\n",
       "  var id = output.metadata[EXEC_MIME_TYPE][\"id\"];\n",
       "  var toinsert = output_area.element.find(\".\" + CLASS_NAME.split(' ')[0]);\n",
       "  if (id !== undefined) {\n",
       "    var nchildren = toinsert.length;\n",
       "    var html_node = toinsert[nchildren-1].children[0];\n",
       "    html_node.innerHTML = output.data[HTML_MIME_TYPE];\n",
       "    var scripts = [];\n",
       "    var nodelist = html_node.querySelectorAll(\"script\");\n",
       "    for (var i in nodelist) {\n",
       "      if (nodelist.hasOwnProperty(i)) {\n",
       "        scripts.push(nodelist[i])\n",
       "      }\n",
       "    }\n",
       "\n",
       "    scripts.forEach( function (oldScript) {\n",
       "      var newScript = document.createElement(\"script\");\n",
       "      var attrs = [];\n",
       "      var nodemap = oldScript.attributes;\n",
       "      for (var j in nodemap) {\n",
       "        if (nodemap.hasOwnProperty(j)) {\n",
       "          attrs.push(nodemap[j])\n",
       "        }\n",
       "      }\n",
       "      attrs.forEach(function(attr) { newScript.setAttribute(attr.name, attr.value) });\n",
       "      newScript.appendChild(document.createTextNode(oldScript.innerHTML));\n",
       "      oldScript.parentNode.replaceChild(newScript, oldScript);\n",
       "    });\n",
       "    if (JS_MIME_TYPE in output.data) {\n",
       "      toinsert[nchildren-1].children[1].textContent = output.data[JS_MIME_TYPE];\n",
       "    }\n",
       "    output_area._hv_plot_id = id;\n",
       "    if ((window.Bokeh !== undefined) && (id in Bokeh.index)) {\n",
       "      window.PyViz.plot_index[id] = Bokeh.index[id];\n",
       "    } else {\n",
       "      window.PyViz.plot_index[id] = null;\n",
       "    }\n",
       "  } else if (output.metadata[EXEC_MIME_TYPE][\"server_id\"] !== undefined) {\n",
       "    var bk_div = document.createElement(\"div\");\n",
       "    bk_div.innerHTML = output.data[HTML_MIME_TYPE];\n",
       "    var script_attrs = bk_div.children[0].attributes;\n",
       "    for (var i = 0; i < script_attrs.length; i++) {\n",
       "      toinsert[toinsert.length - 1].childNodes[1].setAttribute(script_attrs[i].name, script_attrs[i].value);\n",
       "    }\n",
       "    // store reference to server id on output_area\n",
       "    output_area._bokeh_server_id = output.metadata[EXEC_MIME_TYPE][\"server_id\"];\n",
       "  }\n",
       "}\n",
       "\n",
       "/**\n",
       " * Handle when an output is cleared or removed\n",
       " */\n",
       "function handle_clear_output(event, handle) {\n",
       "  var id = handle.cell.output_area._hv_plot_id;\n",
       "  var server_id = handle.cell.output_area._bokeh_server_id;\n",
       "  if (((id === undefined) || !(id in PyViz.plot_index)) && (server_id !== undefined)) { return; }\n",
       "  var comm = window.PyViz.comm_manager.get_client_comm(\"hv-extension-comm\", \"hv-extension-comm\", function () {});\n",
       "  if (server_id !== null) {\n",
       "    comm.send({event_type: 'server_delete', 'id': server_id});\n",
       "    return;\n",
       "  } else if (comm !== null) {\n",
       "    comm.send({event_type: 'delete', 'id': id});\n",
       "  }\n",
       "  delete PyViz.plot_index[id];\n",
       "  if ((window.Bokeh !== undefined) & (id in window.Bokeh.index)) {\n",
       "    var doc = window.Bokeh.index[id].model.document\n",
       "    doc.clear();\n",
       "    const i = window.Bokeh.documents.indexOf(doc);\n",
       "    if (i > -1) {\n",
       "      window.Bokeh.documents.splice(i, 1);\n",
       "    }\n",
       "  }\n",
       "}\n",
       "\n",
       "/**\n",
       " * Handle kernel restart event\n",
       " */\n",
       "function handle_kernel_cleanup(event, handle) {\n",
       "  delete PyViz.comms[\"hv-extension-comm\"];\n",
       "  window.PyViz.plot_index = {}\n",
       "}\n",
       "\n",
       "/**\n",
       " * Handle update_display_data messages\n",
       " */\n",
       "function handle_update_output(event, handle) {\n",
       "  handle_clear_output(event, {cell: {output_area: handle.output_area}})\n",
       "  handle_add_output(event, handle)\n",
       "}\n",
       "\n",
       "function register_renderer(events, OutputArea) {\n",
       "  function append_mime(data, metadata, element) {\n",
       "    // create a DOM node to render to\n",
       "    var toinsert = this.create_output_subarea(\n",
       "    metadata,\n",
       "    CLASS_NAME,\n",
       "    EXEC_MIME_TYPE\n",
       "    );\n",
       "    this.keyboard_manager.register_events(toinsert);\n",
       "    // Render to node\n",
       "    var props = {data: data, metadata: metadata[EXEC_MIME_TYPE]};\n",
       "    render(props, toinsert[0]);\n",
       "    element.append(toinsert);\n",
       "    return toinsert\n",
       "  }\n",
       "\n",
       "  events.on('output_added.OutputArea', handle_add_output);\n",
       "  events.on('output_updated.OutputArea', handle_update_output);\n",
       "  events.on('clear_output.CodeCell', handle_clear_output);\n",
       "  events.on('delete.Cell', handle_clear_output);\n",
       "  events.on('kernel_ready.Kernel', handle_kernel_cleanup);\n",
       "\n",
       "  OutputArea.prototype.register_mime_type(EXEC_MIME_TYPE, append_mime, {\n",
       "    safe: true,\n",
       "    index: 0\n",
       "  });\n",
       "}\n",
       "\n",
       "if (window.Jupyter !== undefined) {\n",
       "  try {\n",
       "    var events = require('base/js/events');\n",
       "    var OutputArea = require('notebook/js/outputarea').OutputArea;\n",
       "    if (OutputArea.prototype.mime_types().indexOf(EXEC_MIME_TYPE) == -1) {\n",
       "      register_renderer(events, OutputArea);\n",
       "    }\n",
       "  } catch(err) {\n",
       "  }\n",
       "}\n"
      ],
      "application/vnd.holoviews_load.v0+json": "\nif ((window.PyViz === undefined) || (window.PyViz instanceof HTMLElement)) {\n  window.PyViz = {comms: {}, comm_status:{}, kernels:{}, receivers: {}, plot_index: []}\n}\n\n\n    function JupyterCommManager() {\n    }\n\n    JupyterCommManager.prototype.register_target = function(plot_id, comm_id, msg_handler) {\n      if (window.comm_manager || ((window.Jupyter !== undefined) && (Jupyter.notebook.kernel != null))) {\n        var comm_manager = window.comm_manager || Jupyter.notebook.kernel.comm_manager;\n        comm_manager.register_target(comm_id, function(comm) {\n          comm.on_msg(msg_handler);\n        });\n      } else if ((plot_id in window.PyViz.kernels) && (window.PyViz.kernels[plot_id])) {\n        window.PyViz.kernels[plot_id].registerCommTarget(comm_id, function(comm) {\n          comm.onMsg = msg_handler;\n        });\n      } else if (typeof google != 'undefined' && google.colab.kernel != null) {\n        google.colab.kernel.comms.registerTarget(comm_id, (comm) => {\n          var messages = comm.messages[Symbol.asyncIterator]();\n          function processIteratorResult(result) {\n            var message = result.value;\n            console.log(message)\n            var content = {data: message.data, comm_id};\n            var buffers = []\n            for (var buffer of message.buffers || []) {\n              buffers.push(new DataView(buffer))\n            }\n            var metadata = message.metadata || {};\n            var msg = {content, buffers, metadata}\n            msg_handler(msg);\n            return messages.next().then(processIteratorResult);\n          }\n          return messages.next().then(processIteratorResult);\n        })\n      }\n    }\n\n    JupyterCommManager.prototype.get_client_comm = function(plot_id, comm_id, msg_handler) {\n      if (comm_id in window.PyViz.comms) {\n        return window.PyViz.comms[comm_id];\n      } else if (window.comm_manager || ((window.Jupyter !== undefined) && (Jupyter.notebook.kernel != null))) {\n        var comm_manager = window.comm_manager || Jupyter.notebook.kernel.comm_manager;\n        var comm = comm_manager.new_comm(comm_id, {}, {}, {}, comm_id);\n        if (msg_handler) {\n          comm.on_msg(msg_handler);\n        }\n      } else if ((plot_id in window.PyViz.kernels) && (window.PyViz.kernels[plot_id])) {\n        var comm = window.PyViz.kernels[plot_id].connectToComm(comm_id);\n        comm.open();\n        if (msg_handler) {\n          comm.onMsg = msg_handler;\n        }\n      } else if (typeof google != 'undefined' && google.colab.kernel != null) {\n        var comm_promise = google.colab.kernel.comms.open(comm_id)\n        comm_promise.then((comm) => {\n          window.PyViz.comms[comm_id] = comm;\n          if (msg_handler) {\n            var messages = comm.messages[Symbol.asyncIterator]();\n            function processIteratorResult(result) {\n              var message = result.value;\n              var content = {data: message.data};\n              var metadata = message.metadata || {comm_id};\n              var msg = {content, metadata}\n              msg_handler(msg);\n              return messages.next().then(processIteratorResult);\n            }\n            return messages.next().then(processIteratorResult);\n          }\n        }) \n        var sendClosure = (data, metadata, buffers, disposeOnDone) => {\n          return comm_promise.then((comm) => {\n            comm.send(data, metadata, buffers, disposeOnDone);\n          });\n        };\n        var comm = {\n          send: sendClosure\n        };\n      }\n      window.PyViz.comms[comm_id] = comm;\n      return comm;\n    }\n    window.PyViz.comm_manager = new JupyterCommManager();\n    \n\n\nvar JS_MIME_TYPE = 'application/javascript';\nvar HTML_MIME_TYPE = 'text/html';\nvar EXEC_MIME_TYPE = 'application/vnd.holoviews_exec.v0+json';\nvar CLASS_NAME = 'output';\n\n/**\n * Render data to the DOM node\n */\nfunction render(props, node) {\n  var div = document.createElement(\"div\");\n  var script = document.createElement(\"script\");\n  node.appendChild(div);\n  node.appendChild(script);\n}\n\n/**\n * Handle when a new output is added\n */\nfunction handle_add_output(event, handle) {\n  var output_area = handle.output_area;\n  var output = handle.output;\n  if ((output.data == undefined) || (!output.data.hasOwnProperty(EXEC_MIME_TYPE))) {\n    return\n  }\n  var id = output.metadata[EXEC_MIME_TYPE][\"id\"];\n  var toinsert = output_area.element.find(\".\" + CLASS_NAME.split(' ')[0]);\n  if (id !== undefined) {\n    var nchildren = toinsert.length;\n    var html_node = toinsert[nchildren-1].children[0];\n    html_node.innerHTML = output.data[HTML_MIME_TYPE];\n    var scripts = [];\n    var nodelist = html_node.querySelectorAll(\"script\");\n    for (var i in nodelist) {\n      if (nodelist.hasOwnProperty(i)) {\n        scripts.push(nodelist[i])\n      }\n    }\n\n    scripts.forEach( function (oldScript) {\n      var newScript = document.createElement(\"script\");\n      var attrs = [];\n      var nodemap = oldScript.attributes;\n      for (var j in nodemap) {\n        if (nodemap.hasOwnProperty(j)) {\n          attrs.push(nodemap[j])\n        }\n      }\n      attrs.forEach(function(attr) { newScript.setAttribute(attr.name, attr.value) });\n      newScript.appendChild(document.createTextNode(oldScript.innerHTML));\n      oldScript.parentNode.replaceChild(newScript, oldScript);\n    });\n    if (JS_MIME_TYPE in output.data) {\n      toinsert[nchildren-1].children[1].textContent = output.data[JS_MIME_TYPE];\n    }\n    output_area._hv_plot_id = id;\n    if ((window.Bokeh !== undefined) && (id in Bokeh.index)) {\n      window.PyViz.plot_index[id] = Bokeh.index[id];\n    } else {\n      window.PyViz.plot_index[id] = null;\n    }\n  } else if (output.metadata[EXEC_MIME_TYPE][\"server_id\"] !== undefined) {\n    var bk_div = document.createElement(\"div\");\n    bk_div.innerHTML = output.data[HTML_MIME_TYPE];\n    var script_attrs = bk_div.children[0].attributes;\n    for (var i = 0; i < script_attrs.length; i++) {\n      toinsert[toinsert.length - 1].childNodes[1].setAttribute(script_attrs[i].name, script_attrs[i].value);\n    }\n    // store reference to server id on output_area\n    output_area._bokeh_server_id = output.metadata[EXEC_MIME_TYPE][\"server_id\"];\n  }\n}\n\n/**\n * Handle when an output is cleared or removed\n */\nfunction handle_clear_output(event, handle) {\n  var id = handle.cell.output_area._hv_plot_id;\n  var server_id = handle.cell.output_area._bokeh_server_id;\n  if (((id === undefined) || !(id in PyViz.plot_index)) && (server_id !== undefined)) { return; }\n  var comm = window.PyViz.comm_manager.get_client_comm(\"hv-extension-comm\", \"hv-extension-comm\", function () {});\n  if (server_id !== null) {\n    comm.send({event_type: 'server_delete', 'id': server_id});\n    return;\n  } else if (comm !== null) {\n    comm.send({event_type: 'delete', 'id': id});\n  }\n  delete PyViz.plot_index[id];\n  if ((window.Bokeh !== undefined) & (id in window.Bokeh.index)) {\n    var doc = window.Bokeh.index[id].model.document\n    doc.clear();\n    const i = window.Bokeh.documents.indexOf(doc);\n    if (i > -1) {\n      window.Bokeh.documents.splice(i, 1);\n    }\n  }\n}\n\n/**\n * Handle kernel restart event\n */\nfunction handle_kernel_cleanup(event, handle) {\n  delete PyViz.comms[\"hv-extension-comm\"];\n  window.PyViz.plot_index = {}\n}\n\n/**\n * Handle update_display_data messages\n */\nfunction handle_update_output(event, handle) {\n  handle_clear_output(event, {cell: {output_area: handle.output_area}})\n  handle_add_output(event, handle)\n}\n\nfunction register_renderer(events, OutputArea) {\n  function append_mime(data, metadata, element) {\n    // create a DOM node to render to\n    var toinsert = this.create_output_subarea(\n    metadata,\n    CLASS_NAME,\n    EXEC_MIME_TYPE\n    );\n    this.keyboard_manager.register_events(toinsert);\n    // Render to node\n    var props = {data: data, metadata: metadata[EXEC_MIME_TYPE]};\n    render(props, toinsert[0]);\n    element.append(toinsert);\n    return toinsert\n  }\n\n  events.on('output_added.OutputArea', handle_add_output);\n  events.on('output_updated.OutputArea', handle_update_output);\n  events.on('clear_output.CodeCell', handle_clear_output);\n  events.on('delete.Cell', handle_clear_output);\n  events.on('kernel_ready.Kernel', handle_kernel_cleanup);\n\n  OutputArea.prototype.register_mime_type(EXEC_MIME_TYPE, append_mime, {\n    safe: true,\n    index: 0\n  });\n}\n\nif (window.Jupyter !== undefined) {\n  try {\n    var events = require('base/js/events');\n    var OutputArea = require('notebook/js/outputarea').OutputArea;\n    if (OutputArea.prototype.mime_types().indexOf(EXEC_MIME_TYPE) == -1) {\n      register_renderer(events, OutputArea);\n    }\n  } catch(err) {\n  }\n}\n"
     },
     "metadata": {},
     "output_type": "display_data"
    },
    {
     "data": {
      "text/html": [
       "<style>*[data-root-id],\n",
       "*[data-root-id] > * {\n",
       "  box-sizing: border-box;\n",
       "  font-family: var(--jp-ui-font-family);\n",
       "  font-size: var(--jp-ui-font-size1);\n",
       "  color: var(--vscode-editor-foreground, var(--jp-ui-font-color1));\n",
       "}\n",
       "\n",
       "/* Override VSCode background color */\n",
       ".cell-output-ipywidget-background:has(\n",
       "    > .cell-output-ipywidget-background > .lm-Widget > *[data-root-id]\n",
       "  ),\n",
       ".cell-output-ipywidget-background:has(> .lm-Widget > *[data-root-id]) {\n",
       "  background-color: transparent !important;\n",
       "}\n",
       "</style>"
      ]
     },
     "metadata": {},
     "output_type": "display_data"
    }
   ],
   "source": [
    "import pandas as pd\n",
    "import numpy as np\n",
    "import panel as pn\n",
    "import plotly.express as px\n",
    "pn.extension('tabulator')\n",
    "from dash import Dash, dcc, html, Input, Output\n",
    "import plotly.graph_objects as go\n",
    "import panel.widgets as pnw\n",
    "import hvplot.pandas\n",
    "\n",
    "\n"
   ]
  },
  {
   "cell_type": "code",
   "execution_count": 2,
   "id": "cc5b430b-40a8-4050-a64d-97b67c1194b9",
   "metadata": {},
   "outputs": [],
   "source": [
    "#df = pd.read_csv('C:\\\\Users\\\\Kaja\\\\Desktop\\\\infoviz\\\\data\\\\olympic_medals.csv')\n",
    "df = pd.read_csv('C:\\\\Users\\\\Kaja\\\\Desktop\\\\infoviz\\\\data\\\\olympic_results.csv')"
   ]
  },
  {
   "cell_type": "code",
   "execution_count": 274,
   "id": "f8d79102-b28b-4a0b-b848-a6da8018f2a9",
   "metadata": {},
   "outputs": [
    {
     "data": {
      "text/html": [
       "<div>\n",
       "<style scoped>\n",
       "    .dataframe tbody tr th:only-of-type {\n",
       "        vertical-align: middle;\n",
       "    }\n",
       "\n",
       "    .dataframe tbody tr th {\n",
       "        vertical-align: top;\n",
       "    }\n",
       "\n",
       "    .dataframe thead th {\n",
       "        text-align: right;\n",
       "    }\n",
       "</style>\n",
       "<table border=\"1\" class=\"dataframe\">\n",
       "  <thead>\n",
       "    <tr style=\"text-align: right;\">\n",
       "      <th></th>\n",
       "      <th>discipline_title</th>\n",
       "      <th>event_title</th>\n",
       "      <th>slug_game</th>\n",
       "      <th>participant_type</th>\n",
       "      <th>medal_type</th>\n",
       "      <th>athletes</th>\n",
       "      <th>rank_equal</th>\n",
       "      <th>rank_position</th>\n",
       "      <th>country_name</th>\n",
       "      <th>country_code</th>\n",
       "      <th>country_3_letter_code</th>\n",
       "      <th>athlete_url</th>\n",
       "      <th>athlete_full_name</th>\n",
       "      <th>value_unit</th>\n",
       "      <th>value_type</th>\n",
       "      <th>date</th>\n",
       "    </tr>\n",
       "  </thead>\n",
       "  <tbody>\n",
       "    <tr>\n",
       "      <th>0</th>\n",
       "      <td>Curling</td>\n",
       "      <td>Mixed Doubles</td>\n",
       "      <td>beijing-2022</td>\n",
       "      <td>GameTeam</td>\n",
       "      <td>GOLD</td>\n",
       "      <td>[('Stefania CONSTANTINI', 'https://olympics.co...</td>\n",
       "      <td>False</td>\n",
       "      <td>1</td>\n",
       "      <td>Italy</td>\n",
       "      <td>IT</td>\n",
       "      <td>ITA</td>\n",
       "      <td>0</td>\n",
       "      <td>0</td>\n",
       "      <td>0</td>\n",
       "      <td>0</td>\n",
       "      <td>2022</td>\n",
       "    </tr>\n",
       "    <tr>\n",
       "      <th>1</th>\n",
       "      <td>Curling</td>\n",
       "      <td>Mixed Doubles</td>\n",
       "      <td>beijing-2022</td>\n",
       "      <td>GameTeam</td>\n",
       "      <td>SILVER</td>\n",
       "      <td>[('Kristin SKASLIEN', 'https://olympics.com/en...</td>\n",
       "      <td>False</td>\n",
       "      <td>2</td>\n",
       "      <td>Norway</td>\n",
       "      <td>NO</td>\n",
       "      <td>NOR</td>\n",
       "      <td>0</td>\n",
       "      <td>0</td>\n",
       "      <td>0</td>\n",
       "      <td>0</td>\n",
       "      <td>2022</td>\n",
       "    </tr>\n",
       "    <tr>\n",
       "      <th>2</th>\n",
       "      <td>Curling</td>\n",
       "      <td>Mixed Doubles</td>\n",
       "      <td>beijing-2022</td>\n",
       "      <td>GameTeam</td>\n",
       "      <td>BRONZE</td>\n",
       "      <td>[('Almida DE VAL', 'https://olympics.com/en/at...</td>\n",
       "      <td>False</td>\n",
       "      <td>3</td>\n",
       "      <td>Sweden</td>\n",
       "      <td>SE</td>\n",
       "      <td>SWE</td>\n",
       "      <td>0</td>\n",
       "      <td>0</td>\n",
       "      <td>0</td>\n",
       "      <td>0</td>\n",
       "      <td>2022</td>\n",
       "    </tr>\n",
       "    <tr>\n",
       "      <th>3</th>\n",
       "      <td>Curling</td>\n",
       "      <td>Mixed Doubles</td>\n",
       "      <td>beijing-2022</td>\n",
       "      <td>GameTeam</td>\n",
       "      <td>0</td>\n",
       "      <td>[('Jennifer DODDS', 'https://olympics.com/en/a...</td>\n",
       "      <td>False</td>\n",
       "      <td>4</td>\n",
       "      <td>Great Britain</td>\n",
       "      <td>GB</td>\n",
       "      <td>GBR</td>\n",
       "      <td>0</td>\n",
       "      <td>0</td>\n",
       "      <td>0</td>\n",
       "      <td>0</td>\n",
       "      <td>2022</td>\n",
       "    </tr>\n",
       "    <tr>\n",
       "      <th>4</th>\n",
       "      <td>Curling</td>\n",
       "      <td>Mixed Doubles</td>\n",
       "      <td>beijing-2022</td>\n",
       "      <td>GameTeam</td>\n",
       "      <td>0</td>\n",
       "      <td>[('Rachel HOMAN', 'https://olympics.com/en/ath...</td>\n",
       "      <td>False</td>\n",
       "      <td>5</td>\n",
       "      <td>Canada</td>\n",
       "      <td>CA</td>\n",
       "      <td>CAN</td>\n",
       "      <td>0</td>\n",
       "      <td>0</td>\n",
       "      <td>0</td>\n",
       "      <td>0</td>\n",
       "      <td>2022</td>\n",
       "    </tr>\n",
       "    <tr>\n",
       "      <th>...</th>\n",
       "      <td>...</td>\n",
       "      <td>...</td>\n",
       "      <td>...</td>\n",
       "      <td>...</td>\n",
       "      <td>...</td>\n",
       "      <td>...</td>\n",
       "      <td>...</td>\n",
       "      <td>...</td>\n",
       "      <td>...</td>\n",
       "      <td>...</td>\n",
       "      <td>...</td>\n",
       "      <td>...</td>\n",
       "      <td>...</td>\n",
       "      <td>...</td>\n",
       "      <td>...</td>\n",
       "      <td>...</td>\n",
       "    </tr>\n",
       "    <tr>\n",
       "      <th>162799</th>\n",
       "      <td>Ski Jumping</td>\n",
       "      <td>Normal Hill Individual men</td>\n",
       "      <td>chamonix-1924</td>\n",
       "      <td>Athlete</td>\n",
       "      <td>0</td>\n",
       "      <td>0</td>\n",
       "      <td>0</td>\n",
       "      <td>DNS</td>\n",
       "      <td>Poland</td>\n",
       "      <td>PL</td>\n",
       "      <td>POL</td>\n",
       "      <td>https://olympics.com/en/athletes/franciszek-bujak</td>\n",
       "      <td>Franciszek BUJAK</td>\n",
       "      <td>0</td>\n",
       "      <td>IRM</td>\n",
       "      <td>1924</td>\n",
       "    </tr>\n",
       "    <tr>\n",
       "      <th>162800</th>\n",
       "      <td>Ski Jumping</td>\n",
       "      <td>Normal Hill Individual men</td>\n",
       "      <td>chamonix-1924</td>\n",
       "      <td>Athlete</td>\n",
       "      <td>0</td>\n",
       "      <td>0</td>\n",
       "      <td>0</td>\n",
       "      <td>DNS</td>\n",
       "      <td>Poland</td>\n",
       "      <td>PL</td>\n",
       "      <td>POL</td>\n",
       "      <td>0</td>\n",
       "      <td>Henryk Mückenbrunn</td>\n",
       "      <td>0</td>\n",
       "      <td>IRM</td>\n",
       "      <td>1924</td>\n",
       "    </tr>\n",
       "    <tr>\n",
       "      <th>162801</th>\n",
       "      <td>Ski Jumping</td>\n",
       "      <td>Normal Hill Individual men</td>\n",
       "      <td>chamonix-1924</td>\n",
       "      <td>Athlete</td>\n",
       "      <td>0</td>\n",
       "      <td>0</td>\n",
       "      <td>0</td>\n",
       "      <td>DNS</td>\n",
       "      <td>Czechoslovakia</td>\n",
       "      <td>CSHH</td>\n",
       "      <td>TCH</td>\n",
       "      <td>0</td>\n",
       "      <td>Milda Prokopec</td>\n",
       "      <td>0</td>\n",
       "      <td>IRM</td>\n",
       "      <td>1924</td>\n",
       "    </tr>\n",
       "    <tr>\n",
       "      <th>162802</th>\n",
       "      <td>Ski Jumping</td>\n",
       "      <td>Normal Hill Individual men</td>\n",
       "      <td>chamonix-1924</td>\n",
       "      <td>Athlete</td>\n",
       "      <td>0</td>\n",
       "      <td>0</td>\n",
       "      <td>0</td>\n",
       "      <td>DNS</td>\n",
       "      <td>United States of America</td>\n",
       "      <td>US</td>\n",
       "      <td>USA</td>\n",
       "      <td>0</td>\n",
       "      <td>Sigurd Overby</td>\n",
       "      <td>0</td>\n",
       "      <td>IRM</td>\n",
       "      <td>1924</td>\n",
       "    </tr>\n",
       "    <tr>\n",
       "      <th>162803</th>\n",
       "      <td>Gymnastics Artistic</td>\n",
       "      <td>26th Federal Festival, Society and Association...</td>\n",
       "      <td>paris-1900</td>\n",
       "      <td>GameTeam</td>\n",
       "      <td>0</td>\n",
       "      <td>0</td>\n",
       "      <td>0</td>\n",
       "      <td>1</td>\n",
       "      <td>France</td>\n",
       "      <td>FR</td>\n",
       "      <td>FRA</td>\n",
       "      <td>0</td>\n",
       "      <td>0</td>\n",
       "      <td>142 pts</td>\n",
       "      <td>POINTS</td>\n",
       "      <td>1900</td>\n",
       "    </tr>\n",
       "  </tbody>\n",
       "</table>\n",
       "<p>162804 rows × 16 columns</p>\n",
       "</div>"
      ],
      "text/plain": [
       "           discipline_title  \\\n",
       "0                   Curling   \n",
       "1                   Curling   \n",
       "2                   Curling   \n",
       "3                   Curling   \n",
       "4                   Curling   \n",
       "...                     ...   \n",
       "162799          Ski Jumping   \n",
       "162800          Ski Jumping   \n",
       "162801          Ski Jumping   \n",
       "162802          Ski Jumping   \n",
       "162803  Gymnastics Artistic   \n",
       "\n",
       "                                              event_title      slug_game  \\\n",
       "0                                           Mixed Doubles   beijing-2022   \n",
       "1                                           Mixed Doubles   beijing-2022   \n",
       "2                                           Mixed Doubles   beijing-2022   \n",
       "3                                           Mixed Doubles   beijing-2022   \n",
       "4                                           Mixed Doubles   beijing-2022   \n",
       "...                                                   ...            ...   \n",
       "162799                         Normal Hill Individual men  chamonix-1924   \n",
       "162800                         Normal Hill Individual men  chamonix-1924   \n",
       "162801                         Normal Hill Individual men  chamonix-1924   \n",
       "162802                         Normal Hill Individual men  chamonix-1924   \n",
       "162803  26th Federal Festival, Society and Association...     paris-1900   \n",
       "\n",
       "       participant_type medal_type  \\\n",
       "0              GameTeam       GOLD   \n",
       "1              GameTeam     SILVER   \n",
       "2              GameTeam     BRONZE   \n",
       "3              GameTeam          0   \n",
       "4              GameTeam          0   \n",
       "...                 ...        ...   \n",
       "162799          Athlete          0   \n",
       "162800          Athlete          0   \n",
       "162801          Athlete          0   \n",
       "162802          Athlete          0   \n",
       "162803         GameTeam          0   \n",
       "\n",
       "                                                 athletes rank_equal  \\\n",
       "0       [('Stefania CONSTANTINI', 'https://olympics.co...      False   \n",
       "1       [('Kristin SKASLIEN', 'https://olympics.com/en...      False   \n",
       "2       [('Almida DE VAL', 'https://olympics.com/en/at...      False   \n",
       "3       [('Jennifer DODDS', 'https://olympics.com/en/a...      False   \n",
       "4       [('Rachel HOMAN', 'https://olympics.com/en/ath...      False   \n",
       "...                                                   ...        ...   \n",
       "162799                                                  0          0   \n",
       "162800                                                  0          0   \n",
       "162801                                                  0          0   \n",
       "162802                                                  0          0   \n",
       "162803                                                  0          0   \n",
       "\n",
       "       rank_position              country_name country_code  \\\n",
       "0                  1                     Italy           IT   \n",
       "1                  2                    Norway           NO   \n",
       "2                  3                    Sweden           SE   \n",
       "3                  4             Great Britain           GB   \n",
       "4                  5                    Canada           CA   \n",
       "...              ...                       ...          ...   \n",
       "162799           DNS                    Poland           PL   \n",
       "162800           DNS                    Poland           PL   \n",
       "162801           DNS            Czechoslovakia         CSHH   \n",
       "162802           DNS  United States of America           US   \n",
       "162803             1                    France           FR   \n",
       "\n",
       "       country_3_letter_code  \\\n",
       "0                        ITA   \n",
       "1                        NOR   \n",
       "2                        SWE   \n",
       "3                        GBR   \n",
       "4                        CAN   \n",
       "...                      ...   \n",
       "162799                   POL   \n",
       "162800                   POL   \n",
       "162801                   TCH   \n",
       "162802                   USA   \n",
       "162803                   FRA   \n",
       "\n",
       "                                              athlete_url   athlete_full_name  \\\n",
       "0                                                       0                   0   \n",
       "1                                                       0                   0   \n",
       "2                                                       0                   0   \n",
       "3                                                       0                   0   \n",
       "4                                                       0                   0   \n",
       "...                                                   ...                 ...   \n",
       "162799  https://olympics.com/en/athletes/franciszek-bujak    Franciszek BUJAK   \n",
       "162800                                                  0  Henryk Mückenbrunn   \n",
       "162801                                                  0      Milda Prokopec   \n",
       "162802                                                  0       Sigurd Overby   \n",
       "162803                                                  0                   0   \n",
       "\n",
       "       value_unit value_type  date  \n",
       "0               0          0  2022  \n",
       "1               0          0  2022  \n",
       "2               0          0  2022  \n",
       "3               0          0  2022  \n",
       "4               0          0  2022  \n",
       "...           ...        ...   ...  \n",
       "162799          0        IRM  1924  \n",
       "162800          0        IRM  1924  \n",
       "162801          0        IRM  1924  \n",
       "162802          0        IRM  1924  \n",
       "162803    142 pts     POINTS  1900  \n",
       "\n",
       "[162804 rows x 16 columns]"
      ]
     },
     "execution_count": 274,
     "metadata": {},
     "output_type": "execute_result"
    }
   ],
   "source": [
    "df"
   ]
  },
  {
   "cell_type": "code",
   "execution_count": 4,
   "id": "12e93dd6-bbcd-4d2d-b5af-d85ab8ee0e67",
   "metadata": {},
   "outputs": [
    {
     "data": {
      "text/plain": [
       "Index(['discipline_title', 'event_title', 'slug_game', 'participant_type',\n",
       "       'medal_type', 'athletes', 'rank_equal', 'rank_position', 'country_name',\n",
       "       'country_code', 'country_3_letter_code', 'athlete_url',\n",
       "       'athlete_full_name', 'value_unit', 'value_type'],\n",
       "      dtype='object')"
      ]
     },
     "execution_count": 4,
     "metadata": {},
     "output_type": "execute_result"
    }
   ],
   "source": [
    "df.columns"
   ]
  },
  {
   "cell_type": "code",
   "execution_count": 5,
   "id": "cadb300a-588b-4031-aaf9-730f1a29acde",
   "metadata": {},
   "outputs": [
    {
     "data": {
      "text/html": [
       "<div>\n",
       "<style scoped>\n",
       "    .dataframe tbody tr th:only-of-type {\n",
       "        vertical-align: middle;\n",
       "    }\n",
       "\n",
       "    .dataframe tbody tr th {\n",
       "        vertical-align: top;\n",
       "    }\n",
       "\n",
       "    .dataframe thead th {\n",
       "        text-align: right;\n",
       "    }\n",
       "</style>\n",
       "<table border=\"1\" class=\"dataframe\">\n",
       "  <thead>\n",
       "    <tr style=\"text-align: right;\">\n",
       "      <th></th>\n",
       "      <th>discipline_title</th>\n",
       "      <th>event_title</th>\n",
       "      <th>slug_game</th>\n",
       "      <th>participant_type</th>\n",
       "      <th>medal_type</th>\n",
       "      <th>athletes</th>\n",
       "      <th>rank_equal</th>\n",
       "      <th>rank_position</th>\n",
       "      <th>country_name</th>\n",
       "      <th>country_code</th>\n",
       "      <th>country_3_letter_code</th>\n",
       "      <th>athlete_url</th>\n",
       "      <th>athlete_full_name</th>\n",
       "      <th>value_unit</th>\n",
       "      <th>value_type</th>\n",
       "    </tr>\n",
       "  </thead>\n",
       "  <tbody>\n",
       "    <tr>\n",
       "      <th>665</th>\n",
       "      <td>Snowboard</td>\n",
       "      <td>Men's Parallel Giant Slalom</td>\n",
       "      <td>beijing-2022</td>\n",
       "      <td>Athlete</td>\n",
       "      <td>NaN</td>\n",
       "      <td>NaN</td>\n",
       "      <td>False</td>\n",
       "      <td>11</td>\n",
       "      <td>Slovenia</td>\n",
       "      <td>SI</td>\n",
       "      <td>SLO</td>\n",
       "      <td>https://olympics.com/en/athletes/zan-kosir</td>\n",
       "      <td>Zan KOSIR</td>\n",
       "      <td>NaN</td>\n",
       "      <td>NaN</td>\n",
       "    </tr>\n",
       "    <tr>\n",
       "      <th>676</th>\n",
       "      <td>Snowboard</td>\n",
       "      <td>Men's Parallel Giant Slalom</td>\n",
       "      <td>beijing-2022</td>\n",
       "      <td>Athlete</td>\n",
       "      <td>SILVER</td>\n",
       "      <td>NaN</td>\n",
       "      <td>False</td>\n",
       "      <td>2</td>\n",
       "      <td>Slovenia</td>\n",
       "      <td>SI</td>\n",
       "      <td>SLO</td>\n",
       "      <td>https://olympics.com/en/athletes/tim-mastnak</td>\n",
       "      <td>Tim MASTNAK</td>\n",
       "      <td>NaN</td>\n",
       "      <td>NaN</td>\n",
       "    </tr>\n",
       "    <tr>\n",
       "      <th>677</th>\n",
       "      <td>Snowboard</td>\n",
       "      <td>Men's Parallel Giant Slalom</td>\n",
       "      <td>beijing-2022</td>\n",
       "      <td>Athlete</td>\n",
       "      <td>NaN</td>\n",
       "      <td>NaN</td>\n",
       "      <td>False</td>\n",
       "      <td>25</td>\n",
       "      <td>Slovenia</td>\n",
       "      <td>SI</td>\n",
       "      <td>SLO</td>\n",
       "      <td>https://olympics.com/en/athletes/rok-marguc</td>\n",
       "      <td>Rok MARGUC</td>\n",
       "      <td>NaN</td>\n",
       "      <td>NaN</td>\n",
       "    </tr>\n",
       "    <tr>\n",
       "      <th>697</th>\n",
       "      <td>Snowboard</td>\n",
       "      <td>Women's Snowboard Big Air</td>\n",
       "      <td>beijing-2022</td>\n",
       "      <td>Athlete</td>\n",
       "      <td>NaN</td>\n",
       "      <td>NaN</td>\n",
       "      <td>False</td>\n",
       "      <td>18</td>\n",
       "      <td>Slovenia</td>\n",
       "      <td>SI</td>\n",
       "      <td>SLO</td>\n",
       "      <td>https://olympics.com/en/athletes/urska-pribosic</td>\n",
       "      <td>Urska PRIBOSIC</td>\n",
       "      <td>43.00</td>\n",
       "      <td>POINTS</td>\n",
       "    </tr>\n",
       "    <tr>\n",
       "      <th>788</th>\n",
       "      <td>Snowboard</td>\n",
       "      <td>Men's Snowboard Halfpipe</td>\n",
       "      <td>beijing-2022</td>\n",
       "      <td>Athlete</td>\n",
       "      <td>NaN</td>\n",
       "      <td>NaN</td>\n",
       "      <td>False</td>\n",
       "      <td>22</td>\n",
       "      <td>Slovenia</td>\n",
       "      <td>SI</td>\n",
       "      <td>SLO</td>\n",
       "      <td>https://olympics.com/en/athletes/tit-stante</td>\n",
       "      <td>Tit STANTE</td>\n",
       "      <td>18.25</td>\n",
       "      <td>POINTS</td>\n",
       "    </tr>\n",
       "    <tr>\n",
       "      <th>827</th>\n",
       "      <td>Snowboard</td>\n",
       "      <td>Women's Snowboard Slopestyle</td>\n",
       "      <td>beijing-2022</td>\n",
       "      <td>Athlete</td>\n",
       "      <td>NaN</td>\n",
       "      <td>NaN</td>\n",
       "      <td>False</td>\n",
       "      <td>24</td>\n",
       "      <td>Slovenia</td>\n",
       "      <td>SI</td>\n",
       "      <td>SLO</td>\n",
       "      <td>https://olympics.com/en/athletes/urska-pribosic</td>\n",
       "      <td>Urska PRIBOSIC</td>\n",
       "      <td>32.00</td>\n",
       "      <td>POINTS</td>\n",
       "    </tr>\n",
       "    <tr>\n",
       "      <th>845</th>\n",
       "      <td>Snowboard</td>\n",
       "      <td>Women's Parallel Giant Slalom</td>\n",
       "      <td>beijing-2022</td>\n",
       "      <td>Athlete</td>\n",
       "      <td>BRONZE</td>\n",
       "      <td>NaN</td>\n",
       "      <td>False</td>\n",
       "      <td>3</td>\n",
       "      <td>Slovenia</td>\n",
       "      <td>SI</td>\n",
       "      <td>SLO</td>\n",
       "      <td>https://olympics.com/en/athletes/gloria-kotnik</td>\n",
       "      <td>Gloria KOTNIK</td>\n",
       "      <td>NaN</td>\n",
       "      <td>NaN</td>\n",
       "    </tr>\n",
       "    <tr>\n",
       "      <th>898</th>\n",
       "      <td>Ski Jumping</td>\n",
       "      <td>Men's Team</td>\n",
       "      <td>beijing-2022</td>\n",
       "      <td>GameTeam</td>\n",
       "      <td>SILVER</td>\n",
       "      <td>NaN</td>\n",
       "      <td>False</td>\n",
       "      <td>2</td>\n",
       "      <td>Slovenia</td>\n",
       "      <td>SI</td>\n",
       "      <td>SLO</td>\n",
       "      <td>NaN</td>\n",
       "      <td>NaN</td>\n",
       "      <td>NaN</td>\n",
       "      <td>NaN</td>\n",
       "    </tr>\n",
       "    <tr>\n",
       "      <th>914</th>\n",
       "      <td>Ski Jumping</td>\n",
       "      <td>Men's LH Individual</td>\n",
       "      <td>beijing-2022</td>\n",
       "      <td>Athlete</td>\n",
       "      <td>NaN</td>\n",
       "      <td>NaN</td>\n",
       "      <td>False</td>\n",
       "      <td>6</td>\n",
       "      <td>Slovenia</td>\n",
       "      <td>SI</td>\n",
       "      <td>SLO</td>\n",
       "      <td>https://olympics.com/en/athletes/zajc</td>\n",
       "      <td>Timi ZAJC</td>\n",
       "      <td>273.2</td>\n",
       "      <td>POINTS</td>\n",
       "    </tr>\n",
       "    <tr>\n",
       "      <th>920</th>\n",
       "      <td>Ski Jumping</td>\n",
       "      <td>Men's LH Individual</td>\n",
       "      <td>beijing-2022</td>\n",
       "      <td>Athlete</td>\n",
       "      <td>NaN</td>\n",
       "      <td>NaN</td>\n",
       "      <td>False</td>\n",
       "      <td>10</td>\n",
       "      <td>Slovenia</td>\n",
       "      <td>SI</td>\n",
       "      <td>SLO</td>\n",
       "      <td>https://olympics.com/en/athletes/peter-prevc</td>\n",
       "      <td>Peter PREVC</td>\n",
       "      <td>268.7</td>\n",
       "      <td>POINTS</td>\n",
       "    </tr>\n",
       "    <tr>\n",
       "      <th>952</th>\n",
       "      <td>Ski Jumping</td>\n",
       "      <td>Men's LH Individual</td>\n",
       "      <td>beijing-2022</td>\n",
       "      <td>Athlete</td>\n",
       "      <td>NaN</td>\n",
       "      <td>NaN</td>\n",
       "      <td>False</td>\n",
       "      <td>12</td>\n",
       "      <td>Slovenia</td>\n",
       "      <td>SI</td>\n",
       "      <td>SLO</td>\n",
       "      <td>https://olympics.com/en/athletes/prevc</td>\n",
       "      <td>Cene PREVC</td>\n",
       "      <td>268.1</td>\n",
       "      <td>POINTS</td>\n",
       "    </tr>\n",
       "    <tr>\n",
       "      <th>959</th>\n",
       "      <td>Ski Jumping</td>\n",
       "      <td>Men's LH Individual</td>\n",
       "      <td>beijing-2022</td>\n",
       "      <td>Athlete</td>\n",
       "      <td>NaN</td>\n",
       "      <td>NaN</td>\n",
       "      <td>False</td>\n",
       "      <td>11</td>\n",
       "      <td>Slovenia</td>\n",
       "      <td>SI</td>\n",
       "      <td>SLO</td>\n",
       "      <td>https://olympics.com/en/athletes/lovro-kos</td>\n",
       "      <td>Lovro KOS</td>\n",
       "      <td>268.4</td>\n",
       "      <td>POINTS</td>\n",
       "    </tr>\n",
       "    <tr>\n",
       "      <th>964</th>\n",
       "      <td>Ski Jumping</td>\n",
       "      <td>Mixed Team</td>\n",
       "      <td>beijing-2022</td>\n",
       "      <td>GameTeam</td>\n",
       "      <td>GOLD</td>\n",
       "      <td>NaN</td>\n",
       "      <td>False</td>\n",
       "      <td>1</td>\n",
       "      <td>Slovenia</td>\n",
       "      <td>SI</td>\n",
       "      <td>SLO</td>\n",
       "      <td>NaN</td>\n",
       "      <td>NaN</td>\n",
       "      <td>1001.5</td>\n",
       "      <td>POINTS</td>\n",
       "    </tr>\n",
       "    <tr>\n",
       "      <th>983</th>\n",
       "      <td>Ski Jumping</td>\n",
       "      <td>Women's NH Individual</td>\n",
       "      <td>beijing-2022</td>\n",
       "      <td>Athlete</td>\n",
       "      <td>BRONZE</td>\n",
       "      <td>NaN</td>\n",
       "      <td>False</td>\n",
       "      <td>3</td>\n",
       "      <td>Slovenia</td>\n",
       "      <td>SI</td>\n",
       "      <td>SLO</td>\n",
       "      <td>https://olympics.com/en/athletes/kriznar</td>\n",
       "      <td>Nika KRIZNAR</td>\n",
       "      <td>232.0</td>\n",
       "      <td>POINTS</td>\n",
       "    </tr>\n",
       "    <tr>\n",
       "      <th>993</th>\n",
       "      <td>Ski Jumping</td>\n",
       "      <td>Women's NH Individual</td>\n",
       "      <td>beijing-2022</td>\n",
       "      <td>Athlete</td>\n",
       "      <td>GOLD</td>\n",
       "      <td>NaN</td>\n",
       "      <td>False</td>\n",
       "      <td>1</td>\n",
       "      <td>Slovenia</td>\n",
       "      <td>SI</td>\n",
       "      <td>SLO</td>\n",
       "      <td>https://olympics.com/en/athletes/ursa-bogataj</td>\n",
       "      <td>Ursa BOGATAJ</td>\n",
       "      <td>239.0</td>\n",
       "      <td>POINTS</td>\n",
       "    </tr>\n",
       "    <tr>\n",
       "      <th>994</th>\n",
       "      <td>Ski Jumping</td>\n",
       "      <td>Women's NH Individual</td>\n",
       "      <td>beijing-2022</td>\n",
       "      <td>Athlete</td>\n",
       "      <td>NaN</td>\n",
       "      <td>NaN</td>\n",
       "      <td>False</td>\n",
       "      <td>9</td>\n",
       "      <td>Slovenia</td>\n",
       "      <td>SI</td>\n",
       "      <td>SLO</td>\n",
       "      <td>https://olympics.com/en/athletes/spela-rogelj</td>\n",
       "      <td>Spela ROGELJ</td>\n",
       "      <td>184.2</td>\n",
       "      <td>POINTS</td>\n",
       "    </tr>\n",
       "    <tr>\n",
       "      <th>1012</th>\n",
       "      <td>Ski Jumping</td>\n",
       "      <td>Women's NH Individual</td>\n",
       "      <td>beijing-2022</td>\n",
       "      <td>Athlete</td>\n",
       "      <td>NaN</td>\n",
       "      <td>NaN</td>\n",
       "      <td>False</td>\n",
       "      <td>5</td>\n",
       "      <td>Slovenia</td>\n",
       "      <td>SI</td>\n",
       "      <td>SLO</td>\n",
       "      <td>https://olympics.com/en/athletes/ema-klinec</td>\n",
       "      <td>Ema KLINEC</td>\n",
       "      <td>215.4</td>\n",
       "      <td>POINTS</td>\n",
       "    </tr>\n",
       "    <tr>\n",
       "      <th>1018</th>\n",
       "      <td>Ski Jumping</td>\n",
       "      <td>Men's NH Individual</td>\n",
       "      <td>beijing-2022</td>\n",
       "      <td>Athlete</td>\n",
       "      <td>NaN</td>\n",
       "      <td>NaN</td>\n",
       "      <td>False</td>\n",
       "      <td>9</td>\n",
       "      <td>Slovenia</td>\n",
       "      <td>SI</td>\n",
       "      <td>SLO</td>\n",
       "      <td>https://olympics.com/en/athletes/zajc</td>\n",
       "      <td>Timi ZAJC</td>\n",
       "      <td>259.3</td>\n",
       "      <td>POINTS</td>\n",
       "    </tr>\n",
       "    <tr>\n",
       "      <th>1030</th>\n",
       "      <td>Ski Jumping</td>\n",
       "      <td>Men's NH Individual</td>\n",
       "      <td>beijing-2022</td>\n",
       "      <td>Athlete</td>\n",
       "      <td>NaN</td>\n",
       "      <td>NaN</td>\n",
       "      <td>True</td>\n",
       "      <td>13</td>\n",
       "      <td>Slovenia</td>\n",
       "      <td>SI</td>\n",
       "      <td>SLO</td>\n",
       "      <td>https://olympics.com/en/athletes/anze-lanisek</td>\n",
       "      <td>Anze LANISEK</td>\n",
       "      <td>253.6</td>\n",
       "      <td>POINTS</td>\n",
       "    </tr>\n",
       "    <tr>\n",
       "      <th>1033</th>\n",
       "      <td>Ski Jumping</td>\n",
       "      <td>Men's NH Individual</td>\n",
       "      <td>beijing-2022</td>\n",
       "      <td>Athlete</td>\n",
       "      <td>NaN</td>\n",
       "      <td>NaN</td>\n",
       "      <td>False</td>\n",
       "      <td>28</td>\n",
       "      <td>Slovenia</td>\n",
       "      <td>SI</td>\n",
       "      <td>SLO</td>\n",
       "      <td>https://olympics.com/en/athletes/lovro-kos</td>\n",
       "      <td>Lovro KOS</td>\n",
       "      <td>229.6</td>\n",
       "      <td>POINTS</td>\n",
       "    </tr>\n",
       "    <tr>\n",
       "      <th>1044</th>\n",
       "      <td>Ski Jumping</td>\n",
       "      <td>Men's NH Individual</td>\n",
       "      <td>beijing-2022</td>\n",
       "      <td>Athlete</td>\n",
       "      <td>NaN</td>\n",
       "      <td>NaN</td>\n",
       "      <td>False</td>\n",
       "      <td>4</td>\n",
       "      <td>Slovenia</td>\n",
       "      <td>SI</td>\n",
       "      <td>SLO</td>\n",
       "      <td>https://olympics.com/en/athletes/peter-prevc</td>\n",
       "      <td>Peter PREVC</td>\n",
       "      <td>265.4</td>\n",
       "      <td>POINTS</td>\n",
       "    </tr>\n",
       "    <tr>\n",
       "      <th>1332</th>\n",
       "      <td>Biathlon</td>\n",
       "      <td>Men's 12.5km Pursuit</td>\n",
       "      <td>beijing-2022</td>\n",
       "      <td>Athlete</td>\n",
       "      <td>NaN</td>\n",
       "      <td>NaN</td>\n",
       "      <td>False</td>\n",
       "      <td>29</td>\n",
       "      <td>Slovenia</td>\n",
       "      <td>SI</td>\n",
       "      <td>SLO</td>\n",
       "      <td>https://olympics.com/en/athletes/jakov-fak</td>\n",
       "      <td>Jakov FAK</td>\n",
       "      <td>43:58.9</td>\n",
       "      <td>TIME</td>\n",
       "    </tr>\n",
       "    <tr>\n",
       "      <th>1338</th>\n",
       "      <td>Biathlon</td>\n",
       "      <td>Men's 12.5km Pursuit</td>\n",
       "      <td>beijing-2022</td>\n",
       "      <td>Athlete</td>\n",
       "      <td>NaN</td>\n",
       "      <td>NaN</td>\n",
       "      <td>False</td>\n",
       "      <td>56</td>\n",
       "      <td>Slovenia</td>\n",
       "      <td>SI</td>\n",
       "      <td>SLO</td>\n",
       "      <td>https://olympics.com/en/athletes/lovro-planko</td>\n",
       "      <td>Lovro PLANKO</td>\n",
       "      <td>47:31.6</td>\n",
       "      <td>TIME</td>\n",
       "    </tr>\n",
       "    <tr>\n",
       "      <th>1381</th>\n",
       "      <td>Biathlon</td>\n",
       "      <td>Mixed Relay 4x6km (W+M)</td>\n",
       "      <td>beijing-2022</td>\n",
       "      <td>GameTeam</td>\n",
       "      <td>NaN</td>\n",
       "      <td>NaN</td>\n",
       "      <td>False</td>\n",
       "      <td>20</td>\n",
       "      <td>Slovenia</td>\n",
       "      <td>SI</td>\n",
       "      <td>SLO</td>\n",
       "      <td>NaN</td>\n",
       "      <td>NaN</td>\n",
       "      <td>LAP</td>\n",
       "      <td>TIME</td>\n",
       "    </tr>\n",
       "    <tr>\n",
       "      <th>1462</th>\n",
       "      <td>Biathlon</td>\n",
       "      <td>Women's 10km Pursuit</td>\n",
       "      <td>beijing-2022</td>\n",
       "      <td>Athlete</td>\n",
       "      <td>NaN</td>\n",
       "      <td>NaN</td>\n",
       "      <td>False</td>\n",
       "      <td>51</td>\n",
       "      <td>Slovenia</td>\n",
       "      <td>SI</td>\n",
       "      <td>SLO</td>\n",
       "      <td>https://olympics.com/en/athletes/polona-klemencic</td>\n",
       "      <td>Polona KLEMENCIC</td>\n",
       "      <td>41:31.5</td>\n",
       "      <td>TIME</td>\n",
       "    </tr>\n",
       "    <tr>\n",
       "      <th>1532</th>\n",
       "      <td>Biathlon</td>\n",
       "      <td>Men's 10km Sprint</td>\n",
       "      <td>beijing-2022</td>\n",
       "      <td>Athlete</td>\n",
       "      <td>NaN</td>\n",
       "      <td>NaN</td>\n",
       "      <td>False</td>\n",
       "      <td>86</td>\n",
       "      <td>Slovenia</td>\n",
       "      <td>SI</td>\n",
       "      <td>SLO</td>\n",
       "      <td>https://olympics.com/en/athletes/rok-trsan</td>\n",
       "      <td>Rok TRSAN</td>\n",
       "      <td>27:45.7</td>\n",
       "      <td>TIME</td>\n",
       "    </tr>\n",
       "    <tr>\n",
       "      <th>1538</th>\n",
       "      <td>Biathlon</td>\n",
       "      <td>Men's 10km Sprint</td>\n",
       "      <td>beijing-2022</td>\n",
       "      <td>Athlete</td>\n",
       "      <td>NaN</td>\n",
       "      <td>NaN</td>\n",
       "      <td>False</td>\n",
       "      <td>26</td>\n",
       "      <td>Slovenia</td>\n",
       "      <td>SI</td>\n",
       "      <td>SLO</td>\n",
       "      <td>https://olympics.com/en/athletes/jakov-fak</td>\n",
       "      <td>Jakov FAK</td>\n",
       "      <td>25:48.0</td>\n",
       "      <td>TIME</td>\n",
       "    </tr>\n",
       "    <tr>\n",
       "      <th>1544</th>\n",
       "      <td>Biathlon</td>\n",
       "      <td>Men's 10km Sprint</td>\n",
       "      <td>beijing-2022</td>\n",
       "      <td>Athlete</td>\n",
       "      <td>NaN</td>\n",
       "      <td>NaN</td>\n",
       "      <td>False</td>\n",
       "      <td>62</td>\n",
       "      <td>Slovenia</td>\n",
       "      <td>SI</td>\n",
       "      <td>SLO</td>\n",
       "      <td>https://olympics.com/en/athletes/miha-dovzan</td>\n",
       "      <td>Miha DOVZAN</td>\n",
       "      <td>26:53.1</td>\n",
       "      <td>TIME</td>\n",
       "    </tr>\n",
       "    <tr>\n",
       "      <th>1563</th>\n",
       "      <td>Biathlon</td>\n",
       "      <td>Men's 10km Sprint</td>\n",
       "      <td>beijing-2022</td>\n",
       "      <td>Athlete</td>\n",
       "      <td>NaN</td>\n",
       "      <td>NaN</td>\n",
       "      <td>False</td>\n",
       "      <td>42</td>\n",
       "      <td>Slovenia</td>\n",
       "      <td>SI</td>\n",
       "      <td>SLO</td>\n",
       "      <td>https://olympics.com/en/athletes/lovro-planko</td>\n",
       "      <td>Lovro PLANKO</td>\n",
       "      <td>26:22.3</td>\n",
       "      <td>TIME</td>\n",
       "    </tr>\n",
       "    <tr>\n",
       "      <th>1592</th>\n",
       "      <td>Biathlon</td>\n",
       "      <td>Women's 7.5km Sprint</td>\n",
       "      <td>beijing-2022</td>\n",
       "      <td>Athlete</td>\n",
       "      <td>NaN</td>\n",
       "      <td>NaN</td>\n",
       "      <td>False</td>\n",
       "      <td>79</td>\n",
       "      <td>Slovenia</td>\n",
       "      <td>SI</td>\n",
       "      <td>SLO</td>\n",
       "      <td>https://olympics.com/en/athletes/ziva-klemencic</td>\n",
       "      <td>Ziva KLEMENCIC</td>\n",
       "      <td>24:43.6</td>\n",
       "      <td>TIME</td>\n",
       "    </tr>\n",
       "    <tr>\n",
       "      <th>1623</th>\n",
       "      <td>Biathlon</td>\n",
       "      <td>Women's 7.5km Sprint</td>\n",
       "      <td>beijing-2022</td>\n",
       "      <td>Athlete</td>\n",
       "      <td>NaN</td>\n",
       "      <td>NaN</td>\n",
       "      <td>False</td>\n",
       "      <td>59</td>\n",
       "      <td>Slovenia</td>\n",
       "      <td>SI</td>\n",
       "      <td>SLO</td>\n",
       "      <td>https://olympics.com/en/athletes/polona-klemencic</td>\n",
       "      <td>Polona KLEMENCIC</td>\n",
       "      <td>23:31.2</td>\n",
       "      <td>TIME</td>\n",
       "    </tr>\n",
       "    <tr>\n",
       "      <th>1707</th>\n",
       "      <td>Biathlon</td>\n",
       "      <td>Men's 20km Individual</td>\n",
       "      <td>beijing-2022</td>\n",
       "      <td>Athlete</td>\n",
       "      <td>NaN</td>\n",
       "      <td>NaN</td>\n",
       "      <td>False</td>\n",
       "      <td>46</td>\n",
       "      <td>Slovenia</td>\n",
       "      <td>SI</td>\n",
       "      <td>SLO</td>\n",
       "      <td>https://olympics.com/en/athletes/lovro-planko</td>\n",
       "      <td>Lovro PLANKO</td>\n",
       "      <td>54:27.9</td>\n",
       "      <td>TIME</td>\n",
       "    </tr>\n",
       "    <tr>\n",
       "      <th>1715</th>\n",
       "      <td>Biathlon</td>\n",
       "      <td>Men's 20km Individual</td>\n",
       "      <td>beijing-2022</td>\n",
       "      <td>Athlete</td>\n",
       "      <td>NaN</td>\n",
       "      <td>NaN</td>\n",
       "      <td>False</td>\n",
       "      <td>54</td>\n",
       "      <td>Slovenia</td>\n",
       "      <td>SI</td>\n",
       "      <td>SLO</td>\n",
       "      <td>https://olympics.com/en/athletes/rok-trsan</td>\n",
       "      <td>Rok TRSAN</td>\n",
       "      <td>55:14.7</td>\n",
       "      <td>TIME</td>\n",
       "    </tr>\n",
       "    <tr>\n",
       "      <th>1722</th>\n",
       "      <td>Biathlon</td>\n",
       "      <td>Men's 20km Individual</td>\n",
       "      <td>beijing-2022</td>\n",
       "      <td>Athlete</td>\n",
       "      <td>NaN</td>\n",
       "      <td>NaN</td>\n",
       "      <td>False</td>\n",
       "      <td>38</td>\n",
       "      <td>Slovenia</td>\n",
       "      <td>SI</td>\n",
       "      <td>SLO</td>\n",
       "      <td>https://olympics.com/en/athletes/miha-dovzan</td>\n",
       "      <td>Miha DOVZAN</td>\n",
       "      <td>53:39.4</td>\n",
       "      <td>TIME</td>\n",
       "    </tr>\n",
       "    <tr>\n",
       "      <th>1785</th>\n",
       "      <td>Biathlon</td>\n",
       "      <td>Men's 20km Individual</td>\n",
       "      <td>beijing-2022</td>\n",
       "      <td>Athlete</td>\n",
       "      <td>NaN</td>\n",
       "      <td>NaN</td>\n",
       "      <td>False</td>\n",
       "      <td>29</td>\n",
       "      <td>Slovenia</td>\n",
       "      <td>SI</td>\n",
       "      <td>SLO</td>\n",
       "      <td>https://olympics.com/en/athletes/jakov-fak</td>\n",
       "      <td>Jakov FAK</td>\n",
       "      <td>52:48.0</td>\n",
       "      <td>TIME</td>\n",
       "    </tr>\n",
       "  </tbody>\n",
       "</table>\n",
       "</div>"
      ],
      "text/plain": [
       "     discipline_title                    event_title     slug_game  \\\n",
       "665         Snowboard    Men's Parallel Giant Slalom  beijing-2022   \n",
       "676         Snowboard    Men's Parallel Giant Slalom  beijing-2022   \n",
       "677         Snowboard    Men's Parallel Giant Slalom  beijing-2022   \n",
       "697         Snowboard      Women's Snowboard Big Air  beijing-2022   \n",
       "788         Snowboard       Men's Snowboard Halfpipe  beijing-2022   \n",
       "827         Snowboard   Women's Snowboard Slopestyle  beijing-2022   \n",
       "845         Snowboard  Women's Parallel Giant Slalom  beijing-2022   \n",
       "898       Ski Jumping                     Men's Team  beijing-2022   \n",
       "914       Ski Jumping            Men's LH Individual  beijing-2022   \n",
       "920       Ski Jumping            Men's LH Individual  beijing-2022   \n",
       "952       Ski Jumping            Men's LH Individual  beijing-2022   \n",
       "959       Ski Jumping            Men's LH Individual  beijing-2022   \n",
       "964       Ski Jumping                     Mixed Team  beijing-2022   \n",
       "983       Ski Jumping          Women's NH Individual  beijing-2022   \n",
       "993       Ski Jumping          Women's NH Individual  beijing-2022   \n",
       "994       Ski Jumping          Women's NH Individual  beijing-2022   \n",
       "1012      Ski Jumping          Women's NH Individual  beijing-2022   \n",
       "1018      Ski Jumping            Men's NH Individual  beijing-2022   \n",
       "1030      Ski Jumping            Men's NH Individual  beijing-2022   \n",
       "1033      Ski Jumping            Men's NH Individual  beijing-2022   \n",
       "1044      Ski Jumping            Men's NH Individual  beijing-2022   \n",
       "1332         Biathlon           Men's 12.5km Pursuit  beijing-2022   \n",
       "1338         Biathlon           Men's 12.5km Pursuit  beijing-2022   \n",
       "1381         Biathlon        Mixed Relay 4x6km (W+M)  beijing-2022   \n",
       "1462         Biathlon           Women's 10km Pursuit  beijing-2022   \n",
       "1532         Biathlon              Men's 10km Sprint  beijing-2022   \n",
       "1538         Biathlon              Men's 10km Sprint  beijing-2022   \n",
       "1544         Biathlon              Men's 10km Sprint  beijing-2022   \n",
       "1563         Biathlon              Men's 10km Sprint  beijing-2022   \n",
       "1592         Biathlon           Women's 7.5km Sprint  beijing-2022   \n",
       "1623         Biathlon           Women's 7.5km Sprint  beijing-2022   \n",
       "1707         Biathlon          Men's 20km Individual  beijing-2022   \n",
       "1715         Biathlon          Men's 20km Individual  beijing-2022   \n",
       "1722         Biathlon          Men's 20km Individual  beijing-2022   \n",
       "1785         Biathlon          Men's 20km Individual  beijing-2022   \n",
       "\n",
       "     participant_type medal_type athletes rank_equal rank_position  \\\n",
       "665           Athlete        NaN      NaN      False            11   \n",
       "676           Athlete     SILVER      NaN      False             2   \n",
       "677           Athlete        NaN      NaN      False            25   \n",
       "697           Athlete        NaN      NaN      False            18   \n",
       "788           Athlete        NaN      NaN      False            22   \n",
       "827           Athlete        NaN      NaN      False            24   \n",
       "845           Athlete     BRONZE      NaN      False             3   \n",
       "898          GameTeam     SILVER      NaN      False             2   \n",
       "914           Athlete        NaN      NaN      False             6   \n",
       "920           Athlete        NaN      NaN      False            10   \n",
       "952           Athlete        NaN      NaN      False            12   \n",
       "959           Athlete        NaN      NaN      False            11   \n",
       "964          GameTeam       GOLD      NaN      False             1   \n",
       "983           Athlete     BRONZE      NaN      False             3   \n",
       "993           Athlete       GOLD      NaN      False             1   \n",
       "994           Athlete        NaN      NaN      False             9   \n",
       "1012          Athlete        NaN      NaN      False             5   \n",
       "1018          Athlete        NaN      NaN      False             9   \n",
       "1030          Athlete        NaN      NaN       True            13   \n",
       "1033          Athlete        NaN      NaN      False            28   \n",
       "1044          Athlete        NaN      NaN      False             4   \n",
       "1332          Athlete        NaN      NaN      False            29   \n",
       "1338          Athlete        NaN      NaN      False            56   \n",
       "1381         GameTeam        NaN      NaN      False            20   \n",
       "1462          Athlete        NaN      NaN      False            51   \n",
       "1532          Athlete        NaN      NaN      False            86   \n",
       "1538          Athlete        NaN      NaN      False            26   \n",
       "1544          Athlete        NaN      NaN      False            62   \n",
       "1563          Athlete        NaN      NaN      False            42   \n",
       "1592          Athlete        NaN      NaN      False            79   \n",
       "1623          Athlete        NaN      NaN      False            59   \n",
       "1707          Athlete        NaN      NaN      False            46   \n",
       "1715          Athlete        NaN      NaN      False            54   \n",
       "1722          Athlete        NaN      NaN      False            38   \n",
       "1785          Athlete        NaN      NaN      False            29   \n",
       "\n",
       "     country_name country_code country_3_letter_code  \\\n",
       "665      Slovenia           SI                   SLO   \n",
       "676      Slovenia           SI                   SLO   \n",
       "677      Slovenia           SI                   SLO   \n",
       "697      Slovenia           SI                   SLO   \n",
       "788      Slovenia           SI                   SLO   \n",
       "827      Slovenia           SI                   SLO   \n",
       "845      Slovenia           SI                   SLO   \n",
       "898      Slovenia           SI                   SLO   \n",
       "914      Slovenia           SI                   SLO   \n",
       "920      Slovenia           SI                   SLO   \n",
       "952      Slovenia           SI                   SLO   \n",
       "959      Slovenia           SI                   SLO   \n",
       "964      Slovenia           SI                   SLO   \n",
       "983      Slovenia           SI                   SLO   \n",
       "993      Slovenia           SI                   SLO   \n",
       "994      Slovenia           SI                   SLO   \n",
       "1012     Slovenia           SI                   SLO   \n",
       "1018     Slovenia           SI                   SLO   \n",
       "1030     Slovenia           SI                   SLO   \n",
       "1033     Slovenia           SI                   SLO   \n",
       "1044     Slovenia           SI                   SLO   \n",
       "1332     Slovenia           SI                   SLO   \n",
       "1338     Slovenia           SI                   SLO   \n",
       "1381     Slovenia           SI                   SLO   \n",
       "1462     Slovenia           SI                   SLO   \n",
       "1532     Slovenia           SI                   SLO   \n",
       "1538     Slovenia           SI                   SLO   \n",
       "1544     Slovenia           SI                   SLO   \n",
       "1563     Slovenia           SI                   SLO   \n",
       "1592     Slovenia           SI                   SLO   \n",
       "1623     Slovenia           SI                   SLO   \n",
       "1707     Slovenia           SI                   SLO   \n",
       "1715     Slovenia           SI                   SLO   \n",
       "1722     Slovenia           SI                   SLO   \n",
       "1785     Slovenia           SI                   SLO   \n",
       "\n",
       "                                            athlete_url athlete_full_name  \\\n",
       "665          https://olympics.com/en/athletes/zan-kosir         Zan KOSIR   \n",
       "676        https://olympics.com/en/athletes/tim-mastnak       Tim MASTNAK   \n",
       "677         https://olympics.com/en/athletes/rok-marguc        Rok MARGUC   \n",
       "697     https://olympics.com/en/athletes/urska-pribosic    Urska PRIBOSIC   \n",
       "788         https://olympics.com/en/athletes/tit-stante        Tit STANTE   \n",
       "827     https://olympics.com/en/athletes/urska-pribosic    Urska PRIBOSIC   \n",
       "845      https://olympics.com/en/athletes/gloria-kotnik     Gloria KOTNIK   \n",
       "898                                                 NaN               NaN   \n",
       "914               https://olympics.com/en/athletes/zajc         Timi ZAJC   \n",
       "920        https://olympics.com/en/athletes/peter-prevc       Peter PREVC   \n",
       "952              https://olympics.com/en/athletes/prevc        Cene PREVC   \n",
       "959          https://olympics.com/en/athletes/lovro-kos         Lovro KOS   \n",
       "964                                                 NaN               NaN   \n",
       "983            https://olympics.com/en/athletes/kriznar      Nika KRIZNAR   \n",
       "993       https://olympics.com/en/athletes/ursa-bogataj      Ursa BOGATAJ   \n",
       "994       https://olympics.com/en/athletes/spela-rogelj      Spela ROGELJ   \n",
       "1012        https://olympics.com/en/athletes/ema-klinec        Ema KLINEC   \n",
       "1018              https://olympics.com/en/athletes/zajc         Timi ZAJC   \n",
       "1030      https://olympics.com/en/athletes/anze-lanisek      Anze LANISEK   \n",
       "1033         https://olympics.com/en/athletes/lovro-kos         Lovro KOS   \n",
       "1044       https://olympics.com/en/athletes/peter-prevc       Peter PREVC   \n",
       "1332         https://olympics.com/en/athletes/jakov-fak         Jakov FAK   \n",
       "1338      https://olympics.com/en/athletes/lovro-planko      Lovro PLANKO   \n",
       "1381                                                NaN               NaN   \n",
       "1462  https://olympics.com/en/athletes/polona-klemencic  Polona KLEMENCIC   \n",
       "1532         https://olympics.com/en/athletes/rok-trsan         Rok TRSAN   \n",
       "1538         https://olympics.com/en/athletes/jakov-fak         Jakov FAK   \n",
       "1544       https://olympics.com/en/athletes/miha-dovzan       Miha DOVZAN   \n",
       "1563      https://olympics.com/en/athletes/lovro-planko      Lovro PLANKO   \n",
       "1592    https://olympics.com/en/athletes/ziva-klemencic    Ziva KLEMENCIC   \n",
       "1623  https://olympics.com/en/athletes/polona-klemencic  Polona KLEMENCIC   \n",
       "1707      https://olympics.com/en/athletes/lovro-planko      Lovro PLANKO   \n",
       "1715         https://olympics.com/en/athletes/rok-trsan         Rok TRSAN   \n",
       "1722       https://olympics.com/en/athletes/miha-dovzan       Miha DOVZAN   \n",
       "1785         https://olympics.com/en/athletes/jakov-fak         Jakov FAK   \n",
       "\n",
       "     value_unit value_type  \n",
       "665         NaN        NaN  \n",
       "676         NaN        NaN  \n",
       "677         NaN        NaN  \n",
       "697       43.00     POINTS  \n",
       "788       18.25     POINTS  \n",
       "827       32.00     POINTS  \n",
       "845         NaN        NaN  \n",
       "898         NaN        NaN  \n",
       "914       273.2     POINTS  \n",
       "920       268.7     POINTS  \n",
       "952       268.1     POINTS  \n",
       "959       268.4     POINTS  \n",
       "964      1001.5     POINTS  \n",
       "983       232.0     POINTS  \n",
       "993       239.0     POINTS  \n",
       "994       184.2     POINTS  \n",
       "1012      215.4     POINTS  \n",
       "1018      259.3     POINTS  \n",
       "1030      253.6     POINTS  \n",
       "1033      229.6     POINTS  \n",
       "1044      265.4     POINTS  \n",
       "1332    43:58.9       TIME  \n",
       "1338    47:31.6       TIME  \n",
       "1381        LAP       TIME  \n",
       "1462    41:31.5       TIME  \n",
       "1532    27:45.7       TIME  \n",
       "1538    25:48.0       TIME  \n",
       "1544    26:53.1       TIME  \n",
       "1563    26:22.3       TIME  \n",
       "1592    24:43.6       TIME  \n",
       "1623    23:31.2       TIME  \n",
       "1707    54:27.9       TIME  \n",
       "1715    55:14.7       TIME  \n",
       "1722    53:39.4       TIME  \n",
       "1785    52:48.0       TIME  "
      ]
     },
     "execution_count": 5,
     "metadata": {},
     "output_type": "execute_result"
    }
   ],
   "source": [
    "df[df['country_name'] == 'Slovenia'].head(35)"
   ]
  },
  {
   "cell_type": "markdown",
   "id": "013fa7cc-4166-42e8-a599-cbc8b8c0b66a",
   "metadata": {},
   "source": [
    "# Preprocessing"
   ]
  },
  {
   "cell_type": "code",
   "execution_count": 6,
   "id": "53998620-9835-416c-ab87-18b206df0ae8",
   "metadata": {},
   "outputs": [],
   "source": [
    "df = df.fillna(0)"
   ]
  },
  {
   "cell_type": "code",
   "execution_count": 172,
   "id": "a658781d-585a-4d18-999b-7a78e0bf5346",
   "metadata": {},
   "outputs": [],
   "source": [
    "idf = df.interactive()"
   ]
  },
  {
   "cell_type": "code",
   "execution_count": 8,
   "id": "7f2015cd-aa28-4c86-8c54-0207acaf54e5",
   "metadata": {},
   "outputs": [],
   "source": [
    "#getting a date from slug_game\n",
    "df['date'] = df['slug_game'].str.split('-').str[-1]\n",
    "df['date'] = df['date'].str.strip()\n",
    "#df\n",
    "\n"
   ]
  },
  {
   "cell_type": "code",
   "execution_count": 9,
   "id": "81b5c1fd-f071-4559-bcb6-40ba5c8ea7ea",
   "metadata": {},
   "outputs": [],
   "source": [
    "#making 3 new columns\n"
   ]
  },
  {
   "cell_type": "code",
   "execution_count": 293,
   "id": "152ad9ba-5ef3-49d2-8576-e116c6d4c88b",
   "metadata": {},
   "outputs": [
    {
     "name": "stderr",
     "output_type": "stream",
     "text": [
      "C:\\Users\\Kaja\\AppData\\Local\\Temp\\ipykernel_15460\\1940527871.py:21: SettingWithCopyWarning:\n",
      "\n",
      "\n",
      "A value is trying to be set on a copy of a slice from a DataFrame.\n",
      "Try using .loc[row_indexer,col_indexer] = value instead\n",
      "\n",
      "See the caveats in the documentation: https://pandas.pydata.org/pandas-docs/stable/user_guide/indexing.html#returning-a-view-versus-a-copy\n",
      "\n",
      "C:\\Users\\Kaja\\AppData\\Local\\Temp\\ipykernel_15460\\1940527871.py:22: SettingWithCopyWarning:\n",
      "\n",
      "\n",
      "A value is trying to be set on a copy of a slice from a DataFrame\n",
      "\n",
      "See the caveats in the documentation: https://pandas.pydata.org/pandas-docs/stable/user_guide/indexing.html#returning-a-view-versus-a-copy\n",
      "\n",
      "C:\\Users\\Kaja\\AppData\\Local\\Temp\\ipykernel_15460\\1940527871.py:23: SettingWithCopyWarning:\n",
      "\n",
      "\n",
      "A value is trying to be set on a copy of a slice from a DataFrame.\n",
      "Try using .loc[row_indexer,col_indexer] = value instead\n",
      "\n",
      "See the caveats in the documentation: https://pandas.pydata.org/pandas-docs/stable/user_guide/indexing.html#returning-a-view-versus-a-copy\n",
      "\n",
      "C:\\Users\\Kaja\\AppData\\Local\\Temp\\ipykernel_15460\\1940527871.py:24: SettingWithCopyWarning:\n",
      "\n",
      "\n",
      "A value is trying to be set on a copy of a slice from a DataFrame\n",
      "\n",
      "See the caveats in the documentation: https://pandas.pydata.org/pandas-docs/stable/user_guide/indexing.html#returning-a-view-versus-a-copy\n",
      "\n",
      "C:\\Users\\Kaja\\AppData\\Local\\Temp\\ipykernel_15460\\1940527871.py:25: SettingWithCopyWarning:\n",
      "\n",
      "\n",
      "A value is trying to be set on a copy of a slice from a DataFrame.\n",
      "Try using .loc[row_indexer,col_indexer] = value instead\n",
      "\n",
      "See the caveats in the documentation: https://pandas.pydata.org/pandas-docs/stable/user_guide/indexing.html#returning-a-view-versus-a-copy\n",
      "\n",
      "C:\\Users\\Kaja\\AppData\\Local\\Temp\\ipykernel_15460\\1940527871.py:26: SettingWithCopyWarning:\n",
      "\n",
      "\n",
      "A value is trying to be set on a copy of a slice from a DataFrame\n",
      "\n",
      "See the caveats in the documentation: https://pandas.pydata.org/pandas-docs/stable/user_guide/indexing.html#returning-a-view-versus-a-copy\n",
      "\n"
     ]
    },
    {
     "data": {
      "text/html": [
       "<div>\n",
       "<style scoped>\n",
       "    .dataframe tbody tr th:only-of-type {\n",
       "        vertical-align: middle;\n",
       "    }\n",
       "\n",
       "    .dataframe tbody tr th {\n",
       "        vertical-align: top;\n",
       "    }\n",
       "\n",
       "    .dataframe thead th {\n",
       "        text-align: right;\n",
       "    }\n",
       "</style>\n",
       "<table border=\"1\" class=\"dataframe\">\n",
       "  <thead>\n",
       "    <tr style=\"text-align: right;\">\n",
       "      <th></th>\n",
       "      <th>date</th>\n",
       "      <th>discipline_title</th>\n",
       "      <th>country_name</th>\n",
       "      <th>medal_type</th>\n",
       "      <th>counts</th>\n",
       "      <th>gold_medal</th>\n",
       "      <th>silver_medal</th>\n",
       "      <th>bronze_medal</th>\n",
       "    </tr>\n",
       "  </thead>\n",
       "  <tbody>\n",
       "    <tr>\n",
       "      <th>19011</th>\n",
       "      <td>1992</td>\n",
       "      <td>Rowing</td>\n",
       "      <td>Slovenia</td>\n",
       "      <td>BRONZE</td>\n",
       "      <td>2</td>\n",
       "      <td>0.0</td>\n",
       "      <td>0.0</td>\n",
       "      <td>2.0</td>\n",
       "    </tr>\n",
       "    <tr>\n",
       "      <th>19831</th>\n",
       "      <td>1994</td>\n",
       "      <td>Alpine Skiing</td>\n",
       "      <td>Slovenia</td>\n",
       "      <td>BRONZE</td>\n",
       "      <td>3</td>\n",
       "      <td>0.0</td>\n",
       "      <td>0.0</td>\n",
       "      <td>3.0</td>\n",
       "    </tr>\n",
       "    <tr>\n",
       "      <th>20407</th>\n",
       "      <td>1996</td>\n",
       "      <td>Athletics</td>\n",
       "      <td>Slovenia</td>\n",
       "      <td>SILVER</td>\n",
       "      <td>1</td>\n",
       "      <td>0.0</td>\n",
       "      <td>1.0</td>\n",
       "      <td>0.0</td>\n",
       "    </tr>\n",
       "    <tr>\n",
       "      <th>20707</th>\n",
       "      <td>1996</td>\n",
       "      <td>Canoe Slalom</td>\n",
       "      <td>Slovenia</td>\n",
       "      <td>SILVER</td>\n",
       "      <td>1</td>\n",
       "      <td>0.0</td>\n",
       "      <td>1.0</td>\n",
       "      <td>0.0</td>\n",
       "    </tr>\n",
       "    <tr>\n",
       "      <th>23875</th>\n",
       "      <td>2000</td>\n",
       "      <td>Rowing</td>\n",
       "      <td>Slovenia</td>\n",
       "      <td>GOLD</td>\n",
       "      <td>1</td>\n",
       "      <td>1.0</td>\n",
       "      <td>0.0</td>\n",
       "      <td>0.0</td>\n",
       "    </tr>\n",
       "    <tr>\n",
       "      <th>24094</th>\n",
       "      <td>2000</td>\n",
       "      <td>Shooting</td>\n",
       "      <td>Slovenia</td>\n",
       "      <td>GOLD</td>\n",
       "      <td>1</td>\n",
       "      <td>1.0</td>\n",
       "      <td>0.0</td>\n",
       "      <td>0.0</td>\n",
       "    </tr>\n",
       "    <tr>\n",
       "      <th>25268</th>\n",
       "      <td>2002</td>\n",
       "      <td>Ski Jumping</td>\n",
       "      <td>Slovenia</td>\n",
       "      <td>BRONZE</td>\n",
       "      <td>1</td>\n",
       "      <td>0.0</td>\n",
       "      <td>0.0</td>\n",
       "      <td>1.0</td>\n",
       "    </tr>\n",
       "    <tr>\n",
       "      <th>25534</th>\n",
       "      <td>2004</td>\n",
       "      <td>Athletics</td>\n",
       "      <td>Slovenia</td>\n",
       "      <td>BRONZE</td>\n",
       "      <td>1</td>\n",
       "      <td>0.0</td>\n",
       "      <td>0.0</td>\n",
       "      <td>1.0</td>\n",
       "    </tr>\n",
       "    <tr>\n",
       "      <th>26377</th>\n",
       "      <td>2004</td>\n",
       "      <td>Judo</td>\n",
       "      <td>Slovenia</td>\n",
       "      <td>BRONZE</td>\n",
       "      <td>1</td>\n",
       "      <td>0.0</td>\n",
       "      <td>0.0</td>\n",
       "      <td>1.0</td>\n",
       "    </tr>\n",
       "    <tr>\n",
       "      <th>26487</th>\n",
       "      <td>2004</td>\n",
       "      <td>Rowing</td>\n",
       "      <td>Slovenia</td>\n",
       "      <td>SILVER</td>\n",
       "      <td>1</td>\n",
       "      <td>0.0</td>\n",
       "      <td>1.0</td>\n",
       "      <td>0.0</td>\n",
       "    </tr>\n",
       "    <tr>\n",
       "      <th>26571</th>\n",
       "      <td>2004</td>\n",
       "      <td>Sailing</td>\n",
       "      <td>Slovenia</td>\n",
       "      <td>BRONZE</td>\n",
       "      <td>1</td>\n",
       "      <td>0.0</td>\n",
       "      <td>0.0</td>\n",
       "      <td>1.0</td>\n",
       "    </tr>\n",
       "    <tr>\n",
       "      <th>28207</th>\n",
       "      <td>2008</td>\n",
       "      <td>Athletics</td>\n",
       "      <td>Slovenia</td>\n",
       "      <td>GOLD</td>\n",
       "      <td>1</td>\n",
       "      <td>1.0</td>\n",
       "      <td>0.0</td>\n",
       "      <td>0.0</td>\n",
       "    </tr>\n",
       "    <tr>\n",
       "      <th>29152</th>\n",
       "      <td>2008</td>\n",
       "      <td>Judo</td>\n",
       "      <td>Slovenia</td>\n",
       "      <td>BRONZE</td>\n",
       "      <td>1</td>\n",
       "      <td>0.0</td>\n",
       "      <td>0.0</td>\n",
       "      <td>1.0</td>\n",
       "    </tr>\n",
       "    <tr>\n",
       "      <th>29399</th>\n",
       "      <td>2008</td>\n",
       "      <td>Sailing</td>\n",
       "      <td>Slovenia</td>\n",
       "      <td>SILVER</td>\n",
       "      <td>1</td>\n",
       "      <td>0.0</td>\n",
       "      <td>1.0</td>\n",
       "      <td>0.0</td>\n",
       "    </tr>\n",
       "    <tr>\n",
       "      <th>29524</th>\n",
       "      <td>2008</td>\n",
       "      <td>Shooting</td>\n",
       "      <td>Slovenia</td>\n",
       "      <td>BRONZE</td>\n",
       "      <td>1</td>\n",
       "      <td>0.0</td>\n",
       "      <td>0.0</td>\n",
       "      <td>1.0</td>\n",
       "    </tr>\n",
       "    <tr>\n",
       "      <th>29723</th>\n",
       "      <td>2008</td>\n",
       "      <td>Swimming</td>\n",
       "      <td>Slovenia</td>\n",
       "      <td>SILVER</td>\n",
       "      <td>1</td>\n",
       "      <td>0.0</td>\n",
       "      <td>1.0</td>\n",
       "      <td>0.0</td>\n",
       "    </tr>\n",
       "    <tr>\n",
       "      <th>30371</th>\n",
       "      <td>2010</td>\n",
       "      <td>Alpine Skiing</td>\n",
       "      <td>Slovenia</td>\n",
       "      <td>SILVER</td>\n",
       "      <td>2</td>\n",
       "      <td>0.0</td>\n",
       "      <td>2.0</td>\n",
       "      <td>0.0</td>\n",
       "    </tr>\n",
       "    <tr>\n",
       "      <th>30538</th>\n",
       "      <td>2010</td>\n",
       "      <td>Cross Country Skiing</td>\n",
       "      <td>Slovenia</td>\n",
       "      <td>BRONZE</td>\n",
       "      <td>1</td>\n",
       "      <td>0.0</td>\n",
       "      <td>0.0</td>\n",
       "      <td>1.0</td>\n",
       "    </tr>\n",
       "    <tr>\n",
       "      <th>31114</th>\n",
       "      <td>2012</td>\n",
       "      <td>Athletics</td>\n",
       "      <td>Slovenia</td>\n",
       "      <td>SILVER</td>\n",
       "      <td>1</td>\n",
       "      <td>0.0</td>\n",
       "      <td>1.0</td>\n",
       "      <td>0.0</td>\n",
       "    </tr>\n",
       "    <tr>\n",
       "      <th>32175</th>\n",
       "      <td>2012</td>\n",
       "      <td>Judo</td>\n",
       "      <td>Slovenia</td>\n",
       "      <td>GOLD</td>\n",
       "      <td>1</td>\n",
       "      <td>1.0</td>\n",
       "      <td>0.0</td>\n",
       "      <td>0.0</td>\n",
       "    </tr>\n",
       "    <tr>\n",
       "      <th>32338</th>\n",
       "      <td>2012</td>\n",
       "      <td>Rowing</td>\n",
       "      <td>Slovenia</td>\n",
       "      <td>BRONZE</td>\n",
       "      <td>1</td>\n",
       "      <td>0.0</td>\n",
       "      <td>0.0</td>\n",
       "      <td>1.0</td>\n",
       "    </tr>\n",
       "    <tr>\n",
       "      <th>32555</th>\n",
       "      <td>2012</td>\n",
       "      <td>Shooting</td>\n",
       "      <td>Slovenia</td>\n",
       "      <td>BRONZE</td>\n",
       "      <td>1</td>\n",
       "      <td>0.0</td>\n",
       "      <td>0.0</td>\n",
       "      <td>1.0</td>\n",
       "    </tr>\n",
       "    <tr>\n",
       "      <th>33408</th>\n",
       "      <td>2014</td>\n",
       "      <td>Alpine Skiing</td>\n",
       "      <td>Slovenia</td>\n",
       "      <td>GOLD</td>\n",
       "      <td>2</td>\n",
       "      <td>2.0</td>\n",
       "      <td>0.0</td>\n",
       "      <td>0.0</td>\n",
       "    </tr>\n",
       "    <tr>\n",
       "      <th>33475</th>\n",
       "      <td>2014</td>\n",
       "      <td>Biathlon</td>\n",
       "      <td>Slovenia</td>\n",
       "      <td>BRONZE</td>\n",
       "      <td>1</td>\n",
       "      <td>0.0</td>\n",
       "      <td>0.0</td>\n",
       "      <td>1.0</td>\n",
       "    </tr>\n",
       "    <tr>\n",
       "      <th>33571</th>\n",
       "      <td>2014</td>\n",
       "      <td>Cross Country Skiing</td>\n",
       "      <td>Slovenia</td>\n",
       "      <td>BRONZE</td>\n",
       "      <td>1</td>\n",
       "      <td>0.0</td>\n",
       "      <td>0.0</td>\n",
       "      <td>1.0</td>\n",
       "    </tr>\n",
       "    <tr>\n",
       "      <th>33844</th>\n",
       "      <td>2014</td>\n",
       "      <td>Ski Jumping</td>\n",
       "      <td>Slovenia</td>\n",
       "      <td>BRONZE</td>\n",
       "      <td>1</td>\n",
       "      <td>0.0</td>\n",
       "      <td>0.0</td>\n",
       "      <td>1.0</td>\n",
       "    </tr>\n",
       "    <tr>\n",
       "      <th>33845</th>\n",
       "      <td>2014</td>\n",
       "      <td>Ski Jumping</td>\n",
       "      <td>Slovenia</td>\n",
       "      <td>SILVER</td>\n",
       "      <td>1</td>\n",
       "      <td>0.0</td>\n",
       "      <td>1.0</td>\n",
       "      <td>0.0</td>\n",
       "    </tr>\n",
       "    <tr>\n",
       "      <th>33892</th>\n",
       "      <td>2014</td>\n",
       "      <td>Snowboard</td>\n",
       "      <td>Slovenia</td>\n",
       "      <td>BRONZE</td>\n",
       "      <td>1</td>\n",
       "      <td>0.0</td>\n",
       "      <td>0.0</td>\n",
       "      <td>1.0</td>\n",
       "    </tr>\n",
       "    <tr>\n",
       "      <th>33893</th>\n",
       "      <td>2014</td>\n",
       "      <td>Snowboard</td>\n",
       "      <td>Slovenia</td>\n",
       "      <td>SILVER</td>\n",
       "      <td>1</td>\n",
       "      <td>0.0</td>\n",
       "      <td>1.0</td>\n",
       "      <td>0.0</td>\n",
       "    </tr>\n",
       "    <tr>\n",
       "      <th>34446</th>\n",
       "      <td>2016</td>\n",
       "      <td>Canoe Slalom</td>\n",
       "      <td>Slovenia</td>\n",
       "      <td>SILVER</td>\n",
       "      <td>1</td>\n",
       "      <td>0.0</td>\n",
       "      <td>1.0</td>\n",
       "      <td>0.0</td>\n",
       "    </tr>\n",
       "    <tr>\n",
       "      <th>35272</th>\n",
       "      <td>2016</td>\n",
       "      <td>Judo</td>\n",
       "      <td>Slovenia</td>\n",
       "      <td>BRONZE</td>\n",
       "      <td>1</td>\n",
       "      <td>0.0</td>\n",
       "      <td>0.0</td>\n",
       "      <td>1.0</td>\n",
       "    </tr>\n",
       "    <tr>\n",
       "      <th>35273</th>\n",
       "      <td>2016</td>\n",
       "      <td>Judo</td>\n",
       "      <td>Slovenia</td>\n",
       "      <td>GOLD</td>\n",
       "      <td>1</td>\n",
       "      <td>1.0</td>\n",
       "      <td>0.0</td>\n",
       "      <td>0.0</td>\n",
       "    </tr>\n",
       "    <tr>\n",
       "      <th>35563</th>\n",
       "      <td>2016</td>\n",
       "      <td>Sailing</td>\n",
       "      <td>Slovenia</td>\n",
       "      <td>SILVER</td>\n",
       "      <td>1</td>\n",
       "      <td>0.0</td>\n",
       "      <td>1.0</td>\n",
       "      <td>0.0</td>\n",
       "    </tr>\n",
       "    <tr>\n",
       "      <th>36618</th>\n",
       "      <td>2018</td>\n",
       "      <td>Biathlon</td>\n",
       "      <td>Slovenia</td>\n",
       "      <td>SILVER</td>\n",
       "      <td>1</td>\n",
       "      <td>0.0</td>\n",
       "      <td>1.0</td>\n",
       "      <td>0.0</td>\n",
       "    </tr>\n",
       "    <tr>\n",
       "      <th>37056</th>\n",
       "      <td>2018</td>\n",
       "      <td>Snowboard</td>\n",
       "      <td>Slovenia</td>\n",
       "      <td>BRONZE</td>\n",
       "      <td>1</td>\n",
       "      <td>0.0</td>\n",
       "      <td>0.0</td>\n",
       "      <td>1.0</td>\n",
       "    </tr>\n",
       "    <tr>\n",
       "      <th>37706</th>\n",
       "      <td>2020</td>\n",
       "      <td>Canoe Slalom</td>\n",
       "      <td>Slovenia</td>\n",
       "      <td>GOLD</td>\n",
       "      <td>1</td>\n",
       "      <td>1.0</td>\n",
       "      <td>0.0</td>\n",
       "      <td>0.0</td>\n",
       "    </tr>\n",
       "    <tr>\n",
       "      <th>37936</th>\n",
       "      <td>2020</td>\n",
       "      <td>Cycling Road</td>\n",
       "      <td>Slovenia</td>\n",
       "      <td>BRONZE</td>\n",
       "      <td>1</td>\n",
       "      <td>0.0</td>\n",
       "      <td>0.0</td>\n",
       "      <td>1.0</td>\n",
       "    </tr>\n",
       "    <tr>\n",
       "      <th>37937</th>\n",
       "      <td>2020</td>\n",
       "      <td>Cycling Road</td>\n",
       "      <td>Slovenia</td>\n",
       "      <td>GOLD</td>\n",
       "      <td>1</td>\n",
       "      <td>1.0</td>\n",
       "      <td>0.0</td>\n",
       "      <td>0.0</td>\n",
       "    </tr>\n",
       "    <tr>\n",
       "      <th>38427</th>\n",
       "      <td>2020</td>\n",
       "      <td>Judo</td>\n",
       "      <td>Slovenia</td>\n",
       "      <td>SILVER</td>\n",
       "      <td>1</td>\n",
       "      <td>0.0</td>\n",
       "      <td>1.0</td>\n",
       "      <td>0.0</td>\n",
       "    </tr>\n",
       "    <tr>\n",
       "      <th>38986</th>\n",
       "      <td>2020</td>\n",
       "      <td>Sport Climbing</td>\n",
       "      <td>Slovenia</td>\n",
       "      <td>GOLD</td>\n",
       "      <td>1</td>\n",
       "      <td>1.0</td>\n",
       "      <td>0.0</td>\n",
       "      <td>0.0</td>\n",
       "    </tr>\n",
       "    <tr>\n",
       "      <th>39667</th>\n",
       "      <td>2022</td>\n",
       "      <td>Alpine Skiing</td>\n",
       "      <td>Slovenia</td>\n",
       "      <td>SILVER</td>\n",
       "      <td>1</td>\n",
       "      <td>0.0</td>\n",
       "      <td>1.0</td>\n",
       "      <td>0.0</td>\n",
       "    </tr>\n",
       "    <tr>\n",
       "      <th>40104</th>\n",
       "      <td>2022</td>\n",
       "      <td>Ski Jumping</td>\n",
       "      <td>Slovenia</td>\n",
       "      <td>BRONZE</td>\n",
       "      <td>1</td>\n",
       "      <td>0.0</td>\n",
       "      <td>0.0</td>\n",
       "      <td>1.0</td>\n",
       "    </tr>\n",
       "    <tr>\n",
       "      <th>40105</th>\n",
       "      <td>2022</td>\n",
       "      <td>Ski Jumping</td>\n",
       "      <td>Slovenia</td>\n",
       "      <td>GOLD</td>\n",
       "      <td>2</td>\n",
       "      <td>2.0</td>\n",
       "      <td>0.0</td>\n",
       "      <td>0.0</td>\n",
       "    </tr>\n",
       "    <tr>\n",
       "      <th>40106</th>\n",
       "      <td>2022</td>\n",
       "      <td>Ski Jumping</td>\n",
       "      <td>Slovenia</td>\n",
       "      <td>SILVER</td>\n",
       "      <td>1</td>\n",
       "      <td>0.0</td>\n",
       "      <td>1.0</td>\n",
       "      <td>0.0</td>\n",
       "    </tr>\n",
       "    <tr>\n",
       "      <th>40157</th>\n",
       "      <td>2022</td>\n",
       "      <td>Snowboard</td>\n",
       "      <td>Slovenia</td>\n",
       "      <td>BRONZE</td>\n",
       "      <td>1</td>\n",
       "      <td>0.0</td>\n",
       "      <td>0.0</td>\n",
       "      <td>1.0</td>\n",
       "    </tr>\n",
       "    <tr>\n",
       "      <th>40158</th>\n",
       "      <td>2022</td>\n",
       "      <td>Snowboard</td>\n",
       "      <td>Slovenia</td>\n",
       "      <td>SILVER</td>\n",
       "      <td>1</td>\n",
       "      <td>0.0</td>\n",
       "      <td>1.0</td>\n",
       "      <td>0.0</td>\n",
       "    </tr>\n",
       "  </tbody>\n",
       "</table>\n",
       "</div>"
      ],
      "text/plain": [
       "       date      discipline_title country_name medal_type  counts  gold_medal  \\\n",
       "19011  1992                Rowing     Slovenia     BRONZE       2         0.0   \n",
       "19831  1994         Alpine Skiing     Slovenia     BRONZE       3         0.0   \n",
       "20407  1996             Athletics     Slovenia     SILVER       1         0.0   \n",
       "20707  1996          Canoe Slalom     Slovenia     SILVER       1         0.0   \n",
       "23875  2000                Rowing     Slovenia       GOLD       1         1.0   \n",
       "24094  2000              Shooting     Slovenia       GOLD       1         1.0   \n",
       "25268  2002           Ski Jumping     Slovenia     BRONZE       1         0.0   \n",
       "25534  2004             Athletics     Slovenia     BRONZE       1         0.0   \n",
       "26377  2004                  Judo     Slovenia     BRONZE       1         0.0   \n",
       "26487  2004                Rowing     Slovenia     SILVER       1         0.0   \n",
       "26571  2004               Sailing     Slovenia     BRONZE       1         0.0   \n",
       "28207  2008             Athletics     Slovenia       GOLD       1         1.0   \n",
       "29152  2008                  Judo     Slovenia     BRONZE       1         0.0   \n",
       "29399  2008               Sailing     Slovenia     SILVER       1         0.0   \n",
       "29524  2008              Shooting     Slovenia     BRONZE       1         0.0   \n",
       "29723  2008              Swimming     Slovenia     SILVER       1         0.0   \n",
       "30371  2010         Alpine Skiing     Slovenia     SILVER       2         0.0   \n",
       "30538  2010  Cross Country Skiing     Slovenia     BRONZE       1         0.0   \n",
       "31114  2012             Athletics     Slovenia     SILVER       1         0.0   \n",
       "32175  2012                  Judo     Slovenia       GOLD       1         1.0   \n",
       "32338  2012                Rowing     Slovenia     BRONZE       1         0.0   \n",
       "32555  2012              Shooting     Slovenia     BRONZE       1         0.0   \n",
       "33408  2014         Alpine Skiing     Slovenia       GOLD       2         2.0   \n",
       "33475  2014              Biathlon     Slovenia     BRONZE       1         0.0   \n",
       "33571  2014  Cross Country Skiing     Slovenia     BRONZE       1         0.0   \n",
       "33844  2014           Ski Jumping     Slovenia     BRONZE       1         0.0   \n",
       "33845  2014           Ski Jumping     Slovenia     SILVER       1         0.0   \n",
       "33892  2014             Snowboard     Slovenia     BRONZE       1         0.0   \n",
       "33893  2014             Snowboard     Slovenia     SILVER       1         0.0   \n",
       "34446  2016          Canoe Slalom     Slovenia     SILVER       1         0.0   \n",
       "35272  2016                  Judo     Slovenia     BRONZE       1         0.0   \n",
       "35273  2016                  Judo     Slovenia       GOLD       1         1.0   \n",
       "35563  2016               Sailing     Slovenia     SILVER       1         0.0   \n",
       "36618  2018              Biathlon     Slovenia     SILVER       1         0.0   \n",
       "37056  2018             Snowboard     Slovenia     BRONZE       1         0.0   \n",
       "37706  2020          Canoe Slalom     Slovenia       GOLD       1         1.0   \n",
       "37936  2020          Cycling Road     Slovenia     BRONZE       1         0.0   \n",
       "37937  2020          Cycling Road     Slovenia       GOLD       1         1.0   \n",
       "38427  2020                  Judo     Slovenia     SILVER       1         0.0   \n",
       "38986  2020        Sport Climbing     Slovenia       GOLD       1         1.0   \n",
       "39667  2022         Alpine Skiing     Slovenia     SILVER       1         0.0   \n",
       "40104  2022           Ski Jumping     Slovenia     BRONZE       1         0.0   \n",
       "40105  2022           Ski Jumping     Slovenia       GOLD       2         2.0   \n",
       "40106  2022           Ski Jumping     Slovenia     SILVER       1         0.0   \n",
       "40157  2022             Snowboard     Slovenia     BRONZE       1         0.0   \n",
       "40158  2022             Snowboard     Slovenia     SILVER       1         0.0   \n",
       "\n",
       "       silver_medal  bronze_medal  \n",
       "19011           0.0           2.0  \n",
       "19831           0.0           3.0  \n",
       "20407           1.0           0.0  \n",
       "20707           1.0           0.0  \n",
       "23875           0.0           0.0  \n",
       "24094           0.0           0.0  \n",
       "25268           0.0           1.0  \n",
       "25534           0.0           1.0  \n",
       "26377           0.0           1.0  \n",
       "26487           1.0           0.0  \n",
       "26571           0.0           1.0  \n",
       "28207           0.0           0.0  \n",
       "29152           0.0           1.0  \n",
       "29399           1.0           0.0  \n",
       "29524           0.0           1.0  \n",
       "29723           1.0           0.0  \n",
       "30371           2.0           0.0  \n",
       "30538           0.0           1.0  \n",
       "31114           1.0           0.0  \n",
       "32175           0.0           0.0  \n",
       "32338           0.0           1.0  \n",
       "32555           0.0           1.0  \n",
       "33408           0.0           0.0  \n",
       "33475           0.0           1.0  \n",
       "33571           0.0           1.0  \n",
       "33844           0.0           1.0  \n",
       "33845           1.0           0.0  \n",
       "33892           0.0           1.0  \n",
       "33893           1.0           0.0  \n",
       "34446           1.0           0.0  \n",
       "35272           0.0           1.0  \n",
       "35273           0.0           0.0  \n",
       "35563           1.0           0.0  \n",
       "36618           1.0           0.0  \n",
       "37056           0.0           1.0  \n",
       "37706           0.0           0.0  \n",
       "37936           0.0           1.0  \n",
       "37937           0.0           0.0  \n",
       "38427           1.0           0.0  \n",
       "38986           0.0           0.0  \n",
       "39667           1.0           0.0  \n",
       "40104           0.0           1.0  \n",
       "40105           0.0           0.0  \n",
       "40106           1.0           0.0  \n",
       "40157           0.0           1.0  \n",
       "40158           1.0           0.0  "
      ]
     },
     "execution_count": 293,
     "metadata": {},
     "output_type": "execute_result"
    }
   ],
   "source": [
    "\n",
    "#group by types of medals per year\n",
    "\n",
    "worldmap1 = df.groupby(['date','country_name', 'medal_type']).size().reset_index(name='counts')\n",
    "worldmap1 = disc_df[disc_df['medal_type'] != 0] \n",
    "#vis3 dataframe\n",
    "disc_df = df.groupby(['date', 'discipline_title','country_name', 'medal_type']).size().reset_index(name='counts')\n",
    "disc_dfx = disc_df[disc_df['medal_type'] != 0] \n",
    "#worldmap.head\n",
    "worldmapx = worldmap1[worldmap1['medal_type'] != 0]\n",
    "# df with sum of all medals by country and date\n",
    "worldmap = worldmap1.groupby(['date','country_name']).size().reset_index(name='sum_of_medals')\n",
    "#worldmap['gold'] = worldmap1['medal_type'] == 'GOLD'\n",
    "\n",
    "worldmap\n",
    "\n",
    "#df for slovenia\n",
    "slovenia_df = worldmapx[worldmapx['country_name'] == 'Slovenia']\n",
    "slovenia_df\n",
    "\n",
    "#slovenia_df['gold_medals'] = slovenia_df['counts'].where(['medal_type']=='GOLD', slovenia_df['medal_type'])\n",
    "slovenia_df.loc[slovenia_df['medal_type'] == 'GOLD', 'gold_medal'] = slovenia_df['counts']\n",
    "slovenia_df['gold_medal'].fillna(0, inplace=True)\n",
    "slovenia_df.loc[slovenia_df['medal_type'] == 'SILVER', 'silver_medal'] = slovenia_df['counts']\n",
    "slovenia_df['silver_medal'].fillna(0, inplace=True)\n",
    "slovenia_df.loc[slovenia_df['medal_type'] == 'BRONZE', 'bronze_medal'] = slovenia_df['counts']\n",
    "slovenia_df['bronze_medal'].fillna(0, inplace=True)\n",
    "\n",
    "slovenia_df\n"
   ]
  },
  {
   "cell_type": "markdown",
   "id": "9d54f8a1-2dee-493d-a3e7-327752a7cacb",
   "metadata": {},
   "source": [
    "# Visualization 1"
   ]
  },
  {
   "cell_type": "code",
   "execution_count": 11,
   "id": "136f72a7-99c6-4a04-9eed-54ee4820ab66",
   "metadata": {},
   "outputs": [],
   "source": [
    "yax_medal_type = pn.widgets.RadioButtonGroup(\n",
    "    name='Y axis', \n",
    "    options=['GOLD', 'SILVER', 'BRONZE'], \n",
    "    button_type='success'\n",
    ")\n"
   ]
  },
  {
   "cell_type": "code",
   "execution_count": 23,
   "id": "a5af70f2-1293-421f-b10d-191912dec24a",
   "metadata": {},
   "outputs": [],
   "source": [
    "# Define Panel widgets\n",
    "#year_slider = pn.widgets.IntSlider(name='Year slider', start=1750, end=2020, step=2, value=1850)\n",
    "#background = pn.widgets.ColorPicker(name='Background', value='lightgray')\n",
    "#def styles(background):\n",
    "#    return {'background-color': background, 'padding': '0 10px'}\n",
    "#year_slider\n",
    "\n",
    "#pn.Column(\n",
    "#    year_slider,\n",
    "#    background, styles=pn.bind(styles, background)\n",
    "#)"
   ]
  },
  {
   "cell_type": "code",
   "execution_count": 30,
   "id": "57e7f28c-02da-4370-8280-eaeda09cf879",
   "metadata": {},
   "outputs": [
    {
     "data": {
      "application/vnd.plotly.v1+json": {
       "config": {
        "plotlyServerURL": "https://plot.ly"
       },
       "data": [
        {
         "coloraxis": "coloraxis",
         "customdata": [
          [
           2
          ],
          [
           4
          ],
          [
           1
          ],
          [
           4
          ],
          [
           4
          ],
          [
           4
          ],
          [
           4
          ],
          [
           4
          ],
          [
           4
          ],
          [
           1
          ],
          [
           2
          ],
          [
           1
          ],
          [
           3
          ],
          [
           4
          ]
         ],
         "geo": "geo",
         "hovertemplate": "date=1896<br>country_name=%{location}<br>sum_of_medals=%{z}<extra></extra>",
         "locationmode": "country names",
         "locations": [
          "Australia",
          "Austria",
          "Chile",
          "Denmark",
          "France",
          "Germany",
          "Great Britain",
          "Greece",
          "Hungary",
          "Italy",
          "MIX",
          "Sweden",
          "Switzerland",
          "United States of America"
         ],
         "name": "",
         "type": "choropleth",
         "z": [
          2,
          4,
          1,
          4,
          4,
          4,
          4,
          4,
          4,
          1,
          2,
          1,
          3,
          4
         ]
        }
       ],
       "frames": [
        {
         "data": [
          {
           "coloraxis": "coloraxis",
           "customdata": [
            [
             2
            ],
            [
             4
            ],
            [
             1
            ],
            [
             4
            ],
            [
             4
            ],
            [
             4
            ],
            [
             4
            ],
            [
             4
            ],
            [
             4
            ],
            [
             1
            ],
            [
             2
            ],
            [
             1
            ],
            [
             3
            ],
            [
             4
            ]
           ],
           "geo": "geo",
           "hovertemplate": "date=1896<br>country_name=%{location}<br>sum_of_medals=%{z}<extra></extra>",
           "locationmode": "country names",
           "locations": [
            "Australia",
            "Austria",
            "Chile",
            "Denmark",
            "France",
            "Germany",
            "Great Britain",
            "Greece",
            "Hungary",
            "Italy",
            "MIX",
            "Sweden",
            "Switzerland",
            "United States of America"
           ],
           "name": "",
           "type": "choropleth",
           "z": [
            2,
            4,
            1,
            4,
            4,
            4,
            4,
            4,
            4,
            1,
            2,
            1,
            3,
            4
           ]
          }
         ],
         "name": "1896"
        },
        {
         "data": [
          {
           "coloraxis": "coloraxis",
           "customdata": [
            [
             1
            ],
            [
             3
            ],
            [
             3
            ],
            [
             4
            ],
            [
             3
            ],
            [
             1
            ],
            [
             3
            ],
            [
             1
            ],
            [
             2
            ],
            [
             4
            ],
            [
             4
            ],
            [
             4
            ],
            [
             4
            ],
            [
             1
            ],
            [
             4
            ],
            [
             2
            ],
            [
             3
            ],
            [
             1
            ],
            [
             4
            ],
            [
             3
            ],
            [
             1
            ],
            [
             3
            ],
            [
             1
            ],
            [
             1
            ],
            [
             2
            ],
            [
             2
            ],
            [
             4
            ],
            [
             4
            ]
           ],
           "geo": "geo",
           "hovertemplate": "date=1900<br>country_name=%{location}<br>sum_of_medals=%{z}<extra></extra>",
           "locationmode": "country names",
           "locations": [
            "Argentina",
            "Australia",
            "Austria",
            "Belgium",
            "Bohemia",
            "Brazil",
            "Canada",
            "Chile",
            "Cuba",
            "Denmark",
            "France",
            "Germany",
            "Great Britain",
            "Greece",
            "Hungary",
            "India",
            "Italy",
            "Luxembourg",
            "MIX",
            "Netherlands",
            "New Zealand",
            "Norway",
            "Romania",
            "Russian Federation",
            "Spain",
            "Sweden",
            "Switzerland",
            "United States of America"
           ],
           "name": "",
           "type": "choropleth",
           "z": [
            1,
            3,
            3,
            4,
            3,
            1,
            3,
            1,
            2,
            4,
            4,
            4,
            4,
            1,
            4,
            2,
            3,
            1,
            4,
            3,
            1,
            3,
            1,
            1,
            2,
            2,
            4,
            4
           ]
          }
         ],
         "name": "1900"
        },
        {
         "data": [
          {
           "coloraxis": "coloraxis",
           "customdata": [
            [
             3
            ],
            [
             4
            ],
            [
             4
            ],
            [
             2
            ],
            [
             1
            ],
            [
             4
            ],
            [
             3
            ],
            [
             3
            ],
            [
             4
            ],
            [
             4
            ],
            [
             1
            ],
            [
             1
            ],
            [
             2
            ],
            [
             1
            ],
            [
             3
            ],
            [
             4
            ]
           ],
           "geo": "geo",
           "hovertemplate": "date=1904<br>country_name=%{location}<br>sum_of_medals=%{z}<extra></extra>",
           "locationmode": "country names",
           "locations": [
            "Australia",
            "Austria",
            "Canada",
            "Cuba",
            "France",
            "Germany",
            "Great Britain",
            "Greece",
            "Hungary",
            "MIX",
            "New Zealand",
            "Newfoundland",
            "Norway",
            "South Africa",
            "Switzerland",
            "United States of America"
           ],
           "name": "",
           "type": "choropleth",
           "z": [
            3,
            4,
            4,
            2,
            1,
            4,
            3,
            3,
            4,
            4,
            1,
            1,
            2,
            1,
            3,
            4
           ]
          }
         ],
         "name": "1904"
        },
        {
         "data": [
          {
           "coloraxis": "coloraxis",
           "customdata": [
            [
             1
            ],
            [
             4
            ],
            [
             1
            ],
            [
             2
            ],
            [
             4
            ],
            [
             2
            ],
            [
             4
            ],
            [
             3
            ],
            [
             4
            ],
            [
             4
            ],
            [
             4
            ],
            [
             4
            ],
            [
             3
            ],
            [
             4
            ],
            [
             1
            ],
            [
             3
            ],
            [
             2
            ],
            [
             4
            ],
            [
             3
            ],
            [
             3
            ],
            [
             4
            ],
            [
             1
            ],
            [
             1
            ],
            [
             4
            ]
           ],
           "geo": "geo",
           "hovertemplate": "date=1908<br>country_name=%{location}<br>sum_of_medals=%{z}<extra></extra>",
           "locationmode": "country names",
           "locations": [
            "Argentina",
            "Australasia",
            "Australia",
            "Austria",
            "Belgium",
            "Bohemia",
            "Canada",
            "Denmark",
            "Finland",
            "France",
            "Germany",
            "Great Britain",
            "Greece",
            "Hungary",
            "Iceland",
            "Italy",
            "Netherlands",
            "Norway",
            "Russian Federation",
            "South Africa",
            "Sweden",
            "Switzerland",
            "Turkey",
            "United States of America"
           ],
           "name": "",
           "type": "choropleth",
           "z": [
            1,
            4,
            1,
            2,
            4,
            2,
            4,
            3,
            4,
            4,
            4,
            4,
            3,
            4,
            1,
            3,
            2,
            4,
            3,
            3,
            4,
            1,
            1,
            4
           ]
          }
         ],
         "name": "1908"
        },
        {
         "data": [
          {
           "coloraxis": "coloraxis",
           "customdata": [
            [
             4
            ],
            [
             3
            ],
            [
             4
            ],
            [
             1
            ],
            [
             4
            ],
            [
             1
            ],
            [
             4
            ],
            [
             4
            ],
            [
             4
            ],
            [
             4
            ],
            [
             4
            ],
            [
             3
            ],
            [
             4
            ],
            [
             1
            ],
            [
             4
            ],
            [
             1
            ],
            [
             1
            ],
            [
             2
            ],
            [
             4
            ],
            [
             1
            ],
            [
             3
            ],
            [
             1
            ],
            [
             3
            ],
            [
             4
            ],
            [
             1
            ],
            [
             1
            ],
            [
             4
            ]
           ],
           "geo": "geo",
           "hovertemplate": "date=1912<br>country_name=%{location}<br>sum_of_medals=%{z}<extra></extra>",
           "locationmode": "country names",
           "locations": [
            "Australasia",
            "Austria",
            "Belgium",
            "Bohemia",
            "Canada",
            "Chile",
            "Denmark",
            "Finland",
            "France",
            "Germany",
            "Great Britain",
            "Greece",
            "Hungary",
            "Iceland",
            "Italy",
            "Japan",
            "Luxembourg",
            "Netherlands",
            "Norway",
            "Portugal",
            "Russian Federation",
            "Serbia",
            "South Africa",
            "Sweden",
            "Switzerland",
            "Turkey",
            "United States of America"
           ],
           "name": "",
           "type": "choropleth",
           "z": [
            4,
            3,
            4,
            1,
            4,
            1,
            4,
            4,
            4,
            4,
            4,
            3,
            4,
            1,
            4,
            1,
            1,
            2,
            4,
            1,
            3,
            1,
            3,
            4,
            1,
            1,
            4
           ]
          }
         ],
         "name": "1912"
        },
        {
         "data": [
          {
           "coloraxis": "coloraxis",
           "customdata": [
            [
             1
            ],
            [
             3
            ],
            [
             4
            ],
            [
             4
            ],
            [
             4
            ],
            [
             1
            ],
            [
             2
            ],
            [
             4
            ],
            [
             1
            ],
            [
             3
            ],
            [
             4
            ],
            [
             4
            ],
            [
             4
            ],
            [
             2
            ],
            [
             1
            ],
            [
             4
            ],
            [
             2
            ],
            [
             2
            ],
            [
             1
            ],
            [
             4
            ],
            [
             2
            ],
            [
             4
            ],
            [
             1
            ],
            [
             1
            ],
            [
             4
            ],
            [
             2
            ],
            [
             4
            ],
            [
             4
            ],
            [
             4
            ],
            [
             1
            ]
           ],
           "geo": "geo",
           "hovertemplate": "date=1920<br>country_name=%{location}<br>sum_of_medals=%{z}<extra></extra>",
           "locationmode": "country names",
           "locations": [
            "Argentina",
            "Australia",
            "Belgium",
            "Brazil",
            "Canada",
            "Chile",
            "Czechoslovakia",
            "Denmark",
            "Egypt",
            "Estonia",
            "Finland",
            "France",
            "Great Britain",
            "Greece",
            "India",
            "Italy",
            "Japan",
            "Luxembourg",
            "Monaco",
            "Netherlands",
            "New Zealand",
            "Norway",
            "Poland",
            "Portugal",
            "South Africa",
            "Spain",
            "Sweden",
            "Switzerland",
            "United States of America",
            "Yugoslavia"
           ],
           "name": "",
           "type": "choropleth",
           "z": [
            1,
            3,
            4,
            4,
            4,
            1,
            2,
            4,
            1,
            3,
            4,
            4,
            4,
            2,
            1,
            4,
            2,
            2,
            1,
            4,
            2,
            4,
            1,
            1,
            4,
            2,
            4,
            4,
            4,
            1
           ]
          }
         ],
         "name": "1920"
        },
        {
         "data": [
          {
           "coloraxis": "coloraxis",
           "customdata": [
            [
             4
            ],
            [
             4
            ],
            [
             4
            ],
            [
             4
            ],
            [
             1
            ],
            [
             1
            ],
            [
             4
            ],
            [
             1
            ],
            [
             1
            ],
            [
             4
            ],
            [
             4
            ],
            [
             1
            ],
            [
             1
            ],
            [
             4
            ],
            [
             4
            ],
            [
             4
            ],
            [
             4
            ],
            [
             1
            ],
            [
             2
            ],
            [
             4
            ],
            [
             1
            ],
            [
             1
            ],
            [
             4
            ],
            [
             2
            ],
            [
             1
            ],
            [
             1
            ],
            [
             1
            ],
            [
             1
            ],
            [
             1
            ],
            [
             4
            ],
            [
             2
            ],
            [
             4
            ],
            [
             1
            ],
            [
             3
            ],
            [
             2
            ],
            [
             2
            ],
            [
             4
            ],
            [
             1
            ],
            [
             4
            ],
            [
             4
            ],
            [
             1
            ],
            [
             4
            ],
            [
             2
            ],
            [
             2
            ]
           ],
           "geo": "geo",
           "hovertemplate": "date=1924<br>country_name=%{location}<br>sum_of_medals=%{z}<extra></extra>",
           "locationmode": "country names",
           "locations": [
            "Argentina",
            "Australia",
            "Austria",
            "Belgium",
            "Brazil",
            "Bulgaria",
            "Canada",
            "Chile",
            "Cuba",
            "Czechoslovakia",
            "Denmark",
            "Ecuador",
            "Egypt",
            "Estonia",
            "Finland",
            "France",
            "Great Britain",
            "Greece",
            "Haiti",
            "Hungary",
            "India",
            "Ireland",
            "Italy",
            "Japan",
            "Latvia",
            "Lithuania",
            "Luxembourg",
            "Mexico",
            "Monaco",
            "Netherlands",
            "New Zealand",
            "Norway",
            "Philippines",
            "Poland",
            "Portugal",
            "Romania",
            "South Africa",
            "Spain",
            "Sweden",
            "Switzerland",
            "Turkey",
            "United States of America",
            "Uruguay",
            "Yugoslavia"
           ],
           "name": "",
           "type": "choropleth",
           "z": [
            4,
            4,
            4,
            4,
            1,
            1,
            4,
            1,
            1,
            4,
            4,
            1,
            1,
            4,
            4,
            4,
            4,
            1,
            2,
            4,
            1,
            1,
            4,
            2,
            1,
            1,
            1,
            1,
            1,
            4,
            2,
            4,
            1,
            3,
            2,
            2,
            4,
            1,
            4,
            4,
            1,
            4,
            2,
            2
           ]
          }
         ],
         "name": "1924"
        },
        {
         "data": [
          {
           "coloraxis": "coloraxis",
           "customdata": [
            [
             4
            ],
            [
             4
            ],
            [
             4
            ],
            [
             3
            ],
            [
             1
            ],
            [
             4
            ],
            [
             2
            ],
            [
             1
            ],
            [
             4
            ],
            [
             4
            ],
            [
             4
            ],
            [
             4
            ],
            [
             4
            ],
            [
             4
            ],
            [
             4
            ],
            [
             4
            ],
            [
             1
            ],
            [
             1
            ],
            [
             3
            ],
            [
             2
            ],
            [
             2
            ],
            [
             4
            ],
            [
             4
            ],
            [
             1
            ],
            [
             1
            ],
            [
             1
            ],
            [
             1
            ],
            [
             1
            ],
            [
             1
            ],
            [
             4
            ],
            [
             2
            ],
            [
             4
            ],
            [
             2
            ],
            [
             4
            ],
            [
             2
            ],
            [
             1
            ],
            [
             3
            ],
            [
             2
            ],
            [
             4
            ],
            [
             4
            ],
            [
             1
            ],
            [
             4
            ],
            [
             1
            ],
            [
             4
            ],
            [
             1
            ]
           ],
           "geo": "geo",
           "hovertemplate": "date=1928<br>country_name=%{location}<br>sum_of_medals=%{z}<extra></extra>",
           "locationmode": "country names",
           "locations": [
            "Argentina",
            "Australia",
            "Austria",
            "Belgium",
            "Bulgaria",
            "Canada",
            "Chile",
            "Cuba",
            "Czechoslovakia",
            "Denmark",
            "Egypt",
            "Estonia",
            "Finland",
            "France",
            "Germany",
            "Great Britain",
            "Greece",
            "Haiti",
            "Hungary",
            "India",
            "Ireland",
            "Italy",
            "Japan",
            "Latvia",
            "Lithuania",
            "Luxembourg",
            "Malta",
            "Mexico",
            "Monaco",
            "Netherlands",
            "New Zealand",
            "Norway",
            "Philippines",
            "Poland",
            "Portugal",
            "Romania",
            "South Africa",
            "Spain",
            "Sweden",
            "Switzerland",
            "Turkey",
            "United States of America",
            "Uruguay",
            "Yugoslavia",
            "Zimbabwe"
           ],
           "name": "",
           "type": "choropleth",
           "z": [
            4,
            4,
            4,
            3,
            1,
            4,
            2,
            1,
            4,
            4,
            4,
            4,
            4,
            4,
            4,
            4,
            1,
            1,
            3,
            2,
            2,
            4,
            4,
            1,
            1,
            1,
            1,
            1,
            1,
            4,
            2,
            4,
            2,
            4,
            2,
            1,
            3,
            2,
            4,
            4,
            1,
            4,
            1,
            4,
            1
           ]
          }
         ],
         "name": "1928"
        },
        {
         "data": [
          {
           "coloraxis": "coloraxis",
           "customdata": [
            [
             3
            ],
            [
             4
            ],
            [
             4
            ],
            [
             1
            ],
            [
             1
            ],
            [
             4
            ],
            [
             1
            ],
            [
             1
            ],
            [
             4
            ],
            [
             3
            ],
            [
             1
            ],
            [
             4
            ],
            [
             4
            ],
            [
             4
            ],
            [
             4
            ],
            [
             1
            ],
            [
             1
            ],
            [
             4
            ],
            [
             2
            ],
            [
             2
            ],
            [
             4
            ],
            [
             4
            ],
            [
             2
            ],
            [
             1
            ],
            [
             2
            ],
            [
             3
            ],
            [
             2
            ],
            [
             4
            ],
            [
             2
            ],
            [
             4
            ],
            [
             1
            ],
            [
             1
            ],
            [
             3
            ],
            [
             2
            ],
            [
             4
            ],
            [
             2
            ],
            [
             4
            ],
            [
             1
            ],
            [
             1
            ]
           ],
           "geo": "geo",
           "hovertemplate": "date=1932<br>country_name=%{location}<br>sum_of_medals=%{z}<extra></extra>",
           "locationmode": "country names",
           "locations": [
            "Argentina",
            "Australia",
            "Austria",
            "Belgium",
            "Brazil",
            "Canada",
            "Colombia",
            "Cuba",
            "Czechoslovakia",
            "Denmark",
            "Estonia",
            "Finland",
            "France",
            "Germany",
            "Great Britain",
            "Greece",
            "Haiti",
            "Hungary",
            "India",
            "Ireland",
            "Italy",
            "Japan",
            "Latvia",
            "MIX",
            "Mexico",
            "Netherlands",
            "New Zealand",
            "Norway",
            "Philippines",
            "Poland",
            "Portugal",
            "Romania",
            "South Africa",
            "Spain",
            "Sweden",
            "Switzerland",
            "United States of America",
            "Uruguay",
            "Yugoslavia"
           ],
           "name": "",
           "type": "choropleth",
           "z": [
            3,
            4,
            4,
            1,
            1,
            4,
            1,
            1,
            4,
            3,
            1,
            4,
            4,
            4,
            4,
            1,
            1,
            4,
            2,
            2,
            4,
            4,
            2,
            1,
            2,
            3,
            2,
            4,
            2,
            4,
            1,
            1,
            3,
            2,
            4,
            2,
            4,
            1,
            1
           ]
          }
         ],
         "name": "1932"
        },
        {
         "data": [
          {
           "coloraxis": "coloraxis",
           "customdata": [
            [
             1
            ],
            [
             4
            ],
            [
             2
            ],
            [
             4
            ],
            [
             2
            ],
            [
             1
            ],
            [
             1
            ],
            [
             1
            ],
            [
             4
            ],
            [
             1
            ],
            [
             1
            ],
            [
             3
            ],
            [
             3
            ],
            [
             4
            ],
            [
             4
            ],
            [
             4
            ],
            [
             4
            ],
            [
             4
            ],
            [
             4
            ],
            [
             1
            ],
            [
             4
            ],
            [
             1
            ],
            [
             2
            ],
            [
             4
            ],
            [
             4
            ],
            [
             3
            ],
            [
             1
            ],
            [
             1
            ],
            [
             1
            ],
            [
             2
            ],
            [
             1
            ],
            [
             4
            ],
            [
             2
            ],
            [
             4
            ],
            [
             1
            ],
            [
             1
            ],
            [
             2
            ],
            [
             3
            ],
            [
             2
            ],
            [
             2
            ],
            [
             2
            ],
            [
             1
            ],
            [
             4
            ],
            [
             4
            ],
            [
             3
            ],
            [
             4
            ],
            [
             1
            ],
            [
             2
            ]
           ],
           "geo": "geo",
           "hovertemplate": "date=1936<br>country_name=%{location}<br>sum_of_medals=%{z}<extra></extra>",
           "locationmode": "country names",
           "locations": [
            "Afghanistan",
            "Argentina",
            "Australia",
            "Austria",
            "Belgium",
            "Bermuda",
            "Brazil",
            "Bulgaria",
            "Canada",
            "Chile",
            "Colombia",
            "Czechoslovakia",
            "Denmark",
            "Egypt",
            "Estonia",
            "Finland",
            "France",
            "Germany",
            "Great Britain",
            "Greece",
            "Hungary",
            "Iceland",
            "India",
            "Italy",
            "Japan",
            "Latvia",
            "Liechtenstein",
            "Luxembourg",
            "Malta",
            "Mexico",
            "Monaco",
            "Netherlands",
            "New Zealand",
            "Norway",
            "People's Republic of China",
            "Peru",
            "Philippines",
            "Poland",
            "Portugal",
            "Romania",
            "South Africa",
            "Spain",
            "Sweden",
            "Switzerland",
            "Turkey",
            "United States of America",
            "Uruguay",
            "Yugoslavia"
           ],
           "name": "",
           "type": "choropleth",
           "z": [
            1,
            4,
            2,
            4,
            2,
            1,
            1,
            1,
            4,
            1,
            1,
            3,
            3,
            4,
            4,
            4,
            4,
            4,
            4,
            1,
            4,
            1,
            2,
            4,
            4,
            3,
            1,
            1,
            1,
            2,
            1,
            4,
            2,
            4,
            1,
            1,
            2,
            3,
            2,
            2,
            2,
            1,
            4,
            4,
            3,
            4,
            1,
            2
           ]
          }
         ],
         "name": "1936"
        },
        {
         "data": [
          {
           "coloraxis": "coloraxis",
           "customdata": [
            [
             1
            ],
            [
             4
            ],
            [
             4
            ],
            [
             4
            ],
            [
             4
            ],
            [
             1
            ],
            [
             2
            ],
            [
             1
            ],
            [
             4
            ],
            [
             1
            ],
            [
             1
            ],
            [
             2
            ],
            [
             4
            ],
            [
             4
            ],
            [
             4
            ],
            [
             4
            ],
            [
             4
            ],
            [
             4
            ],
            [
             1
            ],
            [
             1
            ],
            [
             4
            ],
            [
             1
            ],
            [
             2
            ],
            [
             1
            ],
            [
             1
            ],
            [
             2
            ],
            [
             4
            ],
            [
             3
            ],
            [
             1
            ],
            [
             1
            ],
            [
             1
            ],
            [
             4
            ],
            [
             1
            ],
            [
             1
            ],
            [
             4
            ],
            [
             1
            ],
            [
             4
            ],
            [
             1
            ],
            [
             1
            ],
            [
             1
            ],
            [
             2
            ],
            [
             1
            ],
            [
             2
            ],
            [
             3
            ],
            [
             2
            ],
            [
             2
            ],
            [
             1
            ],
            [
             1
            ],
            [
             4
            ],
            [
             2
            ],
            [
             2
            ],
            [
             4
            ],
            [
             4
            ],
            [
             1
            ],
            [
             2
            ],
            [
             4
            ],
            [
             4
            ],
            [
             3
            ],
            [
             1
            ],
            [
             2
            ]
           ],
           "geo": "geo",
           "hovertemplate": "date=1948<br>country_name=%{location}<br>sum_of_medals=%{z}<extra></extra>",
           "locationmode": "country names",
           "locations": [
            "Afghanistan",
            "Argentina",
            "Australia",
            "Austria",
            "Belgium",
            "Bermuda",
            "Brazil",
            "Bulgaria",
            "Canada",
            "Chile",
            "Colombia",
            "Cuba",
            "Czechoslovakia",
            "Denmark",
            "Egypt",
            "Finland",
            "France",
            "Great Britain",
            "Greece",
            "Guyana",
            "Hungary",
            "Iceland",
            "India",
            "Iraq",
            "Ireland",
            "Islamic Republic of Iran",
            "Italy",
            "Jamaica",
            "Lebanon",
            "Liechtenstein",
            "Luxembourg",
            "Mexico",
            "Monaco",
            "Myanmar",
            "Netherlands",
            "New Zealand",
            "Norway",
            "Pakistan",
            "Panama",
            "People's Republic of China",
            "Peru",
            "Philippines",
            "Poland",
            "Portugal",
            "Puerto Rico",
            "Republic of Korea",
            "Romania",
            "Singapore",
            "South Africa",
            "Spain",
            "Sri Lanka",
            "Sweden",
            "Switzerland",
            "Syrian Arab Republic",
            "Trinidad and Tobago",
            "Turkey",
            "United States of America",
            "Uruguay",
            "Venezuela",
            "Yugoslavia"
           ],
           "name": "",
           "type": "choropleth",
           "z": [
            1,
            4,
            4,
            4,
            4,
            1,
            2,
            1,
            4,
            1,
            1,
            2,
            4,
            4,
            4,
            4,
            4,
            4,
            1,
            1,
            4,
            1,
            2,
            1,
            1,
            2,
            4,
            3,
            1,
            1,
            1,
            4,
            1,
            1,
            4,
            1,
            4,
            1,
            1,
            1,
            2,
            1,
            2,
            3,
            2,
            2,
            1,
            1,
            4,
            2,
            2,
            4,
            4,
            1,
            2,
            4,
            4,
            3,
            1,
            2
           ]
          }
         ],
         "name": "1948"
        },
        {
         "data": [
          {
           "coloraxis": "coloraxis",
           "customdata": [
            [
             4
            ],
            [
             4
            ],
            [
             4
            ],
            [
             1
            ],
            [
             3
            ],
            [
             1
            ],
            [
             3
            ],
            [
             2
            ],
            [
             4
            ],
            [
             2
            ],
            [
             1
            ],
            [
             4
            ],
            [
             4
            ],
            [
             2
            ],
            [
             4
            ],
            [
             4
            ],
            [
             4
            ],
            [
             1
            ],
            [
             4
            ],
            [
             1
            ],
            [
             1
            ],
            [
             1
            ],
            [
             4
            ],
            [
             1
            ],
            [
             3
            ],
            [
             1
            ],
            [
             2
            ],
            [
             3
            ],
            [
             1
            ],
            [
             4
            ],
            [
             3
            ],
            [
             4
            ],
            [
             3
            ],
            [
             1
            ],
            [
             2
            ],
            [
             2
            ],
            [
             1
            ],
            [
             1
            ],
            [
             2
            ],
            [
             1
            ],
            [
             3
            ],
            [
             1
            ],
            [
             4
            ],
            [
             1
            ],
            [
             1
            ],
            [
             1
            ],
            [
             1
            ],
            [
             4
            ],
            [
             2
            ],
            [
             1
            ],
            [
             2
            ],
            [
             4
            ],
            [
             1
            ],
            [
             1
            ],
            [
             4
            ],
            [
             1
            ],
            [
             4
            ],
            [
             2
            ],
            [
             1
            ],
            [
             4
            ],
            [
             4
            ],
            [
             1
            ],
            [
             1
            ],
            [
             3
            ],
            [
             4
            ],
            [
             2
            ],
            [
             2
            ],
            [
             3
            ]
           ],
           "geo": "geo",
           "hovertemplate": "date=1952<br>country_name=%{location}<br>sum_of_medals=%{z}<extra></extra>",
           "locationmode": "country names",
           "locations": [
            "Argentina",
            "Australia",
            "Austria",
            "Bahamas",
            "Belgium",
            "Bermuda",
            "Brazil",
            "Bulgaria",
            "Canada",
            "Chile",
            "Cuba",
            "Czechoslovakia",
            "Denmark",
            "Egypt",
            "Finland",
            "France",
            "Germany",
            "Ghana",
            "Great Britain",
            "Greece",
            "Guatemala",
            "Guyana",
            "Hungary",
            "Iceland",
            "India",
            "Indonesia",
            "Ireland",
            "Islamic Republic of Iran",
            "Israel",
            "Italy",
            "Jamaica",
            "Japan",
            "Lebanon",
            "Liechtenstein",
            "Luxembourg",
            "Mexico",
            "Monaco",
            "Myanmar",
            "Netherlands",
            "Netherlands Antilles",
            "New Zealand",
            "Nigeria",
            "Norway",
            "Pakistan",
            "Panama",
            "People's Republic of China",
            "Philippines",
            "Poland",
            "Portugal",
            "Puerto Rico",
            "Republic of Korea",
            "Romania",
            "Saar",
            "Singapore",
            "South Africa",
            "South Vietnam",
            "Soviet Union",
            "Spain",
            "Sri Lanka",
            "Sweden",
            "Switzerland",
            "Thailand",
            "Trinidad and Tobago",
            "Turkey",
            "United States of America",
            "Uruguay",
            "Venezuela",
            "Yugoslavia"
           ],
           "name": "",
           "type": "choropleth",
           "z": [
            4,
            4,
            4,
            1,
            3,
            1,
            3,
            2,
            4,
            2,
            1,
            4,
            4,
            2,
            4,
            4,
            4,
            1,
            4,
            1,
            1,
            1,
            4,
            1,
            3,
            1,
            2,
            3,
            1,
            4,
            3,
            4,
            3,
            1,
            2,
            2,
            1,
            1,
            2,
            1,
            3,
            1,
            4,
            1,
            1,
            1,
            1,
            4,
            2,
            1,
            2,
            4,
            1,
            1,
            4,
            1,
            4,
            2,
            1,
            4,
            4,
            1,
            1,
            3,
            4,
            2,
            2,
            3
           ]
          }
         ],
         "name": "1952"
        },
        {
         "data": [
          {
           "coloraxis": "coloraxis",
           "customdata": [
            [
             1
            ],
            [
             3
            ],
            [
             4
            ],
            [
             4
            ],
            [
             2
            ],
            [
             2
            ],
            [
             1
            ],
            [
             1
            ],
            [
             2
            ],
            [
             4
            ],
            [
             4
            ],
            [
             3
            ],
            [
             1
            ],
            [
             1
            ],
            [
             1
            ],
            [
             4
            ],
            [
             4
            ],
            [
             1
            ],
            [
             1
            ],
            [
             4
            ],
            [
             4
            ],
            [
             4
            ],
            [
             4
            ],
            [
             2
            ],
            [
             1
            ],
            [
             4
            ],
            [
             2
            ],
            [
             2
            ],
            [
             1
            ],
            [
             1
            ],
            [
             4
            ],
            [
             4
            ],
            [
             1
            ],
            [
             4
            ],
            [
             1
            ],
            [
             4
            ],
            [
             1
            ],
            [
             1
            ],
            [
             1
            ],
            [
             1
            ],
            [
             1
            ],
            [
             1
            ],
            [
             3
            ],
            [
             1
            ],
            [
             1
            ],
            [
             2
            ],
            [
             1
            ],
            [
             1
            ],
            [
             4
            ],
            [
             2
            ],
            [
             1
            ],
            [
             1
            ],
            [
             4
            ],
            [
             1
            ],
            [
             1
            ],
            [
             3
            ],
            [
             4
            ],
            [
             1
            ],
            [
             2
            ],
            [
             1
            ],
            [
             4
            ],
            [
             1
            ],
            [
             1
            ],
            [
             4
            ],
            [
             4
            ],
            [
             1
            ],
            [
             1
            ],
            [
             4
            ],
            [
             1
            ],
            [
             4
            ],
            [
             2
            ],
            [
             1
            ],
            [
             2
            ]
           ],
           "geo": "geo",
           "hovertemplate": "date=1956<br>country_name=%{location}<br>sum_of_medals=%{z}<extra></extra>",
           "locationmode": "country names",
           "locations": [
            "Afghanistan",
            "Argentina",
            "Australia",
            "Austria",
            "Bahamas",
            "Belgium",
            "Bermuda",
            "Bolivia",
            "Brazil",
            "Bulgaria",
            "Canada",
            "Chile",
            "Chinese Taipei",
            "Colombia",
            "Cuba",
            "Czechoslovakia",
            "Denmark",
            "Ethiopia",
            "Fiji",
            "Finland",
            "France",
            "Germany",
            "Great Britain",
            "Greece",
            "Guyana",
            "Hungary",
            "Iceland",
            "India",
            "Indonesia",
            "Iraq",
            "Ireland",
            "Islamic Republic of Iran",
            "Israel",
            "Italy",
            "Jamaica",
            "Japan",
            "Kenya",
            "Lebanon",
            "Liberia",
            "Liechtenstein",
            "Luxembourg",
            "Malaya",
            "Mexico",
            "Myanmar",
            "Netherlands",
            "New Zealand",
            "Nigeria",
            "North Borneo",
            "Norway",
            "Pakistan",
            "Peru",
            "Philippines",
            "Poland",
            "Portugal",
            "Puerto Rico",
            "Republic of Korea",
            "Romania",
            "Singapore",
            "South Africa",
            "South Vietnam",
            "Soviet Union",
            "Spain",
            "Sri Lanka",
            "Sweden",
            "Switzerland",
            "Thailand",
            "Trinidad and Tobago",
            "Turkey",
            "Uganda",
            "United States of America",
            "Uruguay",
            "Venezuela",
            "Yugoslavia"
           ],
           "name": "",
           "type": "choropleth",
           "z": [
            1,
            3,
            4,
            4,
            2,
            2,
            1,
            1,
            2,
            4,
            4,
            3,
            1,
            1,
            1,
            4,
            4,
            1,
            1,
            4,
            4,
            4,
            4,
            2,
            1,
            4,
            2,
            2,
            1,
            1,
            4,
            4,
            1,
            4,
            1,
            4,
            1,
            1,
            1,
            1,
            1,
            1,
            3,
            1,
            1,
            2,
            1,
            1,
            4,
            2,
            1,
            1,
            4,
            1,
            1,
            3,
            4,
            1,
            2,
            1,
            4,
            1,
            1,
            4,
            4,
            1,
            1,
            4,
            1,
            4,
            2,
            1,
            2
           ]
          }
         ],
         "name": "1956"
        },
        {
         "data": [
          {
           "coloraxis": "coloraxis",
           "customdata": [
            [
             1
            ],
            [
             3
            ],
            [
             4
            ],
            [
             4
            ],
            [
             1
            ],
            [
             3
            ],
            [
             1
            ],
            [
             2
            ],
            [
             4
            ],
            [
             4
            ],
            [
             1
            ],
            [
             2
            ],
            [
             1
            ],
            [
             1
            ],
            [
             4
            ],
            [
             4
            ],
            [
             2
            ],
            [
             4
            ],
            [
             4
            ],
            [
             4
            ],
            [
             2
            ],
            [
             4
            ],
            [
             2
            ],
            [
             1
            ],
            [
             1
            ],
            [
             1
            ],
            [
             4
            ],
            [
             1
            ],
            [
             2
            ],
            [
             1
            ],
            [
             2
            ],
            [
             1
            ],
            [
             3
            ],
            [
             1
            ],
            [
             4
            ],
            [
             4
            ],
            [
             1
            ],
            [
             1
            ],
            [
             1
            ],
            [
             1
            ],
            [
             1
            ],
            [
             1
            ],
            [
             1
            ],
            [
             2
            ],
            [
             1
            ],
            [
             2
            ],
            [
             1
            ],
            [
             3
            ],
            [
             1
            ],
            [
             3
            ],
            [
             1
            ],
            [
             3
            ],
            [
             3
            ],
            [
             1
            ],
            [
             1
            ],
            [
             1
            ],
            [
             4
            ],
            [
             2
            ],
            [
             1
            ],
            [
             1
            ],
            [
             1
            ],
            [
             4
            ],
            [
             1
            ],
            [
             2
            ],
            [
             1
            ],
            [
             3
            ],
            [
             1
            ],
            [
             4
            ],
            [
             2
            ],
            [
             1
            ],
            [
             1
            ],
            [
             1
            ],
            [
             4
            ],
            [
             4
            ],
            [
             1
            ],
            [
             1
            ],
            [
             3
            ],
            [
             1
            ],
            [
             3
            ],
            [
             4
            ],
            [
             1
            ],
            [
             2
            ],
            [
             2
            ],
            [
             3
            ],
            [
             1
            ]
           ],
           "geo": "geo",
           "hovertemplate": "date=1960<br>country_name=%{location}<br>sum_of_medals=%{z}<extra></extra>",
           "locationmode": "country names",
           "locations": [
            "Afghanistan",
            "Argentina",
            "Australia",
            "Austria",
            "Bahamas",
            "Belgium",
            "Bermuda",
            "Brazil",
            "Bulgaria",
            "Canada",
            "Chile",
            "Chinese Taipei",
            "Colombia",
            "Cuba",
            "Czechoslovakia",
            "Denmark",
            "Ethiopia",
            "Finland",
            "France",
            "Germany",
            "Ghana",
            "Great Britain",
            "Greece",
            "Guyana",
            "Haiti",
            "Hong Kong, China",
            "Hungary",
            "Iceland",
            "India",
            "Indonesia",
            "Iraq",
            "Ireland",
            "Islamic Republic of Iran",
            "Israel",
            "Italy",
            "Japan",
            "Kenya",
            "Lebanon",
            "Liberia",
            "Liechtenstein",
            "Luxembourg",
            "Malaya",
            "Malta",
            "Mexico",
            "Monaco",
            "Morocco",
            "Myanmar",
            "Netherlands",
            "Netherlands Antilles",
            "New Zealand",
            "Nigeria",
            "Norway",
            "Pakistan",
            "Panama",
            "Peru",
            "Philippines",
            "Poland",
            "Portugal",
            "Puerto Rico",
            "Republic of Korea",
            "Rhodesia",
            "Romania",
            "San Marino",
            "Singapore",
            "Somalia",
            "South Africa",
            "South Vietnam",
            "Soviet Union",
            "Spain",
            "Sri Lanka",
            "Sudan",
            "Suriname",
            "Sweden",
            "Switzerland",
            "Thailand",
            "Tunisia",
            "Turkey",
            "Uganda",
            "United Arab Republic",
            "United States of America",
            "Uruguay",
            "Venezuela",
            "West Indies Federation",
            "Yugoslavia",
            "Zimbabwe"
           ],
           "name": "",
           "type": "choropleth",
           "z": [
            1,
            3,
            4,
            4,
            1,
            3,
            1,
            2,
            4,
            4,
            1,
            2,
            1,
            1,
            4,
            4,
            2,
            4,
            4,
            4,
            2,
            4,
            2,
            1,
            1,
            1,
            4,
            1,
            2,
            1,
            2,
            1,
            3,
            1,
            4,
            4,
            1,
            1,
            1,
            1,
            1,
            1,
            1,
            2,
            1,
            2,
            1,
            3,
            1,
            3,
            1,
            3,
            3,
            1,
            1,
            1,
            4,
            2,
            1,
            1,
            1,
            4,
            1,
            2,
            1,
            3,
            1,
            4,
            2,
            1,
            1,
            1,
            4,
            4,
            1,
            1,
            3,
            1,
            3,
            4,
            1,
            2,
            2,
            3,
            1
           ]
          }
         ],
         "name": "1960"
        },
        {
         "data": [
          {
           "coloraxis": "coloraxis",
           "customdata": [
            [
             1
            ],
            [
             1
            ],
            [
             2
            ],
            [
             4
            ],
            [
             4
            ],
            [
             2
            ],
            [
             3
            ],
            [
             1
            ],
            [
             1
            ],
            [
             2
            ],
            [
             4
            ],
            [
             1
            ],
            [
             4
            ],
            [
             1
            ],
            [
             1
            ],
            [
             1
            ],
            [
             1
            ],
            [
             1
            ],
            [
             1
            ],
            [
             2
            ],
            [
             4
            ],
            [
             2
            ],
            [
             4
            ],
            [
             1
            ],
            [
             2
            ],
            [
             4
            ],
            [
             4
            ],
            [
             4
            ],
            [
             2
            ],
            [
             4
            ],
            [
             1
            ],
            [
             1
            ],
            [
             1
            ],
            [
             4
            ],
            [
             1
            ],
            [
             2
            ],
            [
             1
            ],
            [
             2
            ],
            [
             2
            ],
            [
             1
            ],
            [
             4
            ],
            [
             1
            ],
            [
             1
            ],
            [
             4
            ],
            [
             2
            ],
            [
             1
            ],
            [
             1
            ],
            [
             1
            ],
            [
             1
            ],
            [
             1
            ],
            [
             1
            ],
            [
             1
            ],
            [
             2
            ],
            [
             1
            ],
            [
             1
            ],
            [
             1
            ],
            [
             1
            ],
            [
             1
            ],
            [
             4
            ],
            [
             1
            ],
            [
             3
            ],
            [
             1
            ],
            [
             2
            ],
            [
             4
            ],
            [
             2
            ],
            [
             1
            ],
            [
             1
            ],
            [
             2
            ],
            [
             4
            ],
            [
             1
            ],
            [
             1
            ],
            [
             3
            ],
            [
             4
            ],
            [
             1
            ],
            [
             1
            ],
            [
             4
            ],
            [
             1
            ],
            [
             1
            ],
            [
             4
            ],
            [
             4
            ],
            [
             1
            ],
            [
             3
            ],
            [
             3
            ],
            [
             4
            ],
            [
             1
            ],
            [
             1
            ],
            [
             4
            ],
            [
             2
            ],
            [
             1
            ],
            [
             4
            ],
            [
             1
            ],
            [
             1
            ]
           ],
           "geo": "geo",
           "hovertemplate": "date=1964<br>country_name=%{location}<br>sum_of_medals=%{z}<extra></extra>",
           "locationmode": "country names",
           "locations": [
            "Afghanistan",
            "Algeria",
            "Argentina",
            "Australia",
            "Austria",
            "Bahamas",
            "Belgium",
            "Bermuda",
            "Bolivia",
            "Brazil",
            "Bulgaria",
            "Cambodia",
            "Canada",
            "Chad",
            "Chile",
            "Chinese Taipei",
            "Colombia",
            "Congo",
            "Costa Rica",
            "Cuba",
            "Czechoslovakia",
            "Democratic People's Republic of Korea",
            "Denmark",
            "Egypt",
            "Ethiopia",
            "Finland",
            "France",
            "Germany",
            "Ghana",
            "Great Britain",
            "Greece",
            "Guyana",
            "Hong Kong, China",
            "Hungary",
            "Iceland",
            "India",
            "Iraq",
            "Ireland",
            "Islamic Republic of Iran",
            "Israel",
            "Italy",
            "Ivory Coast",
            "Jamaica",
            "Japan",
            "Kenya",
            "Lebanon",
            "Libya",
            "Liechtenstein",
            "Luxembourg",
            "Madagascar",
            "Malaysia",
            "Mali",
            "Mexico",
            "Monaco",
            "Mongolia",
            "Morocco",
            "Myanmar",
            "Nepal",
            "Netherlands",
            "Netherlands Antilles",
            "New Zealand",
            "Niger",
            "Nigeria",
            "Norway",
            "Pakistan",
            "Panama",
            "Peru",
            "Philippines",
            "Poland",
            "Portugal",
            "Puerto Rico",
            "Republic of Korea",
            "Romania",
            "Senegal",
            "South Vietnam",
            "Soviet Union",
            "Spain",
            "Sri Lanka",
            "Sweden",
            "Switzerland",
            "Thailand",
            "Trinidad and Tobago",
            "Tunisia",
            "Turkey",
            "Uganda",
            "United Republic of Tanzania",
            "United States of America",
            "Uruguay",
            "Venezuela",
            "Yugoslavia",
            "Zambia",
            "Zimbabwe"
           ],
           "name": "",
           "type": "choropleth",
           "z": [
            1,
            1,
            2,
            4,
            4,
            2,
            3,
            1,
            1,
            2,
            4,
            1,
            4,
            1,
            1,
            1,
            1,
            1,
            1,
            2,
            4,
            2,
            4,
            1,
            2,
            4,
            4,
            4,
            2,
            4,
            1,
            1,
            1,
            4,
            1,
            2,
            1,
            2,
            2,
            1,
            4,
            1,
            1,
            4,
            2,
            1,
            1,
            1,
            1,
            1,
            1,
            1,
            2,
            1,
            1,
            1,
            1,
            1,
            4,
            1,
            3,
            1,
            2,
            4,
            2,
            1,
            1,
            2,
            4,
            1,
            1,
            3,
            4,
            1,
            1,
            4,
            1,
            1,
            4,
            4,
            1,
            3,
            3,
            4,
            1,
            1,
            4,
            2,
            1,
            4,
            1,
            1
           ]
          }
         ],
         "name": "1964"
        },
        {
         "data": [
          {
           "coloraxis": "coloraxis",
           "customdata": [
            [
             1
            ],
            [
             1
            ],
            [
             2
            ],
            [
             4
            ],
            [
             4
            ],
            [
             1
            ],
            [
             1
            ],
            [
             3
            ],
            [
             1
            ],
            [
             1
            ],
            [
             1
            ],
            [
             3
            ],
            [
             4
            ],
            [
             2
            ],
            [
             4
            ],
            [
             1
            ],
            [
             1
            ],
            [
             2
            ],
            [
             1
            ],
            [
             1
            ],
            [
             2
            ],
            [
             4
            ],
            [
             1
            ],
            [
             4
            ],
            [
             1
            ],
            [
             1
            ],
            [
             1
            ],
            [
             1
            ],
            [
             3
            ],
            [
             4
            ],
            [
             4
            ],
            [
             4
            ],
            [
             4
            ],
            [
             1
            ],
            [
             4
            ],
            [
             2
            ],
            [
             1
            ],
            [
             1
            ],
            [
             1
            ],
            [
             1
            ],
            [
             1
            ],
            [
             4
            ],
            [
             1
            ],
            [
             2
            ],
            [
             1
            ],
            [
             1
            ],
            [
             1
            ],
            [
             4
            ],
            [
             1
            ],
            [
             4
            ],
            [
             2
            ],
            [
             4
            ],
            [
             4
            ],
            [
             1
            ],
            [
             1
            ],
            [
             1
            ],
            [
             1
            ],
            [
             1
            ],
            [
             1
            ],
            [
             1
            ],
            [
             1
            ],
            [
             4
            ],
            [
             1
            ],
            [
             3
            ],
            [
             1
            ],
            [
             1
            ],
            [
             4
            ],
            [
             1
            ],
            [
             3
            ],
            [
             1
            ],
            [
             1
            ],
            [
             1
            ],
            [
             4
            ],
            [
             2
            ],
            [
             1
            ],
            [
             1
            ],
            [
             1
            ],
            [
             4
            ],
            [
             1
            ],
            [
             1
            ],
            [
             3
            ],
            [
             4
            ],
            [
             1
            ],
            [
             1
            ],
            [
             1
            ],
            [
             1
            ],
            [
             1
            ],
            [
             4
            ],
            [
             1
            ],
            [
             1
            ],
            [
             1
            ],
            [
             4
            ],
            [
             3
            ],
            [
             1
            ],
            [
             1
            ],
            [
             1
            ],
            [
             3
            ],
            [
             2
            ],
            [
             1
            ],
            [
             3
            ],
            [
             1
            ],
            [
             4
            ],
            [
             1
            ],
            [
             2
            ],
            [
             4
            ],
            [
             1
            ]
           ],
           "geo": "geo",
           "hovertemplate": "date=1968<br>country_name=%{location}<br>sum_of_medals=%{z}<extra></extra>",
           "locationmode": "country names",
           "locations": [
            "Afghanistan",
            "Algeria",
            "Argentina",
            "Australia",
            "Austria",
            "Bahamas",
            "Barbados",
            "Belgium",
            "Belize",
            "Bermuda",
            "Bolivia",
            "Brazil",
            "Bulgaria",
            "Cameroon",
            "Canada",
            "Chad",
            "Chile",
            "Chinese Taipei",
            "Colombia",
            "Costa Rica",
            "Cuba",
            "Czechoslovakia",
            "Democratic Republic of the Congo",
            "Denmark",
            "Dominican Republic",
            "Ecuador",
            "Egypt",
            "El Salvador",
            "Ethiopia",
            "Federal Republic of Germany",
            "Finland",
            "France",
            "German Democratic Republic (Germany)",
            "Ghana",
            "Great Britain",
            "Greece",
            "Guatemala",
            "Guinea",
            "Guyana",
            "Honduras",
            "Hong Kong, China",
            "Hungary",
            "Iceland",
            "India",
            "Indonesia",
            "Iraq",
            "Ireland",
            "Islamic Republic of Iran",
            "Israel",
            "Italy",
            "Jamaica",
            "Japan",
            "Kenya",
            "Kuwait",
            "Lebanon",
            "Liechtenstein",
            "Luxembourg",
            "Madagascar",
            "Malaysia",
            "Mali",
            "Malta",
            "Mexico",
            "Monaco",
            "Mongolia",
            "Morocco",
            "Myanmar",
            "Netherlands",
            "Netherlands Antilles",
            "New Zealand",
            "Nicaragua",
            "Niger",
            "Nigeria",
            "Norway",
            "Pakistan",
            "Panama",
            "Peru",
            "Philippines",
            "Poland",
            "Portugal",
            "Puerto Rico",
            "Republic of Korea",
            "Romania",
            "San Marino",
            "Senegal",
            "Sierra Leone",
            "Singapore",
            "South Vietnam",
            "Soviet Union",
            "Spain",
            "Sri Lanka",
            "Sudan",
            "Sweden",
            "Switzerland",
            "Syrian Arab Republic",
            "Thailand",
            "Trinidad and Tobago",
            "Tunisia",
            "Turkey",
            "US Virgin Islands",
            "Uganda",
            "United Republic of Tanzania",
            "United States of America",
            "Uruguay",
            "Venezuela",
            "Yugoslavia",
            "Zambia"
           ],
           "name": "",
           "type": "choropleth",
           "z": [
            1,
            1,
            2,
            4,
            4,
            1,
            1,
            3,
            1,
            1,
            1,
            3,
            4,
            2,
            4,
            1,
            1,
            2,
            1,
            1,
            2,
            4,
            1,
            4,
            1,
            1,
            1,
            1,
            3,
            4,
            4,
            4,
            4,
            1,
            4,
            2,
            1,
            1,
            1,
            1,
            1,
            4,
            1,
            2,
            1,
            1,
            1,
            4,
            1,
            4,
            2,
            4,
            4,
            1,
            1,
            1,
            1,
            1,
            1,
            1,
            1,
            4,
            1,
            3,
            1,
            1,
            4,
            1,
            3,
            1,
            1,
            1,
            4,
            2,
            1,
            1,
            1,
            4,
            1,
            1,
            3,
            4,
            1,
            1,
            1,
            1,
            1,
            4,
            1,
            1,
            1,
            4,
            3,
            1,
            1,
            1,
            3,
            2,
            1,
            3,
            1,
            4,
            1,
            2,
            4,
            1
           ]
          }
         ],
         "name": "1968"
        },
        {
         "data": [
          {
           "coloraxis": "coloraxis",
           "customdata": [
            [
             1
            ],
            [
             1
            ],
            [
             1
            ],
            [
             2
            ],
            [
             4
            ],
            [
             4
            ],
            [
             1
            ],
            [
             1
            ],
            [
             2
            ],
            [
             1
            ],
            [
             1
            ],
            [
             1
            ],
            [
             1
            ],
            [
             2
            ],
            [
             4
            ],
            [
             1
            ],
            [
             1
            ],
            [
             3
            ],
            [
             1
            ],
            [
             1
            ],
            [
             1
            ],
            [
             3
            ],
            [
             1
            ],
            [
             4
            ],
            [
             4
            ],
            [
             4
            ],
            [
             2
            ],
            [
             1
            ],
            [
             1
            ],
            [
             1
            ],
            [
             1
            ],
            [
             2
            ],
            [
             4
            ],
            [
             1
            ],
            [
             4
            ],
            [
             4
            ],
            [
             1
            ],
            [
             4
            ],
            [
             2
            ],
            [
             4
            ],
            [
             2
            ],
            [
             1
            ],
            [
             1
            ],
            [
             1
            ],
            [
             1
            ],
            [
             4
            ],
            [
             1
            ],
            [
             2
            ],
            [
             1
            ],
            [
             1
            ],
            [
             3
            ],
            [
             1
            ],
            [
             4
            ],
            [
             1
            ],
            [
             2
            ],
            [
             4
            ],
            [
             4
            ],
            [
             1
            ],
            [
             2
            ],
            [
             1
            ],
            [
             1
            ],
            [
             1
            ],
            [
             1
            ],
            [
             1
            ],
            [
             1
            ],
            [
             1
            ],
            [
             1
            ],
            [
             2
            ],
            [
             1
            ],
            [
             2
            ],
            [
             1
            ],
            [
             1
            ],
            [
             1
            ],
            [
             4
            ],
            [
             1
            ],
            [
             4
            ],
            [
             1
            ],
            [
             2
            ],
            [
             2
            ],
            [
             4
            ],
            [
             2
            ],
            [
             1
            ],
            [
             1
            ],
            [
             1
            ],
            [
             1
            ],
            [
             4
            ],
            [
             1
            ],
            [
             1
            ],
            [
             2
            ],
            [
             1
            ],
            [
             4
            ],
            [
             1
            ],
            [
             1
            ],
            [
             1
            ],
            [
             1
            ],
            [
             1
            ],
            [
             1
            ],
            [
             4
            ],
            [
             3
            ],
            [
             1
            ],
            [
             1
            ],
            [
             1
            ],
            [
             1
            ],
            [
             4
            ],
            [
             4
            ],
            [
             1
            ],
            [
             1
            ],
            [
             1
            ],
            [
             1
            ],
            [
             2
            ],
            [
             2
            ],
            [
             1
            ],
            [
             3
            ],
            [
             1
            ],
            [
             4
            ],
            [
             1
            ],
            [
             1
            ],
            [
             4
            ],
            [
             1
            ]
           ],
           "geo": "geo",
           "hovertemplate": "date=1972<br>country_name=%{location}<br>sum_of_medals=%{z}<extra></extra>",
           "locationmode": "country names",
           "locations": [
            "Afghanistan",
            "Albania",
            "Algeria",
            "Argentina",
            "Australia",
            "Austria",
            "Bahamas",
            "Barbados",
            "Belgium",
            "Belize",
            "Benin",
            "Bermuda",
            "Bolivia",
            "Brazil",
            "Bulgaria",
            "Cambodia",
            "Cameroon",
            "Canada",
            "Chad",
            "Chile",
            "Chinese Taipei",
            "Colombia",
            "Costa Rica",
            "Cuba",
            "Czechoslovakia",
            "Democratic People's Republic of Korea",
            "Denmark",
            "Dominican Republic",
            "Ecuador",
            "Egypt",
            "El Salvador",
            "Ethiopia",
            "Federal Republic of Germany",
            "Fiji",
            "Finland",
            "France",
            "Gabon",
            "German Democratic Republic (Germany)",
            "Ghana",
            "Great Britain",
            "Greece",
            "Guatemala",
            "Guyana",
            "Haiti",
            "Hong Kong, China",
            "Hungary",
            "Iceland",
            "India",
            "Indonesia",
            "Ireland",
            "Islamic Republic of Iran",
            "Israel",
            "Italy",
            "Ivory Coast",
            "Jamaica",
            "Japan",
            "Kenya",
            "Kuwait",
            "Lebanon",
            "Liberia",
            "Liechtenstein",
            "Luxembourg",
            "Madagascar",
            "Malawi",
            "Malaysia",
            "Mali",
            "Malta",
            "Mexico",
            "Monaco",
            "Mongolia",
            "Morocco",
            "Myanmar",
            "Nepal",
            "Netherlands",
            "Netherlands Antilles",
            "New Zealand",
            "Nicaragua",
            "Niger",
            "Nigeria",
            "Norway",
            "Pakistan",
            "Panama",
            "Paraguay",
            "Peru",
            "Philippines",
            "Poland",
            "Portugal",
            "Puerto Rico",
            "Republic of Korea",
            "Rhodesia",
            "Romania",
            "San Marino",
            "Saudi Arabia",
            "Senegal",
            "Singapore",
            "Somalia",
            "South Vietnam",
            "Soviet Union",
            "Spain",
            "Sri Lanka",
            "Sudan",
            "Suriname",
            "Swaziland",
            "Sweden",
            "Switzerland",
            "Syrian Arab Republic",
            "Thailand",
            "Togo",
            "Trinidad and Tobago",
            "Tunisia",
            "Turkey",
            "US Virgin Islands",
            "Uganda",
            "United Republic of Tanzania",
            "United States of America",
            "Uruguay",
            "Venezuela",
            "Yugoslavia",
            "Zambia"
           ],
           "name": "",
           "type": "choropleth",
           "z": [
            1,
            1,
            1,
            2,
            4,
            4,
            1,
            1,
            2,
            1,
            1,
            1,
            1,
            2,
            4,
            1,
            1,
            3,
            1,
            1,
            1,
            3,
            1,
            4,
            4,
            4,
            2,
            1,
            1,
            1,
            1,
            2,
            4,
            1,
            4,
            4,
            1,
            4,
            2,
            4,
            2,
            1,
            1,
            1,
            1,
            4,
            1,
            2,
            1,
            1,
            3,
            1,
            4,
            1,
            2,
            4,
            4,
            1,
            2,
            1,
            1,
            1,
            1,
            1,
            1,
            1,
            1,
            2,
            1,
            2,
            1,
            1,
            1,
            4,
            1,
            4,
            1,
            2,
            2,
            4,
            2,
            1,
            1,
            1,
            1,
            4,
            1,
            1,
            2,
            1,
            4,
            1,
            1,
            1,
            1,
            1,
            1,
            4,
            3,
            1,
            1,
            1,
            1,
            4,
            4,
            1,
            1,
            1,
            1,
            2,
            2,
            1,
            3,
            1,
            4,
            1,
            1,
            4,
            1
           ]
          }
         ],
         "name": "1972"
        },
        {
         "data": [
          {
           "coloraxis": "coloraxis",
           "customdata": [
            [
             1
            ],
            [
             1
            ],
            [
             1
            ],
            [
             1
            ],
            [
             3
            ],
            [
             4
            ],
            [
             1
            ],
            [
             1
            ],
            [
             3
            ],
            [
             1
            ],
            [
             2
            ],
            [
             1
            ],
            [
             2
            ],
            [
             4
            ],
            [
             1
            ],
            [
             1
            ],
            [
             4
            ],
            [
             1
            ],
            [
             1
            ],
            [
             1
            ],
            [
             1
            ],
            [
             1
            ],
            [
             1
            ],
            [
             4
            ],
            [
             4
            ],
            [
             3
            ],
            [
             3
            ],
            [
             1
            ],
            [
             1
            ],
            [
             1
            ],
            [
             1
            ],
            [
             4
            ],
            [
             1
            ],
            [
             4
            ],
            [
             4
            ],
            [
             4
            ],
            [
             1
            ],
            [
             4
            ],
            [
             1
            ],
            [
             1
            ],
            [
             1
            ],
            [
             1
            ],
            [
             1
            ],
            [
             1
            ],
            [
             4
            ],
            [
             1
            ],
            [
             1
            ],
            [
             1
            ],
            [
             1
            ],
            [
             1
            ],
            [
             3
            ],
            [
             1
            ],
            [
             4
            ],
            [
             3
            ],
            [
             4
            ],
            [
             1
            ],
            [
             1
            ],
            [
             1
            ],
            [
             1
            ],
            [
             2
            ],
            [
             1
            ],
            [
             1
            ],
            [
             3
            ],
            [
             1
            ],
            [
             2
            ],
            [
             1
            ],
            [
             1
            ],
            [
             4
            ],
            [
             1
            ],
            [
             4
            ],
            [
             1
            ],
            [
             1
            ],
            [
             1
            ],
            [
             4
            ],
            [
             2
            ],
            [
             1
            ],
            [
             1
            ],
            [
             1
            ],
            [
             1
            ],
            [
             1
            ],
            [
             4
            ],
            [
             2
            ],
            [
             2
            ],
            [
             4
            ],
            [
             4
            ],
            [
             1
            ],
            [
             1
            ],
            [
             1
            ],
            [
             1
            ],
            [
             4
            ],
            [
             2
            ],
            [
             1
            ],
            [
             1
            ],
            [
             4
            ],
            [
             4
            ],
            [
             2
            ],
            [
             1
            ],
            [
             2
            ],
            [
             1
            ],
            [
             1
            ],
            [
             1
            ],
            [
             1
            ],
            [
             4
            ],
            [
             1
            ],
            [
             2
            ],
            [
             4
            ],
            [
             1
            ]
           ],
           "geo": "geo",
           "hovertemplate": "date=1976<br>country_name=%{location}<br>sum_of_medals=%{z}<extra></extra>",
           "locationmode": "country names",
           "locations": [
            "Algeria",
            "Andorra",
            "Antigua and Barbuda",
            "Argentina",
            "Australia",
            "Austria",
            "Bahamas",
            "Barbados",
            "Belgium",
            "Belize",
            "Bermuda",
            "Bolivia",
            "Brazil",
            "Bulgaria",
            "Burkina Faso",
            "Cameroon",
            "Canada",
            "Cayman Islands",
            "Central African Republic",
            "Chile",
            "Chinese Taipei",
            "Colombia",
            "Costa Rica",
            "Cuba",
            "Czechoslovakia",
            "Democratic People's Republic of Korea",
            "Denmark",
            "Dominican Republic",
            "Ecuador",
            "Egypt",
            "Ethiopia",
            "Federal Republic of Germany",
            "Fiji",
            "Finland",
            "France",
            "German Democratic Republic (Germany)",
            "Ghana",
            "Great Britain",
            "Greece",
            "Guatemala",
            "Guyana",
            "Haiti",
            "Honduras",
            "Hong Kong, China",
            "Hungary",
            "Iceland",
            "India",
            "Indonesia",
            "Iraq",
            "Ireland",
            "Islamic Republic of Iran",
            "Israel",
            "Italy",
            "Jamaica",
            "Japan",
            "Kenya",
            "Kuwait",
            "Lebanon",
            "Libya",
            "Liechtenstein",
            "Luxembourg",
            "Malaysia",
            "Mexico",
            "Monaco",
            "Mongolia",
            "Morocco",
            "Nepal",
            "Netherlands",
            "Netherlands Antilles",
            "New Zealand",
            "Nicaragua",
            "Niger",
            "Nigeria",
            "Norway",
            "Pakistan",
            "Panama",
            "Papua New Guinea",
            "Paraguay",
            "Peru",
            "Philippines",
            "Poland",
            "Portugal",
            "Puerto Rico",
            "Republic of Korea",
            "Romania",
            "San Marino",
            "Saudi Arabia",
            "Senegal",
            "Singapore",
            "Soviet Union",
            "Spain",
            "Suriname",
            "Swaziland",
            "Sweden",
            "Switzerland",
            "Thailand",
            "Togo",
            "Trinidad and Tobago",
            "Tunisia",
            "Turkey",
            "US Virgin Islands",
            "Uganda",
            "United States of America",
            "Uruguay",
            "Venezuela",
            "Yugoslavia",
            "Zambia"
           ],
           "name": "",
           "type": "choropleth",
           "z": [
            1,
            1,
            1,
            1,
            3,
            4,
            1,
            1,
            3,
            1,
            2,
            1,
            2,
            4,
            1,
            1,
            4,
            1,
            1,
            1,
            1,
            1,
            1,
            4,
            4,
            3,
            3,
            1,
            1,
            1,
            1,
            4,
            1,
            4,
            4,
            4,
            1,
            4,
            1,
            1,
            1,
            1,
            1,
            1,
            4,
            1,
            1,
            1,
            1,
            1,
            3,
            1,
            4,
            3,
            4,
            1,
            1,
            1,
            1,
            2,
            1,
            1,
            3,
            1,
            2,
            1,
            1,
            4,
            1,
            4,
            1,
            1,
            1,
            4,
            2,
            1,
            1,
            1,
            1,
            1,
            4,
            2,
            2,
            4,
            4,
            1,
            1,
            1,
            1,
            4,
            2,
            1,
            1,
            4,
            4,
            2,
            1,
            2,
            1,
            1,
            1,
            1,
            4,
            1,
            2,
            4,
            1
           ]
          }
         ],
         "name": "1976"
        },
        {
         "data": [
          {
           "coloraxis": "coloraxis",
           "customdata": [
            [
             1
            ],
            [
             1
            ],
            [
             1
            ],
            [
             1
            ],
            [
             1
            ],
            [
             4
            ],
            [
             4
            ],
            [
             2
            ],
            [
             1
            ],
            [
             1
            ],
            [
             3
            ],
            [
             4
            ],
            [
             1
            ],
            [
             3
            ],
            [
             1
            ],
            [
             1
            ],
            [
             1
            ],
            [
             4
            ],
            [
             1
            ],
            [
             4
            ],
            [
             3
            ],
            [
             4
            ],
            [
             1
            ],
            [
             1
            ],
            [
             3
            ],
            [
             3
            ],
            [
             4
            ],
            [
             4
            ],
            [
             4
            ],
            [
             4
            ],
            [
             3
            ],
            [
             1
            ],
            [
             1
            ],
            [
             2
            ],
            [
             4
            ],
            [
             1
            ],
            [
             2
            ],
            [
             1
            ],
            [
             3
            ],
            [
             4
            ],
            [
             2
            ],
            [
             2
            ],
            [
             1
            ],
            [
             1
            ],
            [
             1
            ],
            [
             2
            ],
            [
             1
            ],
            [
             1
            ],
            [
             3
            ],
            [
             1
            ],
            [
             1
            ],
            [
             1
            ],
            [
             1
            ],
            [
             3
            ],
            [
             3
            ],
            [
             1
            ],
            [
             1
            ],
            [
             4
            ],
            [
             1
            ],
            [
             1
            ],
            [
             1
            ],
            [
             4
            ],
            [
             1
            ],
            [
             1
            ],
            [
             4
            ],
            [
             1
            ],
            [
             1
            ],
            [
             1
            ],
            [
             4
            ],
            [
             1
            ],
            [
             1
            ],
            [
             1
            ],
            [
             1
            ],
            [
             4
            ],
            [
             4
            ],
            [
             4
            ],
            [
             4
            ],
            [
             1
            ],
            [
             1
            ],
            [
             2
            ],
            [
             2
            ],
            [
             4
            ],
            [
             2
            ],
            [
             1
            ],
            [
             4
            ],
            [
             1
            ],
            [
             2
            ]
           ],
           "geo": "geo",
           "hovertemplate": "date=1980<br>country_name=%{location}<br>sum_of_medals=%{z}<extra></extra>",
           "locationmode": "country names",
           "locations": [
            "Afghanistan",
            "Algeria",
            "Andorra",
            "Angola",
            "Argentina",
            "Australia",
            "Austria",
            "Belgium",
            "Benin",
            "Bolivia",
            "Brazil",
            "Bulgaria",
            "Cameroon",
            "Canada",
            "Colombia",
            "Congo",
            "Costa Rica",
            "Cuba",
            "Cyprus",
            "Czechoslovakia",
            "Democratic People's Republic of Korea",
            "Denmark",
            "Dominican Republic",
            "Ecuador",
            "Ethiopia",
            "Federal Republic of Germany",
            "Finland",
            "France",
            "German Democratic Republic (Germany)",
            "Great Britain",
            "Greece",
            "Guatemala",
            "Guinea",
            "Guyana",
            "Hungary",
            "Iceland",
            "India",
            "Iraq",
            "Ireland",
            "Italy",
            "Jamaica",
            "Japan",
            "Jordan",
            "Kuwait",
            "Lao People's Democratic Republic",
            "Lebanon",
            "Lesotho",
            "Libya",
            "Liechtenstein",
            "Luxembourg",
            "Madagascar",
            "Mali",
            "Malta",
            "Mexico",
            "Mongolia",
            "Myanmar",
            "Nepal",
            "Netherlands",
            "New Zealand",
            "Nicaragua",
            "Nigeria",
            "Norway",
            "People's Republic of China",
            "Peru",
            "Poland",
            "Portugal",
            "Puerto Rico",
            "Republic of Korea",
            "Romania",
            "San Marino",
            "Senegal",
            "Seychelles",
            "Sierra Leone",
            "Soviet Union",
            "Spain",
            "Sweden",
            "Switzerland",
            "Syrian Arab Republic",
            "Trinidad and Tobago",
            "Uganda",
            "United Republic of Tanzania",
            "United States of America",
            "Venezuela",
            "Vietnam",
            "Yugoslavia",
            "Zambia",
            "Zimbabwe"
           ],
           "name": "",
           "type": "choropleth",
           "z": [
            1,
            1,
            1,
            1,
            1,
            4,
            4,
            2,
            1,
            1,
            3,
            4,
            1,
            3,
            1,
            1,
            1,
            4,
            1,
            4,
            3,
            4,
            1,
            1,
            3,
            3,
            4,
            4,
            4,
            4,
            3,
            1,
            1,
            2,
            4,
            1,
            2,
            1,
            3,
            4,
            2,
            2,
            1,
            1,
            1,
            2,
            1,
            1,
            3,
            1,
            1,
            1,
            1,
            3,
            3,
            1,
            1,
            4,
            1,
            1,
            1,
            4,
            1,
            1,
            4,
            1,
            1,
            1,
            4,
            1,
            1,
            1,
            1,
            4,
            4,
            4,
            4,
            1,
            1,
            2,
            2,
            4,
            2,
            1,
            4,
            1,
            2
           ]
          }
         ],
         "name": "1980"
        },
        {
         "data": [
          {
           "coloraxis": "coloraxis",
           "customdata": [
            [
             2
            ],
            [
             1
            ],
            [
             1
            ],
            [
             1
            ],
            [
             4
            ],
            [
             4
            ],
            [
             1
            ],
            [
             1
            ],
            [
             1
            ],
            [
             4
            ],
            [
             1
            ],
            [
             1
            ],
            [
             1
            ],
            [
             1
            ],
            [
             1
            ],
            [
             1
            ],
            [
             4
            ],
            [
             1
            ],
            [
             1
            ],
            [
             2
            ],
            [
             4
            ],
            [
             1
            ],
            [
             1
            ],
            [
             1
            ],
            [
             2
            ],
            [
             2
            ],
            [
             1
            ],
            [
             1
            ],
            [
             1
            ],
            [
             3
            ],
            [
             1
            ],
            [
             1
            ],
            [
             3
            ],
            [
             1
            ],
            [
             2
            ],
            [
             1
            ],
            [
             2
            ],
            [
             1
            ],
            [
             4
            ],
            [
             1
            ],
            [
             4
            ],
            [
             4
            ],
            [
             1
            ],
            [
             4
            ],
            [
             1
            ],
            [
             4
            ],
            [
             3
            ],
            [
             1
            ],
            [
             1
            ],
            [
             1
            ],
            [
             1
            ],
            [
             1
            ],
            [
             1
            ],
            [
             1
            ],
            [
             1
            ],
            [
             2
            ],
            [
             1
            ],
            [
             1
            ],
            [
             1
            ],
            [
             2
            ],
            [
             1
            ],
            [
             4
            ],
            [
             2
            ],
            [
             3
            ],
            [
             4
            ],
            [
             1
            ],
            [
             3
            ],
            [
             1
            ],
            [
             1
            ],
            [
             1
            ],
            [
             1
            ],
            [
             2
            ],
            [
             1
            ],
            [
             1
            ],
            [
             1
            ],
            [
             1
            ],
            [
             1
            ],
            [
             1
            ],
            [
             1
            ],
            [
             1
            ],
            [
             4
            ],
            [
             1
            ],
            [
             1
            ],
            [
             2
            ],
            [
             1
            ],
            [
             1
            ],
            [
             1
            ],
            [
             4
            ],
            [
             1
            ],
            [
             4
            ],
            [
             1
            ],
            [
             1
            ],
            [
             3
            ],
            [
             4
            ],
            [
             1
            ],
            [
             2
            ],
            [
             1
            ],
            [
             1
            ],
            [
             1
            ],
            [
             4
            ],
            [
             2
            ],
            [
             1
            ],
            [
             1
            ],
            [
             3
            ],
            [
             3
            ],
            [
             1
            ],
            [
             4
            ],
            [
             4
            ],
            [
             1
            ],
            [
             1
            ],
            [
             1
            ],
            [
             1
            ],
            [
             1
            ],
            [
             1
            ],
            [
             1
            ],
            [
             1
            ],
            [
             1
            ],
            [
             4
            ],
            [
             4
            ],
            [
             1
            ],
            [
             1
            ],
            [
             1
            ],
            [
             1
            ],
            [
             4
            ],
            [
             4
            ],
            [
             2
            ],
            [
             2
            ],
            [
             1
            ],
            [
             1
            ],
            [
             1
            ],
            [
             1
            ],
            [
             2
            ],
            [
             1
            ],
            [
             1
            ],
            [
             1
            ],
            [
             4
            ],
            [
             1
            ],
            [
             2
            ],
            [
             1
            ],
            [
             4
            ],
            [
             2
            ],
            [
             1
            ]
           ],
           "geo": "geo",
           "hovertemplate": "date=1984<br>country_name=%{location}<br>sum_of_medals=%{z}<extra></extra>",
           "locationmode": "country names",
           "locations": [
            "Algeria",
            "Andorra",
            "Antigua and Barbuda",
            "Argentina",
            "Australia",
            "Austria",
            "Bahamas",
            "Bahrain",
            "Barbados",
            "Belgium",
            "Belize",
            "Benin",
            "Bermuda",
            "Bhutan",
            "Bolivia",
            "Botswana",
            "Brazil",
            "British Virgin Islands",
            "Bulgaria",
            "Cameroon",
            "Canada",
            "Cayman Islands",
            "Central African Republic",
            "Chile",
            "Chinese Taipei",
            "Colombia",
            "Congo",
            "Costa Rica",
            "Cyprus",
            "Czechoslovakia",
            "Democratic People's Republic of Korea",
            "Democratic Republic of the Congo",
            "Denmark",
            "Djibouti",
            "Dominican Republic",
            "Ecuador",
            "Egypt",
            "El Salvador",
            "Federal Republic of Germany",
            "Fiji",
            "Finland",
            "France",
            "Gabon",
            "German Democratic Republic (Germany)",
            "Ghana",
            "Great Britain",
            "Greece",
            "Grenada",
            "Guatemala",
            "Guinea",
            "Guyana",
            "Haiti",
            "Honduras",
            "Hong Kong, China",
            "Hungary",
            "Iceland",
            "India",
            "Indonesia",
            "Iraq",
            "Ireland",
            "Israel",
            "Italy",
            "Ivory Coast",
            "Jamaica",
            "Japan",
            "Jordan",
            "Kenya",
            "Kuwait",
            "Lebanon",
            "Lesotho",
            "Liberia",
            "Liechtenstein",
            "Luxembourg",
            "Madagascar",
            "Malawi",
            "Malaysia",
            "Mali",
            "Malta",
            "Mauritania",
            "Mauritius",
            "Mexico",
            "Monaco",
            "Mongolia",
            "Morocco",
            "Mozambique",
            "Myanmar",
            "Nepal",
            "Netherlands",
            "Netherlands Antilles",
            "New Zealand",
            "Nicaragua",
            "Niger",
            "Nigeria",
            "Norway",
            "Oman",
            "Pakistan",
            "Panama",
            "Papua New Guinea",
            "Paraguay",
            "People's Republic of China",
            "Peru",
            "Philippines",
            "Poland",
            "Portugal",
            "Puerto Rico",
            "Qatar",
            "Republic of Korea",
            "Romania",
            "Samoa",
            "San Marino",
            "Saudi Arabia",
            "Senegal",
            "Seychelles",
            "Sierra Leone",
            "Singapore",
            "Solomon Islands",
            "Somalia",
            "Soviet Union",
            "Spain",
            "Sri Lanka",
            "Sudan",
            "Suriname",
            "Swaziland",
            "Sweden",
            "Switzerland",
            "Syrian Arab Republic",
            "Thailand",
            "Togo",
            "Tonga",
            "Trinidad and Tobago",
            "Tunisia",
            "Turkey",
            "US Virgin Islands",
            "Uganda",
            "United Republic of Tanzania",
            "United States of America",
            "Uruguay",
            "Venezuela",
            "Yemen Arab Republic",
            "Yugoslavia",
            "Zambia",
            "Zimbabwe"
           ],
           "name": "",
           "type": "choropleth",
           "z": [
            2,
            1,
            1,
            1,
            4,
            4,
            1,
            1,
            1,
            4,
            1,
            1,
            1,
            1,
            1,
            1,
            4,
            1,
            1,
            2,
            4,
            1,
            1,
            1,
            2,
            2,
            1,
            1,
            1,
            3,
            1,
            1,
            3,
            1,
            2,
            1,
            2,
            1,
            4,
            1,
            4,
            4,
            1,
            4,
            1,
            4,
            3,
            1,
            1,
            1,
            1,
            1,
            1,
            1,
            1,
            2,
            1,
            1,
            1,
            2,
            1,
            4,
            2,
            3,
            4,
            1,
            3,
            1,
            1,
            1,
            1,
            2,
            1,
            1,
            1,
            1,
            1,
            1,
            1,
            1,
            4,
            1,
            1,
            2,
            1,
            1,
            1,
            4,
            1,
            4,
            1,
            1,
            3,
            4,
            1,
            2,
            1,
            1,
            1,
            4,
            2,
            1,
            1,
            3,
            3,
            1,
            4,
            4,
            1,
            1,
            1,
            1,
            1,
            1,
            1,
            1,
            1,
            4,
            4,
            1,
            1,
            1,
            1,
            4,
            4,
            2,
            2,
            1,
            1,
            1,
            1,
            2,
            1,
            1,
            1,
            4,
            1,
            2,
            1,
            4,
            2,
            1
           ]
          }
         ],
         "name": "1984"
        },
        {
         "data": [
          {
           "coloraxis": "coloraxis",
           "customdata": [
            [
             1
            ],
            [
             1
            ],
            [
             1
            ],
            [
             1
            ],
            [
             1
            ],
            [
             1
            ],
            [
             3
            ],
            [
             1
            ],
            [
             4
            ],
            [
             4
            ],
            [
             1
            ],
            [
             1
            ],
            [
             1
            ],
            [
             1
            ],
            [
             2
            ],
            [
             1
            ],
            [
             1
            ],
            [
             1
            ],
            [
             1
            ],
            [
             1
            ],
            [
             1
            ],
            [
             4
            ],
            [
             1
            ],
            [
             4
            ],
            [
             1
            ],
            [
             1
            ],
            [
             4
            ],
            [
             1
            ],
            [
             1
            ],
            [
             2
            ],
            [
             1
            ],
            [
             2
            ],
            [
             1
            ],
            [
             2
            ],
            [
             1
            ],
            [
             4
            ],
            [
             1
            ],
            [
             1
            ],
            [
             4
            ],
            [
             2
            ],
            [
             1
            ],
            [
             1
            ],
            [
             1
            ],
            [
             1
            ],
            [
             4
            ],
            [
             1
            ],
            [
             4
            ],
            [
             4
            ],
            [
             1
            ],
            [
             1
            ],
            [
             4
            ],
            [
             1
            ],
            [
             4
            ],
            [
             2
            ],
            [
             1
            ],
            [
             1
            ],
            [
             1
            ],
            [
             1
            ],
            [
             1
            ],
            [
             1
            ],
            [
             1
            ],
            [
             1
            ],
            [
             4
            ],
            [
             1
            ],
            [
             1
            ],
            [
             2
            ],
            [
             1
            ],
            [
             1
            ],
            [
             2
            ],
            [
             1
            ],
            [
             4
            ],
            [
             1
            ],
            [
             2
            ],
            [
             4
            ],
            [
             1
            ],
            [
             4
            ],
            [
             1
            ],
            [
             1
            ],
            [
             1
            ],
            [
             1
            ],
            [
             1
            ],
            [
             1
            ],
            [
             2
            ],
            [
             1
            ],
            [
             1
            ],
            [
             1
            ],
            [
             1
            ],
            [
             1
            ],
            [
             1
            ],
            [
             1
            ],
            [
             1
            ],
            [
             2
            ],
            [
             1
            ],
            [
             2
            ],
            [
             3
            ],
            [
             1
            ],
            [
             1
            ],
            [
             1
            ],
            [
             4
            ],
            [
             2
            ],
            [
             4
            ],
            [
             1
            ],
            [
             1
            ],
            [
             4
            ],
            [
             1
            ],
            [
             2
            ],
            [
             1
            ],
            [
             1
            ],
            [
             1
            ],
            [
             4
            ],
            [
             2
            ],
            [
             2
            ],
            [
             4
            ],
            [
             2
            ],
            [
             1
            ],
            [
             1
            ],
            [
             4
            ],
            [
             4
            ],
            [
             1
            ],
            [
             1
            ],
            [
             1
            ],
            [
             1
            ],
            [
             1
            ],
            [
             2
            ],
            [
             1
            ],
            [
             1
            ],
            [
             1
            ],
            [
             1
            ],
            [
             4
            ],
            [
             4
            ],
            [
             1
            ],
            [
             1
            ],
            [
             2
            ],
            [
             1
            ],
            [
             4
            ],
            [
             4
            ],
            [
             1
            ],
            [
             2
            ],
            [
             1
            ],
            [
             1
            ],
            [
             1
            ],
            [
             1
            ],
            [
             3
            ],
            [
             2
            ],
            [
             1
            ],
            [
             1
            ],
            [
             1
            ],
            [
             4
            ],
            [
             1
            ],
            [
             1
            ],
            [
             1
            ],
            [
             1
            ],
            [
             1
            ],
            [
             1
            ],
            [
             4
            ],
            [
             1
            ],
            [
             1
            ]
           ],
           "geo": "geo",
           "hovertemplate": "date=1988<br>country_name=%{location}<br>sum_of_medals=%{z}<extra></extra>",
           "locationmode": "country names",
           "locations": [
            "Afghanistan",
            "Algeria",
            "American Samoa",
            "Andorra",
            "Angola",
            "Antigua and Barbuda",
            "Argentina",
            "Aruba",
            "Australia",
            "Austria",
            "Bahamas",
            "Bahrain",
            "Bangladesh",
            "Barbados",
            "Belgium",
            "Belize",
            "Benin",
            "Bermuda",
            "Bhutan",
            "Bolivia",
            "Botswana",
            "Brazil",
            "British Virgin Islands",
            "Bulgaria",
            "Burkina Faso",
            "Cameroon",
            "Canada",
            "Cayman Islands",
            "Central African Republic",
            "Chile",
            "Chinese Taipei",
            "Colombia",
            "Cook Islands",
            "Costa Rica",
            "Cyprus",
            "Czechoslovakia",
            "Democratic People's Republic of Korea",
            "Democratic Republic of the Congo",
            "Denmark",
            "Djibouti",
            "Dominican Republic",
            "Ecuador",
            "Egypt",
            "El Salvador",
            "Federal Republic of Germany",
            "Fiji",
            "Finland",
            "France",
            "Gabon",
            "Gambia",
            "German Democratic Republic (Germany)",
            "Ghana",
            "Great Britain",
            "Greece",
            "Grenada",
            "Guam",
            "Guatemala",
            "Guinea",
            "Guyana",
            "Haiti",
            "Honduras",
            "Hong Kong, China",
            "Hungary",
            "Iceland",
            "India",
            "Indonesia",
            "Iraq",
            "Ireland",
            "Islamic Republic of Iran",
            "Israel",
            "Italy",
            "Ivory Coast",
            "Jamaica",
            "Japan",
            "Jordan",
            "Kenya",
            "Kuwait",
            "Lao People's Democratic Republic",
            "Lebanon",
            "Lesotho",
            "Liberia",
            "Libya",
            "Liechtenstein",
            "Luxembourg",
            "Malawi",
            "Malaysia",
            "Maldives",
            "Mali",
            "Malta",
            "Mauritania",
            "Mauritius",
            "Mexico",
            "Monaco",
            "Mongolia",
            "Morocco",
            "Mozambique",
            "Myanmar",
            "Nepal",
            "Netherlands",
            "Netherlands Antilles",
            "New Zealand",
            "Niger",
            "Nigeria",
            "Norway",
            "Oman",
            "Pakistan",
            "Panama",
            "Papua New Guinea",
            "Paraguay",
            "People's Republic of China",
            "Peru",
            "Philippines",
            "Poland",
            "Portugal",
            "Puerto Rico",
            "Qatar",
            "Republic of Korea",
            "Romania",
            "Rwanda",
            "Saint Vincent and the Grenadines",
            "Samoa",
            "San Marino",
            "Saudi Arabia",
            "Senegal",
            "Sierra Leone",
            "Singapore",
            "Solomon Islands",
            "Somalia",
            "Soviet Union",
            "Spain",
            "Sri Lanka",
            "Sudan",
            "Suriname",
            "Swaziland",
            "Sweden",
            "Switzerland",
            "Syrian Arab Republic",
            "Thailand",
            "Togo",
            "Tonga",
            "Trinidad and Tobago",
            "Tunisia",
            "Turkey",
            "US Virgin Islands",
            "Uganda",
            "United Arab Emirates",
            "United Republic of Tanzania",
            "United States of America",
            "Uruguay",
            "Vanuatu",
            "Venezuela",
            "Vietnam",
            "Yemen Arab Republic",
            "Yemen Democratic Republic",
            "Yugoslavia",
            "Zambia",
            "Zimbabwe"
           ],
           "name": "",
           "type": "choropleth",
           "z": [
            1,
            1,
            1,
            1,
            1,
            1,
            3,
            1,
            4,
            4,
            1,
            1,
            1,
            1,
            2,
            1,
            1,
            1,
            1,
            1,
            1,
            4,
            1,
            4,
            1,
            1,
            4,
            1,
            1,
            2,
            1,
            2,
            1,
            2,
            1,
            4,
            1,
            1,
            4,
            2,
            1,
            1,
            1,
            1,
            4,
            1,
            4,
            4,
            1,
            1,
            4,
            1,
            4,
            2,
            1,
            1,
            1,
            1,
            1,
            1,
            1,
            1,
            4,
            1,
            1,
            2,
            1,
            1,
            2,
            1,
            4,
            1,
            2,
            4,
            1,
            4,
            1,
            1,
            1,
            1,
            1,
            1,
            2,
            1,
            1,
            1,
            1,
            1,
            1,
            1,
            1,
            2,
            1,
            2,
            3,
            1,
            1,
            1,
            4,
            2,
            4,
            1,
            1,
            4,
            1,
            2,
            1,
            1,
            1,
            4,
            2,
            2,
            4,
            2,
            1,
            1,
            4,
            4,
            1,
            1,
            1,
            1,
            1,
            2,
            1,
            1,
            1,
            1,
            4,
            4,
            1,
            1,
            2,
            1,
            4,
            4,
            1,
            2,
            1,
            1,
            1,
            1,
            3,
            2,
            1,
            1,
            1,
            4,
            1,
            1,
            1,
            1,
            1,
            1,
            4,
            1,
            1
           ]
          }
         ],
         "name": "1988"
        },
        {
         "data": [
          {
           "coloraxis": "coloraxis",
           "customdata": [
            [
             1
            ],
            [
             3
            ],
            [
             1
            ],
            [
             1
            ],
            [
             1
            ],
            [
             1
            ],
            [
             2
            ],
            [
             1
            ],
            [
             4
            ],
            [
             4
            ],
            [
             2
            ],
            [
             1
            ],
            [
             1
            ],
            [
             1
            ],
            [
             3
            ],
            [
             1
            ],
            [
             1
            ],
            [
             1
            ],
            [
             1
            ],
            [
             1
            ],
            [
             1
            ],
            [
             1
            ],
            [
             3
            ],
            [
             1
            ],
            [
             4
            ],
            [
             1
            ],
            [
             1
            ],
            [
             4
            ],
            [
             1
            ],
            [
             1
            ],
            [
             1
            ],
            [
             1
            ],
            [
             2
            ],
            [
             2
            ],
            [
             1
            ],
            [
             1
            ],
            [
             1
            ],
            [
             3
            ],
            [
             4
            ],
            [
             1
            ],
            [
             4
            ],
            [
             3
            ],
            [
             1
            ],
            [
             4
            ],
            [
             1
            ],
            [
             1
            ],
            [
             1
            ],
            [
             1
            ],
            [
             1
            ],
            [
             3
            ],
            [
             3
            ],
            [
             1
            ],
            [
             4
            ],
            [
             4
            ],
            [
             1
            ],
            [
             1
            ],
            [
             4
            ],
            [
             2
            ],
            [
             4
            ],
            [
             2
            ],
            [
             1
            ],
            [
             1
            ],
            [
             1
            ],
            [
             1
            ],
            [
             1
            ],
            [
             1
            ],
            [
             1
            ],
            [
             4
            ],
            [
             1
            ],
            [
             3
            ],
            [
             1
            ],
            [
             4
            ],
            [
             1
            ],
            [
             3
            ],
            [
             3
            ],
            [
             3
            ],
            [
             4
            ],
            [
             1
            ],
            [
             3
            ],
            [
             4
            ],
            [
             1
            ],
            [
             4
            ],
            [
             1
            ],
            [
             1
            ],
            [
             3
            ],
            [
             1
            ],
            [
             1
            ],
            [
             1
            ],
            [
             1
            ],
            [
             3
            ],
            [
             2
            ],
            [
             1
            ],
            [
             1
            ],
            [
             2
            ],
            [
             1
            ],
            [
             1
            ],
            [
             1
            ],
            [
             1
            ],
            [
             1
            ],
            [
             2
            ],
            [
             1
            ],
            [
             2
            ],
            [
             4
            ],
            [
             1
            ],
            [
             1
            ],
            [
             2
            ],
            [
             1
            ],
            [
             4
            ],
            [
             1
            ],
            [
             4
            ],
            [
             1
            ],
            [
             1
            ],
            [
             3
            ],
            [
             4
            ],
            [
             1
            ],
            [
             2
            ],
            [
             1
            ],
            [
             1
            ],
            [
             1
            ],
            [
             4
            ],
            [
             2
            ],
            [
             2
            ],
            [
             4
            ],
            [
             1
            ],
            [
             2
            ],
            [
             2
            ],
            [
             4
            ],
            [
             4
            ],
            [
             1
            ],
            [
             1
            ],
            [
             1
            ],
            [
             1
            ],
            [
             1
            ],
            [
             1
            ],
            [
             1
            ],
            [
             1
            ],
            [
             2
            ],
            [
             1
            ],
            [
             2
            ],
            [
             4
            ],
            [
             1
            ],
            [
             1
            ],
            [
             2
            ],
            [
             1
            ],
            [
             4
            ],
            [
             3
            ],
            [
             1
            ],
            [
             2
            ],
            [
             1
            ],
            [
             1
            ],
            [
             1
            ],
            [
             1
            ],
            [
             4
            ],
            [
             1
            ],
            [
             1
            ],
            [
             4
            ],
            [
             1
            ],
            [
             1
            ],
            [
             4
            ],
            [
             1
            ],
            [
             1
            ],
            [
             1
            ],
            [
             1
            ],
            [
             1
            ],
            [
             1
            ],
            [
             1
            ],
            [
             1
            ]
           ],
           "geo": "geo",
           "hovertemplate": "date=1992<br>country_name=%{location}<br>sum_of_medals=%{z}<extra></extra>",
           "locationmode": "country names",
           "locations": [
            "Albania",
            "Algeria",
            "American Samoa",
            "Andorra",
            "Angola",
            "Antigua and Barbuda",
            "Argentina",
            "Aruba",
            "Australia",
            "Austria",
            "Bahamas",
            "Bahrain",
            "Bangladesh",
            "Barbados",
            "Belgium",
            "Belize",
            "Benin",
            "Bermuda",
            "Bhutan",
            "Bolivia",
            "Bosnia and Herzegovina",
            "Botswana",
            "Brazil",
            "British Virgin Islands",
            "Bulgaria",
            "Burkina Faso",
            "Cameroon",
            "Canada",
            "Cayman Islands",
            "Central African Republic",
            "Chad",
            "Chile",
            "Chinese Taipei",
            "Colombia",
            "Congo",
            "Cook Islands",
            "Costa Rica",
            "Croatia",
            "Cuba",
            "Cyprus",
            "Czechoslovakia",
            "Democratic People's Republic of Korea",
            "Democratic Republic of the Congo",
            "Denmark",
            "Djibouti",
            "Dominican Republic",
            "Ecuador",
            "Egypt",
            "El Salvador",
            "Estonia",
            "Ethiopia",
            "Fiji",
            "Finland",
            "France",
            "Gabon",
            "Gambia",
            "Germany",
            "Ghana",
            "Great Britain",
            "Greece",
            "Guam",
            "Guatemala",
            "Guinea",
            "Guyana",
            "Haiti",
            "Honduras",
            "Hong Kong, China",
            "Hungary",
            "Iceland",
            "Independent Olympic Athletes",
            "India",
            "Indonesia",
            "Iraq",
            "Ireland",
            "Islamic Republic of Iran",
            "Israel",
            "Italy",
            "Ivory Coast",
            "Jamaica",
            "Japan",
            "Jordan",
            "Kenya",
            "Kuwait",
            "Lao People's Democratic Republic",
            "Latvia",
            "Lebanon",
            "Lesotho",
            "Libya",
            "Liechtenstein",
            "Lithuania",
            "Luxembourg",
            "Madagascar",
            "Malawi",
            "Malaysia",
            "Maldives",
            "Mali",
            "Malta",
            "Mauritania",
            "Mauritius",
            "Mexico",
            "Monaco",
            "Mongolia",
            "Morocco",
            "Mozambique",
            "Myanmar",
            "Namibia",
            "Nepal",
            "Netherlands",
            "Netherlands Antilles",
            "New Zealand",
            "Nicaragua",
            "Niger",
            "Nigeria",
            "Norway",
            "Oman",
            "Pakistan",
            "Panama",
            "Papua New Guinea",
            "Paraguay",
            "People's Republic of China",
            "Peru",
            "Philippines",
            "Poland",
            "Portugal",
            "Puerto Rico",
            "Qatar",
            "Republic of Korea",
            "Romania",
            "Rwanda",
            "Samoa",
            "San Marino",
            "Saudi Arabia",
            "Senegal",
            "Seychelles",
            "Sierra Leone",
            "Singapore",
            "Slovenia",
            "Solomon Islands",
            "South Africa",
            "Spain",
            "Sri Lanka",
            "Sudan",
            "Suriname",
            "Swaziland",
            "Sweden",
            "Switzerland",
            "Syrian Arab Republic",
            "Thailand",
            "Togo",
            "Tonga",
            "Trinidad and Tobago",
            "Tunisia",
            "Turkey",
            "US Virgin Islands",
            "Uganda",
            "Unified Team",
            "United Arab Emirates",
            "United Republic of Tanzania",
            "United States of America",
            "Uruguay",
            "Vanuatu",
            "Venezuela",
            "Vietnam",
            "Yemen",
            "Yugoslavia",
            "Zambia",
            "Zimbabwe"
           ],
           "name": "",
           "type": "choropleth",
           "z": [
            1,
            3,
            1,
            1,
            1,
            1,
            2,
            1,
            4,
            4,
            2,
            1,
            1,
            1,
            3,
            1,
            1,
            1,
            1,
            1,
            1,
            1,
            3,
            1,
            4,
            1,
            1,
            4,
            1,
            1,
            1,
            1,
            2,
            2,
            1,
            1,
            1,
            3,
            4,
            1,
            4,
            3,
            1,
            4,
            1,
            1,
            1,
            1,
            1,
            3,
            3,
            1,
            4,
            4,
            1,
            1,
            4,
            2,
            4,
            2,
            1,
            1,
            1,
            1,
            1,
            1,
            1,
            4,
            1,
            3,
            1,
            4,
            1,
            3,
            3,
            3,
            4,
            1,
            3,
            4,
            1,
            4,
            1,
            1,
            3,
            1,
            1,
            1,
            1,
            3,
            2,
            1,
            1,
            2,
            1,
            1,
            1,
            1,
            1,
            2,
            1,
            2,
            4,
            1,
            1,
            2,
            1,
            4,
            1,
            4,
            1,
            1,
            3,
            4,
            1,
            2,
            1,
            1,
            1,
            4,
            2,
            2,
            4,
            1,
            2,
            2,
            4,
            4,
            1,
            1,
            1,
            1,
            1,
            1,
            1,
            1,
            2,
            1,
            2,
            4,
            1,
            1,
            2,
            1,
            4,
            3,
            1,
            2,
            1,
            1,
            1,
            1,
            4,
            1,
            1,
            4,
            1,
            1,
            4,
            1,
            1,
            1,
            1,
            1,
            1,
            1,
            1
           ]
          }
         ],
         "name": "1992"
        },
        {
         "data": [
          {
           "coloraxis": "coloraxis",
           "customdata": [
            [
             1
            ],
            [
             1
            ],
            [
             1
            ],
            [
             1
            ],
            [
             2
            ],
            [
             4
            ],
            [
             2
            ],
            [
             1
            ],
            [
             1
            ],
            [
             1
            ],
            [
             1
            ],
            [
             1
            ],
            [
             4
            ],
            [
             1
            ],
            [
             1
            ],
            [
             1
            ],
            [
             1
            ],
            [
             1
            ],
            [
             1
            ],
            [
             1
            ],
            [
             1
            ],
            [
             3
            ],
            [
             3
            ],
            [
             1
            ],
            [
             4
            ],
            [
             2
            ],
            [
             1
            ],
            [
             1
            ],
            [
             1
            ],
            [
             1
            ],
            [
             4
            ],
            [
             1
            ],
            [
             4
            ],
            [
             3
            ],
            [
             1
            ],
            [
             1
            ],
            [
             1
            ],
            [
             1
            ],
            [
             1
            ],
            [
             1
            ],
            [
             1
            ],
            [
             1
            ],
            [
             3
            ],
            [
             1
            ],
            [
             4
            ],
            [
             3
            ],
            [
             1
            ],
            [
             1
            ],
            [
             1
            ],
            [
             4
            ],
            [
             1
            ],
            [
             1
            ],
            [
             4
            ],
            [
             1
            ],
            [
             1
            ],
            [
             1
            ],
            [
             2
            ],
            [
             1
            ],
            [
             1
            ],
            [
             3
            ],
            [
             4
            ],
            [
             1
            ],
            [
             1
            ],
            [
             1
            ],
            [
             3
            ],
            [
             4
            ],
            [
             2
            ]
           ],
           "geo": "geo",
           "hovertemplate": "date=1994<br>country_name=%{location}<br>sum_of_medals=%{z}<extra></extra>",
           "locationmode": "country names",
           "locations": [
            "American Samoa",
            "Andorra",
            "Argentina",
            "Armenia",
            "Australia",
            "Austria",
            "Belarus",
            "Belgium",
            "Bermuda",
            "Bosnia and Herzegovina",
            "Brazil",
            "Bulgaria",
            "Canada",
            "Chile",
            "Chinese Taipei",
            "Croatia",
            "Cyprus",
            "Czech Republic",
            "Denmark",
            "Estonia",
            "Fiji",
            "Finland",
            "France",
            "Georgia",
            "Germany",
            "Great Britain",
            "Greece",
            "Hungary",
            "Iceland",
            "Israel",
            "Italy",
            "Jamaica",
            "Japan",
            "Kazakhstan",
            "Kyrgyzstan",
            "Latvia",
            "Liechtenstein",
            "Lithuania",
            "Luxembourg",
            "Mexico",
            "Monaco",
            "Mongolia",
            "Netherlands",
            "New Zealand",
            "Norway",
            "People's Republic of China",
            "Poland",
            "Portugal",
            "Puerto Rico",
            "Republic of Korea",
            "Republic of Moldova",
            "Romania",
            "Russian Federation",
            "San Marino",
            "Senegal",
            "Slovakia",
            "Slovenia",
            "South Africa",
            "Spain",
            "Sweden",
            "Switzerland",
            "Trinidad and Tobago",
            "Turkey",
            "US Virgin Islands",
            "Ukraine",
            "United States of America",
            "Uzbekistan"
           ],
           "name": "",
           "type": "choropleth",
           "z": [
            1,
            1,
            1,
            1,
            2,
            4,
            2,
            1,
            1,
            1,
            1,
            1,
            4,
            1,
            1,
            1,
            1,
            1,
            1,
            1,
            1,
            3,
            3,
            1,
            4,
            2,
            1,
            1,
            1,
            1,
            4,
            1,
            4,
            3,
            1,
            1,
            1,
            1,
            1,
            1,
            1,
            1,
            3,
            1,
            4,
            3,
            1,
            1,
            1,
            4,
            1,
            1,
            4,
            1,
            1,
            1,
            2,
            1,
            1,
            3,
            4,
            1,
            1,
            1,
            3,
            4,
            2
           ]
          }
         ],
         "name": "1994"
        },
        {
         "data": [
          {
           "coloraxis": "coloraxis",
           "customdata": [
            [
             1
            ],
            [
             1
            ],
            [
             3
            ],
            [
             1
            ],
            [
             1
            ],
            [
             1
            ],
            [
             1
            ],
            [
             3
            ],
            [
             3
            ],
            [
             1
            ],
            [
             4
            ],
            [
             3
            ],
            [
             2
            ],
            [
             2
            ],
            [
             1
            ],
            [
             1
            ],
            [
             1
            ],
            [
             4
            ],
            [
             4
            ],
            [
             1
            ],
            [
             1
            ],
            [
             1
            ],
            [
             1
            ],
            [
             1
            ],
            [
             1
            ],
            [
             4
            ],
            [
             1
            ],
            [
             1
            ],
            [
             4
            ],
            [
             1
            ],
            [
             2
            ],
            [
             1
            ],
            [
             1
            ],
            [
             4
            ],
            [
             1
            ],
            [
             1
            ],
            [
             1
            ],
            [
             1
            ],
            [
             2
            ],
            [
             1
            ],
            [
             1
            ],
            [
             1
            ],
            [
             2
            ],
            [
             3
            ],
            [
             4
            ],
            [
             1
            ],
            [
             4
            ],
            [
             4
            ],
            [
             1
            ],
            [
             4
            ],
            [
             1
            ],
            [
             1
            ],
            [
             1
            ],
            [
             2
            ],
            [
             1
            ],
            [
             1
            ],
            [
             1
            ],
            [
             3
            ],
            [
             1
            ],
            [
             4
            ],
            [
             4
            ],
            [
             1
            ],
            [
             2
            ],
            [
             4
            ],
            [
             1
            ],
            [
             4
            ],
            [
             3
            ],
            [
             1
            ],
            [
             1
            ],
            [
             1
            ],
            [
             1
            ],
            [
             1
            ],
            [
             1
            ],
            [
             1
            ],
            [
             2
            ],
            [
             4
            ],
            [
             1
            ],
            [
             2
            ],
            [
             4
            ],
            [
             1
            ],
            [
             3
            ],
            [
             4
            ],
            [
             2
            ],
            [
             4
            ],
            [
             1
            ],
            [
             4
            ],
            [
             4
            ],
            [
             1
            ],
            [
             4
            ],
            [
             4
            ],
            [
             1
            ],
            [
             1
            ],
            [
             1
            ],
            [
             2
            ],
            [
             1
            ],
            [
             1
            ],
            [
             1
            ],
            [
             1
            ],
            [
             2
            ],
            [
             1
            ],
            [
             1
            ],
            [
             1
            ],
            [
             3
            ],
            [
             1
            ],
            [
             1
            ],
            [
             1
            ],
            [
             2
            ],
            [
             1
            ],
            [
             2
            ],
            [
             2
            ],
            [
             2
            ],
            [
             1
            ],
            [
             2
            ],
            [
             1
            ],
            [
             1
            ],
            [
             4
            ],
            [
             1
            ],
            [
             4
            ],
            [
             1
            ],
            [
             1
            ],
            [
             4
            ],
            [
             4
            ],
            [
             1
            ],
            [
             1
            ],
            [
             1
            ],
            [
             1
            ],
            [
             1
            ],
            [
             4
            ],
            [
             1
            ],
            [
             2
            ],
            [
             4
            ],
            [
             3
            ],
            [
             2
            ],
            [
             1
            ],
            [
             4
            ],
            [
             3
            ],
            [
             4
            ],
            [
             4
            ],
            [
             1
            ],
            [
             1
            ],
            [
             1
            ],
            [
             1
            ],
            [
             1
            ],
            [
             1
            ],
            [
             1
            ],
            [
             4
            ],
            [
             1
            ],
            [
             1
            ],
            [
             1
            ],
            [
             4
            ],
            [
             2
            ],
            [
             1
            ],
            [
             1
            ],
            [
             4
            ],
            [
             4
            ],
            [
             1
            ],
            [
             1
            ],
            [
             1
            ],
            [
             1
            ],
            [
             4
            ],
            [
             3
            ],
            [
             2
            ],
            [
             1
            ],
            [
             3
            ],
            [
             1
            ],
            [
             2
            ],
            [
             2
            ],
            [
             2
            ],
            [
             4
            ],
            [
             1
            ],
            [
             1
            ],
            [
             2
            ],
            [
             4
            ],
            [
             1
            ],
            [
             1
            ],
            [
             4
            ],
            [
             1
            ],
            [
             3
            ],
            [
             1
            ],
            [
             1
            ],
            [
             1
            ],
            [
             2
            ],
            [
             1
            ]
           ],
           "geo": "geo",
           "hovertemplate": "date=1996<br>country_name=%{location}<br>sum_of_medals=%{z}<extra></extra>",
           "locationmode": "country names",
           "locations": [
            "Afghanistan",
            "Albania",
            "Algeria",
            "American Samoa",
            "Andorra",
            "Angola",
            "Antigua and Barbuda",
            "Argentina",
            "Armenia",
            "Aruba",
            "Australia",
            "Austria",
            "Azerbaijan",
            "Bahamas",
            "Bahrain",
            "Bangladesh",
            "Barbados",
            "Belarus",
            "Belgium",
            "Belize",
            "Bermuda",
            "Bhutan",
            "Bolivia",
            "Bosnia and Herzegovina",
            "Botswana",
            "Brazil",
            "British Virgin Islands",
            "Brunei",
            "Bulgaria",
            "Burkina Faso",
            "Burundi",
            "Cambodia",
            "Cameroon",
            "Canada",
            "Cape Verde",
            "Cayman Islands",
            "Central African Republic",
            "Chile",
            "Chinese Taipei",
            "Colombia",
            "Congo",
            "Cook Islands",
            "Costa Rica",
            "Croatia",
            "Cuba",
            "Cyprus",
            "Czech Republic",
            "Democratic People's Republic of Korea",
            "Democratic Republic of the Congo",
            "Denmark",
            "Djibouti",
            "Dominica",
            "Dominican Republic",
            "Ecuador",
            "Egypt",
            "El Salvador",
            "Estonia",
            "Ethiopia",
            "Fiji",
            "Finland",
            "France",
            "Gabon",
            "Georgia",
            "Germany",
            "Ghana",
            "Great Britain",
            "Greece",
            "Guam",
            "Guatemala",
            "Guinea",
            "Guinea-Bissau",
            "Guyana",
            "Haiti",
            "Honduras",
            "Hong Kong, China",
            "Hungary",
            "Iceland",
            "India",
            "Indonesia",
            "Iraq",
            "Ireland",
            "Islamic Republic of Iran",
            "Israel",
            "Italy",
            "Ivory Coast",
            "Jamaica",
            "Japan",
            "Jordan",
            "Kazakhstan",
            "Kenya",
            "Kuwait",
            "Kyrgyzstan",
            "Lao People's Democratic Republic",
            "Latvia",
            "Lebanon",
            "Lesotho",
            "Libya",
            "Liechtenstein",
            "Lithuania",
            "Luxembourg",
            "Madagascar",
            "Malawi",
            "Malaysia",
            "Maldives",
            "Malta",
            "Mauritius",
            "Mexico",
            "Monaco",
            "Mongolia",
            "Morocco",
            "Mozambique",
            "Myanmar",
            "Namibia",
            "Nauru",
            "Nepal",
            "Netherlands",
            "Netherlands Antilles",
            "New Zealand",
            "Nicaragua",
            "Niger",
            "Nigeria",
            "Norway",
            "Oman",
            "Pakistan",
            "Panama",
            "Papua New Guinea",
            "Paraguay",
            "People's Republic of China",
            "Peru",
            "Philippines",
            "Poland",
            "Portugal",
            "Puerto Rico",
            "Qatar",
            "Republic of Korea",
            "Republic of Moldova",
            "Romania",
            "Russian Federation",
            "Rwanda",
            "Saint Lucia",
            "Saint Vincent and the Grenadines",
            "Samoa",
            "San Marino",
            "Saudi Arabia",
            "Senegal",
            "Serbia and Montenegro",
            "Seychelles",
            "Sierra Leone",
            "Singapore",
            "Slovakia",
            "Slovenia",
            "Solomon Islands",
            "Somalia",
            "South Africa",
            "Spain",
            "Sri Lanka",
            "Sudan",
            "Suriname",
            "Swaziland",
            "Sweden",
            "Switzerland",
            "Syrian Arab Republic",
            "Tajikistan",
            "Thailand",
            "The Former Yugoslav Republic of Macedonia",
            "Tonga",
            "Trinidad and Tobago",
            "Tunisia",
            "Turkey",
            "Turkmenistan",
            "US Virgin Islands",
            "Uganda",
            "Ukraine",
            "United Arab Emirates",
            "United Republic of Tanzania",
            "United States of America",
            "Uruguay",
            "Uzbekistan",
            "Venezuela",
            "Vietnam",
            "Yemen",
            "Zambia",
            "Zimbabwe"
           ],
           "name": "",
           "type": "choropleth",
           "z": [
            1,
            1,
            3,
            1,
            1,
            1,
            1,
            3,
            3,
            1,
            4,
            3,
            2,
            2,
            1,
            1,
            1,
            4,
            4,
            1,
            1,
            1,
            1,
            1,
            1,
            4,
            1,
            1,
            4,
            1,
            2,
            1,
            1,
            4,
            1,
            1,
            1,
            1,
            2,
            1,
            1,
            1,
            2,
            3,
            4,
            1,
            4,
            4,
            1,
            4,
            1,
            1,
            1,
            2,
            1,
            1,
            1,
            3,
            1,
            4,
            4,
            1,
            2,
            4,
            1,
            4,
            3,
            1,
            1,
            1,
            1,
            1,
            1,
            1,
            2,
            4,
            1,
            2,
            4,
            1,
            3,
            4,
            2,
            4,
            1,
            4,
            4,
            1,
            4,
            4,
            1,
            1,
            1,
            2,
            1,
            1,
            1,
            1,
            2,
            1,
            1,
            1,
            3,
            1,
            1,
            1,
            2,
            1,
            2,
            2,
            2,
            1,
            2,
            1,
            1,
            4,
            1,
            4,
            1,
            1,
            4,
            4,
            1,
            1,
            1,
            1,
            1,
            4,
            1,
            2,
            4,
            3,
            2,
            1,
            4,
            3,
            4,
            4,
            1,
            1,
            1,
            1,
            1,
            1,
            1,
            4,
            1,
            1,
            1,
            4,
            2,
            1,
            1,
            4,
            4,
            1,
            1,
            1,
            1,
            4,
            3,
            2,
            1,
            3,
            1,
            2,
            2,
            2,
            4,
            1,
            1,
            2,
            4,
            1,
            1,
            4,
            1,
            3,
            1,
            1,
            1,
            2,
            1
           ]
          }
         ],
         "name": "1996"
        },
        {
         "data": [
          {
           "coloraxis": "coloraxis",
           "customdata": [
            [
             1
            ],
            [
             1
            ],
            [
             1
            ],
            [
             2
            ],
            [
             4
            ],
            [
             1
            ],
            [
             2
            ],
            [
             2
            ],
            [
             1
            ],
            [
             1
            ],
            [
             1
            ],
            [
             2
            ],
            [
             4
            ],
            [
             1
            ],
            [
             1
            ],
            [
             1
            ],
            [
             1
            ],
            [
             4
            ],
            [
             1
            ],
            [
             2
            ],
            [
             1
            ],
            [
             4
            ],
            [
             4
            ],
            [
             1
            ],
            [
             4
            ],
            [
             2
            ],
            [
             1
            ],
            [
             1
            ],
            [
             1
            ],
            [
             1
            ],
            [
             1
            ],
            [
             1
            ],
            [
             1
            ],
            [
             4
            ],
            [
             1
            ],
            [
             4
            ],
            [
             2
            ],
            [
             1
            ],
            [
             1
            ],
            [
             1
            ],
            [
             1
            ],
            [
             1
            ],
            [
             1
            ],
            [
             1
            ],
            [
             4
            ],
            [
             1
            ],
            [
             4
            ],
            [
             3
            ],
            [
             1
            ],
            [
             1
            ],
            [
             1
            ],
            [
             4
            ],
            [
             1
            ],
            [
             1
            ],
            [
             4
            ],
            [
             1
            ],
            [
             1
            ],
            [
             1
            ],
            [
             1
            ],
            [
             1
            ],
            [
             3
            ],
            [
             4
            ],
            [
             1
            ],
            [
             1
            ],
            [
             1
            ],
            [
             1
            ],
            [
             2
            ],
            [
             4
            ],
            [
             1
            ],
            [
             1
            ],
            [
             1
            ]
           ],
           "geo": "geo",
           "hovertemplate": "date=1998<br>country_name=%{location}<br>sum_of_medals=%{z}<extra></extra>",
           "locationmode": "country names",
           "locations": [
            "Andorra",
            "Argentina",
            "Armenia",
            "Australia",
            "Austria",
            "Azerbaijan",
            "Belarus",
            "Belgium",
            "Bermuda",
            "Bosnia and Herzegovina",
            "Brazil",
            "Bulgaria",
            "Canada",
            "Chile",
            "Chinese Taipei",
            "Croatia",
            "Cyprus",
            "Czech Republic",
            "Democratic People's Republic of Korea",
            "Denmark",
            "Estonia",
            "Finland",
            "France",
            "Georgia",
            "Germany",
            "Great Britain",
            "Greece",
            "Hungary",
            "Iceland",
            "India",
            "Ireland",
            "Islamic Republic of Iran",
            "Israel",
            "Italy",
            "Jamaica",
            "Japan",
            "Kazakhstan",
            "Kenya",
            "Kyrgyzstan",
            "Latvia",
            "Liechtenstein",
            "Lithuania",
            "Monaco",
            "Mongolia",
            "Netherlands",
            "New Zealand",
            "Norway",
            "People's Republic of China",
            "Poland",
            "Portugal",
            "Puerto Rico",
            "Republic of Korea",
            "Republic of Moldova",
            "Romania",
            "Russian Federation",
            "Serbia and Montenegro",
            "Slovakia",
            "Slovenia",
            "South Africa",
            "Spain",
            "Sweden",
            "Switzerland",
            "The Former Yugoslav Republic of Macedonia",
            "Trinidad and Tobago",
            "Turkey",
            "US Virgin Islands",
            "Ukraine",
            "United States of America",
            "Uruguay",
            "Uzbekistan",
            "Venezuela"
           ],
           "name": "",
           "type": "choropleth",
           "z": [
            1,
            1,
            1,
            2,
            4,
            1,
            2,
            2,
            1,
            1,
            1,
            2,
            4,
            1,
            1,
            1,
            1,
            4,
            1,
            2,
            1,
            4,
            4,
            1,
            4,
            2,
            1,
            1,
            1,
            1,
            1,
            1,
            1,
            4,
            1,
            4,
            2,
            1,
            1,
            1,
            1,
            1,
            1,
            1,
            4,
            1,
            4,
            3,
            1,
            1,
            1,
            4,
            1,
            1,
            4,
            1,
            1,
            1,
            1,
            1,
            3,
            4,
            1,
            1,
            1,
            1,
            2,
            4,
            1,
            1,
            1
           ]
          }
         ],
         "name": "1998"
        },
        {
         "data": [
          {
           "coloraxis": "coloraxis",
           "customdata": [
            [
             1
            ],
            [
             4
            ],
            [
             1
            ],
            [
             1
            ],
            [
             1
            ],
            [
             1
            ],
            [
             3
            ],
            [
             2
            ],
            [
             1
            ],
            [
             4
            ],
            [
             3
            ],
            [
             3
            ],
            [
             3
            ],
            [
             1
            ],
            [
             1
            ],
            [
             2
            ],
            [
             4
            ],
            [
             3
            ],
            [
             1
            ],
            [
             1
            ],
            [
             1
            ],
            [
             1
            ],
            [
             1
            ],
            [
             1
            ],
            [
             3
            ],
            [
             1
            ],
            [
             4
            ],
            [
             1
            ],
            [
             1
            ],
            [
             1
            ],
            [
             2
            ],
            [
             4
            ],
            [
             1
            ],
            [
             1
            ],
            [
             1
            ],
            [
             2
            ],
            [
             3
            ],
            [
             2
            ],
            [
             1
            ],
            [
             1
            ],
            [
             2
            ],
            [
             3
            ],
            [
             4
            ],
            [
             1
            ],
            [
             4
            ],
            [
             3
            ],
            [
             1
            ],
            [
             4
            ],
            [
             1
            ],
            [
             1
            ],
            [
             1
            ],
            [
             1
            ],
            [
             1
            ],
            [
             1
            ],
            [
             1
            ],
            [
             3
            ],
            [
             4
            ],
            [
             1
            ],
            [
             1
            ],
            [
             4
            ],
            [
             4
            ],
            [
             1
            ],
            [
             2
            ],
            [
             4
            ],
            [
             1
            ],
            [
             4
            ],
            [
             4
            ],
            [
             1
            ],
            [
             1
            ],
            [
             1
            ],
            [
             1
            ],
            [
             1
            ],
            [
             1
            ],
            [
             1
            ],
            [
             1
            ],
            [
             4
            ],
            [
             2
            ],
            [
             1
            ],
            [
             2
            ],
            [
             4
            ],
            [
             1
            ],
            [
             2
            ],
            [
             3
            ],
            [
             2
            ],
            [
             4
            ],
            [
             1
            ],
            [
             3
            ],
            [
             4
            ],
            [
             1
            ],
            [
             3
            ],
            [
             4
            ],
            [
             2
            ],
            [
             2
            ],
            [
             1
            ],
            [
             4
            ],
            [
             1
            ],
            [
             1
            ],
            [
             1
            ],
            [
             1
            ],
            [
             3
            ],
            [
             1
            ],
            [
             1
            ],
            [
             1
            ],
            [
             1
            ],
            [
             1
            ],
            [
             1
            ],
            [
             1
            ],
            [
             4
            ],
            [
             1
            ],
            [
             1
            ],
            [
             3
            ],
            [
             2
            ],
            [
             1
            ],
            [
             1
            ],
            [
             1
            ],
            [
             1
            ],
            [
             4
            ],
            [
             1
            ],
            [
             3
            ],
            [
             1
            ],
            [
             1
            ],
            [
             3
            ],
            [
             4
            ],
            [
             1
            ],
            [
             1
            ],
            [
             1
            ],
            [
             1
            ],
            [
             1
            ],
            [
             1
            ],
            [
             1
            ],
            [
             4
            ],
            [
             1
            ],
            [
             1
            ],
            [
             4
            ],
            [
             2
            ],
            [
             1
            ],
            [
             2
            ],
            [
             4
            ],
            [
             3
            ],
            [
             4
            ],
            [
             4
            ],
            [
             1
            ],
            [
             1
            ],
            [
             1
            ],
            [
             1
            ],
            [
             1
            ],
            [
             1
            ],
            [
             3
            ],
            [
             1
            ],
            [
             4
            ],
            [
             1
            ],
            [
             1
            ],
            [
             1
            ],
            [
             4
            ],
            [
             2
            ],
            [
             3
            ],
            [
             4
            ],
            [
             2
            ],
            [
             1
            ],
            [
             1
            ],
            [
             1
            ],
            [
             4
            ],
            [
             4
            ],
            [
             1
            ],
            [
             1
            ],
            [
             3
            ],
            [
             2
            ],
            [
             1
            ],
            [
             3
            ],
            [
             1
            ],
            [
             3
            ],
            [
             1
            ],
            [
             1
            ],
            [
             1
            ],
            [
             4
            ],
            [
             1
            ],
            [
             1
            ],
            [
             4
            ],
            [
             2
            ],
            [
             4
            ],
            [
             1
            ],
            [
             1
            ],
            [
             2
            ],
            [
             1
            ],
            [
             1
            ]
           ],
           "geo": "geo",
           "hovertemplate": "date=2000<br>country_name=%{location}<br>sum_of_medals=%{z}<extra></extra>",
           "locationmode": "country names",
           "locations": [
            "Albania",
            "Algeria",
            "American Samoa",
            "Andorra",
            "Angola",
            "Antigua and Barbuda",
            "Argentina",
            "Armenia",
            "Aruba",
            "Australia",
            "Austria",
            "Azerbaijan",
            "Bahamas",
            "Bahrain",
            "Bangladesh",
            "Barbados",
            "Belarus",
            "Belgium",
            "Benin",
            "Bermuda",
            "Bhutan",
            "Bolivia",
            "Bosnia and Herzegovina",
            "Botswana",
            "Brazil",
            "Brunei",
            "Bulgaria",
            "Burkina Faso",
            "Burundi",
            "Cambodia",
            "Cameroon",
            "Canada",
            "Cape Verde",
            "Cayman Islands",
            "Central African Republic",
            "Chile",
            "Chinese Taipei",
            "Colombia",
            "Congo",
            "Cook Islands",
            "Costa Rica",
            "Croatia",
            "Cuba",
            "Cyprus",
            "Czech Republic",
            "Democratic People's Republic of Korea",
            "Democratic Republic of the Congo",
            "Denmark",
            "Djibouti",
            "Dominica",
            "Dominican Republic",
            "Ecuador",
            "Egypt",
            "El Salvador",
            "Equatorial Guinea",
            "Estonia",
            "Ethiopia",
            "Federated States of Micronesia",
            "Fiji",
            "Finland",
            "France",
            "Gabon",
            "Georgia",
            "Germany",
            "Ghana",
            "Great Britain",
            "Greece",
            "Grenada",
            "Guam",
            "Guatemala",
            "Guinea",
            "Guinea-Bissau",
            "Haiti",
            "Honduras",
            "Hong Kong, China",
            "Hungary",
            "Iceland",
            "Independent Olympic Athletes",
            "India",
            "Indonesia",
            "Iraq",
            "Ireland",
            "Islamic Republic of Iran",
            "Israel",
            "Italy",
            "Ivory Coast",
            "Jamaica",
            "Japan",
            "Jordan",
            "Kazakhstan",
            "Kenya",
            "Kuwait",
            "Kyrgyzstan",
            "Lao People's Democratic Republic",
            "Latvia",
            "Lebanon",
            "Lesotho",
            "Libya",
            "Liechtenstein",
            "Lithuania",
            "Luxembourg",
            "Madagascar",
            "Malaysia",
            "Maldives",
            "Mali",
            "Malta",
            "Mauritius",
            "Mexico",
            "Monaco",
            "Mongolia",
            "Morocco",
            "Mozambique",
            "Myanmar",
            "Namibia",
            "Nauru",
            "Nepal",
            "Netherlands",
            "Netherlands Antilles",
            "New Zealand",
            "Nicaragua",
            "Niger",
            "Nigeria",
            "Norway",
            "Oman",
            "Pakistan",
            "Palau",
            "Palestine",
            "Panama",
            "Papua New Guinea",
            "Paraguay",
            "People's Republic of China",
            "Peru",
            "Philippines",
            "Poland",
            "Portugal",
            "Puerto Rico",
            "Qatar",
            "Republic of Korea",
            "Republic of Moldova",
            "Romania",
            "Russian Federation",
            "Rwanda",
            "Saint Kitts and Nevis",
            "Saint Lucia",
            "Saint Vincent and the Grenadines",
            "Samoa",
            "San Marino",
            "Saudi Arabia",
            "Senegal",
            "Serbia and Montenegro",
            "Seychelles",
            "Sierra Leone",
            "Singapore",
            "Slovakia",
            "Slovenia",
            "South Africa",
            "Spain",
            "Sri Lanka",
            "Sudan",
            "Suriname",
            "Swaziland",
            "Sweden",
            "Switzerland",
            "Syrian Arab Republic",
            "Tajikistan",
            "Thailand",
            "The Former Yugoslav Republic of Macedonia",
            "Tonga",
            "Trinidad and Tobago",
            "Tunisia",
            "Turkey",
            "Turkmenistan",
            "US Virgin Islands",
            "Uganda",
            "Ukraine",
            "United Arab Emirates",
            "United Republic of Tanzania",
            "United States of America",
            "Uruguay",
            "Uzbekistan",
            "Vanuatu",
            "Venezuela",
            "Vietnam",
            "Zambia",
            "Zimbabwe"
           ],
           "name": "",
           "type": "choropleth",
           "z": [
            1,
            4,
            1,
            1,
            1,
            1,
            3,
            2,
            1,
            4,
            3,
            3,
            3,
            1,
            1,
            2,
            4,
            3,
            1,
            1,
            1,
            1,
            1,
            1,
            3,
            1,
            4,
            1,
            1,
            1,
            2,
            4,
            1,
            1,
            1,
            2,
            3,
            2,
            1,
            1,
            2,
            3,
            4,
            1,
            4,
            3,
            1,
            4,
            1,
            1,
            1,
            1,
            1,
            1,
            1,
            3,
            4,
            1,
            1,
            4,
            4,
            1,
            2,
            4,
            1,
            4,
            4,
            1,
            1,
            1,
            1,
            1,
            1,
            1,
            1,
            4,
            2,
            1,
            2,
            4,
            1,
            2,
            3,
            2,
            4,
            1,
            3,
            4,
            1,
            3,
            4,
            2,
            2,
            1,
            4,
            1,
            1,
            1,
            1,
            3,
            1,
            1,
            1,
            1,
            1,
            1,
            1,
            4,
            1,
            1,
            3,
            2,
            1,
            1,
            1,
            1,
            4,
            1,
            3,
            1,
            1,
            3,
            4,
            1,
            1,
            1,
            1,
            1,
            1,
            1,
            4,
            1,
            1,
            4,
            2,
            1,
            2,
            4,
            3,
            4,
            4,
            1,
            1,
            1,
            1,
            1,
            1,
            3,
            1,
            4,
            1,
            1,
            1,
            4,
            2,
            3,
            4,
            2,
            1,
            1,
            1,
            4,
            4,
            1,
            1,
            3,
            2,
            1,
            3,
            1,
            3,
            1,
            1,
            1,
            4,
            1,
            1,
            4,
            2,
            4,
            1,
            1,
            2,
            1,
            1
           ]
          }
         ],
         "name": "2000"
        },
        {
         "data": [
          {
           "coloraxis": "coloraxis",
           "customdata": [
            [
             1
            ],
            [
             1
            ],
            [
             1
            ],
            [
             2
            ],
            [
             4
            ],
            [
             1
            ],
            [
             2
            ],
            [
             1
            ],
            [
             1
            ],
            [
             1
            ],
            [
             1
            ],
            [
             3
            ],
            [
             1
            ],
            [
             4
            ],
            [
             1
            ],
            [
             1
            ],
            [
             1
            ],
            [
             3
            ],
            [
             1
            ],
            [
             3
            ],
            [
             1
            ],
            [
             1
            ],
            [
             4
            ],
            [
             1
            ],
            [
             4
            ],
            [
             4
            ],
            [
             1
            ],
            [
             4
            ],
            [
             3
            ],
            [
             1
            ],
            [
             1
            ],
            [
             1
            ],
            [
             1
            ],
            [
             1
            ],
            [
             1
            ],
            [
             1
            ],
            [
             1
            ],
            [
             4
            ],
            [
             1
            ],
            [
             3
            ],
            [
             1
            ],
            [
             1
            ],
            [
             1
            ],
            [
             1
            ],
            [
             1
            ],
            [
             1
            ],
            [
             1
            ],
            [
             1
            ],
            [
             1
            ],
            [
             1
            ],
            [
             1
            ],
            [
             3
            ],
            [
             1
            ],
            [
             4
            ],
            [
             4
            ],
            [
             3
            ],
            [
             1
            ],
            [
             3
            ],
            [
             1
            ],
            [
             1
            ],
            [
             4
            ],
            [
             1
            ],
            [
             1
            ],
            [
             1
            ],
            [
             2
            ],
            [
             1
            ],
            [
             1
            ],
            [
             3
            ],
            [
             4
            ],
            [
             1
            ],
            [
             1
            ],
            [
             1
            ],
            [
             1
            ],
            [
             1
            ],
            [
             1
            ],
            [
             1
            ],
            [
             4
            ],
            [
             1
            ],
            [
             1
            ]
           ],
           "geo": "geo",
           "hovertemplate": "date=2002<br>country_name=%{location}<br>sum_of_medals=%{z}<extra></extra>",
           "locationmode": "country names",
           "locations": [
            "Andorra",
            "Argentina",
            "Armenia",
            "Australia",
            "Austria",
            "Azerbaijan",
            "Belarus",
            "Belgium",
            "Bermuda",
            "Bosnia and Herzegovina",
            "Brazil",
            "Bulgaria",
            "Cameroon",
            "Canada",
            "Chile",
            "Chinese Taipei",
            "Costa Rica",
            "Croatia",
            "Cyprus",
            "Czech Republic",
            "Democratic People's Republic of Korea",
            "Denmark",
            "Estonia",
            "Fiji",
            "Finland",
            "France",
            "Georgia",
            "Germany",
            "Great Britain",
            "Greece",
            "Hong Kong, China",
            "Hungary",
            "Iceland",
            "India",
            "Ireland",
            "Islamic Republic of Iran",
            "Israel",
            "Italy",
            "Jamaica",
            "Japan",
            "Kazakhstan",
            "Kenya",
            "Kyrgyzstan",
            "Latvia",
            "Lebanon",
            "Liechtenstein",
            "Lithuania",
            "Mexico",
            "Monaco",
            "Mongolia",
            "Nepal",
            "Netherlands",
            "New Zealand",
            "Norway",
            "People's Republic of China",
            "Poland",
            "Puerto Rico",
            "Republic of Korea",
            "Republic of Moldova",
            "Romania",
            "Russian Federation",
            "San Marino",
            "Serbia and Montenegro",
            "Slovakia",
            "Slovenia",
            "South Africa",
            "Spain",
            "Sweden",
            "Switzerland",
            "Tajikistan",
            "Thailand",
            "The Former Yugoslav Republic of Macedonia",
            "Trinidad and Tobago",
            "Turkey",
            "US Virgin Islands",
            "Ukraine",
            "United States of America",
            "Uzbekistan",
            "Venezuela"
           ],
           "name": "",
           "type": "choropleth",
           "z": [
            1,
            1,
            1,
            2,
            4,
            1,
            2,
            1,
            1,
            1,
            1,
            3,
            1,
            4,
            1,
            1,
            1,
            3,
            1,
            3,
            1,
            1,
            4,
            1,
            4,
            4,
            1,
            4,
            3,
            1,
            1,
            1,
            1,
            1,
            1,
            1,
            1,
            4,
            1,
            3,
            1,
            1,
            1,
            1,
            1,
            1,
            1,
            1,
            1,
            1,
            1,
            3,
            1,
            4,
            4,
            3,
            1,
            3,
            1,
            1,
            4,
            1,
            1,
            1,
            2,
            1,
            1,
            3,
            4,
            1,
            1,
            1,
            1,
            1,
            1,
            1,
            4,
            1,
            1
           ]
          }
         ],
         "name": "2002"
        },
        {
         "data": [
          {
           "coloraxis": "coloraxis",
           "customdata": [
            [
             1
            ],
            [
             1
            ],
            [
             1
            ],
            [
             1
            ],
            [
             1
            ],
            [
             1
            ],
            [
             1
            ],
            [
             3
            ],
            [
             1
            ],
            [
             1
            ],
            [
             4
            ],
            [
             4
            ],
            [
             3
            ],
            [
             3
            ],
            [
             1
            ],
            [
             1
            ],
            [
             1
            ],
            [
             4
            ],
            [
             3
            ],
            [
             1
            ],
            [
             1
            ],
            [
             1
            ],
            [
             1
            ],
            [
             1
            ],
            [
             1
            ],
            [
             4
            ],
            [
             4
            ],
            [
             1
            ],
            [
             1
            ],
            [
             1
            ],
            [
             2
            ],
            [
             4
            ],
            [
             1
            ],
            [
             1
            ],
            [
             1
            ],
            [
             1
            ],
            [
             3
            ],
            [
             4
            ],
            [
             2
            ],
            [
             1
            ],
            [
             1
            ],
            [
             1
            ],
            [
             1
            ],
            [
             4
            ],
            [
             4
            ],
            [
             1
            ],
            [
             4
            ],
            [
             3
            ],
            [
             1
            ],
            [
             1
            ],
            [
             4
            ],
            [
             2
            ],
            [
             1
            ],
            [
             4
            ],
            [
             1
            ],
            [
             1
            ],
            [
             2
            ],
            [
             3
            ],
            [
             4
            ],
            [
             1
            ],
            [
             1
            ],
            [
             2
            ],
            [
             4
            ],
            [
             1
            ],
            [
             3
            ],
            [
             4
            ],
            [
             1
            ],
            [
             4
            ],
            [
             4
            ],
            [
             1
            ],
            [
             1
            ],
            [
             1
            ],
            [
             1
            ],
            [
             1
            ],
            [
             1
            ],
            [
             1
            ],
            [
             1
            ],
            [
             2
            ],
            [
             4
            ],
            [
             1
            ],
            [
             2
            ],
            [
             4
            ],
            [
             1
            ],
            [
             1
            ],
            [
             4
            ],
            [
             3
            ],
            [
             4
            ],
            [
             1
            ],
            [
             4
            ],
            [
             4
            ],
            [
             1
            ],
            [
             4
            ],
            [
             4
            ],
            [
             1
            ],
            [
             1
            ],
            [
             1
            ],
            [
             1
            ],
            [
             2
            ],
            [
             1
            ],
            [
             1
            ],
            [
             1
            ],
            [
             1
            ],
            [
             3
            ],
            [
             1
            ],
            [
             1
            ],
            [
             1
            ],
            [
             1
            ],
            [
             1
            ],
            [
             1
            ],
            [
             1
            ],
            [
             1
            ],
            [
             3
            ],
            [
             1
            ],
            [
             2
            ],
            [
             3
            ],
            [
             1
            ],
            [
             1
            ],
            [
             1
            ],
            [
             1
            ],
            [
             1
            ],
            [
             4
            ],
            [
             1
            ],
            [
             3
            ],
            [
             1
            ],
            [
             1
            ],
            [
             2
            ],
            [
             3
            ],
            [
             1
            ],
            [
             1
            ],
            [
             1
            ],
            [
             1
            ],
            [
             1
            ],
            [
             1
            ],
            [
             2
            ],
            [
             4
            ],
            [
             1
            ],
            [
             1
            ],
            [
             4
            ],
            [
             3
            ],
            [
             1
            ],
            [
             1
            ],
            [
             4
            ],
            [
             1
            ],
            [
             4
            ],
            [
             4
            ],
            [
             1
            ],
            [
             1
            ],
            [
             1
            ],
            [
             1
            ],
            [
             1
            ],
            [
             1
            ],
            [
             1
            ],
            [
             1
            ],
            [
             1
            ],
            [
             2
            ],
            [
             1
            ],
            [
             1
            ],
            [
             4
            ],
            [
             3
            ],
            [
             4
            ],
            [
             4
            ],
            [
             1
            ],
            [
             1
            ],
            [
             1
            ],
            [
             1
            ],
            [
             4
            ],
            [
             4
            ],
            [
             2
            ],
            [
             1
            ],
            [
             4
            ],
            [
             1
            ],
            [
             1
            ],
            [
             1
            ],
            [
             2
            ],
            [
             1
            ],
            [
             4
            ],
            [
             1
            ],
            [
             1
            ],
            [
             1
            ],
            [
             4
            ],
            [
             2
            ],
            [
             1
            ],
            [
             4
            ],
            [
             1
            ],
            [
             4
            ],
            [
             2
            ],
            [
             1
            ],
            [
             1
            ],
            [
             1
            ],
            [
             4
            ]
           ],
           "geo": "geo",
           "hovertemplate": "date=2004<br>country_name=%{location}<br>sum_of_medals=%{z}<extra></extra>",
           "locationmode": "country names",
           "locations": [
            "Afghanistan",
            "Albania",
            "Algeria",
            "American Samoa",
            "Andorra",
            "Angola",
            "Antigua and Barbuda",
            "Argentina",
            "Armenia",
            "Aruba",
            "Australia",
            "Austria",
            "Azerbaijan",
            "Bahamas",
            "Bahrain",
            "Bangladesh",
            "Barbados",
            "Belarus",
            "Belgium",
            "Benin",
            "Bermuda",
            "Bhutan",
            "Bolivia",
            "Bosnia and Herzegovina",
            "Botswana",
            "Brazil",
            "Bulgaria",
            "Burkina Faso",
            "Burundi",
            "Cambodia",
            "Cameroon",
            "Canada",
            "Cape Verde",
            "Cayman Islands",
            "Central African Republic",
            "Chad",
            "Chile",
            "Chinese Taipei",
            "Colombia",
            "Comoros",
            "Congo",
            "Cook Islands",
            "Costa Rica",
            "Croatia",
            "Cuba",
            "Cyprus",
            "Czech Republic",
            "Democratic People's Republic of Korea",
            "Democratic Republic of Timor-Leste",
            "Democratic Republic of the Congo",
            "Denmark",
            "Dominican Republic",
            "Ecuador",
            "Egypt",
            "El Salvador",
            "Equatorial Guinea",
            "Eritrea",
            "Estonia",
            "Ethiopia",
            "Federated States of Micronesia",
            "Fiji",
            "Finland",
            "France",
            "Gabon",
            "Georgia",
            "Germany",
            "Ghana",
            "Great Britain",
            "Greece",
            "Grenada",
            "Guam",
            "Guatemala",
            "Guinea",
            "Guinea-Bissau",
            "Guyana",
            "Haiti",
            "Honduras",
            "Hong Kong, China",
            "Hungary",
            "Iceland",
            "India",
            "Indonesia",
            "Iraq",
            "Ireland",
            "Islamic Republic of Iran",
            "Israel",
            "Italy",
            "Ivory Coast",
            "Jamaica",
            "Japan",
            "Jordan",
            "Kazakhstan",
            "Kenya",
            "Kiribati",
            "Kuwait",
            "Kyrgyzstan",
            "Lao People's Democratic Republic",
            "Latvia",
            "Lebanon",
            "Lesotho",
            "Libya",
            "Liechtenstein",
            "Lithuania",
            "Luxembourg",
            "Madagascar",
            "Malawi",
            "Malaysia",
            "Maldives",
            "Mali",
            "Malta",
            "Mauritius",
            "Mexico",
            "Monaco",
            "Mongolia",
            "Morocco",
            "Mozambique",
            "Myanmar",
            "Namibia",
            "Nauru",
            "Nepal",
            "Netherlands",
            "Netherlands Antilles",
            "New Zealand",
            "Nicaragua",
            "Niger",
            "Nigeria",
            "Norway",
            "Oman",
            "Pakistan",
            "Palau",
            "Palestine",
            "Panama",
            "Papua New Guinea",
            "Paraguay",
            "People's Republic of China",
            "Peru",
            "Philippines",
            "Poland",
            "Portugal",
            "Puerto Rico",
            "Qatar",
            "Republic of Korea",
            "Republic of Moldova",
            "Romania",
            "Russian Federation",
            "Rwanda",
            "Saint Kitts and Nevis",
            "Saint Lucia",
            "Saint Vincent and the Grenadines",
            "Samoa",
            "San Marino",
            "Sao Tome and Principe",
            "Saudi Arabia",
            "Senegal",
            "Serbia and Montenegro",
            "Seychelles",
            "Singapore",
            "Slovakia",
            "Slovenia",
            "South Africa",
            "Spain",
            "Sri Lanka",
            "Sudan",
            "Suriname",
            "Swaziland",
            "Sweden",
            "Switzerland",
            "Syrian Arab Republic",
            "Tajikistan",
            "Thailand",
            "The Former Yugoslav Republic of Macedonia",
            "Togo",
            "Tonga",
            "Trinidad and Tobago",
            "Tunisia",
            "Turkey",
            "Turkmenistan",
            "US Virgin Islands",
            "Uganda",
            "Ukraine",
            "United Arab Emirates",
            "United Republic of Tanzania",
            "United States of America",
            "Uruguay",
            "Uzbekistan",
            "Venezuela",
            "Vietnam",
            "Yemen",
            "Zambia",
            "Zimbabwe"
           ],
           "name": "",
           "type": "choropleth",
           "z": [
            1,
            1,
            1,
            1,
            1,
            1,
            1,
            3,
            1,
            1,
            4,
            4,
            3,
            3,
            1,
            1,
            1,
            4,
            3,
            1,
            1,
            1,
            1,
            1,
            1,
            4,
            4,
            1,
            1,
            1,
            2,
            4,
            1,
            1,
            1,
            1,
            3,
            4,
            2,
            1,
            1,
            1,
            1,
            4,
            4,
            1,
            4,
            3,
            1,
            1,
            4,
            2,
            1,
            4,
            1,
            1,
            2,
            3,
            4,
            1,
            1,
            2,
            4,
            1,
            3,
            4,
            1,
            4,
            4,
            1,
            1,
            1,
            1,
            1,
            1,
            1,
            1,
            2,
            4,
            1,
            2,
            4,
            1,
            1,
            4,
            3,
            4,
            1,
            4,
            4,
            1,
            4,
            4,
            1,
            1,
            1,
            1,
            2,
            1,
            1,
            1,
            1,
            3,
            1,
            1,
            1,
            1,
            1,
            1,
            1,
            1,
            3,
            1,
            2,
            3,
            1,
            1,
            1,
            1,
            1,
            4,
            1,
            3,
            1,
            1,
            2,
            3,
            1,
            1,
            1,
            1,
            1,
            1,
            2,
            4,
            1,
            1,
            4,
            3,
            1,
            1,
            4,
            1,
            4,
            4,
            1,
            1,
            1,
            1,
            1,
            1,
            1,
            1,
            1,
            2,
            1,
            1,
            4,
            3,
            4,
            4,
            1,
            1,
            1,
            1,
            4,
            4,
            2,
            1,
            4,
            1,
            1,
            1,
            2,
            1,
            4,
            1,
            1,
            1,
            4,
            2,
            1,
            4,
            1,
            4,
            2,
            1,
            1,
            1,
            4
           ]
          }
         ],
         "name": "2004"
        },
        {
         "data": [
          {
           "coloraxis": "coloraxis",
           "customdata": [
            [
             1
            ],
            [
             1
            ],
            [
             1
            ],
            [
             1
            ],
            [
             1
            ],
            [
             3
            ],
            [
             4
            ],
            [
             1
            ],
            [
             2
            ],
            [
             1
            ],
            [
             1
            ],
            [
             1
            ],
            [
             1
            ],
            [
             2
            ],
            [
             4
            ],
            [
             1
            ],
            [
             1
            ],
            [
             1
            ],
            [
             3
            ],
            [
             1
            ],
            [
             4
            ],
            [
             1
            ],
            [
             1
            ],
            [
             2
            ],
            [
             1
            ],
            [
             3
            ],
            [
             4
            ],
            [
             1
            ],
            [
             4
            ],
            [
             2
            ],
            [
             1
            ],
            [
             1
            ],
            [
             1
            ],
            [
             1
            ],
            [
             1
            ],
            [
             1
            ],
            [
             1
            ],
            [
             1
            ],
            [
             3
            ],
            [
             2
            ],
            [
             1
            ],
            [
             1
            ],
            [
             1
            ],
            [
             2
            ],
            [
             1
            ],
            [
             1
            ],
            [
             1
            ],
            [
             1
            ],
            [
             1
            ],
            [
             1
            ],
            [
             1
            ],
            [
             1
            ],
            [
             4
            ],
            [
             1
            ],
            [
             4
            ],
            [
             4
            ],
            [
             3
            ],
            [
             1
            ],
            [
             4
            ],
            [
             1
            ],
            [
             1
            ],
            [
             4
            ],
            [
             1
            ],
            [
             1
            ],
            [
             1
            ],
            [
             2
            ],
            [
             1
            ],
            [
             1
            ],
            [
             1
            ],
            [
             4
            ],
            [
             4
            ],
            [
             1
            ],
            [
             1
            ],
            [
             1
            ],
            [
             1
            ],
            [
             2
            ],
            [
             4
            ],
            [
             1
            ],
            [
             1
            ]
           ],
           "geo": "geo",
           "hovertemplate": "date=2006<br>country_name=%{location}<br>sum_of_medals=%{z}<extra></extra>",
           "locationmode": "country names",
           "locations": [
            "Albania",
            "Algeria",
            "Andorra",
            "Argentina",
            "Armenia",
            "Australia",
            "Austria",
            "Azerbaijan",
            "Belarus",
            "Belgium",
            "Bermuda",
            "Bosnia and Herzegovina",
            "Brazil",
            "Bulgaria",
            "Canada",
            "Chile",
            "Chinese Taipei",
            "Costa Rica",
            "Croatia",
            "Cyprus",
            "Czech Republic",
            "Democratic People's Republic of Korea",
            "Denmark",
            "Estonia",
            "Ethiopia",
            "Finland",
            "France",
            "Georgia",
            "Germany",
            "Great Britain",
            "Greece",
            "Hong Kong, China",
            "Hungary",
            "Iceland",
            "India",
            "Ireland",
            "Islamic Republic of Iran",
            "Israel",
            "Italy",
            "Japan",
            "Kazakhstan",
            "Kenya",
            "Kyrgyzstan",
            "Latvia",
            "Lebanon",
            "Liechtenstein",
            "Lithuania",
            "Luxembourg",
            "Madagascar",
            "Monaco",
            "Mongolia",
            "Nepal",
            "Netherlands",
            "New Zealand",
            "Norway",
            "People's Republic of China",
            "Poland",
            "Portugal",
            "Republic of Korea",
            "Republic of Moldova",
            "Romania",
            "Russian Federation",
            "San Marino",
            "Senegal",
            "Serbia and Montenegro",
            "Slovakia",
            "Slovenia",
            "South Africa",
            "Spain",
            "Sweden",
            "Switzerland",
            "Tajikistan",
            "Thailand",
            "The Former Yugoslav Republic of Macedonia",
            "Turkey",
            "Ukraine",
            "United States of America",
            "Uzbekistan",
            "Venezuela"
           ],
           "name": "",
           "type": "choropleth",
           "z": [
            1,
            1,
            1,
            1,
            1,
            3,
            4,
            1,
            2,
            1,
            1,
            1,
            1,
            2,
            4,
            1,
            1,
            1,
            3,
            1,
            4,
            1,
            1,
            2,
            1,
            3,
            4,
            1,
            4,
            2,
            1,
            1,
            1,
            1,
            1,
            1,
            1,
            1,
            3,
            2,
            1,
            1,
            1,
            2,
            1,
            1,
            1,
            1,
            1,
            1,
            1,
            1,
            4,
            1,
            4,
            4,
            3,
            1,
            4,
            1,
            1,
            4,
            1,
            1,
            1,
            2,
            1,
            1,
            1,
            4,
            4,
            1,
            1,
            1,
            1,
            2,
            4,
            1,
            1
           ]
          }
         ],
         "name": "2006"
        },
        {
         "data": [
          {
           "coloraxis": "coloraxis",
           "customdata": [
            [
             2
            ],
            [
             1
            ],
            [
             3
            ],
            [
             1
            ],
            [
             1
            ],
            [
             1
            ],
            [
             1
            ],
            [
             3
            ],
            [
             3
            ],
            [
             1
            ],
            [
             4
            ],
            [
             3
            ],
            [
             4
            ],
            [
             3
            ],
            [
             1
            ],
            [
             1
            ],
            [
             1
            ],
            [
             4
            ],
            [
             2
            ],
            [
             1
            ],
            [
             1
            ],
            [
             1
            ],
            [
             1
            ],
            [
             1
            ],
            [
             1
            ],
            [
             1
            ],
            [
             4
            ],
            [
             4
            ],
            [
             1
            ],
            [
             1
            ],
            [
             1
            ],
            [
             2
            ],
            [
             4
            ],
            [
             1
            ],
            [
             1
            ],
            [
             1
            ],
            [
             2
            ],
            [
             4
            ],
            [
             3
            ],
            [
             1
            ],
            [
             1
            ],
            [
             1
            ],
            [
             1
            ],
            [
             3
            ],
            [
             4
            ],
            [
             1
            ],
            [
             4
            ],
            [
             4
            ],
            [
             1
            ],
            [
             1
            ],
            [
             4
            ],
            [
             3
            ],
            [
             2
            ],
            [
             2
            ],
            [
             1
            ],
            [
             1
            ],
            [
             1
            ],
            [
             3
            ],
            [
             4
            ],
            [
             1
            ],
            [
             1
            ],
            [
             4
            ],
            [
             4
            ],
            [
             1
            ],
            [
             1
            ],
            [
             4
            ],
            [
             4
            ],
            [
             1
            ],
            [
             4
            ],
            [
             3
            ],
            [
             1
            ],
            [
             1
            ],
            [
             1
            ],
            [
             1
            ],
            [
             1
            ],
            [
             1
            ],
            [
             1
            ],
            [
             1
            ],
            [
             1
            ],
            [
             4
            ],
            [
             2
            ],
            [
             3
            ],
            [
             4
            ],
            [
             1
            ],
            [
             3
            ],
            [
             3
            ],
            [
             2
            ],
            [
             4
            ],
            [
             1
            ],
            [
             4
            ],
            [
             4
            ],
            [
             1
            ],
            [
             4
            ],
            [
             4
            ],
            [
             1
            ],
            [
             1
            ],
            [
             3
            ],
            [
             1
            ],
            [
             4
            ],
            [
             1
            ],
            [
             1
            ],
            [
             1
            ],
            [
             1
            ],
            [
             1
            ],
            [
             3
            ],
            [
             1
            ],
            [
             1
            ],
            [
             1
            ],
            [
             2
            ],
            [
             1
            ],
            [
             1
            ],
            [
             1
            ],
            [
             1
            ],
            [
             2
            ],
            [
             3
            ],
            [
             1
            ],
            [
             3
            ],
            [
             1
            ],
            [
             3
            ],
            [
             1
            ],
            [
             1
            ],
            [
             1
            ],
            [
             1
            ],
            [
             1
            ],
            [
             4
            ],
            [
             1
            ],
            [
             4
            ],
            [
             1
            ],
            [
             1
            ],
            [
             3
            ],
            [
             4
            ],
            [
             1
            ],
            [
             1
            ],
            [
             1
            ],
            [
             1
            ],
            [
             2
            ],
            [
             1
            ],
            [
             1
            ],
            [
             4
            ],
            [
             1
            ],
            [
             1
            ],
            [
             4
            ],
            [
             3
            ],
            [
             1
            ],
            [
             1
            ],
            [
             4
            ],
            [
             2
            ],
            [
             4
            ],
            [
             4
            ],
            [
             1
            ],
            [
             1
            ],
            [
             1
            ],
            [
             2
            ],
            [
             1
            ],
            [
             1
            ],
            [
             1
            ],
            [
             3
            ],
            [
             1
            ],
            [
             1
            ],
            [
             2
            ],
            [
             3
            ],
            [
             4
            ],
            [
             1
            ],
            [
             2
            ],
            [
             4
            ],
            [
             1
            ],
            [
             2
            ],
            [
             1
            ],
            [
             1
            ],
            [
             3
            ],
            [
             4
            ],
            [
             1
            ],
            [
             3
            ],
            [
             4
            ],
            [
             1
            ],
            [
             2
            ],
            [
             1
            ],
            [
             3
            ],
            [
             2
            ],
            [
             4
            ],
            [
             1
            ],
            [
             1
            ],
            [
             1
            ],
            [
             1
            ],
            [
             4
            ],
            [
             1
            ],
            [
             1
            ],
            [
             4
            ],
            [
             1
            ],
            [
             3
            ],
            [
             1
            ],
            [
             2
            ],
            [
             2
            ],
            [
             1
            ],
            [
             1
            ],
            [
             3
            ]
           ],
           "geo": "geo",
           "hovertemplate": "date=2008<br>country_name=%{location}<br>sum_of_medals=%{z}<extra></extra>",
           "locationmode": "country names",
           "locations": [
            "Afghanistan",
            "Albania",
            "Algeria",
            "American Samoa",
            "Andorra",
            "Angola",
            "Antigua and Barbuda",
            "Argentina",
            "Armenia",
            "Aruba",
            "Australia",
            "Austria",
            "Azerbaijan",
            "Bahamas",
            "Bahrain",
            "Bangladesh",
            "Barbados",
            "Belarus",
            "Belgium",
            "Belize",
            "Benin",
            "Bermuda",
            "Bhutan",
            "Bolivia",
            "Bosnia and Herzegovina",
            "Botswana",
            "Brazil",
            "Bulgaria",
            "Burkina Faso",
            "Burundi",
            "Cambodia",
            "Cameroon",
            "Canada",
            "Cape Verde",
            "Cayman Islands",
            "Central African Republic",
            "Chile",
            "Chinese Taipei",
            "Colombia",
            "Comoros",
            "Congo",
            "Cook Islands",
            "Costa Rica",
            "Croatia",
            "Cuba",
            "Cyprus",
            "Czech Republic",
            "Democratic People's Republic of Korea",
            "Democratic Republic of Timor-Leste",
            "Democratic Republic of the Congo",
            "Denmark",
            "Dominican Republic",
            "Ecuador",
            "Egypt",
            "El Salvador",
            "Equatorial Guinea",
            "Eritrea",
            "Estonia",
            "Ethiopia",
            "Federated States of Micronesia",
            "Fiji",
            "Finland",
            "France",
            "Gabon",
            "Gambia",
            "Georgia",
            "Germany",
            "Ghana",
            "Great Britain",
            "Greece",
            "Grenada",
            "Guam",
            "Guatemala",
            "Guinea",
            "Guinea-Bissau",
            "Guyana",
            "Haiti",
            "Honduras",
            "Hong Kong, China",
            "Hungary",
            "Iceland",
            "India",
            "Indonesia",
            "Iraq",
            "Ireland",
            "Islamic Republic of Iran",
            "Israel",
            "Italy",
            "Ivory Coast",
            "Jamaica",
            "Japan",
            "Jordan",
            "Kazakhstan",
            "Kenya",
            "Kiribati",
            "Kuwait",
            "Kyrgyzstan",
            "Lao People's Democratic Republic",
            "Latvia",
            "Lebanon",
            "Lesotho",
            "Liberia",
            "Libya",
            "Liechtenstein",
            "Lithuania",
            "Luxembourg",
            "Madagascar",
            "Malawi",
            "Malaysia",
            "Maldives",
            "Mali",
            "Malta",
            "Marshall Islands",
            "Mauritius",
            "Mexico",
            "Monaco",
            "Mongolia",
            "Montenegro",
            "Morocco",
            "Mozambique",
            "Myanmar",
            "Namibia",
            "Nauru",
            "Nepal",
            "Netherlands",
            "Netherlands Antilles",
            "New Zealand",
            "Nicaragua",
            "Niger",
            "Nigeria",
            "Norway",
            "Oman",
            "Pakistan",
            "Palau",
            "Palestine",
            "Panama",
            "Papua New Guinea",
            "Paraguay",
            "People's Republic of China",
            "Peru",
            "Philippines",
            "Poland",
            "Portugal",
            "Puerto Rico",
            "Qatar",
            "Republic of Korea",
            "Republic of Moldova",
            "Romania",
            "Russian Federation",
            "Rwanda",
            "Saint Kitts and Nevis",
            "Saint Lucia",
            "Samoa",
            "San Marino",
            "Saudi Arabia",
            "Senegal",
            "Serbia",
            "Seychelles",
            "Sierra Leone",
            "Singapore",
            "Slovakia",
            "Slovenia",
            "Solomon Islands",
            "South Africa",
            "Spain",
            "Sri Lanka",
            "Sudan",
            "Suriname",
            "Swaziland",
            "Sweden",
            "Switzerland",
            "Syrian Arab Republic",
            "Tajikistan",
            "Thailand",
            "The Former Yugoslav Republic of Macedonia",
            "Togo",
            "Tonga",
            "Trinidad and Tobago",
            "Tunisia",
            "Turkey",
            "Turkmenistan",
            "Tuvalu",
            "US Virgin Islands",
            "Uganda",
            "Ukraine",
            "United Arab Emirates",
            "United Republic of Tanzania",
            "United States of America",
            "Uruguay",
            "Uzbekistan",
            "Vanuatu",
            "Venezuela",
            "Vietnam",
            "Yemen",
            "Zambia",
            "Zimbabwe"
           ],
           "name": "",
           "type": "choropleth",
           "z": [
            2,
            1,
            3,
            1,
            1,
            1,
            1,
            3,
            3,
            1,
            4,
            3,
            4,
            3,
            1,
            1,
            1,
            4,
            2,
            1,
            1,
            1,
            1,
            1,
            1,
            1,
            4,
            4,
            1,
            1,
            1,
            2,
            4,
            1,
            1,
            1,
            2,
            4,
            3,
            1,
            1,
            1,
            1,
            3,
            4,
            1,
            4,
            4,
            1,
            1,
            4,
            3,
            2,
            2,
            1,
            1,
            1,
            3,
            4,
            1,
            1,
            4,
            4,
            1,
            1,
            4,
            4,
            1,
            4,
            3,
            1,
            1,
            1,
            1,
            1,
            1,
            1,
            1,
            1,
            4,
            2,
            3,
            4,
            1,
            3,
            3,
            2,
            4,
            1,
            4,
            4,
            1,
            4,
            4,
            1,
            1,
            3,
            1,
            4,
            1,
            1,
            1,
            1,
            1,
            3,
            1,
            1,
            1,
            2,
            1,
            1,
            1,
            1,
            2,
            3,
            1,
            3,
            1,
            3,
            1,
            1,
            1,
            1,
            1,
            4,
            1,
            4,
            1,
            1,
            3,
            4,
            1,
            1,
            1,
            1,
            2,
            1,
            1,
            4,
            1,
            1,
            4,
            3,
            1,
            1,
            4,
            2,
            4,
            4,
            1,
            1,
            1,
            2,
            1,
            1,
            1,
            3,
            1,
            1,
            2,
            3,
            4,
            1,
            2,
            4,
            1,
            2,
            1,
            1,
            3,
            4,
            1,
            3,
            4,
            1,
            2,
            1,
            3,
            2,
            4,
            1,
            1,
            1,
            1,
            4,
            1,
            1,
            4,
            1,
            3,
            1,
            2,
            2,
            1,
            1,
            3
           ]
          }
         ],
         "name": "2008"
        },
        {
         "data": [
          {
           "coloraxis": "coloraxis",
           "customdata": [
            [
             1
            ],
            [
             1
            ],
            [
             1
            ],
            [
             1
            ],
            [
             1
            ],
            [
             3
            ],
            [
             4
            ],
            [
             1
            ],
            [
             4
            ],
            [
             1
            ],
            [
             1
            ],
            [
             1
            ],
            [
             1
            ],
            [
             1
            ],
            [
             4
            ],
            [
             1
            ],
            [
             1
            ],
            [
             1
            ],
            [
             1
            ],
            [
             3
            ],
            [
             1
            ],
            [
             3
            ],
            [
             1
            ],
            [
             1
            ],
            [
             2
            ],
            [
             1
            ],
            [
             3
            ],
            [
             4
            ],
            [
             1
            ],
            [
             4
            ],
            [
             1
            ],
            [
             2
            ],
            [
             1
            ],
            [
             1
            ],
            [
             1
            ],
            [
             1
            ],
            [
             1
            ],
            [
             1
            ],
            [
             1
            ],
            [
             1
            ],
            [
             4
            ],
            [
             1
            ],
            [
             3
            ],
            [
             2
            ],
            [
             1
            ],
            [
             2
            ],
            [
             1
            ],
            [
             1
            ],
            [
             1
            ],
            [
             1
            ],
            [
             1
            ],
            [
             1
            ],
            [
             1
            ],
            [
             1
            ],
            [
             1
            ],
            [
             4
            ],
            [
             1
            ],
            [
             4
            ],
            [
             1
            ],
            [
             4
            ],
            [
             1
            ],
            [
             4
            ],
            [
             1
            ],
            [
             4
            ],
            [
             1
            ],
            [
             1
            ],
            [
             4
            ],
            [
             1
            ],
            [
             1
            ],
            [
             1
            ],
            [
             4
            ],
            [
             3
            ],
            [
             1
            ],
            [
             1
            ],
            [
             4
            ],
            [
             3
            ],
            [
             1
            ],
            [
             1
            ],
            [
             1
            ],
            [
             1
            ],
            [
             4
            ],
            [
             1
            ]
           ],
           "geo": "geo",
           "hovertemplate": "date=2010<br>country_name=%{location}<br>sum_of_medals=%{z}<extra></extra>",
           "locationmode": "country names",
           "locations": [
            "Albania",
            "Algeria",
            "Andorra",
            "Argentina",
            "Armenia",
            "Australia",
            "Austria",
            "Azerbaijan",
            "Belarus",
            "Belgium",
            "Bermuda",
            "Bosnia and Herzegovina",
            "Brazil",
            "Bulgaria",
            "Canada",
            "Cayman Islands",
            "Chile",
            "Chinese Taipei",
            "Colombia",
            "Croatia",
            "Cyprus",
            "Czech Republic",
            "Democratic People's Republic of Korea",
            "Denmark",
            "Estonia",
            "Ethiopia",
            "Finland",
            "France",
            "Georgia",
            "Germany",
            "Ghana",
            "Great Britain",
            "Greece",
            "Hong Kong, China",
            "Hungary",
            "Iceland",
            "India",
            "Ireland",
            "Islamic Republic of Iran",
            "Israel",
            "Italy",
            "Jamaica",
            "Japan",
            "Kazakhstan",
            "Kyrgyzstan",
            "Latvia",
            "Lebanon",
            "Liechtenstein",
            "Lithuania",
            "Mexico",
            "Monaco",
            "Mongolia",
            "Montenegro",
            "Morocco",
            "Nepal",
            "Netherlands",
            "New Zealand",
            "Norway",
            "Pakistan",
            "People's Republic of China",
            "Peru",
            "Poland",
            "Portugal",
            "Republic of Korea",
            "Republic of Moldova",
            "Romania",
            "Russian Federation",
            "San Marino",
            "Senegal",
            "Serbia",
            "Slovakia",
            "Slovenia",
            "South Africa",
            "Spain",
            "Sweden",
            "Switzerland",
            "Tajikistan",
            "The Former Yugoslav Republic of Macedonia",
            "Turkey",
            "Ukraine",
            "United States of America",
            "Uzbekistan"
           ],
           "name": "",
           "type": "choropleth",
           "z": [
            1,
            1,
            1,
            1,
            1,
            3,
            4,
            1,
            4,
            1,
            1,
            1,
            1,
            1,
            4,
            1,
            1,
            1,
            1,
            3,
            1,
            3,
            1,
            1,
            2,
            1,
            3,
            4,
            1,
            4,
            1,
            2,
            1,
            1,
            1,
            1,
            1,
            1,
            1,
            1,
            4,
            1,
            3,
            2,
            1,
            2,
            1,
            1,
            1,
            1,
            1,
            1,
            1,
            1,
            1,
            4,
            1,
            4,
            1,
            4,
            1,
            4,
            1,
            4,
            1,
            1,
            4,
            1,
            1,
            1,
            4,
            3,
            1,
            1,
            4,
            3,
            1,
            1,
            1,
            1,
            4,
            1
           ]
          }
         ],
         "name": "2010"
        },
        {
         "data": [
          {
           "coloraxis": "coloraxis",
           "customdata": [
            [
             2
            ],
            [
             1
            ],
            [
             2
            ],
            [
             1
            ],
            [
             1
            ],
            [
             1
            ],
            [
             1
            ],
            [
             4
            ],
            [
             3
            ],
            [
             1
            ],
            [
             4
            ],
            [
             1
            ],
            [
             4
            ],
            [
             2
            ],
            [
             2
            ],
            [
             1
            ],
            [
             1
            ],
            [
             4
            ],
            [
             3
            ],
            [
             1
            ],
            [
             1
            ],
            [
             1
            ],
            [
             1
            ],
            [
             1
            ],
            [
             1
            ],
            [
             2
            ],
            [
             4
            ],
            [
             1
            ],
            [
             3
            ],
            [
             1
            ],
            [
             1
            ],
            [
             1
            ],
            [
             2
            ],
            [
             4
            ],
            [
             1
            ],
            [
             1
            ],
            [
             1
            ],
            [
             1
            ],
            [
             1
            ],
            [
             3
            ],
            [
             4
            ],
            [
             1
            ],
            [
             1
            ],
            [
             1
            ],
            [
             1
            ],
            [
             4
            ],
            [
             4
            ],
            [
             2
            ],
            [
             4
            ],
            [
             3
            ],
            [
             1
            ],
            [
             1
            ],
            [
             4
            ],
            [
             1
            ],
            [
             3
            ],
            [
             1
            ],
            [
             3
            ],
            [
             1
            ],
            [
             1
            ],
            [
             3
            ],
            [
             4
            ],
            [
             1
            ],
            [
             1
            ],
            [
             3
            ],
            [
             4
            ],
            [
             2
            ],
            [
             4
            ],
            [
             4
            ],
            [
             1
            ],
            [
             4
            ],
            [
             2
            ],
            [
             2
            ],
            [
             1
            ],
            [
             2
            ],
            [
             1
            ],
            [
             1
            ],
            [
             1
            ],
            [
             1
            ],
            [
             1
            ],
            [
             2
            ],
            [
             4
            ],
            [
             1
            ],
            [
             1
            ],
            [
             3
            ],
            [
             3
            ],
            [
             1
            ],
            [
             4
            ],
            [
             4
            ],
            [
             1
            ],
            [
             4
            ],
            [
             1
            ],
            [
             4
            ],
            [
             4
            ],
            [
             1
            ],
            [
             4
            ],
            [
             4
            ],
            [
             1
            ],
            [
             2
            ],
            [
             1
            ],
            [
             1
            ],
            [
             3
            ],
            [
             1
            ],
            [
             1
            ],
            [
             1
            ],
            [
             1
            ],
            [
             1
            ],
            [
             3
            ],
            [
             1
            ],
            [
             1
            ],
            [
             1
            ],
            [
             3
            ],
            [
             1
            ],
            [
             1
            ],
            [
             1
            ],
            [
             1
            ],
            [
             1
            ],
            [
             4
            ],
            [
             1
            ],
            [
             3
            ],
            [
             2
            ],
            [
             2
            ],
            [
             1
            ],
            [
             1
            ],
            [
             1
            ],
            [
             1
            ],
            [
             1
            ],
            [
             4
            ],
            [
             4
            ],
            [
             1
            ],
            [
             1
            ],
            [
             1
            ],
            [
             4
            ],
            [
             1
            ],
            [
             1
            ],
            [
             1
            ],
            [
             1
            ],
            [
             1
            ],
            [
             1
            ],
            [
             1
            ],
            [
             4
            ],
            [
             1
            ],
            [
             1
            ],
            [
             4
            ],
            [
             2
            ],
            [
             3
            ],
            [
             2
            ],
            [
             4
            ],
            [
             1
            ],
            [
             4
            ],
            [
             4
            ],
            [
             1
            ],
            [
             1
            ],
            [
             1
            ],
            [
             1
            ],
            [
             1
            ],
            [
             1
            ],
            [
             2
            ],
            [
             1
            ],
            [
             4
            ],
            [
             1
            ],
            [
             2
            ],
            [
             3
            ],
            [
             4
            ],
            [
             1
            ],
            [
             4
            ],
            [
             4
            ],
            [
             1
            ],
            [
             1
            ],
            [
             1
            ],
            [
             1
            ],
            [
             4
            ],
            [
             3
            ],
            [
             1
            ],
            [
             2
            ],
            [
             3
            ],
            [
             1
            ],
            [
             1
            ],
            [
             1
            ],
            [
             4
            ],
            [
             3
            ],
            [
             4
            ],
            [
             1
            ],
            [
             1
            ],
            [
             1
            ],
            [
             2
            ],
            [
             4
            ],
            [
             1
            ],
            [
             1
            ],
            [
             4
            ],
            [
             1
            ],
            [
             2
            ],
            [
             1
            ],
            [
             2
            ],
            [
             1
            ],
            [
             1
            ],
            [
             1
            ],
            [
             1
            ]
           ],
           "geo": "geo",
           "hovertemplate": "date=2012<br>country_name=%{location}<br>sum_of_medals=%{z}<extra></extra>",
           "locationmode": "country names",
           "locations": [
            "Afghanistan",
            "Albania",
            "Algeria",
            "American Samoa",
            "Andorra",
            "Angola",
            "Antigua and Barbuda",
            "Argentina",
            "Armenia",
            "Aruba",
            "Australia",
            "Austria",
            "Azerbaijan",
            "Bahamas",
            "Bahrain",
            "Bangladesh",
            "Barbados",
            "Belarus",
            "Belgium",
            "Belize",
            "Benin",
            "Bermuda",
            "Bhutan",
            "Bolivia",
            "Bosnia and Herzegovina",
            "Botswana",
            "Brazil",
            "Brunei",
            "Bulgaria",
            "Burkina Faso",
            "Burundi",
            "Cambodia",
            "Cameroon",
            "Canada",
            "Cape Verde",
            "Cayman Islands",
            "Central African Republic",
            "Chad",
            "Chile",
            "Chinese Taipei",
            "Colombia",
            "Comoros",
            "Congo",
            "Cook Islands",
            "Costa Rica",
            "Croatia",
            "Cuba",
            "Cyprus",
            "Czech Republic",
            "Democratic People's Republic of Korea",
            "Democratic Republic of Timor-Leste",
            "Democratic Republic of the Congo",
            "Denmark",
            "Djibouti",
            "Dominican Republic",
            "Ecuador",
            "Egypt",
            "El Salvador",
            "Eritrea",
            "Estonia",
            "Ethiopia",
            "Federated States of Micronesia",
            "Fiji",
            "Finland",
            "France",
            "Gabon",
            "Georgia",
            "Germany",
            "Ghana",
            "Great Britain",
            "Greece",
            "Grenada",
            "Guam",
            "Guatemala",
            "Guinea",
            "Guinea-Bissau",
            "Guyana",
            "Haiti",
            "Honduras",
            "Hong Kong, China",
            "Hungary",
            "Iceland",
            "Independent Olympic Athletes",
            "India",
            "Indonesia",
            "Iraq",
            "Ireland",
            "Islamic Republic of Iran",
            "Israel",
            "Italy",
            "Ivory Coast",
            "Jamaica",
            "Japan",
            "Jordan",
            "Kazakhstan",
            "Kenya",
            "Kiribati",
            "Kuwait",
            "Kyrgyzstan",
            "Lao People's Democratic Republic",
            "Latvia",
            "Lebanon",
            "Lesotho",
            "Liberia",
            "Libya",
            "Liechtenstein",
            "Lithuania",
            "Luxembourg",
            "Madagascar",
            "Malawi",
            "Malaysia",
            "Maldives",
            "Mali",
            "Malta",
            "Marshall Islands",
            "Mauritius",
            "Mexico",
            "Monaco",
            "Mongolia",
            "Montenegro",
            "Morocco",
            "Mozambique",
            "Myanmar",
            "Namibia",
            "Nauru",
            "Nepal",
            "Netherlands",
            "New Zealand",
            "Nicaragua",
            "Niger",
            "Nigeria",
            "Norway",
            "Oman",
            "Pakistan",
            "Palau",
            "Palestine",
            "Panama",
            "Papua New Guinea",
            "Paraguay",
            "People's Republic of China",
            "Peru",
            "Philippines",
            "Poland",
            "Portugal",
            "Puerto Rico",
            "Qatar",
            "Republic of Korea",
            "Republic of Moldova",
            "Romania",
            "Russian Federation",
            "Rwanda",
            "Saint Kitts and Nevis",
            "Saint Lucia",
            "Saint Vincent and the Grenadines",
            "Samoa",
            "San Marino",
            "Saudi Arabia",
            "Senegal",
            "Serbia",
            "Seychelles",
            "Singapore",
            "Slovakia",
            "Slovenia",
            "Solomon Islands",
            "South Africa",
            "Spain",
            "Sri Lanka",
            "Sudan",
            "Suriname",
            "Swaziland",
            "Sweden",
            "Switzerland",
            "Syrian Arab Republic",
            "Tajikistan",
            "Thailand",
            "The Former Yugoslav Republic of Macedonia",
            "Togo",
            "Tonga",
            "Trinidad and Tobago",
            "Tunisia",
            "Turkey",
            "Turkmenistan",
            "Tuvalu",
            "US Virgin Islands",
            "Uganda",
            "Ukraine",
            "United Arab Emirates",
            "United Republic of Tanzania",
            "United States of America",
            "Uruguay",
            "Uzbekistan",
            "Vanuatu",
            "Venezuela",
            "Vietnam",
            "Yemen",
            "Zambia",
            "Zimbabwe"
           ],
           "name": "",
           "type": "choropleth",
           "z": [
            2,
            1,
            2,
            1,
            1,
            1,
            1,
            4,
            3,
            1,
            4,
            1,
            4,
            2,
            2,
            1,
            1,
            4,
            3,
            1,
            1,
            1,
            1,
            1,
            1,
            2,
            4,
            1,
            3,
            1,
            1,
            1,
            2,
            4,
            1,
            1,
            1,
            1,
            1,
            3,
            4,
            1,
            1,
            1,
            1,
            4,
            4,
            2,
            4,
            3,
            1,
            1,
            4,
            1,
            3,
            1,
            3,
            1,
            1,
            3,
            4,
            1,
            1,
            3,
            4,
            2,
            4,
            4,
            1,
            4,
            2,
            2,
            1,
            2,
            1,
            1,
            1,
            1,
            1,
            2,
            4,
            1,
            1,
            3,
            3,
            1,
            4,
            4,
            1,
            4,
            1,
            4,
            4,
            1,
            4,
            4,
            1,
            2,
            1,
            1,
            3,
            1,
            1,
            1,
            1,
            1,
            3,
            1,
            1,
            1,
            3,
            1,
            1,
            1,
            1,
            1,
            4,
            1,
            3,
            2,
            2,
            1,
            1,
            1,
            1,
            1,
            4,
            4,
            1,
            1,
            1,
            4,
            1,
            1,
            1,
            1,
            1,
            1,
            1,
            4,
            1,
            1,
            4,
            2,
            3,
            2,
            4,
            1,
            4,
            4,
            1,
            1,
            1,
            1,
            1,
            1,
            2,
            1,
            4,
            1,
            2,
            3,
            4,
            1,
            4,
            4,
            1,
            1,
            1,
            1,
            4,
            3,
            1,
            2,
            3,
            1,
            1,
            1,
            4,
            3,
            4,
            1,
            1,
            1,
            2,
            4,
            1,
            1,
            4,
            1,
            2,
            1,
            2,
            1,
            1,
            1,
            1
           ]
          }
         ],
         "name": "2012"
        },
        {
         "data": [
          {
           "coloraxis": "coloraxis",
           "customdata": [
            [
             1
            ],
            [
             1
            ],
            [
             1
            ],
            [
             1
            ],
            [
             3
            ],
            [
             4
            ],
            [
             1
            ],
            [
             3
            ],
            [
             1
            ],
            [
             1
            ],
            [
             1
            ],
            [
             1
            ],
            [
             1
            ],
            [
             1
            ],
            [
             4
            ],
            [
             1
            ],
            [
             1
            ],
            [
             1
            ],
            [
             2
            ],
            [
             1
            ],
            [
             4
            ],
            [
             1
            ],
            [
             1
            ],
            [
             1
            ],
            [
             1
            ],
            [
             4
            ],
            [
             4
            ],
            [
             1
            ],
            [
             4
            ],
            [
             4
            ],
            [
             1
            ],
            [
             1
            ],
            [
             1
            ],
            [
             1
            ],
            [
             1
            ],
            [
             1
            ],
            [
             1
            ],
            [
             1
            ],
            [
             1
            ],
            [
             3
            ],
            [
             1
            ],
            [
             4
            ],
            [
             2
            ],
            [
             1
            ],
            [
             4
            ],
            [
             1
            ],
            [
             1
            ],
            [
             1
            ],
            [
             1
            ],
            [
             1
            ],
            [
             1
            ],
            [
             1
            ],
            [
             1
            ],
            [
             1
            ],
            [
             1
            ],
            [
             1
            ],
            [
             4
            ],
            [
             1
            ],
            [
             4
            ],
            [
             1
            ],
            [
             1
            ],
            [
             4
            ],
            [
             1
            ],
            [
             1
            ],
            [
             4
            ],
            [
             1
            ],
            [
             4
            ],
            [
             1
            ],
            [
             1
            ],
            [
             4
            ],
            [
             1
            ],
            [
             1
            ],
            [
             2
            ],
            [
             4
            ],
            [
             1
            ],
            [
             4
            ],
            [
             4
            ],
            [
             1
            ],
            [
             1
            ],
            [
             1
            ],
            [
             1
            ],
            [
             1
            ],
            [
             1
            ],
            [
             1
            ],
            [
             3
            ],
            [
             4
            ],
            [
             1
            ],
            [
             1
            ],
            [
             1
            ]
           ],
           "geo": "geo",
           "hovertemplate": "date=2014<br>country_name=%{location}<br>sum_of_medals=%{z}<extra></extra>",
           "locationmode": "country names",
           "locations": [
            "Albania",
            "Andorra",
            "Argentina",
            "Armenia",
            "Australia",
            "Austria",
            "Azerbaijan",
            "Belarus",
            "Belgium",
            "Bermuda",
            "Bosnia and Herzegovina",
            "Brazil",
            "British Virgin Islands",
            "Bulgaria",
            "Canada",
            "Cayman Islands",
            "Chile",
            "Chinese Taipei",
            "Croatia",
            "Cyprus",
            "Czech Republic",
            "Democratic Republic of Timor-Leste",
            "Denmark",
            "Dominica",
            "Estonia",
            "Finland",
            "France",
            "Georgia",
            "Germany",
            "Great Britain",
            "Greece",
            "Hong Kong, China",
            "Hungary",
            "Iceland",
            "Independent Olympic Athletes",
            "India",
            "Ireland",
            "Islamic Republic of Iran",
            "Israel",
            "Italy",
            "Jamaica",
            "Japan",
            "Kazakhstan",
            "Kyrgyzstan",
            "Latvia",
            "Lebanon",
            "Liechtenstein",
            "Lithuania",
            "Luxembourg",
            "Malta",
            "Mexico",
            "Monaco",
            "Mongolia",
            "Montenegro",
            "Morocco",
            "Nepal",
            "Netherlands",
            "New Zealand",
            "Norway",
            "Pakistan",
            "Paraguay",
            "People's Republic of China",
            "Peru",
            "Philippines",
            "Poland",
            "Portugal",
            "Republic of Korea",
            "Republic of Moldova",
            "Romania",
            "Russian Federation",
            "San Marino",
            "Serbia",
            "Slovakia",
            "Slovenia",
            "Spain",
            "Sweden",
            "Switzerland",
            "Tajikistan",
            "Thailand",
            "The Former Yugoslav Republic of Macedonia",
            "Togo",
            "Tonga",
            "Turkey",
            "US Virgin Islands",
            "Ukraine",
            "United States of America",
            "Uzbekistan",
            "Venezuela",
            "Zimbabwe"
           ],
           "name": "",
           "type": "choropleth",
           "z": [
            1,
            1,
            1,
            1,
            3,
            4,
            1,
            3,
            1,
            1,
            1,
            1,
            1,
            1,
            4,
            1,
            1,
            1,
            2,
            1,
            4,
            1,
            1,
            1,
            1,
            4,
            4,
            1,
            4,
            4,
            1,
            1,
            1,
            1,
            1,
            1,
            1,
            1,
            1,
            3,
            1,
            4,
            2,
            1,
            4,
            1,
            1,
            1,
            1,
            1,
            1,
            1,
            1,
            1,
            1,
            1,
            4,
            1,
            4,
            1,
            1,
            4,
            1,
            1,
            4,
            1,
            4,
            1,
            1,
            4,
            1,
            1,
            2,
            4,
            1,
            4,
            4,
            1,
            1,
            1,
            1,
            1,
            1,
            1,
            3,
            4,
            1,
            1,
            1
           ]
          }
         ],
         "name": "2014"
        },
        {
         "data": [
          {
           "coloraxis": "coloraxis",
           "customdata": [
            [
             1
            ],
            [
             1
            ],
            [
             2
            ],
            [
             1
            ],
            [
             1
            ],
            [
             1
            ],
            [
             1
            ],
            [
             3
            ],
            [
             3
            ],
            [
             1
            ],
            [
             4
            ],
            [
             2
            ],
            [
             4
            ],
            [
             3
            ],
            [
             3
            ],
            [
             1
            ],
            [
             1
            ],
            [
             4
            ],
            [
             4
            ],
            [
             1
            ],
            [
             1
            ],
            [
             1
            ],
            [
             1
            ],
            [
             1
            ],
            [
             1
            ],
            [
             1
            ],
            [
             4
            ],
            [
             1
            ],
            [
             1
            ],
            [
             3
            ],
            [
             1
            ],
            [
             2
            ],
            [
             1
            ],
            [
             1
            ],
            [
             4
            ],
            [
             1
            ],
            [
             1
            ],
            [
             1
            ],
            [
             1
            ],
            [
             3
            ],
            [
             4
            ],
            [
             1
            ],
            [
             1
            ],
            [
             1
            ],
            [
             1
            ],
            [
             4
            ],
            [
             4
            ],
            [
             1
            ],
            [
             4
            ],
            [
             4
            ],
            [
             1
            ],
            [
             1
            ],
            [
             4
            ],
            [
             1
            ],
            [
             2
            ],
            [
             1
            ],
            [
             2
            ],
            [
             1
            ],
            [
             1
            ],
            [
             1
            ],
            [
             2
            ],
            [
             4
            ],
            [
             1
            ],
            [
             2
            ],
            [
             2
            ],
            [
             4
            ],
            [
             1
            ],
            [
             1
            ],
            [
             4
            ],
            [
             4
            ],
            [
             1
            ],
            [
             4
            ],
            [
             4
            ],
            [
             2
            ],
            [
             1
            ],
            [
             1
            ],
            [
             1
            ],
            [
             1
            ],
            [
             1
            ],
            [
             1
            ],
            [
             1
            ],
            [
             1
            ],
            [
             4
            ],
            [
             1
            ],
            [
             3
            ],
            [
             3
            ],
            [
             3
            ],
            [
             1
            ],
            [
             2
            ],
            [
             4
            ],
            [
             2
            ],
            [
             4
            ],
            [
             3
            ],
            [
             4
            ],
            [
             4
            ],
            [
             2
            ],
            [
             4
            ],
            [
             4
            ],
            [
             1
            ],
            [
             2
            ],
            [
             1
            ],
            [
             1
            ],
            [
             1
            ],
            [
             1
            ],
            [
             1
            ],
            [
             1
            ],
            [
             1
            ],
            [
             3
            ],
            [
             1
            ],
            [
             1
            ],
            [
             1
            ],
            [
             3
            ],
            [
             1
            ],
            [
             1
            ],
            [
             1
            ],
            [
             1
            ],
            [
             1
            ],
            [
             3
            ],
            [
             1
            ],
            [
             3
            ],
            [
             1
            ],
            [
             2
            ],
            [
             1
            ],
            [
             1
            ],
            [
             1
            ],
            [
             1
            ],
            [
             1
            ],
            [
             4
            ],
            [
             4
            ],
            [
             1
            ],
            [
             2
            ],
            [
             2
            ],
            [
             2
            ],
            [
             1
            ],
            [
             1
            ],
            [
             1
            ],
            [
             1
            ],
            [
             1
            ],
            [
             1
            ],
            [
             1
            ],
            [
             4
            ],
            [
             1
            ],
            [
             2
            ],
            [
             4
            ],
            [
             2
            ],
            [
             2
            ],
            [
             2
            ],
            [
             1
            ],
            [
             4
            ],
            [
             1
            ],
            [
             4
            ],
            [
             4
            ],
            [
             1
            ],
            [
             1
            ],
            [
             1
            ],
            [
             1
            ],
            [
             1
            ],
            [
             1
            ],
            [
             1
            ],
            [
             1
            ],
            [
             4
            ],
            [
             1
            ],
            [
             1
            ],
            [
             2
            ],
            [
             3
            ],
            [
             4
            ],
            [
             1
            ],
            [
             4
            ],
            [
             1
            ],
            [
             4
            ],
            [
             1
            ],
            [
             1
            ],
            [
             1
            ],
            [
             4
            ],
            [
             4
            ],
            [
             1
            ],
            [
             2
            ],
            [
             4
            ],
            [
             1
            ],
            [
             1
            ],
            [
             1
            ],
            [
             2
            ],
            [
             2
            ],
            [
             4
            ],
            [
             1
            ],
            [
             1
            ],
            [
             1
            ],
            [
             4
            ],
            [
             2
            ],
            [
             1
            ],
            [
             4
            ],
            [
             1
            ],
            [
             4
            ],
            [
             1
            ],
            [
             3
            ],
            [
             3
            ],
            [
             1
            ],
            [
             1
            ],
            [
             1
            ]
           ],
           "geo": "geo",
           "hovertemplate": "date=2016<br>country_name=%{location}<br>sum_of_medals=%{z}<extra></extra>",
           "locationmode": "country names",
           "locations": [
            "Afghanistan",
            "Albania",
            "Algeria",
            "American Samoa",
            "Andorra",
            "Angola",
            "Antigua and Barbuda",
            "Argentina",
            "Armenia",
            "Aruba",
            "Australia",
            "Austria",
            "Azerbaijan",
            "Bahamas",
            "Bahrain",
            "Bangladesh",
            "Barbados",
            "Belarus",
            "Belgium",
            "Belize",
            "Benin",
            "Bermuda",
            "Bhutan",
            "Bolivia",
            "Bosnia and Herzegovina",
            "Botswana",
            "Brazil",
            "British Virgin Islands",
            "Brunei",
            "Bulgaria",
            "Burkina Faso",
            "Burundi",
            "Cambodia",
            "Cameroon",
            "Canada",
            "Cape Verde",
            "Cayman Islands",
            "Central African Republic",
            "Chile",
            "Chinese Taipei",
            "Colombia",
            "Comoros",
            "Congo",
            "Cook Islands",
            "Costa Rica",
            "Croatia",
            "Cuba",
            "Cyprus",
            "Czech Republic",
            "Democratic People's Republic of Korea",
            "Democratic Republic of Timor-Leste",
            "Democratic Republic of the Congo",
            "Denmark",
            "Djibouti",
            "Dominican Republic",
            "Ecuador",
            "Egypt",
            "El Salvador",
            "Equatorial Guinea",
            "Eritrea",
            "Estonia",
            "Ethiopia",
            "Federated States of Micronesia",
            "Fiji",
            "Finland",
            "France",
            "Gabon",
            "Gambia",
            "Georgia",
            "Germany",
            "Ghana",
            "Great Britain",
            "Greece",
            "Grenada",
            "Guam",
            "Guatemala",
            "Guinea",
            "Guinea-Bissau",
            "Guyana",
            "Haiti",
            "Honduras",
            "Hong Kong, China",
            "Hungary",
            "Iceland",
            "Independent Olympic Athletes",
            "India",
            "Indonesia",
            "Iraq",
            "Ireland",
            "Islamic Republic of Iran",
            "Israel",
            "Italy",
            "Ivory Coast",
            "Jamaica",
            "Japan",
            "Jordan",
            "Kazakhstan",
            "Kenya",
            "Kiribati",
            "Kosovo",
            "Kyrgyzstan",
            "Lao People's Democratic Republic",
            "Latvia",
            "Lebanon",
            "Lesotho",
            "Libya",
            "Liechtenstein",
            "Lithuania",
            "Luxembourg",
            "Madagascar",
            "Malawi",
            "Malaysia",
            "Maldives",
            "Mali",
            "Malta",
            "Marshall Islands",
            "Mauritius",
            "Mexico",
            "Monaco",
            "Mongolia",
            "Montenegro",
            "Morocco",
            "Mozambique",
            "Myanmar",
            "Namibia",
            "Nauru",
            "Nepal",
            "Netherlands",
            "New Zealand",
            "Nicaragua",
            "Niger",
            "Nigeria",
            "Norway",
            "Oman",
            "Pakistan",
            "Palau",
            "Palestine",
            "Panama",
            "Papua New Guinea",
            "Paraguay",
            "People's Republic of China",
            "Peru",
            "Philippines",
            "Poland",
            "Portugal",
            "Puerto Rico",
            "Qatar",
            "Refugee Olympic Athletes",
            "Republic of Korea",
            "Republic of Moldova",
            "Romania",
            "Russian Federation",
            "Rwanda",
            "Saint Lucia",
            "Saint Vincent and the Grenadines",
            "Samoa",
            "San Marino",
            "Sao Tome and Principe",
            "Saudi Arabia",
            "Senegal",
            "Serbia",
            "Seychelles",
            "Sierra Leone",
            "Singapore",
            "Slovakia",
            "Slovenia",
            "Solomon Islands",
            "South Africa",
            "South Sudan",
            "Spain",
            "Sri Lanka",
            "Sudan",
            "Suriname",
            "Sweden",
            "Switzerland",
            "Syrian Arab Republic",
            "Tajikistan",
            "Thailand",
            "The Former Yugoslav Republic of Macedonia",
            "Togo",
            "Tonga",
            "Trinidad and Tobago",
            "Tunisia",
            "Turkey",
            "Turkmenistan",
            "US Virgin Islands",
            "Uganda",
            "Ukraine",
            "United Arab Emirates",
            "United Republic of Tanzania",
            "United States of America",
            "Uruguay",
            "Uzbekistan",
            "Vanuatu",
            "Venezuela",
            "Vietnam",
            "Yemen",
            "Zambia",
            "Zimbabwe"
           ],
           "name": "",
           "type": "choropleth",
           "z": [
            1,
            1,
            2,
            1,
            1,
            1,
            1,
            3,
            3,
            1,
            4,
            2,
            4,
            3,
            3,
            1,
            1,
            4,
            4,
            1,
            1,
            1,
            1,
            1,
            1,
            1,
            4,
            1,
            1,
            3,
            1,
            2,
            1,
            1,
            4,
            1,
            1,
            1,
            1,
            3,
            4,
            1,
            1,
            1,
            1,
            4,
            4,
            1,
            4,
            4,
            1,
            1,
            4,
            1,
            2,
            1,
            2,
            1,
            1,
            1,
            2,
            4,
            1,
            2,
            2,
            4,
            1,
            1,
            4,
            4,
            1,
            4,
            4,
            2,
            1,
            1,
            1,
            1,
            1,
            1,
            1,
            1,
            4,
            1,
            3,
            3,
            3,
            1,
            2,
            4,
            2,
            4,
            3,
            4,
            4,
            2,
            4,
            4,
            1,
            2,
            1,
            1,
            1,
            1,
            1,
            1,
            1,
            3,
            1,
            1,
            1,
            3,
            1,
            1,
            1,
            1,
            1,
            3,
            1,
            3,
            1,
            2,
            1,
            1,
            1,
            1,
            1,
            4,
            4,
            1,
            2,
            2,
            2,
            1,
            1,
            1,
            1,
            1,
            1,
            1,
            4,
            1,
            2,
            4,
            2,
            2,
            2,
            1,
            4,
            1,
            4,
            4,
            1,
            1,
            1,
            1,
            1,
            1,
            1,
            1,
            4,
            1,
            1,
            2,
            3,
            4,
            1,
            4,
            1,
            4,
            1,
            1,
            1,
            4,
            4,
            1,
            2,
            4,
            1,
            1,
            1,
            2,
            2,
            4,
            1,
            1,
            1,
            4,
            2,
            1,
            4,
            1,
            4,
            1,
            3,
            3,
            1,
            1,
            1
           ]
          }
         ],
         "name": "2016"
        },
        {
         "data": [
          {
           "coloraxis": "coloraxis",
           "customdata": [
            [
             1
            ],
            [
             1
            ],
            [
             1
            ],
            [
             1
            ],
            [
             3
            ],
            [
             4
            ],
            [
             1
            ],
            [
             3
            ],
            [
             2
            ],
            [
             1
            ],
            [
             1
            ],
            [
             1
            ],
            [
             1
            ],
            [
             1
            ],
            [
             4
            ],
            [
             1
            ],
            [
             1
            ],
            [
             1
            ],
            [
             1
            ],
            [
             1
            ],
            [
             4
            ],
            [
             1
            ],
            [
             1
            ],
            [
             1
            ],
            [
             1
            ],
            [
             1
            ],
            [
             1
            ],
            [
             4
            ],
            [
             4
            ],
            [
             1
            ],
            [
             4
            ],
            [
             1
            ],
            [
             3
            ],
            [
             1
            ],
            [
             1
            ],
            [
             2
            ],
            [
             1
            ],
            [
             1
            ],
            [
             1
            ],
            [
             1
            ],
            [
             1
            ],
            [
             4
            ],
            [
             1
            ],
            [
             4
            ],
            [
             2
            ],
            [
             1
            ],
            [
             1
            ],
            [
             1
            ],
            [
             1
            ],
            [
             2
            ],
            [
             1
            ],
            [
             2
            ],
            [
             1
            ],
            [
             1
            ],
            [
             1
            ],
            [
             1
            ],
            [
             1
            ],
            [
             1
            ],
            [
             1
            ],
            [
             1
            ],
            [
             1
            ],
            [
             1
            ],
            [
             4
            ],
            [
             2
            ],
            [
             1
            ],
            [
             4
            ],
            [
             4
            ],
            [
             1
            ],
            [
             4
            ],
            [
             1
            ],
            [
             3
            ],
            [
             1
            ],
            [
             1
            ],
            [
             4
            ],
            [
             1
            ],
            [
             1
            ],
            [
             1
            ],
            [
             1
            ],
            [
             1
            ],
            [
             3
            ],
            [
             3
            ],
            [
             1
            ],
            [
             2
            ],
            [
             4
            ],
            [
             4
            ],
            [
             1
            ],
            [
             1
            ],
            [
             1
            ],
            [
             1
            ],
            [
             1
            ],
            [
             2
            ],
            [
             4
            ],
            [
             1
            ]
           ],
           "geo": "geo",
           "hovertemplate": "date=2018<br>country_name=%{location}<br>sum_of_medals=%{z}<extra></extra>",
           "locationmode": "country names",
           "locations": [
            "Albania",
            "Andorra",
            "Argentina",
            "Armenia",
            "Australia",
            "Austria",
            "Azerbaijan",
            "Belarus",
            "Belgium",
            "Bermuda",
            "Bolivia",
            "Bosnia and Herzegovina",
            "Brazil",
            "Bulgaria",
            "Canada",
            "Chile",
            "Chinese Taipei",
            "Colombia",
            "Croatia",
            "Cyprus",
            "Czech Republic",
            "Democratic People's Republic of Korea",
            "Democratic Republic of Timor-Leste",
            "Denmark",
            "Ecuador",
            "Eritrea",
            "Estonia",
            "Finland",
            "France",
            "Georgia",
            "Germany",
            "Ghana",
            "Great Britain",
            "Greece",
            "Hong Kong, China",
            "Hungary",
            "Iceland",
            "India",
            "Ireland",
            "Islamic Republic of Iran",
            "Israel",
            "Italy",
            "Jamaica",
            "Japan",
            "Kazakhstan",
            "Kenya",
            "Korea Team",
            "Kosovo",
            "Kyrgyzstan",
            "Latvia",
            "Lebanon",
            "Liechtenstein",
            "Lithuania",
            "Luxembourg",
            "Madagascar",
            "Malaysia",
            "Malta",
            "Mexico",
            "Monaco",
            "Mongolia",
            "Montenegro",
            "Morocco",
            "Netherlands",
            "New Zealand",
            "Nigeria",
            "Norway",
            "Olympic Athletes from Russia",
            "Pakistan",
            "People's Republic of China",
            "Philippines",
            "Poland",
            "Portugal",
            "Puerto Rico",
            "Republic of Korea",
            "Republic of Moldova",
            "Romania",
            "San Marino",
            "Serbia",
            "Singapore",
            "Slovakia",
            "Slovenia",
            "South Africa",
            "Spain",
            "Sweden",
            "Switzerland",
            "Thailand",
            "The Former Yugoslav Republic of Macedonia",
            "Togo",
            "Tonga",
            "Turkey",
            "Ukraine",
            "United States of America",
            "Uzbekistan"
           ],
           "name": "",
           "type": "choropleth",
           "z": [
            1,
            1,
            1,
            1,
            3,
            4,
            1,
            3,
            2,
            1,
            1,
            1,
            1,
            1,
            4,
            1,
            1,
            1,
            1,
            1,
            4,
            1,
            1,
            1,
            1,
            1,
            1,
            4,
            4,
            1,
            4,
            1,
            3,
            1,
            1,
            2,
            1,
            1,
            1,
            1,
            1,
            4,
            1,
            4,
            2,
            1,
            1,
            1,
            1,
            2,
            1,
            2,
            1,
            1,
            1,
            1,
            1,
            1,
            1,
            1,
            1,
            1,
            4,
            2,
            1,
            4,
            4,
            1,
            4,
            1,
            3,
            1,
            1,
            4,
            1,
            1,
            1,
            1,
            1,
            3,
            3,
            1,
            2,
            4,
            4,
            1,
            1,
            1,
            1,
            1,
            2,
            4,
            1
           ]
          }
         ],
         "name": "2018"
        },
        {
         "data": [
          {
           "coloraxis": "coloraxis",
           "customdata": [
            [
             1
            ],
            [
             1
            ],
            [
             1
            ],
            [
             1
            ],
            [
             1
            ],
            [
             1
            ],
            [
             1
            ],
            [
             3
            ],
            [
             3
            ],
            [
             1
            ],
            [
             4
            ],
            [
             4
            ],
            [
             3
            ],
            [
             2
            ],
            [
             2
            ],
            [
             1
            ],
            [
             4
            ],
            [
             4
            ],
            [
             1
            ],
            [
             1
            ],
            [
             2
            ],
            [
             1
            ],
            [
             1
            ],
            [
             1
            ],
            [
             2
            ],
            [
             4
            ],
            [
             4
            ],
            [
             2
            ],
            [
             1
            ],
            [
             1
            ],
            [
             4
            ],
            [
             1
            ],
            [
             1
            ],
            [
             1
            ],
            [
             4
            ],
            [
             3
            ],
            [
             1
            ],
            [
             1
            ],
            [
             1
            ],
            [
             4
            ],
            [
             4
            ],
            [
             1
            ],
            [
             4
            ],
            [
             2
            ],
            [
             1
            ],
            [
             4
            ],
            [
             1
            ],
            [
             1
            ],
            [
             3
            ],
            [
             3
            ],
            [
             4
            ],
            [
             1
            ],
            [
             1
            ],
            [
             3
            ],
            [
             1
            ],
            [
             4
            ],
            [
             3
            ],
            [
             2
            ],
            [
             4
            ],
            [
             1
            ],
            [
             1
            ],
            [
             4
            ],
            [
             4
            ],
            [
             2
            ],
            [
             4
            ],
            [
             4
            ],
            [
             2
            ],
            [
             1
            ],
            [
             1
            ],
            [
             1
            ],
            [
             1
            ],
            [
             1
            ],
            [
             1
            ],
            [
             1
            ],
            [
             4
            ],
            [
             4
            ],
            [
             1
            ],
            [
             4
            ],
            [
             4
            ],
            [
             1
            ],
            [
             3
            ],
            [
             4
            ],
            [
             3
            ],
            [
             4
            ],
            [
             4
            ],
            [
             4
            ],
            [
             3
            ],
            [
             2
            ],
            [
             4
            ],
            [
             1
            ],
            [
             2
            ],
            [
             2
            ],
            [
             3
            ],
            [
             1
            ],
            [
             3
            ],
            [
             1
            ],
            [
             1
            ],
            [
             1
            ],
            [
             1
            ],
            [
             1
            ],
            [
             2
            ],
            [
             1
            ],
            [
             1
            ],
            [
             1
            ],
            [
             3
            ],
            [
             1
            ],
            [
             1
            ],
            [
             1
            ],
            [
             1
            ],
            [
             2
            ],
            [
             1
            ],
            [
             3
            ],
            [
             1
            ],
            [
             2
            ],
            [
             1
            ],
            [
             1
            ],
            [
             2
            ],
            [
             1
            ],
            [
             1
            ],
            [
             4
            ],
            [
             4
            ],
            [
             1
            ],
            [
             1
            ],
            [
             3
            ],
            [
             2
            ],
            [
             4
            ],
            [
             1
            ],
            [
             1
            ],
            [
             1
            ],
            [
             1
            ],
            [
             1
            ],
            [
             1
            ],
            [
             4
            ],
            [
             1
            ],
            [
             4
            ],
            [
             4
            ],
            [
             4
            ],
            [
             2
            ],
            [
             3
            ],
            [
             4
            ],
            [
             1
            ],
            [
             4
            ],
            [
             2
            ],
            [
             3
            ],
            [
             1
            ],
            [
             1
            ],
            [
             1
            ],
            [
             3
            ],
            [
             1
            ],
            [
             2
            ],
            [
             1
            ],
            [
             4
            ],
            [
             1
            ],
            [
             1
            ],
            [
             1
            ],
            [
             4
            ],
            [
             4
            ],
            [
             1
            ],
            [
             1
            ],
            [
             3
            ],
            [
             4
            ],
            [
             1
            ],
            [
             1
            ],
            [
             1
            ],
            [
             3
            ],
            [
             4
            ],
            [
             2
            ],
            [
             1
            ],
            [
             3
            ],
            [
             1
            ],
            [
             1
            ],
            [
             1
            ],
            [
             3
            ],
            [
             4
            ],
            [
             2
            ],
            [
             4
            ],
            [
             4
            ],
            [
             1
            ],
            [
             1
            ],
            [
             4
            ],
            [
             1
            ],
            [
             3
            ],
            [
             1
            ],
            [
             3
            ],
            [
             1
            ],
            [
             1
            ],
            [
             1
            ],
            [
             1
            ],
            [
             1
            ],
            [
             1
            ]
           ],
           "geo": "geo",
           "hovertemplate": "date=2020<br>country_name=%{location}<br>sum_of_medals=%{z}<extra></extra>",
           "locationmode": "country names",
           "locations": [
            "Afghanistan",
            "Albania",
            "Algeria",
            "American Samoa",
            "Andorra",
            "Angola",
            "Antigua and Barbuda",
            "Argentina",
            "Armenia",
            "Aruba",
            "Australia",
            "Austria",
            "Azerbaijan",
            "Bahamas",
            "Bahrain",
            "Bangladesh",
            "Belarus",
            "Belgium",
            "Belize",
            "Benin",
            "Bermuda",
            "Bhutan",
            "Bolivia",
            "Bosnia and Herzegovina",
            "Botswana",
            "Brazil",
            "Bulgaria",
            "Burkina Faso",
            "Burundi",
            "Cameroon",
            "Canada",
            "Cape Verde",
            "Chad",
            "Chile",
            "Chinese Taipei",
            "Colombia",
            "Comoros",
            "Cook Islands",
            "Costa Rica",
            "Croatia",
            "Cuba",
            "Cyprus",
            "Czech Republic",
            "Côte d'Ivoire",
            "Democratic Republic of the Congo",
            "Denmark",
            "Djibouti",
            "Dominica",
            "Dominican Republic",
            "Ecuador",
            "Egypt",
            "El Salvador",
            "Eritrea",
            "Estonia",
            "Eswatini",
            "Ethiopia",
            "Fiji",
            "Finland",
            "France",
            "Gabon",
            "Gambia",
            "Georgia",
            "Germany",
            "Ghana",
            "Great Britain",
            "Greece",
            "Grenada",
            "Guam",
            "Guatemala",
            "Guinea",
            "Guinea-Bissau",
            "Guyana",
            "Haiti",
            "Honduras",
            "Hong Kong, China",
            "Hungary",
            "Iceland",
            "India",
            "Indonesia",
            "Iraq",
            "Ireland",
            "Islamic Republic of Iran",
            "Israel",
            "Italy",
            "Jamaica",
            "Japan",
            "Jordan",
            "Kazakhstan",
            "Kenya",
            "Kiribati",
            "Kosovo",
            "Kuwait",
            "Kyrgyzstan",
            "Lao People's Democratic Republic",
            "Latvia",
            "Lebanon",
            "Lesotho",
            "Liberia",
            "Libya",
            "Liechtenstein",
            "Lithuania",
            "Luxembourg",
            "Madagascar",
            "Malawi",
            "Malaysia",
            "Maldives",
            "Mali",
            "Malta",
            "Mauritius",
            "Mexico",
            "Monaco",
            "Mongolia",
            "Montenegro",
            "Morocco",
            "Mozambique",
            "Myanmar",
            "Namibia",
            "Nauru",
            "Nepal",
            "Netherlands",
            "New Zealand",
            "Nicaragua",
            "Niger",
            "Nigeria",
            "North Macedonia",
            "Norway",
            "Oman",
            "Pakistan",
            "Palestine",
            "Panama",
            "Papua New Guinea",
            "Paraguay",
            "People's Republic of China",
            "Peru",
            "Philippines",
            "Poland",
            "Portugal",
            "Puerto Rico",
            "Qatar",
            "ROC",
            "Refugee Olympic Team",
            "Republic of Korea",
            "Republic of Moldova",
            "Romania",
            "Rwanda",
            "Saint Lucia",
            "Samoa",
            "San Marino",
            "Sao Tome and Principe",
            "Saudi Arabia",
            "Senegal",
            "Serbia",
            "Seychelles",
            "Sierra Leone",
            "Singapore",
            "Slovakia",
            "Slovenia",
            "Solomon Islands",
            "Somalia",
            "South Africa",
            "Spain",
            "Sri Lanka",
            "Sudan",
            "Suriname",
            "Sweden",
            "Switzerland",
            "Syrian Arab Republic",
            "Tajikistan",
            "Thailand",
            "Togo",
            "Tonga",
            "Trinidad and Tobago",
            "Tunisia",
            "Turkey",
            "Turkmenistan",
            "Uganda",
            "Ukraine",
            "United Arab Emirates",
            "United Republic of Tanzania",
            "United States of America",
            "Uruguay",
            "Uzbekistan",
            "Vanuatu",
            "Venezuela",
            "Vietnam",
            "Virgin Islands, British",
            "Virgin Islands, US",
            "Yemen",
            "Zambia",
            "Zimbabwe"
           ],
           "name": "",
           "type": "choropleth",
           "z": [
            1,
            1,
            1,
            1,
            1,
            1,
            1,
            3,
            3,
            1,
            4,
            4,
            3,
            2,
            2,
            1,
            4,
            4,
            1,
            1,
            2,
            1,
            1,
            1,
            2,
            4,
            4,
            2,
            1,
            1,
            4,
            1,
            1,
            1,
            4,
            3,
            1,
            1,
            1,
            4,
            4,
            1,
            4,
            2,
            1,
            4,
            1,
            1,
            3,
            3,
            4,
            1,
            1,
            3,
            1,
            4,
            3,
            2,
            4,
            1,
            1,
            4,
            4,
            2,
            4,
            4,
            2,
            1,
            1,
            1,
            1,
            1,
            1,
            1,
            4,
            4,
            1,
            4,
            4,
            1,
            3,
            4,
            3,
            4,
            4,
            4,
            3,
            2,
            4,
            1,
            2,
            2,
            3,
            1,
            3,
            1,
            1,
            1,
            1,
            1,
            2,
            1,
            1,
            1,
            3,
            1,
            1,
            1,
            1,
            2,
            1,
            3,
            1,
            2,
            1,
            1,
            2,
            1,
            1,
            4,
            4,
            1,
            1,
            3,
            2,
            4,
            1,
            1,
            1,
            1,
            1,
            1,
            4,
            1,
            4,
            4,
            4,
            2,
            3,
            4,
            1,
            4,
            2,
            3,
            1,
            1,
            1,
            3,
            1,
            2,
            1,
            4,
            1,
            1,
            1,
            4,
            4,
            1,
            1,
            3,
            4,
            1,
            1,
            1,
            3,
            4,
            2,
            1,
            3,
            1,
            1,
            1,
            3,
            4,
            2,
            4,
            4,
            1,
            1,
            4,
            1,
            3,
            1,
            3,
            1,
            1,
            1,
            1,
            1,
            1
           ]
          }
         ],
         "name": "2020"
        },
        {
         "data": [
          {
           "coloraxis": "coloraxis",
           "customdata": [
            [
             1
            ],
            [
             1
            ],
            [
             1
            ],
            [
             1
            ],
            [
             1
            ],
            [
             4
            ],
            [
             4
            ],
            [
             1
            ],
            [
             2
            ],
            [
             3
            ],
            [
             1
            ],
            [
             1
            ],
            [
             1
            ],
            [
             1
            ],
            [
             4
            ],
            [
             1
            ],
            [
             1
            ],
            [
             1
            ],
            [
             1
            ],
            [
             1
            ],
            [
             3
            ],
            [
             1
            ],
            [
             1
            ],
            [
             1
            ],
            [
             1
            ],
            [
             2
            ],
            [
             4
            ],
            [
             4
            ],
            [
             1
            ],
            [
             4
            ],
            [
             1
            ],
            [
             3
            ],
            [
             1
            ],
            [
             1
            ],
            [
             1
            ],
            [
             3
            ],
            [
             1
            ],
            [
             1
            ],
            [
             1
            ],
            [
             1
            ],
            [
             1
            ],
            [
             4
            ],
            [
             1
            ],
            [
             4
            ],
            [
             1
            ],
            [
             1
            ],
            [
             1
            ],
            [
             2
            ],
            [
             1
            ],
            [
             1
            ],
            [
             1
            ],
            [
             1
            ],
            [
             1
            ],
            [
             1
            ],
            [
             1
            ],
            [
             1
            ],
            [
             1
            ],
            [
             1
            ],
            [
             1
            ],
            [
             1
            ],
            [
             4
            ],
            [
             3
            ],
            [
             1
            ],
            [
             1
            ],
            [
             4
            ],
            [
             1
            ],
            [
             4
            ],
            [
             1
            ],
            [
             1
            ],
            [
             2
            ],
            [
             1
            ],
            [
             1
            ],
            [
             4
            ],
            [
             4
            ],
            [
             1
            ],
            [
             1
            ],
            [
             1
            ],
            [
             1
            ],
            [
             1
            ],
            [
             3
            ],
            [
             4
            ],
            [
             2
            ],
            [
             4
            ],
            [
             4
            ],
            [
             1
            ],
            [
             1
            ],
            [
             1
            ],
            [
             2
            ],
            [
             4
            ],
            [
             1
            ],
            [
             1
            ]
           ],
           "geo": "geo",
           "hovertemplate": "date=2022<br>country_name=%{location}<br>sum_of_medals=%{z}<extra></extra>",
           "locationmode": "country names",
           "locations": [
            "Albania",
            "American Samoa",
            "Andorra",
            "Argentina",
            "Armenia",
            "Australia",
            "Austria",
            "Azerbaijan",
            "Belarus",
            "Belgium",
            "Bolivia",
            "Bosnia and Herzegovina",
            "Brazil",
            "Bulgaria",
            "Canada",
            "Chile",
            "Chinese Taipei",
            "Colombia",
            "Croatia",
            "Cyprus",
            "Czech Republic",
            "Democratic Republic of Timor-Leste",
            "Denmark",
            "Ecuador",
            "Eritrea",
            "Estonia",
            "Finland",
            "France",
            "Georgia",
            "Germany",
            "Ghana",
            "Great Britain",
            "Greece",
            "Haiti",
            "Hong Kong, China",
            "Hungary",
            "Iceland",
            "India",
            "Ireland",
            "Islamic Republic of Iran",
            "Israel",
            "Italy",
            "Jamaica",
            "Japan",
            "Kazakhstan",
            "Kosovo",
            "Kyrgyzstan",
            "Latvia",
            "Lebanon",
            "Liechtenstein",
            "Lithuania",
            "Luxembourg",
            "Madagascar",
            "Malaysia",
            "Malta",
            "Mexico",
            "Monaco",
            "Mongolia",
            "Montenegro",
            "Morocco",
            "Netherlands",
            "New Zealand",
            "Nigeria",
            "North Macedonia",
            "Norway",
            "Pakistan",
            "People's Republic of China",
            "Peru",
            "Philippines",
            "Poland",
            "Portugal",
            "Puerto Rico",
            "ROC",
            "Republic of Korea",
            "Republic of Moldova",
            "Romania",
            "San Marino",
            "Saudi Arabia",
            "Serbia",
            "Slovakia",
            "Slovenia",
            "Spain",
            "Sweden",
            "Switzerland",
            "Thailand",
            "Trinidad and Tobago",
            "Turkey",
            "Ukraine",
            "United States of America",
            "Uzbekistan",
            "Virgin Islands, US"
           ],
           "name": "",
           "type": "choropleth",
           "z": [
            1,
            1,
            1,
            1,
            1,
            4,
            4,
            1,
            2,
            3,
            1,
            1,
            1,
            1,
            4,
            1,
            1,
            1,
            1,
            1,
            3,
            1,
            1,
            1,
            1,
            2,
            4,
            4,
            1,
            4,
            1,
            3,
            1,
            1,
            1,
            3,
            1,
            1,
            1,
            1,
            1,
            4,
            1,
            4,
            1,
            1,
            1,
            2,
            1,
            1,
            1,
            1,
            1,
            1,
            1,
            1,
            1,
            1,
            1,
            1,
            4,
            3,
            1,
            1,
            4,
            1,
            4,
            1,
            1,
            2,
            1,
            1,
            4,
            4,
            1,
            1,
            1,
            1,
            1,
            3,
            4,
            2,
            4,
            4,
            1,
            1,
            1,
            2,
            4,
            1,
            1
           ]
          }
         ],
         "name": "2022"
        }
       ],
       "layout": {
        "coloraxis": {
         "colorbar": {
          "title": {
           "text": "sum_of_medals"
          }
         },
         "colorscale": [
          [
           0,
           "rgb(210, 251, 212)"
          ],
          [
           0.16666666666666666,
           "rgb(165, 219, 194)"
          ],
          [
           0.3333333333333333,
           "rgb(123, 188, 176)"
          ],
          [
           0.5,
           "rgb(85, 156, 158)"
          ],
          [
           0.6666666666666666,
           "rgb(58, 124, 137)"
          ],
          [
           0.8333333333333334,
           "rgb(35, 93, 114)"
          ],
          [
           1,
           "rgb(18, 63, 90)"
          ]
         ]
        },
        "geo": {
         "center": {
          "lat": -84.17854166544488,
          "lon": 91.29066137311155
         },
         "domain": {
          "x": [
           0,
           1
          ],
          "y": [
           0,
           1
          ]
         },
         "projection": {
          "rotation": {
           "lon": -268.70933862688844
          },
          "scale": 0.42044820762685864
         }
        },
        "height": 1200,
        "legend": {
         "tracegroupgap": 0
        },
        "sliders": [
         {
          "active": 0,
          "currentvalue": {
           "prefix": "date="
          },
          "len": 0.9,
          "pad": {
           "b": 10,
           "t": 60
          },
          "steps": [
           {
            "args": [
             [
              "1896"
             ],
             {
              "frame": {
               "duration": 0,
               "redraw": true
              },
              "fromcurrent": true,
              "mode": "immediate",
              "transition": {
               "duration": 0,
               "easing": "linear"
              }
             }
            ],
            "label": "1896",
            "method": "animate"
           },
           {
            "args": [
             [
              "1900"
             ],
             {
              "frame": {
               "duration": 0,
               "redraw": true
              },
              "fromcurrent": true,
              "mode": "immediate",
              "transition": {
               "duration": 0,
               "easing": "linear"
              }
             }
            ],
            "label": "1900",
            "method": "animate"
           },
           {
            "args": [
             [
              "1904"
             ],
             {
              "frame": {
               "duration": 0,
               "redraw": true
              },
              "fromcurrent": true,
              "mode": "immediate",
              "transition": {
               "duration": 0,
               "easing": "linear"
              }
             }
            ],
            "label": "1904",
            "method": "animate"
           },
           {
            "args": [
             [
              "1908"
             ],
             {
              "frame": {
               "duration": 0,
               "redraw": true
              },
              "fromcurrent": true,
              "mode": "immediate",
              "transition": {
               "duration": 0,
               "easing": "linear"
              }
             }
            ],
            "label": "1908",
            "method": "animate"
           },
           {
            "args": [
             [
              "1912"
             ],
             {
              "frame": {
               "duration": 0,
               "redraw": true
              },
              "fromcurrent": true,
              "mode": "immediate",
              "transition": {
               "duration": 0,
               "easing": "linear"
              }
             }
            ],
            "label": "1912",
            "method": "animate"
           },
           {
            "args": [
             [
              "1920"
             ],
             {
              "frame": {
               "duration": 0,
               "redraw": true
              },
              "fromcurrent": true,
              "mode": "immediate",
              "transition": {
               "duration": 0,
               "easing": "linear"
              }
             }
            ],
            "label": "1920",
            "method": "animate"
           },
           {
            "args": [
             [
              "1924"
             ],
             {
              "frame": {
               "duration": 0,
               "redraw": true
              },
              "fromcurrent": true,
              "mode": "immediate",
              "transition": {
               "duration": 0,
               "easing": "linear"
              }
             }
            ],
            "label": "1924",
            "method": "animate"
           },
           {
            "args": [
             [
              "1928"
             ],
             {
              "frame": {
               "duration": 0,
               "redraw": true
              },
              "fromcurrent": true,
              "mode": "immediate",
              "transition": {
               "duration": 0,
               "easing": "linear"
              }
             }
            ],
            "label": "1928",
            "method": "animate"
           },
           {
            "args": [
             [
              "1932"
             ],
             {
              "frame": {
               "duration": 0,
               "redraw": true
              },
              "fromcurrent": true,
              "mode": "immediate",
              "transition": {
               "duration": 0,
               "easing": "linear"
              }
             }
            ],
            "label": "1932",
            "method": "animate"
           },
           {
            "args": [
             [
              "1936"
             ],
             {
              "frame": {
               "duration": 0,
               "redraw": true
              },
              "fromcurrent": true,
              "mode": "immediate",
              "transition": {
               "duration": 0,
               "easing": "linear"
              }
             }
            ],
            "label": "1936",
            "method": "animate"
           },
           {
            "args": [
             [
              "1948"
             ],
             {
              "frame": {
               "duration": 0,
               "redraw": true
              },
              "fromcurrent": true,
              "mode": "immediate",
              "transition": {
               "duration": 0,
               "easing": "linear"
              }
             }
            ],
            "label": "1948",
            "method": "animate"
           },
           {
            "args": [
             [
              "1952"
             ],
             {
              "frame": {
               "duration": 0,
               "redraw": true
              },
              "fromcurrent": true,
              "mode": "immediate",
              "transition": {
               "duration": 0,
               "easing": "linear"
              }
             }
            ],
            "label": "1952",
            "method": "animate"
           },
           {
            "args": [
             [
              "1956"
             ],
             {
              "frame": {
               "duration": 0,
               "redraw": true
              },
              "fromcurrent": true,
              "mode": "immediate",
              "transition": {
               "duration": 0,
               "easing": "linear"
              }
             }
            ],
            "label": "1956",
            "method": "animate"
           },
           {
            "args": [
             [
              "1960"
             ],
             {
              "frame": {
               "duration": 0,
               "redraw": true
              },
              "fromcurrent": true,
              "mode": "immediate",
              "transition": {
               "duration": 0,
               "easing": "linear"
              }
             }
            ],
            "label": "1960",
            "method": "animate"
           },
           {
            "args": [
             [
              "1964"
             ],
             {
              "frame": {
               "duration": 0,
               "redraw": true
              },
              "fromcurrent": true,
              "mode": "immediate",
              "transition": {
               "duration": 0,
               "easing": "linear"
              }
             }
            ],
            "label": "1964",
            "method": "animate"
           },
           {
            "args": [
             [
              "1968"
             ],
             {
              "frame": {
               "duration": 0,
               "redraw": true
              },
              "fromcurrent": true,
              "mode": "immediate",
              "transition": {
               "duration": 0,
               "easing": "linear"
              }
             }
            ],
            "label": "1968",
            "method": "animate"
           },
           {
            "args": [
             [
              "1972"
             ],
             {
              "frame": {
               "duration": 0,
               "redraw": true
              },
              "fromcurrent": true,
              "mode": "immediate",
              "transition": {
               "duration": 0,
               "easing": "linear"
              }
             }
            ],
            "label": "1972",
            "method": "animate"
           },
           {
            "args": [
             [
              "1976"
             ],
             {
              "frame": {
               "duration": 0,
               "redraw": true
              },
              "fromcurrent": true,
              "mode": "immediate",
              "transition": {
               "duration": 0,
               "easing": "linear"
              }
             }
            ],
            "label": "1976",
            "method": "animate"
           },
           {
            "args": [
             [
              "1980"
             ],
             {
              "frame": {
               "duration": 0,
               "redraw": true
              },
              "fromcurrent": true,
              "mode": "immediate",
              "transition": {
               "duration": 0,
               "easing": "linear"
              }
             }
            ],
            "label": "1980",
            "method": "animate"
           },
           {
            "args": [
             [
              "1984"
             ],
             {
              "frame": {
               "duration": 0,
               "redraw": true
              },
              "fromcurrent": true,
              "mode": "immediate",
              "transition": {
               "duration": 0,
               "easing": "linear"
              }
             }
            ],
            "label": "1984",
            "method": "animate"
           },
           {
            "args": [
             [
              "1988"
             ],
             {
              "frame": {
               "duration": 0,
               "redraw": true
              },
              "fromcurrent": true,
              "mode": "immediate",
              "transition": {
               "duration": 0,
               "easing": "linear"
              }
             }
            ],
            "label": "1988",
            "method": "animate"
           },
           {
            "args": [
             [
              "1992"
             ],
             {
              "frame": {
               "duration": 0,
               "redraw": true
              },
              "fromcurrent": true,
              "mode": "immediate",
              "transition": {
               "duration": 0,
               "easing": "linear"
              }
             }
            ],
            "label": "1992",
            "method": "animate"
           },
           {
            "args": [
             [
              "1994"
             ],
             {
              "frame": {
               "duration": 0,
               "redraw": true
              },
              "fromcurrent": true,
              "mode": "immediate",
              "transition": {
               "duration": 0,
               "easing": "linear"
              }
             }
            ],
            "label": "1994",
            "method": "animate"
           },
           {
            "args": [
             [
              "1996"
             ],
             {
              "frame": {
               "duration": 0,
               "redraw": true
              },
              "fromcurrent": true,
              "mode": "immediate",
              "transition": {
               "duration": 0,
               "easing": "linear"
              }
             }
            ],
            "label": "1996",
            "method": "animate"
           },
           {
            "args": [
             [
              "1998"
             ],
             {
              "frame": {
               "duration": 0,
               "redraw": true
              },
              "fromcurrent": true,
              "mode": "immediate",
              "transition": {
               "duration": 0,
               "easing": "linear"
              }
             }
            ],
            "label": "1998",
            "method": "animate"
           },
           {
            "args": [
             [
              "2000"
             ],
             {
              "frame": {
               "duration": 0,
               "redraw": true
              },
              "fromcurrent": true,
              "mode": "immediate",
              "transition": {
               "duration": 0,
               "easing": "linear"
              }
             }
            ],
            "label": "2000",
            "method": "animate"
           },
           {
            "args": [
             [
              "2002"
             ],
             {
              "frame": {
               "duration": 0,
               "redraw": true
              },
              "fromcurrent": true,
              "mode": "immediate",
              "transition": {
               "duration": 0,
               "easing": "linear"
              }
             }
            ],
            "label": "2002",
            "method": "animate"
           },
           {
            "args": [
             [
              "2004"
             ],
             {
              "frame": {
               "duration": 0,
               "redraw": true
              },
              "fromcurrent": true,
              "mode": "immediate",
              "transition": {
               "duration": 0,
               "easing": "linear"
              }
             }
            ],
            "label": "2004",
            "method": "animate"
           },
           {
            "args": [
             [
              "2006"
             ],
             {
              "frame": {
               "duration": 0,
               "redraw": true
              },
              "fromcurrent": true,
              "mode": "immediate",
              "transition": {
               "duration": 0,
               "easing": "linear"
              }
             }
            ],
            "label": "2006",
            "method": "animate"
           },
           {
            "args": [
             [
              "2008"
             ],
             {
              "frame": {
               "duration": 0,
               "redraw": true
              },
              "fromcurrent": true,
              "mode": "immediate",
              "transition": {
               "duration": 0,
               "easing": "linear"
              }
             }
            ],
            "label": "2008",
            "method": "animate"
           },
           {
            "args": [
             [
              "2010"
             ],
             {
              "frame": {
               "duration": 0,
               "redraw": true
              },
              "fromcurrent": true,
              "mode": "immediate",
              "transition": {
               "duration": 0,
               "easing": "linear"
              }
             }
            ],
            "label": "2010",
            "method": "animate"
           },
           {
            "args": [
             [
              "2012"
             ],
             {
              "frame": {
               "duration": 0,
               "redraw": true
              },
              "fromcurrent": true,
              "mode": "immediate",
              "transition": {
               "duration": 0,
               "easing": "linear"
              }
             }
            ],
            "label": "2012",
            "method": "animate"
           },
           {
            "args": [
             [
              "2014"
             ],
             {
              "frame": {
               "duration": 0,
               "redraw": true
              },
              "fromcurrent": true,
              "mode": "immediate",
              "transition": {
               "duration": 0,
               "easing": "linear"
              }
             }
            ],
            "label": "2014",
            "method": "animate"
           },
           {
            "args": [
             [
              "2016"
             ],
             {
              "frame": {
               "duration": 0,
               "redraw": true
              },
              "fromcurrent": true,
              "mode": "immediate",
              "transition": {
               "duration": 0,
               "easing": "linear"
              }
             }
            ],
            "label": "2016",
            "method": "animate"
           },
           {
            "args": [
             [
              "2018"
             ],
             {
              "frame": {
               "duration": 0,
               "redraw": true
              },
              "fromcurrent": true,
              "mode": "immediate",
              "transition": {
               "duration": 0,
               "easing": "linear"
              }
             }
            ],
            "label": "2018",
            "method": "animate"
           },
           {
            "args": [
             [
              "2020"
             ],
             {
              "frame": {
               "duration": 0,
               "redraw": true
              },
              "fromcurrent": true,
              "mode": "immediate",
              "transition": {
               "duration": 0,
               "easing": "linear"
              }
             }
            ],
            "label": "2020",
            "method": "animate"
           },
           {
            "args": [
             [
              "2022"
             ],
             {
              "frame": {
               "duration": 0,
               "redraw": true
              },
              "fromcurrent": true,
              "mode": "immediate",
              "transition": {
               "duration": 0,
               "easing": "linear"
              }
             }
            ],
            "label": "2022",
            "method": "animate"
           }
          ],
          "x": 0.1,
          "xanchor": "left",
          "y": 0,
          "yanchor": "top"
         }
        ],
        "template": {
         "data": {
          "bar": [
           {
            "error_x": {
             "color": "#2a3f5f"
            },
            "error_y": {
             "color": "#2a3f5f"
            },
            "marker": {
             "line": {
              "color": "#E5ECF6",
              "width": 0.5
             },
             "pattern": {
              "fillmode": "overlay",
              "size": 10,
              "solidity": 0.2
             }
            },
            "type": "bar"
           }
          ],
          "barpolar": [
           {
            "marker": {
             "line": {
              "color": "#E5ECF6",
              "width": 0.5
             },
             "pattern": {
              "fillmode": "overlay",
              "size": 10,
              "solidity": 0.2
             }
            },
            "type": "barpolar"
           }
          ],
          "carpet": [
           {
            "aaxis": {
             "endlinecolor": "#2a3f5f",
             "gridcolor": "white",
             "linecolor": "white",
             "minorgridcolor": "white",
             "startlinecolor": "#2a3f5f"
            },
            "baxis": {
             "endlinecolor": "#2a3f5f",
             "gridcolor": "white",
             "linecolor": "white",
             "minorgridcolor": "white",
             "startlinecolor": "#2a3f5f"
            },
            "type": "carpet"
           }
          ],
          "choropleth": [
           {
            "colorbar": {
             "outlinewidth": 0,
             "ticks": ""
            },
            "type": "choropleth"
           }
          ],
          "contour": [
           {
            "colorbar": {
             "outlinewidth": 0,
             "ticks": ""
            },
            "colorscale": [
             [
              0,
              "#0d0887"
             ],
             [
              0.1111111111111111,
              "#46039f"
             ],
             [
              0.2222222222222222,
              "#7201a8"
             ],
             [
              0.3333333333333333,
              "#9c179e"
             ],
             [
              0.4444444444444444,
              "#bd3786"
             ],
             [
              0.5555555555555556,
              "#d8576b"
             ],
             [
              0.6666666666666666,
              "#ed7953"
             ],
             [
              0.7777777777777778,
              "#fb9f3a"
             ],
             [
              0.8888888888888888,
              "#fdca26"
             ],
             [
              1,
              "#f0f921"
             ]
            ],
            "type": "contour"
           }
          ],
          "contourcarpet": [
           {
            "colorbar": {
             "outlinewidth": 0,
             "ticks": ""
            },
            "type": "contourcarpet"
           }
          ],
          "heatmap": [
           {
            "colorbar": {
             "outlinewidth": 0,
             "ticks": ""
            },
            "colorscale": [
             [
              0,
              "#0d0887"
             ],
             [
              0.1111111111111111,
              "#46039f"
             ],
             [
              0.2222222222222222,
              "#7201a8"
             ],
             [
              0.3333333333333333,
              "#9c179e"
             ],
             [
              0.4444444444444444,
              "#bd3786"
             ],
             [
              0.5555555555555556,
              "#d8576b"
             ],
             [
              0.6666666666666666,
              "#ed7953"
             ],
             [
              0.7777777777777778,
              "#fb9f3a"
             ],
             [
              0.8888888888888888,
              "#fdca26"
             ],
             [
              1,
              "#f0f921"
             ]
            ],
            "type": "heatmap"
           }
          ],
          "heatmapgl": [
           {
            "colorbar": {
             "outlinewidth": 0,
             "ticks": ""
            },
            "colorscale": [
             [
              0,
              "#0d0887"
             ],
             [
              0.1111111111111111,
              "#46039f"
             ],
             [
              0.2222222222222222,
              "#7201a8"
             ],
             [
              0.3333333333333333,
              "#9c179e"
             ],
             [
              0.4444444444444444,
              "#bd3786"
             ],
             [
              0.5555555555555556,
              "#d8576b"
             ],
             [
              0.6666666666666666,
              "#ed7953"
             ],
             [
              0.7777777777777778,
              "#fb9f3a"
             ],
             [
              0.8888888888888888,
              "#fdca26"
             ],
             [
              1,
              "#f0f921"
             ]
            ],
            "type": "heatmapgl"
           }
          ],
          "histogram": [
           {
            "marker": {
             "pattern": {
              "fillmode": "overlay",
              "size": 10,
              "solidity": 0.2
             }
            },
            "type": "histogram"
           }
          ],
          "histogram2d": [
           {
            "colorbar": {
             "outlinewidth": 0,
             "ticks": ""
            },
            "colorscale": [
             [
              0,
              "#0d0887"
             ],
             [
              0.1111111111111111,
              "#46039f"
             ],
             [
              0.2222222222222222,
              "#7201a8"
             ],
             [
              0.3333333333333333,
              "#9c179e"
             ],
             [
              0.4444444444444444,
              "#bd3786"
             ],
             [
              0.5555555555555556,
              "#d8576b"
             ],
             [
              0.6666666666666666,
              "#ed7953"
             ],
             [
              0.7777777777777778,
              "#fb9f3a"
             ],
             [
              0.8888888888888888,
              "#fdca26"
             ],
             [
              1,
              "#f0f921"
             ]
            ],
            "type": "histogram2d"
           }
          ],
          "histogram2dcontour": [
           {
            "colorbar": {
             "outlinewidth": 0,
             "ticks": ""
            },
            "colorscale": [
             [
              0,
              "#0d0887"
             ],
             [
              0.1111111111111111,
              "#46039f"
             ],
             [
              0.2222222222222222,
              "#7201a8"
             ],
             [
              0.3333333333333333,
              "#9c179e"
             ],
             [
              0.4444444444444444,
              "#bd3786"
             ],
             [
              0.5555555555555556,
              "#d8576b"
             ],
             [
              0.6666666666666666,
              "#ed7953"
             ],
             [
              0.7777777777777778,
              "#fb9f3a"
             ],
             [
              0.8888888888888888,
              "#fdca26"
             ],
             [
              1,
              "#f0f921"
             ]
            ],
            "type": "histogram2dcontour"
           }
          ],
          "mesh3d": [
           {
            "colorbar": {
             "outlinewidth": 0,
             "ticks": ""
            },
            "type": "mesh3d"
           }
          ],
          "parcoords": [
           {
            "line": {
             "colorbar": {
              "outlinewidth": 0,
              "ticks": ""
             }
            },
            "type": "parcoords"
           }
          ],
          "pie": [
           {
            "automargin": true,
            "type": "pie"
           }
          ],
          "scatter": [
           {
            "fillpattern": {
             "fillmode": "overlay",
             "size": 10,
             "solidity": 0.2
            },
            "type": "scatter"
           }
          ],
          "scatter3d": [
           {
            "line": {
             "colorbar": {
              "outlinewidth": 0,
              "ticks": ""
             }
            },
            "marker": {
             "colorbar": {
              "outlinewidth": 0,
              "ticks": ""
             }
            },
            "type": "scatter3d"
           }
          ],
          "scattercarpet": [
           {
            "marker": {
             "colorbar": {
              "outlinewidth": 0,
              "ticks": ""
             }
            },
            "type": "scattercarpet"
           }
          ],
          "scattergeo": [
           {
            "marker": {
             "colorbar": {
              "outlinewidth": 0,
              "ticks": ""
             }
            },
            "type": "scattergeo"
           }
          ],
          "scattergl": [
           {
            "marker": {
             "colorbar": {
              "outlinewidth": 0,
              "ticks": ""
             }
            },
            "type": "scattergl"
           }
          ],
          "scattermapbox": [
           {
            "marker": {
             "colorbar": {
              "outlinewidth": 0,
              "ticks": ""
             }
            },
            "type": "scattermapbox"
           }
          ],
          "scatterpolar": [
           {
            "marker": {
             "colorbar": {
              "outlinewidth": 0,
              "ticks": ""
             }
            },
            "type": "scatterpolar"
           }
          ],
          "scatterpolargl": [
           {
            "marker": {
             "colorbar": {
              "outlinewidth": 0,
              "ticks": ""
             }
            },
            "type": "scatterpolargl"
           }
          ],
          "scatterternary": [
           {
            "marker": {
             "colorbar": {
              "outlinewidth": 0,
              "ticks": ""
             }
            },
            "type": "scatterternary"
           }
          ],
          "surface": [
           {
            "colorbar": {
             "outlinewidth": 0,
             "ticks": ""
            },
            "colorscale": [
             [
              0,
              "#0d0887"
             ],
             [
              0.1111111111111111,
              "#46039f"
             ],
             [
              0.2222222222222222,
              "#7201a8"
             ],
             [
              0.3333333333333333,
              "#9c179e"
             ],
             [
              0.4444444444444444,
              "#bd3786"
             ],
             [
              0.5555555555555556,
              "#d8576b"
             ],
             [
              0.6666666666666666,
              "#ed7953"
             ],
             [
              0.7777777777777778,
              "#fb9f3a"
             ],
             [
              0.8888888888888888,
              "#fdca26"
             ],
             [
              1,
              "#f0f921"
             ]
            ],
            "type": "surface"
           }
          ],
          "table": [
           {
            "cells": {
             "fill": {
              "color": "#EBF0F8"
             },
             "line": {
              "color": "white"
             }
            },
            "header": {
             "fill": {
              "color": "#C8D4E3"
             },
             "line": {
              "color": "white"
             }
            },
            "type": "table"
           }
          ]
         },
         "layout": {
          "annotationdefaults": {
           "arrowcolor": "#2a3f5f",
           "arrowhead": 0,
           "arrowwidth": 1
          },
          "autotypenumbers": "strict",
          "coloraxis": {
           "colorbar": {
            "outlinewidth": 0,
            "ticks": ""
           }
          },
          "colorscale": {
           "diverging": [
            [
             0,
             "#8e0152"
            ],
            [
             0.1,
             "#c51b7d"
            ],
            [
             0.2,
             "#de77ae"
            ],
            [
             0.3,
             "#f1b6da"
            ],
            [
             0.4,
             "#fde0ef"
            ],
            [
             0.5,
             "#f7f7f7"
            ],
            [
             0.6,
             "#e6f5d0"
            ],
            [
             0.7,
             "#b8e186"
            ],
            [
             0.8,
             "#7fbc41"
            ],
            [
             0.9,
             "#4d9221"
            ],
            [
             1,
             "#276419"
            ]
           ],
           "sequential": [
            [
             0,
             "#0d0887"
            ],
            [
             0.1111111111111111,
             "#46039f"
            ],
            [
             0.2222222222222222,
             "#7201a8"
            ],
            [
             0.3333333333333333,
             "#9c179e"
            ],
            [
             0.4444444444444444,
             "#bd3786"
            ],
            [
             0.5555555555555556,
             "#d8576b"
            ],
            [
             0.6666666666666666,
             "#ed7953"
            ],
            [
             0.7777777777777778,
             "#fb9f3a"
            ],
            [
             0.8888888888888888,
             "#fdca26"
            ],
            [
             1,
             "#f0f921"
            ]
           ],
           "sequentialminus": [
            [
             0,
             "#0d0887"
            ],
            [
             0.1111111111111111,
             "#46039f"
            ],
            [
             0.2222222222222222,
             "#7201a8"
            ],
            [
             0.3333333333333333,
             "#9c179e"
            ],
            [
             0.4444444444444444,
             "#bd3786"
            ],
            [
             0.5555555555555556,
             "#d8576b"
            ],
            [
             0.6666666666666666,
             "#ed7953"
            ],
            [
             0.7777777777777778,
             "#fb9f3a"
            ],
            [
             0.8888888888888888,
             "#fdca26"
            ],
            [
             1,
             "#f0f921"
            ]
           ]
          },
          "colorway": [
           "#636efa",
           "#EF553B",
           "#00cc96",
           "#ab63fa",
           "#FFA15A",
           "#19d3f3",
           "#FF6692",
           "#B6E880",
           "#FF97FF",
           "#FECB52"
          ],
          "font": {
           "color": "#2a3f5f"
          },
          "geo": {
           "bgcolor": "white",
           "lakecolor": "white",
           "landcolor": "#E5ECF6",
           "showlakes": true,
           "showland": true,
           "subunitcolor": "white"
          },
          "hoverlabel": {
           "align": "left"
          },
          "hovermode": "closest",
          "mapbox": {
           "style": "light"
          },
          "paper_bgcolor": "white",
          "plot_bgcolor": "#E5ECF6",
          "polar": {
           "angularaxis": {
            "gridcolor": "white",
            "linecolor": "white",
            "ticks": ""
           },
           "bgcolor": "#E5ECF6",
           "radialaxis": {
            "gridcolor": "white",
            "linecolor": "white",
            "ticks": ""
           }
          },
          "scene": {
           "xaxis": {
            "backgroundcolor": "#E5ECF6",
            "gridcolor": "white",
            "gridwidth": 2,
            "linecolor": "white",
            "showbackground": true,
            "ticks": "",
            "zerolinecolor": "white"
           },
           "yaxis": {
            "backgroundcolor": "#E5ECF6",
            "gridcolor": "white",
            "gridwidth": 2,
            "linecolor": "white",
            "showbackground": true,
            "ticks": "",
            "zerolinecolor": "white"
           },
           "zaxis": {
            "backgroundcolor": "#E5ECF6",
            "gridcolor": "white",
            "gridwidth": 2,
            "linecolor": "white",
            "showbackground": true,
            "ticks": "",
            "zerolinecolor": "white"
           }
          },
          "shapedefaults": {
           "line": {
            "color": "#2a3f5f"
           }
          },
          "ternary": {
           "aaxis": {
            "gridcolor": "white",
            "linecolor": "white",
            "ticks": ""
           },
           "baxis": {
            "gridcolor": "white",
            "linecolor": "white",
            "ticks": ""
           },
           "bgcolor": "#E5ECF6",
           "caxis": {
            "gridcolor": "white",
            "linecolor": "white",
            "ticks": ""
           }
          },
          "title": {
           "x": 0.05
          },
          "xaxis": {
           "automargin": true,
           "gridcolor": "white",
           "linecolor": "white",
           "ticks": "",
           "title": {
            "standoff": 15
           },
           "zerolinecolor": "white",
           "zerolinewidth": 2
          },
          "yaxis": {
           "automargin": true,
           "gridcolor": "white",
           "linecolor": "white",
           "ticks": "",
           "title": {
            "standoff": 15
           },
           "zerolinecolor": "white",
           "zerolinewidth": 2
          }
         }
        },
        "title": {
         "text": "Olympics Medal timelapse"
        },
        "updatemenus": [
         {
          "buttons": [
           {
            "args": [
             null,
             {
              "frame": {
               "duration": 500,
               "redraw": true
              },
              "fromcurrent": true,
              "mode": "immediate",
              "transition": {
               "duration": 500,
               "easing": "linear"
              }
             }
            ],
            "label": "&#9654;",
            "method": "animate"
           },
           {
            "args": [
             [
              null
             ],
             {
              "frame": {
               "duration": 0,
               "redraw": true
              },
              "fromcurrent": true,
              "mode": "immediate",
              "transition": {
               "duration": 0,
               "easing": "linear"
              }
             }
            ],
            "label": "&#9724;",
            "method": "animate"
           }
          ],
          "direction": "left",
          "pad": {
           "r": 10,
           "t": 70
          },
          "showactive": false,
          "type": "buttons",
          "x": 0.1,
          "xanchor": "right",
          "y": 0,
          "yanchor": "top"
         }
        ],
        "width": 1500
       }
      },
      "text/html": [
       "<div>                            <div id=\"5797691a-c818-4a23-8559-c936e032db59\" class=\"plotly-graph-div\" style=\"height:1200px; width:1500px;\"></div>            <script type=\"text/javascript\">                require([\"plotly\"], function(Plotly) {                    window.PLOTLYENV=window.PLOTLYENV || {};                                    if (document.getElementById(\"5797691a-c818-4a23-8559-c936e032db59\")) {                    Plotly.newPlot(                        \"5797691a-c818-4a23-8559-c936e032db59\",                        [{\"coloraxis\":\"coloraxis\",\"customdata\":[[2],[4],[1],[4],[4],[4],[4],[4],[4],[1],[2],[1],[3],[4]],\"geo\":\"geo\",\"hovertemplate\":\"date=1896\\u003cbr\\u003ecountry_name=%{location}\\u003cbr\\u003esum_of_medals=%{z}\\u003cextra\\u003e\\u003c\\u002fextra\\u003e\",\"locationmode\":\"country names\",\"locations\":[\"Australia\",\"Austria\",\"Chile\",\"Denmark\",\"France\",\"Germany\",\"Great Britain\",\"Greece\",\"Hungary\",\"Italy\",\"MIX\",\"Sweden\",\"Switzerland\",\"United States of America\"],\"name\":\"\",\"z\":[2,4,1,4,4,4,4,4,4,1,2,1,3,4],\"type\":\"choropleth\"}],                        {\"template\":{\"data\":{\"histogram2dcontour\":[{\"type\":\"histogram2dcontour\",\"colorbar\":{\"outlinewidth\":0,\"ticks\":\"\"},\"colorscale\":[[0.0,\"#0d0887\"],[0.1111111111111111,\"#46039f\"],[0.2222222222222222,\"#7201a8\"],[0.3333333333333333,\"#9c179e\"],[0.4444444444444444,\"#bd3786\"],[0.5555555555555556,\"#d8576b\"],[0.6666666666666666,\"#ed7953\"],[0.7777777777777778,\"#fb9f3a\"],[0.8888888888888888,\"#fdca26\"],[1.0,\"#f0f921\"]]}],\"choropleth\":[{\"type\":\"choropleth\",\"colorbar\":{\"outlinewidth\":0,\"ticks\":\"\"}}],\"histogram2d\":[{\"type\":\"histogram2d\",\"colorbar\":{\"outlinewidth\":0,\"ticks\":\"\"},\"colorscale\":[[0.0,\"#0d0887\"],[0.1111111111111111,\"#46039f\"],[0.2222222222222222,\"#7201a8\"],[0.3333333333333333,\"#9c179e\"],[0.4444444444444444,\"#bd3786\"],[0.5555555555555556,\"#d8576b\"],[0.6666666666666666,\"#ed7953\"],[0.7777777777777778,\"#fb9f3a\"],[0.8888888888888888,\"#fdca26\"],[1.0,\"#f0f921\"]]}],\"heatmap\":[{\"type\":\"heatmap\",\"colorbar\":{\"outlinewidth\":0,\"ticks\":\"\"},\"colorscale\":[[0.0,\"#0d0887\"],[0.1111111111111111,\"#46039f\"],[0.2222222222222222,\"#7201a8\"],[0.3333333333333333,\"#9c179e\"],[0.4444444444444444,\"#bd3786\"],[0.5555555555555556,\"#d8576b\"],[0.6666666666666666,\"#ed7953\"],[0.7777777777777778,\"#fb9f3a\"],[0.8888888888888888,\"#fdca26\"],[1.0,\"#f0f921\"]]}],\"heatmapgl\":[{\"type\":\"heatmapgl\",\"colorbar\":{\"outlinewidth\":0,\"ticks\":\"\"},\"colorscale\":[[0.0,\"#0d0887\"],[0.1111111111111111,\"#46039f\"],[0.2222222222222222,\"#7201a8\"],[0.3333333333333333,\"#9c179e\"],[0.4444444444444444,\"#bd3786\"],[0.5555555555555556,\"#d8576b\"],[0.6666666666666666,\"#ed7953\"],[0.7777777777777778,\"#fb9f3a\"],[0.8888888888888888,\"#fdca26\"],[1.0,\"#f0f921\"]]}],\"contourcarpet\":[{\"type\":\"contourcarpet\",\"colorbar\":{\"outlinewidth\":0,\"ticks\":\"\"}}],\"contour\":[{\"type\":\"contour\",\"colorbar\":{\"outlinewidth\":0,\"ticks\":\"\"},\"colorscale\":[[0.0,\"#0d0887\"],[0.1111111111111111,\"#46039f\"],[0.2222222222222222,\"#7201a8\"],[0.3333333333333333,\"#9c179e\"],[0.4444444444444444,\"#bd3786\"],[0.5555555555555556,\"#d8576b\"],[0.6666666666666666,\"#ed7953\"],[0.7777777777777778,\"#fb9f3a\"],[0.8888888888888888,\"#fdca26\"],[1.0,\"#f0f921\"]]}],\"surface\":[{\"type\":\"surface\",\"colorbar\":{\"outlinewidth\":0,\"ticks\":\"\"},\"colorscale\":[[0.0,\"#0d0887\"],[0.1111111111111111,\"#46039f\"],[0.2222222222222222,\"#7201a8\"],[0.3333333333333333,\"#9c179e\"],[0.4444444444444444,\"#bd3786\"],[0.5555555555555556,\"#d8576b\"],[0.6666666666666666,\"#ed7953\"],[0.7777777777777778,\"#fb9f3a\"],[0.8888888888888888,\"#fdca26\"],[1.0,\"#f0f921\"]]}],\"mesh3d\":[{\"type\":\"mesh3d\",\"colorbar\":{\"outlinewidth\":0,\"ticks\":\"\"}}],\"scatter\":[{\"fillpattern\":{\"fillmode\":\"overlay\",\"size\":10,\"solidity\":0.2},\"type\":\"scatter\"}],\"parcoords\":[{\"type\":\"parcoords\",\"line\":{\"colorbar\":{\"outlinewidth\":0,\"ticks\":\"\"}}}],\"scatterpolargl\":[{\"type\":\"scatterpolargl\",\"marker\":{\"colorbar\":{\"outlinewidth\":0,\"ticks\":\"\"}}}],\"bar\":[{\"error_x\":{\"color\":\"#2a3f5f\"},\"error_y\":{\"color\":\"#2a3f5f\"},\"marker\":{\"line\":{\"color\":\"#E5ECF6\",\"width\":0.5},\"pattern\":{\"fillmode\":\"overlay\",\"size\":10,\"solidity\":0.2}},\"type\":\"bar\"}],\"scattergeo\":[{\"type\":\"scattergeo\",\"marker\":{\"colorbar\":{\"outlinewidth\":0,\"ticks\":\"\"}}}],\"scatterpolar\":[{\"type\":\"scatterpolar\",\"marker\":{\"colorbar\":{\"outlinewidth\":0,\"ticks\":\"\"}}}],\"histogram\":[{\"marker\":{\"pattern\":{\"fillmode\":\"overlay\",\"size\":10,\"solidity\":0.2}},\"type\":\"histogram\"}],\"scattergl\":[{\"type\":\"scattergl\",\"marker\":{\"colorbar\":{\"outlinewidth\":0,\"ticks\":\"\"}}}],\"scatter3d\":[{\"type\":\"scatter3d\",\"line\":{\"colorbar\":{\"outlinewidth\":0,\"ticks\":\"\"}},\"marker\":{\"colorbar\":{\"outlinewidth\":0,\"ticks\":\"\"}}}],\"scattermapbox\":[{\"type\":\"scattermapbox\",\"marker\":{\"colorbar\":{\"outlinewidth\":0,\"ticks\":\"\"}}}],\"scatterternary\":[{\"type\":\"scatterternary\",\"marker\":{\"colorbar\":{\"outlinewidth\":0,\"ticks\":\"\"}}}],\"scattercarpet\":[{\"type\":\"scattercarpet\",\"marker\":{\"colorbar\":{\"outlinewidth\":0,\"ticks\":\"\"}}}],\"carpet\":[{\"aaxis\":{\"endlinecolor\":\"#2a3f5f\",\"gridcolor\":\"white\",\"linecolor\":\"white\",\"minorgridcolor\":\"white\",\"startlinecolor\":\"#2a3f5f\"},\"baxis\":{\"endlinecolor\":\"#2a3f5f\",\"gridcolor\":\"white\",\"linecolor\":\"white\",\"minorgridcolor\":\"white\",\"startlinecolor\":\"#2a3f5f\"},\"type\":\"carpet\"}],\"table\":[{\"cells\":{\"fill\":{\"color\":\"#EBF0F8\"},\"line\":{\"color\":\"white\"}},\"header\":{\"fill\":{\"color\":\"#C8D4E3\"},\"line\":{\"color\":\"white\"}},\"type\":\"table\"}],\"barpolar\":[{\"marker\":{\"line\":{\"color\":\"#E5ECF6\",\"width\":0.5},\"pattern\":{\"fillmode\":\"overlay\",\"size\":10,\"solidity\":0.2}},\"type\":\"barpolar\"}],\"pie\":[{\"automargin\":true,\"type\":\"pie\"}]},\"layout\":{\"autotypenumbers\":\"strict\",\"colorway\":[\"#636efa\",\"#EF553B\",\"#00cc96\",\"#ab63fa\",\"#FFA15A\",\"#19d3f3\",\"#FF6692\",\"#B6E880\",\"#FF97FF\",\"#FECB52\"],\"font\":{\"color\":\"#2a3f5f\"},\"hovermode\":\"closest\",\"hoverlabel\":{\"align\":\"left\"},\"paper_bgcolor\":\"white\",\"plot_bgcolor\":\"#E5ECF6\",\"polar\":{\"bgcolor\":\"#E5ECF6\",\"angularaxis\":{\"gridcolor\":\"white\",\"linecolor\":\"white\",\"ticks\":\"\"},\"radialaxis\":{\"gridcolor\":\"white\",\"linecolor\":\"white\",\"ticks\":\"\"}},\"ternary\":{\"bgcolor\":\"#E5ECF6\",\"aaxis\":{\"gridcolor\":\"white\",\"linecolor\":\"white\",\"ticks\":\"\"},\"baxis\":{\"gridcolor\":\"white\",\"linecolor\":\"white\",\"ticks\":\"\"},\"caxis\":{\"gridcolor\":\"white\",\"linecolor\":\"white\",\"ticks\":\"\"}},\"coloraxis\":{\"colorbar\":{\"outlinewidth\":0,\"ticks\":\"\"}},\"colorscale\":{\"sequential\":[[0.0,\"#0d0887\"],[0.1111111111111111,\"#46039f\"],[0.2222222222222222,\"#7201a8\"],[0.3333333333333333,\"#9c179e\"],[0.4444444444444444,\"#bd3786\"],[0.5555555555555556,\"#d8576b\"],[0.6666666666666666,\"#ed7953\"],[0.7777777777777778,\"#fb9f3a\"],[0.8888888888888888,\"#fdca26\"],[1.0,\"#f0f921\"]],\"sequentialminus\":[[0.0,\"#0d0887\"],[0.1111111111111111,\"#46039f\"],[0.2222222222222222,\"#7201a8\"],[0.3333333333333333,\"#9c179e\"],[0.4444444444444444,\"#bd3786\"],[0.5555555555555556,\"#d8576b\"],[0.6666666666666666,\"#ed7953\"],[0.7777777777777778,\"#fb9f3a\"],[0.8888888888888888,\"#fdca26\"],[1.0,\"#f0f921\"]],\"diverging\":[[0,\"#8e0152\"],[0.1,\"#c51b7d\"],[0.2,\"#de77ae\"],[0.3,\"#f1b6da\"],[0.4,\"#fde0ef\"],[0.5,\"#f7f7f7\"],[0.6,\"#e6f5d0\"],[0.7,\"#b8e186\"],[0.8,\"#7fbc41\"],[0.9,\"#4d9221\"],[1,\"#276419\"]]},\"xaxis\":{\"gridcolor\":\"white\",\"linecolor\":\"white\",\"ticks\":\"\",\"title\":{\"standoff\":15},\"zerolinecolor\":\"white\",\"automargin\":true,\"zerolinewidth\":2},\"yaxis\":{\"gridcolor\":\"white\",\"linecolor\":\"white\",\"ticks\":\"\",\"title\":{\"standoff\":15},\"zerolinecolor\":\"white\",\"automargin\":true,\"zerolinewidth\":2},\"scene\":{\"xaxis\":{\"backgroundcolor\":\"#E5ECF6\",\"gridcolor\":\"white\",\"linecolor\":\"white\",\"showbackground\":true,\"ticks\":\"\",\"zerolinecolor\":\"white\",\"gridwidth\":2},\"yaxis\":{\"backgroundcolor\":\"#E5ECF6\",\"gridcolor\":\"white\",\"linecolor\":\"white\",\"showbackground\":true,\"ticks\":\"\",\"zerolinecolor\":\"white\",\"gridwidth\":2},\"zaxis\":{\"backgroundcolor\":\"#E5ECF6\",\"gridcolor\":\"white\",\"linecolor\":\"white\",\"showbackground\":true,\"ticks\":\"\",\"zerolinecolor\":\"white\",\"gridwidth\":2}},\"shapedefaults\":{\"line\":{\"color\":\"#2a3f5f\"}},\"annotationdefaults\":{\"arrowcolor\":\"#2a3f5f\",\"arrowhead\":0,\"arrowwidth\":1},\"geo\":{\"bgcolor\":\"white\",\"landcolor\":\"#E5ECF6\",\"subunitcolor\":\"white\",\"showland\":true,\"showlakes\":true,\"lakecolor\":\"white\"},\"title\":{\"x\":0.05},\"mapbox\":{\"style\":\"light\"}}},\"geo\":{\"domain\":{\"x\":[0.0,1.0],\"y\":[0.0,1.0]},\"center\":{}},\"coloraxis\":{\"colorbar\":{\"title\":{\"text\":\"sum_of_medals\"}},\"colorscale\":[[0.0,\"rgb(210, 251, 212)\"],[0.16666666666666666,\"rgb(165, 219, 194)\"],[0.3333333333333333,\"rgb(123, 188, 176)\"],[0.5,\"rgb(85, 156, 158)\"],[0.6666666666666666,\"rgb(58, 124, 137)\"],[0.8333333333333334,\"rgb(35, 93, 114)\"],[1.0,\"rgb(18, 63, 90)\"]]},\"legend\":{\"tracegroupgap\":0},\"title\":{\"text\":\"Olympics Medal timelapse\"},\"height\":1200,\"width\":1500,\"updatemenus\":[{\"buttons\":[{\"args\":[null,{\"frame\":{\"duration\":500,\"redraw\":true},\"mode\":\"immediate\",\"fromcurrent\":true,\"transition\":{\"duration\":500,\"easing\":\"linear\"}}],\"label\":\"&#9654;\",\"method\":\"animate\"},{\"args\":[[null],{\"frame\":{\"duration\":0,\"redraw\":true},\"mode\":\"immediate\",\"fromcurrent\":true,\"transition\":{\"duration\":0,\"easing\":\"linear\"}}],\"label\":\"&#9724;\",\"method\":\"animate\"}],\"direction\":\"left\",\"pad\":{\"r\":10,\"t\":70},\"showactive\":false,\"type\":\"buttons\",\"x\":0.1,\"xanchor\":\"right\",\"y\":0,\"yanchor\":\"top\"}],\"sliders\":[{\"active\":0,\"currentvalue\":{\"prefix\":\"date=\"},\"len\":0.9,\"pad\":{\"b\":10,\"t\":60},\"steps\":[{\"args\":[[\"1896\"],{\"frame\":{\"duration\":0,\"redraw\":true},\"mode\":\"immediate\",\"fromcurrent\":true,\"transition\":{\"duration\":0,\"easing\":\"linear\"}}],\"label\":\"1896\",\"method\":\"animate\"},{\"args\":[[\"1900\"],{\"frame\":{\"duration\":0,\"redraw\":true},\"mode\":\"immediate\",\"fromcurrent\":true,\"transition\":{\"duration\":0,\"easing\":\"linear\"}}],\"label\":\"1900\",\"method\":\"animate\"},{\"args\":[[\"1904\"],{\"frame\":{\"duration\":0,\"redraw\":true},\"mode\":\"immediate\",\"fromcurrent\":true,\"transition\":{\"duration\":0,\"easing\":\"linear\"}}],\"label\":\"1904\",\"method\":\"animate\"},{\"args\":[[\"1908\"],{\"frame\":{\"duration\":0,\"redraw\":true},\"mode\":\"immediate\",\"fromcurrent\":true,\"transition\":{\"duration\":0,\"easing\":\"linear\"}}],\"label\":\"1908\",\"method\":\"animate\"},{\"args\":[[\"1912\"],{\"frame\":{\"duration\":0,\"redraw\":true},\"mode\":\"immediate\",\"fromcurrent\":true,\"transition\":{\"duration\":0,\"easing\":\"linear\"}}],\"label\":\"1912\",\"method\":\"animate\"},{\"args\":[[\"1920\"],{\"frame\":{\"duration\":0,\"redraw\":true},\"mode\":\"immediate\",\"fromcurrent\":true,\"transition\":{\"duration\":0,\"easing\":\"linear\"}}],\"label\":\"1920\",\"method\":\"animate\"},{\"args\":[[\"1924\"],{\"frame\":{\"duration\":0,\"redraw\":true},\"mode\":\"immediate\",\"fromcurrent\":true,\"transition\":{\"duration\":0,\"easing\":\"linear\"}}],\"label\":\"1924\",\"method\":\"animate\"},{\"args\":[[\"1928\"],{\"frame\":{\"duration\":0,\"redraw\":true},\"mode\":\"immediate\",\"fromcurrent\":true,\"transition\":{\"duration\":0,\"easing\":\"linear\"}}],\"label\":\"1928\",\"method\":\"animate\"},{\"args\":[[\"1932\"],{\"frame\":{\"duration\":0,\"redraw\":true},\"mode\":\"immediate\",\"fromcurrent\":true,\"transition\":{\"duration\":0,\"easing\":\"linear\"}}],\"label\":\"1932\",\"method\":\"animate\"},{\"args\":[[\"1936\"],{\"frame\":{\"duration\":0,\"redraw\":true},\"mode\":\"immediate\",\"fromcurrent\":true,\"transition\":{\"duration\":0,\"easing\":\"linear\"}}],\"label\":\"1936\",\"method\":\"animate\"},{\"args\":[[\"1948\"],{\"frame\":{\"duration\":0,\"redraw\":true},\"mode\":\"immediate\",\"fromcurrent\":true,\"transition\":{\"duration\":0,\"easing\":\"linear\"}}],\"label\":\"1948\",\"method\":\"animate\"},{\"args\":[[\"1952\"],{\"frame\":{\"duration\":0,\"redraw\":true},\"mode\":\"immediate\",\"fromcurrent\":true,\"transition\":{\"duration\":0,\"easing\":\"linear\"}}],\"label\":\"1952\",\"method\":\"animate\"},{\"args\":[[\"1956\"],{\"frame\":{\"duration\":0,\"redraw\":true},\"mode\":\"immediate\",\"fromcurrent\":true,\"transition\":{\"duration\":0,\"easing\":\"linear\"}}],\"label\":\"1956\",\"method\":\"animate\"},{\"args\":[[\"1960\"],{\"frame\":{\"duration\":0,\"redraw\":true},\"mode\":\"immediate\",\"fromcurrent\":true,\"transition\":{\"duration\":0,\"easing\":\"linear\"}}],\"label\":\"1960\",\"method\":\"animate\"},{\"args\":[[\"1964\"],{\"frame\":{\"duration\":0,\"redraw\":true},\"mode\":\"immediate\",\"fromcurrent\":true,\"transition\":{\"duration\":0,\"easing\":\"linear\"}}],\"label\":\"1964\",\"method\":\"animate\"},{\"args\":[[\"1968\"],{\"frame\":{\"duration\":0,\"redraw\":true},\"mode\":\"immediate\",\"fromcurrent\":true,\"transition\":{\"duration\":0,\"easing\":\"linear\"}}],\"label\":\"1968\",\"method\":\"animate\"},{\"args\":[[\"1972\"],{\"frame\":{\"duration\":0,\"redraw\":true},\"mode\":\"immediate\",\"fromcurrent\":true,\"transition\":{\"duration\":0,\"easing\":\"linear\"}}],\"label\":\"1972\",\"method\":\"animate\"},{\"args\":[[\"1976\"],{\"frame\":{\"duration\":0,\"redraw\":true},\"mode\":\"immediate\",\"fromcurrent\":true,\"transition\":{\"duration\":0,\"easing\":\"linear\"}}],\"label\":\"1976\",\"method\":\"animate\"},{\"args\":[[\"1980\"],{\"frame\":{\"duration\":0,\"redraw\":true},\"mode\":\"immediate\",\"fromcurrent\":true,\"transition\":{\"duration\":0,\"easing\":\"linear\"}}],\"label\":\"1980\",\"method\":\"animate\"},{\"args\":[[\"1984\"],{\"frame\":{\"duration\":0,\"redraw\":true},\"mode\":\"immediate\",\"fromcurrent\":true,\"transition\":{\"duration\":0,\"easing\":\"linear\"}}],\"label\":\"1984\",\"method\":\"animate\"},{\"args\":[[\"1988\"],{\"frame\":{\"duration\":0,\"redraw\":true},\"mode\":\"immediate\",\"fromcurrent\":true,\"transition\":{\"duration\":0,\"easing\":\"linear\"}}],\"label\":\"1988\",\"method\":\"animate\"},{\"args\":[[\"1992\"],{\"frame\":{\"duration\":0,\"redraw\":true},\"mode\":\"immediate\",\"fromcurrent\":true,\"transition\":{\"duration\":0,\"easing\":\"linear\"}}],\"label\":\"1992\",\"method\":\"animate\"},{\"args\":[[\"1994\"],{\"frame\":{\"duration\":0,\"redraw\":true},\"mode\":\"immediate\",\"fromcurrent\":true,\"transition\":{\"duration\":0,\"easing\":\"linear\"}}],\"label\":\"1994\",\"method\":\"animate\"},{\"args\":[[\"1996\"],{\"frame\":{\"duration\":0,\"redraw\":true},\"mode\":\"immediate\",\"fromcurrent\":true,\"transition\":{\"duration\":0,\"easing\":\"linear\"}}],\"label\":\"1996\",\"method\":\"animate\"},{\"args\":[[\"1998\"],{\"frame\":{\"duration\":0,\"redraw\":true},\"mode\":\"immediate\",\"fromcurrent\":true,\"transition\":{\"duration\":0,\"easing\":\"linear\"}}],\"label\":\"1998\",\"method\":\"animate\"},{\"args\":[[\"2000\"],{\"frame\":{\"duration\":0,\"redraw\":true},\"mode\":\"immediate\",\"fromcurrent\":true,\"transition\":{\"duration\":0,\"easing\":\"linear\"}}],\"label\":\"2000\",\"method\":\"animate\"},{\"args\":[[\"2002\"],{\"frame\":{\"duration\":0,\"redraw\":true},\"mode\":\"immediate\",\"fromcurrent\":true,\"transition\":{\"duration\":0,\"easing\":\"linear\"}}],\"label\":\"2002\",\"method\":\"animate\"},{\"args\":[[\"2004\"],{\"frame\":{\"duration\":0,\"redraw\":true},\"mode\":\"immediate\",\"fromcurrent\":true,\"transition\":{\"duration\":0,\"easing\":\"linear\"}}],\"label\":\"2004\",\"method\":\"animate\"},{\"args\":[[\"2006\"],{\"frame\":{\"duration\":0,\"redraw\":true},\"mode\":\"immediate\",\"fromcurrent\":true,\"transition\":{\"duration\":0,\"easing\":\"linear\"}}],\"label\":\"2006\",\"method\":\"animate\"},{\"args\":[[\"2008\"],{\"frame\":{\"duration\":0,\"redraw\":true},\"mode\":\"immediate\",\"fromcurrent\":true,\"transition\":{\"duration\":0,\"easing\":\"linear\"}}],\"label\":\"2008\",\"method\":\"animate\"},{\"args\":[[\"2010\"],{\"frame\":{\"duration\":0,\"redraw\":true},\"mode\":\"immediate\",\"fromcurrent\":true,\"transition\":{\"duration\":0,\"easing\":\"linear\"}}],\"label\":\"2010\",\"method\":\"animate\"},{\"args\":[[\"2012\"],{\"frame\":{\"duration\":0,\"redraw\":true},\"mode\":\"immediate\",\"fromcurrent\":true,\"transition\":{\"duration\":0,\"easing\":\"linear\"}}],\"label\":\"2012\",\"method\":\"animate\"},{\"args\":[[\"2014\"],{\"frame\":{\"duration\":0,\"redraw\":true},\"mode\":\"immediate\",\"fromcurrent\":true,\"transition\":{\"duration\":0,\"easing\":\"linear\"}}],\"label\":\"2014\",\"method\":\"animate\"},{\"args\":[[\"2016\"],{\"frame\":{\"duration\":0,\"redraw\":true},\"mode\":\"immediate\",\"fromcurrent\":true,\"transition\":{\"duration\":0,\"easing\":\"linear\"}}],\"label\":\"2016\",\"method\":\"animate\"},{\"args\":[[\"2018\"],{\"frame\":{\"duration\":0,\"redraw\":true},\"mode\":\"immediate\",\"fromcurrent\":true,\"transition\":{\"duration\":0,\"easing\":\"linear\"}}],\"label\":\"2018\",\"method\":\"animate\"},{\"args\":[[\"2020\"],{\"frame\":{\"duration\":0,\"redraw\":true},\"mode\":\"immediate\",\"fromcurrent\":true,\"transition\":{\"duration\":0,\"easing\":\"linear\"}}],\"label\":\"2020\",\"method\":\"animate\"},{\"args\":[[\"2022\"],{\"frame\":{\"duration\":0,\"redraw\":true},\"mode\":\"immediate\",\"fromcurrent\":true,\"transition\":{\"duration\":0,\"easing\":\"linear\"}}],\"label\":\"2022\",\"method\":\"animate\"}],\"x\":0.1,\"xanchor\":\"left\",\"y\":0,\"yanchor\":\"top\"}]},                        {\"responsive\": true}                    ).then(function(){\n",
       "                            Plotly.addFrames('5797691a-c818-4a23-8559-c936e032db59', [{\"data\":[{\"coloraxis\":\"coloraxis\",\"customdata\":[[2],[4],[1],[4],[4],[4],[4],[4],[4],[1],[2],[1],[3],[4]],\"geo\":\"geo\",\"hovertemplate\":\"date=1896\\u003cbr\\u003ecountry_name=%{location}\\u003cbr\\u003esum_of_medals=%{z}\\u003cextra\\u003e\\u003c\\u002fextra\\u003e\",\"locationmode\":\"country names\",\"locations\":[\"Australia\",\"Austria\",\"Chile\",\"Denmark\",\"France\",\"Germany\",\"Great Britain\",\"Greece\",\"Hungary\",\"Italy\",\"MIX\",\"Sweden\",\"Switzerland\",\"United States of America\"],\"name\":\"\",\"z\":[2,4,1,4,4,4,4,4,4,1,2,1,3,4],\"type\":\"choropleth\"}],\"name\":\"1896\"},{\"data\":[{\"coloraxis\":\"coloraxis\",\"customdata\":[[1],[3],[3],[4],[3],[1],[3],[1],[2],[4],[4],[4],[4],[1],[4],[2],[3],[1],[4],[3],[1],[3],[1],[1],[2],[2],[4],[4]],\"geo\":\"geo\",\"hovertemplate\":\"date=1900\\u003cbr\\u003ecountry_name=%{location}\\u003cbr\\u003esum_of_medals=%{z}\\u003cextra\\u003e\\u003c\\u002fextra\\u003e\",\"locationmode\":\"country names\",\"locations\":[\"Argentina\",\"Australia\",\"Austria\",\"Belgium\",\"Bohemia\",\"Brazil\",\"Canada\",\"Chile\",\"Cuba\",\"Denmark\",\"France\",\"Germany\",\"Great Britain\",\"Greece\",\"Hungary\",\"India\",\"Italy\",\"Luxembourg\",\"MIX\",\"Netherlands\",\"New Zealand\",\"Norway\",\"Romania\",\"Russian Federation\",\"Spain\",\"Sweden\",\"Switzerland\",\"United States of America\"],\"name\":\"\",\"z\":[1,3,3,4,3,1,3,1,2,4,4,4,4,1,4,2,3,1,4,3,1,3,1,1,2,2,4,4],\"type\":\"choropleth\"}],\"name\":\"1900\"},{\"data\":[{\"coloraxis\":\"coloraxis\",\"customdata\":[[3],[4],[4],[2],[1],[4],[3],[3],[4],[4],[1],[1],[2],[1],[3],[4]],\"geo\":\"geo\",\"hovertemplate\":\"date=1904\\u003cbr\\u003ecountry_name=%{location}\\u003cbr\\u003esum_of_medals=%{z}\\u003cextra\\u003e\\u003c\\u002fextra\\u003e\",\"locationmode\":\"country names\",\"locations\":[\"Australia\",\"Austria\",\"Canada\",\"Cuba\",\"France\",\"Germany\",\"Great Britain\",\"Greece\",\"Hungary\",\"MIX\",\"New Zealand\",\"Newfoundland\",\"Norway\",\"South Africa\",\"Switzerland\",\"United States of America\"],\"name\":\"\",\"z\":[3,4,4,2,1,4,3,3,4,4,1,1,2,1,3,4],\"type\":\"choropleth\"}],\"name\":\"1904\"},{\"data\":[{\"coloraxis\":\"coloraxis\",\"customdata\":[[1],[4],[1],[2],[4],[2],[4],[3],[4],[4],[4],[4],[3],[4],[1],[3],[2],[4],[3],[3],[4],[1],[1],[4]],\"geo\":\"geo\",\"hovertemplate\":\"date=1908\\u003cbr\\u003ecountry_name=%{location}\\u003cbr\\u003esum_of_medals=%{z}\\u003cextra\\u003e\\u003c\\u002fextra\\u003e\",\"locationmode\":\"country names\",\"locations\":[\"Argentina\",\"Australasia\",\"Australia\",\"Austria\",\"Belgium\",\"Bohemia\",\"Canada\",\"Denmark\",\"Finland\",\"France\",\"Germany\",\"Great Britain\",\"Greece\",\"Hungary\",\"Iceland\",\"Italy\",\"Netherlands\",\"Norway\",\"Russian Federation\",\"South Africa\",\"Sweden\",\"Switzerland\",\"Turkey\",\"United States of America\"],\"name\":\"\",\"z\":[1,4,1,2,4,2,4,3,4,4,4,4,3,4,1,3,2,4,3,3,4,1,1,4],\"type\":\"choropleth\"}],\"name\":\"1908\"},{\"data\":[{\"coloraxis\":\"coloraxis\",\"customdata\":[[4],[3],[4],[1],[4],[1],[4],[4],[4],[4],[4],[3],[4],[1],[4],[1],[1],[2],[4],[1],[3],[1],[3],[4],[1],[1],[4]],\"geo\":\"geo\",\"hovertemplate\":\"date=1912\\u003cbr\\u003ecountry_name=%{location}\\u003cbr\\u003esum_of_medals=%{z}\\u003cextra\\u003e\\u003c\\u002fextra\\u003e\",\"locationmode\":\"country names\",\"locations\":[\"Australasia\",\"Austria\",\"Belgium\",\"Bohemia\",\"Canada\",\"Chile\",\"Denmark\",\"Finland\",\"France\",\"Germany\",\"Great Britain\",\"Greece\",\"Hungary\",\"Iceland\",\"Italy\",\"Japan\",\"Luxembourg\",\"Netherlands\",\"Norway\",\"Portugal\",\"Russian Federation\",\"Serbia\",\"South Africa\",\"Sweden\",\"Switzerland\",\"Turkey\",\"United States of America\"],\"name\":\"\",\"z\":[4,3,4,1,4,1,4,4,4,4,4,3,4,1,4,1,1,2,4,1,3,1,3,4,1,1,4],\"type\":\"choropleth\"}],\"name\":\"1912\"},{\"data\":[{\"coloraxis\":\"coloraxis\",\"customdata\":[[1],[3],[4],[4],[4],[1],[2],[4],[1],[3],[4],[4],[4],[2],[1],[4],[2],[2],[1],[4],[2],[4],[1],[1],[4],[2],[4],[4],[4],[1]],\"geo\":\"geo\",\"hovertemplate\":\"date=1920\\u003cbr\\u003ecountry_name=%{location}\\u003cbr\\u003esum_of_medals=%{z}\\u003cextra\\u003e\\u003c\\u002fextra\\u003e\",\"locationmode\":\"country names\",\"locations\":[\"Argentina\",\"Australia\",\"Belgium\",\"Brazil\",\"Canada\",\"Chile\",\"Czechoslovakia\",\"Denmark\",\"Egypt\",\"Estonia\",\"Finland\",\"France\",\"Great Britain\",\"Greece\",\"India\",\"Italy\",\"Japan\",\"Luxembourg\",\"Monaco\",\"Netherlands\",\"New Zealand\",\"Norway\",\"Poland\",\"Portugal\",\"South Africa\",\"Spain\",\"Sweden\",\"Switzerland\",\"United States of America\",\"Yugoslavia\"],\"name\":\"\",\"z\":[1,3,4,4,4,1,2,4,1,3,4,4,4,2,1,4,2,2,1,4,2,4,1,1,4,2,4,4,4,1],\"type\":\"choropleth\"}],\"name\":\"1920\"},{\"data\":[{\"coloraxis\":\"coloraxis\",\"customdata\":[[4],[4],[4],[4],[1],[1],[4],[1],[1],[4],[4],[1],[1],[4],[4],[4],[4],[1],[2],[4],[1],[1],[4],[2],[1],[1],[1],[1],[1],[4],[2],[4],[1],[3],[2],[2],[4],[1],[4],[4],[1],[4],[2],[2]],\"geo\":\"geo\",\"hovertemplate\":\"date=1924\\u003cbr\\u003ecountry_name=%{location}\\u003cbr\\u003esum_of_medals=%{z}\\u003cextra\\u003e\\u003c\\u002fextra\\u003e\",\"locationmode\":\"country names\",\"locations\":[\"Argentina\",\"Australia\",\"Austria\",\"Belgium\",\"Brazil\",\"Bulgaria\",\"Canada\",\"Chile\",\"Cuba\",\"Czechoslovakia\",\"Denmark\",\"Ecuador\",\"Egypt\",\"Estonia\",\"Finland\",\"France\",\"Great Britain\",\"Greece\",\"Haiti\",\"Hungary\",\"India\",\"Ireland\",\"Italy\",\"Japan\",\"Latvia\",\"Lithuania\",\"Luxembourg\",\"Mexico\",\"Monaco\",\"Netherlands\",\"New Zealand\",\"Norway\",\"Philippines\",\"Poland\",\"Portugal\",\"Romania\",\"South Africa\",\"Spain\",\"Sweden\",\"Switzerland\",\"Turkey\",\"United States of America\",\"Uruguay\",\"Yugoslavia\"],\"name\":\"\",\"z\":[4,4,4,4,1,1,4,1,1,4,4,1,1,4,4,4,4,1,2,4,1,1,4,2,1,1,1,1,1,4,2,4,1,3,2,2,4,1,4,4,1,4,2,2],\"type\":\"choropleth\"}],\"name\":\"1924\"},{\"data\":[{\"coloraxis\":\"coloraxis\",\"customdata\":[[4],[4],[4],[3],[1],[4],[2],[1],[4],[4],[4],[4],[4],[4],[4],[4],[1],[1],[3],[2],[2],[4],[4],[1],[1],[1],[1],[1],[1],[4],[2],[4],[2],[4],[2],[1],[3],[2],[4],[4],[1],[4],[1],[4],[1]],\"geo\":\"geo\",\"hovertemplate\":\"date=1928\\u003cbr\\u003ecountry_name=%{location}\\u003cbr\\u003esum_of_medals=%{z}\\u003cextra\\u003e\\u003c\\u002fextra\\u003e\",\"locationmode\":\"country names\",\"locations\":[\"Argentina\",\"Australia\",\"Austria\",\"Belgium\",\"Bulgaria\",\"Canada\",\"Chile\",\"Cuba\",\"Czechoslovakia\",\"Denmark\",\"Egypt\",\"Estonia\",\"Finland\",\"France\",\"Germany\",\"Great Britain\",\"Greece\",\"Haiti\",\"Hungary\",\"India\",\"Ireland\",\"Italy\",\"Japan\",\"Latvia\",\"Lithuania\",\"Luxembourg\",\"Malta\",\"Mexico\",\"Monaco\",\"Netherlands\",\"New Zealand\",\"Norway\",\"Philippines\",\"Poland\",\"Portugal\",\"Romania\",\"South Africa\",\"Spain\",\"Sweden\",\"Switzerland\",\"Turkey\",\"United States of America\",\"Uruguay\",\"Yugoslavia\",\"Zimbabwe\"],\"name\":\"\",\"z\":[4,4,4,3,1,4,2,1,4,4,4,4,4,4,4,4,1,1,3,2,2,4,4,1,1,1,1,1,1,4,2,4,2,4,2,1,3,2,4,4,1,4,1,4,1],\"type\":\"choropleth\"}],\"name\":\"1928\"},{\"data\":[{\"coloraxis\":\"coloraxis\",\"customdata\":[[3],[4],[4],[1],[1],[4],[1],[1],[4],[3],[1],[4],[4],[4],[4],[1],[1],[4],[2],[2],[4],[4],[2],[1],[2],[3],[2],[4],[2],[4],[1],[1],[3],[2],[4],[2],[4],[1],[1]],\"geo\":\"geo\",\"hovertemplate\":\"date=1932\\u003cbr\\u003ecountry_name=%{location}\\u003cbr\\u003esum_of_medals=%{z}\\u003cextra\\u003e\\u003c\\u002fextra\\u003e\",\"locationmode\":\"country names\",\"locations\":[\"Argentina\",\"Australia\",\"Austria\",\"Belgium\",\"Brazil\",\"Canada\",\"Colombia\",\"Cuba\",\"Czechoslovakia\",\"Denmark\",\"Estonia\",\"Finland\",\"France\",\"Germany\",\"Great Britain\",\"Greece\",\"Haiti\",\"Hungary\",\"India\",\"Ireland\",\"Italy\",\"Japan\",\"Latvia\",\"MIX\",\"Mexico\",\"Netherlands\",\"New Zealand\",\"Norway\",\"Philippines\",\"Poland\",\"Portugal\",\"Romania\",\"South Africa\",\"Spain\",\"Sweden\",\"Switzerland\",\"United States of America\",\"Uruguay\",\"Yugoslavia\"],\"name\":\"\",\"z\":[3,4,4,1,1,4,1,1,4,3,1,4,4,4,4,1,1,4,2,2,4,4,2,1,2,3,2,4,2,4,1,1,3,2,4,2,4,1,1],\"type\":\"choropleth\"}],\"name\":\"1932\"},{\"data\":[{\"coloraxis\":\"coloraxis\",\"customdata\":[[1],[4],[2],[4],[2],[1],[1],[1],[4],[1],[1],[3],[3],[4],[4],[4],[4],[4],[4],[1],[4],[1],[2],[4],[4],[3],[1],[1],[1],[2],[1],[4],[2],[4],[1],[1],[2],[3],[2],[2],[2],[1],[4],[4],[3],[4],[1],[2]],\"geo\":\"geo\",\"hovertemplate\":\"date=1936\\u003cbr\\u003ecountry_name=%{location}\\u003cbr\\u003esum_of_medals=%{z}\\u003cextra\\u003e\\u003c\\u002fextra\\u003e\",\"locationmode\":\"country names\",\"locations\":[\"Afghanistan\",\"Argentina\",\"Australia\",\"Austria\",\"Belgium\",\"Bermuda\",\"Brazil\",\"Bulgaria\",\"Canada\",\"Chile\",\"Colombia\",\"Czechoslovakia\",\"Denmark\",\"Egypt\",\"Estonia\",\"Finland\",\"France\",\"Germany\",\"Great Britain\",\"Greece\",\"Hungary\",\"Iceland\",\"India\",\"Italy\",\"Japan\",\"Latvia\",\"Liechtenstein\",\"Luxembourg\",\"Malta\",\"Mexico\",\"Monaco\",\"Netherlands\",\"New Zealand\",\"Norway\",\"People's Republic of China\",\"Peru\",\"Philippines\",\"Poland\",\"Portugal\",\"Romania\",\"South Africa\",\"Spain\",\"Sweden\",\"Switzerland\",\"Turkey\",\"United States of America\",\"Uruguay\",\"Yugoslavia\"],\"name\":\"\",\"z\":[1,4,2,4,2,1,1,1,4,1,1,3,3,4,4,4,4,4,4,1,4,1,2,4,4,3,1,1,1,2,1,4,2,4,1,1,2,3,2,2,2,1,4,4,3,4,1,2],\"type\":\"choropleth\"}],\"name\":\"1936\"},{\"data\":[{\"coloraxis\":\"coloraxis\",\"customdata\":[[1],[4],[4],[4],[4],[1],[2],[1],[4],[1],[1],[2],[4],[4],[4],[4],[4],[4],[1],[1],[4],[1],[2],[1],[1],[2],[4],[3],[1],[1],[1],[4],[1],[1],[4],[1],[4],[1],[1],[1],[2],[1],[2],[3],[2],[2],[1],[1],[4],[2],[2],[4],[4],[1],[2],[4],[4],[3],[1],[2]],\"geo\":\"geo\",\"hovertemplate\":\"date=1948\\u003cbr\\u003ecountry_name=%{location}\\u003cbr\\u003esum_of_medals=%{z}\\u003cextra\\u003e\\u003c\\u002fextra\\u003e\",\"locationmode\":\"country names\",\"locations\":[\"Afghanistan\",\"Argentina\",\"Australia\",\"Austria\",\"Belgium\",\"Bermuda\",\"Brazil\",\"Bulgaria\",\"Canada\",\"Chile\",\"Colombia\",\"Cuba\",\"Czechoslovakia\",\"Denmark\",\"Egypt\",\"Finland\",\"France\",\"Great Britain\",\"Greece\",\"Guyana\",\"Hungary\",\"Iceland\",\"India\",\"Iraq\",\"Ireland\",\"Islamic Republic of Iran\",\"Italy\",\"Jamaica\",\"Lebanon\",\"Liechtenstein\",\"Luxembourg\",\"Mexico\",\"Monaco\",\"Myanmar\",\"Netherlands\",\"New Zealand\",\"Norway\",\"Pakistan\",\"Panama\",\"People's Republic of China\",\"Peru\",\"Philippines\",\"Poland\",\"Portugal\",\"Puerto Rico\",\"Republic of Korea\",\"Romania\",\"Singapore\",\"South Africa\",\"Spain\",\"Sri Lanka\",\"Sweden\",\"Switzerland\",\"Syrian Arab Republic\",\"Trinidad and Tobago\",\"Turkey\",\"United States of America\",\"Uruguay\",\"Venezuela\",\"Yugoslavia\"],\"name\":\"\",\"z\":[1,4,4,4,4,1,2,1,4,1,1,2,4,4,4,4,4,4,1,1,4,1,2,1,1,2,4,3,1,1,1,4,1,1,4,1,4,1,1,1,2,1,2,3,2,2,1,1,4,2,2,4,4,1,2,4,4,3,1,2],\"type\":\"choropleth\"}],\"name\":\"1948\"},{\"data\":[{\"coloraxis\":\"coloraxis\",\"customdata\":[[4],[4],[4],[1],[3],[1],[3],[2],[4],[2],[1],[4],[4],[2],[4],[4],[4],[1],[4],[1],[1],[1],[4],[1],[3],[1],[2],[3],[1],[4],[3],[4],[3],[1],[2],[2],[1],[1],[2],[1],[3],[1],[4],[1],[1],[1],[1],[4],[2],[1],[2],[4],[1],[1],[4],[1],[4],[2],[1],[4],[4],[1],[1],[3],[4],[2],[2],[3]],\"geo\":\"geo\",\"hovertemplate\":\"date=1952\\u003cbr\\u003ecountry_name=%{location}\\u003cbr\\u003esum_of_medals=%{z}\\u003cextra\\u003e\\u003c\\u002fextra\\u003e\",\"locationmode\":\"country names\",\"locations\":[\"Argentina\",\"Australia\",\"Austria\",\"Bahamas\",\"Belgium\",\"Bermuda\",\"Brazil\",\"Bulgaria\",\"Canada\",\"Chile\",\"Cuba\",\"Czechoslovakia\",\"Denmark\",\"Egypt\",\"Finland\",\"France\",\"Germany\",\"Ghana\",\"Great Britain\",\"Greece\",\"Guatemala\",\"Guyana\",\"Hungary\",\"Iceland\",\"India\",\"Indonesia\",\"Ireland\",\"Islamic Republic of Iran\",\"Israel\",\"Italy\",\"Jamaica\",\"Japan\",\"Lebanon\",\"Liechtenstein\",\"Luxembourg\",\"Mexico\",\"Monaco\",\"Myanmar\",\"Netherlands\",\"Netherlands Antilles\",\"New Zealand\",\"Nigeria\",\"Norway\",\"Pakistan\",\"Panama\",\"People's Republic of China\",\"Philippines\",\"Poland\",\"Portugal\",\"Puerto Rico\",\"Republic of Korea\",\"Romania\",\"Saar\",\"Singapore\",\"South Africa\",\"South Vietnam\",\"Soviet Union\",\"Spain\",\"Sri Lanka\",\"Sweden\",\"Switzerland\",\"Thailand\",\"Trinidad and Tobago\",\"Turkey\",\"United States of America\",\"Uruguay\",\"Venezuela\",\"Yugoslavia\"],\"name\":\"\",\"z\":[4,4,4,1,3,1,3,2,4,2,1,4,4,2,4,4,4,1,4,1,1,1,4,1,3,1,2,3,1,4,3,4,3,1,2,2,1,1,2,1,3,1,4,1,1,1,1,4,2,1,2,4,1,1,4,1,4,2,1,4,4,1,1,3,4,2,2,3],\"type\":\"choropleth\"}],\"name\":\"1952\"},{\"data\":[{\"coloraxis\":\"coloraxis\",\"customdata\":[[1],[3],[4],[4],[2],[2],[1],[1],[2],[4],[4],[3],[1],[1],[1],[4],[4],[1],[1],[4],[4],[4],[4],[2],[1],[4],[2],[2],[1],[1],[4],[4],[1],[4],[1],[4],[1],[1],[1],[1],[1],[1],[3],[1],[1],[2],[1],[1],[4],[2],[1],[1],[4],[1],[1],[3],[4],[1],[2],[1],[4],[1],[1],[4],[4],[1],[1],[4],[1],[4],[2],[1],[2]],\"geo\":\"geo\",\"hovertemplate\":\"date=1956\\u003cbr\\u003ecountry_name=%{location}\\u003cbr\\u003esum_of_medals=%{z}\\u003cextra\\u003e\\u003c\\u002fextra\\u003e\",\"locationmode\":\"country names\",\"locations\":[\"Afghanistan\",\"Argentina\",\"Australia\",\"Austria\",\"Bahamas\",\"Belgium\",\"Bermuda\",\"Bolivia\",\"Brazil\",\"Bulgaria\",\"Canada\",\"Chile\",\"Chinese Taipei\",\"Colombia\",\"Cuba\",\"Czechoslovakia\",\"Denmark\",\"Ethiopia\",\"Fiji\",\"Finland\",\"France\",\"Germany\",\"Great Britain\",\"Greece\",\"Guyana\",\"Hungary\",\"Iceland\",\"India\",\"Indonesia\",\"Iraq\",\"Ireland\",\"Islamic Republic of Iran\",\"Israel\",\"Italy\",\"Jamaica\",\"Japan\",\"Kenya\",\"Lebanon\",\"Liberia\",\"Liechtenstein\",\"Luxembourg\",\"Malaya\",\"Mexico\",\"Myanmar\",\"Netherlands\",\"New Zealand\",\"Nigeria\",\"North Borneo\",\"Norway\",\"Pakistan\",\"Peru\",\"Philippines\",\"Poland\",\"Portugal\",\"Puerto Rico\",\"Republic of Korea\",\"Romania\",\"Singapore\",\"South Africa\",\"South Vietnam\",\"Soviet Union\",\"Spain\",\"Sri Lanka\",\"Sweden\",\"Switzerland\",\"Thailand\",\"Trinidad and Tobago\",\"Turkey\",\"Uganda\",\"United States of America\",\"Uruguay\",\"Venezuela\",\"Yugoslavia\"],\"name\":\"\",\"z\":[1,3,4,4,2,2,1,1,2,4,4,3,1,1,1,4,4,1,1,4,4,4,4,2,1,4,2,2,1,1,4,4,1,4,1,4,1,1,1,1,1,1,3,1,1,2,1,1,4,2,1,1,4,1,1,3,4,1,2,1,4,1,1,4,4,1,1,4,1,4,2,1,2],\"type\":\"choropleth\"}],\"name\":\"1956\"},{\"data\":[{\"coloraxis\":\"coloraxis\",\"customdata\":[[1],[3],[4],[4],[1],[3],[1],[2],[4],[4],[1],[2],[1],[1],[4],[4],[2],[4],[4],[4],[2],[4],[2],[1],[1],[1],[4],[1],[2],[1],[2],[1],[3],[1],[4],[4],[1],[1],[1],[1],[1],[1],[1],[2],[1],[2],[1],[3],[1],[3],[1],[3],[3],[1],[1],[1],[4],[2],[1],[1],[1],[4],[1],[2],[1],[3],[1],[4],[2],[1],[1],[1],[4],[4],[1],[1],[3],[1],[3],[4],[1],[2],[2],[3],[1]],\"geo\":\"geo\",\"hovertemplate\":\"date=1960\\u003cbr\\u003ecountry_name=%{location}\\u003cbr\\u003esum_of_medals=%{z}\\u003cextra\\u003e\\u003c\\u002fextra\\u003e\",\"locationmode\":\"country names\",\"locations\":[\"Afghanistan\",\"Argentina\",\"Australia\",\"Austria\",\"Bahamas\",\"Belgium\",\"Bermuda\",\"Brazil\",\"Bulgaria\",\"Canada\",\"Chile\",\"Chinese Taipei\",\"Colombia\",\"Cuba\",\"Czechoslovakia\",\"Denmark\",\"Ethiopia\",\"Finland\",\"France\",\"Germany\",\"Ghana\",\"Great Britain\",\"Greece\",\"Guyana\",\"Haiti\",\"Hong Kong, China\",\"Hungary\",\"Iceland\",\"India\",\"Indonesia\",\"Iraq\",\"Ireland\",\"Islamic Republic of Iran\",\"Israel\",\"Italy\",\"Japan\",\"Kenya\",\"Lebanon\",\"Liberia\",\"Liechtenstein\",\"Luxembourg\",\"Malaya\",\"Malta\",\"Mexico\",\"Monaco\",\"Morocco\",\"Myanmar\",\"Netherlands\",\"Netherlands Antilles\",\"New Zealand\",\"Nigeria\",\"Norway\",\"Pakistan\",\"Panama\",\"Peru\",\"Philippines\",\"Poland\",\"Portugal\",\"Puerto Rico\",\"Republic of Korea\",\"Rhodesia\",\"Romania\",\"San Marino\",\"Singapore\",\"Somalia\",\"South Africa\",\"South Vietnam\",\"Soviet Union\",\"Spain\",\"Sri Lanka\",\"Sudan\",\"Suriname\",\"Sweden\",\"Switzerland\",\"Thailand\",\"Tunisia\",\"Turkey\",\"Uganda\",\"United Arab Republic\",\"United States of America\",\"Uruguay\",\"Venezuela\",\"West Indies Federation\",\"Yugoslavia\",\"Zimbabwe\"],\"name\":\"\",\"z\":[1,3,4,4,1,3,1,2,4,4,1,2,1,1,4,4,2,4,4,4,2,4,2,1,1,1,4,1,2,1,2,1,3,1,4,4,1,1,1,1,1,1,1,2,1,2,1,3,1,3,1,3,3,1,1,1,4,2,1,1,1,4,1,2,1,3,1,4,2,1,1,1,4,4,1,1,3,1,3,4,1,2,2,3,1],\"type\":\"choropleth\"}],\"name\":\"1960\"},{\"data\":[{\"coloraxis\":\"coloraxis\",\"customdata\":[[1],[1],[2],[4],[4],[2],[3],[1],[1],[2],[4],[1],[4],[1],[1],[1],[1],[1],[1],[2],[4],[2],[4],[1],[2],[4],[4],[4],[2],[4],[1],[1],[1],[4],[1],[2],[1],[2],[2],[1],[4],[1],[1],[4],[2],[1],[1],[1],[1],[1],[1],[1],[2],[1],[1],[1],[1],[1],[4],[1],[3],[1],[2],[4],[2],[1],[1],[2],[4],[1],[1],[3],[4],[1],[1],[4],[1],[1],[4],[4],[1],[3],[3],[4],[1],[1],[4],[2],[1],[4],[1],[1]],\"geo\":\"geo\",\"hovertemplate\":\"date=1964\\u003cbr\\u003ecountry_name=%{location}\\u003cbr\\u003esum_of_medals=%{z}\\u003cextra\\u003e\\u003c\\u002fextra\\u003e\",\"locationmode\":\"country names\",\"locations\":[\"Afghanistan\",\"Algeria\",\"Argentina\",\"Australia\",\"Austria\",\"Bahamas\",\"Belgium\",\"Bermuda\",\"Bolivia\",\"Brazil\",\"Bulgaria\",\"Cambodia\",\"Canada\",\"Chad\",\"Chile\",\"Chinese Taipei\",\"Colombia\",\"Congo\",\"Costa Rica\",\"Cuba\",\"Czechoslovakia\",\"Democratic People's Republic of Korea\",\"Denmark\",\"Egypt\",\"Ethiopia\",\"Finland\",\"France\",\"Germany\",\"Ghana\",\"Great Britain\",\"Greece\",\"Guyana\",\"Hong Kong, China\",\"Hungary\",\"Iceland\",\"India\",\"Iraq\",\"Ireland\",\"Islamic Republic of Iran\",\"Israel\",\"Italy\",\"Ivory Coast\",\"Jamaica\",\"Japan\",\"Kenya\",\"Lebanon\",\"Libya\",\"Liechtenstein\",\"Luxembourg\",\"Madagascar\",\"Malaysia\",\"Mali\",\"Mexico\",\"Monaco\",\"Mongolia\",\"Morocco\",\"Myanmar\",\"Nepal\",\"Netherlands\",\"Netherlands Antilles\",\"New Zealand\",\"Niger\",\"Nigeria\",\"Norway\",\"Pakistan\",\"Panama\",\"Peru\",\"Philippines\",\"Poland\",\"Portugal\",\"Puerto Rico\",\"Republic of Korea\",\"Romania\",\"Senegal\",\"South Vietnam\",\"Soviet Union\",\"Spain\",\"Sri Lanka\",\"Sweden\",\"Switzerland\",\"Thailand\",\"Trinidad and Tobago\",\"Tunisia\",\"Turkey\",\"Uganda\",\"United Republic of Tanzania\",\"United States of America\",\"Uruguay\",\"Venezuela\",\"Yugoslavia\",\"Zambia\",\"Zimbabwe\"],\"name\":\"\",\"z\":[1,1,2,4,4,2,3,1,1,2,4,1,4,1,1,1,1,1,1,2,4,2,4,1,2,4,4,4,2,4,1,1,1,4,1,2,1,2,2,1,4,1,1,4,2,1,1,1,1,1,1,1,2,1,1,1,1,1,4,1,3,1,2,4,2,1,1,2,4,1,1,3,4,1,1,4,1,1,4,4,1,3,3,4,1,1,4,2,1,4,1,1],\"type\":\"choropleth\"}],\"name\":\"1964\"},{\"data\":[{\"coloraxis\":\"coloraxis\",\"customdata\":[[1],[1],[2],[4],[4],[1],[1],[3],[1],[1],[1],[3],[4],[2],[4],[1],[1],[2],[1],[1],[2],[4],[1],[4],[1],[1],[1],[1],[3],[4],[4],[4],[4],[1],[4],[2],[1],[1],[1],[1],[1],[4],[1],[2],[1],[1],[1],[4],[1],[4],[2],[4],[4],[1],[1],[1],[1],[1],[1],[1],[1],[4],[1],[3],[1],[1],[4],[1],[3],[1],[1],[1],[4],[2],[1],[1],[1],[4],[1],[1],[3],[4],[1],[1],[1],[1],[1],[4],[1],[1],[1],[4],[3],[1],[1],[1],[3],[2],[1],[3],[1],[4],[1],[2],[4],[1]],\"geo\":\"geo\",\"hovertemplate\":\"date=1968\\u003cbr\\u003ecountry_name=%{location}\\u003cbr\\u003esum_of_medals=%{z}\\u003cextra\\u003e\\u003c\\u002fextra\\u003e\",\"locationmode\":\"country names\",\"locations\":[\"Afghanistan\",\"Algeria\",\"Argentina\",\"Australia\",\"Austria\",\"Bahamas\",\"Barbados\",\"Belgium\",\"Belize\",\"Bermuda\",\"Bolivia\",\"Brazil\",\"Bulgaria\",\"Cameroon\",\"Canada\",\"Chad\",\"Chile\",\"Chinese Taipei\",\"Colombia\",\"Costa Rica\",\"Cuba\",\"Czechoslovakia\",\"Democratic Republic of the Congo\",\"Denmark\",\"Dominican Republic\",\"Ecuador\",\"Egypt\",\"El Salvador\",\"Ethiopia\",\"Federal Republic of Germany\",\"Finland\",\"France\",\"German Democratic Republic (Germany)\",\"Ghana\",\"Great Britain\",\"Greece\",\"Guatemala\",\"Guinea\",\"Guyana\",\"Honduras\",\"Hong Kong, China\",\"Hungary\",\"Iceland\",\"India\",\"Indonesia\",\"Iraq\",\"Ireland\",\"Islamic Republic of Iran\",\"Israel\",\"Italy\",\"Jamaica\",\"Japan\",\"Kenya\",\"Kuwait\",\"Lebanon\",\"Liechtenstein\",\"Luxembourg\",\"Madagascar\",\"Malaysia\",\"Mali\",\"Malta\",\"Mexico\",\"Monaco\",\"Mongolia\",\"Morocco\",\"Myanmar\",\"Netherlands\",\"Netherlands Antilles\",\"New Zealand\",\"Nicaragua\",\"Niger\",\"Nigeria\",\"Norway\",\"Pakistan\",\"Panama\",\"Peru\",\"Philippines\",\"Poland\",\"Portugal\",\"Puerto Rico\",\"Republic of Korea\",\"Romania\",\"San Marino\",\"Senegal\",\"Sierra Leone\",\"Singapore\",\"South Vietnam\",\"Soviet Union\",\"Spain\",\"Sri Lanka\",\"Sudan\",\"Sweden\",\"Switzerland\",\"Syrian Arab Republic\",\"Thailand\",\"Trinidad and Tobago\",\"Tunisia\",\"Turkey\",\"US Virgin Islands\",\"Uganda\",\"United Republic of Tanzania\",\"United States of America\",\"Uruguay\",\"Venezuela\",\"Yugoslavia\",\"Zambia\"],\"name\":\"\",\"z\":[1,1,2,4,4,1,1,3,1,1,1,3,4,2,4,1,1,2,1,1,2,4,1,4,1,1,1,1,3,4,4,4,4,1,4,2,1,1,1,1,1,4,1,2,1,1,1,4,1,4,2,4,4,1,1,1,1,1,1,1,1,4,1,3,1,1,4,1,3,1,1,1,4,2,1,1,1,4,1,1,3,4,1,1,1,1,1,4,1,1,1,4,3,1,1,1,3,2,1,3,1,4,1,2,4,1],\"type\":\"choropleth\"}],\"name\":\"1968\"},{\"data\":[{\"coloraxis\":\"coloraxis\",\"customdata\":[[1],[1],[1],[2],[4],[4],[1],[1],[2],[1],[1],[1],[1],[2],[4],[1],[1],[3],[1],[1],[1],[3],[1],[4],[4],[4],[2],[1],[1],[1],[1],[2],[4],[1],[4],[4],[1],[4],[2],[4],[2],[1],[1],[1],[1],[4],[1],[2],[1],[1],[3],[1],[4],[1],[2],[4],[4],[1],[2],[1],[1],[1],[1],[1],[1],[1],[1],[2],[1],[2],[1],[1],[1],[4],[1],[4],[1],[2],[2],[4],[2],[1],[1],[1],[1],[4],[1],[1],[2],[1],[4],[1],[1],[1],[1],[1],[1],[4],[3],[1],[1],[1],[1],[4],[4],[1],[1],[1],[1],[2],[2],[1],[3],[1],[4],[1],[1],[4],[1]],\"geo\":\"geo\",\"hovertemplate\":\"date=1972\\u003cbr\\u003ecountry_name=%{location}\\u003cbr\\u003esum_of_medals=%{z}\\u003cextra\\u003e\\u003c\\u002fextra\\u003e\",\"locationmode\":\"country names\",\"locations\":[\"Afghanistan\",\"Albania\",\"Algeria\",\"Argentina\",\"Australia\",\"Austria\",\"Bahamas\",\"Barbados\",\"Belgium\",\"Belize\",\"Benin\",\"Bermuda\",\"Bolivia\",\"Brazil\",\"Bulgaria\",\"Cambodia\",\"Cameroon\",\"Canada\",\"Chad\",\"Chile\",\"Chinese Taipei\",\"Colombia\",\"Costa Rica\",\"Cuba\",\"Czechoslovakia\",\"Democratic People's Republic of Korea\",\"Denmark\",\"Dominican Republic\",\"Ecuador\",\"Egypt\",\"El Salvador\",\"Ethiopia\",\"Federal Republic of Germany\",\"Fiji\",\"Finland\",\"France\",\"Gabon\",\"German Democratic Republic (Germany)\",\"Ghana\",\"Great Britain\",\"Greece\",\"Guatemala\",\"Guyana\",\"Haiti\",\"Hong Kong, China\",\"Hungary\",\"Iceland\",\"India\",\"Indonesia\",\"Ireland\",\"Islamic Republic of Iran\",\"Israel\",\"Italy\",\"Ivory Coast\",\"Jamaica\",\"Japan\",\"Kenya\",\"Kuwait\",\"Lebanon\",\"Liberia\",\"Liechtenstein\",\"Luxembourg\",\"Madagascar\",\"Malawi\",\"Malaysia\",\"Mali\",\"Malta\",\"Mexico\",\"Monaco\",\"Mongolia\",\"Morocco\",\"Myanmar\",\"Nepal\",\"Netherlands\",\"Netherlands Antilles\",\"New Zealand\",\"Nicaragua\",\"Niger\",\"Nigeria\",\"Norway\",\"Pakistan\",\"Panama\",\"Paraguay\",\"Peru\",\"Philippines\",\"Poland\",\"Portugal\",\"Puerto Rico\",\"Republic of Korea\",\"Rhodesia\",\"Romania\",\"San Marino\",\"Saudi Arabia\",\"Senegal\",\"Singapore\",\"Somalia\",\"South Vietnam\",\"Soviet Union\",\"Spain\",\"Sri Lanka\",\"Sudan\",\"Suriname\",\"Swaziland\",\"Sweden\",\"Switzerland\",\"Syrian Arab Republic\",\"Thailand\",\"Togo\",\"Trinidad and Tobago\",\"Tunisia\",\"Turkey\",\"US Virgin Islands\",\"Uganda\",\"United Republic of Tanzania\",\"United States of America\",\"Uruguay\",\"Venezuela\",\"Yugoslavia\",\"Zambia\"],\"name\":\"\",\"z\":[1,1,1,2,4,4,1,1,2,1,1,1,1,2,4,1,1,3,1,1,1,3,1,4,4,4,2,1,1,1,1,2,4,1,4,4,1,4,2,4,2,1,1,1,1,4,1,2,1,1,3,1,4,1,2,4,4,1,2,1,1,1,1,1,1,1,1,2,1,2,1,1,1,4,1,4,1,2,2,4,2,1,1,1,1,4,1,1,2,1,4,1,1,1,1,1,1,4,3,1,1,1,1,4,4,1,1,1,1,2,2,1,3,1,4,1,1,4,1],\"type\":\"choropleth\"}],\"name\":\"1972\"},{\"data\":[{\"coloraxis\":\"coloraxis\",\"customdata\":[[1],[1],[1],[1],[3],[4],[1],[1],[3],[1],[2],[1],[2],[4],[1],[1],[4],[1],[1],[1],[1],[1],[1],[4],[4],[3],[3],[1],[1],[1],[1],[4],[1],[4],[4],[4],[1],[4],[1],[1],[1],[1],[1],[1],[4],[1],[1],[1],[1],[1],[3],[1],[4],[3],[4],[1],[1],[1],[1],[2],[1],[1],[3],[1],[2],[1],[1],[4],[1],[4],[1],[1],[1],[4],[2],[1],[1],[1],[1],[1],[4],[2],[2],[4],[4],[1],[1],[1],[1],[4],[2],[1],[1],[4],[4],[2],[1],[2],[1],[1],[1],[1],[4],[1],[2],[4],[1]],\"geo\":\"geo\",\"hovertemplate\":\"date=1976\\u003cbr\\u003ecountry_name=%{location}\\u003cbr\\u003esum_of_medals=%{z}\\u003cextra\\u003e\\u003c\\u002fextra\\u003e\",\"locationmode\":\"country names\",\"locations\":[\"Algeria\",\"Andorra\",\"Antigua and Barbuda\",\"Argentina\",\"Australia\",\"Austria\",\"Bahamas\",\"Barbados\",\"Belgium\",\"Belize\",\"Bermuda\",\"Bolivia\",\"Brazil\",\"Bulgaria\",\"Burkina Faso\",\"Cameroon\",\"Canada\",\"Cayman Islands\",\"Central African Republic\",\"Chile\",\"Chinese Taipei\",\"Colombia\",\"Costa Rica\",\"Cuba\",\"Czechoslovakia\",\"Democratic People's Republic of Korea\",\"Denmark\",\"Dominican Republic\",\"Ecuador\",\"Egypt\",\"Ethiopia\",\"Federal Republic of Germany\",\"Fiji\",\"Finland\",\"France\",\"German Democratic Republic (Germany)\",\"Ghana\",\"Great Britain\",\"Greece\",\"Guatemala\",\"Guyana\",\"Haiti\",\"Honduras\",\"Hong Kong, China\",\"Hungary\",\"Iceland\",\"India\",\"Indonesia\",\"Iraq\",\"Ireland\",\"Islamic Republic of Iran\",\"Israel\",\"Italy\",\"Jamaica\",\"Japan\",\"Kenya\",\"Kuwait\",\"Lebanon\",\"Libya\",\"Liechtenstein\",\"Luxembourg\",\"Malaysia\",\"Mexico\",\"Monaco\",\"Mongolia\",\"Morocco\",\"Nepal\",\"Netherlands\",\"Netherlands Antilles\",\"New Zealand\",\"Nicaragua\",\"Niger\",\"Nigeria\",\"Norway\",\"Pakistan\",\"Panama\",\"Papua New Guinea\",\"Paraguay\",\"Peru\",\"Philippines\",\"Poland\",\"Portugal\",\"Puerto Rico\",\"Republic of Korea\",\"Romania\",\"San Marino\",\"Saudi Arabia\",\"Senegal\",\"Singapore\",\"Soviet Union\",\"Spain\",\"Suriname\",\"Swaziland\",\"Sweden\",\"Switzerland\",\"Thailand\",\"Togo\",\"Trinidad and Tobago\",\"Tunisia\",\"Turkey\",\"US Virgin Islands\",\"Uganda\",\"United States of America\",\"Uruguay\",\"Venezuela\",\"Yugoslavia\",\"Zambia\"],\"name\":\"\",\"z\":[1,1,1,1,3,4,1,1,3,1,2,1,2,4,1,1,4,1,1,1,1,1,1,4,4,3,3,1,1,1,1,4,1,4,4,4,1,4,1,1,1,1,1,1,4,1,1,1,1,1,3,1,4,3,4,1,1,1,1,2,1,1,3,1,2,1,1,4,1,4,1,1,1,4,2,1,1,1,1,1,4,2,2,4,4,1,1,1,1,4,2,1,1,4,4,2,1,2,1,1,1,1,4,1,2,4,1],\"type\":\"choropleth\"}],\"name\":\"1976\"},{\"data\":[{\"coloraxis\":\"coloraxis\",\"customdata\":[[1],[1],[1],[1],[1],[4],[4],[2],[1],[1],[3],[4],[1],[3],[1],[1],[1],[4],[1],[4],[3],[4],[1],[1],[3],[3],[4],[4],[4],[4],[3],[1],[1],[2],[4],[1],[2],[1],[3],[4],[2],[2],[1],[1],[1],[2],[1],[1],[3],[1],[1],[1],[1],[3],[3],[1],[1],[4],[1],[1],[1],[4],[1],[1],[4],[1],[1],[1],[4],[1],[1],[1],[1],[4],[4],[4],[4],[1],[1],[2],[2],[4],[2],[1],[4],[1],[2]],\"geo\":\"geo\",\"hovertemplate\":\"date=1980\\u003cbr\\u003ecountry_name=%{location}\\u003cbr\\u003esum_of_medals=%{z}\\u003cextra\\u003e\\u003c\\u002fextra\\u003e\",\"locationmode\":\"country names\",\"locations\":[\"Afghanistan\",\"Algeria\",\"Andorra\",\"Angola\",\"Argentina\",\"Australia\",\"Austria\",\"Belgium\",\"Benin\",\"Bolivia\",\"Brazil\",\"Bulgaria\",\"Cameroon\",\"Canada\",\"Colombia\",\"Congo\",\"Costa Rica\",\"Cuba\",\"Cyprus\",\"Czechoslovakia\",\"Democratic People's Republic of Korea\",\"Denmark\",\"Dominican Republic\",\"Ecuador\",\"Ethiopia\",\"Federal Republic of Germany\",\"Finland\",\"France\",\"German Democratic Republic (Germany)\",\"Great Britain\",\"Greece\",\"Guatemala\",\"Guinea\",\"Guyana\",\"Hungary\",\"Iceland\",\"India\",\"Iraq\",\"Ireland\",\"Italy\",\"Jamaica\",\"Japan\",\"Jordan\",\"Kuwait\",\"Lao People's Democratic Republic\",\"Lebanon\",\"Lesotho\",\"Libya\",\"Liechtenstein\",\"Luxembourg\",\"Madagascar\",\"Mali\",\"Malta\",\"Mexico\",\"Mongolia\",\"Myanmar\",\"Nepal\",\"Netherlands\",\"New Zealand\",\"Nicaragua\",\"Nigeria\",\"Norway\",\"People's Republic of China\",\"Peru\",\"Poland\",\"Portugal\",\"Puerto Rico\",\"Republic of Korea\",\"Romania\",\"San Marino\",\"Senegal\",\"Seychelles\",\"Sierra Leone\",\"Soviet Union\",\"Spain\",\"Sweden\",\"Switzerland\",\"Syrian Arab Republic\",\"Trinidad and Tobago\",\"Uganda\",\"United Republic of Tanzania\",\"United States of America\",\"Venezuela\",\"Vietnam\",\"Yugoslavia\",\"Zambia\",\"Zimbabwe\"],\"name\":\"\",\"z\":[1,1,1,1,1,4,4,2,1,1,3,4,1,3,1,1,1,4,1,4,3,4,1,1,3,3,4,4,4,4,3,1,1,2,4,1,2,1,3,4,2,2,1,1,1,2,1,1,3,1,1,1,1,3,3,1,1,4,1,1,1,4,1,1,4,1,1,1,4,1,1,1,1,4,4,4,4,1,1,2,2,4,2,1,4,1,2],\"type\":\"choropleth\"}],\"name\":\"1980\"},{\"data\":[{\"coloraxis\":\"coloraxis\",\"customdata\":[[2],[1],[1],[1],[4],[4],[1],[1],[1],[4],[1],[1],[1],[1],[1],[1],[4],[1],[1],[2],[4],[1],[1],[1],[2],[2],[1],[1],[1],[3],[1],[1],[3],[1],[2],[1],[2],[1],[4],[1],[4],[4],[1],[4],[1],[4],[3],[1],[1],[1],[1],[1],[1],[1],[1],[2],[1],[1],[1],[2],[1],[4],[2],[3],[4],[1],[3],[1],[1],[1],[1],[2],[1],[1],[1],[1],[1],[1],[1],[1],[4],[1],[1],[2],[1],[1],[1],[4],[1],[4],[1],[1],[3],[4],[1],[2],[1],[1],[1],[4],[2],[1],[1],[3],[3],[1],[4],[4],[1],[1],[1],[1],[1],[1],[1],[1],[1],[4],[4],[1],[1],[1],[1],[4],[4],[2],[2],[1],[1],[1],[1],[2],[1],[1],[1],[4],[1],[2],[1],[4],[2],[1]],\"geo\":\"geo\",\"hovertemplate\":\"date=1984\\u003cbr\\u003ecountry_name=%{location}\\u003cbr\\u003esum_of_medals=%{z}\\u003cextra\\u003e\\u003c\\u002fextra\\u003e\",\"locationmode\":\"country names\",\"locations\":[\"Algeria\",\"Andorra\",\"Antigua and Barbuda\",\"Argentina\",\"Australia\",\"Austria\",\"Bahamas\",\"Bahrain\",\"Barbados\",\"Belgium\",\"Belize\",\"Benin\",\"Bermuda\",\"Bhutan\",\"Bolivia\",\"Botswana\",\"Brazil\",\"British Virgin Islands\",\"Bulgaria\",\"Cameroon\",\"Canada\",\"Cayman Islands\",\"Central African Republic\",\"Chile\",\"Chinese Taipei\",\"Colombia\",\"Congo\",\"Costa Rica\",\"Cyprus\",\"Czechoslovakia\",\"Democratic People's Republic of Korea\",\"Democratic Republic of the Congo\",\"Denmark\",\"Djibouti\",\"Dominican Republic\",\"Ecuador\",\"Egypt\",\"El Salvador\",\"Federal Republic of Germany\",\"Fiji\",\"Finland\",\"France\",\"Gabon\",\"German Democratic Republic (Germany)\",\"Ghana\",\"Great Britain\",\"Greece\",\"Grenada\",\"Guatemala\",\"Guinea\",\"Guyana\",\"Haiti\",\"Honduras\",\"Hong Kong, China\",\"Hungary\",\"Iceland\",\"India\",\"Indonesia\",\"Iraq\",\"Ireland\",\"Israel\",\"Italy\",\"Ivory Coast\",\"Jamaica\",\"Japan\",\"Jordan\",\"Kenya\",\"Kuwait\",\"Lebanon\",\"Lesotho\",\"Liberia\",\"Liechtenstein\",\"Luxembourg\",\"Madagascar\",\"Malawi\",\"Malaysia\",\"Mali\",\"Malta\",\"Mauritania\",\"Mauritius\",\"Mexico\",\"Monaco\",\"Mongolia\",\"Morocco\",\"Mozambique\",\"Myanmar\",\"Nepal\",\"Netherlands\",\"Netherlands Antilles\",\"New Zealand\",\"Nicaragua\",\"Niger\",\"Nigeria\",\"Norway\",\"Oman\",\"Pakistan\",\"Panama\",\"Papua New Guinea\",\"Paraguay\",\"People's Republic of China\",\"Peru\",\"Philippines\",\"Poland\",\"Portugal\",\"Puerto Rico\",\"Qatar\",\"Republic of Korea\",\"Romania\",\"Samoa\",\"San Marino\",\"Saudi Arabia\",\"Senegal\",\"Seychelles\",\"Sierra Leone\",\"Singapore\",\"Solomon Islands\",\"Somalia\",\"Soviet Union\",\"Spain\",\"Sri Lanka\",\"Sudan\",\"Suriname\",\"Swaziland\",\"Sweden\",\"Switzerland\",\"Syrian Arab Republic\",\"Thailand\",\"Togo\",\"Tonga\",\"Trinidad and Tobago\",\"Tunisia\",\"Turkey\",\"US Virgin Islands\",\"Uganda\",\"United Republic of Tanzania\",\"United States of America\",\"Uruguay\",\"Venezuela\",\"Yemen Arab Republic\",\"Yugoslavia\",\"Zambia\",\"Zimbabwe\"],\"name\":\"\",\"z\":[2,1,1,1,4,4,1,1,1,4,1,1,1,1,1,1,4,1,1,2,4,1,1,1,2,2,1,1,1,3,1,1,3,1,2,1,2,1,4,1,4,4,1,4,1,4,3,1,1,1,1,1,1,1,1,2,1,1,1,2,1,4,2,3,4,1,3,1,1,1,1,2,1,1,1,1,1,1,1,1,4,1,1,2,1,1,1,4,1,4,1,1,3,4,1,2,1,1,1,4,2,1,1,3,3,1,4,4,1,1,1,1,1,1,1,1,1,4,4,1,1,1,1,4,4,2,2,1,1,1,1,2,1,1,1,4,1,2,1,4,2,1],\"type\":\"choropleth\"}],\"name\":\"1984\"},{\"data\":[{\"coloraxis\":\"coloraxis\",\"customdata\":[[1],[1],[1],[1],[1],[1],[3],[1],[4],[4],[1],[1],[1],[1],[2],[1],[1],[1],[1],[1],[1],[4],[1],[4],[1],[1],[4],[1],[1],[2],[1],[2],[1],[2],[1],[4],[1],[1],[4],[2],[1],[1],[1],[1],[4],[1],[4],[4],[1],[1],[4],[1],[4],[2],[1],[1],[1],[1],[1],[1],[1],[1],[4],[1],[1],[2],[1],[1],[2],[1],[4],[1],[2],[4],[1],[4],[1],[1],[1],[1],[1],[1],[2],[1],[1],[1],[1],[1],[1],[1],[1],[2],[1],[2],[3],[1],[1],[1],[4],[2],[4],[1],[1],[4],[1],[2],[1],[1],[1],[4],[2],[2],[4],[2],[1],[1],[4],[4],[1],[1],[1],[1],[1],[2],[1],[1],[1],[1],[4],[4],[1],[1],[2],[1],[4],[4],[1],[2],[1],[1],[1],[1],[3],[2],[1],[1],[1],[4],[1],[1],[1],[1],[1],[1],[4],[1],[1]],\"geo\":\"geo\",\"hovertemplate\":\"date=1988\\u003cbr\\u003ecountry_name=%{location}\\u003cbr\\u003esum_of_medals=%{z}\\u003cextra\\u003e\\u003c\\u002fextra\\u003e\",\"locationmode\":\"country names\",\"locations\":[\"Afghanistan\",\"Algeria\",\"American Samoa\",\"Andorra\",\"Angola\",\"Antigua and Barbuda\",\"Argentina\",\"Aruba\",\"Australia\",\"Austria\",\"Bahamas\",\"Bahrain\",\"Bangladesh\",\"Barbados\",\"Belgium\",\"Belize\",\"Benin\",\"Bermuda\",\"Bhutan\",\"Bolivia\",\"Botswana\",\"Brazil\",\"British Virgin Islands\",\"Bulgaria\",\"Burkina Faso\",\"Cameroon\",\"Canada\",\"Cayman Islands\",\"Central African Republic\",\"Chile\",\"Chinese Taipei\",\"Colombia\",\"Cook Islands\",\"Costa Rica\",\"Cyprus\",\"Czechoslovakia\",\"Democratic People's Republic of Korea\",\"Democratic Republic of the Congo\",\"Denmark\",\"Djibouti\",\"Dominican Republic\",\"Ecuador\",\"Egypt\",\"El Salvador\",\"Federal Republic of Germany\",\"Fiji\",\"Finland\",\"France\",\"Gabon\",\"Gambia\",\"German Democratic Republic (Germany)\",\"Ghana\",\"Great Britain\",\"Greece\",\"Grenada\",\"Guam\",\"Guatemala\",\"Guinea\",\"Guyana\",\"Haiti\",\"Honduras\",\"Hong Kong, China\",\"Hungary\",\"Iceland\",\"India\",\"Indonesia\",\"Iraq\",\"Ireland\",\"Islamic Republic of Iran\",\"Israel\",\"Italy\",\"Ivory Coast\",\"Jamaica\",\"Japan\",\"Jordan\",\"Kenya\",\"Kuwait\",\"Lao People's Democratic Republic\",\"Lebanon\",\"Lesotho\",\"Liberia\",\"Libya\",\"Liechtenstein\",\"Luxembourg\",\"Malawi\",\"Malaysia\",\"Maldives\",\"Mali\",\"Malta\",\"Mauritania\",\"Mauritius\",\"Mexico\",\"Monaco\",\"Mongolia\",\"Morocco\",\"Mozambique\",\"Myanmar\",\"Nepal\",\"Netherlands\",\"Netherlands Antilles\",\"New Zealand\",\"Niger\",\"Nigeria\",\"Norway\",\"Oman\",\"Pakistan\",\"Panama\",\"Papua New Guinea\",\"Paraguay\",\"People's Republic of China\",\"Peru\",\"Philippines\",\"Poland\",\"Portugal\",\"Puerto Rico\",\"Qatar\",\"Republic of Korea\",\"Romania\",\"Rwanda\",\"Saint Vincent and the Grenadines\",\"Samoa\",\"San Marino\",\"Saudi Arabia\",\"Senegal\",\"Sierra Leone\",\"Singapore\",\"Solomon Islands\",\"Somalia\",\"Soviet Union\",\"Spain\",\"Sri Lanka\",\"Sudan\",\"Suriname\",\"Swaziland\",\"Sweden\",\"Switzerland\",\"Syrian Arab Republic\",\"Thailand\",\"Togo\",\"Tonga\",\"Trinidad and Tobago\",\"Tunisia\",\"Turkey\",\"US Virgin Islands\",\"Uganda\",\"United Arab Emirates\",\"United Republic of Tanzania\",\"United States of America\",\"Uruguay\",\"Vanuatu\",\"Venezuela\",\"Vietnam\",\"Yemen Arab Republic\",\"Yemen Democratic Republic\",\"Yugoslavia\",\"Zambia\",\"Zimbabwe\"],\"name\":\"\",\"z\":[1,1,1,1,1,1,3,1,4,4,1,1,1,1,2,1,1,1,1,1,1,4,1,4,1,1,4,1,1,2,1,2,1,2,1,4,1,1,4,2,1,1,1,1,4,1,4,4,1,1,4,1,4,2,1,1,1,1,1,1,1,1,4,1,1,2,1,1,2,1,4,1,2,4,1,4,1,1,1,1,1,1,2,1,1,1,1,1,1,1,1,2,1,2,3,1,1,1,4,2,4,1,1,4,1,2,1,1,1,4,2,2,4,2,1,1,4,4,1,1,1,1,1,2,1,1,1,1,4,4,1,1,2,1,4,4,1,2,1,1,1,1,3,2,1,1,1,4,1,1,1,1,1,1,4,1,1],\"type\":\"choropleth\"}],\"name\":\"1988\"},{\"data\":[{\"coloraxis\":\"coloraxis\",\"customdata\":[[1],[3],[1],[1],[1],[1],[2],[1],[4],[4],[2],[1],[1],[1],[3],[1],[1],[1],[1],[1],[1],[1],[3],[1],[4],[1],[1],[4],[1],[1],[1],[1],[2],[2],[1],[1],[1],[3],[4],[1],[4],[3],[1],[4],[1],[1],[1],[1],[1],[3],[3],[1],[4],[4],[1],[1],[4],[2],[4],[2],[1],[1],[1],[1],[1],[1],[1],[4],[1],[3],[1],[4],[1],[3],[3],[3],[4],[1],[3],[4],[1],[4],[1],[1],[3],[1],[1],[1],[1],[3],[2],[1],[1],[2],[1],[1],[1],[1],[1],[2],[1],[2],[4],[1],[1],[2],[1],[4],[1],[4],[1],[1],[3],[4],[1],[2],[1],[1],[1],[4],[2],[2],[4],[1],[2],[2],[4],[4],[1],[1],[1],[1],[1],[1],[1],[1],[2],[1],[2],[4],[1],[1],[2],[1],[4],[3],[1],[2],[1],[1],[1],[1],[4],[1],[1],[4],[1],[1],[4],[1],[1],[1],[1],[1],[1],[1],[1]],\"geo\":\"geo\",\"hovertemplate\":\"date=1992\\u003cbr\\u003ecountry_name=%{location}\\u003cbr\\u003esum_of_medals=%{z}\\u003cextra\\u003e\\u003c\\u002fextra\\u003e\",\"locationmode\":\"country names\",\"locations\":[\"Albania\",\"Algeria\",\"American Samoa\",\"Andorra\",\"Angola\",\"Antigua and Barbuda\",\"Argentina\",\"Aruba\",\"Australia\",\"Austria\",\"Bahamas\",\"Bahrain\",\"Bangladesh\",\"Barbados\",\"Belgium\",\"Belize\",\"Benin\",\"Bermuda\",\"Bhutan\",\"Bolivia\",\"Bosnia and Herzegovina\",\"Botswana\",\"Brazil\",\"British Virgin Islands\",\"Bulgaria\",\"Burkina Faso\",\"Cameroon\",\"Canada\",\"Cayman Islands\",\"Central African Republic\",\"Chad\",\"Chile\",\"Chinese Taipei\",\"Colombia\",\"Congo\",\"Cook Islands\",\"Costa Rica\",\"Croatia\",\"Cuba\",\"Cyprus\",\"Czechoslovakia\",\"Democratic People's Republic of Korea\",\"Democratic Republic of the Congo\",\"Denmark\",\"Djibouti\",\"Dominican Republic\",\"Ecuador\",\"Egypt\",\"El Salvador\",\"Estonia\",\"Ethiopia\",\"Fiji\",\"Finland\",\"France\",\"Gabon\",\"Gambia\",\"Germany\",\"Ghana\",\"Great Britain\",\"Greece\",\"Guam\",\"Guatemala\",\"Guinea\",\"Guyana\",\"Haiti\",\"Honduras\",\"Hong Kong, China\",\"Hungary\",\"Iceland\",\"Independent Olympic Athletes\",\"India\",\"Indonesia\",\"Iraq\",\"Ireland\",\"Islamic Republic of Iran\",\"Israel\",\"Italy\",\"Ivory Coast\",\"Jamaica\",\"Japan\",\"Jordan\",\"Kenya\",\"Kuwait\",\"Lao People's Democratic Republic\",\"Latvia\",\"Lebanon\",\"Lesotho\",\"Libya\",\"Liechtenstein\",\"Lithuania\",\"Luxembourg\",\"Madagascar\",\"Malawi\",\"Malaysia\",\"Maldives\",\"Mali\",\"Malta\",\"Mauritania\",\"Mauritius\",\"Mexico\",\"Monaco\",\"Mongolia\",\"Morocco\",\"Mozambique\",\"Myanmar\",\"Namibia\",\"Nepal\",\"Netherlands\",\"Netherlands Antilles\",\"New Zealand\",\"Nicaragua\",\"Niger\",\"Nigeria\",\"Norway\",\"Oman\",\"Pakistan\",\"Panama\",\"Papua New Guinea\",\"Paraguay\",\"People's Republic of China\",\"Peru\",\"Philippines\",\"Poland\",\"Portugal\",\"Puerto Rico\",\"Qatar\",\"Republic of Korea\",\"Romania\",\"Rwanda\",\"Samoa\",\"San Marino\",\"Saudi Arabia\",\"Senegal\",\"Seychelles\",\"Sierra Leone\",\"Singapore\",\"Slovenia\",\"Solomon Islands\",\"South Africa\",\"Spain\",\"Sri Lanka\",\"Sudan\",\"Suriname\",\"Swaziland\",\"Sweden\",\"Switzerland\",\"Syrian Arab Republic\",\"Thailand\",\"Togo\",\"Tonga\",\"Trinidad and Tobago\",\"Tunisia\",\"Turkey\",\"US Virgin Islands\",\"Uganda\",\"Unified Team\",\"United Arab Emirates\",\"United Republic of Tanzania\",\"United States of America\",\"Uruguay\",\"Vanuatu\",\"Venezuela\",\"Vietnam\",\"Yemen\",\"Yugoslavia\",\"Zambia\",\"Zimbabwe\"],\"name\":\"\",\"z\":[1,3,1,1,1,1,2,1,4,4,2,1,1,1,3,1,1,1,1,1,1,1,3,1,4,1,1,4,1,1,1,1,2,2,1,1,1,3,4,1,4,3,1,4,1,1,1,1,1,3,3,1,4,4,1,1,4,2,4,2,1,1,1,1,1,1,1,4,1,3,1,4,1,3,3,3,4,1,3,4,1,4,1,1,3,1,1,1,1,3,2,1,1,2,1,1,1,1,1,2,1,2,4,1,1,2,1,4,1,4,1,1,3,4,1,2,1,1,1,4,2,2,4,1,2,2,4,4,1,1,1,1,1,1,1,1,2,1,2,4,1,1,2,1,4,3,1,2,1,1,1,1,4,1,1,4,1,1,4,1,1,1,1,1,1,1,1],\"type\":\"choropleth\"}],\"name\":\"1992\"},{\"data\":[{\"coloraxis\":\"coloraxis\",\"customdata\":[[1],[1],[1],[1],[2],[4],[2],[1],[1],[1],[1],[1],[4],[1],[1],[1],[1],[1],[1],[1],[1],[3],[3],[1],[4],[2],[1],[1],[1],[1],[4],[1],[4],[3],[1],[1],[1],[1],[1],[1],[1],[1],[3],[1],[4],[3],[1],[1],[1],[4],[1],[1],[4],[1],[1],[1],[2],[1],[1],[3],[4],[1],[1],[1],[3],[4],[2]],\"geo\":\"geo\",\"hovertemplate\":\"date=1994\\u003cbr\\u003ecountry_name=%{location}\\u003cbr\\u003esum_of_medals=%{z}\\u003cextra\\u003e\\u003c\\u002fextra\\u003e\",\"locationmode\":\"country names\",\"locations\":[\"American Samoa\",\"Andorra\",\"Argentina\",\"Armenia\",\"Australia\",\"Austria\",\"Belarus\",\"Belgium\",\"Bermuda\",\"Bosnia and Herzegovina\",\"Brazil\",\"Bulgaria\",\"Canada\",\"Chile\",\"Chinese Taipei\",\"Croatia\",\"Cyprus\",\"Czech Republic\",\"Denmark\",\"Estonia\",\"Fiji\",\"Finland\",\"France\",\"Georgia\",\"Germany\",\"Great Britain\",\"Greece\",\"Hungary\",\"Iceland\",\"Israel\",\"Italy\",\"Jamaica\",\"Japan\",\"Kazakhstan\",\"Kyrgyzstan\",\"Latvia\",\"Liechtenstein\",\"Lithuania\",\"Luxembourg\",\"Mexico\",\"Monaco\",\"Mongolia\",\"Netherlands\",\"New Zealand\",\"Norway\",\"People's Republic of China\",\"Poland\",\"Portugal\",\"Puerto Rico\",\"Republic of Korea\",\"Republic of Moldova\",\"Romania\",\"Russian Federation\",\"San Marino\",\"Senegal\",\"Slovakia\",\"Slovenia\",\"South Africa\",\"Spain\",\"Sweden\",\"Switzerland\",\"Trinidad and Tobago\",\"Turkey\",\"US Virgin Islands\",\"Ukraine\",\"United States of America\",\"Uzbekistan\"],\"name\":\"\",\"z\":[1,1,1,1,2,4,2,1,1,1,1,1,4,1,1,1,1,1,1,1,1,3,3,1,4,2,1,1,1,1,4,1,4,3,1,1,1,1,1,1,1,1,3,1,4,3,1,1,1,4,1,1,4,1,1,1,2,1,1,3,4,1,1,1,3,4,2],\"type\":\"choropleth\"}],\"name\":\"1994\"},{\"data\":[{\"coloraxis\":\"coloraxis\",\"customdata\":[[1],[1],[3],[1],[1],[1],[1],[3],[3],[1],[4],[3],[2],[2],[1],[1],[1],[4],[4],[1],[1],[1],[1],[1],[1],[4],[1],[1],[4],[1],[2],[1],[1],[4],[1],[1],[1],[1],[2],[1],[1],[1],[2],[3],[4],[1],[4],[4],[1],[4],[1],[1],[1],[2],[1],[1],[1],[3],[1],[4],[4],[1],[2],[4],[1],[4],[3],[1],[1],[1],[1],[1],[1],[1],[2],[4],[1],[2],[4],[1],[3],[4],[2],[4],[1],[4],[4],[1],[4],[4],[1],[1],[1],[2],[1],[1],[1],[1],[2],[1],[1],[1],[3],[1],[1],[1],[2],[1],[2],[2],[2],[1],[2],[1],[1],[4],[1],[4],[1],[1],[4],[4],[1],[1],[1],[1],[1],[4],[1],[2],[4],[3],[2],[1],[4],[3],[4],[4],[1],[1],[1],[1],[1],[1],[1],[4],[1],[1],[1],[4],[2],[1],[1],[4],[4],[1],[1],[1],[1],[4],[3],[2],[1],[3],[1],[2],[2],[2],[4],[1],[1],[2],[4],[1],[1],[4],[1],[3],[1],[1],[1],[2],[1]],\"geo\":\"geo\",\"hovertemplate\":\"date=1996\\u003cbr\\u003ecountry_name=%{location}\\u003cbr\\u003esum_of_medals=%{z}\\u003cextra\\u003e\\u003c\\u002fextra\\u003e\",\"locationmode\":\"country names\",\"locations\":[\"Afghanistan\",\"Albania\",\"Algeria\",\"American Samoa\",\"Andorra\",\"Angola\",\"Antigua and Barbuda\",\"Argentina\",\"Armenia\",\"Aruba\",\"Australia\",\"Austria\",\"Azerbaijan\",\"Bahamas\",\"Bahrain\",\"Bangladesh\",\"Barbados\",\"Belarus\",\"Belgium\",\"Belize\",\"Bermuda\",\"Bhutan\",\"Bolivia\",\"Bosnia and Herzegovina\",\"Botswana\",\"Brazil\",\"British Virgin Islands\",\"Brunei\",\"Bulgaria\",\"Burkina Faso\",\"Burundi\",\"Cambodia\",\"Cameroon\",\"Canada\",\"Cape Verde\",\"Cayman Islands\",\"Central African Republic\",\"Chile\",\"Chinese Taipei\",\"Colombia\",\"Congo\",\"Cook Islands\",\"Costa Rica\",\"Croatia\",\"Cuba\",\"Cyprus\",\"Czech Republic\",\"Democratic People's Republic of Korea\",\"Democratic Republic of the Congo\",\"Denmark\",\"Djibouti\",\"Dominica\",\"Dominican Republic\",\"Ecuador\",\"Egypt\",\"El Salvador\",\"Estonia\",\"Ethiopia\",\"Fiji\",\"Finland\",\"France\",\"Gabon\",\"Georgia\",\"Germany\",\"Ghana\",\"Great Britain\",\"Greece\",\"Guam\",\"Guatemala\",\"Guinea\",\"Guinea-Bissau\",\"Guyana\",\"Haiti\",\"Honduras\",\"Hong Kong, China\",\"Hungary\",\"Iceland\",\"India\",\"Indonesia\",\"Iraq\",\"Ireland\",\"Islamic Republic of Iran\",\"Israel\",\"Italy\",\"Ivory Coast\",\"Jamaica\",\"Japan\",\"Jordan\",\"Kazakhstan\",\"Kenya\",\"Kuwait\",\"Kyrgyzstan\",\"Lao People's Democratic Republic\",\"Latvia\",\"Lebanon\",\"Lesotho\",\"Libya\",\"Liechtenstein\",\"Lithuania\",\"Luxembourg\",\"Madagascar\",\"Malawi\",\"Malaysia\",\"Maldives\",\"Malta\",\"Mauritius\",\"Mexico\",\"Monaco\",\"Mongolia\",\"Morocco\",\"Mozambique\",\"Myanmar\",\"Namibia\",\"Nauru\",\"Nepal\",\"Netherlands\",\"Netherlands Antilles\",\"New Zealand\",\"Nicaragua\",\"Niger\",\"Nigeria\",\"Norway\",\"Oman\",\"Pakistan\",\"Panama\",\"Papua New Guinea\",\"Paraguay\",\"People's Republic of China\",\"Peru\",\"Philippines\",\"Poland\",\"Portugal\",\"Puerto Rico\",\"Qatar\",\"Republic of Korea\",\"Republic of Moldova\",\"Romania\",\"Russian Federation\",\"Rwanda\",\"Saint Lucia\",\"Saint Vincent and the Grenadines\",\"Samoa\",\"San Marino\",\"Saudi Arabia\",\"Senegal\",\"Serbia and Montenegro\",\"Seychelles\",\"Sierra Leone\",\"Singapore\",\"Slovakia\",\"Slovenia\",\"Solomon Islands\",\"Somalia\",\"South Africa\",\"Spain\",\"Sri Lanka\",\"Sudan\",\"Suriname\",\"Swaziland\",\"Sweden\",\"Switzerland\",\"Syrian Arab Republic\",\"Tajikistan\",\"Thailand\",\"The Former Yugoslav Republic of Macedonia\",\"Tonga\",\"Trinidad and Tobago\",\"Tunisia\",\"Turkey\",\"Turkmenistan\",\"US Virgin Islands\",\"Uganda\",\"Ukraine\",\"United Arab Emirates\",\"United Republic of Tanzania\",\"United States of America\",\"Uruguay\",\"Uzbekistan\",\"Venezuela\",\"Vietnam\",\"Yemen\",\"Zambia\",\"Zimbabwe\"],\"name\":\"\",\"z\":[1,1,3,1,1,1,1,3,3,1,4,3,2,2,1,1,1,4,4,1,1,1,1,1,1,4,1,1,4,1,2,1,1,4,1,1,1,1,2,1,1,1,2,3,4,1,4,4,1,4,1,1,1,2,1,1,1,3,1,4,4,1,2,4,1,4,3,1,1,1,1,1,1,1,2,4,1,2,4,1,3,4,2,4,1,4,4,1,4,4,1,1,1,2,1,1,1,1,2,1,1,1,3,1,1,1,2,1,2,2,2,1,2,1,1,4,1,4,1,1,4,4,1,1,1,1,1,4,1,2,4,3,2,1,4,3,4,4,1,1,1,1,1,1,1,4,1,1,1,4,2,1,1,4,4,1,1,1,1,4,3,2,1,3,1,2,2,2,4,1,1,2,4,1,1,4,1,3,1,1,1,2,1],\"type\":\"choropleth\"}],\"name\":\"1996\"},{\"data\":[{\"coloraxis\":\"coloraxis\",\"customdata\":[[1],[1],[1],[2],[4],[1],[2],[2],[1],[1],[1],[2],[4],[1],[1],[1],[1],[4],[1],[2],[1],[4],[4],[1],[4],[2],[1],[1],[1],[1],[1],[1],[1],[4],[1],[4],[2],[1],[1],[1],[1],[1],[1],[1],[4],[1],[4],[3],[1],[1],[1],[4],[1],[1],[4],[1],[1],[1],[1],[1],[3],[4],[1],[1],[1],[1],[2],[4],[1],[1],[1]],\"geo\":\"geo\",\"hovertemplate\":\"date=1998\\u003cbr\\u003ecountry_name=%{location}\\u003cbr\\u003esum_of_medals=%{z}\\u003cextra\\u003e\\u003c\\u002fextra\\u003e\",\"locationmode\":\"country names\",\"locations\":[\"Andorra\",\"Argentina\",\"Armenia\",\"Australia\",\"Austria\",\"Azerbaijan\",\"Belarus\",\"Belgium\",\"Bermuda\",\"Bosnia and Herzegovina\",\"Brazil\",\"Bulgaria\",\"Canada\",\"Chile\",\"Chinese Taipei\",\"Croatia\",\"Cyprus\",\"Czech Republic\",\"Democratic People's Republic of Korea\",\"Denmark\",\"Estonia\",\"Finland\",\"France\",\"Georgia\",\"Germany\",\"Great Britain\",\"Greece\",\"Hungary\",\"Iceland\",\"India\",\"Ireland\",\"Islamic Republic of Iran\",\"Israel\",\"Italy\",\"Jamaica\",\"Japan\",\"Kazakhstan\",\"Kenya\",\"Kyrgyzstan\",\"Latvia\",\"Liechtenstein\",\"Lithuania\",\"Monaco\",\"Mongolia\",\"Netherlands\",\"New Zealand\",\"Norway\",\"People's Republic of China\",\"Poland\",\"Portugal\",\"Puerto Rico\",\"Republic of Korea\",\"Republic of Moldova\",\"Romania\",\"Russian Federation\",\"Serbia and Montenegro\",\"Slovakia\",\"Slovenia\",\"South Africa\",\"Spain\",\"Sweden\",\"Switzerland\",\"The Former Yugoslav Republic of Macedonia\",\"Trinidad and Tobago\",\"Turkey\",\"US Virgin Islands\",\"Ukraine\",\"United States of America\",\"Uruguay\",\"Uzbekistan\",\"Venezuela\"],\"name\":\"\",\"z\":[1,1,1,2,4,1,2,2,1,1,1,2,4,1,1,1,1,4,1,2,1,4,4,1,4,2,1,1,1,1,1,1,1,4,1,4,2,1,1,1,1,1,1,1,4,1,4,3,1,1,1,4,1,1,4,1,1,1,1,1,3,4,1,1,1,1,2,4,1,1,1],\"type\":\"choropleth\"}],\"name\":\"1998\"},{\"data\":[{\"coloraxis\":\"coloraxis\",\"customdata\":[[1],[4],[1],[1],[1],[1],[3],[2],[1],[4],[3],[3],[3],[1],[1],[2],[4],[3],[1],[1],[1],[1],[1],[1],[3],[1],[4],[1],[1],[1],[2],[4],[1],[1],[1],[2],[3],[2],[1],[1],[2],[3],[4],[1],[4],[3],[1],[4],[1],[1],[1],[1],[1],[1],[1],[3],[4],[1],[1],[4],[4],[1],[2],[4],[1],[4],[4],[1],[1],[1],[1],[1],[1],[1],[1],[4],[2],[1],[2],[4],[1],[2],[3],[2],[4],[1],[3],[4],[1],[3],[4],[2],[2],[1],[4],[1],[1],[1],[1],[3],[1],[1],[1],[1],[1],[1],[1],[4],[1],[1],[3],[2],[1],[1],[1],[1],[4],[1],[3],[1],[1],[3],[4],[1],[1],[1],[1],[1],[1],[1],[4],[1],[1],[4],[2],[1],[2],[4],[3],[4],[4],[1],[1],[1],[1],[1],[1],[3],[1],[4],[1],[1],[1],[4],[2],[3],[4],[2],[1],[1],[1],[4],[4],[1],[1],[3],[2],[1],[3],[1],[3],[1],[1],[1],[4],[1],[1],[4],[2],[4],[1],[1],[2],[1],[1]],\"geo\":\"geo\",\"hovertemplate\":\"date=2000\\u003cbr\\u003ecountry_name=%{location}\\u003cbr\\u003esum_of_medals=%{z}\\u003cextra\\u003e\\u003c\\u002fextra\\u003e\",\"locationmode\":\"country names\",\"locations\":[\"Albania\",\"Algeria\",\"American Samoa\",\"Andorra\",\"Angola\",\"Antigua and Barbuda\",\"Argentina\",\"Armenia\",\"Aruba\",\"Australia\",\"Austria\",\"Azerbaijan\",\"Bahamas\",\"Bahrain\",\"Bangladesh\",\"Barbados\",\"Belarus\",\"Belgium\",\"Benin\",\"Bermuda\",\"Bhutan\",\"Bolivia\",\"Bosnia and Herzegovina\",\"Botswana\",\"Brazil\",\"Brunei\",\"Bulgaria\",\"Burkina Faso\",\"Burundi\",\"Cambodia\",\"Cameroon\",\"Canada\",\"Cape Verde\",\"Cayman Islands\",\"Central African Republic\",\"Chile\",\"Chinese Taipei\",\"Colombia\",\"Congo\",\"Cook Islands\",\"Costa Rica\",\"Croatia\",\"Cuba\",\"Cyprus\",\"Czech Republic\",\"Democratic People's Republic of Korea\",\"Democratic Republic of the Congo\",\"Denmark\",\"Djibouti\",\"Dominica\",\"Dominican Republic\",\"Ecuador\",\"Egypt\",\"El Salvador\",\"Equatorial Guinea\",\"Estonia\",\"Ethiopia\",\"Federated States of Micronesia\",\"Fiji\",\"Finland\",\"France\",\"Gabon\",\"Georgia\",\"Germany\",\"Ghana\",\"Great Britain\",\"Greece\",\"Grenada\",\"Guam\",\"Guatemala\",\"Guinea\",\"Guinea-Bissau\",\"Haiti\",\"Honduras\",\"Hong Kong, China\",\"Hungary\",\"Iceland\",\"Independent Olympic Athletes\",\"India\",\"Indonesia\",\"Iraq\",\"Ireland\",\"Islamic Republic of Iran\",\"Israel\",\"Italy\",\"Ivory Coast\",\"Jamaica\",\"Japan\",\"Jordan\",\"Kazakhstan\",\"Kenya\",\"Kuwait\",\"Kyrgyzstan\",\"Lao People's Democratic Republic\",\"Latvia\",\"Lebanon\",\"Lesotho\",\"Libya\",\"Liechtenstein\",\"Lithuania\",\"Luxembourg\",\"Madagascar\",\"Malaysia\",\"Maldives\",\"Mali\",\"Malta\",\"Mauritius\",\"Mexico\",\"Monaco\",\"Mongolia\",\"Morocco\",\"Mozambique\",\"Myanmar\",\"Namibia\",\"Nauru\",\"Nepal\",\"Netherlands\",\"Netherlands Antilles\",\"New Zealand\",\"Nicaragua\",\"Niger\",\"Nigeria\",\"Norway\",\"Oman\",\"Pakistan\",\"Palau\",\"Palestine\",\"Panama\",\"Papua New Guinea\",\"Paraguay\",\"People's Republic of China\",\"Peru\",\"Philippines\",\"Poland\",\"Portugal\",\"Puerto Rico\",\"Qatar\",\"Republic of Korea\",\"Republic of Moldova\",\"Romania\",\"Russian Federation\",\"Rwanda\",\"Saint Kitts and Nevis\",\"Saint Lucia\",\"Saint Vincent and the Grenadines\",\"Samoa\",\"San Marino\",\"Saudi Arabia\",\"Senegal\",\"Serbia and Montenegro\",\"Seychelles\",\"Sierra Leone\",\"Singapore\",\"Slovakia\",\"Slovenia\",\"South Africa\",\"Spain\",\"Sri Lanka\",\"Sudan\",\"Suriname\",\"Swaziland\",\"Sweden\",\"Switzerland\",\"Syrian Arab Republic\",\"Tajikistan\",\"Thailand\",\"The Former Yugoslav Republic of Macedonia\",\"Tonga\",\"Trinidad and Tobago\",\"Tunisia\",\"Turkey\",\"Turkmenistan\",\"US Virgin Islands\",\"Uganda\",\"Ukraine\",\"United Arab Emirates\",\"United Republic of Tanzania\",\"United States of America\",\"Uruguay\",\"Uzbekistan\",\"Vanuatu\",\"Venezuela\",\"Vietnam\",\"Zambia\",\"Zimbabwe\"],\"name\":\"\",\"z\":[1,4,1,1,1,1,3,2,1,4,3,3,3,1,1,2,4,3,1,1,1,1,1,1,3,1,4,1,1,1,2,4,1,1,1,2,3,2,1,1,2,3,4,1,4,3,1,4,1,1,1,1,1,1,1,3,4,1,1,4,4,1,2,4,1,4,4,1,1,1,1,1,1,1,1,4,2,1,2,4,1,2,3,2,4,1,3,4,1,3,4,2,2,1,4,1,1,1,1,3,1,1,1,1,1,1,1,4,1,1,3,2,1,1,1,1,4,1,3,1,1,3,4,1,1,1,1,1,1,1,4,1,1,4,2,1,2,4,3,4,4,1,1,1,1,1,1,3,1,4,1,1,1,4,2,3,4,2,1,1,1,4,4,1,1,3,2,1,3,1,3,1,1,1,4,1,1,4,2,4,1,1,2,1,1],\"type\":\"choropleth\"}],\"name\":\"2000\"},{\"data\":[{\"coloraxis\":\"coloraxis\",\"customdata\":[[1],[1],[1],[2],[4],[1],[2],[1],[1],[1],[1],[3],[1],[4],[1],[1],[1],[3],[1],[3],[1],[1],[4],[1],[4],[4],[1],[4],[3],[1],[1],[1],[1],[1],[1],[1],[1],[4],[1],[3],[1],[1],[1],[1],[1],[1],[1],[1],[1],[1],[1],[3],[1],[4],[4],[3],[1],[3],[1],[1],[4],[1],[1],[1],[2],[1],[1],[3],[4],[1],[1],[1],[1],[1],[1],[1],[4],[1],[1]],\"geo\":\"geo\",\"hovertemplate\":\"date=2002\\u003cbr\\u003ecountry_name=%{location}\\u003cbr\\u003esum_of_medals=%{z}\\u003cextra\\u003e\\u003c\\u002fextra\\u003e\",\"locationmode\":\"country names\",\"locations\":[\"Andorra\",\"Argentina\",\"Armenia\",\"Australia\",\"Austria\",\"Azerbaijan\",\"Belarus\",\"Belgium\",\"Bermuda\",\"Bosnia and Herzegovina\",\"Brazil\",\"Bulgaria\",\"Cameroon\",\"Canada\",\"Chile\",\"Chinese Taipei\",\"Costa Rica\",\"Croatia\",\"Cyprus\",\"Czech Republic\",\"Democratic People's Republic of Korea\",\"Denmark\",\"Estonia\",\"Fiji\",\"Finland\",\"France\",\"Georgia\",\"Germany\",\"Great Britain\",\"Greece\",\"Hong Kong, China\",\"Hungary\",\"Iceland\",\"India\",\"Ireland\",\"Islamic Republic of Iran\",\"Israel\",\"Italy\",\"Jamaica\",\"Japan\",\"Kazakhstan\",\"Kenya\",\"Kyrgyzstan\",\"Latvia\",\"Lebanon\",\"Liechtenstein\",\"Lithuania\",\"Mexico\",\"Monaco\",\"Mongolia\",\"Nepal\",\"Netherlands\",\"New Zealand\",\"Norway\",\"People's Republic of China\",\"Poland\",\"Puerto Rico\",\"Republic of Korea\",\"Republic of Moldova\",\"Romania\",\"Russian Federation\",\"San Marino\",\"Serbia and Montenegro\",\"Slovakia\",\"Slovenia\",\"South Africa\",\"Spain\",\"Sweden\",\"Switzerland\",\"Tajikistan\",\"Thailand\",\"The Former Yugoslav Republic of Macedonia\",\"Trinidad and Tobago\",\"Turkey\",\"US Virgin Islands\",\"Ukraine\",\"United States of America\",\"Uzbekistan\",\"Venezuela\"],\"name\":\"\",\"z\":[1,1,1,2,4,1,2,1,1,1,1,3,1,4,1,1,1,3,1,3,1,1,4,1,4,4,1,4,3,1,1,1,1,1,1,1,1,4,1,3,1,1,1,1,1,1,1,1,1,1,1,3,1,4,4,3,1,3,1,1,4,1,1,1,2,1,1,3,4,1,1,1,1,1,1,1,4,1,1],\"type\":\"choropleth\"}],\"name\":\"2002\"},{\"data\":[{\"coloraxis\":\"coloraxis\",\"customdata\":[[1],[1],[1],[1],[1],[1],[1],[3],[1],[1],[4],[4],[3],[3],[1],[1],[1],[4],[3],[1],[1],[1],[1],[1],[1],[4],[4],[1],[1],[1],[2],[4],[1],[1],[1],[1],[3],[4],[2],[1],[1],[1],[1],[4],[4],[1],[4],[3],[1],[1],[4],[2],[1],[4],[1],[1],[2],[3],[4],[1],[1],[2],[4],[1],[3],[4],[1],[4],[4],[1],[1],[1],[1],[1],[1],[1],[1],[2],[4],[1],[2],[4],[1],[1],[4],[3],[4],[1],[4],[4],[1],[4],[4],[1],[1],[1],[1],[2],[1],[1],[1],[1],[3],[1],[1],[1],[1],[1],[1],[1],[1],[3],[1],[2],[3],[1],[1],[1],[1],[1],[4],[1],[3],[1],[1],[2],[3],[1],[1],[1],[1],[1],[1],[2],[4],[1],[1],[4],[3],[1],[1],[4],[1],[4],[4],[1],[1],[1],[1],[1],[1],[1],[1],[1],[2],[1],[1],[4],[3],[4],[4],[1],[1],[1],[1],[4],[4],[2],[1],[4],[1],[1],[1],[2],[1],[4],[1],[1],[1],[4],[2],[1],[4],[1],[4],[2],[1],[1],[1],[4]],\"geo\":\"geo\",\"hovertemplate\":\"date=2004\\u003cbr\\u003ecountry_name=%{location}\\u003cbr\\u003esum_of_medals=%{z}\\u003cextra\\u003e\\u003c\\u002fextra\\u003e\",\"locationmode\":\"country names\",\"locations\":[\"Afghanistan\",\"Albania\",\"Algeria\",\"American Samoa\",\"Andorra\",\"Angola\",\"Antigua and Barbuda\",\"Argentina\",\"Armenia\",\"Aruba\",\"Australia\",\"Austria\",\"Azerbaijan\",\"Bahamas\",\"Bahrain\",\"Bangladesh\",\"Barbados\",\"Belarus\",\"Belgium\",\"Benin\",\"Bermuda\",\"Bhutan\",\"Bolivia\",\"Bosnia and Herzegovina\",\"Botswana\",\"Brazil\",\"Bulgaria\",\"Burkina Faso\",\"Burundi\",\"Cambodia\",\"Cameroon\",\"Canada\",\"Cape Verde\",\"Cayman Islands\",\"Central African Republic\",\"Chad\",\"Chile\",\"Chinese Taipei\",\"Colombia\",\"Comoros\",\"Congo\",\"Cook Islands\",\"Costa Rica\",\"Croatia\",\"Cuba\",\"Cyprus\",\"Czech Republic\",\"Democratic People's Republic of Korea\",\"Democratic Republic of Timor-Leste\",\"Democratic Republic of the Congo\",\"Denmark\",\"Dominican Republic\",\"Ecuador\",\"Egypt\",\"El Salvador\",\"Equatorial Guinea\",\"Eritrea\",\"Estonia\",\"Ethiopia\",\"Federated States of Micronesia\",\"Fiji\",\"Finland\",\"France\",\"Gabon\",\"Georgia\",\"Germany\",\"Ghana\",\"Great Britain\",\"Greece\",\"Grenada\",\"Guam\",\"Guatemala\",\"Guinea\",\"Guinea-Bissau\",\"Guyana\",\"Haiti\",\"Honduras\",\"Hong Kong, China\",\"Hungary\",\"Iceland\",\"India\",\"Indonesia\",\"Iraq\",\"Ireland\",\"Islamic Republic of Iran\",\"Israel\",\"Italy\",\"Ivory Coast\",\"Jamaica\",\"Japan\",\"Jordan\",\"Kazakhstan\",\"Kenya\",\"Kiribati\",\"Kuwait\",\"Kyrgyzstan\",\"Lao People's Democratic Republic\",\"Latvia\",\"Lebanon\",\"Lesotho\",\"Libya\",\"Liechtenstein\",\"Lithuania\",\"Luxembourg\",\"Madagascar\",\"Malawi\",\"Malaysia\",\"Maldives\",\"Mali\",\"Malta\",\"Mauritius\",\"Mexico\",\"Monaco\",\"Mongolia\",\"Morocco\",\"Mozambique\",\"Myanmar\",\"Namibia\",\"Nauru\",\"Nepal\",\"Netherlands\",\"Netherlands Antilles\",\"New Zealand\",\"Nicaragua\",\"Niger\",\"Nigeria\",\"Norway\",\"Oman\",\"Pakistan\",\"Palau\",\"Palestine\",\"Panama\",\"Papua New Guinea\",\"Paraguay\",\"People's Republic of China\",\"Peru\",\"Philippines\",\"Poland\",\"Portugal\",\"Puerto Rico\",\"Qatar\",\"Republic of Korea\",\"Republic of Moldova\",\"Romania\",\"Russian Federation\",\"Rwanda\",\"Saint Kitts and Nevis\",\"Saint Lucia\",\"Saint Vincent and the Grenadines\",\"Samoa\",\"San Marino\",\"Sao Tome and Principe\",\"Saudi Arabia\",\"Senegal\",\"Serbia and Montenegro\",\"Seychelles\",\"Singapore\",\"Slovakia\",\"Slovenia\",\"South Africa\",\"Spain\",\"Sri Lanka\",\"Sudan\",\"Suriname\",\"Swaziland\",\"Sweden\",\"Switzerland\",\"Syrian Arab Republic\",\"Tajikistan\",\"Thailand\",\"The Former Yugoslav Republic of Macedonia\",\"Togo\",\"Tonga\",\"Trinidad and Tobago\",\"Tunisia\",\"Turkey\",\"Turkmenistan\",\"US Virgin Islands\",\"Uganda\",\"Ukraine\",\"United Arab Emirates\",\"United Republic of Tanzania\",\"United States of America\",\"Uruguay\",\"Uzbekistan\",\"Venezuela\",\"Vietnam\",\"Yemen\",\"Zambia\",\"Zimbabwe\"],\"name\":\"\",\"z\":[1,1,1,1,1,1,1,3,1,1,4,4,3,3,1,1,1,4,3,1,1,1,1,1,1,4,4,1,1,1,2,4,1,1,1,1,3,4,2,1,1,1,1,4,4,1,4,3,1,1,4,2,1,4,1,1,2,3,4,1,1,2,4,1,3,4,1,4,4,1,1,1,1,1,1,1,1,2,4,1,2,4,1,1,4,3,4,1,4,4,1,4,4,1,1,1,1,2,1,1,1,1,3,1,1,1,1,1,1,1,1,3,1,2,3,1,1,1,1,1,4,1,3,1,1,2,3,1,1,1,1,1,1,2,4,1,1,4,3,1,1,4,1,4,4,1,1,1,1,1,1,1,1,1,2,1,1,4,3,4,4,1,1,1,1,4,4,2,1,4,1,1,1,2,1,4,1,1,1,4,2,1,4,1,4,2,1,1,1,4],\"type\":\"choropleth\"}],\"name\":\"2004\"},{\"data\":[{\"coloraxis\":\"coloraxis\",\"customdata\":[[1],[1],[1],[1],[1],[3],[4],[1],[2],[1],[1],[1],[1],[2],[4],[1],[1],[1],[3],[1],[4],[1],[1],[2],[1],[3],[4],[1],[4],[2],[1],[1],[1],[1],[1],[1],[1],[1],[3],[2],[1],[1],[1],[2],[1],[1],[1],[1],[1],[1],[1],[1],[4],[1],[4],[4],[3],[1],[4],[1],[1],[4],[1],[1],[1],[2],[1],[1],[1],[4],[4],[1],[1],[1],[1],[2],[4],[1],[1]],\"geo\":\"geo\",\"hovertemplate\":\"date=2006\\u003cbr\\u003ecountry_name=%{location}\\u003cbr\\u003esum_of_medals=%{z}\\u003cextra\\u003e\\u003c\\u002fextra\\u003e\",\"locationmode\":\"country names\",\"locations\":[\"Albania\",\"Algeria\",\"Andorra\",\"Argentina\",\"Armenia\",\"Australia\",\"Austria\",\"Azerbaijan\",\"Belarus\",\"Belgium\",\"Bermuda\",\"Bosnia and Herzegovina\",\"Brazil\",\"Bulgaria\",\"Canada\",\"Chile\",\"Chinese Taipei\",\"Costa Rica\",\"Croatia\",\"Cyprus\",\"Czech Republic\",\"Democratic People's Republic of Korea\",\"Denmark\",\"Estonia\",\"Ethiopia\",\"Finland\",\"France\",\"Georgia\",\"Germany\",\"Great Britain\",\"Greece\",\"Hong Kong, China\",\"Hungary\",\"Iceland\",\"India\",\"Ireland\",\"Islamic Republic of Iran\",\"Israel\",\"Italy\",\"Japan\",\"Kazakhstan\",\"Kenya\",\"Kyrgyzstan\",\"Latvia\",\"Lebanon\",\"Liechtenstein\",\"Lithuania\",\"Luxembourg\",\"Madagascar\",\"Monaco\",\"Mongolia\",\"Nepal\",\"Netherlands\",\"New Zealand\",\"Norway\",\"People's Republic of China\",\"Poland\",\"Portugal\",\"Republic of Korea\",\"Republic of Moldova\",\"Romania\",\"Russian Federation\",\"San Marino\",\"Senegal\",\"Serbia and Montenegro\",\"Slovakia\",\"Slovenia\",\"South Africa\",\"Spain\",\"Sweden\",\"Switzerland\",\"Tajikistan\",\"Thailand\",\"The Former Yugoslav Republic of Macedonia\",\"Turkey\",\"Ukraine\",\"United States of America\",\"Uzbekistan\",\"Venezuela\"],\"name\":\"\",\"z\":[1,1,1,1,1,3,4,1,2,1,1,1,1,2,4,1,1,1,3,1,4,1,1,2,1,3,4,1,4,2,1,1,1,1,1,1,1,1,3,2,1,1,1,2,1,1,1,1,1,1,1,1,4,1,4,4,3,1,4,1,1,4,1,1,1,2,1,1,1,4,4,1,1,1,1,2,4,1,1],\"type\":\"choropleth\"}],\"name\":\"2006\"},{\"data\":[{\"coloraxis\":\"coloraxis\",\"customdata\":[[2],[1],[3],[1],[1],[1],[1],[3],[3],[1],[4],[3],[4],[3],[1],[1],[1],[4],[2],[1],[1],[1],[1],[1],[1],[1],[4],[4],[1],[1],[1],[2],[4],[1],[1],[1],[2],[4],[3],[1],[1],[1],[1],[3],[4],[1],[4],[4],[1],[1],[4],[3],[2],[2],[1],[1],[1],[3],[4],[1],[1],[4],[4],[1],[1],[4],[4],[1],[4],[3],[1],[1],[1],[1],[1],[1],[1],[1],[1],[4],[2],[3],[4],[1],[3],[3],[2],[4],[1],[4],[4],[1],[4],[4],[1],[1],[3],[1],[4],[1],[1],[1],[1],[1],[3],[1],[1],[1],[2],[1],[1],[1],[1],[2],[3],[1],[3],[1],[3],[1],[1],[1],[1],[1],[4],[1],[4],[1],[1],[3],[4],[1],[1],[1],[1],[2],[1],[1],[4],[1],[1],[4],[3],[1],[1],[4],[2],[4],[4],[1],[1],[1],[2],[1],[1],[1],[3],[1],[1],[2],[3],[4],[1],[2],[4],[1],[2],[1],[1],[3],[4],[1],[3],[4],[1],[2],[1],[3],[2],[4],[1],[1],[1],[1],[4],[1],[1],[4],[1],[3],[1],[2],[2],[1],[1],[3]],\"geo\":\"geo\",\"hovertemplate\":\"date=2008\\u003cbr\\u003ecountry_name=%{location}\\u003cbr\\u003esum_of_medals=%{z}\\u003cextra\\u003e\\u003c\\u002fextra\\u003e\",\"locationmode\":\"country names\",\"locations\":[\"Afghanistan\",\"Albania\",\"Algeria\",\"American Samoa\",\"Andorra\",\"Angola\",\"Antigua and Barbuda\",\"Argentina\",\"Armenia\",\"Aruba\",\"Australia\",\"Austria\",\"Azerbaijan\",\"Bahamas\",\"Bahrain\",\"Bangladesh\",\"Barbados\",\"Belarus\",\"Belgium\",\"Belize\",\"Benin\",\"Bermuda\",\"Bhutan\",\"Bolivia\",\"Bosnia and Herzegovina\",\"Botswana\",\"Brazil\",\"Bulgaria\",\"Burkina Faso\",\"Burundi\",\"Cambodia\",\"Cameroon\",\"Canada\",\"Cape Verde\",\"Cayman Islands\",\"Central African Republic\",\"Chile\",\"Chinese Taipei\",\"Colombia\",\"Comoros\",\"Congo\",\"Cook Islands\",\"Costa Rica\",\"Croatia\",\"Cuba\",\"Cyprus\",\"Czech Republic\",\"Democratic People's Republic of Korea\",\"Democratic Republic of Timor-Leste\",\"Democratic Republic of the Congo\",\"Denmark\",\"Dominican Republic\",\"Ecuador\",\"Egypt\",\"El Salvador\",\"Equatorial Guinea\",\"Eritrea\",\"Estonia\",\"Ethiopia\",\"Federated States of Micronesia\",\"Fiji\",\"Finland\",\"France\",\"Gabon\",\"Gambia\",\"Georgia\",\"Germany\",\"Ghana\",\"Great Britain\",\"Greece\",\"Grenada\",\"Guam\",\"Guatemala\",\"Guinea\",\"Guinea-Bissau\",\"Guyana\",\"Haiti\",\"Honduras\",\"Hong Kong, China\",\"Hungary\",\"Iceland\",\"India\",\"Indonesia\",\"Iraq\",\"Ireland\",\"Islamic Republic of Iran\",\"Israel\",\"Italy\",\"Ivory Coast\",\"Jamaica\",\"Japan\",\"Jordan\",\"Kazakhstan\",\"Kenya\",\"Kiribati\",\"Kuwait\",\"Kyrgyzstan\",\"Lao People's Democratic Republic\",\"Latvia\",\"Lebanon\",\"Lesotho\",\"Liberia\",\"Libya\",\"Liechtenstein\",\"Lithuania\",\"Luxembourg\",\"Madagascar\",\"Malawi\",\"Malaysia\",\"Maldives\",\"Mali\",\"Malta\",\"Marshall Islands\",\"Mauritius\",\"Mexico\",\"Monaco\",\"Mongolia\",\"Montenegro\",\"Morocco\",\"Mozambique\",\"Myanmar\",\"Namibia\",\"Nauru\",\"Nepal\",\"Netherlands\",\"Netherlands Antilles\",\"New Zealand\",\"Nicaragua\",\"Niger\",\"Nigeria\",\"Norway\",\"Oman\",\"Pakistan\",\"Palau\",\"Palestine\",\"Panama\",\"Papua New Guinea\",\"Paraguay\",\"People's Republic of China\",\"Peru\",\"Philippines\",\"Poland\",\"Portugal\",\"Puerto Rico\",\"Qatar\",\"Republic of Korea\",\"Republic of Moldova\",\"Romania\",\"Russian Federation\",\"Rwanda\",\"Saint Kitts and Nevis\",\"Saint Lucia\",\"Samoa\",\"San Marino\",\"Saudi Arabia\",\"Senegal\",\"Serbia\",\"Seychelles\",\"Sierra Leone\",\"Singapore\",\"Slovakia\",\"Slovenia\",\"Solomon Islands\",\"South Africa\",\"Spain\",\"Sri Lanka\",\"Sudan\",\"Suriname\",\"Swaziland\",\"Sweden\",\"Switzerland\",\"Syrian Arab Republic\",\"Tajikistan\",\"Thailand\",\"The Former Yugoslav Republic of Macedonia\",\"Togo\",\"Tonga\",\"Trinidad and Tobago\",\"Tunisia\",\"Turkey\",\"Turkmenistan\",\"Tuvalu\",\"US Virgin Islands\",\"Uganda\",\"Ukraine\",\"United Arab Emirates\",\"United Republic of Tanzania\",\"United States of America\",\"Uruguay\",\"Uzbekistan\",\"Vanuatu\",\"Venezuela\",\"Vietnam\",\"Yemen\",\"Zambia\",\"Zimbabwe\"],\"name\":\"\",\"z\":[2,1,3,1,1,1,1,3,3,1,4,3,4,3,1,1,1,4,2,1,1,1,1,1,1,1,4,4,1,1,1,2,4,1,1,1,2,4,3,1,1,1,1,3,4,1,4,4,1,1,4,3,2,2,1,1,1,3,4,1,1,4,4,1,1,4,4,1,4,3,1,1,1,1,1,1,1,1,1,4,2,3,4,1,3,3,2,4,1,4,4,1,4,4,1,1,3,1,4,1,1,1,1,1,3,1,1,1,2,1,1,1,1,2,3,1,3,1,3,1,1,1,1,1,4,1,4,1,1,3,4,1,1,1,1,2,1,1,4,1,1,4,3,1,1,4,2,4,4,1,1,1,2,1,1,1,3,1,1,2,3,4,1,2,4,1,2,1,1,3,4,1,3,4,1,2,1,3,2,4,1,1,1,1,4,1,1,4,1,3,1,2,2,1,1,3],\"type\":\"choropleth\"}],\"name\":\"2008\"},{\"data\":[{\"coloraxis\":\"coloraxis\",\"customdata\":[[1],[1],[1],[1],[1],[3],[4],[1],[4],[1],[1],[1],[1],[1],[4],[1],[1],[1],[1],[3],[1],[3],[1],[1],[2],[1],[3],[4],[1],[4],[1],[2],[1],[1],[1],[1],[1],[1],[1],[1],[4],[1],[3],[2],[1],[2],[1],[1],[1],[1],[1],[1],[1],[1],[1],[4],[1],[4],[1],[4],[1],[4],[1],[4],[1],[1],[4],[1],[1],[1],[4],[3],[1],[1],[4],[3],[1],[1],[1],[1],[4],[1]],\"geo\":\"geo\",\"hovertemplate\":\"date=2010\\u003cbr\\u003ecountry_name=%{location}\\u003cbr\\u003esum_of_medals=%{z}\\u003cextra\\u003e\\u003c\\u002fextra\\u003e\",\"locationmode\":\"country names\",\"locations\":[\"Albania\",\"Algeria\",\"Andorra\",\"Argentina\",\"Armenia\",\"Australia\",\"Austria\",\"Azerbaijan\",\"Belarus\",\"Belgium\",\"Bermuda\",\"Bosnia and Herzegovina\",\"Brazil\",\"Bulgaria\",\"Canada\",\"Cayman Islands\",\"Chile\",\"Chinese Taipei\",\"Colombia\",\"Croatia\",\"Cyprus\",\"Czech Republic\",\"Democratic People's Republic of Korea\",\"Denmark\",\"Estonia\",\"Ethiopia\",\"Finland\",\"France\",\"Georgia\",\"Germany\",\"Ghana\",\"Great Britain\",\"Greece\",\"Hong Kong, China\",\"Hungary\",\"Iceland\",\"India\",\"Ireland\",\"Islamic Republic of Iran\",\"Israel\",\"Italy\",\"Jamaica\",\"Japan\",\"Kazakhstan\",\"Kyrgyzstan\",\"Latvia\",\"Lebanon\",\"Liechtenstein\",\"Lithuania\",\"Mexico\",\"Monaco\",\"Mongolia\",\"Montenegro\",\"Morocco\",\"Nepal\",\"Netherlands\",\"New Zealand\",\"Norway\",\"Pakistan\",\"People's Republic of China\",\"Peru\",\"Poland\",\"Portugal\",\"Republic of Korea\",\"Republic of Moldova\",\"Romania\",\"Russian Federation\",\"San Marino\",\"Senegal\",\"Serbia\",\"Slovakia\",\"Slovenia\",\"South Africa\",\"Spain\",\"Sweden\",\"Switzerland\",\"Tajikistan\",\"The Former Yugoslav Republic of Macedonia\",\"Turkey\",\"Ukraine\",\"United States of America\",\"Uzbekistan\"],\"name\":\"\",\"z\":[1,1,1,1,1,3,4,1,4,1,1,1,1,1,4,1,1,1,1,3,1,3,1,1,2,1,3,4,1,4,1,2,1,1,1,1,1,1,1,1,4,1,3,2,1,2,1,1,1,1,1,1,1,1,1,4,1,4,1,4,1,4,1,4,1,1,4,1,1,1,4,3,1,1,4,3,1,1,1,1,4,1],\"type\":\"choropleth\"}],\"name\":\"2010\"},{\"data\":[{\"coloraxis\":\"coloraxis\",\"customdata\":[[2],[1],[2],[1],[1],[1],[1],[4],[3],[1],[4],[1],[4],[2],[2],[1],[1],[4],[3],[1],[1],[1],[1],[1],[1],[2],[4],[1],[3],[1],[1],[1],[2],[4],[1],[1],[1],[1],[1],[3],[4],[1],[1],[1],[1],[4],[4],[2],[4],[3],[1],[1],[4],[1],[3],[1],[3],[1],[1],[3],[4],[1],[1],[3],[4],[2],[4],[4],[1],[4],[2],[2],[1],[2],[1],[1],[1],[1],[1],[2],[4],[1],[1],[3],[3],[1],[4],[4],[1],[4],[1],[4],[4],[1],[4],[4],[1],[2],[1],[1],[3],[1],[1],[1],[1],[1],[3],[1],[1],[1],[3],[1],[1],[1],[1],[1],[4],[1],[3],[2],[2],[1],[1],[1],[1],[1],[4],[4],[1],[1],[1],[4],[1],[1],[1],[1],[1],[1],[1],[4],[1],[1],[4],[2],[3],[2],[4],[1],[4],[4],[1],[1],[1],[1],[1],[1],[2],[1],[4],[1],[2],[3],[4],[1],[4],[4],[1],[1],[1],[1],[4],[3],[1],[2],[3],[1],[1],[1],[4],[3],[4],[1],[1],[1],[2],[4],[1],[1],[4],[1],[2],[1],[2],[1],[1],[1],[1]],\"geo\":\"geo\",\"hovertemplate\":\"date=2012\\u003cbr\\u003ecountry_name=%{location}\\u003cbr\\u003esum_of_medals=%{z}\\u003cextra\\u003e\\u003c\\u002fextra\\u003e\",\"locationmode\":\"country names\",\"locations\":[\"Afghanistan\",\"Albania\",\"Algeria\",\"American Samoa\",\"Andorra\",\"Angola\",\"Antigua and Barbuda\",\"Argentina\",\"Armenia\",\"Aruba\",\"Australia\",\"Austria\",\"Azerbaijan\",\"Bahamas\",\"Bahrain\",\"Bangladesh\",\"Barbados\",\"Belarus\",\"Belgium\",\"Belize\",\"Benin\",\"Bermuda\",\"Bhutan\",\"Bolivia\",\"Bosnia and Herzegovina\",\"Botswana\",\"Brazil\",\"Brunei\",\"Bulgaria\",\"Burkina Faso\",\"Burundi\",\"Cambodia\",\"Cameroon\",\"Canada\",\"Cape Verde\",\"Cayman Islands\",\"Central African Republic\",\"Chad\",\"Chile\",\"Chinese Taipei\",\"Colombia\",\"Comoros\",\"Congo\",\"Cook Islands\",\"Costa Rica\",\"Croatia\",\"Cuba\",\"Cyprus\",\"Czech Republic\",\"Democratic People's Republic of Korea\",\"Democratic Republic of Timor-Leste\",\"Democratic Republic of the Congo\",\"Denmark\",\"Djibouti\",\"Dominican Republic\",\"Ecuador\",\"Egypt\",\"El Salvador\",\"Eritrea\",\"Estonia\",\"Ethiopia\",\"Federated States of Micronesia\",\"Fiji\",\"Finland\",\"France\",\"Gabon\",\"Georgia\",\"Germany\",\"Ghana\",\"Great Britain\",\"Greece\",\"Grenada\",\"Guam\",\"Guatemala\",\"Guinea\",\"Guinea-Bissau\",\"Guyana\",\"Haiti\",\"Honduras\",\"Hong Kong, China\",\"Hungary\",\"Iceland\",\"Independent Olympic Athletes\",\"India\",\"Indonesia\",\"Iraq\",\"Ireland\",\"Islamic Republic of Iran\",\"Israel\",\"Italy\",\"Ivory Coast\",\"Jamaica\",\"Japan\",\"Jordan\",\"Kazakhstan\",\"Kenya\",\"Kiribati\",\"Kuwait\",\"Kyrgyzstan\",\"Lao People's Democratic Republic\",\"Latvia\",\"Lebanon\",\"Lesotho\",\"Liberia\",\"Libya\",\"Liechtenstein\",\"Lithuania\",\"Luxembourg\",\"Madagascar\",\"Malawi\",\"Malaysia\",\"Maldives\",\"Mali\",\"Malta\",\"Marshall Islands\",\"Mauritius\",\"Mexico\",\"Monaco\",\"Mongolia\",\"Montenegro\",\"Morocco\",\"Mozambique\",\"Myanmar\",\"Namibia\",\"Nauru\",\"Nepal\",\"Netherlands\",\"New Zealand\",\"Nicaragua\",\"Niger\",\"Nigeria\",\"Norway\",\"Oman\",\"Pakistan\",\"Palau\",\"Palestine\",\"Panama\",\"Papua New Guinea\",\"Paraguay\",\"People's Republic of China\",\"Peru\",\"Philippines\",\"Poland\",\"Portugal\",\"Puerto Rico\",\"Qatar\",\"Republic of Korea\",\"Republic of Moldova\",\"Romania\",\"Russian Federation\",\"Rwanda\",\"Saint Kitts and Nevis\",\"Saint Lucia\",\"Saint Vincent and the Grenadines\",\"Samoa\",\"San Marino\",\"Saudi Arabia\",\"Senegal\",\"Serbia\",\"Seychelles\",\"Singapore\",\"Slovakia\",\"Slovenia\",\"Solomon Islands\",\"South Africa\",\"Spain\",\"Sri Lanka\",\"Sudan\",\"Suriname\",\"Swaziland\",\"Sweden\",\"Switzerland\",\"Syrian Arab Republic\",\"Tajikistan\",\"Thailand\",\"The Former Yugoslav Republic of Macedonia\",\"Togo\",\"Tonga\",\"Trinidad and Tobago\",\"Tunisia\",\"Turkey\",\"Turkmenistan\",\"Tuvalu\",\"US Virgin Islands\",\"Uganda\",\"Ukraine\",\"United Arab Emirates\",\"United Republic of Tanzania\",\"United States of America\",\"Uruguay\",\"Uzbekistan\",\"Vanuatu\",\"Venezuela\",\"Vietnam\",\"Yemen\",\"Zambia\",\"Zimbabwe\"],\"name\":\"\",\"z\":[2,1,2,1,1,1,1,4,3,1,4,1,4,2,2,1,1,4,3,1,1,1,1,1,1,2,4,1,3,1,1,1,2,4,1,1,1,1,1,3,4,1,1,1,1,4,4,2,4,3,1,1,4,1,3,1,3,1,1,3,4,1,1,3,4,2,4,4,1,4,2,2,1,2,1,1,1,1,1,2,4,1,1,3,3,1,4,4,1,4,1,4,4,1,4,4,1,2,1,1,3,1,1,1,1,1,3,1,1,1,3,1,1,1,1,1,4,1,3,2,2,1,1,1,1,1,4,4,1,1,1,4,1,1,1,1,1,1,1,4,1,1,4,2,3,2,4,1,4,4,1,1,1,1,1,1,2,1,4,1,2,3,4,1,4,4,1,1,1,1,4,3,1,2,3,1,1,1,4,3,4,1,1,1,2,4,1,1,4,1,2,1,2,1,1,1,1],\"type\":\"choropleth\"}],\"name\":\"2012\"},{\"data\":[{\"coloraxis\":\"coloraxis\",\"customdata\":[[1],[1],[1],[1],[3],[4],[1],[3],[1],[1],[1],[1],[1],[1],[4],[1],[1],[1],[2],[1],[4],[1],[1],[1],[1],[4],[4],[1],[4],[4],[1],[1],[1],[1],[1],[1],[1],[1],[1],[3],[1],[4],[2],[1],[4],[1],[1],[1],[1],[1],[1],[1],[1],[1],[1],[1],[4],[1],[4],[1],[1],[4],[1],[1],[4],[1],[4],[1],[1],[4],[1],[1],[2],[4],[1],[4],[4],[1],[1],[1],[1],[1],[1],[1],[3],[4],[1],[1],[1]],\"geo\":\"geo\",\"hovertemplate\":\"date=2014\\u003cbr\\u003ecountry_name=%{location}\\u003cbr\\u003esum_of_medals=%{z}\\u003cextra\\u003e\\u003c\\u002fextra\\u003e\",\"locationmode\":\"country names\",\"locations\":[\"Albania\",\"Andorra\",\"Argentina\",\"Armenia\",\"Australia\",\"Austria\",\"Azerbaijan\",\"Belarus\",\"Belgium\",\"Bermuda\",\"Bosnia and Herzegovina\",\"Brazil\",\"British Virgin Islands\",\"Bulgaria\",\"Canada\",\"Cayman Islands\",\"Chile\",\"Chinese Taipei\",\"Croatia\",\"Cyprus\",\"Czech Republic\",\"Democratic Republic of Timor-Leste\",\"Denmark\",\"Dominica\",\"Estonia\",\"Finland\",\"France\",\"Georgia\",\"Germany\",\"Great Britain\",\"Greece\",\"Hong Kong, China\",\"Hungary\",\"Iceland\",\"Independent Olympic Athletes\",\"India\",\"Ireland\",\"Islamic Republic of Iran\",\"Israel\",\"Italy\",\"Jamaica\",\"Japan\",\"Kazakhstan\",\"Kyrgyzstan\",\"Latvia\",\"Lebanon\",\"Liechtenstein\",\"Lithuania\",\"Luxembourg\",\"Malta\",\"Mexico\",\"Monaco\",\"Mongolia\",\"Montenegro\",\"Morocco\",\"Nepal\",\"Netherlands\",\"New Zealand\",\"Norway\",\"Pakistan\",\"Paraguay\",\"People's Republic of China\",\"Peru\",\"Philippines\",\"Poland\",\"Portugal\",\"Republic of Korea\",\"Republic of Moldova\",\"Romania\",\"Russian Federation\",\"San Marino\",\"Serbia\",\"Slovakia\",\"Slovenia\",\"Spain\",\"Sweden\",\"Switzerland\",\"Tajikistan\",\"Thailand\",\"The Former Yugoslav Republic of Macedonia\",\"Togo\",\"Tonga\",\"Turkey\",\"US Virgin Islands\",\"Ukraine\",\"United States of America\",\"Uzbekistan\",\"Venezuela\",\"Zimbabwe\"],\"name\":\"\",\"z\":[1,1,1,1,3,4,1,3,1,1,1,1,1,1,4,1,1,1,2,1,4,1,1,1,1,4,4,1,4,4,1,1,1,1,1,1,1,1,1,3,1,4,2,1,4,1,1,1,1,1,1,1,1,1,1,1,4,1,4,1,1,4,1,1,4,1,4,1,1,4,1,1,2,4,1,4,4,1,1,1,1,1,1,1,3,4,1,1,1],\"type\":\"choropleth\"}],\"name\":\"2014\"},{\"data\":[{\"coloraxis\":\"coloraxis\",\"customdata\":[[1],[1],[2],[1],[1],[1],[1],[3],[3],[1],[4],[2],[4],[3],[3],[1],[1],[4],[4],[1],[1],[1],[1],[1],[1],[1],[4],[1],[1],[3],[1],[2],[1],[1],[4],[1],[1],[1],[1],[3],[4],[1],[1],[1],[1],[4],[4],[1],[4],[4],[1],[1],[4],[1],[2],[1],[2],[1],[1],[1],[2],[4],[1],[2],[2],[4],[1],[1],[4],[4],[1],[4],[4],[2],[1],[1],[1],[1],[1],[1],[1],[1],[4],[1],[3],[3],[3],[1],[2],[4],[2],[4],[3],[4],[4],[2],[4],[4],[1],[2],[1],[1],[1],[1],[1],[1],[1],[3],[1],[1],[1],[3],[1],[1],[1],[1],[1],[3],[1],[3],[1],[2],[1],[1],[1],[1],[1],[4],[4],[1],[2],[2],[2],[1],[1],[1],[1],[1],[1],[1],[4],[1],[2],[4],[2],[2],[2],[1],[4],[1],[4],[4],[1],[1],[1],[1],[1],[1],[1],[1],[4],[1],[1],[2],[3],[4],[1],[4],[1],[4],[1],[1],[1],[4],[4],[1],[2],[4],[1],[1],[1],[2],[2],[4],[1],[1],[1],[4],[2],[1],[4],[1],[4],[1],[3],[3],[1],[1],[1]],\"geo\":\"geo\",\"hovertemplate\":\"date=2016\\u003cbr\\u003ecountry_name=%{location}\\u003cbr\\u003esum_of_medals=%{z}\\u003cextra\\u003e\\u003c\\u002fextra\\u003e\",\"locationmode\":\"country names\",\"locations\":[\"Afghanistan\",\"Albania\",\"Algeria\",\"American Samoa\",\"Andorra\",\"Angola\",\"Antigua and Barbuda\",\"Argentina\",\"Armenia\",\"Aruba\",\"Australia\",\"Austria\",\"Azerbaijan\",\"Bahamas\",\"Bahrain\",\"Bangladesh\",\"Barbados\",\"Belarus\",\"Belgium\",\"Belize\",\"Benin\",\"Bermuda\",\"Bhutan\",\"Bolivia\",\"Bosnia and Herzegovina\",\"Botswana\",\"Brazil\",\"British Virgin Islands\",\"Brunei\",\"Bulgaria\",\"Burkina Faso\",\"Burundi\",\"Cambodia\",\"Cameroon\",\"Canada\",\"Cape Verde\",\"Cayman Islands\",\"Central African Republic\",\"Chile\",\"Chinese Taipei\",\"Colombia\",\"Comoros\",\"Congo\",\"Cook Islands\",\"Costa Rica\",\"Croatia\",\"Cuba\",\"Cyprus\",\"Czech Republic\",\"Democratic People's Republic of Korea\",\"Democratic Republic of Timor-Leste\",\"Democratic Republic of the Congo\",\"Denmark\",\"Djibouti\",\"Dominican Republic\",\"Ecuador\",\"Egypt\",\"El Salvador\",\"Equatorial Guinea\",\"Eritrea\",\"Estonia\",\"Ethiopia\",\"Federated States of Micronesia\",\"Fiji\",\"Finland\",\"France\",\"Gabon\",\"Gambia\",\"Georgia\",\"Germany\",\"Ghana\",\"Great Britain\",\"Greece\",\"Grenada\",\"Guam\",\"Guatemala\",\"Guinea\",\"Guinea-Bissau\",\"Guyana\",\"Haiti\",\"Honduras\",\"Hong Kong, China\",\"Hungary\",\"Iceland\",\"Independent Olympic Athletes\",\"India\",\"Indonesia\",\"Iraq\",\"Ireland\",\"Islamic Republic of Iran\",\"Israel\",\"Italy\",\"Ivory Coast\",\"Jamaica\",\"Japan\",\"Jordan\",\"Kazakhstan\",\"Kenya\",\"Kiribati\",\"Kosovo\",\"Kyrgyzstan\",\"Lao People's Democratic Republic\",\"Latvia\",\"Lebanon\",\"Lesotho\",\"Libya\",\"Liechtenstein\",\"Lithuania\",\"Luxembourg\",\"Madagascar\",\"Malawi\",\"Malaysia\",\"Maldives\",\"Mali\",\"Malta\",\"Marshall Islands\",\"Mauritius\",\"Mexico\",\"Monaco\",\"Mongolia\",\"Montenegro\",\"Morocco\",\"Mozambique\",\"Myanmar\",\"Namibia\",\"Nauru\",\"Nepal\",\"Netherlands\",\"New Zealand\",\"Nicaragua\",\"Niger\",\"Nigeria\",\"Norway\",\"Oman\",\"Pakistan\",\"Palau\",\"Palestine\",\"Panama\",\"Papua New Guinea\",\"Paraguay\",\"People's Republic of China\",\"Peru\",\"Philippines\",\"Poland\",\"Portugal\",\"Puerto Rico\",\"Qatar\",\"Refugee Olympic Athletes\",\"Republic of Korea\",\"Republic of Moldova\",\"Romania\",\"Russian Federation\",\"Rwanda\",\"Saint Lucia\",\"Saint Vincent and the Grenadines\",\"Samoa\",\"San Marino\",\"Sao Tome and Principe\",\"Saudi Arabia\",\"Senegal\",\"Serbia\",\"Seychelles\",\"Sierra Leone\",\"Singapore\",\"Slovakia\",\"Slovenia\",\"Solomon Islands\",\"South Africa\",\"South Sudan\",\"Spain\",\"Sri Lanka\",\"Sudan\",\"Suriname\",\"Sweden\",\"Switzerland\",\"Syrian Arab Republic\",\"Tajikistan\",\"Thailand\",\"The Former Yugoslav Republic of Macedonia\",\"Togo\",\"Tonga\",\"Trinidad and Tobago\",\"Tunisia\",\"Turkey\",\"Turkmenistan\",\"US Virgin Islands\",\"Uganda\",\"Ukraine\",\"United Arab Emirates\",\"United Republic of Tanzania\",\"United States of America\",\"Uruguay\",\"Uzbekistan\",\"Vanuatu\",\"Venezuela\",\"Vietnam\",\"Yemen\",\"Zambia\",\"Zimbabwe\"],\"name\":\"\",\"z\":[1,1,2,1,1,1,1,3,3,1,4,2,4,3,3,1,1,4,4,1,1,1,1,1,1,1,4,1,1,3,1,2,1,1,4,1,1,1,1,3,4,1,1,1,1,4,4,1,4,4,1,1,4,1,2,1,2,1,1,1,2,4,1,2,2,4,1,1,4,4,1,4,4,2,1,1,1,1,1,1,1,1,4,1,3,3,3,1,2,4,2,4,3,4,4,2,4,4,1,2,1,1,1,1,1,1,1,3,1,1,1,3,1,1,1,1,1,3,1,3,1,2,1,1,1,1,1,4,4,1,2,2,2,1,1,1,1,1,1,1,4,1,2,4,2,2,2,1,4,1,4,4,1,1,1,1,1,1,1,1,4,1,1,2,3,4,1,4,1,4,1,1,1,4,4,1,2,4,1,1,1,2,2,4,1,1,1,4,2,1,4,1,4,1,3,3,1,1,1],\"type\":\"choropleth\"}],\"name\":\"2016\"},{\"data\":[{\"coloraxis\":\"coloraxis\",\"customdata\":[[1],[1],[1],[1],[3],[4],[1],[3],[2],[1],[1],[1],[1],[1],[4],[1],[1],[1],[1],[1],[4],[1],[1],[1],[1],[1],[1],[4],[4],[1],[4],[1],[3],[1],[1],[2],[1],[1],[1],[1],[1],[4],[1],[4],[2],[1],[1],[1],[1],[2],[1],[2],[1],[1],[1],[1],[1],[1],[1],[1],[1],[1],[4],[2],[1],[4],[4],[1],[4],[1],[3],[1],[1],[4],[1],[1],[1],[1],[1],[3],[3],[1],[2],[4],[4],[1],[1],[1],[1],[1],[2],[4],[1]],\"geo\":\"geo\",\"hovertemplate\":\"date=2018\\u003cbr\\u003ecountry_name=%{location}\\u003cbr\\u003esum_of_medals=%{z}\\u003cextra\\u003e\\u003c\\u002fextra\\u003e\",\"locationmode\":\"country names\",\"locations\":[\"Albania\",\"Andorra\",\"Argentina\",\"Armenia\",\"Australia\",\"Austria\",\"Azerbaijan\",\"Belarus\",\"Belgium\",\"Bermuda\",\"Bolivia\",\"Bosnia and Herzegovina\",\"Brazil\",\"Bulgaria\",\"Canada\",\"Chile\",\"Chinese Taipei\",\"Colombia\",\"Croatia\",\"Cyprus\",\"Czech Republic\",\"Democratic People's Republic of Korea\",\"Democratic Republic of Timor-Leste\",\"Denmark\",\"Ecuador\",\"Eritrea\",\"Estonia\",\"Finland\",\"France\",\"Georgia\",\"Germany\",\"Ghana\",\"Great Britain\",\"Greece\",\"Hong Kong, China\",\"Hungary\",\"Iceland\",\"India\",\"Ireland\",\"Islamic Republic of Iran\",\"Israel\",\"Italy\",\"Jamaica\",\"Japan\",\"Kazakhstan\",\"Kenya\",\"Korea Team\",\"Kosovo\",\"Kyrgyzstan\",\"Latvia\",\"Lebanon\",\"Liechtenstein\",\"Lithuania\",\"Luxembourg\",\"Madagascar\",\"Malaysia\",\"Malta\",\"Mexico\",\"Monaco\",\"Mongolia\",\"Montenegro\",\"Morocco\",\"Netherlands\",\"New Zealand\",\"Nigeria\",\"Norway\",\"Olympic Athletes from Russia\",\"Pakistan\",\"People's Republic of China\",\"Philippines\",\"Poland\",\"Portugal\",\"Puerto Rico\",\"Republic of Korea\",\"Republic of Moldova\",\"Romania\",\"San Marino\",\"Serbia\",\"Singapore\",\"Slovakia\",\"Slovenia\",\"South Africa\",\"Spain\",\"Sweden\",\"Switzerland\",\"Thailand\",\"The Former Yugoslav Republic of Macedonia\",\"Togo\",\"Tonga\",\"Turkey\",\"Ukraine\",\"United States of America\",\"Uzbekistan\"],\"name\":\"\",\"z\":[1,1,1,1,3,4,1,3,2,1,1,1,1,1,4,1,1,1,1,1,4,1,1,1,1,1,1,4,4,1,4,1,3,1,1,2,1,1,1,1,1,4,1,4,2,1,1,1,1,2,1,2,1,1,1,1,1,1,1,1,1,1,4,2,1,4,4,1,4,1,3,1,1,4,1,1,1,1,1,3,3,1,2,4,4,1,1,1,1,1,2,4,1],\"type\":\"choropleth\"}],\"name\":\"2018\"},{\"data\":[{\"coloraxis\":\"coloraxis\",\"customdata\":[[1],[1],[1],[1],[1],[1],[1],[3],[3],[1],[4],[4],[3],[2],[2],[1],[4],[4],[1],[1],[2],[1],[1],[1],[2],[4],[4],[2],[1],[1],[4],[1],[1],[1],[4],[3],[1],[1],[1],[4],[4],[1],[4],[2],[1],[4],[1],[1],[3],[3],[4],[1],[1],[3],[1],[4],[3],[2],[4],[1],[1],[4],[4],[2],[4],[4],[2],[1],[1],[1],[1],[1],[1],[1],[4],[4],[1],[4],[4],[1],[3],[4],[3],[4],[4],[4],[3],[2],[4],[1],[2],[2],[3],[1],[3],[1],[1],[1],[1],[1],[2],[1],[1],[1],[3],[1],[1],[1],[1],[2],[1],[3],[1],[2],[1],[1],[2],[1],[1],[4],[4],[1],[1],[3],[2],[4],[1],[1],[1],[1],[1],[1],[4],[1],[4],[4],[4],[2],[3],[4],[1],[4],[2],[3],[1],[1],[1],[3],[1],[2],[1],[4],[1],[1],[1],[4],[4],[1],[1],[3],[4],[1],[1],[1],[3],[4],[2],[1],[3],[1],[1],[1],[3],[4],[2],[4],[4],[1],[1],[4],[1],[3],[1],[3],[1],[1],[1],[1],[1],[1]],\"geo\":\"geo\",\"hovertemplate\":\"date=2020\\u003cbr\\u003ecountry_name=%{location}\\u003cbr\\u003esum_of_medals=%{z}\\u003cextra\\u003e\\u003c\\u002fextra\\u003e\",\"locationmode\":\"country names\",\"locations\":[\"Afghanistan\",\"Albania\",\"Algeria\",\"American Samoa\",\"Andorra\",\"Angola\",\"Antigua and Barbuda\",\"Argentina\",\"Armenia\",\"Aruba\",\"Australia\",\"Austria\",\"Azerbaijan\",\"Bahamas\",\"Bahrain\",\"Bangladesh\",\"Belarus\",\"Belgium\",\"Belize\",\"Benin\",\"Bermuda\",\"Bhutan\",\"Bolivia\",\"Bosnia and Herzegovina\",\"Botswana\",\"Brazil\",\"Bulgaria\",\"Burkina Faso\",\"Burundi\",\"Cameroon\",\"Canada\",\"Cape Verde\",\"Chad\",\"Chile\",\"Chinese Taipei\",\"Colombia\",\"Comoros\",\"Cook Islands\",\"Costa Rica\",\"Croatia\",\"Cuba\",\"Cyprus\",\"Czech Republic\",\"C\\u00f4te d'Ivoire\",\"Democratic Republic of the Congo\",\"Denmark\",\"Djibouti\",\"Dominica\",\"Dominican Republic\",\"Ecuador\",\"Egypt\",\"El Salvador\",\"Eritrea\",\"Estonia\",\"Eswatini\",\"Ethiopia\",\"Fiji\",\"Finland\",\"France\",\"Gabon\",\"Gambia\",\"Georgia\",\"Germany\",\"Ghana\",\"Great Britain\",\"Greece\",\"Grenada\",\"Guam\",\"Guatemala\",\"Guinea\",\"Guinea-Bissau\",\"Guyana\",\"Haiti\",\"Honduras\",\"Hong Kong, China\",\"Hungary\",\"Iceland\",\"India\",\"Indonesia\",\"Iraq\",\"Ireland\",\"Islamic Republic of Iran\",\"Israel\",\"Italy\",\"Jamaica\",\"Japan\",\"Jordan\",\"Kazakhstan\",\"Kenya\",\"Kiribati\",\"Kosovo\",\"Kuwait\",\"Kyrgyzstan\",\"Lao People's Democratic Republic\",\"Latvia\",\"Lebanon\",\"Lesotho\",\"Liberia\",\"Libya\",\"Liechtenstein\",\"Lithuania\",\"Luxembourg\",\"Madagascar\",\"Malawi\",\"Malaysia\",\"Maldives\",\"Mali\",\"Malta\",\"Mauritius\",\"Mexico\",\"Monaco\",\"Mongolia\",\"Montenegro\",\"Morocco\",\"Mozambique\",\"Myanmar\",\"Namibia\",\"Nauru\",\"Nepal\",\"Netherlands\",\"New Zealand\",\"Nicaragua\",\"Niger\",\"Nigeria\",\"North Macedonia\",\"Norway\",\"Oman\",\"Pakistan\",\"Palestine\",\"Panama\",\"Papua New Guinea\",\"Paraguay\",\"People's Republic of China\",\"Peru\",\"Philippines\",\"Poland\",\"Portugal\",\"Puerto Rico\",\"Qatar\",\"ROC\",\"Refugee Olympic Team\",\"Republic of Korea\",\"Republic of Moldova\",\"Romania\",\"Rwanda\",\"Saint Lucia\",\"Samoa\",\"San Marino\",\"Sao Tome and Principe\",\"Saudi Arabia\",\"Senegal\",\"Serbia\",\"Seychelles\",\"Sierra Leone\",\"Singapore\",\"Slovakia\",\"Slovenia\",\"Solomon Islands\",\"Somalia\",\"South Africa\",\"Spain\",\"Sri Lanka\",\"Sudan\",\"Suriname\",\"Sweden\",\"Switzerland\",\"Syrian Arab Republic\",\"Tajikistan\",\"Thailand\",\"Togo\",\"Tonga\",\"Trinidad and Tobago\",\"Tunisia\",\"Turkey\",\"Turkmenistan\",\"Uganda\",\"Ukraine\",\"United Arab Emirates\",\"United Republic of Tanzania\",\"United States of America\",\"Uruguay\",\"Uzbekistan\",\"Vanuatu\",\"Venezuela\",\"Vietnam\",\"Virgin Islands, British\",\"Virgin Islands, US\",\"Yemen\",\"Zambia\",\"Zimbabwe\"],\"name\":\"\",\"z\":[1,1,1,1,1,1,1,3,3,1,4,4,3,2,2,1,4,4,1,1,2,1,1,1,2,4,4,2,1,1,4,1,1,1,4,3,1,1,1,4,4,1,4,2,1,4,1,1,3,3,4,1,1,3,1,4,3,2,4,1,1,4,4,2,4,4,2,1,1,1,1,1,1,1,4,4,1,4,4,1,3,4,3,4,4,4,3,2,4,1,2,2,3,1,3,1,1,1,1,1,2,1,1,1,3,1,1,1,1,2,1,3,1,2,1,1,2,1,1,4,4,1,1,3,2,4,1,1,1,1,1,1,4,1,4,4,4,2,3,4,1,4,2,3,1,1,1,3,1,2,1,4,1,1,1,4,4,1,1,3,4,1,1,1,3,4,2,1,3,1,1,1,3,4,2,4,4,1,1,4,1,3,1,3,1,1,1,1,1,1],\"type\":\"choropleth\"}],\"name\":\"2020\"},{\"data\":[{\"coloraxis\":\"coloraxis\",\"customdata\":[[1],[1],[1],[1],[1],[4],[4],[1],[2],[3],[1],[1],[1],[1],[4],[1],[1],[1],[1],[1],[3],[1],[1],[1],[1],[2],[4],[4],[1],[4],[1],[3],[1],[1],[1],[3],[1],[1],[1],[1],[1],[4],[1],[4],[1],[1],[1],[2],[1],[1],[1],[1],[1],[1],[1],[1],[1],[1],[1],[1],[4],[3],[1],[1],[4],[1],[4],[1],[1],[2],[1],[1],[4],[4],[1],[1],[1],[1],[1],[3],[4],[2],[4],[4],[1],[1],[1],[2],[4],[1],[1]],\"geo\":\"geo\",\"hovertemplate\":\"date=2022\\u003cbr\\u003ecountry_name=%{location}\\u003cbr\\u003esum_of_medals=%{z}\\u003cextra\\u003e\\u003c\\u002fextra\\u003e\",\"locationmode\":\"country names\",\"locations\":[\"Albania\",\"American Samoa\",\"Andorra\",\"Argentina\",\"Armenia\",\"Australia\",\"Austria\",\"Azerbaijan\",\"Belarus\",\"Belgium\",\"Bolivia\",\"Bosnia and Herzegovina\",\"Brazil\",\"Bulgaria\",\"Canada\",\"Chile\",\"Chinese Taipei\",\"Colombia\",\"Croatia\",\"Cyprus\",\"Czech Republic\",\"Democratic Republic of Timor-Leste\",\"Denmark\",\"Ecuador\",\"Eritrea\",\"Estonia\",\"Finland\",\"France\",\"Georgia\",\"Germany\",\"Ghana\",\"Great Britain\",\"Greece\",\"Haiti\",\"Hong Kong, China\",\"Hungary\",\"Iceland\",\"India\",\"Ireland\",\"Islamic Republic of Iran\",\"Israel\",\"Italy\",\"Jamaica\",\"Japan\",\"Kazakhstan\",\"Kosovo\",\"Kyrgyzstan\",\"Latvia\",\"Lebanon\",\"Liechtenstein\",\"Lithuania\",\"Luxembourg\",\"Madagascar\",\"Malaysia\",\"Malta\",\"Mexico\",\"Monaco\",\"Mongolia\",\"Montenegro\",\"Morocco\",\"Netherlands\",\"New Zealand\",\"Nigeria\",\"North Macedonia\",\"Norway\",\"Pakistan\",\"People's Republic of China\",\"Peru\",\"Philippines\",\"Poland\",\"Portugal\",\"Puerto Rico\",\"ROC\",\"Republic of Korea\",\"Republic of Moldova\",\"Romania\",\"San Marino\",\"Saudi Arabia\",\"Serbia\",\"Slovakia\",\"Slovenia\",\"Spain\",\"Sweden\",\"Switzerland\",\"Thailand\",\"Trinidad and Tobago\",\"Turkey\",\"Ukraine\",\"United States of America\",\"Uzbekistan\",\"Virgin Islands, US\"],\"name\":\"\",\"z\":[1,1,1,1,1,4,4,1,2,3,1,1,1,1,4,1,1,1,1,1,3,1,1,1,1,2,4,4,1,4,1,3,1,1,1,3,1,1,1,1,1,4,1,4,1,1,1,2,1,1,1,1,1,1,1,1,1,1,1,1,4,3,1,1,4,1,4,1,1,2,1,1,4,4,1,1,1,1,1,3,4,2,4,4,1,1,1,2,4,1,1],\"type\":\"choropleth\"}],\"name\":\"2022\"}]);\n",
       "                        }).then(function(){\n",
       "                            \n",
       "var gd = document.getElementById('5797691a-c818-4a23-8559-c936e032db59');\n",
       "var x = new MutationObserver(function (mutations, observer) {{\n",
       "        var display = window.getComputedStyle(gd).display;\n",
       "        if (!display || display === 'none') {{\n",
       "            console.log([gd, 'removed!']);\n",
       "            Plotly.purge(gd);\n",
       "            observer.disconnect();\n",
       "        }}\n",
       "}});\n",
       "\n",
       "// Listen for the removal of the full notebook cells\n",
       "var notebookContainer = gd.closest('#notebook-container');\n",
       "if (notebookContainer) {{\n",
       "    x.observe(notebookContainer, {childList: true});\n",
       "}}\n",
       "\n",
       "// Listen for the clearing of the current output cell\n",
       "var outputEl = gd.closest('.output');\n",
       "if (outputEl) {{\n",
       "    x.observe(outputEl, {childList: true});\n",
       "}}\n",
       "\n",
       "                        })                };                });            </script>        </div>"
      ]
     },
     "metadata": {},
     "output_type": "display_data"
    }
   ],
   "source": [
    "#drop = pn.widgets.Select(name='Drop down', width=200)\n",
    "\n",
    "fig= px.choropleth(\n",
    "    worldmap,\n",
    "    locations=\"country_name\",\n",
    "    locationmode='country names',\n",
    "    color='sum_of_medals',\n",
    "    hover_data='sum_of_medals', \n",
    "    animation_frame='date',\n",
    "    title=\"Olympics Medal timelapse\",\n",
    "    color_continuous_scale=px.colors.sequential.Darkmint,\n",
    "    width = 1500,\n",
    "    height = 1200)\n",
    "fig.show() \n"
   ]
  },
  {
   "cell_type": "code",
   "execution_count": 14,
   "id": "bb9b9eed-805d-406d-a195-6efd74abd0fc",
   "metadata": {},
   "outputs": [],
   "source": [
    "#number of medals through years 0f 1991-2022 for slovenia\n",
    "\n"
   ]
  },
  {
   "cell_type": "markdown",
   "id": "42621433-61c0-434e-872e-d7ba5fa795e2",
   "metadata": {},
   "source": [
    "#Visualization2 "
   ]
  },
  {
   "cell_type": "code",
   "execution_count": null,
   "id": "66d87c57-5ed8-4a5c-99a0-a97a91f18679",
   "metadata": {},
   "outputs": [],
   "source": []
  },
  {
   "cell_type": "code",
   "execution_count": 294,
   "id": "2ced19b8-0ca5-4d4b-ad5f-ead171bde645",
   "metadata": {},
   "outputs": [
    {
     "data": {},
     "metadata": {},
     "output_type": "display_data"
    },
    {
     "data": {
      "application/vnd.holoviews_exec.v0+json": "",
      "text/html": [
       "<div id='9a180462-2942-45c8-9cdd-15b31d1d78dd'>\n",
       "  <div id=\"c7a79c7c-6d46-4114-84c0-ff5727120a5f\" data-root-id=\"9a180462-2942-45c8-9cdd-15b31d1d78dd\" style=\"display: contents;\"></div>\n",
       "</div>\n",
       "<script type=\"application/javascript\">(function(root) {\n",
       "  var docs_json = {\"c3b7b9c1-f89f-4144-a7b2-5a0291b0c4b3\":{\"version\":\"3.2.1\",\"title\":\"Bokeh Application\",\"roots\":[{\"type\":\"object\",\"name\":\"Column\",\"id\":\"9a180462-2942-45c8-9cdd-15b31d1d78dd\",\"attributes\":{\"name\":\"Column24886\",\"stylesheets\":[\"\\n:host(.pn-loading.pn-arc):before, .pn-loading.pn-arc:before {\\n  background-image: url(\\\"data:image/svg+xml;base64,PHN2ZyB4bWxucz0iaHR0cDovL3d3dy53My5vcmcvMjAwMC9zdmciIHN0eWxlPSJtYXJnaW46IGF1dG87IGJhY2tncm91bmQ6IG5vbmU7IGRpc3BsYXk6IGJsb2NrOyBzaGFwZS1yZW5kZXJpbmc6IGF1dG87IiB2aWV3Qm94PSIwIDAgMTAwIDEwMCIgcHJlc2VydmVBc3BlY3RSYXRpbz0ieE1pZFlNaWQiPiAgPGNpcmNsZSBjeD0iNTAiIGN5PSI1MCIgZmlsbD0ibm9uZSIgc3Ryb2tlPSIjYzNjM2MzIiBzdHJva2Utd2lkdGg9IjEwIiByPSIzNSIgc3Ryb2tlLWRhc2hhcnJheT0iMTY0LjkzMzYxNDMxMzQ2NDE1IDU2Ljk3Nzg3MTQzNzgyMTM4Ij4gICAgPGFuaW1hdGVUcmFuc2Zvcm0gYXR0cmlidXRlTmFtZT0idHJhbnNmb3JtIiB0eXBlPSJyb3RhdGUiIHJlcGVhdENvdW50PSJpbmRlZmluaXRlIiBkdXI9IjFzIiB2YWx1ZXM9IjAgNTAgNTA7MzYwIDUwIDUwIiBrZXlUaW1lcz0iMDsxIj48L2FuaW1hdGVUcmFuc2Zvcm0+ICA8L2NpcmNsZT48L3N2Zz4=\\\");\\n  background-size: auto calc(min(50%, 400px));\\n}\",{\"type\":\"object\",\"name\":\"ImportedStyleSheet\",\"id\":\"bf44f8d0-4ab4-43fa-8f7b-6868ff072abb\",\"attributes\":{\"url\":\"https://cdn.holoviz.org/panel/1.2.0/dist/css/loading.css\"}},{\"type\":\"object\",\"name\":\"ImportedStyleSheet\",\"id\":\"56b1f67b-3d90-4cd5-87e7-4822b1fdc86d\",\"attributes\":{\"url\":\"https://cdn.holoviz.org/panel/1.2.0/dist/css/listpanel.css\"}},{\"type\":\"object\",\"name\":\"ImportedStyleSheet\",\"id\":\"931b995f-3a2a-47ed-bed7-abd4acb9ae7d\",\"attributes\":{\"url\":\"https://cdn.holoviz.org/panel/1.2.0/dist/bundled/theme/default.css\"}},{\"type\":\"object\",\"name\":\"ImportedStyleSheet\",\"id\":\"b22b63d7-b33d-4e94-893d-64af1dabdf08\",\"attributes\":{\"url\":\"https://cdn.holoviz.org/panel/1.2.0/dist/bundled/theme/native.css\"}}],\"margin\":0,\"align\":\"start\",\"children\":[{\"type\":\"object\",\"name\":\"Column\",\"id\":\"6f3bba3d-b495-4d7c-a0c8-3fb9a7f0fa42\",\"attributes\":{\"name\":\"Column24899\",\"stylesheets\":[\"\\n:host(.pn-loading.pn-arc):before, .pn-loading.pn-arc:before {\\n  background-image: url(\\\"data:image/svg+xml;base64,PHN2ZyB4bWxucz0iaHR0cDovL3d3dy53My5vcmcvMjAwMC9zdmciIHN0eWxlPSJtYXJnaW46IGF1dG87IGJhY2tncm91bmQ6IG5vbmU7IGRpc3BsYXk6IGJsb2NrOyBzaGFwZS1yZW5kZXJpbmc6IGF1dG87IiB2aWV3Qm94PSIwIDAgMTAwIDEwMCIgcHJlc2VydmVBc3BlY3RSYXRpbz0ieE1pZFlNaWQiPiAgPGNpcmNsZSBjeD0iNTAiIGN5PSI1MCIgZmlsbD0ibm9uZSIgc3Ryb2tlPSIjYzNjM2MzIiBzdHJva2Utd2lkdGg9IjEwIiByPSIzNSIgc3Ryb2tlLWRhc2hhcnJheT0iMTY0LjkzMzYxNDMxMzQ2NDE1IDU2Ljk3Nzg3MTQzNzgyMTM4Ij4gICAgPGFuaW1hdGVUcmFuc2Zvcm0gYXR0cmlidXRlTmFtZT0idHJhbnNmb3JtIiB0eXBlPSJyb3RhdGUiIHJlcGVhdENvdW50PSJpbmRlZmluaXRlIiBkdXI9IjFzIiB2YWx1ZXM9IjAgNTAgNTA7MzYwIDUwIDUwIiBrZXlUaW1lcz0iMDsxIj48L2FuaW1hdGVUcmFuc2Zvcm0+ICA8L2NpcmNsZT48L3N2Zz4=\\\");\\n  background-size: auto calc(min(50%, 400px));\\n}\",{\"id\":\"bf44f8d0-4ab4-43fa-8f7b-6868ff072abb\"},{\"id\":\"56b1f67b-3d90-4cd5-87e7-4822b1fdc86d\"},{\"id\":\"931b995f-3a2a-47ed-bed7-abd4acb9ae7d\"},{\"id\":\"b22b63d7-b33d-4e94-893d-64af1dabdf08\"}],\"margin\":0,\"align\":\"start\",\"children\":[{\"type\":\"object\",\"name\":\"panel.models.widgets.CustomSelect\",\"id\":\"fbe53396-fb81-4beb-82dd-bd3a7e0940e6\",\"attributes\":{\"stylesheets\":[\"\\n:host(.pn-loading.pn-arc):before, .pn-loading.pn-arc:before {\\n  background-image: url(\\\"data:image/svg+xml;base64,PHN2ZyB4bWxucz0iaHR0cDovL3d3dy53My5vcmcvMjAwMC9zdmciIHN0eWxlPSJtYXJnaW46IGF1dG87IGJhY2tncm91bmQ6IG5vbmU7IGRpc3BsYXk6IGJsb2NrOyBzaGFwZS1yZW5kZXJpbmc6IGF1dG87IiB2aWV3Qm94PSIwIDAgMTAwIDEwMCIgcHJlc2VydmVBc3BlY3RSYXRpbz0ieE1pZFlNaWQiPiAgPGNpcmNsZSBjeD0iNTAiIGN5PSI1MCIgZmlsbD0ibm9uZSIgc3Ryb2tlPSIjYzNjM2MzIiBzdHJva2Utd2lkdGg9IjEwIiByPSIzNSIgc3Ryb2tlLWRhc2hhcnJheT0iMTY0LjkzMzYxNDMxMzQ2NDE1IDU2Ljk3Nzg3MTQzNzgyMTM4Ij4gICAgPGFuaW1hdGVUcmFuc2Zvcm0gYXR0cmlidXRlTmFtZT0idHJhbnNmb3JtIiB0eXBlPSJyb3RhdGUiIHJlcGVhdENvdW50PSJpbmRlZmluaXRlIiBkdXI9IjFzIiB2YWx1ZXM9IjAgNTAgNTA7MzYwIDUwIDUwIiBrZXlUaW1lcz0iMDsxIj48L2FuaW1hdGVUcmFuc2Zvcm0+ICA8L2NpcmNsZT48L3N2Zz4=\\\");\\n  background-size: auto calc(min(50%, 400px));\\n}\",{\"id\":\"bf44f8d0-4ab4-43fa-8f7b-6868ff072abb\"},{\"type\":\"object\",\"name\":\"ImportedStyleSheet\",\"id\":\"80c7bb6b-de77-4bf1-869f-7be77114ad70\",\"attributes\":{\"url\":\"https://cdn.holoviz.org/panel/1.2.0/dist/css/select.css\"}},{\"id\":\"931b995f-3a2a-47ed-bed7-abd4acb9ae7d\"},{\"id\":\"b22b63d7-b33d-4e94-893d-64af1dabdf08\"}],\"width\":300,\"min_width\":300,\"margin\":[5,10],\"align\":\"start\",\"title\":\"Select Country\",\"options\":[\"Italy\",\"Norway\",\"Sweden\",\"Great Britain\",\"Canada\",\"Czech Republic\",\"Switzerland\",\"United States of America\",\"People's Republic of China\",\"Australia\",\"Japan\",\"Republic of Korea\",\"Denmark\",\"ROC\",\"Finland\",\"Kazakhstan\",\"France\",\"New Zealand\",\"Ireland\",\"Austria\",\"Spain\",\"Germany\",\"Estonia\",\"Chile\",\"Brazil\",\"Belarus\",\"Ukraine\",\"Netherlands\",\"Hungary\",\"Croatia\",\"Poland\",\"Belgium\",\"Latvia\",\"Hong Kong, China\",\"Israel\",\"Turkey\",\"Malta\",\"Andorra\",\"Slovenia\",\"Bulgaria\",\"Slovakia\",\"Romania\",\"Georgia\",\"Armenia\",\"Lithuania\",\"Azerbaijan\",\"Mexico\",\"Bosnia and Herzegovina\",\"Republic of Moldova\",\"Argentina\",\"Chinese Taipei\",\"Puerto Rico\",\"Kyrgyzstan\",\"Colombia\",\"India\",\"Portugal\",\"San Marino\",\"Philippines\",\"Lebanon\",\"Uzbekistan\",\"Albania\",\"Montenegro\",\"Greece\",\"Kosovo\",\"Luxembourg\",\"Madagascar\",\"Cyprus\",\"Malaysia\",\"Haiti\",\"Thailand\",\"Pakistan\",\"Democratic Republic of Timor-Leste\",\"Iceland\",\"Monaco\",\"Serbia\",\"Liechtenstein\",\"Bolivia\",\"Morocco\",\"Ghana\",\"Jamaica\",\"Eritrea\",\"Saudi Arabia\",\"Peru\",\"Ecuador\",\"Islamic Republic of Iran\",\"Virgin Islands, US\",\"American Samoa\",\"Mongolia\",\"North Macedonia\",\"Nigeria\",\"Trinidad and Tobago\",\"Egypt\",\"Indonesia\",\"Cuba\",\"Oman\",\"Venezuela\",\"Bangladesh\",\"Afghanistan\",\"Singapore\",\"Bhutan\",\"Algeria\",\"Sri Lanka\",\"Nepal\",\"Refugee Olympic Team\",\"Qatar\",\"Kuwait\",\"Bahrain\",\"Senegal\",\"Guatemala\",\"Iraq\",\"Jordan\",\"Yemen\",\"Tunisia\",\"Aruba\",\"Myanmar\",\"Vietnam\",\"Nicaragua\",\"United Arab Emirates\",\"Dominican Republic\",\"South Africa\",\"Sao Tome and Principe\",\"Samoa\",\"Cook Islands\",\"Mozambique\",\"Belize\",\"Ethiopia\",\"Costa Rica\",\"Paraguay\",\"Namibia\",\"Rwanda\",\"Burkina Faso\",\"Panama\",\"Zambia\",\"C\\u00f4te d'Ivoire\",\"Honduras\",\"Mauritius\",\"Eswatini\",\"Uganda\",\"Cameroon\",\"Democratic Republic of the Congo\",\"Tajikistan\",\"Kenya\",\"Guyana\",\"Burundi\",\"Botswana\",\"Cape Verde\",\"Somalia\",\"El Salvador\",\"Antigua and Barbuda\",\"Papua New Guinea\",\"Angola\",\"Fiji\",\"Bermuda\",\"Syrian Arab Republic\",\"Vanuatu\",\"Togo\",\"Mali\",\"Gabon\",\"Niger\",\"Tonga\",\"Suriname\",\"Maldives\",\"Guinea-Bissau\",\"Guam\",\"Guinea\",\"Zimbabwe\",\"Chad\",\"Kiribati\",\"Comoros\",\"Uruguay\",\"Sierra Leone\",\"Palestine\",\"Sudan\",\"Djibouti\",\"Gambia\",\"Malawi\",\"Libya\",\"Benin\",\"Seychelles\",\"Lao People's Democratic Republic\",\"Turkmenistan\",\"Solomon Islands\",\"Nauru\",\"Virgin Islands, British\",\"Lesotho\",\"United Republic of Tanzania\",\"Liberia\",\"Bahamas\",\"Dominica\",\"Grenada\",\"Saint Lucia\",\"Olympic Athletes from Russia\",\"Democratic People's Republic of Korea\",\"The Former Yugoslav Republic of Macedonia\",\"Korea Team\",\"Russian Federation\",\"Ivory Coast\",\"Independent Olympic Athletes\",\"Barbados\",\"Cambodia\",\"Equatorial Guinea\",\"Congo\",\"South Sudan\",\"Refugee Olympic Athletes\",\"Marshall Islands\",\"Palau\",\"US Virgin Islands\",\"Federated States of Micronesia\",\"Central African Republic\",\"Cayman Islands\",\"Brunei\",\"Saint Vincent and the Grenadines\",\"British Virgin Islands\",\"Swaziland\",\"Saint Kitts and Nevis\",\"Tuvalu\",\"Netherlands Antilles\",\"Serbia and Montenegro\",\"Unified Team\",\"Czechoslovakia\",\"Mauritania\",\"Yugoslavia\",\"Soviet Union\",\"Federal Republic of Germany\",\"German Democratic Republic (Germany)\",\"Yemen Arab Republic\",\"Yemen Democratic Republic\",\"South Vietnam\",\"Rhodesia\",\"United Arab Republic\",\"Malaya\",\"West Indies Federation\",\"North Borneo\",\"Saar\",\"MIX\",\"Australasia\",\"Bohemia\",\"Newfoundland\"],\"value\":\"Italy\"}}]}},{\"type\":\"object\",\"name\":\"Row\",\"id\":\"b6e55415-3445-469a-bf1f-3c7cf305a487\",\"attributes\":{\"name\":\"Row24896\",\"stylesheets\":[\"\\n:host(.pn-loading.pn-arc):before, .pn-loading.pn-arc:before {\\n  background-image: url(\\\"data:image/svg+xml;base64,PHN2ZyB4bWxucz0iaHR0cDovL3d3dy53My5vcmcvMjAwMC9zdmciIHN0eWxlPSJtYXJnaW46IGF1dG87IGJhY2tncm91bmQ6IG5vbmU7IGRpc3BsYXk6IGJsb2NrOyBzaGFwZS1yZW5kZXJpbmc6IGF1dG87IiB2aWV3Qm94PSIwIDAgMTAwIDEwMCIgcHJlc2VydmVBc3BlY3RSYXRpbz0ieE1pZFlNaWQiPiAgPGNpcmNsZSBjeD0iNTAiIGN5PSI1MCIgZmlsbD0ibm9uZSIgc3Ryb2tlPSIjYzNjM2MzIiBzdHJva2Utd2lkdGg9IjEwIiByPSIzNSIgc3Ryb2tlLWRhc2hhcnJheT0iMTY0LjkzMzYxNDMxMzQ2NDE1IDU2Ljk3Nzg3MTQzNzgyMTM4Ij4gICAgPGFuaW1hdGVUcmFuc2Zvcm0gYXR0cmlidXRlTmFtZT0idHJhbnNmb3JtIiB0eXBlPSJyb3RhdGUiIHJlcGVhdENvdW50PSJpbmRlZmluaXRlIiBkdXI9IjFzIiB2YWx1ZXM9IjAgNTAgNTA7MzYwIDUwIDUwIiBrZXlUaW1lcz0iMDsxIj48L2FuaW1hdGVUcmFuc2Zvcm0+ICA8L2NpcmNsZT48L3N2Zz4=\\\");\\n  background-size: auto calc(min(50%, 400px));\\n}\",{\"id\":\"bf44f8d0-4ab4-43fa-8f7b-6868ff072abb\"},{\"id\":\"56b1f67b-3d90-4cd5-87e7-4822b1fdc86d\"},{\"id\":\"931b995f-3a2a-47ed-bed7-abd4acb9ae7d\"},{\"id\":\"b22b63d7-b33d-4e94-893d-64af1dabdf08\"}],\"margin\":0,\"align\":\"start\",\"children\":[{\"type\":\"object\",\"name\":\"panel.models.plotly.PlotlyPlot\",\"id\":\"977cc678-ecc5-4c45-acb9-cf489909209b\",\"attributes\":{\"name\":\"interactive24883\",\"stylesheets\":[\"\\n:host(.pn-loading.pn-arc):before, .pn-loading.pn-arc:before {\\n  background-image: url(\\\"data:image/svg+xml;base64,PHN2ZyB4bWxucz0iaHR0cDovL3d3dy53My5vcmcvMjAwMC9zdmciIHN0eWxlPSJtYXJnaW46IGF1dG87IGJhY2tncm91bmQ6IG5vbmU7IGRpc3BsYXk6IGJsb2NrOyBzaGFwZS1yZW5kZXJpbmc6IGF1dG87IiB2aWV3Qm94PSIwIDAgMTAwIDEwMCIgcHJlc2VydmVBc3BlY3RSYXRpbz0ieE1pZFlNaWQiPiAgPGNpcmNsZSBjeD0iNTAiIGN5PSI1MCIgZmlsbD0ibm9uZSIgc3Ryb2tlPSIjYzNjM2MzIiBzdHJva2Utd2lkdGg9IjEwIiByPSIzNSIgc3Ryb2tlLWRhc2hhcnJheT0iMTY0LjkzMzYxNDMxMzQ2NDE1IDU2Ljk3Nzg3MTQzNzgyMTM4Ij4gICAgPGFuaW1hdGVUcmFuc2Zvcm0gYXR0cmlidXRlTmFtZT0idHJhbnNmb3JtIiB0eXBlPSJyb3RhdGUiIHJlcGVhdENvdW50PSJpbmRlZmluaXRlIiBkdXI9IjFzIiB2YWx1ZXM9IjAgNTAgNTA7MzYwIDUwIDUwIiBrZXlUaW1lcz0iMDsxIj48L2FuaW1hdGVUcmFuc2Zvcm0+ICA8L2NpcmNsZT48L3N2Zz4=\\\");\\n  background-size: auto calc(min(50%, 400px));\\n}\",{\"id\":\"bf44f8d0-4ab4-43fa-8f7b-6868ff072abb\"},{\"type\":\"object\",\"name\":\"ImportedStyleSheet\",\"id\":\"27c38cbb-efc7-4664-addf-7d6046f39e0b\",\"attributes\":{\"url\":\"https://cdn.holoviz.org/panel/1.2.0/dist/css/plotly.css\"}},{\"id\":\"931b995f-3a2a-47ed-bed7-abd4acb9ae7d\"},{\"id\":\"b22b63d7-b33d-4e94-893d-64af1dabdf08\"},\":host { --plotly-icon-color: gray; --plotly-active-icon-color: #2a3f5f; }\"],\"margin\":[5,10],\"align\":\"start\",\"data\":[{\"type\":\"map\",\"entries\":[[\"alignmentgroup\",\"True\"],[\"bingroup\",\"x\"],[\"histfunc\",\"sum\"],[\"hovertemplate\",\"medal_type=GOLD<br>date=%{x}<br>sum of counts=%{y}<extra></extra>\"],[\"legendgroup\",\"GOLD\"],[\"marker\",{\"type\":\"map\",\"entries\":[[\"color\",\"#636efa\"],[\"pattern\",{\"type\":\"map\",\"entries\":[[\"shape\",\"\"]]}]]}],[\"name\",\"GOLD\"],[\"offsetgroup\",\"GOLD\"],[\"orientation\",\"v\"],[\"showlegend\",true],[\"xaxis\",\"x\"],[\"yaxis\",\"y\"],[\"type\",\"histogram\"]]},{\"type\":\"map\",\"entries\":[[\"alignmentgroup\",\"True\"],[\"bingroup\",\"x\"],[\"histfunc\",\"sum\"],[\"hovertemplate\",\"medal_type=SILVER<br>date=%{x}<br>sum of counts=%{y}<extra></extra>\"],[\"legendgroup\",\"SILVER\"],[\"marker\",{\"type\":\"map\",\"entries\":[[\"color\",\"#EF553B\"],[\"pattern\",{\"type\":\"map\",\"entries\":[[\"shape\",\"\"]]}]]}],[\"name\",\"SILVER\"],[\"offsetgroup\",\"SILVER\"],[\"orientation\",\"v\"],[\"showlegend\",true],[\"xaxis\",\"x\"],[\"yaxis\",\"y\"],[\"type\",\"histogram\"]]},{\"type\":\"map\",\"entries\":[[\"alignmentgroup\",\"True\"],[\"bingroup\",\"x\"],[\"histfunc\",\"sum\"],[\"hovertemplate\",\"medal_type=BRONZE<br>date=%{x}<br>sum of counts=%{y}<extra></extra>\"],[\"legendgroup\",\"BRONZE\"],[\"marker\",{\"type\":\"map\",\"entries\":[[\"color\",\"#00cc96\"],[\"pattern\",{\"type\":\"map\",\"entries\":[[\"shape\",\"\"]]}]]}],[\"name\",\"BRONZE\"],[\"offsetgroup\",\"BRONZE\"],[\"orientation\",\"v\"],[\"showlegend\",true],[\"xaxis\",\"x\"],[\"yaxis\",\"y\"],[\"type\",\"histogram\"]]}],\"layout\":{\"type\":\"map\",\"entries\":[[\"template\",{\"type\":\"map\",\"entries\":[[\"data\",{\"type\":\"map\",\"entries\":[[\"histogram2dcontour\",[{\"type\":\"map\",\"entries\":[[\"type\",\"histogram2dcontour\"],[\"colorbar\",{\"type\":\"map\",\"entries\":[[\"outlinewidth\",0],[\"ticks\",\"\"]]}],[\"colorscale\",[[0.0,\"#0d0887\"],[0.1111111111111111,\"#46039f\"],[0.2222222222222222,\"#7201a8\"],[0.3333333333333333,\"#9c179e\"],[0.4444444444444444,\"#bd3786\"],[0.5555555555555556,\"#d8576b\"],[0.6666666666666666,\"#ed7953\"],[0.7777777777777778,\"#fb9f3a\"],[0.8888888888888888,\"#fdca26\"],[1.0,\"#f0f921\"]]]]}]],[\"choropleth\",[{\"type\":\"map\",\"entries\":[[\"type\",\"choropleth\"],[\"colorbar\",{\"type\":\"map\",\"entries\":[[\"outlinewidth\",0],[\"ticks\",\"\"]]}]]}]],[\"histogram2d\",[{\"type\":\"map\",\"entries\":[[\"type\",\"histogram2d\"],[\"colorbar\",{\"type\":\"map\",\"entries\":[[\"outlinewidth\",0],[\"ticks\",\"\"]]}],[\"colorscale\",[[0.0,\"#0d0887\"],[0.1111111111111111,\"#46039f\"],[0.2222222222222222,\"#7201a8\"],[0.3333333333333333,\"#9c179e\"],[0.4444444444444444,\"#bd3786\"],[0.5555555555555556,\"#d8576b\"],[0.6666666666666666,\"#ed7953\"],[0.7777777777777778,\"#fb9f3a\"],[0.8888888888888888,\"#fdca26\"],[1.0,\"#f0f921\"]]]]}]],[\"heatmap\",[{\"type\":\"map\",\"entries\":[[\"type\",\"heatmap\"],[\"colorbar\",{\"type\":\"map\",\"entries\":[[\"outlinewidth\",0],[\"ticks\",\"\"]]}],[\"colorscale\",[[0.0,\"#0d0887\"],[0.1111111111111111,\"#46039f\"],[0.2222222222222222,\"#7201a8\"],[0.3333333333333333,\"#9c179e\"],[0.4444444444444444,\"#bd3786\"],[0.5555555555555556,\"#d8576b\"],[0.6666666666666666,\"#ed7953\"],[0.7777777777777778,\"#fb9f3a\"],[0.8888888888888888,\"#fdca26\"],[1.0,\"#f0f921\"]]]]}]],[\"heatmapgl\",[{\"type\":\"map\",\"entries\":[[\"type\",\"heatmapgl\"],[\"colorbar\",{\"type\":\"map\",\"entries\":[[\"outlinewidth\",0],[\"ticks\",\"\"]]}],[\"colorscale\",[[0.0,\"#0d0887\"],[0.1111111111111111,\"#46039f\"],[0.2222222222222222,\"#7201a8\"],[0.3333333333333333,\"#9c179e\"],[0.4444444444444444,\"#bd3786\"],[0.5555555555555556,\"#d8576b\"],[0.6666666666666666,\"#ed7953\"],[0.7777777777777778,\"#fb9f3a\"],[0.8888888888888888,\"#fdca26\"],[1.0,\"#f0f921\"]]]]}]],[\"contourcarpet\",[{\"type\":\"map\",\"entries\":[[\"type\",\"contourcarpet\"],[\"colorbar\",{\"type\":\"map\",\"entries\":[[\"outlinewidth\",0],[\"ticks\",\"\"]]}]]}]],[\"contour\",[{\"type\":\"map\",\"entries\":[[\"type\",\"contour\"],[\"colorbar\",{\"type\":\"map\",\"entries\":[[\"outlinewidth\",0],[\"ticks\",\"\"]]}],[\"colorscale\",[[0.0,\"#0d0887\"],[0.1111111111111111,\"#46039f\"],[0.2222222222222222,\"#7201a8\"],[0.3333333333333333,\"#9c179e\"],[0.4444444444444444,\"#bd3786\"],[0.5555555555555556,\"#d8576b\"],[0.6666666666666666,\"#ed7953\"],[0.7777777777777778,\"#fb9f3a\"],[0.8888888888888888,\"#fdca26\"],[1.0,\"#f0f921\"]]]]}]],[\"surface\",[{\"type\":\"map\",\"entries\":[[\"type\",\"surface\"],[\"colorbar\",{\"type\":\"map\",\"entries\":[[\"outlinewidth\",0],[\"ticks\",\"\"]]}],[\"colorscale\",[[0.0,\"#0d0887\"],[0.1111111111111111,\"#46039f\"],[0.2222222222222222,\"#7201a8\"],[0.3333333333333333,\"#9c179e\"],[0.4444444444444444,\"#bd3786\"],[0.5555555555555556,\"#d8576b\"],[0.6666666666666666,\"#ed7953\"],[0.7777777777777778,\"#fb9f3a\"],[0.8888888888888888,\"#fdca26\"],[1.0,\"#f0f921\"]]]]}]],[\"mesh3d\",[{\"type\":\"map\",\"entries\":[[\"type\",\"mesh3d\"],[\"colorbar\",{\"type\":\"map\",\"entries\":[[\"outlinewidth\",0],[\"ticks\",\"\"]]}]]}]],[\"scatter\",[{\"type\":\"map\",\"entries\":[[\"fillpattern\",{\"type\":\"map\",\"entries\":[[\"fillmode\",\"overlay\"],[\"size\",10],[\"solidity\",0.2]]}],[\"type\",\"scatter\"]]}]],[\"parcoords\",[{\"type\":\"map\",\"entries\":[[\"type\",\"parcoords\"],[\"line\",{\"type\":\"map\",\"entries\":[[\"colorbar\",{\"type\":\"map\",\"entries\":[[\"outlinewidth\",0],[\"ticks\",\"\"]]}]]}]]}]],[\"scatterpolargl\",[{\"type\":\"map\",\"entries\":[[\"type\",\"scatterpolargl\"],[\"marker\",{\"type\":\"map\",\"entries\":[[\"colorbar\",{\"type\":\"map\",\"entries\":[[\"outlinewidth\",0],[\"ticks\",\"\"]]}]]}]]}]],[\"bar\",[{\"type\":\"map\",\"entries\":[[\"error_x\",{\"type\":\"map\",\"entries\":[[\"color\",\"#2a3f5f\"]]}],[\"error_y\",{\"type\":\"map\",\"entries\":[[\"color\",\"#2a3f5f\"]]}],[\"marker\",{\"type\":\"map\",\"entries\":[[\"line\",{\"type\":\"map\",\"entries\":[[\"color\",\"#E5ECF6\"],[\"width\",0.5]]}],[\"pattern\",{\"type\":\"map\",\"entries\":[[\"fillmode\",\"overlay\"],[\"size\",10],[\"solidity\",0.2]]}]]}],[\"type\",\"bar\"]]}]],[\"scattergeo\",[{\"type\":\"map\",\"entries\":[[\"type\",\"scattergeo\"],[\"marker\",{\"type\":\"map\",\"entries\":[[\"colorbar\",{\"type\":\"map\",\"entries\":[[\"outlinewidth\",0],[\"ticks\",\"\"]]}]]}]]}]],[\"scatterpolar\",[{\"type\":\"map\",\"entries\":[[\"type\",\"scatterpolar\"],[\"marker\",{\"type\":\"map\",\"entries\":[[\"colorbar\",{\"type\":\"map\",\"entries\":[[\"outlinewidth\",0],[\"ticks\",\"\"]]}]]}]]}]],[\"histogram\",[{\"type\":\"map\",\"entries\":[[\"marker\",{\"type\":\"map\",\"entries\":[[\"pattern\",{\"type\":\"map\",\"entries\":[[\"fillmode\",\"overlay\"],[\"size\",10],[\"solidity\",0.2]]}]]}],[\"type\",\"histogram\"]]}]],[\"scattergl\",[{\"type\":\"map\",\"entries\":[[\"type\",\"scattergl\"],[\"marker\",{\"type\":\"map\",\"entries\":[[\"colorbar\",{\"type\":\"map\",\"entries\":[[\"outlinewidth\",0],[\"ticks\",\"\"]]}]]}]]}]],[\"scatter3d\",[{\"type\":\"map\",\"entries\":[[\"type\",\"scatter3d\"],[\"line\",{\"type\":\"map\",\"entries\":[[\"colorbar\",{\"type\":\"map\",\"entries\":[[\"outlinewidth\",0],[\"ticks\",\"\"]]}]]}],[\"marker\",{\"type\":\"map\",\"entries\":[[\"colorbar\",{\"type\":\"map\",\"entries\":[[\"outlinewidth\",0],[\"ticks\",\"\"]]}]]}]]}]],[\"scattermapbox\",[{\"type\":\"map\",\"entries\":[[\"type\",\"scattermapbox\"],[\"marker\",{\"type\":\"map\",\"entries\":[[\"colorbar\",{\"type\":\"map\",\"entries\":[[\"outlinewidth\",0],[\"ticks\",\"\"]]}]]}]]}]],[\"scatterternary\",[{\"type\":\"map\",\"entries\":[[\"type\",\"scatterternary\"],[\"marker\",{\"type\":\"map\",\"entries\":[[\"colorbar\",{\"type\":\"map\",\"entries\":[[\"outlinewidth\",0],[\"ticks\",\"\"]]}]]}]]}]],[\"scattercarpet\",[{\"type\":\"map\",\"entries\":[[\"type\",\"scattercarpet\"],[\"marker\",{\"type\":\"map\",\"entries\":[[\"colorbar\",{\"type\":\"map\",\"entries\":[[\"outlinewidth\",0],[\"ticks\",\"\"]]}]]}]]}]],[\"carpet\",[{\"type\":\"map\",\"entries\":[[\"aaxis\",{\"type\":\"map\",\"entries\":[[\"endlinecolor\",\"#2a3f5f\"],[\"gridcolor\",\"white\"],[\"linecolor\",\"white\"],[\"minorgridcolor\",\"white\"],[\"startlinecolor\",\"#2a3f5f\"]]}],[\"baxis\",{\"type\":\"map\",\"entries\":[[\"endlinecolor\",\"#2a3f5f\"],[\"gridcolor\",\"white\"],[\"linecolor\",\"white\"],[\"minorgridcolor\",\"white\"],[\"startlinecolor\",\"#2a3f5f\"]]}],[\"type\",\"carpet\"]]}]],[\"table\",[{\"type\":\"map\",\"entries\":[[\"cells\",{\"type\":\"map\",\"entries\":[[\"fill\",{\"type\":\"map\",\"entries\":[[\"color\",\"#EBF0F8\"]]}],[\"line\",{\"type\":\"map\",\"entries\":[[\"color\",\"white\"]]}]]}],[\"header\",{\"type\":\"map\",\"entries\":[[\"fill\",{\"type\":\"map\",\"entries\":[[\"color\",\"#C8D4E3\"]]}],[\"line\",{\"type\":\"map\",\"entries\":[[\"color\",\"white\"]]}]]}],[\"type\",\"table\"]]}]],[\"barpolar\",[{\"type\":\"map\",\"entries\":[[\"marker\",{\"type\":\"map\",\"entries\":[[\"line\",{\"type\":\"map\",\"entries\":[[\"color\",\"#E5ECF6\"],[\"width\",0.5]]}],[\"pattern\",{\"type\":\"map\",\"entries\":[[\"fillmode\",\"overlay\"],[\"size\",10],[\"solidity\",0.2]]}]]}],[\"type\",\"barpolar\"]]}]],[\"pie\",[{\"type\":\"map\",\"entries\":[[\"automargin\",true],[\"type\",\"pie\"]]}]]]}],[\"layout\",{\"type\":\"map\",\"entries\":[[\"autotypenumbers\",\"strict\"],[\"colorway\",[\"#636efa\",\"#EF553B\",\"#00cc96\",\"#ab63fa\",\"#FFA15A\",\"#19d3f3\",\"#FF6692\",\"#B6E880\",\"#FF97FF\",\"#FECB52\"]],[\"font\",{\"type\":\"map\",\"entries\":[[\"color\",\"#2a3f5f\"]]}],[\"hovermode\",\"closest\"],[\"hoverlabel\",{\"type\":\"map\",\"entries\":[[\"align\",\"left\"]]}],[\"paper_bgcolor\",\"white\"],[\"plot_bgcolor\",\"#E5ECF6\"],[\"polar\",{\"type\":\"map\",\"entries\":[[\"bgcolor\",\"#E5ECF6\"],[\"angularaxis\",{\"type\":\"map\",\"entries\":[[\"gridcolor\",\"white\"],[\"linecolor\",\"white\"],[\"ticks\",\"\"]]}],[\"radialaxis\",{\"type\":\"map\",\"entries\":[[\"gridcolor\",\"white\"],[\"linecolor\",\"white\"],[\"ticks\",\"\"]]}]]}],[\"ternary\",{\"type\":\"map\",\"entries\":[[\"bgcolor\",\"#E5ECF6\"],[\"aaxis\",{\"type\":\"map\",\"entries\":[[\"gridcolor\",\"white\"],[\"linecolor\",\"white\"],[\"ticks\",\"\"]]}],[\"baxis\",{\"type\":\"map\",\"entries\":[[\"gridcolor\",\"white\"],[\"linecolor\",\"white\"],[\"ticks\",\"\"]]}],[\"caxis\",{\"type\":\"map\",\"entries\":[[\"gridcolor\",\"white\"],[\"linecolor\",\"white\"],[\"ticks\",\"\"]]}]]}],[\"coloraxis\",{\"type\":\"map\",\"entries\":[[\"colorbar\",{\"type\":\"map\",\"entries\":[[\"outlinewidth\",0],[\"ticks\",\"\"]]}]]}],[\"colorscale\",{\"type\":\"map\",\"entries\":[[\"sequential\",[[0.0,\"#0d0887\"],[0.1111111111111111,\"#46039f\"],[0.2222222222222222,\"#7201a8\"],[0.3333333333333333,\"#9c179e\"],[0.4444444444444444,\"#bd3786\"],[0.5555555555555556,\"#d8576b\"],[0.6666666666666666,\"#ed7953\"],[0.7777777777777778,\"#fb9f3a\"],[0.8888888888888888,\"#fdca26\"],[1.0,\"#f0f921\"]]],[\"sequentialminus\",[[0.0,\"#0d0887\"],[0.1111111111111111,\"#46039f\"],[0.2222222222222222,\"#7201a8\"],[0.3333333333333333,\"#9c179e\"],[0.4444444444444444,\"#bd3786\"],[0.5555555555555556,\"#d8576b\"],[0.6666666666666666,\"#ed7953\"],[0.7777777777777778,\"#fb9f3a\"],[0.8888888888888888,\"#fdca26\"],[1.0,\"#f0f921\"]]],[\"diverging\",[[0,\"#8e0152\"],[0.1,\"#c51b7d\"],[0.2,\"#de77ae\"],[0.3,\"#f1b6da\"],[0.4,\"#fde0ef\"],[0.5,\"#f7f7f7\"],[0.6,\"#e6f5d0\"],[0.7,\"#b8e186\"],[0.8,\"#7fbc41\"],[0.9,\"#4d9221\"],[1,\"#276419\"]]]]}],[\"xaxis\",{\"type\":\"map\",\"entries\":[[\"gridcolor\",\"white\"],[\"linecolor\",\"white\"],[\"ticks\",\"\"],[\"title\",{\"type\":\"map\",\"entries\":[[\"standoff\",15]]}],[\"zerolinecolor\",\"white\"],[\"automargin\",true],[\"zerolinewidth\",2]]}],[\"yaxis\",{\"type\":\"map\",\"entries\":[[\"gridcolor\",\"white\"],[\"linecolor\",\"white\"],[\"ticks\",\"\"],[\"title\",{\"type\":\"map\",\"entries\":[[\"standoff\",15]]}],[\"zerolinecolor\",\"white\"],[\"automargin\",true],[\"zerolinewidth\",2]]}],[\"scene\",{\"type\":\"map\",\"entries\":[[\"xaxis\",{\"type\":\"map\",\"entries\":[[\"backgroundcolor\",\"#E5ECF6\"],[\"gridcolor\",\"white\"],[\"linecolor\",\"white\"],[\"showbackground\",true],[\"ticks\",\"\"],[\"zerolinecolor\",\"white\"],[\"gridwidth\",2]]}],[\"yaxis\",{\"type\":\"map\",\"entries\":[[\"backgroundcolor\",\"#E5ECF6\"],[\"gridcolor\",\"white\"],[\"linecolor\",\"white\"],[\"showbackground\",true],[\"ticks\",\"\"],[\"zerolinecolor\",\"white\"],[\"gridwidth\",2]]}],[\"zaxis\",{\"type\":\"map\",\"entries\":[[\"backgroundcolor\",\"#E5ECF6\"],[\"gridcolor\",\"white\"],[\"linecolor\",\"white\"],[\"showbackground\",true],[\"ticks\",\"\"],[\"zerolinecolor\",\"white\"],[\"gridwidth\",2]]}]]}],[\"shapedefaults\",{\"type\":\"map\",\"entries\":[[\"line\",{\"type\":\"map\",\"entries\":[[\"color\",\"#2a3f5f\"]]}]]}],[\"annotationdefaults\",{\"type\":\"map\",\"entries\":[[\"arrowcolor\",\"#2a3f5f\"],[\"arrowhead\",0],[\"arrowwidth\",1]]}],[\"geo\",{\"type\":\"map\",\"entries\":[[\"bgcolor\",\"white\"],[\"landcolor\",\"#E5ECF6\"],[\"subunitcolor\",\"white\"],[\"showland\",true],[\"showlakes\",true],[\"lakecolor\",\"white\"]]}],[\"title\",{\"type\":\"map\",\"entries\":[[\"x\",0.05]]}],[\"mapbox\",{\"type\":\"map\",\"entries\":[[\"style\",\"light\"]]}]]}]]}],[\"xaxis\",{\"type\":\"map\",\"entries\":[[\"anchor\",\"y\"],[\"domain\",[0.0,1.0]],[\"title\",{\"type\":\"map\",\"entries\":[[\"text\",\"date\"]]}],[\"categoryorder\",\"category ascending\"]]}],[\"yaxis\",{\"type\":\"map\",\"entries\":[[\"anchor\",\"x\"],[\"domain\",[0.0,1.0]],[\"title\",{\"type\":\"map\",\"entries\":[[\"text\",\"sum of counts\"]]}]]}],[\"legend\",{\"type\":\"map\",\"entries\":[[\"title\",{\"type\":\"map\",\"entries\":[[\"text\",\"medal_type\"]]}],[\"tracegroupgap\",0]]}],[\"margin\",{\"type\":\"map\",\"entries\":[[\"t\",60]]}],[\"barmode\",\"relative\"]]},\"data_sources\":[{\"type\":\"object\",\"name\":\"ColumnDataSource\",\"id\":\"36806807-224c-4d79-ba23-0953baef8ac5\",\"attributes\":{\"selected\":{\"type\":\"object\",\"name\":\"Selection\",\"id\":\"13cb0679-2d14-435d-9c49-9798b099b40c\",\"attributes\":{\"indices\":[],\"line_indices\":[]}},\"selection_policy\":{\"type\":\"object\",\"name\":\"UnionRenderers\",\"id\":\"f1bc96a7-d602-42c2-a20f-dec8808fbcc2\"},\"data\":{\"type\":\"map\",\"entries\":[[\"x\",[{\"type\":\"ndarray\",\"array\":[\"1900\",\"1900\",\"1908\",\"1908\",\"1912\",\"1912\",\"1920\",\"1920\",\"1920\",\"1920\",\"1920\",\"1920\",\"1920\",\"1924\",\"1924\",\"1924\",\"1924\",\"1924\",\"1928\",\"1928\",\"1928\",\"1928\",\"1932\",\"1932\",\"1932\",\"1932\",\"1932\",\"1932\",\"1932\",\"1936\",\"1936\",\"1936\",\"1936\",\"1936\",\"1948\",\"1948\",\"1948\",\"1948\",\"1948\",\"1948\",\"1948\",\"1948\",\"1952\",\"1952\",\"1952\",\"1952\",\"1952\",\"1952\",\"1956\",\"1956\",\"1956\",\"1956\",\"1956\",\"1956\",\"1960\",\"1960\",\"1960\",\"1960\",\"1960\",\"1960\",\"1960\",\"1964\",\"1964\",\"1964\",\"1964\",\"1964\",\"1964\",\"1964\",\"1968\",\"1968\",\"1968\",\"1968\",\"1968\",\"1968\",\"1972\",\"1972\",\"1972\",\"1972\",\"1972\",\"1972\",\"1976\",\"1976\",\"1976\",\"1980\",\"1980\",\"1980\",\"1980\",\"1980\",\"1980\",\"1984\",\"1984\",\"1984\",\"1984\",\"1984\",\"1984\",\"1984\",\"1984\",\"1984\",\"1984\",\"1984\",\"1988\",\"1988\",\"1988\",\"1988\",\"1988\",\"1988\",\"1992\",\"1992\",\"1992\",\"1992\",\"1992\",\"1992\",\"1992\",\"1994\",\"1994\",\"1994\",\"1994\",\"1996\",\"1996\",\"1996\",\"1996\",\"1996\",\"1996\",\"1996\",\"1998\",\"1998\",\"2000\",\"2000\",\"2000\",\"2000\",\"2000\",\"2000\",\"2000\",\"2000\",\"2002\",\"2002\",\"2002\",\"2004\",\"2004\",\"2004\",\"2004\",\"2004\",\"2004\",\"2004\",\"2006\",\"2006\",\"2006\",\"2008\",\"2008\",\"2008\",\"2008\",\"2008\",\"2008\",\"2008\",\"2010\",\"2012\",\"2012\",\"2012\",\"2012\",\"2012\",\"2016\",\"2016\",\"2016\",\"2016\",\"2016\",\"2018\",\"2018\",\"2018\",\"2020\",\"2020\",\"2020\",\"2020\",\"2020\",\"2020\",\"2022\",\"2022\"],\"shape\":[176],\"dtype\":\"object\",\"order\":\"little\"}]],[\"y\",[{\"type\":\"ndarray\",\"array\":{\"type\":\"bytes\",\"data\":\"AQAAAAEAAAABAAAAAQAAAAEAAAACAAAAAgAAAAEAAAABAAAABQAAAAIAAAABAAAAAQAAAAEAAAABAAAAAQAAAAIAAAADAAAAAwAAAAEAAAACAAAAAQAAAAEAAAACAAAAAQAAAAIAAAAEAAAAAQAAAAEAAAABAAAAAQAAAAQAAAABAAAAAQAAAAEAAAABAAAAAgAAAAEAAAABAAAAAQAAAAEAAAABAAAAAQAAAAEAAAABAAAAAgAAAAMAAAABAAAAAQAAAAEAAAACAAAAAwAAAAEAAAABAAAAAQAAAAMAAAABAAAABAAAAAEAAAACAAAAAQAAAAEAAAACAAAAAQAAAAIAAAACAAAAAQAAAAEAAAACAAAAAQAAAAEAAAABAAAAAQAAAAEAAAABAAAAAQAAAAEAAAACAAAAAQAAAAEAAAABAAAAAQAAAAEAAAADAAAAAQAAAAEAAAABAAAAAQAAAAEAAAABAAAAAwAAAAEAAAABAAAAAwAAAAEAAAACAAAAAQAAAAEAAAABAAAAAQAAAAIAAAABAAAAAQAAAAEAAAACAAAAAQAAAAMAAAABAAAAAQAAAAEAAAABAAAAAgAAAAEAAAABAAAAAwAAAAIAAAABAAAAAgAAAAEAAAADAAAAAwAAAAEAAAABAAAAAgAAAAEAAAABAAAAAgAAAAEAAAABAAAAAwAAAAEAAAABAAAAAQAAAAMAAAABAAAAAgAAAAEAAAABAAAAAgAAAAEAAAADAAAAAQAAAAEAAAABAAAAAgAAAAEAAAACAAAAAQAAAAEAAAACAAAAAQAAAAEAAAABAAAAAQAAAAEAAAABAAAAAQAAAAMAAAACAAAAAQAAAAEAAAABAAAAAQAAAAQAAAABAAAAAQAAAAEAAAABAAAABQAAAAEAAAABAAAAAQAAAAEAAAABAAAAAQAAAAEAAAA=\"},\"shape\":[176],\"dtype\":\"int32\",\"order\":\"little\"}]]]}}},{\"type\":\"object\",\"name\":\"ColumnDataSource\",\"id\":\"4f7a506b-f68b-4077-8b4a-29b5edc244b6\",\"attributes\":{\"selected\":{\"type\":\"object\",\"name\":\"Selection\",\"id\":\"9b6cfd04-db7f-4c91-86f6-69c2750305f1\",\"attributes\":{\"indices\":[],\"line_indices\":[]}},\"selection_policy\":{\"type\":\"object\",\"name\":\"UnionRenderers\",\"id\":\"6dd54505-e72f-4f71-bf5e-128f5d6a7795\"},\"data\":{\"type\":\"map\",\"entries\":[[\"x\",[{\"type\":\"ndarray\",\"array\":[\"1900\",\"1900\",\"1908\",\"1908\",\"1912\",\"1920\",\"1920\",\"1920\",\"1920\",\"1920\",\"1924\",\"1924\",\"1924\",\"1928\",\"1928\",\"1928\",\"1932\",\"1932\",\"1932\",\"1932\",\"1932\",\"1932\",\"1932\",\"1936\",\"1936\",\"1936\",\"1936\",\"1936\",\"1948\",\"1948\",\"1948\",\"1948\",\"1948\",\"1952\",\"1952\",\"1952\",\"1952\",\"1952\",\"1952\",\"1956\",\"1956\",\"1956\",\"1956\",\"1956\",\"1956\",\"1960\",\"1960\",\"1960\",\"1960\",\"1960\",\"1960\",\"1960\",\"1960\",\"1964\",\"1964\",\"1964\",\"1964\",\"1964\",\"1964\",\"1964\",\"1968\",\"1968\",\"1968\",\"1968\",\"1972\",\"1972\",\"1972\",\"1972\",\"1972\",\"1976\",\"1976\",\"1976\",\"1976\",\"1976\",\"1976\",\"1980\",\"1980\",\"1980\",\"1980\",\"1984\",\"1984\",\"1984\",\"1984\",\"1984\",\"1988\",\"1988\",\"1988\",\"1988\",\"1992\",\"1992\",\"1992\",\"1992\",\"1992\",\"1992\",\"1992\",\"1994\",\"1994\",\"1994\",\"1994\",\"1996\",\"1996\",\"1996\",\"1996\",\"1996\",\"1996\",\"1996\",\"1998\",\"1998\",\"1998\",\"1998\",\"1998\",\"2000\",\"2000\",\"2000\",\"2000\",\"2000\",\"2000\",\"2002\",\"2002\",\"2002\",\"2004\",\"2004\",\"2004\",\"2004\",\"2004\",\"2004\",\"2004\",\"2008\",\"2008\",\"2008\",\"2008\",\"2008\",\"2008\",\"2008\",\"2008\",\"2010\",\"2012\",\"2012\",\"2012\",\"2012\",\"2012\",\"2014\",\"2014\",\"2016\",\"2016\",\"2016\",\"2016\",\"2016\",\"2016\",\"2016\",\"2016\",\"2018\",\"2018\",\"2020\",\"2020\",\"2020\",\"2020\",\"2020\",\"2020\",\"2020\",\"2022\",\"2022\",\"2022\",\"2022\",\"2022\"],\"shape\":[165],\"dtype\":\"object\",\"order\":\"little\"}]],[\"y\",[{\"type\":\"ndarray\",\"array\":{\"type\":\"bytes\",\"data\":\"AQAAAAEAAAABAAAAAQAAAAEAAAABAAAAAQAAAAEAAAABAAAAAQAAAAEAAAABAAAAAQAAAAEAAAACAAAAAgAAAAIAAAABAAAABAAAAAEAAAACAAAAAQAAAAEAAAACAAAAAQAAAAEAAAADAAAAAgAAAAMAAAACAAAAAQAAAAQAAAABAAAAAQAAAAEAAAABAAAAAQAAAAQAAAABAAAAAgAAAAEAAAABAAAAAgAAAAEAAAABAAAAAwAAAAEAAAABAAAAAQAAAAEAAAABAAAAAQAAAAEAAAABAAAAAQAAAAQAAAABAAAAAgAAAAEAAAABAAAAAQAAAAEAAAABAAAAAQAAAAEAAAABAAAAAQAAAAEAAAABAAAAAgAAAAEAAAABAAAAAQAAAAMAAAABAAAAAQAAAAEAAAABAAAAAgAAAAEAAAACAAAAAQAAAAEAAAABAAAAAQAAAAEAAAABAAAAAgAAAAIAAAAEAAAAAQAAAAEAAAABAAAAAQAAAAEAAAABAAAAAgAAAAEAAAABAAAAAgAAAAIAAAABAAAAAgAAAAEAAAABAAAAAQAAAAEAAAABAAAAAgAAAAEAAAABAAAAAQAAAAIAAAACAAAAAQAAAAEAAAABAAAAAQAAAAIAAAABAAAAAQAAAAIAAAADAAAAAQAAAAIAAAABAAAAAQAAAAEAAAABAAAAAQAAAAEAAAABAAAAAgAAAAEAAAABAAAAAQAAAAIAAAACAAAAAQAAAAMAAAABAAAAAQAAAAEAAAABAAAAAQAAAAMAAAABAAAAAQAAAAMAAAABAAAAAQAAAAEAAAABAAAAAQAAAAEAAAABAAAAAwAAAAEAAAACAAAAAQAAAAIAAAABAAAAAgAAAAEAAAABAAAA\"},\"shape\":[165],\"dtype\":\"int32\",\"order\":\"little\"}]]]}}},{\"type\":\"object\",\"name\":\"ColumnDataSource\",\"id\":\"4a3b92ba-d1e3-419a-9c82-610459d454a7\",\"attributes\":{\"selected\":{\"type\":\"object\",\"name\":\"Selection\",\"id\":\"fd3bba1e-0bc9-4ea5-939b-4366f330f281\",\"attributes\":{\"indices\":[],\"line_indices\":[]}},\"selection_policy\":{\"type\":\"object\",\"name\":\"UnionRenderers\",\"id\":\"3b7f4d87-f11e-4498-8e3a-dc624a8c9816\"},\"data\":{\"type\":\"map\",\"entries\":[[\"x\",[{\"type\":\"ndarray\",\"array\":[\"1912\",\"1912\",\"1920\",\"1920\",\"1920\",\"1920\",\"1924\",\"1924\",\"1924\",\"1924\",\"1924\",\"1928\",\"1928\",\"1928\",\"1928\",\"1928\",\"1932\",\"1932\",\"1932\",\"1932\",\"1932\",\"1932\",\"1932\",\"1932\",\"1936\",\"1936\",\"1936\",\"1948\",\"1948\",\"1948\",\"1948\",\"1948\",\"1952\",\"1952\",\"1952\",\"1952\",\"1952\",\"1956\",\"1956\",\"1956\",\"1956\",\"1956\",\"1956\",\"1960\",\"1960\",\"1960\",\"1960\",\"1960\",\"1960\",\"1960\",\"1960\",\"1960\",\"1960\",\"1964\",\"1964\",\"1964\",\"1964\",\"1964\",\"1964\",\"1964\",\"1968\",\"1968\",\"1968\",\"1968\",\"1968\",\"1968\",\"1968\",\"1972\",\"1972\",\"1972\",\"1972\",\"1972\",\"1972\",\"1972\",\"1972\",\"1976\",\"1976\",\"1976\",\"1976\",\"1980\",\"1980\",\"1980\",\"1980\",\"1984\",\"1984\",\"1984\",\"1984\",\"1984\",\"1984\",\"1984\",\"1988\",\"1988\",\"1988\",\"1988\",\"1992\",\"1992\",\"1992\",\"1992\",\"1992\",\"1992\",\"1992\",\"1992\",\"1994\",\"1994\",\"1994\",\"1994\",\"1996\",\"1996\",\"1996\",\"1996\",\"1996\",\"1996\",\"1996\",\"1996\",\"1996\",\"1998\",\"2000\",\"2000\",\"2000\",\"2000\",\"2000\",\"2000\",\"2000\",\"2000\",\"2000\",\"2002\",\"2002\",\"2002\",\"2002\",\"2004\",\"2004\",\"2004\",\"2004\",\"2004\",\"2004\",\"2004\",\"2004\",\"2004\",\"2006\",\"2006\",\"2006\",\"2006\",\"2006\",\"2008\",\"2008\",\"2008\",\"2008\",\"2008\",\"2008\",\"2010\",\"2010\",\"2010\",\"2012\",\"2012\",\"2012\",\"2012\",\"2012\",\"2012\",\"2012\",\"2012\",\"2012\",\"2012\",\"2014\",\"2014\",\"2014\",\"2014\",\"2014\",\"2016\",\"2016\",\"2016\",\"2016\",\"2016\",\"2016\",\"2018\",\"2018\",\"2018\",\"2018\",\"2020\",\"2020\",\"2020\",\"2020\",\"2020\",\"2020\",\"2020\",\"2020\",\"2020\",\"2020\",\"2020\",\"2020\",\"2020\",\"2022\",\"2022\",\"2022\",\"2022\",\"2022\",\"2022\"],\"shape\":[196],\"dtype\":\"object\",\"order\":\"little\"}]],[\"y\",[{\"type\":\"ndarray\",\"array\":{\"type\":\"bytes\",\"data\":\"AQAAAAEAAAACAAAAAQAAAAEAAAABAAAAAQAAAAEAAAABAAAAAQAAAAEAAAABAAAAAgAAAAEAAAABAAAAAgAAAAIAAAABAAAAAgAAAAIAAAABAAAAAQAAAAEAAAACAAAAAgAAAAIAAAABAAAAAQAAAAIAAAABAAAAAgAAAAIAAAABAAAAAQAAAAEAAAABAAAAAQAAAAEAAAABAAAAAgAAAAEAAAACAAAAAQAAAAEAAAACAAAAAQAAAAEAAAABAAAAAwAAAAIAAAABAAAAAQAAAAEAAAABAAAAAgAAAAMAAAABAAAAAQAAAAEAAAABAAAAAgAAAAEAAAABAAAAAQAAAAEAAAABAAAAAgAAAAEAAAACAAAAAQAAAAEAAAABAAAAAgAAAAEAAAACAAAAAQAAAAEAAAABAAAAAgAAAAEAAAABAAAAAQAAAAEAAAADAAAAAgAAAAMAAAABAAAAAQAAAAEAAAABAAAAAQAAAAIAAAACAAAAAQAAAAEAAAABAAAAAwAAAAEAAAABAAAAAQAAAAIAAAACAAAAAgAAAAEAAAAEAAAAAQAAAAEAAAACAAAAAQAAAAIAAAABAAAAAQAAAAIAAAABAAAAAQAAAAIAAAABAAAAAQAAAAEAAAACAAAAAwAAAAEAAAABAAAAAgAAAAEAAAABAAAAAgAAAAEAAAABAAAAAQAAAAEAAAABAAAAAQAAAAEAAAABAAAAAwAAAAEAAAABAAAAAQAAAAIAAAABAAAAAQAAAAEAAAABAAAAAQAAAAEAAAABAAAABQAAAAEAAAABAAAAAQAAAAEAAAABAAAAAQAAAAEAAAACAAAAAQAAAAEAAAABAAAAAQAAAAEAAAABAAAAAQAAAAEAAAABAAAAAQAAAAIAAAABAAAAAQAAAAIAAAACAAAAAQAAAAEAAAABAAAAAgAAAAEAAAABAAAAAQAAAAEAAAABAAAAAQAAAAIAAAACAAAAAQAAAAEAAAABAAAAAgAAAAQAAAACAAAAAQAAAAIAAAABAAAAAQAAAAEAAAABAAAAAgAAAA==\"},\"shape\":[196],\"dtype\":\"int32\",\"order\":\"little\"}]]]}}}],\"relayout\":null,\"restyle\":null,\"viewport_update_throttle\":200}}]}}]}},{\"type\":\"object\",\"name\":\"panel.models.comm_manager.CommManager\",\"id\":\"18c3669c-37ad-42e2-866a-ef65baf5b06f\",\"attributes\":{\"plot_id\":\"9a180462-2942-45c8-9cdd-15b31d1d78dd\",\"comm_id\":\"0400fdf342af4eee8020fe74db161bce\",\"client_comm_id\":\"43927204162a41b6b44ec5680f0c66af\"}}],\"defs\":[{\"type\":\"model\",\"name\":\"ReactiveHTML1\"},{\"type\":\"model\",\"name\":\"FlexBox1\",\"properties\":[{\"name\":\"align_content\",\"kind\":\"Any\",\"default\":\"flex-start\"},{\"name\":\"align_items\",\"kind\":\"Any\",\"default\":\"flex-start\"},{\"name\":\"flex_direction\",\"kind\":\"Any\",\"default\":\"row\"},{\"name\":\"flex_wrap\",\"kind\":\"Any\",\"default\":\"wrap\"},{\"name\":\"justify_content\",\"kind\":\"Any\",\"default\":\"flex-start\"}]},{\"type\":\"model\",\"name\":\"FloatPanel1\",\"properties\":[{\"name\":\"config\",\"kind\":\"Any\",\"default\":{\"type\":\"map\"}},{\"name\":\"contained\",\"kind\":\"Any\",\"default\":true},{\"name\":\"position\",\"kind\":\"Any\",\"default\":\"right-top\"},{\"name\":\"offsetx\",\"kind\":\"Any\",\"default\":null},{\"name\":\"offsety\",\"kind\":\"Any\",\"default\":null},{\"name\":\"theme\",\"kind\":\"Any\",\"default\":\"primary\"},{\"name\":\"status\",\"kind\":\"Any\",\"default\":\"normalized\"}]},{\"type\":\"model\",\"name\":\"GridStack1\",\"properties\":[{\"name\":\"mode\",\"kind\":\"Any\",\"default\":\"warn\"},{\"name\":\"ncols\",\"kind\":\"Any\",\"default\":null},{\"name\":\"nrows\",\"kind\":\"Any\",\"default\":null},{\"name\":\"allow_resize\",\"kind\":\"Any\",\"default\":true},{\"name\":\"allow_drag\",\"kind\":\"Any\",\"default\":true},{\"name\":\"state\",\"kind\":\"Any\",\"default\":[]}]},{\"type\":\"model\",\"name\":\"drag1\",\"properties\":[{\"name\":\"slider_width\",\"kind\":\"Any\",\"default\":5},{\"name\":\"slider_color\",\"kind\":\"Any\",\"default\":\"black\"},{\"name\":\"value\",\"kind\":\"Any\",\"default\":50}]},{\"type\":\"model\",\"name\":\"click1\",\"properties\":[{\"name\":\"terminal_output\",\"kind\":\"Any\",\"default\":\"\"},{\"name\":\"debug_name\",\"kind\":\"Any\",\"default\":\"\"},{\"name\":\"clears\",\"kind\":\"Any\",\"default\":0}]},{\"type\":\"model\",\"name\":\"FastWrapper1\",\"properties\":[{\"name\":\"object\",\"kind\":\"Any\",\"default\":null},{\"name\":\"style\",\"kind\":\"Any\",\"default\":null}]},{\"type\":\"model\",\"name\":\"NotificationAreaBase1\",\"properties\":[{\"name\":\"position\",\"kind\":\"Any\",\"default\":\"bottom-right\"},{\"name\":\"_clear\",\"kind\":\"Any\",\"default\":0}]},{\"type\":\"model\",\"name\":\"NotificationArea1\",\"properties\":[{\"name\":\"notifications\",\"kind\":\"Any\",\"default\":[]},{\"name\":\"position\",\"kind\":\"Any\",\"default\":\"bottom-right\"},{\"name\":\"_clear\",\"kind\":\"Any\",\"default\":0},{\"name\":\"types\",\"kind\":\"Any\",\"default\":[{\"type\":\"map\",\"entries\":[[\"type\",\"warning\"],[\"background\",\"#ffc107\"],[\"icon\",{\"type\":\"map\",\"entries\":[[\"className\",\"fas fa-exclamation-triangle\"],[\"tagName\",\"i\"],[\"color\",\"white\"]]}]]},{\"type\":\"map\",\"entries\":[[\"type\",\"info\"],[\"background\",\"#007bff\"],[\"icon\",{\"type\":\"map\",\"entries\":[[\"className\",\"fas fa-info-circle\"],[\"tagName\",\"i\"],[\"color\",\"white\"]]}]]}]}]},{\"type\":\"model\",\"name\":\"Notification\",\"properties\":[{\"name\":\"background\",\"kind\":\"Any\",\"default\":null},{\"name\":\"duration\",\"kind\":\"Any\",\"default\":3000},{\"name\":\"icon\",\"kind\":\"Any\",\"default\":null},{\"name\":\"message\",\"kind\":\"Any\",\"default\":\"\"},{\"name\":\"notification_type\",\"kind\":\"Any\",\"default\":null},{\"name\":\"_destroyed\",\"kind\":\"Any\",\"default\":false}]},{\"type\":\"model\",\"name\":\"TemplateActions1\",\"properties\":[{\"name\":\"open_modal\",\"kind\":\"Any\",\"default\":0},{\"name\":\"close_modal\",\"kind\":\"Any\",\"default\":0}]},{\"type\":\"model\",\"name\":\"BootstrapTemplateActions1\",\"properties\":[{\"name\":\"open_modal\",\"kind\":\"Any\",\"default\":0},{\"name\":\"close_modal\",\"kind\":\"Any\",\"default\":0}]},{\"type\":\"model\",\"name\":\"MaterialTemplateActions1\",\"properties\":[{\"name\":\"open_modal\",\"kind\":\"Any\",\"default\":0},{\"name\":\"close_modal\",\"kind\":\"Any\",\"default\":0}]}]}};\n",
       "  var render_items = [{\"docid\":\"c3b7b9c1-f89f-4144-a7b2-5a0291b0c4b3\",\"roots\":{\"9a180462-2942-45c8-9cdd-15b31d1d78dd\":\"c7a79c7c-6d46-4114-84c0-ff5727120a5f\"},\"root_ids\":[\"9a180462-2942-45c8-9cdd-15b31d1d78dd\"]}];\n",
       "  var docs = Object.values(docs_json)\n",
       "  if (!docs) {\n",
       "    return\n",
       "  }\n",
       "  const py_version = docs[0].version.replace('rc', '-rc.').replace('.dev', '-dev.')\n",
       "  const is_dev = py_version.indexOf(\"+\") !== -1 || py_version.indexOf(\"-\") !== -1\n",
       "  function embed_document(root) {\n",
       "    var Bokeh = get_bokeh(root)\n",
       "    Bokeh.embed.embed_items_notebook(docs_json, render_items);\n",
       "    for (const render_item of render_items) {\n",
       "      for (const root_id of render_item.root_ids) {\n",
       "\tconst id_el = document.getElementById(root_id)\n",
       "\tif (id_el.children.length && (id_el.children[0].className === 'bk-root')) {\n",
       "\t  const root_el = id_el.children[0]\n",
       "\t  root_el.id = root_el.id + '-rendered'\n",
       "\t}\n",
       "      }\n",
       "    }\n",
       "  }\n",
       "  function get_bokeh(root) {\n",
       "    if (root.Bokeh === undefined) {\n",
       "      return null\n",
       "    } else if (root.Bokeh.version !== py_version && !is_dev) {\n",
       "      if (root.Bokeh.versions === undefined || !root.Bokeh.versions.has(py_version)) {\n",
       "\treturn null\n",
       "      }\n",
       "      return root.Bokeh.versions.get(py_version);\n",
       "    } else if (root.Bokeh.version === py_version) {\n",
       "      return root.Bokeh\n",
       "    }\n",
       "    return null\n",
       "  }\n",
       "  function is_loaded(root) {\n",
       "    var Bokeh = get_bokeh(root)\n",
       "    return (Bokeh != null && Bokeh.Panel !== undefined && ( root['Tabulator'] !== undefined) && ( root['Tabulator'] !== undefined) && ( root['Tabulator'] !== undefined))\n",
       "  }\n",
       "  if (is_loaded(root)) {\n",
       "    embed_document(root);\n",
       "  } else {\n",
       "    var attempts = 0;\n",
       "    var timer = setInterval(function(root) {\n",
       "      if (is_loaded(root)) {\n",
       "        clearInterval(timer);\n",
       "        embed_document(root);\n",
       "      } else if (document.readyState == \"complete\") {\n",
       "        attempts++;\n",
       "        if (attempts > 200) {\n",
       "          clearInterval(timer);\n",
       "\t  var Bokeh = get_bokeh(root)\n",
       "\t  if (Bokeh == null || Bokeh.Panel == null) {\n",
       "            console.warn(\"Panel: ERROR: Unable to run Panel code because Bokeh or Panel library is missing\");\n",
       "\t  } else {\n",
       "\t    console.warn(\"Panel: WARNING: Attempting to render but not all required libraries could be resolved.\")\n",
       "\t    embed_document(root)\n",
       "\t  }\n",
       "        }\n",
       "      }\n",
       "    }, 25, root)\n",
       "  }\n",
       "})(window);</script>"
      ],
      "text/plain": [
       "Column\n",
       "    [0] Column\n",
       "        [0] Select(options=['Italy', 'Norway', ...], value='Italy')\n",
       "    [1] Row\n",
       "        [0] Plotly(Figure, name='interactive24883')"
      ]
     },
     "execution_count": 294,
     "metadata": {
      "application/vnd.holoviews_exec.v0+json": {
       "id": "9a180462-2942-45c8-9cdd-15b31d1d78dd"
      }
     },
     "output_type": "execute_result"
    }
   ],
   "source": [
    "#dash library\n",
    "#fig = go.Figure([go.Scatter(x=worldmap1['date'], y=worldmap1['country_name'])])\n",
    "#fig.show()\n",
    "#col = slovenia_df_vis2.columns.tolist()\n",
    "#and to pass just certain columns\n",
    "#col =[('counts', 'BRONZE'), ('counts', 'GOLD'), ('counts', 'SILVER')] \n",
    "\n",
    "#fig = px.line(slovenia_df, x=slovenia_df.index, y=col,\n",
    " #             hover_data={\"date\": \"%Y\"},\n",
    " #             title='custom tick labels')\n",
    "#fig.update_xaxes(\n",
    " #   dtick=\"M1\",\n",
    " #   tickformat=\"%b\\n%Y\")\n",
    "country = list(df.country_name.unique())\n",
    "#select = country.interactive()\n",
    "select = pn.widgets.Select(name='Select Country', options=country)\n",
    "\n",
    "filtered_data = worldmap1.interactive()\n",
    "filtered_data = worldmap1[worldmap1['country_name'] == select]\n",
    "filtered_data.head()\n",
    "#select\n",
    "#fig = px.line(slovenia_df, x='date', y='gold_medal')\n",
    "\n",
    "#select='Slovenia'\n",
    "# create function\n",
    "def create_plot(select):\n",
    "    filtered_data = worldmap1[worldmap1['country_name'] == select]\n",
    "#histogram = filtered_data.hvplot(kind='bar', \n",
    "#                                                     x='date', \n",
    "#                                                     y=\"counts\", \n",
    "#                                                     title='medalje v drzavi')\n",
    "    fig = px.histogram(filtered_data, x=\"date\", y=\"counts\", color=\"medal_type\").update_xaxes(categoryorder=\"category ascending\")\n",
    "    #fig.show()\n",
    "    return fig\n",
    "#create_plot\n",
    "#fig2.show()\n",
    "\n",
    "\n",
    "# create interaction between widget and function\n",
    "#select\n",
    "pn.interact(create_plot, select=select)\n",
    "#create_plot(select).show()\n",
    "#select\n"
   ]
  },
  {
   "cell_type": "markdown",
   "id": "078f28ac-dbc2-478a-bff4-34b8749286ff",
   "metadata": {},
   "source": [
    "#Visualization 3"
   ]
  },
  {
   "cell_type": "code",
   "execution_count": 284,
   "id": "7e66cb53-f19a-48f6-9f3f-fb76fa9dd555",
   "metadata": {},
   "outputs": [
    {
     "data": {},
     "metadata": {},
     "output_type": "display_data"
    },
    {
     "data": {},
     "metadata": {},
     "output_type": "display_data"
    },
    {
     "data": {
      "application/vnd.holoviews_exec.v0+json": "",
      "text/html": [
       "<div id='726f5715-8bbb-4b4d-97c2-c5a71f7536e7'>\n",
       "  <div id=\"e1ef676d-d0fe-4328-851b-44159333a575\" data-root-id=\"726f5715-8bbb-4b4d-97c2-c5a71f7536e7\" style=\"display: contents;\"></div>\n",
       "</div>\n",
       "<script type=\"application/javascript\">(function(root) {\n",
       "  var docs_json = {\"aa5f231d-9cf1-4317-9188-ee696688fa9a\":{\"version\":\"3.2.1\",\"title\":\"Bokeh Application\",\"roots\":[{\"type\":\"object\",\"name\":\"Row\",\"id\":\"726f5715-8bbb-4b4d-97c2-c5a71f7536e7\",\"attributes\":{\"name\":\"Row24130\",\"stylesheets\":[\"\\n:host(.pn-loading.pn-arc):before, .pn-loading.pn-arc:before {\\n  background-image: url(\\\"data:image/svg+xml;base64,PHN2ZyB4bWxucz0iaHR0cDovL3d3dy53My5vcmcvMjAwMC9zdmciIHN0eWxlPSJtYXJnaW46IGF1dG87IGJhY2tncm91bmQ6IG5vbmU7IGRpc3BsYXk6IGJsb2NrOyBzaGFwZS1yZW5kZXJpbmc6IGF1dG87IiB2aWV3Qm94PSIwIDAgMTAwIDEwMCIgcHJlc2VydmVBc3BlY3RSYXRpbz0ieE1pZFlNaWQiPiAgPGNpcmNsZSBjeD0iNTAiIGN5PSI1MCIgZmlsbD0ibm9uZSIgc3Ryb2tlPSIjYzNjM2MzIiBzdHJva2Utd2lkdGg9IjEwIiByPSIzNSIgc3Ryb2tlLWRhc2hhcnJheT0iMTY0LjkzMzYxNDMxMzQ2NDE1IDU2Ljk3Nzg3MTQzNzgyMTM4Ij4gICAgPGFuaW1hdGVUcmFuc2Zvcm0gYXR0cmlidXRlTmFtZT0idHJhbnNmb3JtIiB0eXBlPSJyb3RhdGUiIHJlcGVhdENvdW50PSJpbmRlZmluaXRlIiBkdXI9IjFzIiB2YWx1ZXM9IjAgNTAgNTA7MzYwIDUwIDUwIiBrZXlUaW1lcz0iMDsxIj48L2FuaW1hdGVUcmFuc2Zvcm0+ICA8L2NpcmNsZT48L3N2Zz4=\\\");\\n  background-size: auto calc(min(50%, 400px));\\n}\",{\"type\":\"object\",\"name\":\"ImportedStyleSheet\",\"id\":\"0ed03069-724c-4f06-bd15-81d20c951b78\",\"attributes\":{\"url\":\"https://cdn.holoviz.org/panel/1.2.0/dist/css/loading.css\"}},{\"type\":\"object\",\"name\":\"ImportedStyleSheet\",\"id\":\"fe272a3a-062d-44f0-8065-9e3c763fc305\",\"attributes\":{\"url\":\"https://cdn.holoviz.org/panel/1.2.0/dist/css/listpanel.css\"}},{\"type\":\"object\",\"name\":\"ImportedStyleSheet\",\"id\":\"80f5476f-cc2b-4108-9129-5e014e328b4e\",\"attributes\":{\"url\":\"https://cdn.holoviz.org/panel/1.2.0/dist/bundled/theme/default.css\"}},{\"type\":\"object\",\"name\":\"ImportedStyleSheet\",\"id\":\"677dfe33-410c-4edb-bf39-86c009c850c6\",\"attributes\":{\"url\":\"https://cdn.holoviz.org/panel/1.2.0/dist/bundled/theme/native.css\"}}],\"margin\":0,\"align\":\"start\",\"children\":[{\"type\":\"object\",\"name\":\"Column\",\"id\":\"5b7d59e9-2692-403a-98e2-3a0616a87f92\",\"attributes\":{\"name\":\"Column24127\",\"stylesheets\":[\"\\n:host(.pn-loading.pn-arc):before, .pn-loading.pn-arc:before {\\n  background-image: url(\\\"data:image/svg+xml;base64,PHN2ZyB4bWxucz0iaHR0cDovL3d3dy53My5vcmcvMjAwMC9zdmciIHN0eWxlPSJtYXJnaW46IGF1dG87IGJhY2tncm91bmQ6IG5vbmU7IGRpc3BsYXk6IGJsb2NrOyBzaGFwZS1yZW5kZXJpbmc6IGF1dG87IiB2aWV3Qm94PSIwIDAgMTAwIDEwMCIgcHJlc2VydmVBc3BlY3RSYXRpbz0ieE1pZFlNaWQiPiAgPGNpcmNsZSBjeD0iNTAiIGN5PSI1MCIgZmlsbD0ibm9uZSIgc3Ryb2tlPSIjYzNjM2MzIiBzdHJva2Utd2lkdGg9IjEwIiByPSIzNSIgc3Ryb2tlLWRhc2hhcnJheT0iMTY0LjkzMzYxNDMxMzQ2NDE1IDU2Ljk3Nzg3MTQzNzgyMTM4Ij4gICAgPGFuaW1hdGVUcmFuc2Zvcm0gYXR0cmlidXRlTmFtZT0idHJhbnNmb3JtIiB0eXBlPSJyb3RhdGUiIHJlcGVhdENvdW50PSJpbmRlZmluaXRlIiBkdXI9IjFzIiB2YWx1ZXM9IjAgNTAgNTA7MzYwIDUwIDUwIiBrZXlUaW1lcz0iMDsxIj48L2FuaW1hdGVUcmFuc2Zvcm0+ICA8L2NpcmNsZT48L3N2Zz4=\\\");\\n  background-size: auto calc(min(50%, 400px));\\n}\",{\"id\":\"0ed03069-724c-4f06-bd15-81d20c951b78\"},{\"id\":\"fe272a3a-062d-44f0-8065-9e3c763fc305\"},{\"id\":\"80f5476f-cc2b-4108-9129-5e014e328b4e\"},{\"id\":\"677dfe33-410c-4edb-bf39-86c009c850c6\"}],\"margin\":0,\"align\":\"start\",\"children\":[{\"type\":\"object\",\"name\":\"Column\",\"id\":\"bdebb96f-25a9-4629-a922-ddcc38aa2a7e\",\"attributes\":{\"name\":\"Column24110\",\"stylesheets\":[\"\\n:host(.pn-loading.pn-arc):before, .pn-loading.pn-arc:before {\\n  background-image: url(\\\"data:image/svg+xml;base64,PHN2ZyB4bWxucz0iaHR0cDovL3d3dy53My5vcmcvMjAwMC9zdmciIHN0eWxlPSJtYXJnaW46IGF1dG87IGJhY2tncm91bmQ6IG5vbmU7IGRpc3BsYXk6IGJsb2NrOyBzaGFwZS1yZW5kZXJpbmc6IGF1dG87IiB2aWV3Qm94PSIwIDAgMTAwIDEwMCIgcHJlc2VydmVBc3BlY3RSYXRpbz0ieE1pZFlNaWQiPiAgPGNpcmNsZSBjeD0iNTAiIGN5PSI1MCIgZmlsbD0ibm9uZSIgc3Ryb2tlPSIjYzNjM2MzIiBzdHJva2Utd2lkdGg9IjEwIiByPSIzNSIgc3Ryb2tlLWRhc2hhcnJheT0iMTY0LjkzMzYxNDMxMzQ2NDE1IDU2Ljk3Nzg3MTQzNzgyMTM4Ij4gICAgPGFuaW1hdGVUcmFuc2Zvcm0gYXR0cmlidXRlTmFtZT0idHJhbnNmb3JtIiB0eXBlPSJyb3RhdGUiIHJlcGVhdENvdW50PSJpbmRlZmluaXRlIiBkdXI9IjFzIiB2YWx1ZXM9IjAgNTAgNTA7MzYwIDUwIDUwIiBrZXlUaW1lcz0iMDsxIj48L2FuaW1hdGVUcmFuc2Zvcm0+ICA8L2NpcmNsZT48L3N2Zz4=\\\");\\n  background-size: auto calc(min(50%, 400px));\\n}\",{\"id\":\"0ed03069-724c-4f06-bd15-81d20c951b78\"},{\"id\":\"fe272a3a-062d-44f0-8065-9e3c763fc305\"},{\"id\":\"80f5476f-cc2b-4108-9129-5e014e328b4e\"},{\"id\":\"677dfe33-410c-4edb-bf39-86c009c850c6\"}],\"margin\":0,\"align\":\"start\",\"children\":[{\"type\":\"object\",\"name\":\"panel.models.widgets.CustomSelect\",\"id\":\"49a9c06d-65c7-47d2-bc05-69fd4f45e727\",\"attributes\":{\"stylesheets\":[\"\\n:host(.pn-loading.pn-arc):before, .pn-loading.pn-arc:before {\\n  background-image: url(\\\"data:image/svg+xml;base64,PHN2ZyB4bWxucz0iaHR0cDovL3d3dy53My5vcmcvMjAwMC9zdmciIHN0eWxlPSJtYXJnaW46IGF1dG87IGJhY2tncm91bmQ6IG5vbmU7IGRpc3BsYXk6IGJsb2NrOyBzaGFwZS1yZW5kZXJpbmc6IGF1dG87IiB2aWV3Qm94PSIwIDAgMTAwIDEwMCIgcHJlc2VydmVBc3BlY3RSYXRpbz0ieE1pZFlNaWQiPiAgPGNpcmNsZSBjeD0iNTAiIGN5PSI1MCIgZmlsbD0ibm9uZSIgc3Ryb2tlPSIjYzNjM2MzIiBzdHJva2Utd2lkdGg9IjEwIiByPSIzNSIgc3Ryb2tlLWRhc2hhcnJheT0iMTY0LjkzMzYxNDMxMzQ2NDE1IDU2Ljk3Nzg3MTQzNzgyMTM4Ij4gICAgPGFuaW1hdGVUcmFuc2Zvcm0gYXR0cmlidXRlTmFtZT0idHJhbnNmb3JtIiB0eXBlPSJyb3RhdGUiIHJlcGVhdENvdW50PSJpbmRlZmluaXRlIiBkdXI9IjFzIiB2YWx1ZXM9IjAgNTAgNTA7MzYwIDUwIDUwIiBrZXlUaW1lcz0iMDsxIj48L2FuaW1hdGVUcmFuc2Zvcm0+ICA8L2NpcmNsZT48L3N2Zz4=\\\");\\n  background-size: auto calc(min(50%, 400px));\\n}\",{\"id\":\"0ed03069-724c-4f06-bd15-81d20c951b78\"},{\"type\":\"object\",\"name\":\"ImportedStyleSheet\",\"id\":\"6680f93e-7512-4db5-a40e-2622b6388017\",\"attributes\":{\"url\":\"https://cdn.holoviz.org/panel/1.2.0/dist/css/select.css\"}},{\"id\":\"80f5476f-cc2b-4108-9129-5e014e328b4e\"},{\"id\":\"677dfe33-410c-4edb-bf39-86c009c850c6\"}],\"width\":300,\"min_width\":300,\"margin\":[5,10],\"align\":\"start\",\"title\":\"country_name\",\"options\":[\"Italy\",\"Norway\",\"Sweden\",\"Great Britain\",\"Canada\",\"Czech Republic\",\"Switzerland\",\"United States of America\",\"People's Republic of China\",\"Australia\",\"Japan\",\"Republic of Korea\",\"Denmark\",\"ROC\",\"Finland\",\"Kazakhstan\",\"France\",\"New Zealand\",\"Ireland\",\"Austria\",\"Spain\",\"Germany\",\"Estonia\",\"Chile\",\"Brazil\",\"Belarus\",\"Ukraine\",\"Netherlands\",\"Hungary\",\"Croatia\",\"Poland\",\"Belgium\",\"Latvia\",\"Hong Kong, China\",\"Israel\",\"Turkey\",\"Malta\",\"Andorra\",\"Slovenia\",\"Bulgaria\",\"Slovakia\",\"Romania\",\"Georgia\",\"Armenia\",\"Lithuania\",\"Azerbaijan\",\"Mexico\",\"Bosnia and Herzegovina\",\"Republic of Moldova\",\"Argentina\",\"Chinese Taipei\",\"Puerto Rico\",\"Kyrgyzstan\",\"Colombia\",\"India\",\"Portugal\",\"San Marino\",\"Philippines\",\"Lebanon\",\"Uzbekistan\",\"Albania\",\"Montenegro\",\"Greece\",\"Kosovo\",\"Luxembourg\",\"Madagascar\",\"Cyprus\",\"Malaysia\",\"Haiti\",\"Thailand\",\"Pakistan\",\"Democratic Republic of Timor-Leste\",\"Iceland\",\"Monaco\",\"Serbia\",\"Liechtenstein\",\"Bolivia\",\"Morocco\",\"Ghana\",\"Jamaica\",\"Eritrea\",\"Saudi Arabia\",\"Peru\",\"Ecuador\",\"Islamic Republic of Iran\",\"Virgin Islands, US\",\"American Samoa\",\"Mongolia\",\"North Macedonia\",\"Nigeria\",\"Trinidad and Tobago\",\"Egypt\",\"Indonesia\",\"Cuba\",\"Oman\",\"Venezuela\",\"Bangladesh\",\"Afghanistan\",\"Singapore\",\"Bhutan\",\"Algeria\",\"Sri Lanka\",\"Nepal\",\"Refugee Olympic Team\",\"Qatar\",\"Kuwait\",\"Bahrain\",\"Senegal\",\"Guatemala\",\"Iraq\",\"Jordan\",\"Yemen\",\"Tunisia\",\"Aruba\",\"Myanmar\",\"Vietnam\",\"Nicaragua\",\"United Arab Emirates\",\"Dominican Republic\",\"South Africa\",\"Sao Tome and Principe\",\"Samoa\",\"Cook Islands\",\"Mozambique\",\"Belize\",\"Ethiopia\",\"Costa Rica\",\"Paraguay\",\"Namibia\",\"Rwanda\",\"Burkina Faso\",\"Panama\",\"Zambia\",\"C\\u00f4te d'Ivoire\",\"Honduras\",\"Mauritius\",\"Eswatini\",\"Uganda\",\"Cameroon\",\"Democratic Republic of the Congo\",\"Tajikistan\",\"Kenya\",\"Guyana\",\"Burundi\",\"Botswana\",\"Cape Verde\",\"Somalia\",\"El Salvador\",\"Antigua and Barbuda\",\"Papua New Guinea\",\"Angola\",\"Fiji\",\"Bermuda\",\"Syrian Arab Republic\",\"Vanuatu\",\"Togo\",\"Mali\",\"Gabon\",\"Niger\",\"Tonga\",\"Suriname\",\"Maldives\",\"Guinea-Bissau\",\"Guam\",\"Guinea\",\"Zimbabwe\",\"Chad\",\"Kiribati\",\"Comoros\",\"Uruguay\",\"Sierra Leone\",\"Palestine\",\"Sudan\",\"Djibouti\",\"Gambia\",\"Malawi\",\"Libya\",\"Benin\",\"Seychelles\",\"Lao People's Democratic Republic\",\"Turkmenistan\",\"Solomon Islands\",\"Nauru\",\"Virgin Islands, British\",\"Lesotho\",\"United Republic of Tanzania\",\"Liberia\",\"Bahamas\",\"Dominica\",\"Grenada\",\"Saint Lucia\",\"Olympic Athletes from Russia\",\"Democratic People's Republic of Korea\",\"The Former Yugoslav Republic of Macedonia\",\"Korea Team\",\"Russian Federation\",\"Ivory Coast\",\"Independent Olympic Athletes\",\"Barbados\",\"Cambodia\",\"Equatorial Guinea\",\"Congo\",\"South Sudan\",\"Refugee Olympic Athletes\",\"Marshall Islands\",\"Palau\",\"US Virgin Islands\",\"Federated States of Micronesia\",\"Central African Republic\",\"Cayman Islands\",\"Brunei\",\"Saint Vincent and the Grenadines\",\"British Virgin Islands\",\"Swaziland\",\"Saint Kitts and Nevis\",\"Tuvalu\",\"Netherlands Antilles\",\"Serbia and Montenegro\",\"Unified Team\",\"Czechoslovakia\",\"Mauritania\",\"Yugoslavia\",\"Soviet Union\",\"Federal Republic of Germany\",\"German Democratic Republic (Germany)\",\"Yemen Arab Republic\",\"Yemen Democratic Republic\",\"South Vietnam\",\"Rhodesia\",\"United Arab Republic\",\"Malaya\",\"West Indies Federation\",\"North Borneo\",\"Saar\",\"MIX\",\"Australasia\",\"Bohemia\",\"Newfoundland\"],\"value\":\"Italy\"}}]}},{\"type\":\"object\",\"name\":\"Figure\",\"id\":\"debb504d-e261-447e-aa96-790e15a31823\",\"attributes\":{\"width\":700,\"height\":300,\"margin\":[5,10],\"sizing_mode\":\"fixed\",\"align\":\"start\",\"x_range\":{\"type\":\"object\",\"name\":\"FactorRange\",\"id\":\"690f7af3-1e3a-4a26-88e1-7c69c0ac3f82\",\"attributes\":{\"tags\":[[[\"discipline_title\",\"discipline_title\",null]]],\"factors\":[\"Cycling Track\",\"Equestrian Jumping\",\"Fencing\",\"Athletics\",\"Gymnastics Artistic\",\"Wrestling\",\"Boxing\",\"Equestrian Eventing\",\"Rowing\",\"Weightlifting\",\"Tennis\",\"Football\",\"Cycling Road\",\"Shooting\",\"Modern Pentathlon\",\"Sailing\",\"Skeleton\",\"Water Polo\",\"Alpine Skiing\",\"Bobsleigh\",\"Canoe Sprint\",\"Diving\",\"Luge\",\"Cross Country Skiing\",\"Swimming\",\"Archery\",\"Judo\",\"Basketball\",\"Volleyball\",\"Biathlon\",\"Canoe Slalom\",\"Short Track Speed Skating\",\"Cycling Mountain Bike\",\"Snowboard\",\"Figure skating\",\"Gymnastics Rhythmic\",\"Speed skating\",\"Taekwondo\",\"Nordic Combined\",\"Marathon Swimming\",\"Beach Volleyball\",\"Short Track\",\"Artistic Gymnastics\",\"Karate\",\"Rhythmic Gymnastics\",\"Curling\"]}},\"y_range\":{\"type\":\"object\",\"name\":\"Range1d\",\"id\":\"cfd3b198-2657-4472-9ede-5bc53b41c5f4\",\"attributes\":{\"tags\":[[[\"counts\",\"counts\",null]]],\"end\":5.4,\"reset_start\":0.0,\"reset_end\":5.4}},\"x_scale\":{\"type\":\"object\",\"name\":\"CategoricalScale\",\"id\":\"82adc15f-0bd2-4d89-b887-4f3778f94aea\"},\"y_scale\":{\"type\":\"object\",\"name\":\"LinearScale\",\"id\":\"1675f6fa-5f6d-45db-9928-96426df3d475\"},\"title\":{\"type\":\"object\",\"name\":\"Title\",\"id\":\"3ec9ac17-1b20-4963-a80b-39a33d3edd36\",\"attributes\":{\"text_color\":\"black\",\"text_font_size\":\"12pt\"}},\"renderers\":[{\"type\":\"object\",\"name\":\"GlyphRenderer\",\"id\":\"a7de3acd-f0a6-4e44-9179-2d5f86dcb0ba\",\"attributes\":{\"data_source\":{\"type\":\"object\",\"name\":\"ColumnDataSource\",\"id\":\"fec8867f-cf7c-4117-8083-000866ecc95b\",\"attributes\":{\"selected\":{\"type\":\"object\",\"name\":\"Selection\",\"id\":\"fc4e35a6-7347-46c4-94ba-6788e4e0516b\",\"attributes\":{\"indices\":[],\"line_indices\":[]}},\"selection_policy\":{\"type\":\"object\",\"name\":\"UnionRenderers\",\"id\":\"66b5e228-93f8-4ce4-a7e7-2fdaa383a1c1\"},\"data\":{\"type\":\"map\",\"entries\":[[\"discipline_title\",[\"Cycling Track\",\"Equestrian Jumping\",\"Fencing\",\"Fencing\",\"Athletics\",\"Fencing\",\"Gymnastics Artistic\",\"Wrestling\",\"Athletics\",\"Fencing\",\"Fencing\",\"Gymnastics Artistic\",\"Gymnastics Artistic\",\"Athletics\",\"Athletics\",\"Boxing\",\"Cycling Track\",\"Equestrian Eventing\",\"Equestrian Eventing\",\"Equestrian Jumping\",\"Equestrian Jumping\",\"Equestrian Jumping\",\"Fencing\",\"Fencing\",\"Gymnastics Artistic\",\"Rowing\",\"Rowing\",\"Weightlifting\",\"Weightlifting\",\"Athletics\",\"Athletics\",\"Cycling Track\",\"Equestrian Eventing\",\"Equestrian Jumping\",\"Fencing\",\"Fencing\",\"Gymnastics Artistic\",\"Gymnastics Artistic\",\"Rowing\",\"Rowing\",\"Tennis\",\"Weightlifting\",\"Boxing\",\"Boxing\",\"Cycling Track\",\"Fencing\",\"Fencing\",\"Fencing\",\"Football\",\"Gymnastics Artistic\",\"Rowing\",\"Rowing\",\"Weightlifting\",\"Wrestling\",\"Athletics\",\"Athletics\",\"Boxing\",\"Cycling Road\",\"Cycling Road\",\"Cycling Track\",\"Cycling Track\",\"Fencing\",\"Fencing\",\"Fencing\",\"Gymnastics Artistic\",\"Gymnastics Artistic\",\"Gymnastics Artistic\",\"Rowing\",\"Rowing\",\"Shooting\",\"Shooting\",\"Weightlifting\",\"Weightlifting\",\"Wrestling\",\"Wrestling\",\"Wrestling\",\"Athletics\",\"Athletics\",\"Athletics\",\"Boxing\",\"Boxing\",\"Cycling Track\",\"Fencing\",\"Fencing\",\"Fencing\",\"Football\",\"Modern Pentathlon\",\"Rowing\",\"Sailing\",\"Athletics\",\"Athletics\",\"Athletics\",\"Boxing\",\"Boxing\",\"Boxing\",\"Cycling Track\",\"Cycling Track\",\"Fencing\",\"Fencing\",\"Fencing\",\"Rowing\",\"Rowing\",\"Rowing\",\"Skeleton\",\"Water Polo\",\"Wrestling\",\"Wrestling\",\"Alpine Skiing\",\"Alpine Skiing\",\"Athletics\",\"Athletics\",\"Boxing\",\"Boxing\",\"Boxing\",\"Cycling Road\",\"Cycling Track\",\"Cycling Track\",\"Cycling Track\",\"Fencing\",\"Fencing\",\"Fencing\",\"Sailing\",\"Water Polo\",\"Wrestling\",\"Bobsleigh\",\"Bobsleigh\",\"Boxing\",\"Boxing\",\"Cycling Road\",\"Cycling Track\",\"Cycling Track\",\"Cycling Track\",\"Fencing\",\"Fencing\",\"Fencing\",\"Rowing\",\"Sailing\",\"Shooting\",\"Shooting\",\"Weightlifting\",\"Wrestling\",\"Wrestling\",\"Alpine Skiing\",\"Athletics\",\"Athletics\",\"Boxing\",\"Boxing\",\"Boxing\",\"Canoe Sprint\",\"Cycling Road\",\"Cycling Road\",\"Cycling Track\",\"Cycling Track\",\"Equestrian Jumping\",\"Equestrian Jumping\",\"Equestrian Jumping\",\"Fencing\",\"Fencing\",\"Fencing\",\"Gymnastics Artistic\",\"Gymnastics Artistic\",\"Rowing\",\"Rowing\",\"Sailing\",\"Shooting\",\"Water Polo\",\"Weightlifting\",\"Athletics\",\"Athletics\",\"Bobsleigh\",\"Bobsleigh\",\"Boxing\",\"Boxing\",\"Cycling Road\",\"Cycling Road\",\"Cycling Track\",\"Cycling Track\",\"Diving\",\"Equestrian Eventing\",\"Equestrian Jumping\",\"Fencing\",\"Fencing\",\"Gymnastics Artistic\",\"Gymnastics Artistic\",\"Gymnastics Artistic\",\"Luge\",\"Rowing\",\"Shooting\",\"Athletics\",\"Bobsleigh\",\"Boxing\",\"Cross Country Skiing\",\"Cycling Road\",\"Cycling Road\",\"Cycling Track\",\"Cycling Track\",\"Diving\",\"Diving\",\"Fencing\",\"Fencing\",\"Luge\",\"Rowing\",\"Rowing\",\"Sailing\",\"Shooting\",\"Alpine Skiing\",\"Alpine Skiing\",\"Alpine Skiing\",\"Athletics\",\"Bobsleigh\",\"Diving\",\"Diving\",\"Diving\",\"Equestrian Eventing\",\"Equestrian Jumping\",\"Equestrian Jumping\",\"Fencing\",\"Luge\",\"Shooting\",\"Shooting\",\"Swimming\",\"Swimming\",\"Weightlifting\",\"Wrestling\",\"Alpine Skiing\",\"Alpine Skiing\",\"Alpine Skiing\",\"Archery\",\"Athletics\",\"Cycling Road\",\"Diving\",\"Diving\",\"Fencing\",\"Fencing\",\"Judo\",\"Shooting\",\"Water Polo\",\"Archery\",\"Athletics\",\"Athletics\",\"Basketball\",\"Boxing\",\"Diving\",\"Equestrian Eventing\",\"Equestrian Eventing\",\"Fencing\",\"Judo\",\"Luge\",\"Sailing\",\"Shooting\",\"Wrestling\",\"Alpine Skiing\",\"Athletics\",\"Athletics\",\"Athletics\",\"Boxing\",\"Boxing\",\"Boxing\",\"Cycling Road\",\"Fencing\",\"Fencing\",\"Fencing\",\"Judo\",\"Luge\",\"Modern Pentathlon\",\"Modern Pentathlon\",\"Rowing\",\"Sailing\",\"Shooting\",\"Shooting\",\"Shooting\",\"Volleyball\",\"Weightlifting\",\"Wrestling\",\"Alpine Skiing\",\"Athletics\",\"Athletics\",\"Athletics\",\"Biathlon\",\"Boxing\",\"Cross Country Skiing\",\"Fencing\",\"Fencing\",\"Fencing\",\"Modern Pentathlon\",\"Rowing\",\"Swimming\",\"Wrestling\",\"Alpine Skiing\",\"Alpine Skiing\",\"Athletics\",\"Canoe Slalom\",\"Canoe Sprint\",\"Cross Country Skiing\",\"Cross Country Skiing\",\"Cross Country Skiing\",\"Cycling Road\",\"Cycling Road\",\"Cycling Track\",\"Fencing\",\"Fencing\",\"Judo\",\"Luge\",\"Modern Pentathlon\",\"Rowing\",\"Rowing\",\"Shooting\",\"Swimming\",\"Water Polo\",\"Wrestling\",\"Alpine Skiing\",\"Alpine Skiing\",\"Alpine Skiing\",\"Bobsleigh\",\"Cross Country Skiing\",\"Cross Country Skiing\",\"Cross Country Skiing\",\"Luge\",\"Luge\",\"Luge\",\"Short Track Speed Skating\",\"Short Track Speed Skating\",\"Archery\",\"Athletics\",\"Athletics\",\"Canoe Sprint\",\"Canoe Sprint\",\"Canoe Sprint\",\"Cycling Mountain Bike\",\"Cycling Road\",\"Cycling Track\",\"Fencing\",\"Fencing\",\"Fencing\",\"Gymnastics Artistic\",\"Judo\",\"Judo\",\"Rowing\",\"Sailing\",\"Shooting\",\"Shooting\",\"Shooting\",\"Swimming\",\"Volleyball\",\"Water Polo\",\"Alpine Skiing\",\"Alpine Skiing\",\"Biathlon\",\"Bobsleigh\",\"Cross Country Skiing\",\"Cross Country Skiing\",\"Luge\",\"Snowboard\",\"Archery\",\"Athletics\",\"Boxing\",\"Canoe Slalom\",\"Canoe Sprint\",\"Cycling Mountain Bike\",\"Cycling Track\",\"Cycling Track\",\"Fencing\",\"Fencing\",\"Judo\",\"Judo\",\"Rowing\",\"Rowing\",\"Rowing\",\"Sailing\",\"Sailing\",\"Shooting\",\"Shooting\",\"Swimming\",\"Swimming\",\"Swimming\",\"Volleyball\",\"Alpine Skiing\",\"Alpine Skiing\",\"Alpine Skiing\",\"Cross Country Skiing\",\"Cross Country Skiing\",\"Cross Country Skiing\",\"Figure skating\",\"Luge\",\"Short Track Speed Skating\",\"Snowboard\",\"Archery\",\"Athletics\",\"Athletics\",\"Basketball\",\"Boxing\",\"Canoe Sprint\",\"Cycling Road\",\"Fencing\",\"Fencing\",\"Fencing\",\"Football\",\"Gymnastics Artistic\",\"Gymnastics Artistic\",\"Gymnastics Rhythmic\",\"Judo\",\"Rowing\",\"Sailing\",\"Shooting\",\"Shooting\",\"Swimming\",\"Swimming\",\"Volleyball\",\"Water Polo\",\"Bobsleigh\",\"Cross Country Skiing\",\"Cross Country Skiing\",\"Luge\",\"Luge\",\"Short Track Speed Skating\",\"Speed skating\",\"Speed skating\",\"Archery\",\"Athletics\",\"Athletics\",\"Boxing\",\"Boxing\",\"Boxing\",\"Canoe Sprint\",\"Canoe Sprint\",\"Cycling Road\",\"Fencing\",\"Fencing\",\"Judo\",\"Rowing\",\"Sailing\",\"Sailing\",\"Shooting\",\"Shooting\",\"Swimming\",\"Swimming\",\"Taekwondo\",\"Wrestling\",\"Alpine Skiing\",\"Cross Country Skiing\",\"Luge\",\"Nordic Combined\",\"Short Track Speed Skating\",\"Archery\",\"Athletics\",\"Boxing\",\"Boxing\",\"Canoe Slalom\",\"Cycling Mountain Bike\",\"Fencing\",\"Fencing\",\"Fencing\",\"Gymnastics Artistic\",\"Gymnastics Rhythmic\",\"Judo\",\"Marathon Swimming\",\"Rowing\",\"Shooting\",\"Shooting\",\"Taekwondo\",\"Taekwondo\",\"Volleyball\",\"Water Polo\",\"Alpine Skiing\",\"Alpine Skiing\",\"Biathlon\",\"Figure skating\",\"Luge\",\"Short Track Speed Skating\",\"Short Track Speed Skating\",\"Beach Volleyball\",\"Cycling Road\",\"Cycling Track\",\"Diving\",\"Diving\",\"Fencing\",\"Fencing\",\"Judo\",\"Judo\",\"Marathon Swimming\",\"Rowing\",\"Shooting\",\"Shooting\",\"Swimming\",\"Swimming\",\"Volleyball\",\"Water Polo\",\"Water Polo\",\"Wrestling\",\"Alpine Skiing\",\"Alpine Skiing\",\"Biathlon\",\"Cross Country Skiing\",\"Short Track\",\"Short Track\",\"Short Track\",\"Snowboard\",\"Speed skating\",\"Archery\",\"Archery\",\"Artistic Gymnastics\",\"Athletics\",\"Boxing\",\"Canoe Sprint\",\"Cycling Road\",\"Cycling Track\",\"Cycling Track\",\"Fencing\",\"Fencing\",\"Judo\",\"Karate\",\"Karate\",\"Marathon Swimming\",\"Rhythmic Gymnastics\",\"Rowing\",\"Rowing\",\"Sailing\",\"Shooting\",\"Swimming\",\"Swimming\",\"Taekwondo\",\"Weightlifting\",\"Weightlifting\",\"Wrestling\",\"Alpine Skiing\",\"Alpine Skiing\",\"Biathlon\",\"Cross Country Skiing\",\"Curling\",\"Luge\",\"Short Track Speed Skating\",\"Short Track Speed Skating\",\"Short Track Speed Skating\",\"Snowboard\",\"Snowboard\",\"Speed skating\",\"Speed skating\"]],[\"counts\",{\"type\":\"ndarray\",\"array\":{\"type\":\"bytes\",\"data\":\"AQAAAAEAAAABAAAAAQAAAAEAAAABAAAAAQAAAAEAAAABAAAAAQAAAAEAAAABAAAAAgAAAAIAAAACAAAAAQAAAAEAAAABAAAAAQAAAAEAAAABAAAAAQAAAAUAAAABAAAAAgAAAAEAAAABAAAAAQAAAAEAAAABAAAAAQAAAAEAAAABAAAAAQAAAAEAAAABAAAAAQAAAAIAAAABAAAAAQAAAAEAAAADAAAAAQAAAAMAAAABAAAAAgAAAAIAAAABAAAAAQAAAAIAAAABAAAAAQAAAAIAAAACAAAAAgAAAAEAAAACAAAAAgAAAAEAAAABAAAAAQAAAAIAAAACAAAABAAAAAIAAAAEAAAAAQAAAAEAAAACAAAAAQAAAAEAAAABAAAAAQAAAAIAAAABAAAAAQAAAAIAAAABAAAAAgAAAAEAAAABAAAAAQAAAAIAAAAEAAAAAwAAAAEAAAABAAAAAgAAAAEAAAABAAAAAQAAAAMAAAACAAAAAQAAAAIAAAACAAAAAQAAAAEAAAABAAAABAAAAAIAAAABAAAAAQAAAAEAAAABAAAAAgAAAAEAAAABAAAAAQAAAAEAAAABAAAAAQAAAAEAAAABAAAAAQAAAAEAAAACAAAAAQAAAAEAAAADAAAABAAAAAEAAAABAAAAAQAAAAEAAAACAAAAAQAAAAEAAAABAAAAAQAAAAIAAAABAAAAAgAAAAMAAAACAAAAAQAAAAEAAAABAAAAAQAAAAIAAAABAAAAAQAAAAEAAAACAAAAAQAAAAEAAAADAAAAAwAAAAEAAAABAAAAAQAAAAEAAAAEAAAAAQAAAAEAAAABAAAAAwAAAAIAAAABAAAAAgAAAAEAAAABAAAAAQAAAAEAAAABAAAAAQAAAAEAAAABAAAAAQAAAAIAAAABAAAAAwAAAAIAAAABAAAAAQAAAAIAAAAEAAAAAQAAAAIAAAABAAAAAQAAAAIAAAABAAAAAQAAAAEAAAABAAAAAQAAAAEAAAACAAAAAgAAAAEAAAABAAAAAQAAAAEAAAABAAAAAQAAAAEAAAABAAAAAQAAAAEAAAABAAAAAQAAAAEAAAACAAAAAQAAAAEAAAABAAAAAQAAAAIAAAABAAAAAQAAAAEAAAABAAAAAQAAAAEAAAABAAAAAgAAAAEAAAABAAAAAQAAAAIAAAABAAAAAQAAAAIAAAABAAAAAQAAAAIAAAABAAAAAQAAAAEAAAABAAAAAQAAAAEAAAADAAAAAQAAAAIAAAABAAAAAQAAAAEAAAADAAAAAQAAAAEAAAABAAAAAQAAAAEAAAABAAAAAQAAAAIAAAABAAAAAQAAAAEAAAABAAAAAwAAAAMAAAABAAAAAgAAAAEAAAACAAAAAQAAAAMAAAADAAAAAQAAAAEAAAABAAAAAQAAAAIAAAABAAAAAQAAAAEAAAABAAAAAQAAAAEAAAABAAAAAQAAAAIAAAABAAAAAQAAAAEAAAACAAAAAQAAAAEAAAACAAAAAQAAAAEAAAACAAAAAgAAAAEAAAABAAAAAwAAAAIAAAABAAAAAQAAAAEAAAADAAAAAQAAAAQAAAABAAAAAQAAAAEAAAACAAAAAQAAAAEAAAABAAAAAQAAAAEAAAABAAAAAgAAAAIAAAABAAAAAQAAAAIAAAABAAAAAQAAAAEAAAAEAAAAAwAAAAIAAAABAAAAAgAAAAEAAAABAAAAAQAAAAEAAAACAAAAAgAAAAEAAAACAAAAAgAAAAEAAAABAAAAAwAAAAIAAAADAAAAAgAAAAEAAAABAAAAAQAAAAEAAAABAAAAAgAAAAIAAAABAAAAAQAAAAEAAAABAAAAAQAAAAEAAAABAAAAAQAAAAIAAAACAAAAAQAAAAEAAAABAAAAAgAAAAEAAAABAAAAAgAAAAEAAAABAAAAAQAAAAIAAAADAAAAAwAAAAEAAAABAAAAAQAAAAIAAAABAAAAAQAAAAEAAAABAAAAAgAAAAMAAAABAAAAAQAAAAEAAAABAAAAAQAAAAIAAAACAAAAAgAAAAEAAAABAAAAAQAAAAEAAAABAAAAAQAAAAIAAAABAAAAAQAAAAIAAAABAAAAAQAAAAMAAAADAAAAAQAAAAEAAAABAAAAAQAAAAEAAAADAAAAAQAAAAEAAAACAAAAAQAAAAEAAAABAAAAAQAAAAEAAAACAAAAAgAAAAEAAAABAAAAAQAAAAEAAAACAAAAAQAAAAEAAAABAAAAAQAAAAEAAAABAAAAAQAAAAEAAAABAAAABQAAAAIAAAABAAAAAQAAAAEAAAABAAAAAQAAAAIAAAABAAAAAQAAAAEAAAABAAAAAQAAAAEAAAABAAAAAQAAAAEAAAABAAAAAQAAAAEAAAACAAAAAQAAAAEAAAACAAAAAwAAAAIAAAABAAAAAQAAAAEAAAABAAAAAQAAAAIAAAADAAAAAQAAAAEAAAABAAAAAQAAAAEAAAABAAAAAQAAAAEAAAABAAAAAgAAAAEAAAABAAAAAQAAAAEAAAABAAAAAQAAAAEAAAADAAAAAQAAAAEAAAABAAAAAgAAAAQAAAADAAAAAgAAAAEAAAABAAAAAQAAAAEAAAABAAAAAQAAAAEAAAACAAAAAQAAAAEAAAABAAAAAQAAAAEAAAABAAAAAQAAAAEAAAABAAAABQAAAAEAAAABAAAAAQAAAAEAAAABAAAAAgAAAAMAAAACAAAAAQAAAAEAAAABAAAAAQAAAAIAAAABAAAAAQAAAAEAAAAEAAAAAgAAAAEAAAACAAAAAQAAAAEAAAACAAAAAgAAAAEAAAABAAAAAQAAAAEAAAABAAAAAQAAAAIAAAABAAAAAQAAAAIAAAABAAAA\"},\"shape\":[537],\"dtype\":\"int32\",\"order\":\"little\"}],[\"medal_type\",[\"GOLD\",\"SILVER\",\"GOLD\",\"SILVER\",\"SILVER\",\"SILVER\",\"GOLD\",\"GOLD\",\"BRONZE\",\"GOLD\",\"SILVER\",\"BRONZE\",\"GOLD\",\"BRONZE\",\"GOLD\",\"BRONZE\",\"GOLD\",\"BRONZE\",\"SILVER\",\"BRONZE\",\"GOLD\",\"SILVER\",\"GOLD\",\"SILVER\",\"GOLD\",\"GOLD\",\"SILVER\",\"GOLD\",\"SILVER\",\"GOLD\",\"SILVER\",\"GOLD\",\"BRONZE\",\"SILVER\",\"BRONZE\",\"GOLD\",\"BRONZE\",\"GOLD\",\"BRONZE\",\"SILVER\",\"BRONZE\",\"GOLD\",\"BRONZE\",\"GOLD\",\"GOLD\",\"BRONZE\",\"GOLD\",\"SILVER\",\"BRONZE\",\"SILVER\",\"BRONZE\",\"GOLD\",\"SILVER\",\"BRONZE\",\"BRONZE\",\"GOLD\",\"SILVER\",\"GOLD\",\"SILVER\",\"BRONZE\",\"GOLD\",\"BRONZE\",\"GOLD\",\"SILVER\",\"BRONZE\",\"GOLD\",\"SILVER\",\"BRONZE\",\"SILVER\",\"BRONZE\",\"GOLD\",\"BRONZE\",\"SILVER\",\"BRONZE\",\"GOLD\",\"SILVER\",\"BRONZE\",\"GOLD\",\"SILVER\",\"GOLD\",\"SILVER\",\"SILVER\",\"BRONZE\",\"GOLD\",\"SILVER\",\"GOLD\",\"BRONZE\",\"SILVER\",\"GOLD\",\"BRONZE\",\"GOLD\",\"SILVER\",\"BRONZE\",\"GOLD\",\"SILVER\",\"GOLD\",\"SILVER\",\"BRONZE\",\"GOLD\",\"SILVER\",\"BRONZE\",\"GOLD\",\"SILVER\",\"GOLD\",\"GOLD\",\"BRONZE\",\"GOLD\",\"BRONZE\",\"GOLD\",\"GOLD\",\"SILVER\",\"BRONZE\",\"GOLD\",\"SILVER\",\"SILVER\",\"BRONZE\",\"GOLD\",\"SILVER\",\"BRONZE\",\"GOLD\",\"SILVER\",\"GOLD\",\"BRONZE\",\"SILVER\",\"GOLD\",\"SILVER\",\"BRONZE\",\"SILVER\",\"GOLD\",\"BRONZE\",\"GOLD\",\"SILVER\",\"BRONZE\",\"GOLD\",\"SILVER\",\"GOLD\",\"SILVER\",\"BRONZE\",\"GOLD\",\"BRONZE\",\"BRONZE\",\"SILVER\",\"BRONZE\",\"BRONZE\",\"GOLD\",\"BRONZE\",\"GOLD\",\"SILVER\",\"SILVER\",\"GOLD\",\"SILVER\",\"BRONZE\",\"GOLD\",\"BRONZE\",\"GOLD\",\"SILVER\",\"BRONZE\",\"GOLD\",\"SILVER\",\"BRONZE\",\"SILVER\",\"BRONZE\",\"SILVER\",\"BRONZE\",\"SILVER\",\"GOLD\",\"BRONZE\",\"BRONZE\",\"GOLD\",\"BRONZE\",\"SILVER\",\"BRONZE\",\"GOLD\",\"GOLD\",\"SILVER\",\"GOLD\",\"SILVER\",\"SILVER\",\"GOLD\",\"BRONZE\",\"BRONZE\",\"SILVER\",\"BRONZE\",\"GOLD\",\"SILVER\",\"BRONZE\",\"SILVER\",\"GOLD\",\"BRONZE\",\"GOLD\",\"BRONZE\",\"GOLD\",\"BRONZE\",\"GOLD\",\"BRONZE\",\"SILVER\",\"GOLD\",\"SILVER\",\"BRONZE\",\"SILVER\",\"GOLD\",\"BRONZE\",\"GOLD\",\"BRONZE\",\"SILVER\",\"BRONZE\",\"GOLD\",\"SILVER\",\"BRONZE\",\"SILVER\",\"BRONZE\",\"GOLD\",\"SILVER\",\"SILVER\",\"BRONZE\",\"GOLD\",\"GOLD\",\"GOLD\",\"BRONZE\",\"GOLD\",\"BRONZE\",\"SILVER\",\"BRONZE\",\"BRONZE\",\"BRONZE\",\"GOLD\",\"SILVER\",\"BRONZE\",\"SILVER\",\"SILVER\",\"GOLD\",\"SILVER\",\"GOLD\",\"SILVER\",\"BRONZE\",\"BRONZE\",\"SILVER\",\"BRONZE\",\"BRONZE\",\"GOLD\",\"SILVER\",\"GOLD\",\"BRONZE\",\"GOLD\",\"SILVER\",\"SILVER\",\"GOLD\",\"SILVER\",\"BRONZE\",\"GOLD\",\"GOLD\",\"GOLD\",\"BRONZE\",\"GOLD\",\"SILVER\",\"BRONZE\",\"GOLD\",\"SILVER\",\"GOLD\",\"BRONZE\",\"GOLD\",\"SILVER\",\"SILVER\",\"GOLD\",\"BRONZE\",\"GOLD\",\"GOLD\",\"BRONZE\",\"BRONZE\",\"GOLD\",\"SILVER\",\"BRONZE\",\"GOLD\",\"GOLD\",\"GOLD\",\"BRONZE\",\"GOLD\",\"SILVER\",\"BRONZE\",\"GOLD\",\"SILVER\",\"BRONZE\",\"GOLD\",\"SILVER\",\"SILVER\",\"GOLD\",\"BRONZE\",\"GOLD\",\"GOLD\",\"SILVER\",\"BRONZE\",\"GOLD\",\"BRONZE\",\"BRONZE\",\"GOLD\",\"SILVER\",\"GOLD\",\"SILVER\",\"GOLD\",\"GOLD\",\"SILVER\",\"SILVER\",\"BRONZE\",\"BRONZE\",\"BRONZE\",\"SILVER\",\"BRONZE\",\"BRONZE\",\"GOLD\",\"SILVER\",\"BRONZE\",\"GOLD\",\"SILVER\",\"BRONZE\",\"BRONZE\",\"GOLD\",\"SILVER\",\"BRONZE\",\"GOLD\",\"SILVER\",\"GOLD\",\"SILVER\",\"BRONZE\",\"BRONZE\",\"SILVER\",\"BRONZE\",\"GOLD\",\"SILVER\",\"GOLD\",\"SILVER\",\"GOLD\",\"BRONZE\",\"GOLD\",\"SILVER\",\"GOLD\",\"BRONZE\",\"SILVER\",\"GOLD\",\"BRONZE\",\"BRONZE\",\"GOLD\",\"SILVER\",\"BRONZE\",\"SILVER\",\"BRONZE\",\"GOLD\",\"SILVER\",\"SILVER\",\"GOLD\",\"BRONZE\",\"SILVER\",\"SILVER\",\"SILVER\",\"SILVER\",\"SILVER\",\"BRONZE\",\"BRONZE\",\"GOLD\",\"GOLD\",\"BRONZE\",\"GOLD\",\"BRONZE\",\"GOLD\",\"BRONZE\",\"GOLD\",\"BRONZE\",\"GOLD\",\"SILVER\",\"GOLD\",\"SILVER\",\"BRONZE\",\"SILVER\",\"BRONZE\",\"GOLD\",\"SILVER\",\"BRONZE\",\"BRONZE\",\"GOLD\",\"SILVER\",\"BRONZE\",\"GOLD\",\"SILVER\",\"BRONZE\",\"GOLD\",\"SILVER\",\"BRONZE\",\"GOLD\",\"BRONZE\",\"GOLD\",\"SILVER\",\"BRONZE\",\"SILVER\",\"GOLD\",\"BRONZE\",\"GOLD\",\"SILVER\",\"BRONZE\",\"BRONZE\",\"GOLD\",\"SILVER\",\"BRONZE\",\"BRONZE\",\"BRONZE\",\"GOLD\",\"SILVER\",\"BRONZE\",\"SILVER\",\"SILVER\",\"GOLD\",\"BRONZE\",\"BRONZE\",\"GOLD\",\"BRONZE\",\"GOLD\",\"BRONZE\",\"BRONZE\",\"GOLD\",\"SILVER\",\"BRONZE\",\"GOLD\",\"BRONZE\",\"GOLD\",\"SILVER\",\"BRONZE\",\"SILVER\",\"BRONZE\",\"BRONZE\",\"GOLD\",\"GOLD\",\"SILVER\",\"BRONZE\",\"SILVER\",\"GOLD\",\"SILVER\",\"GOLD\",\"SILVER\",\"SILVER\",\"GOLD\",\"GOLD\",\"SILVER\",\"BRONZE\",\"BRONZE\",\"BRONZE\",\"GOLD\",\"BRONZE\",\"BRONZE\",\"SILVER\",\"GOLD\",\"BRONZE\",\"BRONZE\",\"GOLD\",\"SILVER\",\"BRONZE\",\"BRONZE\",\"BRONZE\",\"BRONZE\",\"SILVER\",\"GOLD\",\"SILVER\",\"BRONZE\",\"GOLD\",\"BRONZE\",\"SILVER\",\"BRONZE\",\"SILVER\",\"BRONZE\",\"BRONZE\",\"BRONZE\",\"BRONZE\",\"SILVER\",\"SILVER\",\"BRONZE\",\"GOLD\",\"BRONZE\",\"SILVER\",\"GOLD\",\"SILVER\",\"GOLD\",\"SILVER\",\"SILVER\",\"BRONZE\",\"GOLD\",\"SILVER\",\"BRONZE\",\"GOLD\",\"SILVER\",\"BRONZE\",\"SILVER\",\"BRONZE\",\"BRONZE\",\"GOLD\",\"BRONZE\",\"SILVER\",\"BRONZE\",\"GOLD\",\"SILVER\",\"GOLD\",\"BRONZE\",\"BRONZE\",\"SILVER\",\"SILVER\",\"GOLD\",\"BRONZE\",\"SILVER\",\"BRONZE\",\"BRONZE\",\"GOLD\",\"BRONZE\",\"SILVER\",\"BRONZE\",\"BRONZE\",\"GOLD\",\"BRONZE\",\"BRONZE\",\"BRONZE\",\"GOLD\",\"GOLD\",\"SILVER\",\"BRONZE\",\"SILVER\",\"GOLD\",\"BRONZE\",\"SILVER\",\"BRONZE\",\"BRONZE\",\"SILVER\",\"BRONZE\",\"SILVER\",\"GOLD\",\"BRONZE\",\"BRONZE\",\"GOLD\",\"SILVER\",\"BRONZE\",\"SILVER\",\"BRONZE\",\"SILVER\"]],[\"color\",[\"GOLD\",\"SILVER\",\"GOLD\",\"SILVER\",\"SILVER\",\"SILVER\",\"GOLD\",\"GOLD\",\"BRONZE\",\"GOLD\",\"SILVER\",\"BRONZE\",\"GOLD\",\"BRONZE\",\"GOLD\",\"BRONZE\",\"GOLD\",\"BRONZE\",\"SILVER\",\"BRONZE\",\"GOLD\",\"SILVER\",\"GOLD\",\"SILVER\",\"GOLD\",\"GOLD\",\"SILVER\",\"GOLD\",\"SILVER\",\"GOLD\",\"SILVER\",\"GOLD\",\"BRONZE\",\"SILVER\",\"BRONZE\",\"GOLD\",\"BRONZE\",\"GOLD\",\"BRONZE\",\"SILVER\",\"BRONZE\",\"GOLD\",\"BRONZE\",\"GOLD\",\"GOLD\",\"BRONZE\",\"GOLD\",\"SILVER\",\"BRONZE\",\"SILVER\",\"BRONZE\",\"GOLD\",\"SILVER\",\"BRONZE\",\"BRONZE\",\"GOLD\",\"SILVER\",\"GOLD\",\"SILVER\",\"BRONZE\",\"GOLD\",\"BRONZE\",\"GOLD\",\"SILVER\",\"BRONZE\",\"GOLD\",\"SILVER\",\"BRONZE\",\"SILVER\",\"BRONZE\",\"GOLD\",\"BRONZE\",\"SILVER\",\"BRONZE\",\"GOLD\",\"SILVER\",\"BRONZE\",\"GOLD\",\"SILVER\",\"GOLD\",\"SILVER\",\"SILVER\",\"BRONZE\",\"GOLD\",\"SILVER\",\"GOLD\",\"BRONZE\",\"SILVER\",\"GOLD\",\"BRONZE\",\"GOLD\",\"SILVER\",\"BRONZE\",\"GOLD\",\"SILVER\",\"GOLD\",\"SILVER\",\"BRONZE\",\"GOLD\",\"SILVER\",\"BRONZE\",\"GOLD\",\"SILVER\",\"GOLD\",\"GOLD\",\"BRONZE\",\"GOLD\",\"BRONZE\",\"GOLD\",\"GOLD\",\"SILVER\",\"BRONZE\",\"GOLD\",\"SILVER\",\"SILVER\",\"BRONZE\",\"GOLD\",\"SILVER\",\"BRONZE\",\"GOLD\",\"SILVER\",\"GOLD\",\"BRONZE\",\"SILVER\",\"GOLD\",\"SILVER\",\"BRONZE\",\"SILVER\",\"GOLD\",\"BRONZE\",\"GOLD\",\"SILVER\",\"BRONZE\",\"GOLD\",\"SILVER\",\"GOLD\",\"SILVER\",\"BRONZE\",\"GOLD\",\"BRONZE\",\"BRONZE\",\"SILVER\",\"BRONZE\",\"BRONZE\",\"GOLD\",\"BRONZE\",\"GOLD\",\"SILVER\",\"SILVER\",\"GOLD\",\"SILVER\",\"BRONZE\",\"GOLD\",\"BRONZE\",\"GOLD\",\"SILVER\",\"BRONZE\",\"GOLD\",\"SILVER\",\"BRONZE\",\"SILVER\",\"BRONZE\",\"SILVER\",\"BRONZE\",\"SILVER\",\"GOLD\",\"BRONZE\",\"BRONZE\",\"GOLD\",\"BRONZE\",\"SILVER\",\"BRONZE\",\"GOLD\",\"GOLD\",\"SILVER\",\"GOLD\",\"SILVER\",\"SILVER\",\"GOLD\",\"BRONZE\",\"BRONZE\",\"SILVER\",\"BRONZE\",\"GOLD\",\"SILVER\",\"BRONZE\",\"SILVER\",\"GOLD\",\"BRONZE\",\"GOLD\",\"BRONZE\",\"GOLD\",\"BRONZE\",\"GOLD\",\"BRONZE\",\"SILVER\",\"GOLD\",\"SILVER\",\"BRONZE\",\"SILVER\",\"GOLD\",\"BRONZE\",\"GOLD\",\"BRONZE\",\"SILVER\",\"BRONZE\",\"GOLD\",\"SILVER\",\"BRONZE\",\"SILVER\",\"BRONZE\",\"GOLD\",\"SILVER\",\"SILVER\",\"BRONZE\",\"GOLD\",\"GOLD\",\"GOLD\",\"BRONZE\",\"GOLD\",\"BRONZE\",\"SILVER\",\"BRONZE\",\"BRONZE\",\"BRONZE\",\"GOLD\",\"SILVER\",\"BRONZE\",\"SILVER\",\"SILVER\",\"GOLD\",\"SILVER\",\"GOLD\",\"SILVER\",\"BRONZE\",\"BRONZE\",\"SILVER\",\"BRONZE\",\"BRONZE\",\"GOLD\",\"SILVER\",\"GOLD\",\"BRONZE\",\"GOLD\",\"SILVER\",\"SILVER\",\"GOLD\",\"SILVER\",\"BRONZE\",\"GOLD\",\"GOLD\",\"GOLD\",\"BRONZE\",\"GOLD\",\"SILVER\",\"BRONZE\",\"GOLD\",\"SILVER\",\"GOLD\",\"BRONZE\",\"GOLD\",\"SILVER\",\"SILVER\",\"GOLD\",\"BRONZE\",\"GOLD\",\"GOLD\",\"BRONZE\",\"BRONZE\",\"GOLD\",\"SILVER\",\"BRONZE\",\"GOLD\",\"GOLD\",\"GOLD\",\"BRONZE\",\"GOLD\",\"SILVER\",\"BRONZE\",\"GOLD\",\"SILVER\",\"BRONZE\",\"GOLD\",\"SILVER\",\"SILVER\",\"GOLD\",\"BRONZE\",\"GOLD\",\"GOLD\",\"SILVER\",\"BRONZE\",\"GOLD\",\"BRONZE\",\"BRONZE\",\"GOLD\",\"SILVER\",\"GOLD\",\"SILVER\",\"GOLD\",\"GOLD\",\"SILVER\",\"SILVER\",\"BRONZE\",\"BRONZE\",\"BRONZE\",\"SILVER\",\"BRONZE\",\"BRONZE\",\"GOLD\",\"SILVER\",\"BRONZE\",\"GOLD\",\"SILVER\",\"BRONZE\",\"BRONZE\",\"GOLD\",\"SILVER\",\"BRONZE\",\"GOLD\",\"SILVER\",\"GOLD\",\"SILVER\",\"BRONZE\",\"BRONZE\",\"SILVER\",\"BRONZE\",\"GOLD\",\"SILVER\",\"GOLD\",\"SILVER\",\"GOLD\",\"BRONZE\",\"GOLD\",\"SILVER\",\"GOLD\",\"BRONZE\",\"SILVER\",\"GOLD\",\"BRONZE\",\"BRONZE\",\"GOLD\",\"SILVER\",\"BRONZE\",\"SILVER\",\"BRONZE\",\"GOLD\",\"SILVER\",\"SILVER\",\"GOLD\",\"BRONZE\",\"SILVER\",\"SILVER\",\"SILVER\",\"SILVER\",\"SILVER\",\"BRONZE\",\"BRONZE\",\"GOLD\",\"GOLD\",\"BRONZE\",\"GOLD\",\"BRONZE\",\"GOLD\",\"BRONZE\",\"GOLD\",\"BRONZE\",\"GOLD\",\"SILVER\",\"GOLD\",\"SILVER\",\"BRONZE\",\"SILVER\",\"BRONZE\",\"GOLD\",\"SILVER\",\"BRONZE\",\"BRONZE\",\"GOLD\",\"SILVER\",\"BRONZE\",\"GOLD\",\"SILVER\",\"BRONZE\",\"GOLD\",\"SILVER\",\"BRONZE\",\"GOLD\",\"BRONZE\",\"GOLD\",\"SILVER\",\"BRONZE\",\"SILVER\",\"GOLD\",\"BRONZE\",\"GOLD\",\"SILVER\",\"BRONZE\",\"BRONZE\",\"GOLD\",\"SILVER\",\"BRONZE\",\"BRONZE\",\"BRONZE\",\"GOLD\",\"SILVER\",\"BRONZE\",\"SILVER\",\"SILVER\",\"GOLD\",\"BRONZE\",\"BRONZE\",\"GOLD\",\"BRONZE\",\"GOLD\",\"BRONZE\",\"BRONZE\",\"GOLD\",\"SILVER\",\"BRONZE\",\"GOLD\",\"BRONZE\",\"GOLD\",\"SILVER\",\"BRONZE\",\"SILVER\",\"BRONZE\",\"BRONZE\",\"GOLD\",\"GOLD\",\"SILVER\",\"BRONZE\",\"SILVER\",\"GOLD\",\"SILVER\",\"GOLD\",\"SILVER\",\"SILVER\",\"GOLD\",\"GOLD\",\"SILVER\",\"BRONZE\",\"BRONZE\",\"BRONZE\",\"GOLD\",\"BRONZE\",\"BRONZE\",\"SILVER\",\"GOLD\",\"BRONZE\",\"BRONZE\",\"GOLD\",\"SILVER\",\"BRONZE\",\"BRONZE\",\"BRONZE\",\"BRONZE\",\"SILVER\",\"GOLD\",\"SILVER\",\"BRONZE\",\"GOLD\",\"BRONZE\",\"SILVER\",\"BRONZE\",\"SILVER\",\"BRONZE\",\"BRONZE\",\"BRONZE\",\"BRONZE\",\"SILVER\",\"SILVER\",\"BRONZE\",\"GOLD\",\"BRONZE\",\"SILVER\",\"GOLD\",\"SILVER\",\"GOLD\",\"SILVER\",\"SILVER\",\"BRONZE\",\"GOLD\",\"SILVER\",\"BRONZE\",\"GOLD\",\"SILVER\",\"BRONZE\",\"SILVER\",\"BRONZE\",\"BRONZE\",\"GOLD\",\"BRONZE\",\"SILVER\",\"BRONZE\",\"GOLD\",\"SILVER\",\"GOLD\",\"BRONZE\",\"BRONZE\",\"SILVER\",\"SILVER\",\"GOLD\",\"BRONZE\",\"SILVER\",\"BRONZE\",\"BRONZE\",\"GOLD\",\"BRONZE\",\"SILVER\",\"BRONZE\",\"BRONZE\",\"GOLD\",\"BRONZE\",\"BRONZE\",\"BRONZE\",\"GOLD\",\"GOLD\",\"SILVER\",\"BRONZE\",\"SILVER\",\"GOLD\",\"BRONZE\",\"SILVER\",\"BRONZE\",\"BRONZE\",\"SILVER\",\"BRONZE\",\"SILVER\",\"GOLD\",\"BRONZE\",\"BRONZE\",\"GOLD\",\"SILVER\",\"BRONZE\",\"SILVER\",\"BRONZE\",\"SILVER\"]]]}}},\"view\":{\"type\":\"object\",\"name\":\"CDSView\",\"id\":\"b35248c2-6969-4c10-9097-396b0027dd4d\",\"attributes\":{\"filter\":{\"type\":\"object\",\"name\":\"AllIndices\",\"id\":\"459baaca-b93a-4ace-b722-a5926302c9ea\"}}},\"glyph\":{\"type\":\"object\",\"name\":\"VBar\",\"id\":\"c8aedae8-8a80-4895-921f-28515a37a5cc\",\"attributes\":{\"tags\":[\"apply_ranges\"],\"x\":{\"type\":\"field\",\"field\":\"discipline_title\"},\"width\":{\"type\":\"value\",\"value\":0.8},\"top\":{\"type\":\"field\",\"field\":\"counts\"},\"fill_color\":{\"type\":\"field\",\"field\":\"color\",\"transform\":{\"type\":\"object\",\"name\":\"CategoricalColorMapper\",\"id\":\"9b1ebe92-1e64-4dd4-9e98-ad736bae0204\",\"attributes\":{\"palette\":[\"blue\",\"orange\",\"red\"],\"factors\":[\"GOLD\",\"SILVER\",\"BRONZE\"]}}},\"hatch_color\":{\"type\":\"field\",\"field\":\"color\",\"transform\":{\"id\":\"9b1ebe92-1e64-4dd4-9e98-ad736bae0204\"}}}},\"selection_glyph\":{\"type\":\"object\",\"name\":\"VBar\",\"id\":\"0089200d-e3f2-4dfc-9807-eeddcfec2c2a\",\"attributes\":{\"tags\":[\"apply_ranges\"],\"x\":{\"type\":\"field\",\"field\":\"discipline_title\"},\"width\":{\"type\":\"value\",\"value\":0.8},\"top\":{\"type\":\"field\",\"field\":\"counts\"},\"fill_color\":{\"type\":\"field\",\"field\":\"color\",\"transform\":{\"id\":\"9b1ebe92-1e64-4dd4-9e98-ad736bae0204\"}},\"hatch_color\":{\"type\":\"field\",\"field\":\"color\",\"transform\":{\"id\":\"9b1ebe92-1e64-4dd4-9e98-ad736bae0204\"}}}},\"nonselection_glyph\":{\"type\":\"object\",\"name\":\"VBar\",\"id\":\"2e929ed7-c96c-4077-b132-d552ee53a378\",\"attributes\":{\"tags\":[\"apply_ranges\"],\"x\":{\"type\":\"field\",\"field\":\"discipline_title\"},\"width\":{\"type\":\"value\",\"value\":0.8},\"top\":{\"type\":\"field\",\"field\":\"counts\"},\"line_alpha\":{\"type\":\"value\",\"value\":0.1},\"fill_color\":{\"type\":\"field\",\"field\":\"color\",\"transform\":{\"id\":\"9b1ebe92-1e64-4dd4-9e98-ad736bae0204\"}},\"fill_alpha\":{\"type\":\"value\",\"value\":0.1},\"hatch_color\":{\"type\":\"field\",\"field\":\"color\",\"transform\":{\"id\":\"9b1ebe92-1e64-4dd4-9e98-ad736bae0204\"}},\"hatch_alpha\":{\"type\":\"value\",\"value\":0.1}}},\"hover_glyph\":{\"type\":\"object\",\"name\":\"VBar\",\"id\":\"4d0bb953-c0dc-446b-929f-ff9bad11a216\",\"attributes\":{\"tags\":[\"apply_ranges\"],\"x\":{\"type\":\"field\",\"field\":\"discipline_title\"},\"width\":{\"type\":\"value\",\"value\":0.8},\"top\":{\"type\":\"field\",\"field\":\"counts\"},\"fill_color\":{\"type\":\"field\",\"field\":\"color\",\"transform\":{\"id\":\"9b1ebe92-1e64-4dd4-9e98-ad736bae0204\"}},\"hatch_color\":{\"type\":\"field\",\"field\":\"color\",\"transform\":{\"id\":\"9b1ebe92-1e64-4dd4-9e98-ad736bae0204\"}}}},\"muted_glyph\":{\"type\":\"object\",\"name\":\"VBar\",\"id\":\"4332344f-d125-4317-b2ce-ec2562350912\",\"attributes\":{\"tags\":[\"apply_ranges\"],\"x\":{\"type\":\"field\",\"field\":\"discipline_title\"},\"width\":{\"type\":\"value\",\"value\":0.8},\"top\":{\"type\":\"field\",\"field\":\"counts\"},\"line_alpha\":{\"type\":\"value\",\"value\":0.2},\"fill_color\":{\"type\":\"field\",\"field\":\"color\",\"transform\":{\"id\":\"9b1ebe92-1e64-4dd4-9e98-ad736bae0204\"}},\"fill_alpha\":{\"type\":\"value\",\"value\":0.2},\"hatch_color\":{\"type\":\"field\",\"field\":\"color\",\"transform\":{\"id\":\"9b1ebe92-1e64-4dd4-9e98-ad736bae0204\"}},\"hatch_alpha\":{\"type\":\"value\",\"value\":0.2}}}}}],\"toolbar\":{\"type\":\"object\",\"name\":\"Toolbar\",\"id\":\"4ff84b6f-3f02-4cda-a5c2-9fbdcfb71759\",\"attributes\":{\"tools\":[{\"type\":\"object\",\"name\":\"HoverTool\",\"id\":\"35fcdb25-6ecd-430b-ba84-d9458815f52e\",\"attributes\":{\"tags\":[\"hv_created\"],\"renderers\":[{\"id\":\"a7de3acd-f0a6-4e44-9179-2d5f86dcb0ba\"}],\"tooltips\":[[\"discipline_title\",\"@{discipline_title}\"],[\"counts\",\"@{counts}\"],[\"medal_type\",\"@{medal_type}\"]]}},{\"type\":\"object\",\"name\":\"SaveTool\",\"id\":\"ec3c4523-3791-4c24-8cdf-eabab93245e0\"},{\"type\":\"object\",\"name\":\"PanTool\",\"id\":\"adbcc0af-4649-4ce4-bdcf-e066376b2325\"},{\"type\":\"object\",\"name\":\"WheelZoomTool\",\"id\":\"b2ec6e61-019b-4220-b276-d8e807dd8c6d\"},{\"type\":\"object\",\"name\":\"BoxZoomTool\",\"id\":\"d16535b5-2105-4ae5-a957-6bdee95c7164\",\"attributes\":{\"overlay\":{\"type\":\"object\",\"name\":\"BoxAnnotation\",\"id\":\"a00c63c2-a930-4073-a9a2-ad7376f3112a\",\"attributes\":{\"syncable\":false,\"level\":\"overlay\",\"visible\":false,\"left_units\":\"canvas\",\"right_units\":\"canvas\",\"bottom_units\":\"canvas\",\"top_units\":\"canvas\",\"line_color\":\"black\",\"line_alpha\":1.0,\"line_width\":2,\"line_dash\":[4,4],\"fill_color\":\"lightgrey\",\"fill_alpha\":0.5}}}},{\"type\":\"object\",\"name\":\"ResetTool\",\"id\":\"2f361e5e-0e9d-49d3-a6c1-b641f7ad9ec6\"}],\"active_drag\":{\"id\":\"adbcc0af-4649-4ce4-bdcf-e066376b2325\"},\"active_scroll\":{\"id\":\"b2ec6e61-019b-4220-b276-d8e807dd8c6d\"}}},\"left\":[{\"type\":\"object\",\"name\":\"LinearAxis\",\"id\":\"a13efd31-bd6d-4862-b6bb-c94f50e02bf7\",\"attributes\":{\"ticker\":{\"type\":\"object\",\"name\":\"BasicTicker\",\"id\":\"9c8334f9-db19-411e-bd0a-865e3e8ff72a\",\"attributes\":{\"mantissas\":[1,2,5]}},\"formatter\":{\"type\":\"object\",\"name\":\"BasicTickFormatter\",\"id\":\"96179f21-5dca-41e5-ab0e-a48819a18e1b\"},\"axis_label\":\"counts\",\"major_label_policy\":{\"type\":\"object\",\"name\":\"AllLabels\",\"id\":\"3dd64463-ba30-4440-ad39-9fff8a967ef2\"}}}],\"right\":[{\"type\":\"object\",\"name\":\"Legend\",\"id\":\"78c18c9f-bb50-42c5-bbd6-ade7d150fdef\",\"attributes\":{\"location\":[0,0],\"items\":[{\"type\":\"object\",\"name\":\"LegendItem\",\"id\":\"d7784635-be3b-406b-9a55-4d39aa8bb4ef\",\"attributes\":{\"label\":{\"type\":\"field\",\"field\":\"color\"},\"renderers\":[{\"id\":\"a7de3acd-f0a6-4e44-9179-2d5f86dcb0ba\"}]}}]}}],\"below\":[{\"type\":\"object\",\"name\":\"CategoricalAxis\",\"id\":\"62cff580-a723-43a2-8a90-4490d79f3c05\",\"attributes\":{\"ticker\":{\"type\":\"object\",\"name\":\"CategoricalTicker\",\"id\":\"3faff6aa-8031-4f33-9cbe-2013e9530abb\"},\"formatter\":{\"type\":\"object\",\"name\":\"CategoricalTickFormatter\",\"id\":\"6ee884bb-e08a-4c75-b413-24d302253d5d\"},\"axis_label\":\"discipline_title\",\"major_label_policy\":{\"type\":\"object\",\"name\":\"AllLabels\",\"id\":\"d20dbf01-6d8e-4c7e-9864-ac9f4e2f1199\"}}}],\"center\":[{\"type\":\"object\",\"name\":\"Grid\",\"id\":\"be9b9882-f7e1-4c4e-b7f8-273c3e05058e\",\"attributes\":{\"axis\":{\"id\":\"62cff580-a723-43a2-8a90-4490d79f3c05\"},\"grid_line_color\":null}},{\"type\":\"object\",\"name\":\"Grid\",\"id\":\"532e1edf-bf3d-4bdd-886f-f83729aeff8c\",\"attributes\":{\"dimension\":1,\"axis\":{\"id\":\"a13efd31-bd6d-4862-b6bb-c94f50e02bf7\"},\"grid_line_color\":null}},{\"id\":\"78c18c9f-bb50-42c5-bbd6-ade7d150fdef\"}],\"min_border_top\":10,\"min_border_bottom\":10,\"min_border_left\":10,\"min_border_right\":10,\"output_backend\":\"webgl\"}}]}}]}},{\"type\":\"object\",\"name\":\"panel.models.comm_manager.CommManager\",\"id\":\"84a7d8dd-6723-4853-aa73-175622b40110\",\"attributes\":{\"plot_id\":\"726f5715-8bbb-4b4d-97c2-c5a71f7536e7\",\"comm_id\":\"079149b2b9f14ccdb53bfa26529d96fe\",\"client_comm_id\":\"882a885c74b84444b8d3d0522df809e6\"}}],\"defs\":[{\"type\":\"model\",\"name\":\"ReactiveHTML1\"},{\"type\":\"model\",\"name\":\"FlexBox1\",\"properties\":[{\"name\":\"align_content\",\"kind\":\"Any\",\"default\":\"flex-start\"},{\"name\":\"align_items\",\"kind\":\"Any\",\"default\":\"flex-start\"},{\"name\":\"flex_direction\",\"kind\":\"Any\",\"default\":\"row\"},{\"name\":\"flex_wrap\",\"kind\":\"Any\",\"default\":\"wrap\"},{\"name\":\"justify_content\",\"kind\":\"Any\",\"default\":\"flex-start\"}]},{\"type\":\"model\",\"name\":\"FloatPanel1\",\"properties\":[{\"name\":\"config\",\"kind\":\"Any\",\"default\":{\"type\":\"map\"}},{\"name\":\"contained\",\"kind\":\"Any\",\"default\":true},{\"name\":\"position\",\"kind\":\"Any\",\"default\":\"right-top\"},{\"name\":\"offsetx\",\"kind\":\"Any\",\"default\":null},{\"name\":\"offsety\",\"kind\":\"Any\",\"default\":null},{\"name\":\"theme\",\"kind\":\"Any\",\"default\":\"primary\"},{\"name\":\"status\",\"kind\":\"Any\",\"default\":\"normalized\"}]},{\"type\":\"model\",\"name\":\"GridStack1\",\"properties\":[{\"name\":\"mode\",\"kind\":\"Any\",\"default\":\"warn\"},{\"name\":\"ncols\",\"kind\":\"Any\",\"default\":null},{\"name\":\"nrows\",\"kind\":\"Any\",\"default\":null},{\"name\":\"allow_resize\",\"kind\":\"Any\",\"default\":true},{\"name\":\"allow_drag\",\"kind\":\"Any\",\"default\":true},{\"name\":\"state\",\"kind\":\"Any\",\"default\":[]}]},{\"type\":\"model\",\"name\":\"drag1\",\"properties\":[{\"name\":\"slider_width\",\"kind\":\"Any\",\"default\":5},{\"name\":\"slider_color\",\"kind\":\"Any\",\"default\":\"black\"},{\"name\":\"value\",\"kind\":\"Any\",\"default\":50}]},{\"type\":\"model\",\"name\":\"click1\",\"properties\":[{\"name\":\"terminal_output\",\"kind\":\"Any\",\"default\":\"\"},{\"name\":\"debug_name\",\"kind\":\"Any\",\"default\":\"\"},{\"name\":\"clears\",\"kind\":\"Any\",\"default\":0}]},{\"type\":\"model\",\"name\":\"FastWrapper1\",\"properties\":[{\"name\":\"object\",\"kind\":\"Any\",\"default\":null},{\"name\":\"style\",\"kind\":\"Any\",\"default\":null}]},{\"type\":\"model\",\"name\":\"NotificationAreaBase1\",\"properties\":[{\"name\":\"position\",\"kind\":\"Any\",\"default\":\"bottom-right\"},{\"name\":\"_clear\",\"kind\":\"Any\",\"default\":0}]},{\"type\":\"model\",\"name\":\"NotificationArea1\",\"properties\":[{\"name\":\"notifications\",\"kind\":\"Any\",\"default\":[]},{\"name\":\"position\",\"kind\":\"Any\",\"default\":\"bottom-right\"},{\"name\":\"_clear\",\"kind\":\"Any\",\"default\":0},{\"name\":\"types\",\"kind\":\"Any\",\"default\":[{\"type\":\"map\",\"entries\":[[\"type\",\"warning\"],[\"background\",\"#ffc107\"],[\"icon\",{\"type\":\"map\",\"entries\":[[\"className\",\"fas fa-exclamation-triangle\"],[\"tagName\",\"i\"],[\"color\",\"white\"]]}]]},{\"type\":\"map\",\"entries\":[[\"type\",\"info\"],[\"background\",\"#007bff\"],[\"icon\",{\"type\":\"map\",\"entries\":[[\"className\",\"fas fa-info-circle\"],[\"tagName\",\"i\"],[\"color\",\"white\"]]}]]}]}]},{\"type\":\"model\",\"name\":\"Notification\",\"properties\":[{\"name\":\"background\",\"kind\":\"Any\",\"default\":null},{\"name\":\"duration\",\"kind\":\"Any\",\"default\":3000},{\"name\":\"icon\",\"kind\":\"Any\",\"default\":null},{\"name\":\"message\",\"kind\":\"Any\",\"default\":\"\"},{\"name\":\"notification_type\",\"kind\":\"Any\",\"default\":null},{\"name\":\"_destroyed\",\"kind\":\"Any\",\"default\":false}]},{\"type\":\"model\",\"name\":\"TemplateActions1\",\"properties\":[{\"name\":\"open_modal\",\"kind\":\"Any\",\"default\":0},{\"name\":\"close_modal\",\"kind\":\"Any\",\"default\":0}]},{\"type\":\"model\",\"name\":\"BootstrapTemplateActions1\",\"properties\":[{\"name\":\"open_modal\",\"kind\":\"Any\",\"default\":0},{\"name\":\"close_modal\",\"kind\":\"Any\",\"default\":0}]},{\"type\":\"model\",\"name\":\"MaterialTemplateActions1\",\"properties\":[{\"name\":\"open_modal\",\"kind\":\"Any\",\"default\":0},{\"name\":\"close_modal\",\"kind\":\"Any\",\"default\":0}]}]}};\n",
       "  var render_items = [{\"docid\":\"aa5f231d-9cf1-4317-9188-ee696688fa9a\",\"roots\":{\"726f5715-8bbb-4b4d-97c2-c5a71f7536e7\":\"e1ef676d-d0fe-4328-851b-44159333a575\"},\"root_ids\":[\"726f5715-8bbb-4b4d-97c2-c5a71f7536e7\"]}];\n",
       "  var docs = Object.values(docs_json)\n",
       "  if (!docs) {\n",
       "    return\n",
       "  }\n",
       "  const py_version = docs[0].version.replace('rc', '-rc.').replace('.dev', '-dev.')\n",
       "  const is_dev = py_version.indexOf(\"+\") !== -1 || py_version.indexOf(\"-\") !== -1\n",
       "  function embed_document(root) {\n",
       "    var Bokeh = get_bokeh(root)\n",
       "    Bokeh.embed.embed_items_notebook(docs_json, render_items);\n",
       "    for (const render_item of render_items) {\n",
       "      for (const root_id of render_item.root_ids) {\n",
       "\tconst id_el = document.getElementById(root_id)\n",
       "\tif (id_el.children.length && (id_el.children[0].className === 'bk-root')) {\n",
       "\t  const root_el = id_el.children[0]\n",
       "\t  root_el.id = root_el.id + '-rendered'\n",
       "\t}\n",
       "      }\n",
       "    }\n",
       "  }\n",
       "  function get_bokeh(root) {\n",
       "    if (root.Bokeh === undefined) {\n",
       "      return null\n",
       "    } else if (root.Bokeh.version !== py_version && !is_dev) {\n",
       "      if (root.Bokeh.versions === undefined || !root.Bokeh.versions.has(py_version)) {\n",
       "\treturn null\n",
       "      }\n",
       "      return root.Bokeh.versions.get(py_version);\n",
       "    } else if (root.Bokeh.version === py_version) {\n",
       "      return root.Bokeh\n",
       "    }\n",
       "    return null\n",
       "  }\n",
       "  function is_loaded(root) {\n",
       "    var Bokeh = get_bokeh(root)\n",
       "    return (Bokeh != null && Bokeh.Panel !== undefined && ( root['Tabulator'] !== undefined) && ( root['Tabulator'] !== undefined) && ( root['Tabulator'] !== undefined))\n",
       "  }\n",
       "  if (is_loaded(root)) {\n",
       "    embed_document(root);\n",
       "  } else {\n",
       "    var attempts = 0;\n",
       "    var timer = setInterval(function(root) {\n",
       "      if (is_loaded(root)) {\n",
       "        clearInterval(timer);\n",
       "        embed_document(root);\n",
       "      } else if (document.readyState == \"complete\") {\n",
       "        attempts++;\n",
       "        if (attempts > 200) {\n",
       "          clearInterval(timer);\n",
       "\t  var Bokeh = get_bokeh(root)\n",
       "\t  if (Bokeh == null || Bokeh.Panel == null) {\n",
       "            console.warn(\"Panel: ERROR: Unable to run Panel code because Bokeh or Panel library is missing\");\n",
       "\t  } else {\n",
       "\t    console.warn(\"Panel: WARNING: Attempting to render but not all required libraries could be resolved.\")\n",
       "\t    embed_document(root)\n",
       "\t  }\n",
       "        }\n",
       "      }\n",
       "    }, 25, root)\n",
       "  }\n",
       "})(window);</script>"
      ],
      "text/plain": [
       "<hvplot.interactive.Interactive at 0x2075ad86c10>"
      ]
     },
     "execution_count": 284,
     "metadata": {
      "application/vnd.holoviews_exec.v0+json": {
       "id": "726f5715-8bbb-4b4d-97c2-c5a71f7536e7"
      }
     },
     "output_type": "execute_result"
    }
   ],
   "source": [
    "#TODO: choose year and country\n",
    "#fig = px.histogram(disc_df, x=\"discipline_title\", y=\"counts\", color=\"medal_type\")\n",
    "\n",
    "#fig.show()\n",
    "\n",
    "\n",
    "country = list(df.country_name.unique())\n",
    "#discipline = list(df.discipline_title.unique())\n",
    "\n",
    "country_widget = pn.widgets.Select(name=\"country_name\", options=country)\n",
    "#discipline_widget = pn.widgets.Select(name=\"discipline_title\", options=discipline)\n",
    "\n",
    "idf = disc_dfx.interactive()\n",
    "idf = idf[(idf[\"country_name\"] == country_widget)] #& (idf[\"discipline_title\"] == discipline_widget)\n",
    "idf.head()\n",
    "idf.hvplot(kind=\"bar\", x=\"discipline_title\", y=\"counts\", color = \"medal_type\", cmap=['blue', 'orange', 'red'])\n"
   ]
  },
  {
   "cell_type": "markdown",
   "id": "11746c88-8d9e-48e0-81b0-65f77a076efb",
   "metadata": {},
   "source": [
    "#Visualization 4"
   ]
  },
  {
   "cell_type": "code",
   "execution_count": null,
   "id": "f45ffc87-e33e-4a01-8bd4-31f63c04d9d6",
   "metadata": {},
   "outputs": [],
   "source": []
  },
  {
   "cell_type": "markdown",
   "id": "9976b41f-0312-43bf-a4a6-90e49e6e416d",
   "metadata": {},
   "source": [
    "##3.visualization"
   ]
  },
  {
   "cell_type": "code",
   "execution_count": null,
   "id": "07d811b3-46af-41af-b546-966e0bda960b",
   "metadata": {},
   "outputs": [],
   "source": []
  },
  {
   "cell_type": "code",
   "execution_count": 295,
   "id": "1416467d-fe54-4da3-8f32-c778dbe1408d",
   "metadata": {},
   "outputs": [
    {
     "data": {},
     "metadata": {},
     "output_type": "display_data"
    },
    {
     "data": {},
     "metadata": {},
     "output_type": "display_data"
    },
    {
     "data": {
      "application/vnd.holoviews_exec.v0+json": "",
      "text/html": [
       "<div id='49a61678-873d-4098-a3ce-dab5a2b09325'>\n",
       "  <div id=\"ee7411c7-3ea8-429a-857e-11166d09d7f8\" data-root-id=\"49a61678-873d-4098-a3ce-dab5a2b09325\" style=\"display: contents;\"></div>\n",
       "</div>\n",
       "<script type=\"application/javascript\">(function(root) {\n",
       "  var docs_json = {\"2aaf0935-234a-474f-aa64-5a6d1675bccc\":{\"version\":\"3.2.1\",\"title\":\"Bokeh Application\",\"roots\":[{\"type\":\"object\",\"name\":\"Row\",\"id\":\"49a61678-873d-4098-a3ce-dab5a2b09325\",\"attributes\":{\"name\":\"Row25263\",\"stylesheets\":[\"\\n:host(.pn-loading.pn-arc):before, .pn-loading.pn-arc:before {\\n  background-image: url(\\\"data:image/svg+xml;base64,PHN2ZyB4bWxucz0iaHR0cDovL3d3dy53My5vcmcvMjAwMC9zdmciIHN0eWxlPSJtYXJnaW46IGF1dG87IGJhY2tncm91bmQ6IG5vbmU7IGRpc3BsYXk6IGJsb2NrOyBzaGFwZS1yZW5kZXJpbmc6IGF1dG87IiB2aWV3Qm94PSIwIDAgMTAwIDEwMCIgcHJlc2VydmVBc3BlY3RSYXRpbz0ieE1pZFlNaWQiPiAgPGNpcmNsZSBjeD0iNTAiIGN5PSI1MCIgZmlsbD0ibm9uZSIgc3Ryb2tlPSIjYzNjM2MzIiBzdHJva2Utd2lkdGg9IjEwIiByPSIzNSIgc3Ryb2tlLWRhc2hhcnJheT0iMTY0LjkzMzYxNDMxMzQ2NDE1IDU2Ljk3Nzg3MTQzNzgyMTM4Ij4gICAgPGFuaW1hdGVUcmFuc2Zvcm0gYXR0cmlidXRlTmFtZT0idHJhbnNmb3JtIiB0eXBlPSJyb3RhdGUiIHJlcGVhdENvdW50PSJpbmRlZmluaXRlIiBkdXI9IjFzIiB2YWx1ZXM9IjAgNTAgNTA7MzYwIDUwIDUwIiBrZXlUaW1lcz0iMDsxIj48L2FuaW1hdGVUcmFuc2Zvcm0+ICA8L2NpcmNsZT48L3N2Zz4=\\\");\\n  background-size: auto calc(min(50%, 400px));\\n}\",{\"type\":\"object\",\"name\":\"ImportedStyleSheet\",\"id\":\"c261d337-8775-490d-bdf2-b9ff4b670d91\",\"attributes\":{\"url\":\"https://cdn.holoviz.org/panel/1.2.0/dist/css/loading.css\"}},{\"type\":\"object\",\"name\":\"ImportedStyleSheet\",\"id\":\"1e48bf10-da9a-4909-93ec-720b9c0b7caf\",\"attributes\":{\"url\":\"https://cdn.holoviz.org/panel/1.2.0/dist/css/listpanel.css\"}},{\"type\":\"object\",\"name\":\"ImportedStyleSheet\",\"id\":\"c5de1c8d-1f4c-4fcc-9bc8-53a7f00fc2d0\",\"attributes\":{\"url\":\"https://cdn.holoviz.org/panel/1.2.0/dist/bundled/theme/default.css\"}},{\"type\":\"object\",\"name\":\"ImportedStyleSheet\",\"id\":\"e325b382-b987-44aa-baa2-201ebde6548e\",\"attributes\":{\"url\":\"https://cdn.holoviz.org/panel/1.2.0/dist/bundled/theme/native.css\"}}],\"margin\":0,\"align\":\"start\",\"children\":[{\"type\":\"object\",\"name\":\"Column\",\"id\":\"0fc3b62b-cf48-4168-a7d8-c9a41817dd67\",\"attributes\":{\"name\":\"Column25260\",\"stylesheets\":[\"\\n:host(.pn-loading.pn-arc):before, .pn-loading.pn-arc:before {\\n  background-image: url(\\\"data:image/svg+xml;base64,PHN2ZyB4bWxucz0iaHR0cDovL3d3dy53My5vcmcvMjAwMC9zdmciIHN0eWxlPSJtYXJnaW46IGF1dG87IGJhY2tncm91bmQ6IG5vbmU7IGRpc3BsYXk6IGJsb2NrOyBzaGFwZS1yZW5kZXJpbmc6IGF1dG87IiB2aWV3Qm94PSIwIDAgMTAwIDEwMCIgcHJlc2VydmVBc3BlY3RSYXRpbz0ieE1pZFlNaWQiPiAgPGNpcmNsZSBjeD0iNTAiIGN5PSI1MCIgZmlsbD0ibm9uZSIgc3Ryb2tlPSIjYzNjM2MzIiBzdHJva2Utd2lkdGg9IjEwIiByPSIzNSIgc3Ryb2tlLWRhc2hhcnJheT0iMTY0LjkzMzYxNDMxMzQ2NDE1IDU2Ljk3Nzg3MTQzNzgyMTM4Ij4gICAgPGFuaW1hdGVUcmFuc2Zvcm0gYXR0cmlidXRlTmFtZT0idHJhbnNmb3JtIiB0eXBlPSJyb3RhdGUiIHJlcGVhdENvdW50PSJpbmRlZmluaXRlIiBkdXI9IjFzIiB2YWx1ZXM9IjAgNTAgNTA7MzYwIDUwIDUwIiBrZXlUaW1lcz0iMDsxIj48L2FuaW1hdGVUcmFuc2Zvcm0+ICA8L2NpcmNsZT48L3N2Zz4=\\\");\\n  background-size: auto calc(min(50%, 400px));\\n}\",{\"id\":\"c261d337-8775-490d-bdf2-b9ff4b670d91\"},{\"id\":\"1e48bf10-da9a-4909-93ec-720b9c0b7caf\"},{\"id\":\"c5de1c8d-1f4c-4fcc-9bc8-53a7f00fc2d0\"},{\"id\":\"e325b382-b987-44aa-baa2-201ebde6548e\"}],\"margin\":0,\"align\":\"start\",\"children\":[{\"type\":\"object\",\"name\":\"Column\",\"id\":\"47c63809-8f06-4453-bc13-884279bd050f\",\"attributes\":{\"name\":\"Column25243\",\"stylesheets\":[\"\\n:host(.pn-loading.pn-arc):before, .pn-loading.pn-arc:before {\\n  background-image: url(\\\"data:image/svg+xml;base64,PHN2ZyB4bWxucz0iaHR0cDovL3d3dy53My5vcmcvMjAwMC9zdmciIHN0eWxlPSJtYXJnaW46IGF1dG87IGJhY2tncm91bmQ6IG5vbmU7IGRpc3BsYXk6IGJsb2NrOyBzaGFwZS1yZW5kZXJpbmc6IGF1dG87IiB2aWV3Qm94PSIwIDAgMTAwIDEwMCIgcHJlc2VydmVBc3BlY3RSYXRpbz0ieE1pZFlNaWQiPiAgPGNpcmNsZSBjeD0iNTAiIGN5PSI1MCIgZmlsbD0ibm9uZSIgc3Ryb2tlPSIjYzNjM2MzIiBzdHJva2Utd2lkdGg9IjEwIiByPSIzNSIgc3Ryb2tlLWRhc2hhcnJheT0iMTY0LjkzMzYxNDMxMzQ2NDE1IDU2Ljk3Nzg3MTQzNzgyMTM4Ij4gICAgPGFuaW1hdGVUcmFuc2Zvcm0gYXR0cmlidXRlTmFtZT0idHJhbnNmb3JtIiB0eXBlPSJyb3RhdGUiIHJlcGVhdENvdW50PSJpbmRlZmluaXRlIiBkdXI9IjFzIiB2YWx1ZXM9IjAgNTAgNTA7MzYwIDUwIDUwIiBrZXlUaW1lcz0iMDsxIj48L2FuaW1hdGVUcmFuc2Zvcm0+ICA8L2NpcmNsZT48L3N2Zz4=\\\");\\n  background-size: auto calc(min(50%, 400px));\\n}\",{\"id\":\"c261d337-8775-490d-bdf2-b9ff4b670d91\"},{\"id\":\"1e48bf10-da9a-4909-93ec-720b9c0b7caf\"},{\"id\":\"c5de1c8d-1f4c-4fcc-9bc8-53a7f00fc2d0\"},{\"id\":\"e325b382-b987-44aa-baa2-201ebde6548e\"}],\"margin\":0,\"align\":\"start\",\"children\":[{\"type\":\"object\",\"name\":\"panel.models.widgets.CustomSelect\",\"id\":\"bc663009-843c-4b07-867f-3754cfc89932\",\"attributes\":{\"stylesheets\":[\"\\n:host(.pn-loading.pn-arc):before, .pn-loading.pn-arc:before {\\n  background-image: url(\\\"data:image/svg+xml;base64,PHN2ZyB4bWxucz0iaHR0cDovL3d3dy53My5vcmcvMjAwMC9zdmciIHN0eWxlPSJtYXJnaW46IGF1dG87IGJhY2tncm91bmQ6IG5vbmU7IGRpc3BsYXk6IGJsb2NrOyBzaGFwZS1yZW5kZXJpbmc6IGF1dG87IiB2aWV3Qm94PSIwIDAgMTAwIDEwMCIgcHJlc2VydmVBc3BlY3RSYXRpbz0ieE1pZFlNaWQiPiAgPGNpcmNsZSBjeD0iNTAiIGN5PSI1MCIgZmlsbD0ibm9uZSIgc3Ryb2tlPSIjYzNjM2MzIiBzdHJva2Utd2lkdGg9IjEwIiByPSIzNSIgc3Ryb2tlLWRhc2hhcnJheT0iMTY0LjkzMzYxNDMxMzQ2NDE1IDU2Ljk3Nzg3MTQzNzgyMTM4Ij4gICAgPGFuaW1hdGVUcmFuc2Zvcm0gYXR0cmlidXRlTmFtZT0idHJhbnNmb3JtIiB0eXBlPSJyb3RhdGUiIHJlcGVhdENvdW50PSJpbmRlZmluaXRlIiBkdXI9IjFzIiB2YWx1ZXM9IjAgNTAgNTA7MzYwIDUwIDUwIiBrZXlUaW1lcz0iMDsxIj48L2FuaW1hdGVUcmFuc2Zvcm0+ICA8L2NpcmNsZT48L3N2Zz4=\\\");\\n  background-size: auto calc(min(50%, 400px));\\n}\",{\"id\":\"c261d337-8775-490d-bdf2-b9ff4b670d91\"},{\"type\":\"object\",\"name\":\"ImportedStyleSheet\",\"id\":\"a1272386-11af-47e2-868d-6fc82aea94e5\",\"attributes\":{\"url\":\"https://cdn.holoviz.org/panel/1.2.0/dist/css/select.css\"}},{\"id\":\"c5de1c8d-1f4c-4fcc-9bc8-53a7f00fc2d0\"},{\"id\":\"e325b382-b987-44aa-baa2-201ebde6548e\"}],\"width\":300,\"min_width\":300,\"margin\":[5,10],\"align\":\"start\",\"title\":\"country_name\",\"options\":[\"Italy\",\"Norway\",\"Sweden\",\"Great Britain\",\"Canada\",\"Czech Republic\",\"Switzerland\",\"United States of America\",\"People's Republic of China\",\"Australia\",\"Japan\",\"Republic of Korea\",\"Denmark\",\"ROC\",\"Finland\",\"Kazakhstan\",\"France\",\"New Zealand\",\"Ireland\",\"Austria\",\"Spain\",\"Germany\",\"Estonia\",\"Chile\",\"Brazil\",\"Belarus\",\"Ukraine\",\"Netherlands\",\"Hungary\",\"Croatia\",\"Poland\",\"Belgium\",\"Latvia\",\"Hong Kong, China\",\"Israel\",\"Turkey\",\"Malta\",\"Andorra\",\"Slovenia\",\"Bulgaria\",\"Slovakia\",\"Romania\",\"Georgia\",\"Armenia\",\"Lithuania\",\"Azerbaijan\",\"Mexico\",\"Bosnia and Herzegovina\",\"Republic of Moldova\",\"Argentina\",\"Chinese Taipei\",\"Puerto Rico\",\"Kyrgyzstan\",\"Colombia\",\"India\",\"Portugal\",\"San Marino\",\"Philippines\",\"Lebanon\",\"Uzbekistan\",\"Albania\",\"Montenegro\",\"Greece\",\"Kosovo\",\"Luxembourg\",\"Madagascar\",\"Cyprus\",\"Malaysia\",\"Haiti\",\"Thailand\",\"Pakistan\",\"Democratic Republic of Timor-Leste\",\"Iceland\",\"Monaco\",\"Serbia\",\"Liechtenstein\",\"Bolivia\",\"Morocco\",\"Ghana\",\"Jamaica\",\"Eritrea\",\"Saudi Arabia\",\"Peru\",\"Ecuador\",\"Islamic Republic of Iran\",\"Virgin Islands, US\",\"American Samoa\",\"Mongolia\",\"North Macedonia\",\"Nigeria\",\"Trinidad and Tobago\",\"Egypt\",\"Indonesia\",\"Cuba\",\"Oman\",\"Venezuela\",\"Bangladesh\",\"Afghanistan\",\"Singapore\",\"Bhutan\",\"Algeria\",\"Sri Lanka\",\"Nepal\",\"Refugee Olympic Team\",\"Qatar\",\"Kuwait\",\"Bahrain\",\"Senegal\",\"Guatemala\",\"Iraq\",\"Jordan\",\"Yemen\",\"Tunisia\",\"Aruba\",\"Myanmar\",\"Vietnam\",\"Nicaragua\",\"United Arab Emirates\",\"Dominican Republic\",\"South Africa\",\"Sao Tome and Principe\",\"Samoa\",\"Cook Islands\",\"Mozambique\",\"Belize\",\"Ethiopia\",\"Costa Rica\",\"Paraguay\",\"Namibia\",\"Rwanda\",\"Burkina Faso\",\"Panama\",\"Zambia\",\"C\\u00f4te d'Ivoire\",\"Honduras\",\"Mauritius\",\"Eswatini\",\"Uganda\",\"Cameroon\",\"Democratic Republic of the Congo\",\"Tajikistan\",\"Kenya\",\"Guyana\",\"Burundi\",\"Botswana\",\"Cape Verde\",\"Somalia\",\"El Salvador\",\"Antigua and Barbuda\",\"Papua New Guinea\",\"Angola\",\"Fiji\",\"Bermuda\",\"Syrian Arab Republic\",\"Vanuatu\",\"Togo\",\"Mali\",\"Gabon\",\"Niger\",\"Tonga\",\"Suriname\",\"Maldives\",\"Guinea-Bissau\",\"Guam\",\"Guinea\",\"Zimbabwe\",\"Chad\",\"Kiribati\",\"Comoros\",\"Uruguay\",\"Sierra Leone\",\"Palestine\",\"Sudan\",\"Djibouti\",\"Gambia\",\"Malawi\",\"Libya\",\"Benin\",\"Seychelles\",\"Lao People's Democratic Republic\",\"Turkmenistan\",\"Solomon Islands\",\"Nauru\",\"Virgin Islands, British\",\"Lesotho\",\"United Republic of Tanzania\",\"Liberia\",\"Bahamas\",\"Dominica\",\"Grenada\",\"Saint Lucia\",\"Olympic Athletes from Russia\",\"Democratic People's Republic of Korea\",\"The Former Yugoslav Republic of Macedonia\",\"Korea Team\",\"Russian Federation\",\"Ivory Coast\",\"Independent Olympic Athletes\",\"Barbados\",\"Cambodia\",\"Equatorial Guinea\",\"Congo\",\"South Sudan\",\"Refugee Olympic Athletes\",\"Marshall Islands\",\"Palau\",\"US Virgin Islands\",\"Federated States of Micronesia\",\"Central African Republic\",\"Cayman Islands\",\"Brunei\",\"Saint Vincent and the Grenadines\",\"British Virgin Islands\",\"Swaziland\",\"Saint Kitts and Nevis\",\"Tuvalu\",\"Netherlands Antilles\",\"Serbia and Montenegro\",\"Unified Team\",\"Czechoslovakia\",\"Mauritania\",\"Yugoslavia\",\"Soviet Union\",\"Federal Republic of Germany\",\"German Democratic Republic (Germany)\",\"Yemen Arab Republic\",\"Yemen Democratic Republic\",\"South Vietnam\",\"Rhodesia\",\"United Arab Republic\",\"Malaya\",\"West Indies Federation\",\"North Borneo\",\"Saar\",\"MIX\",\"Australasia\",\"Bohemia\",\"Newfoundland\"],\"value\":\"Switzerland\"}},{\"type\":\"object\",\"name\":\"panel.models.widgets.CustomSelect\",\"id\":\"48abdf26-bba5-4e8e-8ce7-570c1b20ebb9\",\"attributes\":{\"stylesheets\":[\"\\n:host(.pn-loading.pn-arc):before, .pn-loading.pn-arc:before {\\n  background-image: url(\\\"data:image/svg+xml;base64,PHN2ZyB4bWxucz0iaHR0cDovL3d3dy53My5vcmcvMjAwMC9zdmciIHN0eWxlPSJtYXJnaW46IGF1dG87IGJhY2tncm91bmQ6IG5vbmU7IGRpc3BsYXk6IGJsb2NrOyBzaGFwZS1yZW5kZXJpbmc6IGF1dG87IiB2aWV3Qm94PSIwIDAgMTAwIDEwMCIgcHJlc2VydmVBc3BlY3RSYXRpbz0ieE1pZFlNaWQiPiAgPGNpcmNsZSBjeD0iNTAiIGN5PSI1MCIgZmlsbD0ibm9uZSIgc3Ryb2tlPSIjYzNjM2MzIiBzdHJva2Utd2lkdGg9IjEwIiByPSIzNSIgc3Ryb2tlLWRhc2hhcnJheT0iMTY0LjkzMzYxNDMxMzQ2NDE1IDU2Ljk3Nzg3MTQzNzgyMTM4Ij4gICAgPGFuaW1hdGVUcmFuc2Zvcm0gYXR0cmlidXRlTmFtZT0idHJhbnNmb3JtIiB0eXBlPSJyb3RhdGUiIHJlcGVhdENvdW50PSJpbmRlZmluaXRlIiBkdXI9IjFzIiB2YWx1ZXM9IjAgNTAgNTA7MzYwIDUwIDUwIiBrZXlUaW1lcz0iMDsxIj48L2FuaW1hdGVUcmFuc2Zvcm0+ICA8L2NpcmNsZT48L3N2Zz4=\\\");\\n  background-size: auto calc(min(50%, 400px));\\n}\",{\"id\":\"c261d337-8775-490d-bdf2-b9ff4b670d91\"},{\"id\":\"a1272386-11af-47e2-868d-6fc82aea94e5\"},{\"id\":\"c5de1c8d-1f4c-4fcc-9bc8-53a7f00fc2d0\"},{\"id\":\"e325b382-b987-44aa-baa2-201ebde6548e\"}],\"width\":300,\"min_width\":300,\"margin\":[5,10],\"align\":\"start\",\"title\":\"discipline_title\",\"options\":[\"Curling\",\"Freestyle Skiing\",\"Short Track Speed Skating\",\"Snowboard\",\"Ski Jumping\",\"Figure skating\",\"Luge\",\"Ice Hockey\",\"Biathlon\",\"Alpine Skiing\",\"Skeleton\",\"Cross Country Skiing\",\"Speed skating\",\"Nordic Combined\",\"Bobsleigh\",\"Shooting\",\"Diving\",\"Canoe Sprint\",\"Cycling Road\",\"Football\",\"Boxing\",\"Artistic Swimming\",\"Handball\",\"Rugby Sevens\",\"Cycling BMX Racing\",\"Triathlon\",\"Surfing\",\"Table Tennis\",\"Canoe Slalom\",\"Marathon Swimming\",\"Trampoline Gymnastics\",\"Volleyball\",\"Basketball\",\"Taekwondo\",\"Cycling Track\",\"Fencing\",\"Badminton\",\"Water Polo\",\"Sport Climbing\",\"Wrestling\",\"Tennis\",\"Artistic Gymnastics\",\"Golf\",\"Cycling BMX Freestyle\",\"Judo\",\"Skateboarding\",\"Archery\",\"Weightlifting\",\"Baseball/Softball\",\"Equestrian\",\"Modern Pentathlon\",\"Athletics\",\"Swimming\",\"Sailing\",\"Cycling Mountain Bike\",\"Rowing\",\"Karate\",\"3x3 Basketball\",\"Rhythmic Gymnastics\",\"Hockey\",\"Beach Volleyball\",\"Short Track\",\"Cycling BMX\",\"Rugby\",\"Gymnastics Rhythmic\",\"Equestrian Jumping\",\"Gymnastics Artistic\",\"Synchronized Swimming\",\"Trampoline\",\"Equestrian Eventing\",\"Equestrian Dressage\",\"Baseball\",\"Softball\",\"Canoe Marathon\",\"Polo\",\"Military Patrol\",\"Tug of War\",\"Equestrian  Vaulting\",\"Jeu de Paume\",\"Water Motorsports\",\"Lacrosse\",\"Rackets\",\"Roque\",\"Cricket\",\"Croquet\",\"Basque Pelota\"],\"value\":\"Curling\"}}]}},{\"type\":\"object\",\"name\":\"Figure\",\"id\":\"0e32d024-bed4-4007-9467-4a6c7d49eb1c\",\"attributes\":{\"width\":700,\"height\":300,\"margin\":[5,10],\"sizing_mode\":\"fixed\",\"align\":\"start\",\"x_range\":{\"type\":\"object\",\"name\":\"FactorRange\",\"id\":\"b9882218-6185-432f-9d2c-24b7aad8880b\",\"attributes\":{\"tags\":[[[\"date\",\"date\",null]]],\"factors\":[\"1998\",\"2002\",\"2006\",\"2010\",\"2018\"]}},\"y_range\":{\"type\":\"object\",\"name\":\"Range1d\",\"id\":\"76420a2a-a1bf-4cff-8a56-4582b7e65384\",\"attributes\":{\"tags\":[[[\"counts\",\"counts\",null]]],\"reset_start\":0.0,\"reset_end\":1.0}},\"x_scale\":{\"type\":\"object\",\"name\":\"CategoricalScale\",\"id\":\"e83e3686-cec8-4fc8-bfa4-1544a400be11\"},\"y_scale\":{\"type\":\"object\",\"name\":\"LinearScale\",\"id\":\"8f3b3293-29bc-480d-b083-59c17b811f93\"},\"title\":{\"type\":\"object\",\"name\":\"Title\",\"id\":\"f6070c09-5323-4e8a-b72d-71d64c1bdf8c\",\"attributes\":{\"text_color\":\"black\",\"text_font_size\":\"12pt\"}},\"renderers\":[{\"type\":\"object\",\"name\":\"GlyphRenderer\",\"id\":\"5d10a80d-9861-406b-a039-014fb3b3b47d\",\"attributes\":{\"data_source\":{\"type\":\"object\",\"name\":\"ColumnDataSource\",\"id\":\"ee7d74a1-a97d-4cf1-ad83-8d7d53814d39\",\"attributes\":{\"selected\":{\"type\":\"object\",\"name\":\"Selection\",\"id\":\"a91356e9-45ea-4938-b244-91c51821b5d6\",\"attributes\":{\"indices\":[],\"line_indices\":[]}},\"selection_policy\":{\"type\":\"object\",\"name\":\"UnionRenderers\",\"id\":\"cf6bcda3-a368-492c-8ce5-62b70fe87152\"},\"data\":{\"type\":\"map\",\"entries\":[[\"date\",[\"1998\",\"2002\",\"2002\",\"2006\",\"2010\",\"2018\",\"2018\"]],[\"counts\",{\"type\":\"ndarray\",\"array\":{\"type\":\"bytes\",\"data\":\"AQAAAAEAAAABAAAAAQAAAAEAAAABAAAAAQAAAA==\"},\"shape\":[7],\"dtype\":\"int32\",\"order\":\"little\"}],[\"medal_type\",[\"GOLD\",\"BRONZE\",\"SILVER\",\"SILVER\",\"BRONZE\",\"BRONZE\",\"SILVER\"]],[\"color\",[\"GOLD\",\"BRONZE\",\"SILVER\",\"SILVER\",\"BRONZE\",\"BRONZE\",\"SILVER\"]]]}}},\"view\":{\"type\":\"object\",\"name\":\"CDSView\",\"id\":\"19aa3e65-6056-4e16-8327-713c8fa068e9\",\"attributes\":{\"filter\":{\"type\":\"object\",\"name\":\"AllIndices\",\"id\":\"6bab15ef-d45c-40b0-b4b3-d24907046663\"}}},\"glyph\":{\"type\":\"object\",\"name\":\"VBar\",\"id\":\"439cfd72-7ae9-4852-8d11-f1b2d825eaae\",\"attributes\":{\"tags\":[\"apply_ranges\"],\"x\":{\"type\":\"field\",\"field\":\"date\"},\"width\":{\"type\":\"value\",\"value\":0.8},\"top\":{\"type\":\"field\",\"field\":\"counts\"},\"fill_color\":{\"type\":\"field\",\"field\":\"color\",\"transform\":{\"type\":\"object\",\"name\":\"CategoricalColorMapper\",\"id\":\"d0727fd5-10c4-46ed-ae83-64c898f352f8\",\"attributes\":{\"palette\":[\"blue\",\"orange\",\"red\"],\"factors\":[\"GOLD\",\"BRONZE\",\"SILVER\"]}}},\"hatch_color\":{\"type\":\"field\",\"field\":\"color\",\"transform\":{\"id\":\"d0727fd5-10c4-46ed-ae83-64c898f352f8\"}}}},\"selection_glyph\":{\"type\":\"object\",\"name\":\"VBar\",\"id\":\"e71cc8c1-706d-462f-8b51-54072fb460fc\",\"attributes\":{\"tags\":[\"apply_ranges\"],\"x\":{\"type\":\"field\",\"field\":\"date\"},\"width\":{\"type\":\"value\",\"value\":0.8},\"top\":{\"type\":\"field\",\"field\":\"counts\"},\"fill_color\":{\"type\":\"field\",\"field\":\"color\",\"transform\":{\"id\":\"d0727fd5-10c4-46ed-ae83-64c898f352f8\"}},\"hatch_color\":{\"type\":\"field\",\"field\":\"color\",\"transform\":{\"id\":\"d0727fd5-10c4-46ed-ae83-64c898f352f8\"}}}},\"nonselection_glyph\":{\"type\":\"object\",\"name\":\"VBar\",\"id\":\"129ddd29-2a19-4f14-9e2d-898b5c9e9844\",\"attributes\":{\"tags\":[\"apply_ranges\"],\"x\":{\"type\":\"field\",\"field\":\"date\"},\"width\":{\"type\":\"value\",\"value\":0.8},\"top\":{\"type\":\"field\",\"field\":\"counts\"},\"line_alpha\":{\"type\":\"value\",\"value\":0.1},\"fill_color\":{\"type\":\"field\",\"field\":\"color\",\"transform\":{\"id\":\"d0727fd5-10c4-46ed-ae83-64c898f352f8\"}},\"fill_alpha\":{\"type\":\"value\",\"value\":0.1},\"hatch_color\":{\"type\":\"field\",\"field\":\"color\",\"transform\":{\"id\":\"d0727fd5-10c4-46ed-ae83-64c898f352f8\"}},\"hatch_alpha\":{\"type\":\"value\",\"value\":0.1}}},\"hover_glyph\":{\"type\":\"object\",\"name\":\"VBar\",\"id\":\"f1831cc0-bf71-4a01-8362-c64825e3a9d3\",\"attributes\":{\"tags\":[\"apply_ranges\"],\"x\":{\"type\":\"field\",\"field\":\"date\"},\"width\":{\"type\":\"value\",\"value\":0.8},\"top\":{\"type\":\"field\",\"field\":\"counts\"},\"fill_color\":{\"type\":\"field\",\"field\":\"color\",\"transform\":{\"id\":\"d0727fd5-10c4-46ed-ae83-64c898f352f8\"}},\"hatch_color\":{\"type\":\"field\",\"field\":\"color\",\"transform\":{\"id\":\"d0727fd5-10c4-46ed-ae83-64c898f352f8\"}}}},\"muted_glyph\":{\"type\":\"object\",\"name\":\"VBar\",\"id\":\"110501f9-87ea-4d56-892c-661cd8a1dea1\",\"attributes\":{\"tags\":[\"apply_ranges\"],\"x\":{\"type\":\"field\",\"field\":\"date\"},\"width\":{\"type\":\"value\",\"value\":0.8},\"top\":{\"type\":\"field\",\"field\":\"counts\"},\"line_alpha\":{\"type\":\"value\",\"value\":0.2},\"fill_color\":{\"type\":\"field\",\"field\":\"color\",\"transform\":{\"id\":\"d0727fd5-10c4-46ed-ae83-64c898f352f8\"}},\"fill_alpha\":{\"type\":\"value\",\"value\":0.2},\"hatch_color\":{\"type\":\"field\",\"field\":\"color\",\"transform\":{\"id\":\"d0727fd5-10c4-46ed-ae83-64c898f352f8\"}},\"hatch_alpha\":{\"type\":\"value\",\"value\":0.2}}}}}],\"toolbar\":{\"type\":\"object\",\"name\":\"Toolbar\",\"id\":\"68f7cb70-495a-40b9-ab95-2c5b9d8490af\",\"attributes\":{\"tools\":[{\"type\":\"object\",\"name\":\"HoverTool\",\"id\":\"44ae8e0d-b9e7-4822-b66e-700f5e7a0191\",\"attributes\":{\"tags\":[\"hv_created\"],\"renderers\":[{\"id\":\"5d10a80d-9861-406b-a039-014fb3b3b47d\"}],\"tooltips\":[[\"date\",\"@{date}\"],[\"counts\",\"@{counts}\"],[\"medal_type\",\"@{medal_type}\"]]}},{\"type\":\"object\",\"name\":\"SaveTool\",\"id\":\"5e469fa2-4a4d-4baf-b3ea-792be9e108e9\"},{\"type\":\"object\",\"name\":\"PanTool\",\"id\":\"6650a4ab-7e70-405b-8ae1-5341ef8bbd9c\"},{\"type\":\"object\",\"name\":\"WheelZoomTool\",\"id\":\"7cc58a91-946d-4629-87f6-f02ecde023ff\"},{\"type\":\"object\",\"name\":\"BoxZoomTool\",\"id\":\"d1df5729-6a60-4532-b71f-b59e2c36fcb8\",\"attributes\":{\"overlay\":{\"type\":\"object\",\"name\":\"BoxAnnotation\",\"id\":\"56e4e836-75ca-4ba7-8004-96fdf65a8861\",\"attributes\":{\"syncable\":false,\"level\":\"overlay\",\"visible\":false,\"left_units\":\"canvas\",\"right_units\":\"canvas\",\"bottom_units\":\"canvas\",\"top_units\":\"canvas\",\"line_color\":\"black\",\"line_alpha\":1.0,\"line_width\":2,\"line_dash\":[4,4],\"fill_color\":\"lightgrey\",\"fill_alpha\":0.5}}}},{\"type\":\"object\",\"name\":\"ResetTool\",\"id\":\"9c72112c-8cb7-4397-a125-0def53aae907\"}],\"active_drag\":{\"id\":\"6650a4ab-7e70-405b-8ae1-5341ef8bbd9c\"},\"active_scroll\":{\"id\":\"7cc58a91-946d-4629-87f6-f02ecde023ff\"}}},\"left\":[{\"type\":\"object\",\"name\":\"LinearAxis\",\"id\":\"a1fc35ca-a7fd-4dff-a314-bb1ead40848b\",\"attributes\":{\"ticker\":{\"type\":\"object\",\"name\":\"BasicTicker\",\"id\":\"b241f084-e799-4c03-9a90-69ab7f3e9903\",\"attributes\":{\"mantissas\":[1,2,5]}},\"formatter\":{\"type\":\"object\",\"name\":\"BasicTickFormatter\",\"id\":\"3ecec782-a82a-4497-b72a-20dc328d59c0\"},\"axis_label\":\"counts\",\"major_label_policy\":{\"type\":\"object\",\"name\":\"AllLabels\",\"id\":\"fc214753-36f1-404d-8c20-eb66a2de3551\"}}}],\"right\":[{\"type\":\"object\",\"name\":\"Legend\",\"id\":\"a188e5aa-920b-49cb-91f7-2fa359862f1c\",\"attributes\":{\"location\":[0,0],\"items\":[{\"type\":\"object\",\"name\":\"LegendItem\",\"id\":\"5597a07c-f7de-4873-948c-714069d04b38\",\"attributes\":{\"label\":{\"type\":\"field\",\"field\":\"color\"},\"renderers\":[{\"id\":\"5d10a80d-9861-406b-a039-014fb3b3b47d\"}]}}]}}],\"below\":[{\"type\":\"object\",\"name\":\"CategoricalAxis\",\"id\":\"9a6e3e22-7c44-443f-b090-7e98b76fdfc6\",\"attributes\":{\"ticker\":{\"type\":\"object\",\"name\":\"CategoricalTicker\",\"id\":\"5792d6d6-d447-448d-b9e5-7a05b26ccbd3\"},\"formatter\":{\"type\":\"object\",\"name\":\"CategoricalTickFormatter\",\"id\":\"2d0abe16-7b23-4b49-8fee-3c0fc8ac44f8\"},\"axis_label\":\"date\",\"major_label_policy\":{\"type\":\"object\",\"name\":\"AllLabels\",\"id\":\"c7a8546f-4bb8-46cb-8c7f-50ba3a01998a\"}}}],\"center\":[{\"type\":\"object\",\"name\":\"Grid\",\"id\":\"5d0c7f1b-c5bc-419d-9668-635059ba8b6d\",\"attributes\":{\"axis\":{\"id\":\"9a6e3e22-7c44-443f-b090-7e98b76fdfc6\"},\"grid_line_color\":null}},{\"type\":\"object\",\"name\":\"Grid\",\"id\":\"46ee7344-5b9e-4762-9309-786947e2e865\",\"attributes\":{\"dimension\":1,\"axis\":{\"id\":\"a1fc35ca-a7fd-4dff-a314-bb1ead40848b\"},\"grid_line_color\":null}},{\"id\":\"a188e5aa-920b-49cb-91f7-2fa359862f1c\"}],\"min_border_top\":10,\"min_border_bottom\":10,\"min_border_left\":10,\"min_border_right\":10,\"output_backend\":\"webgl\"}}]}}]}},{\"type\":\"object\",\"name\":\"panel.models.comm_manager.CommManager\",\"id\":\"f771e856-f041-4731-90a6-4fdd2088479d\",\"attributes\":{\"plot_id\":\"49a61678-873d-4098-a3ce-dab5a2b09325\",\"comm_id\":\"355a5c5e818046d2a27ec7e36dbfcd82\",\"client_comm_id\":\"93909fdd5092496a965717b63ee874b3\"}}],\"defs\":[{\"type\":\"model\",\"name\":\"ReactiveHTML1\"},{\"type\":\"model\",\"name\":\"FlexBox1\",\"properties\":[{\"name\":\"align_content\",\"kind\":\"Any\",\"default\":\"flex-start\"},{\"name\":\"align_items\",\"kind\":\"Any\",\"default\":\"flex-start\"},{\"name\":\"flex_direction\",\"kind\":\"Any\",\"default\":\"row\"},{\"name\":\"flex_wrap\",\"kind\":\"Any\",\"default\":\"wrap\"},{\"name\":\"justify_content\",\"kind\":\"Any\",\"default\":\"flex-start\"}]},{\"type\":\"model\",\"name\":\"FloatPanel1\",\"properties\":[{\"name\":\"config\",\"kind\":\"Any\",\"default\":{\"type\":\"map\"}},{\"name\":\"contained\",\"kind\":\"Any\",\"default\":true},{\"name\":\"position\",\"kind\":\"Any\",\"default\":\"right-top\"},{\"name\":\"offsetx\",\"kind\":\"Any\",\"default\":null},{\"name\":\"offsety\",\"kind\":\"Any\",\"default\":null},{\"name\":\"theme\",\"kind\":\"Any\",\"default\":\"primary\"},{\"name\":\"status\",\"kind\":\"Any\",\"default\":\"normalized\"}]},{\"type\":\"model\",\"name\":\"GridStack1\",\"properties\":[{\"name\":\"mode\",\"kind\":\"Any\",\"default\":\"warn\"},{\"name\":\"ncols\",\"kind\":\"Any\",\"default\":null},{\"name\":\"nrows\",\"kind\":\"Any\",\"default\":null},{\"name\":\"allow_resize\",\"kind\":\"Any\",\"default\":true},{\"name\":\"allow_drag\",\"kind\":\"Any\",\"default\":true},{\"name\":\"state\",\"kind\":\"Any\",\"default\":[]}]},{\"type\":\"model\",\"name\":\"drag1\",\"properties\":[{\"name\":\"slider_width\",\"kind\":\"Any\",\"default\":5},{\"name\":\"slider_color\",\"kind\":\"Any\",\"default\":\"black\"},{\"name\":\"value\",\"kind\":\"Any\",\"default\":50}]},{\"type\":\"model\",\"name\":\"click1\",\"properties\":[{\"name\":\"terminal_output\",\"kind\":\"Any\",\"default\":\"\"},{\"name\":\"debug_name\",\"kind\":\"Any\",\"default\":\"\"},{\"name\":\"clears\",\"kind\":\"Any\",\"default\":0}]},{\"type\":\"model\",\"name\":\"FastWrapper1\",\"properties\":[{\"name\":\"object\",\"kind\":\"Any\",\"default\":null},{\"name\":\"style\",\"kind\":\"Any\",\"default\":null}]},{\"type\":\"model\",\"name\":\"NotificationAreaBase1\",\"properties\":[{\"name\":\"position\",\"kind\":\"Any\",\"default\":\"bottom-right\"},{\"name\":\"_clear\",\"kind\":\"Any\",\"default\":0}]},{\"type\":\"model\",\"name\":\"NotificationArea1\",\"properties\":[{\"name\":\"notifications\",\"kind\":\"Any\",\"default\":[]},{\"name\":\"position\",\"kind\":\"Any\",\"default\":\"bottom-right\"},{\"name\":\"_clear\",\"kind\":\"Any\",\"default\":0},{\"name\":\"types\",\"kind\":\"Any\",\"default\":[{\"type\":\"map\",\"entries\":[[\"type\",\"warning\"],[\"background\",\"#ffc107\"],[\"icon\",{\"type\":\"map\",\"entries\":[[\"className\",\"fas fa-exclamation-triangle\"],[\"tagName\",\"i\"],[\"color\",\"white\"]]}]]},{\"type\":\"map\",\"entries\":[[\"type\",\"info\"],[\"background\",\"#007bff\"],[\"icon\",{\"type\":\"map\",\"entries\":[[\"className\",\"fas fa-info-circle\"],[\"tagName\",\"i\"],[\"color\",\"white\"]]}]]}]}]},{\"type\":\"model\",\"name\":\"Notification\",\"properties\":[{\"name\":\"background\",\"kind\":\"Any\",\"default\":null},{\"name\":\"duration\",\"kind\":\"Any\",\"default\":3000},{\"name\":\"icon\",\"kind\":\"Any\",\"default\":null},{\"name\":\"message\",\"kind\":\"Any\",\"default\":\"\"},{\"name\":\"notification_type\",\"kind\":\"Any\",\"default\":null},{\"name\":\"_destroyed\",\"kind\":\"Any\",\"default\":false}]},{\"type\":\"model\",\"name\":\"TemplateActions1\",\"properties\":[{\"name\":\"open_modal\",\"kind\":\"Any\",\"default\":0},{\"name\":\"close_modal\",\"kind\":\"Any\",\"default\":0}]},{\"type\":\"model\",\"name\":\"BootstrapTemplateActions1\",\"properties\":[{\"name\":\"open_modal\",\"kind\":\"Any\",\"default\":0},{\"name\":\"close_modal\",\"kind\":\"Any\",\"default\":0}]},{\"type\":\"model\",\"name\":\"MaterialTemplateActions1\",\"properties\":[{\"name\":\"open_modal\",\"kind\":\"Any\",\"default\":0},{\"name\":\"close_modal\",\"kind\":\"Any\",\"default\":0}]}]}};\n",
       "  var render_items = [{\"docid\":\"2aaf0935-234a-474f-aa64-5a6d1675bccc\",\"roots\":{\"49a61678-873d-4098-a3ce-dab5a2b09325\":\"ee7411c7-3ea8-429a-857e-11166d09d7f8\"},\"root_ids\":[\"49a61678-873d-4098-a3ce-dab5a2b09325\"]}];\n",
       "  var docs = Object.values(docs_json)\n",
       "  if (!docs) {\n",
       "    return\n",
       "  }\n",
       "  const py_version = docs[0].version.replace('rc', '-rc.').replace('.dev', '-dev.')\n",
       "  const is_dev = py_version.indexOf(\"+\") !== -1 || py_version.indexOf(\"-\") !== -1\n",
       "  function embed_document(root) {\n",
       "    var Bokeh = get_bokeh(root)\n",
       "    Bokeh.embed.embed_items_notebook(docs_json, render_items);\n",
       "    for (const render_item of render_items) {\n",
       "      for (const root_id of render_item.root_ids) {\n",
       "\tconst id_el = document.getElementById(root_id)\n",
       "\tif (id_el.children.length && (id_el.children[0].className === 'bk-root')) {\n",
       "\t  const root_el = id_el.children[0]\n",
       "\t  root_el.id = root_el.id + '-rendered'\n",
       "\t}\n",
       "      }\n",
       "    }\n",
       "  }\n",
       "  function get_bokeh(root) {\n",
       "    if (root.Bokeh === undefined) {\n",
       "      return null\n",
       "    } else if (root.Bokeh.version !== py_version && !is_dev) {\n",
       "      if (root.Bokeh.versions === undefined || !root.Bokeh.versions.has(py_version)) {\n",
       "\treturn null\n",
       "      }\n",
       "      return root.Bokeh.versions.get(py_version);\n",
       "    } else if (root.Bokeh.version === py_version) {\n",
       "      return root.Bokeh\n",
       "    }\n",
       "    return null\n",
       "  }\n",
       "  function is_loaded(root) {\n",
       "    var Bokeh = get_bokeh(root)\n",
       "    return (Bokeh != null && Bokeh.Panel !== undefined && ( root['Tabulator'] !== undefined) && ( root['Tabulator'] !== undefined) && ( root['Tabulator'] !== undefined))\n",
       "  }\n",
       "  if (is_loaded(root)) {\n",
       "    embed_document(root);\n",
       "  } else {\n",
       "    var attempts = 0;\n",
       "    var timer = setInterval(function(root) {\n",
       "      if (is_loaded(root)) {\n",
       "        clearInterval(timer);\n",
       "        embed_document(root);\n",
       "      } else if (document.readyState == \"complete\") {\n",
       "        attempts++;\n",
       "        if (attempts > 200) {\n",
       "          clearInterval(timer);\n",
       "\t  var Bokeh = get_bokeh(root)\n",
       "\t  if (Bokeh == null || Bokeh.Panel == null) {\n",
       "            console.warn(\"Panel: ERROR: Unable to run Panel code because Bokeh or Panel library is missing\");\n",
       "\t  } else {\n",
       "\t    console.warn(\"Panel: WARNING: Attempting to render but not all required libraries could be resolved.\")\n",
       "\t    embed_document(root)\n",
       "\t  }\n",
       "        }\n",
       "      }\n",
       "    }, 25, root)\n",
       "  }\n",
       "})(window);</script>"
      ],
      "text/plain": [
       "<hvplot.interactive.Interactive at 0x2075e5afa90>"
      ]
     },
     "execution_count": 295,
     "metadata": {
      "application/vnd.holoviews_exec.v0+json": {
       "id": "49a61678-873d-4098-a3ce-dab5a2b09325"
      }
     },
     "output_type": "execute_result"
    }
   ],
   "source": [
    "\n",
    "\n",
    "#country = list(df.country_name.unique())\n",
    "\n",
    "#country_widget = pn.widgets.Select(name=\"country_name\", options=country)\n",
    "discipline = list(df.discipline_title.unique())\n",
    "discipline_widget = pn.widgets.Select(name=\"discipline_title\", options=discipline)\n",
    "#idf = worldmapx.interactive()\n",
    "idf = idf[(idf[\"country_name\"] == country_widget) & (idf[\"discipline_title\"] == discipline_widget)]\n",
    "#idf =(idf[\"discipline_title\"] == discipline_widget)\n",
    "idf.head()\n",
    "idf.hvplot(kind=\"bar\", x=\"date\", y=\"counts\", color = \"medal_type\", cmap=['blue', 'orange', 'red'])\n"
   ]
  },
  {
   "cell_type": "code",
   "execution_count": null,
   "id": "5b7cc77e-a7e8-4a84-bce5-1ed18e09cad8",
   "metadata": {},
   "outputs": [],
   "source": []
  }
 ],
 "metadata": {
  "kernelspec": {
   "display_name": "Python 3 (ipykernel)",
   "language": "python",
   "name": "python3"
  },
  "language_info": {
   "codemirror_mode": {
    "name": "ipython",
    "version": 3
   },
   "file_extension": ".py",
   "mimetype": "text/x-python",
   "name": "python",
   "nbconvert_exporter": "python",
   "pygments_lexer": "ipython3",
   "version": "3.11.0"
  },
  "widgets": {
   "application/vnd.jupyter.widget-state+json": {
    "state": {},
    "version_major": 2,
    "version_minor": 0
   }
  }
 },
 "nbformat": 4,
 "nbformat_minor": 5
}
