{
 "cells": [
  {
   "cell_type": "code",
   "execution_count": 5,
   "id": "db367a88-8345-4289-9614-84324dc2ebb1",
   "metadata": {},
   "outputs": [
    {
     "name": "stdout",
     "output_type": "stream",
     "text": [
      "Collecting xarray\n",
      "  Obtaining dependency information for xarray from https://files.pythonhosted.org/packages/cc/21/c3a9d3017c131cea3c2967957b05448ffc81cafced239796bbbdc98073e4/xarray-2023.8.0-py3-none-any.whl.metadata\n",
      "  Downloading xarray-2023.8.0-py3-none-any.whl.metadata (6.0 kB)\n",
      "Requirement already satisfied: numpy>=1.21 in c:\\users\\kaja\\desktop\\infoviz\\lib\\site-packages (from xarray) (1.25.1)\n",
      "Requirement already satisfied: pandas>=1.4 in c:\\users\\kaja\\desktop\\infoviz\\lib\\site-packages (from xarray) (2.0.3)\n",
      "Requirement already satisfied: packaging>=21.3 in c:\\users\\kaja\\desktop\\infoviz\\lib\\site-packages (from xarray) (23.1)\n",
      "Requirement already satisfied: python-dateutil>=2.8.2 in c:\\users\\kaja\\desktop\\infoviz\\lib\\site-packages (from pandas>=1.4->xarray) (2.8.2)\n",
      "Requirement already satisfied: pytz>=2020.1 in c:\\users\\kaja\\desktop\\infoviz\\lib\\site-packages (from pandas>=1.4->xarray) (2023.3)\n",
      "Requirement already satisfied: tzdata>=2022.1 in c:\\users\\kaja\\desktop\\infoviz\\lib\\site-packages (from pandas>=1.4->xarray) (2023.3)\n",
      "Requirement already satisfied: six>=1.5 in c:\\users\\kaja\\desktop\\infoviz\\lib\\site-packages (from python-dateutil>=2.8.2->pandas>=1.4->xarray) (1.16.0)\n",
      "Downloading xarray-2023.8.0-py3-none-any.whl (1.0 MB)\n",
      "   ---------------------------------------- 0.0/1.0 MB ? eta -:--:--\n",
      "   --------- ------------------------------ 0.2/1.0 MB 4.8 MB/s eta 0:00:01\n",
      "   --------------------------- ------------ 0.7/1.0 MB 7.3 MB/s eta 0:00:01\n",
      "   ---------------------------------------- 1.0/1.0 MB 8.1 MB/s eta 0:00:00\n",
      "Installing collected packages: xarray\n",
      "Successfully installed xarray-2023.8.0\n"
     ]
    }
   ],
   "source": [
    "import sys\n",
    "!{sys.executable} -m pip install xarray"
   ]
  },
  {
   "cell_type": "code",
   "execution_count": null,
   "id": "bf2e079c-98fb-4a01-bac6-6bee8cbe81c6",
   "metadata": {},
   "outputs": [],
   "source": []
  },
  {
   "cell_type": "code",
   "execution_count": null,
   "id": "7533000d-e185-46d9-8da9-9704eef32b8c",
   "metadata": {},
   "outputs": [],
   "source": []
  }
 ],
 "metadata": {
  "kernelspec": {
   "display_name": "Python 3 (ipykernel)",
   "language": "python",
   "name": "python3"
  },
  "language_info": {
   "codemirror_mode": {
    "name": "ipython",
    "version": 3
   },
   "file_extension": ".py",
   "mimetype": "text/x-python",
   "name": "python",
   "nbconvert_exporter": "python",
   "pygments_lexer": "ipython3",
   "version": "3.11.0"
  },
  "widgets": {
   "application/vnd.jupyter.widget-state+json": {
    "state": {},
    "version_major": 2,
    "version_minor": 0
   }
  }
 },
 "nbformat": 4,
 "nbformat_minor": 5
}
