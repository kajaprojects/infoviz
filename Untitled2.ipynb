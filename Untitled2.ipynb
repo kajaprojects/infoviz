{
 "cells": [
  {
   "cell_type": "code",
   "execution_count": 1,
   "id": "db367a88-8345-4289-9614-84324dc2ebb1",
   "metadata": {},
   "outputs": [
    {
     "name": "stdout",
     "output_type": "stream",
     "text": [
      "Collecting dash\n",
      "  Downloading dash-2.12.1-py3-none-any.whl (10.4 MB)\n",
      "     --------------------------------------- 10.4/10.4 MB 11.3 MB/s eta 0:00:00\n",
      "Collecting Flask<2.3.0,>=1.0.4\n",
      "  Downloading Flask-2.2.5-py3-none-any.whl (101 kB)\n",
      "     -------------------------------------- 101.8/101.8 kB 6.1 MB/s eta 0:00:00\n",
      "Collecting Werkzeug<2.3.0\n",
      "  Downloading Werkzeug-2.2.3-py3-none-any.whl (233 kB)\n",
      "     ------------------------------------- 233.6/233.6 kB 14.9 MB/s eta 0:00:00\n",
      "Requirement already satisfied: plotly>=5.0.0 in c:\\users\\kaja\\desktop\\infoviz\\lib\\site-packages (from dash) (5.15.0)\n",
      "Collecting dash-html-components==2.0.0\n",
      "  Downloading dash_html_components-2.0.0-py3-none-any.whl (4.1 kB)\n",
      "Collecting dash-core-components==2.0.0\n",
      "  Downloading dash_core_components-2.0.0-py3-none-any.whl (3.8 kB)\n",
      "Collecting dash-table==5.0.0\n",
      "  Downloading dash_table-5.0.0-py3-none-any.whl (3.9 kB)\n",
      "Requirement already satisfied: typing-extensions>=4.1.1 in c:\\users\\kaja\\desktop\\infoviz\\lib\\site-packages (from dash) (4.7.1)\n",
      "Requirement already satisfied: requests in c:\\users\\kaja\\desktop\\infoviz\\lib\\site-packages (from dash) (2.31.0)\n",
      "Collecting retrying\n",
      "  Downloading retrying-1.3.4-py3-none-any.whl (11 kB)\n",
      "Collecting ansi2html\n",
      "  Downloading ansi2html-1.8.0-py3-none-any.whl (16 kB)\n",
      "Requirement already satisfied: nest-asyncio in c:\\users\\kaja\\desktop\\infoviz\\lib\\site-packages (from dash) (1.5.6)\n",
      "Requirement already satisfied: setuptools in c:\\users\\kaja\\desktop\\infoviz\\lib\\site-packages (from dash) (65.5.0)\n",
      "Requirement already satisfied: Jinja2>=3.0 in c:\\users\\kaja\\desktop\\infoviz\\lib\\site-packages (from Flask<2.3.0,>=1.0.4->dash) (3.1.2)\n",
      "Collecting itsdangerous>=2.0\n",
      "  Downloading itsdangerous-2.1.2-py3-none-any.whl (15 kB)\n",
      "Collecting click>=8.0\n",
      "  Downloading click-8.1.7-py3-none-any.whl (97 kB)\n",
      "     ---------------------------------------- 97.9/97.9 kB ? eta 0:00:00\n",
      "Requirement already satisfied: tenacity>=6.2.0 in c:\\users\\kaja\\desktop\\infoviz\\lib\\site-packages (from plotly>=5.0.0->dash) (8.2.2)\n",
      "Requirement already satisfied: packaging in c:\\users\\kaja\\desktop\\infoviz\\lib\\site-packages (from plotly>=5.0.0->dash) (23.1)\n",
      "Requirement already satisfied: MarkupSafe>=2.1.1 in c:\\users\\kaja\\desktop\\infoviz\\lib\\site-packages (from Werkzeug<2.3.0->dash) (2.1.3)\n",
      "Requirement already satisfied: charset-normalizer<4,>=2 in c:\\users\\kaja\\desktop\\infoviz\\lib\\site-packages (from requests->dash) (3.2.0)\n",
      "Requirement already satisfied: idna<4,>=2.5 in c:\\users\\kaja\\desktop\\infoviz\\lib\\site-packages (from requests->dash) (3.4)\n",
      "Requirement already satisfied: urllib3<3,>=1.21.1 in c:\\users\\kaja\\desktop\\infoviz\\lib\\site-packages (from requests->dash) (2.0.4)\n",
      "Requirement already satisfied: certifi>=2017.4.17 in c:\\users\\kaja\\desktop\\infoviz\\lib\\site-packages (from requests->dash) (2023.5.7)\n",
      "Requirement already satisfied: six>=1.7.0 in c:\\users\\kaja\\desktop\\infoviz\\lib\\site-packages (from retrying->dash) (1.16.0)\n",
      "Requirement already satisfied: colorama in c:\\users\\kaja\\desktop\\infoviz\\lib\\site-packages (from click>=8.0->Flask<2.3.0,>=1.0.4->dash) (0.4.6)\n",
      "Installing collected packages: dash-table, dash-html-components, dash-core-components, Werkzeug, retrying, itsdangerous, click, ansi2html, Flask, dash\n",
      "Successfully installed Flask-2.2.5 Werkzeug-2.2.3 ansi2html-1.8.0 click-8.1.7 dash-2.12.1 dash-core-components-2.0.0 dash-html-components-2.0.0 dash-table-5.0.0 itsdangerous-2.1.2 retrying-1.3.4\n"
     ]
    },
    {
     "name": "stderr",
     "output_type": "stream",
     "text": [
      "\n",
      "[notice] A new release of pip available: 22.3 -> 23.2.1\n",
      "[notice] To update, run: python.exe -m pip install --upgrade pip\n"
     ]
    }
   ],
   "source": [
    "import sys\n",
    "!{sys.executable} -m pip install dash\n"
   ]
  },
  {
   "cell_type": "code",
   "execution_count": null,
   "id": "7533000d-e185-46d9-8da9-9704eef32b8c",
   "metadata": {},
   "outputs": [],
   "source": []
  }
 ],
 "metadata": {
  "kernelspec": {
   "display_name": "Python 3 (ipykernel)",
   "language": "python",
   "name": "python3"
  },
  "language_info": {
   "codemirror_mode": {
    "name": "ipython",
    "version": 3
   },
   "file_extension": ".py",
   "mimetype": "text/x-python",
   "name": "python",
   "nbconvert_exporter": "python",
   "pygments_lexer": "ipython3",
   "version": "3.11.0"
  }
 },
 "nbformat": 4,
 "nbformat_minor": 5
}
